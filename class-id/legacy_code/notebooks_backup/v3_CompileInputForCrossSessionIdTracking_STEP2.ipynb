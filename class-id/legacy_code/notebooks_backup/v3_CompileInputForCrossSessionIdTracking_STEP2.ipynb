{
 "cells": [
  {
   "cell_type": "code",
   "execution_count": null,
   "id": "13f1bf94-25d4-4ed1-bddd-bc3309763692",
   "metadata": {},
   "outputs": [],
   "source": [
    "import numpy as np\n",
    "import pandas as pd\n",
    "import scipy.stats\n",
    "\n",
    "pd.options.mode.chained_assignment = None\n",
    "from matplotlib import pyplot as plt, rcParams\n",
    "# import cv2\n",
    "import seaborn as sns\n",
    "\n",
    "sns.set(style=\"white\", context=\"paper\")\n",
    "from cycler import cycler\n",
    "import os, sys\n",
    "import glob\n",
    "from datetime import datetime, timedelta\n",
    "from itertools import combinations, product\n",
    "import base64\n",
    "from PIL import Image\n",
    "from io import BytesIO as _BytesIO\n",
    "import requests\n",
    "import json\n",
    "import pickle\n",
    "from datetime import datetime\n",
    "from IPython.display import display, Markdown, Latex\n",
    "from sklearn.metrics import *\n",
    "import collections\n",
    "from copy import deepcopy\n",
    "import traceback\n",
    "from sympy import Point, Polygon\n",
    "from decorators import *\n",
    "from smartprint import smartprint as sprint\n",
    "from scipy.spatial.distance import cdist\n",
    "from sklearn.cluster import DBSCAN\n",
    "# import plotly\n",
    "# from pandas_profiling import ProfileReport\n",
    "\n",
    "pd.options.display.max_columns = None\n",
    "def printm(s): return display(Markdown(s))\n",
    "    \n",
    "SERVER_CACHE_DIR = '/mnt/ci-nas-cache/edulyzeV2/cache_compute_4/fixed_face'\n",
    "os.makedirs(SERVER_CACHE_DIR,exist_ok=True)\n",
    "\n",
    "track_analysis_meta_cache = f'{SERVER_CACHE_DIR}/analysis_tracking/meta_info'\n",
    "base_dir = '/mnt/ci-nas-cache/edulyzeV2/pose_face_gaze_emb_fixed_face/'\n",
    "\n",
    "track_analysis_session_data = f'{SERVER_CACHE_DIR}/analysis_tracking/session_tracking_info'\n",
    "os.makedirs(track_analysis_session_data,exist_ok=True)\n",
    "\n",
    "postprocessed_id_map_data_dir = f'{SERVER_CACHE_DIR}/analysis_tracking/processed_id_maps'\n",
    "os.makedirs(postprocessed_id_map_data_dir, exist_ok=True)\n",
    "\n",
    "emb_analysis_session_data = f'{SERVER_CACHE_DIR}/analysis_emb/session_emb_info_new'\n",
    "os.makedirs(emb_analysis_session_data,exist_ok=True)\n",
    "\n",
    "embmatched_id_raw_data_dir = f'{SERVER_CACHE_DIR}/analysis_emb/embmatched_id_raw'\n",
    "os.makedirs(embmatched_id_raw_data_dir,exist_ok=True)\n",
    "\n",
    "embmatched_id_map_data_dir = f'{SERVER_CACHE_DIR}/analysis_tracking/embmatched_id_maps_new'\n",
    "os.makedirs(embmatched_id_map_data_dir, exist_ok=True)\n",
    "\n",
    "cross_session_input_data_dir = f'{SERVER_CACHE_DIR}/analysis_emb/cross_session_input'\n",
    "os.makedirs(cross_session_input_data_dir, exist_ok=True)\n",
    "\n",
    "id_viz_cache_root = f'{SERVER_CACHE_DIR}/analysis_emb/session_matching_info'\n",
    "os.makedirs(id_viz_cache_root, exist_ok=True)\n"
   ]
  },
  {
   "cell_type": "markdown",
   "id": "75185159-ce0e-439f-b41d-fba37829e865",
   "metadata": {},
   "source": [
    "## Get frame file data for all sessions"
   ]
  },
  {
   "cell_type": "code",
   "execution_count": null,
   "id": "61657d24-cddc-4722-bbde-b99313f4c2e6",
   "metadata": {
    "scrolled": true
   },
   "outputs": [
    {
     "data": {
      "text/plain": [
       "dict_keys(['05748A', '05410B', '17214C', '17214B', '05681A', '24352A', '24352C', '86375A'])"
      ]
     },
     "execution_count": 5,
     "metadata": {},
     "output_type": "execute_result"
    }
   ],
   "source": [
    "\n",
    "frame_file_data = {}\n",
    "for course_idx, course_dir in enumerate(glob.glob(f\"{base_dir}/*\")):\n",
    "    course_name = course_dir.split(\"/\")[-1]\n",
    "    course_cache_file = f\"{track_analysis_meta_cache}/{course_name}\"\n",
    "    if os.path.exists(course_cache_file):\n",
    "        frame_file_data[course_name] = pickle.load(open(course_cache_file,\"rb\"))\n",
    "        continue\n",
    "    frame_file_data[course_name]={}\n",
    "        \n",
    "    for session_idx, session_dir in enumerate(glob.glob(f\"{course_dir}/*\")):\n",
    "        session_name = session_dir.split(\"/\")[-1]\n",
    "        frame_file_data[course_name][session_name] = {}\n",
    "        frame_files = glob.glob(f\"{session_dir}/*\")\n",
    "        frame_file_names = [xr.split(\"/\")[-1] for xr in frame_files]\n",
    "        if 'end.pb' in frame_file_names:\n",
    "            frame_file_data[course_name][session_name]['is_completed']=True\n",
    "        else:\n",
    "            frame_file_data[course_name][session_name]['is_completed']=False            \n",
    "        frame_ids = [int(xr.split(\".\")[0]) for xr in frame_file_names if not (xr=='end.pb')]\n",
    "        frame_file_data[course_name][session_name]['frame_ids'] = sorted(frame_ids)\n",
    "        frame_file_data[course_name][session_name]['dir_location'] = session_dir\n",
    "        print(f\"Got metadata for course: {course_idx}-{course_name}, session:{session_idx}-{session_name}\")\n",
    "    pickle.dump(frame_file_data[course_name],open(course_cache_file,\"wb\")) \n",
    "        \n",
    "frame_file_data.keys()\n"
   ]
  },
  {
   "cell_type": "markdown",
   "id": "b8c7649b-de86-4207-8ebb-02c9bd2065e3",
   "metadata": {},
   "source": [
    "# Build final loop for single session compilation"
   ]
  },
  {
   "cell_type": "code",
   "execution_count": null,
   "id": "58cf998f-dc47-447f-b1a8-14d55d69057c",
   "metadata": {},
   "outputs": [],
   "source": [
    "session_filter_list = [\n",
    " #    'classinsight-cmu_05681A_ghc_4301_201905011630',\n",
    " # 'classinsight-cmu_05681A_ghc_4301_201904171630',\n",
    " # 'classinsight-cmu_05681A_ghc_4301_201902201630',\n",
    " # 'classinsight-cmu_05681A_ghc_4301_201904101630',\n",
    " # 'classinsight-cmu_05681A_ghc_4301_201901231630',\n",
    " # 'classinsight-cmu_05418A_ghc_4102_201902251200',\n",
    " # 'classinsight-cmu_05418A_ghc_4102_201904081200',\n",
    " # 'classinsight-cmu_05418A_ghc_4102_201905011200',\n",
    " # 'classinsight-cmu_05418A_ghc_4102_201904291200',\n",
    " # 'classinsight-cmu_05418A_ghc_4102_201904011200',\n",
    " 'classinsight-cmu_05748A_ghc_4101_201902141630',\n",
    " 'classinsight-cmu_05748A_ghc_4101_201904021630',\n",
    " 'classinsight-cmu_05748A_ghc_4101_201902051630',\n",
    " 'classinsight-cmu_05748A_ghc_4101_201902281630',\n",
    " 'classinsight-cmu_05748A_ghc_4101_201903071630',\n",
    " # 'classinsight-cmu_21127J_ghc_4102_201904230930',\n",
    " # 'classinsight-cmu_21127J_ghc_4102_201903260930',\n",
    " # 'classinsight-cmu_21127J_ghc_4102_201904160930',\n",
    " # 'classinsight-cmu_21127J_ghc_4102_201904300930',\n",
    " # 'classinsight-cmu_21127J_ghc_4102_201903190930',\n",
    " # 'classinsight-cmu_05410A_ghc_4301_201904151500',\n",
    " # 'classinsight-cmu_05410A_ghc_4301_201902251500',\n",
    " # 'classinsight-cmu_05410A_ghc_4301_201904081500',\n",
    " # 'classinsight-cmu_05410A_ghc_4301_201904221500',\n",
    " # 'classinsight-cmu_05410A_ghc_4301_201902181500',\n",
    "                       \n",
    " 'classinsight-cmu_17214B_ph_a21_201902271030',\n",
    " 'classinsight-cmu_17214B_ph_a21_201903061030',\n",
    " 'classinsight-cmu_17214B_ph_a21_201904031030',\n",
    " 'classinsight-cmu_17214B_ph_a21_201904101030',\n",
    " 'classinsight-cmu_17214B_ph_a21_201904241030',\n",
    " 'classinsight-cmu_17214C_ph_225b_201903201130',\n",
    " 'classinsight-cmu_17214C_ph_225b_201904101130',\n",
    " 'classinsight-cmu_17214C_ph_225b_201904171130',\n",
    " 'classinsight-cmu_17214C_ph_225b_201904241130',\n",
    " 'classinsight-cmu_17214C_ph_225b_201905011130',\n",
    " # 'classinsight-cmu_05410B_ghc_4211_201902111500',\n",
    " # 'classinsight-cmu_05410B_ghc_4211_201903181500',\n",
    " # 'classinsight-cmu_05410B_ghc_4211_201904081500',\n",
    " # 'classinsight-cmu_05410B_ghc_4211_201904151500',\n",
    " # 'classinsight-cmu_05410B_ghc_4211_201904221500',\n",
    " # 'classinsight-cmu_05410B_ghc_4211_201901281500'\n",
    "]\n"
   ]
  },
  {
   "cell_type": "code",
   "execution_count": null,
   "id": "44e99bd2-1553-4b20-9e98-f889741c5dc9",
   "metadata": {
    "scrolled": true
   },
   "outputs": [
    {
     "data": {
      "text/markdown": [
       "## FILE EXISTS: cross session input info for session: 0-05748A, session:0-classinsight-cmu_05748A_ghc_4101_201902051630-front"
      ],
      "text/plain": [
       "<IPython.core.display.Markdown object>"
      ]
     },
     "metadata": {},
     "output_type": "display_data"
    },
    {
     "data": {
      "text/markdown": [
       "## FILE EXISTS: cross session input info for session: 0-05748A, session:1-classinsight-cmu_05748A_ghc_4101_201902141630-front"
      ],
      "text/plain": [
       "<IPython.core.display.Markdown object>"
      ]
     },
     "metadata": {},
     "output_type": "display_data"
    },
    {
     "name": "stdout",
     "output_type": "stream",
     "text": [
      "Session classinsight-cmu_05748A_ghc_4101_201901291630-front not in session filter list, skipping...\n",
      "Session classinsight-cmu_05748A_ghc_4101_201901311630-front not in session filter list, skipping...\n",
      "Session classinsight-cmu_05748A_ghc_4101_201902071630-front not in session filter list, skipping...\n",
      "Session classinsight-cmu_05748A_ghc_4101_201902121630-front not in session filter list, skipping...\n",
      "Session classinsight-cmu_05748A_ghc_4101_201902191630-front not in session filter list, skipping...\n",
      "Session classinsight-cmu_05748A_ghc_4101_201902211630-front not in session filter list, skipping...\n"
     ]
    },
    {
     "data": {
      "text/markdown": [
       "## FILE EXISTS: cross session input info for session: 0-05748A, session:8-classinsight-cmu_05748A_ghc_4101_201902281630-front"
      ],
      "text/plain": [
       "<IPython.core.display.Markdown object>"
      ]
     },
     "metadata": {},
     "output_type": "display_data"
    },
    {
     "name": "stdout",
     "output_type": "stream",
     "text": [
      "Session classinsight-cmu_05748A_ghc_4101_201903051630-front not in session filter list, skipping...\n"
     ]
    },
    {
     "data": {
      "text/markdown": [
       "## FILE EXISTS: cross session input info for session: 0-05748A, session:10-classinsight-cmu_05748A_ghc_4101_201903071630-front"
      ],
      "text/plain": [
       "<IPython.core.display.Markdown object>"
      ]
     },
     "metadata": {},
     "output_type": "display_data"
    },
    {
     "name": "stdout",
     "output_type": "stream",
     "text": [
      "Session classinsight-cmu_05748A_ghc_4101_201903121630-front not in session filter list, skipping...\n",
      "Session classinsight-cmu_05748A_ghc_4101_201903141630-front not in session filter list, skipping...\n",
      "Session classinsight-cmu_05748A_ghc_4101_201903191630-front not in session filter list, skipping...\n",
      "Session classinsight-cmu_05748A_ghc_4101_201903211630-front not in session filter list, skipping...\n",
      "Session classinsight-cmu_05748A_ghc_4101_201903261630-front not in session filter list, skipping...\n",
      "Session classinsight-cmu_05748A_ghc_4101_201903281630-front not in session filter list, skipping...\n"
     ]
    },
    {
     "data": {
      "text/markdown": [
       "## FILE EXISTS: cross session input info for session: 0-05748A, session:17-classinsight-cmu_05748A_ghc_4101_201904021630-front"
      ],
      "text/plain": [
       "<IPython.core.display.Markdown object>"
      ]
     },
     "metadata": {},
     "output_type": "display_data"
    },
    {
     "name": "stdout",
     "output_type": "stream",
     "text": [
      "Session classinsight-cmu_05748A_ghc_4101_201904041630-front not in session filter list, skipping...\n",
      "Session classinsight-cmu_05748A_ghc_4101_201904091630-front not in session filter list, skipping...\n",
      "Session classinsight-cmu_05748A_ghc_4101_201904111630-front not in session filter list, skipping...\n",
      "Session classinsight-cmu_05748A_ghc_4101_201904161630-front not in session filter list, skipping...\n",
      "Session classinsight-cmu_05748A_ghc_4101_201904181630-front not in session filter list, skipping...\n",
      "Session classinsight-cmu_05748A_ghc_4101_201904231630-front not in session filter list, skipping...\n",
      "Session classinsight-cmu_05748A_ghc_4101_201901241630-front not in session filter list, skipping...\n",
      "Session classinsight-cmu_05748A_ghc_4101_201904251630-front not in session filter list, skipping...\n",
      "Session classinsight-cmu_05748A_ghc_4101_201904301630-front not in session filter list, skipping...\n",
      "Session classinsight-cmu_05748A_ghc_4101_201905021630-front not in session filter list, skipping...\n",
      "Session classinsight-cmu_05410B_ghc_4211_201901301500-front not in session filter list, skipping...\n",
      "Session classinsight-cmu_05410B_ghc_4211_201902041500-front not in session filter list, skipping...\n",
      "Session classinsight-cmu_05410B_ghc_4211_201902061500-front not in session filter list, skipping...\n",
      "Session classinsight-cmu_05410B_ghc_4211_201902111500-front not in session filter list, skipping...\n",
      "Session classinsight-cmu_05410B_ghc_4211_201902131500-front not in session filter list, skipping...\n",
      "Session classinsight-cmu_05410B_ghc_4211_201902181500-front not in session filter list, skipping...\n",
      "Session classinsight-cmu_05410B_ghc_4211_201902201512-front not in session filter list, skipping...\n",
      "Session classinsight-cmu_05410B_ghc_4211_201902251500-front not in session filter list, skipping...\n",
      "Session classinsight-cmu_05410B_ghc_4211_201902271500-front not in session filter list, skipping...\n",
      "Session classinsight-cmu_05410B_ghc_4211_201903041500-front not in session filter list, skipping...\n",
      "Session classinsight-cmu_05410B_ghc_4211_201903111500-front not in session filter list, skipping...\n",
      "Session classinsight-cmu_05410B_ghc_4211_201903131500-front not in session filter list, skipping...\n",
      "Session classinsight-cmu_05410B_ghc_4211_201903181500-front not in session filter list, skipping...\n",
      "Session classinsight-cmu_05410B_ghc_4211_201903201500-front not in session filter list, skipping...\n",
      "Session classinsight-cmu_05410B_ghc_4211_201903271500-front not in session filter list, skipping...\n",
      "Session classinsight-cmu_05410B_ghc_4211_201904031500-front not in session filter list, skipping...\n",
      "Session classinsight-cmu_05410B_ghc_4211_201904081500-front not in session filter list, skipping...\n",
      "Session classinsight-cmu_05410B_ghc_4211_201904101500-front not in session filter list, skipping...\n",
      "Session classinsight-cmu_05410B_ghc_4211_201904151500-front not in session filter list, skipping...\n",
      "Session classinsight-cmu_05410B_ghc_4211_201904171500-front not in session filter list, skipping...\n",
      "Session classinsight-cmu_05410B_ghc_4211_201904221500-front not in session filter list, skipping...\n",
      "Session classinsight-cmu_05410B_ghc_4211_201901211500-front not in session filter list, skipping...\n",
      "Session classinsight-cmu_05410B_ghc_4211_201901231500-front not in session filter list, skipping...\n",
      "Session classinsight-cmu_05410B_ghc_4211_201901281500-front not in session filter list, skipping...\n",
      "Session classinsight-cmu_05410B_ghc_4211_201904011500-front not in session filter list, skipping...\n",
      "Session classinsight-cmu_05410B_ghc_4211_201904241500-front not in session filter list, skipping...\n",
      "Session classinsight-cmu_05410B_ghc_4211_201904291500-front not in session filter list, skipping...\n",
      "Session classinsight-cmu_05410B_ghc_4211_201905011500-front not in session filter list, skipping...\n"
     ]
    },
    {
     "data": {
      "text/markdown": [
       "## Building cross session input info for session: 2-17214C, session:0-classinsight-cmu_17214C_ph_225b_201903201130-front"
      ],
      "text/plain": [
       "<IPython.core.display.Markdown object>"
      ]
     },
     "metadata": {},
     "output_type": "display_data"
    },
    {
     "name": "stdout",
     "output_type": "stream",
     "text": [
      "Dict: eligible_id_map_dict\n",
      "Key: Value\n"
     ]
    },
    {
     "data": {
      "text/html": [
       "<pre style=\"white-space:pre;overflow-x:auto;line-height:normal;font-family:Menlo,'DejaVu Sans Mono',consolas,'Courier New',monospace\"><span style=\"font-weight: bold\">{}</span>\n",
       "</pre>\n"
      ],
      "text/plain": [
       "\u001b[1m{\u001b[0m\u001b[1m}\u001b[0m\n"
      ]
     },
     "metadata": {},
     "output_type": "display_data"
    },
    {
     "name": "stdout",
     "output_type": "stream",
     "text": [
      "\"Corrected\", eligible_id_map_dict : Corrected {}\n",
      "\"replacing ids in old to new id maps\" : replacing ids in old to new id maps\n",
      "Dict: {xr:(gaze_info[xr].shape[0],emb_info[xr].shape[0], face_info[xr].shape[0], bbox_info[xr].shape[0]) for xr in emb_info}\n",
      "Key: Value\n"
     ]
    },
    {
     "data": {
      "text/html": [
       "<pre style=\"white-space:pre;overflow-x:auto;line-height:normal;font-family:Menlo,'DejaVu Sans Mono',consolas,'Courier New',monospace\"><span style=\"font-weight: bold\">{</span><span style=\"color: #008080; text-decoration-color: #008080; font-weight: bold\">0</span>: <span style=\"font-weight: bold\">(</span><span style=\"color: #008080; text-decoration-color: #008080; font-weight: bold\">5483</span>, <span style=\"color: #008080; text-decoration-color: #008080; font-weight: bold\">5483</span>, <span style=\"color: #008080; text-decoration-color: #008080; font-weight: bold\">5483</span>, <span style=\"color: #008080; text-decoration-color: #008080; font-weight: bold\">5497</span><span style=\"font-weight: bold\">)</span>,\n",
       " <span style=\"color: #008080; text-decoration-color: #008080; font-weight: bold\">1</span>: <span style=\"font-weight: bold\">(</span><span style=\"color: #008080; text-decoration-color: #008080; font-weight: bold\">5491</span>, <span style=\"color: #008080; text-decoration-color: #008080; font-weight: bold\">5491</span>, <span style=\"color: #008080; text-decoration-color: #008080; font-weight: bold\">5491</span>, <span style=\"color: #008080; text-decoration-color: #008080; font-weight: bold\">5493</span><span style=\"font-weight: bold\">)</span>,\n",
       " <span style=\"color: #008080; text-decoration-color: #008080; font-weight: bold\">2</span>: <span style=\"font-weight: bold\">(</span><span style=\"color: #008080; text-decoration-color: #008080; font-weight: bold\">5492</span>, <span style=\"color: #008080; text-decoration-color: #008080; font-weight: bold\">5492</span>, <span style=\"color: #008080; text-decoration-color: #008080; font-weight: bold\">5492</span>, <span style=\"color: #008080; text-decoration-color: #008080; font-weight: bold\">5494</span><span style=\"font-weight: bold\">)</span>,\n",
       " <span style=\"color: #008080; text-decoration-color: #008080; font-weight: bold\">3</span>: <span style=\"font-weight: bold\">(</span><span style=\"color: #008080; text-decoration-color: #008080; font-weight: bold\">5497</span>, <span style=\"color: #008080; text-decoration-color: #008080; font-weight: bold\">5497</span>, <span style=\"color: #008080; text-decoration-color: #008080; font-weight: bold\">5497</span>, <span style=\"color: #008080; text-decoration-color: #008080; font-weight: bold\">5498</span><span style=\"font-weight: bold\">)</span>,\n",
       " <span style=\"color: #008080; text-decoration-color: #008080; font-weight: bold\">4</span>: <span style=\"font-weight: bold\">(</span><span style=\"color: #008080; text-decoration-color: #008080; font-weight: bold\">5439</span>, <span style=\"color: #008080; text-decoration-color: #008080; font-weight: bold\">5439</span>, <span style=\"color: #008080; text-decoration-color: #008080; font-weight: bold\">5439</span>, <span style=\"color: #008080; text-decoration-color: #008080; font-weight: bold\">5497</span><span style=\"font-weight: bold\">)</span>,\n",
       " <span style=\"color: #008080; text-decoration-color: #008080; font-weight: bold\">5</span>: <span style=\"font-weight: bold\">(</span><span style=\"color: #008080; text-decoration-color: #008080; font-weight: bold\">5467</span>, <span style=\"color: #008080; text-decoration-color: #008080; font-weight: bold\">5467</span>, <span style=\"color: #008080; text-decoration-color: #008080; font-weight: bold\">5467</span>, <span style=\"color: #008080; text-decoration-color: #008080; font-weight: bold\">5470</span><span style=\"font-weight: bold\">)</span>,\n",
       " <span style=\"color: #008080; text-decoration-color: #008080; font-weight: bold\">6</span>: <span style=\"font-weight: bold\">(</span><span style=\"color: #008080; text-decoration-color: #008080; font-weight: bold\">139</span>, <span style=\"color: #008080; text-decoration-color: #008080; font-weight: bold\">139</span>, <span style=\"color: #008080; text-decoration-color: #008080; font-weight: bold\">139</span>, <span style=\"color: #008080; text-decoration-color: #008080; font-weight: bold\">5494</span><span style=\"font-weight: bold\">)</span>,\n",
       " <span style=\"color: #008080; text-decoration-color: #008080; font-weight: bold\">7</span>: <span style=\"font-weight: bold\">(</span><span style=\"color: #008080; text-decoration-color: #008080; font-weight: bold\">4608</span>, <span style=\"color: #008080; text-decoration-color: #008080; font-weight: bold\">4608</span>, <span style=\"color: #008080; text-decoration-color: #008080; font-weight: bold\">4608</span>, <span style=\"color: #008080; text-decoration-color: #008080; font-weight: bold\">5478</span><span style=\"font-weight: bold\">)</span>,\n",
       " <span style=\"color: #008080; text-decoration-color: #008080; font-weight: bold\">8</span>: <span style=\"font-weight: bold\">(</span><span style=\"color: #008080; text-decoration-color: #008080; font-weight: bold\">5179</span>, <span style=\"color: #008080; text-decoration-color: #008080; font-weight: bold\">5179</span>, <span style=\"color: #008080; text-decoration-color: #008080; font-weight: bold\">5179</span>, <span style=\"color: #008080; text-decoration-color: #008080; font-weight: bold\">5187</span><span style=\"font-weight: bold\">)</span>,\n",
       " <span style=\"color: #008080; text-decoration-color: #008080; font-weight: bold\">9</span>: <span style=\"font-weight: bold\">(</span><span style=\"color: #008080; text-decoration-color: #008080; font-weight: bold\">4716</span>, <span style=\"color: #008080; text-decoration-color: #008080; font-weight: bold\">4716</span>, <span style=\"color: #008080; text-decoration-color: #008080; font-weight: bold\">4716</span>, <span style=\"color: #008080; text-decoration-color: #008080; font-weight: bold\">5047</span><span style=\"font-weight: bold\">)</span>,\n",
       " <span style=\"color: #008080; text-decoration-color: #008080; font-weight: bold\">10</span>: <span style=\"font-weight: bold\">(</span><span style=\"color: #008080; text-decoration-color: #008080; font-weight: bold\">5015</span>, <span style=\"color: #008080; text-decoration-color: #008080; font-weight: bold\">5015</span>, <span style=\"color: #008080; text-decoration-color: #008080; font-weight: bold\">5015</span>, <span style=\"color: #008080; text-decoration-color: #008080; font-weight: bold\">5042</span><span style=\"font-weight: bold\">)</span>,\n",
       " <span style=\"color: #008080; text-decoration-color: #008080; font-weight: bold\">11</span>: <span style=\"font-weight: bold\">(</span><span style=\"color: #008080; text-decoration-color: #008080; font-weight: bold\">2403</span>, <span style=\"color: #008080; text-decoration-color: #008080; font-weight: bold\">2403</span>, <span style=\"color: #008080; text-decoration-color: #008080; font-weight: bold\">2403</span>, <span style=\"color: #008080; text-decoration-color: #008080; font-weight: bold\">2412</span><span style=\"font-weight: bold\">)</span>,\n",
       " <span style=\"color: #008080; text-decoration-color: #008080; font-weight: bold\">12</span>: <span style=\"font-weight: bold\">(</span><span style=\"color: #008080; text-decoration-color: #008080; font-weight: bold\">1968</span>, <span style=\"color: #008080; text-decoration-color: #008080; font-weight: bold\">1968</span>, <span style=\"color: #008080; text-decoration-color: #008080; font-weight: bold\">1968</span>, <span style=\"color: #008080; text-decoration-color: #008080; font-weight: bold\">1973</span><span style=\"font-weight: bold\">)</span>,\n",
       " <span style=\"color: #008080; text-decoration-color: #008080; font-weight: bold\">13</span>: <span style=\"font-weight: bold\">(</span><span style=\"color: #008080; text-decoration-color: #008080; font-weight: bold\">1948</span>, <span style=\"color: #008080; text-decoration-color: #008080; font-weight: bold\">1948</span>, <span style=\"color: #008080; text-decoration-color: #008080; font-weight: bold\">1948</span>, <span style=\"color: #008080; text-decoration-color: #008080; font-weight: bold\">1986</span><span style=\"font-weight: bold\">)}</span>\n",
       "</pre>\n"
      ],
      "text/plain": [
       "\u001b[1m{\u001b[0m\u001b[1;36m0\u001b[0m: \u001b[1m(\u001b[0m\u001b[1;36m5483\u001b[0m, \u001b[1;36m5483\u001b[0m, \u001b[1;36m5483\u001b[0m, \u001b[1;36m5497\u001b[0m\u001b[1m)\u001b[0m,\n",
       " \u001b[1;36m1\u001b[0m: \u001b[1m(\u001b[0m\u001b[1;36m5491\u001b[0m, \u001b[1;36m5491\u001b[0m, \u001b[1;36m5491\u001b[0m, \u001b[1;36m5493\u001b[0m\u001b[1m)\u001b[0m,\n",
       " \u001b[1;36m2\u001b[0m: \u001b[1m(\u001b[0m\u001b[1;36m5492\u001b[0m, \u001b[1;36m5492\u001b[0m, \u001b[1;36m5492\u001b[0m, \u001b[1;36m5494\u001b[0m\u001b[1m)\u001b[0m,\n",
       " \u001b[1;36m3\u001b[0m: \u001b[1m(\u001b[0m\u001b[1;36m5497\u001b[0m, \u001b[1;36m5497\u001b[0m, \u001b[1;36m5497\u001b[0m, \u001b[1;36m5498\u001b[0m\u001b[1m)\u001b[0m,\n",
       " \u001b[1;36m4\u001b[0m: \u001b[1m(\u001b[0m\u001b[1;36m5439\u001b[0m, \u001b[1;36m5439\u001b[0m, \u001b[1;36m5439\u001b[0m, \u001b[1;36m5497\u001b[0m\u001b[1m)\u001b[0m,\n",
       " \u001b[1;36m5\u001b[0m: \u001b[1m(\u001b[0m\u001b[1;36m5467\u001b[0m, \u001b[1;36m5467\u001b[0m, \u001b[1;36m5467\u001b[0m, \u001b[1;36m5470\u001b[0m\u001b[1m)\u001b[0m,\n",
       " \u001b[1;36m6\u001b[0m: \u001b[1m(\u001b[0m\u001b[1;36m139\u001b[0m, \u001b[1;36m139\u001b[0m, \u001b[1;36m139\u001b[0m, \u001b[1;36m5494\u001b[0m\u001b[1m)\u001b[0m,\n",
       " \u001b[1;36m7\u001b[0m: \u001b[1m(\u001b[0m\u001b[1;36m4608\u001b[0m, \u001b[1;36m4608\u001b[0m, \u001b[1;36m4608\u001b[0m, \u001b[1;36m5478\u001b[0m\u001b[1m)\u001b[0m,\n",
       " \u001b[1;36m8\u001b[0m: \u001b[1m(\u001b[0m\u001b[1;36m5179\u001b[0m, \u001b[1;36m5179\u001b[0m, \u001b[1;36m5179\u001b[0m, \u001b[1;36m5187\u001b[0m\u001b[1m)\u001b[0m,\n",
       " \u001b[1;36m9\u001b[0m: \u001b[1m(\u001b[0m\u001b[1;36m4716\u001b[0m, \u001b[1;36m4716\u001b[0m, \u001b[1;36m4716\u001b[0m, \u001b[1;36m5047\u001b[0m\u001b[1m)\u001b[0m,\n",
       " \u001b[1;36m10\u001b[0m: \u001b[1m(\u001b[0m\u001b[1;36m5015\u001b[0m, \u001b[1;36m5015\u001b[0m, \u001b[1;36m5015\u001b[0m, \u001b[1;36m5042\u001b[0m\u001b[1m)\u001b[0m,\n",
       " \u001b[1;36m11\u001b[0m: \u001b[1m(\u001b[0m\u001b[1;36m2403\u001b[0m, \u001b[1;36m2403\u001b[0m, \u001b[1;36m2403\u001b[0m, \u001b[1;36m2412\u001b[0m\u001b[1m)\u001b[0m,\n",
       " \u001b[1;36m12\u001b[0m: \u001b[1m(\u001b[0m\u001b[1;36m1968\u001b[0m, \u001b[1;36m1968\u001b[0m, \u001b[1;36m1968\u001b[0m, \u001b[1;36m1973\u001b[0m\u001b[1m)\u001b[0m,\n",
       " \u001b[1;36m13\u001b[0m: \u001b[1m(\u001b[0m\u001b[1;36m1948\u001b[0m, \u001b[1;36m1948\u001b[0m, \u001b[1;36m1948\u001b[0m, \u001b[1;36m1986\u001b[0m\u001b[1m)\u001b[0m\u001b[1m}\u001b[0m\n"
      ]
     },
     "metadata": {},
     "output_type": "display_data"
    },
    {
     "name": "stdout",
     "output_type": "stream",
     "text": [
      "f\"Got gaze embedding for {sid}.\" : Got gaze embedding for 0.\n",
      "f\"Got gaze embedding for {sid}.\" : Got gaze embedding for 1.\n",
      "f\"Got gaze embedding for {sid}.\" : Got gaze embedding for 2.\n",
      "f\"Got gaze embedding for {sid}.\" : Got gaze embedding for 3.\n",
      "f\"Got gaze embedding for {sid}.\" : Got gaze embedding for 4.\n",
      "f\"Got gaze embedding for {sid}.\" : Got gaze embedding for 5.\n",
      "f\"Not sufficient frames to match {sid}:{len(frames)}\" : Not sufficient frames to match 6:0\n",
      "f\"Not sufficient frames to match {sid}:{len(frames)}\" : Not sufficient frames to match 7:7\n",
      "f\"Got gaze embedding for {sid}.\" : Got gaze embedding for 8.\n",
      "f\"Got gaze embedding for {sid}.\" : Got gaze embedding for 9.\n",
      "f\"Got gaze embedding for {sid}.\" : Got gaze embedding for 10.\n",
      "f\"Not sufficient frames to match {sid}:{len(frames)}\" : Not sufficient frames to match 11:76\n",
      "f\"Got gaze embedding for {sid}.\" : Got gaze embedding for 12.\n",
      "f\"Got gaze embedding for {sid}.\" : Got gaze embedding for 13.\n",
      "f\"Got cluster embedding for {sid}\" : Got cluster embedding for 0\n",
      "f\"Got cluster embedding for {sid}\" : Got cluster embedding for 1\n",
      "f\"Got cluster embedding for {sid}\" : Got cluster embedding for 2\n",
      "f\"Got cluster embedding for {sid}\" : Got cluster embedding for 3\n",
      "f\"Got cluster embedding for {sid}\" : Got cluster embedding for 4\n",
      "f\"Got cluster embedding for {sid}\" : Got cluster embedding for 5\n",
      "f\"All frames are outliers, not proceeding with id {sid}\" : All frames are outliers, not proceeding with id 6\n",
      "f\"Got cluster embedding for {sid}\" : Got cluster embedding for 7\n",
      "f\"Got cluster embedding for {sid}\" : Got cluster embedding for 8\n",
      "f\"Got cluster embedding for {sid}\" : Got cluster embedding for 9\n",
      "f\"Got cluster embedding for {sid}\" : Got cluster embedding for 10\n",
      "f\"Got cluster embedding for {sid}\" : Got cluster embedding for 11\n",
      "f\"Got cluster embedding for {sid}\" : Got cluster embedding for 12\n",
      "f\"Got cluster embedding for {sid}\" : Got cluster embedding for 13\n",
      "sid, face_width_med, face_width_iqd, face_height_med, face_height_iqd, face_x_med, face_x_iqd, face_y_med, face_y_iqd : 13 45.50743 4.260547637939453 58.585182 5.595093727111816 142.7938 22.40700912475586 142.7938 7.090888023376465\n"
     ]
    },
    {
     "data": {
      "text/markdown": [
       "### Got cross session input info for session: 2-17214C, session:0-classinsight-cmu_17214C_ph_225b_201903201130-front"
      ],
      "text/plain": [
       "<IPython.core.display.Markdown object>"
      ]
     },
     "metadata": {},
     "output_type": "display_data"
    },
    {
     "name": "stdout",
     "output_type": "stream",
     "text": [
      "Session classinsight-cmu_17214C_ph_225b_201904031130-front not in session filter list, skipping...\n"
     ]
    },
    {
     "data": {
      "text/markdown": [
       "## Building cross session input info for session: 2-17214C, session:2-classinsight-cmu_17214C_ph_225b_201904101130-front"
      ],
      "text/plain": [
       "<IPython.core.display.Markdown object>"
      ]
     },
     "metadata": {},
     "output_type": "display_data"
    },
    {
     "name": "stdout",
     "output_type": "stream",
     "text": [
      "Dict: eligible_id_map_dict\n",
      "Key: Value\n"
     ]
    },
    {
     "data": {
      "text/html": [
       "<pre style=\"white-space:pre;overflow-x:auto;line-height:normal;font-family:Menlo,'DejaVu Sans Mono',consolas,'Courier New',monospace\"><span style=\"font-weight: bold\">{}</span>\n",
       "</pre>\n"
      ],
      "text/plain": [
       "\u001b[1m{\u001b[0m\u001b[1m}\u001b[0m\n"
      ]
     },
     "metadata": {},
     "output_type": "display_data"
    },
    {
     "name": "stdout",
     "output_type": "stream",
     "text": [
      "\"Corrected\", eligible_id_map_dict : Corrected {}\n",
      "\"replacing ids in old to new id maps\" : replacing ids in old to new id maps\n",
      "Dict: {xr:(gaze_info[xr].shape[0],emb_info[xr].shape[0], face_info[xr].shape[0], bbox_info[xr].shape[0]) for xr in emb_info}\n",
      "Key: Value\n"
     ]
    },
    {
     "data": {
      "text/html": [
       "<pre style=\"white-space:pre;overflow-x:auto;line-height:normal;font-family:Menlo,'DejaVu Sans Mono',consolas,'Courier New',monospace\"><span style=\"font-weight: bold\">{</span><span style=\"color: #008080; text-decoration-color: #008080; font-weight: bold\">0</span>: <span style=\"font-weight: bold\">(</span><span style=\"color: #008080; text-decoration-color: #008080; font-weight: bold\">14065</span>, <span style=\"color: #008080; text-decoration-color: #008080; font-weight: bold\">14065</span>, <span style=\"color: #008080; text-decoration-color: #008080; font-weight: bold\">14065</span>, <span style=\"color: #008080; text-decoration-color: #008080; font-weight: bold\">14341</span><span style=\"font-weight: bold\">)</span>,\n",
       " <span style=\"color: #008080; text-decoration-color: #008080; font-weight: bold\">1</span>: <span style=\"font-weight: bold\">(</span><span style=\"color: #008080; text-decoration-color: #008080; font-weight: bold\">7858</span>, <span style=\"color: #008080; text-decoration-color: #008080; font-weight: bold\">7858</span>, <span style=\"color: #008080; text-decoration-color: #008080; font-weight: bold\">7858</span>, <span style=\"color: #008080; text-decoration-color: #008080; font-weight: bold\">7879</span><span style=\"font-weight: bold\">)</span>,\n",
       " <span style=\"color: #008080; text-decoration-color: #008080; font-weight: bold\">2</span>: <span style=\"font-weight: bold\">(</span><span style=\"color: #008080; text-decoration-color: #008080; font-weight: bold\">14219</span>, <span style=\"color: #008080; text-decoration-color: #008080; font-weight: bold\">14219</span>, <span style=\"color: #008080; text-decoration-color: #008080; font-weight: bold\">14219</span>, <span style=\"color: #008080; text-decoration-color: #008080; font-weight: bold\">14998</span><span style=\"font-weight: bold\">)</span>,\n",
       " <span style=\"color: #008080; text-decoration-color: #008080; font-weight: bold\">3</span>: <span style=\"font-weight: bold\">(</span><span style=\"color: #008080; text-decoration-color: #008080; font-weight: bold\">14244</span>, <span style=\"color: #008080; text-decoration-color: #008080; font-weight: bold\">14244</span>, <span style=\"color: #008080; text-decoration-color: #008080; font-weight: bold\">14244</span>, <span style=\"color: #008080; text-decoration-color: #008080; font-weight: bold\">14474</span><span style=\"font-weight: bold\">)</span>,\n",
       " <span style=\"color: #008080; text-decoration-color: #008080; font-weight: bold\">4</span>: <span style=\"font-weight: bold\">(</span><span style=\"color: #008080; text-decoration-color: #008080; font-weight: bold\">14059</span>, <span style=\"color: #008080; text-decoration-color: #008080; font-weight: bold\">14059</span>, <span style=\"color: #008080; text-decoration-color: #008080; font-weight: bold\">14059</span>, <span style=\"color: #008080; text-decoration-color: #008080; font-weight: bold\">14318</span><span style=\"font-weight: bold\">)</span>,\n",
       " <span style=\"color: #008080; text-decoration-color: #008080; font-weight: bold\">5</span>: <span style=\"font-weight: bold\">(</span><span style=\"color: #008080; text-decoration-color: #008080; font-weight: bold\">1564</span>, <span style=\"color: #008080; text-decoration-color: #008080; font-weight: bold\">1564</span>, <span style=\"color: #008080; text-decoration-color: #008080; font-weight: bold\">1564</span>, <span style=\"color: #008080; text-decoration-color: #008080; font-weight: bold\">4888</span><span style=\"font-weight: bold\">)</span>,\n",
       " <span style=\"color: #008080; text-decoration-color: #008080; font-weight: bold\">6</span>: <span style=\"font-weight: bold\">(</span><span style=\"color: #008080; text-decoration-color: #008080; font-weight: bold\">14161</span>, <span style=\"color: #008080; text-decoration-color: #008080; font-weight: bold\">14161</span>, <span style=\"color: #008080; text-decoration-color: #008080; font-weight: bold\">14161</span>, <span style=\"color: #008080; text-decoration-color: #008080; font-weight: bold\">14169</span><span style=\"font-weight: bold\">)</span>,\n",
       " <span style=\"color: #008080; text-decoration-color: #008080; font-weight: bold\">7</span>: <span style=\"font-weight: bold\">(</span><span style=\"color: #008080; text-decoration-color: #008080; font-weight: bold\">12492</span>, <span style=\"color: #008080; text-decoration-color: #008080; font-weight: bold\">12492</span>, <span style=\"color: #008080; text-decoration-color: #008080; font-weight: bold\">12492</span>, <span style=\"color: #008080; text-decoration-color: #008080; font-weight: bold\">13542</span><span style=\"font-weight: bold\">)</span>,\n",
       " <span style=\"color: #008080; text-decoration-color: #008080; font-weight: bold\">8</span>: <span style=\"font-weight: bold\">(</span><span style=\"color: #008080; text-decoration-color: #008080; font-weight: bold\">2725</span>, <span style=\"color: #008080; text-decoration-color: #008080; font-weight: bold\">2725</span>, <span style=\"color: #008080; text-decoration-color: #008080; font-weight: bold\">2725</span>, <span style=\"color: #008080; text-decoration-color: #008080; font-weight: bold\">2855</span><span style=\"font-weight: bold\">)</span>,\n",
       " <span style=\"color: #008080; text-decoration-color: #008080; font-weight: bold\">9</span>: <span style=\"font-weight: bold\">(</span><span style=\"color: #008080; text-decoration-color: #008080; font-weight: bold\">4387</span>, <span style=\"color: #008080; text-decoration-color: #008080; font-weight: bold\">4387</span>, <span style=\"color: #008080; text-decoration-color: #008080; font-weight: bold\">4387</span>, <span style=\"color: #008080; text-decoration-color: #008080; font-weight: bold\">4408</span><span style=\"font-weight: bold\">)</span>,\n",
       " <span style=\"color: #008080; text-decoration-color: #008080; font-weight: bold\">10</span>: <span style=\"font-weight: bold\">(</span><span style=\"color: #008080; text-decoration-color: #008080; font-weight: bold\">289</span>, <span style=\"color: #008080; text-decoration-color: #008080; font-weight: bold\">289</span>, <span style=\"color: #008080; text-decoration-color: #008080; font-weight: bold\">289</span>, <span style=\"color: #008080; text-decoration-color: #008080; font-weight: bold\">1401</span><span style=\"font-weight: bold\">)</span>,\n",
       " <span style=\"color: #008080; text-decoration-color: #008080; font-weight: bold\">11</span>: <span style=\"font-weight: bold\">(</span><span style=\"color: #008080; text-decoration-color: #008080; font-weight: bold\">10069</span>, <span style=\"color: #008080; text-decoration-color: #008080; font-weight: bold\">10069</span>, <span style=\"color: #008080; text-decoration-color: #008080; font-weight: bold\">10069</span>, <span style=\"color: #008080; text-decoration-color: #008080; font-weight: bold\">10684</span><span style=\"font-weight: bold\">)</span>,\n",
       " <span style=\"color: #008080; text-decoration-color: #008080; font-weight: bold\">12</span>: <span style=\"font-weight: bold\">(</span><span style=\"color: #008080; text-decoration-color: #008080; font-weight: bold\">2820</span>, <span style=\"color: #008080; text-decoration-color: #008080; font-weight: bold\">2820</span>, <span style=\"color: #008080; text-decoration-color: #008080; font-weight: bold\">2820</span>, <span style=\"color: #008080; text-decoration-color: #008080; font-weight: bold\">4576</span><span style=\"font-weight: bold\">)</span>,\n",
       " <span style=\"color: #008080; text-decoration-color: #008080; font-weight: bold\">13</span>: <span style=\"font-weight: bold\">(</span><span style=\"color: #008080; text-decoration-color: #008080; font-weight: bold\">7706</span>, <span style=\"color: #008080; text-decoration-color: #008080; font-weight: bold\">7706</span>, <span style=\"color: #008080; text-decoration-color: #008080; font-weight: bold\">7706</span>, <span style=\"color: #008080; text-decoration-color: #008080; font-weight: bold\">7787</span><span style=\"font-weight: bold\">)</span>,\n",
       " <span style=\"color: #008080; text-decoration-color: #008080; font-weight: bold\">14</span>: <span style=\"font-weight: bold\">(</span><span style=\"color: #008080; text-decoration-color: #008080; font-weight: bold\">6585</span>, <span style=\"color: #008080; text-decoration-color: #008080; font-weight: bold\">6585</span>, <span style=\"color: #008080; text-decoration-color: #008080; font-weight: bold\">6585</span>, <span style=\"color: #008080; text-decoration-color: #008080; font-weight: bold\">7407</span><span style=\"font-weight: bold\">)</span>,\n",
       " <span style=\"color: #008080; text-decoration-color: #008080; font-weight: bold\">15</span>: <span style=\"font-weight: bold\">(</span><span style=\"color: #008080; text-decoration-color: #008080; font-weight: bold\">1716</span>, <span style=\"color: #008080; text-decoration-color: #008080; font-weight: bold\">1716</span>, <span style=\"color: #008080; text-decoration-color: #008080; font-weight: bold\">1716</span>, <span style=\"color: #008080; text-decoration-color: #008080; font-weight: bold\">3094</span><span style=\"font-weight: bold\">)</span>,\n",
       " <span style=\"color: #008080; text-decoration-color: #008080; font-weight: bold\">16</span>: <span style=\"font-weight: bold\">(</span><span style=\"color: #008080; text-decoration-color: #008080; font-weight: bold\">378</span>, <span style=\"color: #008080; text-decoration-color: #008080; font-weight: bold\">378</span>, <span style=\"color: #008080; text-decoration-color: #008080; font-weight: bold\">378</span>, <span style=\"color: #008080; text-decoration-color: #008080; font-weight: bold\">420</span><span style=\"font-weight: bold\">)</span>,\n",
       " <span style=\"color: #008080; text-decoration-color: #008080; font-weight: bold\">17</span>: <span style=\"font-weight: bold\">(</span><span style=\"color: #008080; text-decoration-color: #008080; font-weight: bold\">289</span>, <span style=\"color: #008080; text-decoration-color: #008080; font-weight: bold\">289</span>, <span style=\"color: #008080; text-decoration-color: #008080; font-weight: bold\">289</span>, <span style=\"color: #008080; text-decoration-color: #008080; font-weight: bold\">698</span><span style=\"font-weight: bold\">)}</span>\n",
       "</pre>\n"
      ],
      "text/plain": [
       "\u001b[1m{\u001b[0m\u001b[1;36m0\u001b[0m: \u001b[1m(\u001b[0m\u001b[1;36m14065\u001b[0m, \u001b[1;36m14065\u001b[0m, \u001b[1;36m14065\u001b[0m, \u001b[1;36m14341\u001b[0m\u001b[1m)\u001b[0m,\n",
       " \u001b[1;36m1\u001b[0m: \u001b[1m(\u001b[0m\u001b[1;36m7858\u001b[0m, \u001b[1;36m7858\u001b[0m, \u001b[1;36m7858\u001b[0m, \u001b[1;36m7879\u001b[0m\u001b[1m)\u001b[0m,\n",
       " \u001b[1;36m2\u001b[0m: \u001b[1m(\u001b[0m\u001b[1;36m14219\u001b[0m, \u001b[1;36m14219\u001b[0m, \u001b[1;36m14219\u001b[0m, \u001b[1;36m14998\u001b[0m\u001b[1m)\u001b[0m,\n",
       " \u001b[1;36m3\u001b[0m: \u001b[1m(\u001b[0m\u001b[1;36m14244\u001b[0m, \u001b[1;36m14244\u001b[0m, \u001b[1;36m14244\u001b[0m, \u001b[1;36m14474\u001b[0m\u001b[1m)\u001b[0m,\n",
       " \u001b[1;36m4\u001b[0m: \u001b[1m(\u001b[0m\u001b[1;36m14059\u001b[0m, \u001b[1;36m14059\u001b[0m, \u001b[1;36m14059\u001b[0m, \u001b[1;36m14318\u001b[0m\u001b[1m)\u001b[0m,\n",
       " \u001b[1;36m5\u001b[0m: \u001b[1m(\u001b[0m\u001b[1;36m1564\u001b[0m, \u001b[1;36m1564\u001b[0m, \u001b[1;36m1564\u001b[0m, \u001b[1;36m4888\u001b[0m\u001b[1m)\u001b[0m,\n",
       " \u001b[1;36m6\u001b[0m: \u001b[1m(\u001b[0m\u001b[1;36m14161\u001b[0m, \u001b[1;36m14161\u001b[0m, \u001b[1;36m14161\u001b[0m, \u001b[1;36m14169\u001b[0m\u001b[1m)\u001b[0m,\n",
       " \u001b[1;36m7\u001b[0m: \u001b[1m(\u001b[0m\u001b[1;36m12492\u001b[0m, \u001b[1;36m12492\u001b[0m, \u001b[1;36m12492\u001b[0m, \u001b[1;36m13542\u001b[0m\u001b[1m)\u001b[0m,\n",
       " \u001b[1;36m8\u001b[0m: \u001b[1m(\u001b[0m\u001b[1;36m2725\u001b[0m, \u001b[1;36m2725\u001b[0m, \u001b[1;36m2725\u001b[0m, \u001b[1;36m2855\u001b[0m\u001b[1m)\u001b[0m,\n",
       " \u001b[1;36m9\u001b[0m: \u001b[1m(\u001b[0m\u001b[1;36m4387\u001b[0m, \u001b[1;36m4387\u001b[0m, \u001b[1;36m4387\u001b[0m, \u001b[1;36m4408\u001b[0m\u001b[1m)\u001b[0m,\n",
       " \u001b[1;36m10\u001b[0m: \u001b[1m(\u001b[0m\u001b[1;36m289\u001b[0m, \u001b[1;36m289\u001b[0m, \u001b[1;36m289\u001b[0m, \u001b[1;36m1401\u001b[0m\u001b[1m)\u001b[0m,\n",
       " \u001b[1;36m11\u001b[0m: \u001b[1m(\u001b[0m\u001b[1;36m10069\u001b[0m, \u001b[1;36m10069\u001b[0m, \u001b[1;36m10069\u001b[0m, \u001b[1;36m10684\u001b[0m\u001b[1m)\u001b[0m,\n",
       " \u001b[1;36m12\u001b[0m: \u001b[1m(\u001b[0m\u001b[1;36m2820\u001b[0m, \u001b[1;36m2820\u001b[0m, \u001b[1;36m2820\u001b[0m, \u001b[1;36m4576\u001b[0m\u001b[1m)\u001b[0m,\n",
       " \u001b[1;36m13\u001b[0m: \u001b[1m(\u001b[0m\u001b[1;36m7706\u001b[0m, \u001b[1;36m7706\u001b[0m, \u001b[1;36m7706\u001b[0m, \u001b[1;36m7787\u001b[0m\u001b[1m)\u001b[0m,\n",
       " \u001b[1;36m14\u001b[0m: \u001b[1m(\u001b[0m\u001b[1;36m6585\u001b[0m, \u001b[1;36m6585\u001b[0m, \u001b[1;36m6585\u001b[0m, \u001b[1;36m7407\u001b[0m\u001b[1m)\u001b[0m,\n",
       " \u001b[1;36m15\u001b[0m: \u001b[1m(\u001b[0m\u001b[1;36m1716\u001b[0m, \u001b[1;36m1716\u001b[0m, \u001b[1;36m1716\u001b[0m, \u001b[1;36m3094\u001b[0m\u001b[1m)\u001b[0m,\n",
       " \u001b[1;36m16\u001b[0m: \u001b[1m(\u001b[0m\u001b[1;36m378\u001b[0m, \u001b[1;36m378\u001b[0m, \u001b[1;36m378\u001b[0m, \u001b[1;36m420\u001b[0m\u001b[1m)\u001b[0m,\n",
       " \u001b[1;36m17\u001b[0m: \u001b[1m(\u001b[0m\u001b[1;36m289\u001b[0m, \u001b[1;36m289\u001b[0m, \u001b[1;36m289\u001b[0m, \u001b[1;36m698\u001b[0m\u001b[1m)\u001b[0m\u001b[1m}\u001b[0m\n"
      ]
     },
     "metadata": {},
     "output_type": "display_data"
    },
    {
     "name": "stdout",
     "output_type": "stream",
     "text": [
      "f\"Got gaze embedding for {sid}.\" : Got gaze embedding for 0.\n",
      "f\"Got gaze embedding for {sid}.\" : Got gaze embedding for 1.\n",
      "f\"Got gaze embedding for {sid}.\" : Got gaze embedding for 2.\n",
      "f\"Got gaze embedding for {sid}.\" : Got gaze embedding for 3.\n",
      "f\"Got gaze embedding for {sid}.\" : Got gaze embedding for 4.\n",
      "f\"Not sufficient frames to match {sid}:{len(frames)}\" : Not sufficient frames to match 5:59\n",
      "f\"Got gaze embedding for {sid}.\" : Got gaze embedding for 6.\n",
      "f\"Got gaze embedding for {sid}.\" : Got gaze embedding for 7.\n",
      "f\"Got gaze embedding for {sid}.\" : Got gaze embedding for 8.\n",
      "f\"Got gaze embedding for {sid}.\" : Got gaze embedding for 9.\n",
      "f\"Not sufficient frames to match {sid}:{len(frames)}\" : Not sufficient frames to match 10:4\n",
      "f\"Got gaze embedding for {sid}.\" : Got gaze embedding for 11.\n",
      "f\"Got gaze embedding for {sid}.\" : Got gaze embedding for 12.\n",
      "f\"Got gaze embedding for {sid}.\" : Got gaze embedding for 13.\n",
      "f\"Got gaze embedding for {sid}.\" : Got gaze embedding for 14.\n",
      "f\"Got gaze embedding for {sid}.\" : Got gaze embedding for 15.\n",
      "f\"Not sufficient frames to match {sid}:{len(frames)}\" : Not sufficient frames to match 16:55\n",
      "f\"Not sufficient frames to match {sid}:{len(frames)}\" : Not sufficient frames to match 17:15\n",
      "f\"Got cluster embedding for {sid}\" : Got cluster embedding for 0\n",
      "f\"Got cluster embedding for {sid}\" : Got cluster embedding for 1\n",
      "f\"Got cluster embedding for {sid}\" : Got cluster embedding for 2\n",
      "f\"Got cluster embedding for {sid}\" : Got cluster embedding for 3\n",
      "f\"Got cluster embedding for {sid}\" : Got cluster embedding for 4\n",
      "f\"Got cluster embedding for {sid}\" : Got cluster embedding for 5\n",
      "f\"Got cluster embedding for {sid}\" : Got cluster embedding for 6\n",
      "f\"Got cluster embedding for {sid}\" : Got cluster embedding for 7\n",
      "f\"Got cluster embedding for {sid}\" : Got cluster embedding for 8\n",
      "f\"Got cluster embedding for {sid}\" : Got cluster embedding for 9\n",
      "f\"All frames are outliers, not proceeding with id {sid}\" : All frames are outliers, not proceeding with id 10\n",
      "f\"Got cluster embedding for {sid}\" : Got cluster embedding for 11\n",
      "f\"Got cluster embedding for {sid}\" : Got cluster embedding for 12\n",
      "f\"Got cluster embedding for {sid}\" : Got cluster embedding for 13\n",
      "f\"Got cluster embedding for {sid}\" : Got cluster embedding for 14\n",
      "f\"Got cluster embedding for {sid}\" : Got cluster embedding for 15\n",
      "f\"Got cluster embedding for {sid}\" : Got cluster embedding for 16\n",
      "f\"All frames are outliers, not proceeding with id {sid}\" : All frames are outliers, not proceeding with id 17\n",
      "sid, face_width_med, face_width_iqd, face_height_med, face_height_iqd, face_x_med, face_x_iqd, face_y_med, face_y_iqd : 17 84.87918 47.81610107421875 123.62424 77.18310546875 316.55237 257.43359375 316.55237 95.3883056640625\n"
     ]
    },
    {
     "data": {
      "text/markdown": [
       "### Got cross session input info for session: 2-17214C, session:2-classinsight-cmu_17214C_ph_225b_201904101130-front"
      ],
      "text/plain": [
       "<IPython.core.display.Markdown object>"
      ]
     },
     "metadata": {},
     "output_type": "display_data"
    },
    {
     "data": {
      "text/markdown": [
       "## Building cross session input info for session: 2-17214C, session:3-classinsight-cmu_17214C_ph_225b_201904171130-front"
      ],
      "text/plain": [
       "<IPython.core.display.Markdown object>"
      ]
     },
     "metadata": {},
     "output_type": "display_data"
    },
    {
     "name": "stdout",
     "output_type": "stream",
     "text": [
      "3 19\n",
      "8 21\n",
      "11 23\n",
      "Dict: eligible_id_map_dict\n",
      "Key: Value\n"
     ]
    },
    {
     "data": {
      "text/html": [
       "<pre style=\"white-space:pre;overflow-x:auto;line-height:normal;font-family:Menlo,'DejaVu Sans Mono',consolas,'Courier New',monospace\"><span style=\"font-weight: bold\">{</span><span style=\"color: #008080; text-decoration-color: #008080; font-weight: bold\">19</span>: <span style=\"color: #008080; text-decoration-color: #008080; font-weight: bold\">3</span>, <span style=\"color: #008080; text-decoration-color: #008080; font-weight: bold\">21</span>: <span style=\"color: #008080; text-decoration-color: #008080; font-weight: bold\">8</span>, <span style=\"color: #008080; text-decoration-color: #008080; font-weight: bold\">23</span>: <span style=\"color: #008080; text-decoration-color: #008080; font-weight: bold\">11</span><span style=\"font-weight: bold\">}</span>\n",
       "</pre>\n"
      ],
      "text/plain": [
       "\u001b[1m{\u001b[0m\u001b[1;36m19\u001b[0m: \u001b[1;36m3\u001b[0m, \u001b[1;36m21\u001b[0m: \u001b[1;36m8\u001b[0m, \u001b[1;36m23\u001b[0m: \u001b[1;36m11\u001b[0m\u001b[1m}\u001b[0m\n"
      ]
     },
     "metadata": {},
     "output_type": "display_data"
    },
    {
     "name": "stdout",
     "output_type": "stream",
     "text": [
      "\"Corrected\", eligible_id_map_dict : Corrected {19: 3, 21: 8, 23: 11}\n",
      "\"replacing ids in old to new id maps\" : replacing ids in old to new id maps\n",
      "replacing 207:19 -->3\n",
      "replacing 265:21 -->8\n",
      "replacing 474:23 -->11\n",
      "Dict: {xr:(gaze_info[xr].shape[0],emb_info[xr].shape[0], face_info[xr].shape[0], bbox_info[xr].shape[0]) for xr in emb_info}\n",
      "Key: Value\n"
     ]
    },
    {
     "data": {
      "text/html": [
       "<pre style=\"white-space:pre;overflow-x:auto;line-height:normal;font-family:Menlo,'DejaVu Sans Mono',consolas,'Courier New',monospace\"><span style=\"font-weight: bold\">{</span><span style=\"color: #008080; text-decoration-color: #008080; font-weight: bold\">0</span>: <span style=\"font-weight: bold\">(</span><span style=\"color: #008080; text-decoration-color: #008080; font-weight: bold\">14803</span>, <span style=\"color: #008080; text-decoration-color: #008080; font-weight: bold\">14803</span>, <span style=\"color: #008080; text-decoration-color: #008080; font-weight: bold\">14803</span>, <span style=\"color: #008080; text-decoration-color: #008080; font-weight: bold\">14999</span><span style=\"font-weight: bold\">)</span>,\n",
       " <span style=\"color: #008080; text-decoration-color: #008080; font-weight: bold\">1</span>: <span style=\"font-weight: bold\">(</span><span style=\"color: #008080; text-decoration-color: #008080; font-weight: bold\">14980</span>, <span style=\"color: #008080; text-decoration-color: #008080; font-weight: bold\">14980</span>, <span style=\"color: #008080; text-decoration-color: #008080; font-weight: bold\">14980</span>, <span style=\"color: #008080; text-decoration-color: #008080; font-weight: bold\">14997</span><span style=\"font-weight: bold\">)</span>,\n",
       " <span style=\"color: #008080; text-decoration-color: #008080; font-weight: bold\">2</span>: <span style=\"font-weight: bold\">(</span><span style=\"color: #008080; text-decoration-color: #008080; font-weight: bold\">14753</span>, <span style=\"color: #008080; text-decoration-color: #008080; font-weight: bold\">14753</span>, <span style=\"color: #008080; text-decoration-color: #008080; font-weight: bold\">14753</span>, <span style=\"color: #008080; text-decoration-color: #008080; font-weight: bold\">14893</span><span style=\"font-weight: bold\">)</span>,\n",
       " <span style=\"color: #008080; text-decoration-color: #008080; font-weight: bold\">3</span>: <span style=\"font-weight: bold\">(</span><span style=\"color: #008080; text-decoration-color: #008080; font-weight: bold\">12681</span>, <span style=\"color: #008080; text-decoration-color: #008080; font-weight: bold\">12681</span>, <span style=\"color: #008080; text-decoration-color: #008080; font-weight: bold\">12681</span>, <span style=\"color: #008080; text-decoration-color: #008080; font-weight: bold\">13926</span><span style=\"font-weight: bold\">)</span>,\n",
       " <span style=\"color: #008080; text-decoration-color: #008080; font-weight: bold\">4</span>: <span style=\"font-weight: bold\">(</span><span style=\"color: #008080; text-decoration-color: #008080; font-weight: bold\">14951</span>, <span style=\"color: #008080; text-decoration-color: #008080; font-weight: bold\">14951</span>, <span style=\"color: #008080; text-decoration-color: #008080; font-weight: bold\">14951</span>, <span style=\"color: #008080; text-decoration-color: #008080; font-weight: bold\">14999</span><span style=\"font-weight: bold\">)</span>,\n",
       " <span style=\"color: #008080; text-decoration-color: #008080; font-weight: bold\">5</span>: <span style=\"font-weight: bold\">(</span><span style=\"color: #008080; text-decoration-color: #008080; font-weight: bold\">14284</span>, <span style=\"color: #008080; text-decoration-color: #008080; font-weight: bold\">14284</span>, <span style=\"color: #008080; text-decoration-color: #008080; font-weight: bold\">14284</span>, <span style=\"color: #008080; text-decoration-color: #008080; font-weight: bold\">14888</span><span style=\"font-weight: bold\">)</span>,\n",
       " <span style=\"color: #008080; text-decoration-color: #008080; font-weight: bold\">6</span>: <span style=\"font-weight: bold\">(</span><span style=\"color: #008080; text-decoration-color: #008080; font-weight: bold\">14728</span>, <span style=\"color: #008080; text-decoration-color: #008080; font-weight: bold\">14728</span>, <span style=\"color: #008080; text-decoration-color: #008080; font-weight: bold\">14728</span>, <span style=\"color: #008080; text-decoration-color: #008080; font-weight: bold\">14995</span><span style=\"font-weight: bold\">)</span>,\n",
       " <span style=\"color: #008080; text-decoration-color: #008080; font-weight: bold\">7</span>: <span style=\"font-weight: bold\">(</span><span style=\"color: #008080; text-decoration-color: #008080; font-weight: bold\">14640</span>, <span style=\"color: #008080; text-decoration-color: #008080; font-weight: bold\">14640</span>, <span style=\"color: #008080; text-decoration-color: #008080; font-weight: bold\">14640</span>, <span style=\"color: #008080; text-decoration-color: #008080; font-weight: bold\">14970</span><span style=\"font-weight: bold\">)</span>,\n",
       " <span style=\"color: #008080; text-decoration-color: #008080; font-weight: bold\">8</span>: <span style=\"font-weight: bold\">(</span><span style=\"color: #008080; text-decoration-color: #008080; font-weight: bold\">14572</span>, <span style=\"color: #008080; text-decoration-color: #008080; font-weight: bold\">14572</span>, <span style=\"color: #008080; text-decoration-color: #008080; font-weight: bold\">14572</span>, <span style=\"color: #008080; text-decoration-color: #008080; font-weight: bold\">14589</span><span style=\"font-weight: bold\">)</span>,\n",
       " <span style=\"color: #008080; text-decoration-color: #008080; font-weight: bold\">9</span>: <span style=\"font-weight: bold\">(</span><span style=\"color: #008080; text-decoration-color: #008080; font-weight: bold\">262</span>, <span style=\"color: #008080; text-decoration-color: #008080; font-weight: bold\">262</span>, <span style=\"color: #008080; text-decoration-color: #008080; font-weight: bold\">262</span>, <span style=\"color: #008080; text-decoration-color: #008080; font-weight: bold\">619</span><span style=\"font-weight: bold\">)</span>,\n",
       " <span style=\"color: #008080; text-decoration-color: #008080; font-weight: bold\">10</span>: <span style=\"font-weight: bold\">(</span><span style=\"color: #008080; text-decoration-color: #008080; font-weight: bold\">6739</span>, <span style=\"color: #008080; text-decoration-color: #008080; font-weight: bold\">6739</span>, <span style=\"color: #008080; text-decoration-color: #008080; font-weight: bold\">6739</span>, <span style=\"color: #008080; text-decoration-color: #008080; font-weight: bold\">10035</span><span style=\"font-weight: bold\">)</span>,\n",
       " <span style=\"color: #008080; text-decoration-color: #008080; font-weight: bold\">11</span>: <span style=\"font-weight: bold\">(</span><span style=\"color: #008080; text-decoration-color: #008080; font-weight: bold\">1449</span>, <span style=\"color: #008080; text-decoration-color: #008080; font-weight: bold\">1449</span>, <span style=\"color: #008080; text-decoration-color: #008080; font-weight: bold\">1449</span>, <span style=\"color: #008080; text-decoration-color: #008080; font-weight: bold\">1925</span><span style=\"font-weight: bold\">)</span>,\n",
       " <span style=\"color: #008080; text-decoration-color: #008080; font-weight: bold\">12</span>: <span style=\"font-weight: bold\">(</span><span style=\"color: #008080; text-decoration-color: #008080; font-weight: bold\">272</span>, <span style=\"color: #008080; text-decoration-color: #008080; font-weight: bold\">272</span>, <span style=\"color: #008080; text-decoration-color: #008080; font-weight: bold\">272</span>, <span style=\"color: #008080; text-decoration-color: #008080; font-weight: bold\">342</span><span style=\"font-weight: bold\">)</span>,\n",
       " <span style=\"color: #008080; text-decoration-color: #008080; font-weight: bold\">13</span>: <span style=\"font-weight: bold\">(</span><span style=\"color: #008080; text-decoration-color: #008080; font-weight: bold\">11621</span>, <span style=\"color: #008080; text-decoration-color: #008080; font-weight: bold\">11621</span>, <span style=\"color: #008080; text-decoration-color: #008080; font-weight: bold\">11621</span>, <span style=\"color: #008080; text-decoration-color: #008080; font-weight: bold\">12179</span><span style=\"font-weight: bold\">)</span>,\n",
       " <span style=\"color: #008080; text-decoration-color: #008080; font-weight: bold\">14</span>: <span style=\"font-weight: bold\">(</span><span style=\"color: #008080; text-decoration-color: #008080; font-weight: bold\">11141</span>, <span style=\"color: #008080; text-decoration-color: #008080; font-weight: bold\">11141</span>, <span style=\"color: #008080; text-decoration-color: #008080; font-weight: bold\">11141</span>, <span style=\"color: #008080; text-decoration-color: #008080; font-weight: bold\">11341</span><span style=\"font-weight: bold\">)</span>,\n",
       " <span style=\"color: #008080; text-decoration-color: #008080; font-weight: bold\">15</span>: <span style=\"font-weight: bold\">(</span><span style=\"color: #008080; text-decoration-color: #008080; font-weight: bold\">269</span>, <span style=\"color: #008080; text-decoration-color: #008080; font-weight: bold\">269</span>, <span style=\"color: #008080; text-decoration-color: #008080; font-weight: bold\">269</span>, <span style=\"color: #008080; text-decoration-color: #008080; font-weight: bold\">360</span><span style=\"font-weight: bold\">)</span>,\n",
       " <span style=\"color: #008080; text-decoration-color: #008080; font-weight: bold\">16</span>: <span style=\"font-weight: bold\">(</span><span style=\"color: #008080; text-decoration-color: #008080; font-weight: bold\">3417</span>, <span style=\"color: #008080; text-decoration-color: #008080; font-weight: bold\">3417</span>, <span style=\"color: #008080; text-decoration-color: #008080; font-weight: bold\">3417</span>, <span style=\"color: #008080; text-decoration-color: #008080; font-weight: bold\">3559</span><span style=\"font-weight: bold\">)</span>,\n",
       " <span style=\"color: #008080; text-decoration-color: #008080; font-weight: bold\">17</span>: <span style=\"font-weight: bold\">(</span><span style=\"color: #008080; text-decoration-color: #008080; font-weight: bold\">715</span>, <span style=\"color: #008080; text-decoration-color: #008080; font-weight: bold\">715</span>, <span style=\"color: #008080; text-decoration-color: #008080; font-weight: bold\">715</span>, <span style=\"color: #008080; text-decoration-color: #008080; font-weight: bold\">853</span><span style=\"font-weight: bold\">)</span>,\n",
       " <span style=\"color: #008080; text-decoration-color: #008080; font-weight: bold\">18</span>: <span style=\"font-weight: bold\">(</span><span style=\"color: #008080; text-decoration-color: #008080; font-weight: bold\">8671</span>, <span style=\"color: #008080; text-decoration-color: #008080; font-weight: bold\">8671</span>, <span style=\"color: #008080; text-decoration-color: #008080; font-weight: bold\">8671</span>, <span style=\"color: #008080; text-decoration-color: #008080; font-weight: bold\">9070</span><span style=\"font-weight: bold\">)</span>,\n",
       " <span style=\"color: #008080; text-decoration-color: #008080; font-weight: bold\">20</span>: <span style=\"font-weight: bold\">(</span><span style=\"color: #008080; text-decoration-color: #008080; font-weight: bold\">2470</span>, <span style=\"color: #008080; text-decoration-color: #008080; font-weight: bold\">2470</span>, <span style=\"color: #008080; text-decoration-color: #008080; font-weight: bold\">2470</span>, <span style=\"color: #008080; text-decoration-color: #008080; font-weight: bold\">3501</span><span style=\"font-weight: bold\">)</span>,\n",
       " <span style=\"color: #008080; text-decoration-color: #008080; font-weight: bold\">22</span>: <span style=\"font-weight: bold\">(</span><span style=\"color: #008080; text-decoration-color: #008080; font-weight: bold\">3003</span>, <span style=\"color: #008080; text-decoration-color: #008080; font-weight: bold\">3003</span>, <span style=\"color: #008080; text-decoration-color: #008080; font-weight: bold\">3003</span>, <span style=\"color: #008080; text-decoration-color: #008080; font-weight: bold\">4454</span><span style=\"font-weight: bold\">)}</span>\n",
       "</pre>\n"
      ],
      "text/plain": [
       "\u001b[1m{\u001b[0m\u001b[1;36m0\u001b[0m: \u001b[1m(\u001b[0m\u001b[1;36m14803\u001b[0m, \u001b[1;36m14803\u001b[0m, \u001b[1;36m14803\u001b[0m, \u001b[1;36m14999\u001b[0m\u001b[1m)\u001b[0m,\n",
       " \u001b[1;36m1\u001b[0m: \u001b[1m(\u001b[0m\u001b[1;36m14980\u001b[0m, \u001b[1;36m14980\u001b[0m, \u001b[1;36m14980\u001b[0m, \u001b[1;36m14997\u001b[0m\u001b[1m)\u001b[0m,\n",
       " \u001b[1;36m2\u001b[0m: \u001b[1m(\u001b[0m\u001b[1;36m14753\u001b[0m, \u001b[1;36m14753\u001b[0m, \u001b[1;36m14753\u001b[0m, \u001b[1;36m14893\u001b[0m\u001b[1m)\u001b[0m,\n",
       " \u001b[1;36m3\u001b[0m: \u001b[1m(\u001b[0m\u001b[1;36m12681\u001b[0m, \u001b[1;36m12681\u001b[0m, \u001b[1;36m12681\u001b[0m, \u001b[1;36m13926\u001b[0m\u001b[1m)\u001b[0m,\n",
       " \u001b[1;36m4\u001b[0m: \u001b[1m(\u001b[0m\u001b[1;36m14951\u001b[0m, \u001b[1;36m14951\u001b[0m, \u001b[1;36m14951\u001b[0m, \u001b[1;36m14999\u001b[0m\u001b[1m)\u001b[0m,\n",
       " \u001b[1;36m5\u001b[0m: \u001b[1m(\u001b[0m\u001b[1;36m14284\u001b[0m, \u001b[1;36m14284\u001b[0m, \u001b[1;36m14284\u001b[0m, \u001b[1;36m14888\u001b[0m\u001b[1m)\u001b[0m,\n",
       " \u001b[1;36m6\u001b[0m: \u001b[1m(\u001b[0m\u001b[1;36m14728\u001b[0m, \u001b[1;36m14728\u001b[0m, \u001b[1;36m14728\u001b[0m, \u001b[1;36m14995\u001b[0m\u001b[1m)\u001b[0m,\n",
       " \u001b[1;36m7\u001b[0m: \u001b[1m(\u001b[0m\u001b[1;36m14640\u001b[0m, \u001b[1;36m14640\u001b[0m, \u001b[1;36m14640\u001b[0m, \u001b[1;36m14970\u001b[0m\u001b[1m)\u001b[0m,\n",
       " \u001b[1;36m8\u001b[0m: \u001b[1m(\u001b[0m\u001b[1;36m14572\u001b[0m, \u001b[1;36m14572\u001b[0m, \u001b[1;36m14572\u001b[0m, \u001b[1;36m14589\u001b[0m\u001b[1m)\u001b[0m,\n",
       " \u001b[1;36m9\u001b[0m: \u001b[1m(\u001b[0m\u001b[1;36m262\u001b[0m, \u001b[1;36m262\u001b[0m, \u001b[1;36m262\u001b[0m, \u001b[1;36m619\u001b[0m\u001b[1m)\u001b[0m,\n",
       " \u001b[1;36m10\u001b[0m: \u001b[1m(\u001b[0m\u001b[1;36m6739\u001b[0m, \u001b[1;36m6739\u001b[0m, \u001b[1;36m6739\u001b[0m, \u001b[1;36m10035\u001b[0m\u001b[1m)\u001b[0m,\n",
       " \u001b[1;36m11\u001b[0m: \u001b[1m(\u001b[0m\u001b[1;36m1449\u001b[0m, \u001b[1;36m1449\u001b[0m, \u001b[1;36m1449\u001b[0m, \u001b[1;36m1925\u001b[0m\u001b[1m)\u001b[0m,\n",
       " \u001b[1;36m12\u001b[0m: \u001b[1m(\u001b[0m\u001b[1;36m272\u001b[0m, \u001b[1;36m272\u001b[0m, \u001b[1;36m272\u001b[0m, \u001b[1;36m342\u001b[0m\u001b[1m)\u001b[0m,\n",
       " \u001b[1;36m13\u001b[0m: \u001b[1m(\u001b[0m\u001b[1;36m11621\u001b[0m, \u001b[1;36m11621\u001b[0m, \u001b[1;36m11621\u001b[0m, \u001b[1;36m12179\u001b[0m\u001b[1m)\u001b[0m,\n",
       " \u001b[1;36m14\u001b[0m: \u001b[1m(\u001b[0m\u001b[1;36m11141\u001b[0m, \u001b[1;36m11141\u001b[0m, \u001b[1;36m11141\u001b[0m, \u001b[1;36m11341\u001b[0m\u001b[1m)\u001b[0m,\n",
       " \u001b[1;36m15\u001b[0m: \u001b[1m(\u001b[0m\u001b[1;36m269\u001b[0m, \u001b[1;36m269\u001b[0m, \u001b[1;36m269\u001b[0m, \u001b[1;36m360\u001b[0m\u001b[1m)\u001b[0m,\n",
       " \u001b[1;36m16\u001b[0m: \u001b[1m(\u001b[0m\u001b[1;36m3417\u001b[0m, \u001b[1;36m3417\u001b[0m, \u001b[1;36m3417\u001b[0m, \u001b[1;36m3559\u001b[0m\u001b[1m)\u001b[0m,\n",
       " \u001b[1;36m17\u001b[0m: \u001b[1m(\u001b[0m\u001b[1;36m715\u001b[0m, \u001b[1;36m715\u001b[0m, \u001b[1;36m715\u001b[0m, \u001b[1;36m853\u001b[0m\u001b[1m)\u001b[0m,\n",
       " \u001b[1;36m18\u001b[0m: \u001b[1m(\u001b[0m\u001b[1;36m8671\u001b[0m, \u001b[1;36m8671\u001b[0m, \u001b[1;36m8671\u001b[0m, \u001b[1;36m9070\u001b[0m\u001b[1m)\u001b[0m,\n",
       " \u001b[1;36m20\u001b[0m: \u001b[1m(\u001b[0m\u001b[1;36m2470\u001b[0m, \u001b[1;36m2470\u001b[0m, \u001b[1;36m2470\u001b[0m, \u001b[1;36m3501\u001b[0m\u001b[1m)\u001b[0m,\n",
       " \u001b[1;36m22\u001b[0m: \u001b[1m(\u001b[0m\u001b[1;36m3003\u001b[0m, \u001b[1;36m3003\u001b[0m, \u001b[1;36m3003\u001b[0m, \u001b[1;36m4454\u001b[0m\u001b[1m)\u001b[0m\u001b[1m}\u001b[0m\n"
      ]
     },
     "metadata": {},
     "output_type": "display_data"
    },
    {
     "name": "stdout",
     "output_type": "stream",
     "text": [
      "f\"Got gaze embedding for {sid}.\" : Got gaze embedding for 0.\n",
      "f\"Got gaze embedding for {sid}.\" : Got gaze embedding for 1.\n",
      "f\"Got gaze embedding for {sid}.\" : Got gaze embedding for 2.\n",
      "f\"Got gaze embedding for {sid}.\" : Got gaze embedding for 3.\n",
      "f\"Got gaze embedding for {sid}.\" : Got gaze embedding for 4.\n",
      "f\"Got gaze embedding for {sid}.\" : Got gaze embedding for 5.\n",
      "f\"Got gaze embedding for {sid}.\" : Got gaze embedding for 6.\n",
      "f\"Got gaze embedding for {sid}.\" : Got gaze embedding for 7.\n",
      "f\"Got gaze embedding for {sid}.\" : Got gaze embedding for 8.\n",
      "f\"Not sufficient frames to match {sid}:{len(frames)}\" : Not sufficient frames to match 9:0\n",
      "f\"Got gaze embedding for {sid}.\" : Got gaze embedding for 10.\n",
      "f\"Not sufficient frames to match {sid}:{len(frames)}\" : Not sufficient frames to match 11:2\n",
      "f\"Not sufficient frames to match {sid}:{len(frames)}\" : Not sufficient frames to match 12:1\n",
      "f\"Got gaze embedding for {sid}.\" : Got gaze embedding for 13.\n",
      "f\"Got gaze embedding for {sid}.\" : Got gaze embedding for 14.\n",
      "f\"Not sufficient frames to match {sid}:{len(frames)}\" : Not sufficient frames to match 15:14\n",
      "f\"Not sufficient frames to match {sid}:{len(frames)}\" : Not sufficient frames to match 16:20\n",
      "f\"Not sufficient frames to match {sid}:{len(frames)}\" : Not sufficient frames to match 17:29\n",
      "f\"Got gaze embedding for {sid}.\" : Got gaze embedding for 18.\n",
      "f\"Got gaze embedding for {sid}.\" : Got gaze embedding for 20.\n",
      "f\"Not sufficient frames to match {sid}:{len(frames)}\" : Not sufficient frames to match 22:29\n",
      "f\"Got cluster embedding for {sid}\" : Got cluster embedding for 0\n",
      "f\"Got cluster embedding for {sid}\" : Got cluster embedding for 1\n",
      "f\"Got cluster embedding for {sid}\" : Got cluster embedding for 2\n",
      "f\"Got cluster embedding for {sid}\" : Got cluster embedding for 3\n",
      "f\"Got cluster embedding for {sid}\" : Got cluster embedding for 4\n",
      "f\"Got cluster embedding for {sid}\" : Got cluster embedding for 5\n",
      "f\"Got cluster embedding for {sid}\" : Got cluster embedding for 6\n",
      "f\"Got cluster embedding for {sid}\" : Got cluster embedding for 7\n",
      "f\"Got cluster embedding for {sid}\" : Got cluster embedding for 8\n",
      "f\"Got cluster embedding for {sid}\" : Got cluster embedding for 9\n",
      "f\"Got cluster embedding for {sid}\" : Got cluster embedding for 10\n",
      "f\"Got cluster embedding for {sid}\" : Got cluster embedding for 11\n",
      "f\"All frames are outliers, not proceeding with id {sid}\" : All frames are outliers, not proceeding with id 12\n",
      "f\"Got cluster embedding for {sid}\" : Got cluster embedding for 13\n",
      "f\"Got cluster embedding for {sid}\" : Got cluster embedding for 14\n",
      "f\"All frames are outliers, not proceeding with id {sid}\" : All frames are outliers, not proceeding with id 15\n",
      "f\"Got cluster embedding for {sid}\" : Got cluster embedding for 16\n",
      "f\"Got cluster embedding for {sid}\" : Got cluster embedding for 17\n",
      "f\"Got cluster embedding for {sid}\" : Got cluster embedding for 18\n",
      "f\"Got cluster embedding for {sid}\" : Got cluster embedding for 20\n",
      "f\"Got cluster embedding for {sid}\" : Got cluster embedding for 22\n",
      "sid, face_width_med, face_width_iqd, face_height_med, face_height_iqd, face_x_med, face_x_iqd, face_y_med, face_y_iqd : 22 160.96065 100.15522766113281 185.20721 89.00161743164062 230.25705 29.609817504882812 230.25705 80.0047378540039\n"
     ]
    },
    {
     "data": {
      "text/markdown": [
       "### Got cross session input info for session: 2-17214C, session:3-classinsight-cmu_17214C_ph_225b_201904171130-front"
      ],
      "text/plain": [
       "<IPython.core.display.Markdown object>"
      ]
     },
     "metadata": {},
     "output_type": "display_data"
    },
    {
     "data": {
      "text/markdown": [
       "## Building cross session input info for session: 2-17214C, session:4-classinsight-cmu_17214C_ph_225b_201904241130-front"
      ],
      "text/plain": [
       "<IPython.core.display.Markdown object>"
      ]
     },
     "metadata": {},
     "output_type": "display_data"
    },
    {
     "name": "stdout",
     "output_type": "stream",
     "text": [
      "Dict: eligible_id_map_dict\n",
      "Key: Value\n"
     ]
    },
    {
     "data": {
      "text/html": [
       "<pre style=\"white-space:pre;overflow-x:auto;line-height:normal;font-family:Menlo,'DejaVu Sans Mono',consolas,'Courier New',monospace\"><span style=\"font-weight: bold\">{}</span>\n",
       "</pre>\n"
      ],
      "text/plain": [
       "\u001b[1m{\u001b[0m\u001b[1m}\u001b[0m\n"
      ]
     },
     "metadata": {},
     "output_type": "display_data"
    },
    {
     "name": "stdout",
     "output_type": "stream",
     "text": [
      "\"Corrected\", eligible_id_map_dict : Corrected {}\n",
      "\"replacing ids in old to new id maps\" : replacing ids in old to new id maps\n",
      "Dict: {xr:(gaze_info[xr].shape[0],emb_info[xr].shape[0], face_info[xr].shape[0], bbox_info[xr].shape[0]) for xr in emb_info}\n",
      "Key: Value\n"
     ]
    },
    {
     "data": {
      "text/html": [
       "<pre style=\"white-space:pre;overflow-x:auto;line-height:normal;font-family:Menlo,'DejaVu Sans Mono',consolas,'Courier New',monospace\"><span style=\"font-weight: bold\">{</span><span style=\"color: #008080; text-decoration-color: #008080; font-weight: bold\">0</span>: <span style=\"font-weight: bold\">(</span><span style=\"color: #008080; text-decoration-color: #008080; font-weight: bold\">14981</span>, <span style=\"color: #008080; text-decoration-color: #008080; font-weight: bold\">14981</span>, <span style=\"color: #008080; text-decoration-color: #008080; font-weight: bold\">14981</span>, <span style=\"color: #008080; text-decoration-color: #008080; font-weight: bold\">14987</span><span style=\"font-weight: bold\">)</span>,\n",
       " <span style=\"color: #008080; text-decoration-color: #008080; font-weight: bold\">1</span>: <span style=\"font-weight: bold\">(</span><span style=\"color: #008080; text-decoration-color: #008080; font-weight: bold\">10020</span>, <span style=\"color: #008080; text-decoration-color: #008080; font-weight: bold\">10020</span>, <span style=\"color: #008080; text-decoration-color: #008080; font-weight: bold\">10020</span>, <span style=\"color: #008080; text-decoration-color: #008080; font-weight: bold\">14633</span><span style=\"font-weight: bold\">)</span>,\n",
       " <span style=\"color: #008080; text-decoration-color: #008080; font-weight: bold\">2</span>: <span style=\"font-weight: bold\">(</span><span style=\"color: #008080; text-decoration-color: #008080; font-weight: bold\">14938</span>, <span style=\"color: #008080; text-decoration-color: #008080; font-weight: bold\">14938</span>, <span style=\"color: #008080; text-decoration-color: #008080; font-weight: bold\">14938</span>, <span style=\"color: #008080; text-decoration-color: #008080; font-weight: bold\">14972</span><span style=\"font-weight: bold\">)</span>,\n",
       " <span style=\"color: #008080; text-decoration-color: #008080; font-weight: bold\">3</span>: <span style=\"font-weight: bold\">(</span><span style=\"color: #008080; text-decoration-color: #008080; font-weight: bold\">14847</span>, <span style=\"color: #008080; text-decoration-color: #008080; font-weight: bold\">14847</span>, <span style=\"color: #008080; text-decoration-color: #008080; font-weight: bold\">14847</span>, <span style=\"color: #008080; text-decoration-color: #008080; font-weight: bold\">14979</span><span style=\"font-weight: bold\">)</span>,\n",
       " <span style=\"color: #008080; text-decoration-color: #008080; font-weight: bold\">4</span>: <span style=\"font-weight: bold\">(</span><span style=\"color: #008080; text-decoration-color: #008080; font-weight: bold\">14891</span>, <span style=\"color: #008080; text-decoration-color: #008080; font-weight: bold\">14891</span>, <span style=\"color: #008080; text-decoration-color: #008080; font-weight: bold\">14891</span>, <span style=\"color: #008080; text-decoration-color: #008080; font-weight: bold\">14942</span><span style=\"font-weight: bold\">)</span>,\n",
       " <span style=\"color: #008080; text-decoration-color: #008080; font-weight: bold\">5</span>: <span style=\"font-weight: bold\">(</span><span style=\"color: #008080; text-decoration-color: #008080; font-weight: bold\">14954</span>, <span style=\"color: #008080; text-decoration-color: #008080; font-weight: bold\">14954</span>, <span style=\"color: #008080; text-decoration-color: #008080; font-weight: bold\">14954</span>, <span style=\"color: #008080; text-decoration-color: #008080; font-weight: bold\">14963</span><span style=\"font-weight: bold\">)</span>,\n",
       " <span style=\"color: #008080; text-decoration-color: #008080; font-weight: bold\">6</span>: <span style=\"font-weight: bold\">(</span><span style=\"color: #008080; text-decoration-color: #008080; font-weight: bold\">14969</span>, <span style=\"color: #008080; text-decoration-color: #008080; font-weight: bold\">14969</span>, <span style=\"color: #008080; text-decoration-color: #008080; font-weight: bold\">14969</span>, <span style=\"color: #008080; text-decoration-color: #008080; font-weight: bold\">14974</span><span style=\"font-weight: bold\">)</span>,\n",
       " <span style=\"color: #008080; text-decoration-color: #008080; font-weight: bold\">7</span>: <span style=\"font-weight: bold\">(</span><span style=\"color: #008080; text-decoration-color: #008080; font-weight: bold\">522</span>, <span style=\"color: #008080; text-decoration-color: #008080; font-weight: bold\">522</span>, <span style=\"color: #008080; text-decoration-color: #008080; font-weight: bold\">522</span>, <span style=\"color: #008080; text-decoration-color: #008080; font-weight: bold\">1356</span><span style=\"font-weight: bold\">)</span>,\n",
       " <span style=\"color: #008080; text-decoration-color: #008080; font-weight: bold\">8</span>: <span style=\"font-weight: bold\">(</span><span style=\"color: #008080; text-decoration-color: #008080; font-weight: bold\">3459</span>, <span style=\"color: #008080; text-decoration-color: #008080; font-weight: bold\">3459</span>, <span style=\"color: #008080; text-decoration-color: #008080; font-weight: bold\">3459</span>, <span style=\"color: #008080; text-decoration-color: #008080; font-weight: bold\">14636</span><span style=\"font-weight: bold\">)</span>,\n",
       " <span style=\"color: #008080; text-decoration-color: #008080; font-weight: bold\">9</span>: <span style=\"font-weight: bold\">(</span><span style=\"color: #008080; text-decoration-color: #008080; font-weight: bold\">13816</span>, <span style=\"color: #008080; text-decoration-color: #008080; font-weight: bold\">13816</span>, <span style=\"color: #008080; text-decoration-color: #008080; font-weight: bold\">13816</span>, <span style=\"color: #008080; text-decoration-color: #008080; font-weight: bold\">14159</span><span style=\"font-weight: bold\">)</span>,\n",
       " <span style=\"color: #008080; text-decoration-color: #008080; font-weight: bold\">10</span>: <span style=\"font-weight: bold\">(</span><span style=\"color: #008080; text-decoration-color: #008080; font-weight: bold\">13807</span>, <span style=\"color: #008080; text-decoration-color: #008080; font-weight: bold\">13807</span>, <span style=\"color: #008080; text-decoration-color: #008080; font-weight: bold\">13807</span>, <span style=\"color: #008080; text-decoration-color: #008080; font-weight: bold\">14116</span><span style=\"font-weight: bold\">)</span>,\n",
       " <span style=\"color: #008080; text-decoration-color: #008080; font-weight: bold\">11</span>: <span style=\"font-weight: bold\">(</span><span style=\"color: #008080; text-decoration-color: #008080; font-weight: bold\">13987</span>, <span style=\"color: #008080; text-decoration-color: #008080; font-weight: bold\">13987</span>, <span style=\"color: #008080; text-decoration-color: #008080; font-weight: bold\">13987</span>, <span style=\"color: #008080; text-decoration-color: #008080; font-weight: bold\">14034</span><span style=\"font-weight: bold\">)</span>,\n",
       " <span style=\"color: #008080; text-decoration-color: #008080; font-weight: bold\">12</span>: <span style=\"font-weight: bold\">(</span><span style=\"color: #008080; text-decoration-color: #008080; font-weight: bold\">10110</span>, <span style=\"color: #008080; text-decoration-color: #008080; font-weight: bold\">10110</span>, <span style=\"color: #008080; text-decoration-color: #008080; font-weight: bold\">10110</span>, <span style=\"color: #008080; text-decoration-color: #008080; font-weight: bold\">12573</span><span style=\"font-weight: bold\">)</span>,\n",
       " <span style=\"color: #008080; text-decoration-color: #008080; font-weight: bold\">13</span>: <span style=\"font-weight: bold\">(</span><span style=\"color: #008080; text-decoration-color: #008080; font-weight: bold\">10563</span>, <span style=\"color: #008080; text-decoration-color: #008080; font-weight: bold\">10563</span>, <span style=\"color: #008080; text-decoration-color: #008080; font-weight: bold\">10563</span>, <span style=\"color: #008080; text-decoration-color: #008080; font-weight: bold\">10588</span><span style=\"font-weight: bold\">)</span>,\n",
       " <span style=\"color: #008080; text-decoration-color: #008080; font-weight: bold\">14</span>: <span style=\"font-weight: bold\">(</span><span style=\"color: #008080; text-decoration-color: #008080; font-weight: bold\">461</span>, <span style=\"color: #008080; text-decoration-color: #008080; font-weight: bold\">461</span>, <span style=\"color: #008080; text-decoration-color: #008080; font-weight: bold\">461</span>, <span style=\"color: #008080; text-decoration-color: #008080; font-weight: bold\">471</span><span style=\"font-weight: bold\">)}</span>\n",
       "</pre>\n"
      ],
      "text/plain": [
       "\u001b[1m{\u001b[0m\u001b[1;36m0\u001b[0m: \u001b[1m(\u001b[0m\u001b[1;36m14981\u001b[0m, \u001b[1;36m14981\u001b[0m, \u001b[1;36m14981\u001b[0m, \u001b[1;36m14987\u001b[0m\u001b[1m)\u001b[0m,\n",
       " \u001b[1;36m1\u001b[0m: \u001b[1m(\u001b[0m\u001b[1;36m10020\u001b[0m, \u001b[1;36m10020\u001b[0m, \u001b[1;36m10020\u001b[0m, \u001b[1;36m14633\u001b[0m\u001b[1m)\u001b[0m,\n",
       " \u001b[1;36m2\u001b[0m: \u001b[1m(\u001b[0m\u001b[1;36m14938\u001b[0m, \u001b[1;36m14938\u001b[0m, \u001b[1;36m14938\u001b[0m, \u001b[1;36m14972\u001b[0m\u001b[1m)\u001b[0m,\n",
       " \u001b[1;36m3\u001b[0m: \u001b[1m(\u001b[0m\u001b[1;36m14847\u001b[0m, \u001b[1;36m14847\u001b[0m, \u001b[1;36m14847\u001b[0m, \u001b[1;36m14979\u001b[0m\u001b[1m)\u001b[0m,\n",
       " \u001b[1;36m4\u001b[0m: \u001b[1m(\u001b[0m\u001b[1;36m14891\u001b[0m, \u001b[1;36m14891\u001b[0m, \u001b[1;36m14891\u001b[0m, \u001b[1;36m14942\u001b[0m\u001b[1m)\u001b[0m,\n",
       " \u001b[1;36m5\u001b[0m: \u001b[1m(\u001b[0m\u001b[1;36m14954\u001b[0m, \u001b[1;36m14954\u001b[0m, \u001b[1;36m14954\u001b[0m, \u001b[1;36m14963\u001b[0m\u001b[1m)\u001b[0m,\n",
       " \u001b[1;36m6\u001b[0m: \u001b[1m(\u001b[0m\u001b[1;36m14969\u001b[0m, \u001b[1;36m14969\u001b[0m, \u001b[1;36m14969\u001b[0m, \u001b[1;36m14974\u001b[0m\u001b[1m)\u001b[0m,\n",
       " \u001b[1;36m7\u001b[0m: \u001b[1m(\u001b[0m\u001b[1;36m522\u001b[0m, \u001b[1;36m522\u001b[0m, \u001b[1;36m522\u001b[0m, \u001b[1;36m1356\u001b[0m\u001b[1m)\u001b[0m,\n",
       " \u001b[1;36m8\u001b[0m: \u001b[1m(\u001b[0m\u001b[1;36m3459\u001b[0m, \u001b[1;36m3459\u001b[0m, \u001b[1;36m3459\u001b[0m, \u001b[1;36m14636\u001b[0m\u001b[1m)\u001b[0m,\n",
       " \u001b[1;36m9\u001b[0m: \u001b[1m(\u001b[0m\u001b[1;36m13816\u001b[0m, \u001b[1;36m13816\u001b[0m, \u001b[1;36m13816\u001b[0m, \u001b[1;36m14159\u001b[0m\u001b[1m)\u001b[0m,\n",
       " \u001b[1;36m10\u001b[0m: \u001b[1m(\u001b[0m\u001b[1;36m13807\u001b[0m, \u001b[1;36m13807\u001b[0m, \u001b[1;36m13807\u001b[0m, \u001b[1;36m14116\u001b[0m\u001b[1m)\u001b[0m,\n",
       " \u001b[1;36m11\u001b[0m: \u001b[1m(\u001b[0m\u001b[1;36m13987\u001b[0m, \u001b[1;36m13987\u001b[0m, \u001b[1;36m13987\u001b[0m, \u001b[1;36m14034\u001b[0m\u001b[1m)\u001b[0m,\n",
       " \u001b[1;36m12\u001b[0m: \u001b[1m(\u001b[0m\u001b[1;36m10110\u001b[0m, \u001b[1;36m10110\u001b[0m, \u001b[1;36m10110\u001b[0m, \u001b[1;36m12573\u001b[0m\u001b[1m)\u001b[0m,\n",
       " \u001b[1;36m13\u001b[0m: \u001b[1m(\u001b[0m\u001b[1;36m10563\u001b[0m, \u001b[1;36m10563\u001b[0m, \u001b[1;36m10563\u001b[0m, \u001b[1;36m10588\u001b[0m\u001b[1m)\u001b[0m,\n",
       " \u001b[1;36m14\u001b[0m: \u001b[1m(\u001b[0m\u001b[1;36m461\u001b[0m, \u001b[1;36m461\u001b[0m, \u001b[1;36m461\u001b[0m, \u001b[1;36m471\u001b[0m\u001b[1m)\u001b[0m\u001b[1m}\u001b[0m\n"
      ]
     },
     "metadata": {},
     "output_type": "display_data"
    },
    {
     "name": "stdout",
     "output_type": "stream",
     "text": [
      "f\"Got gaze embedding for {sid}.\" : Got gaze embedding for 0.\n",
      "f\"Got gaze embedding for {sid}.\" : Got gaze embedding for 1.\n",
      "f\"Got gaze embedding for {sid}.\" : Got gaze embedding for 2.\n",
      "f\"Got gaze embedding for {sid}.\" : Got gaze embedding for 3.\n",
      "f\"Got gaze embedding for {sid}.\" : Got gaze embedding for 4.\n",
      "f\"Got gaze embedding for {sid}.\" : Got gaze embedding for 5.\n",
      "f\"Got gaze embedding for {sid}.\" : Got gaze embedding for 6.\n",
      "f\"Not sufficient frames to match {sid}:{len(frames)}\" : Not sufficient frames to match 7:0\n",
      "f\"Got gaze embedding for {sid}.\" : Got gaze embedding for 8.\n",
      "f\"Got gaze embedding for {sid}.\" : Got gaze embedding for 9.\n",
      "f\"Got gaze embedding for {sid}.\" : Got gaze embedding for 10.\n",
      "f\"Got gaze embedding for {sid}.\" : Got gaze embedding for 11.\n",
      "f\"Got gaze embedding for {sid}.\" : Got gaze embedding for 12.\n",
      "f\"Got gaze embedding for {sid}.\" : Got gaze embedding for 13.\n",
      "f\"Not sufficient frames to match {sid}:{len(frames)}\" : Not sufficient frames to match 14:3\n",
      "f\"Got cluster embedding for {sid}\" : Got cluster embedding for 0\n",
      "f\"Got cluster embedding for {sid}\" : Got cluster embedding for 1\n",
      "f\"Got cluster embedding for {sid}\" : Got cluster embedding for 2\n",
      "f\"Got cluster embedding for {sid}\" : Got cluster embedding for 3\n",
      "f\"Got cluster embedding for {sid}\" : Got cluster embedding for 4\n",
      "f\"Got cluster embedding for {sid}\" : Got cluster embedding for 5\n",
      "f\"Got cluster embedding for {sid}\" : Got cluster embedding for 6\n",
      "f\"Got cluster embedding for {sid}\" : Got cluster embedding for 7\n",
      "f\"Got cluster embedding for {sid}\" : Got cluster embedding for 8\n",
      "f\"Got cluster embedding for {sid}\" : Got cluster embedding for 9\n",
      "f\"Got cluster embedding for {sid}\" : Got cluster embedding for 10\n",
      "f\"Got cluster embedding for {sid}\" : Got cluster embedding for 11\n",
      "f\"Got cluster embedding for {sid}\" : Got cluster embedding for 12\n",
      "f\"Got cluster embedding for {sid}\" : Got cluster embedding for 13\n",
      "f\"Got cluster embedding for {sid}\" : Got cluster embedding for 14\n",
      "sid, face_width_med, face_width_iqd, face_height_med, face_height_iqd, face_x_med, face_x_iqd, face_y_med, face_y_iqd : 14 92.81177 18.221755981445312 138.6949 19.952301025390625 600.7333 43.62939453125 600.7333 12.9053955078125\n"
     ]
    },
    {
     "data": {
      "text/markdown": [
       "### Got cross session input info for session: 2-17214C, session:4-classinsight-cmu_17214C_ph_225b_201904241130-front"
      ],
      "text/plain": [
       "<IPython.core.display.Markdown object>"
      ]
     },
     "metadata": {},
     "output_type": "display_data"
    },
    {
     "data": {
      "text/markdown": [
       "## Building cross session input info for session: 2-17214C, session:5-classinsight-cmu_17214C_ph_225b_201905011130-front"
      ],
      "text/plain": [
       "<IPython.core.display.Markdown object>"
      ]
     },
     "metadata": {},
     "output_type": "display_data"
    },
    {
     "name": "stdout",
     "output_type": "stream",
     "text": [
      "Dict: eligible_id_map_dict\n",
      "Key: Value\n"
     ]
    },
    {
     "data": {
      "text/html": [
       "<pre style=\"white-space:pre;overflow-x:auto;line-height:normal;font-family:Menlo,'DejaVu Sans Mono',consolas,'Courier New',monospace\"><span style=\"font-weight: bold\">{}</span>\n",
       "</pre>\n"
      ],
      "text/plain": [
       "\u001b[1m{\u001b[0m\u001b[1m}\u001b[0m\n"
      ]
     },
     "metadata": {},
     "output_type": "display_data"
    },
    {
     "name": "stdout",
     "output_type": "stream",
     "text": [
      "\"Corrected\", eligible_id_map_dict : Corrected {}\n",
      "\"replacing ids in old to new id maps\" : replacing ids in old to new id maps\n",
      "Dict: {xr:(gaze_info[xr].shape[0],emb_info[xr].shape[0], face_info[xr].shape[0], bbox_info[xr].shape[0]) for xr in emb_info}\n",
      "Key: Value\n"
     ]
    },
    {
     "data": {
      "text/html": [
       "<pre style=\"white-space:pre;overflow-x:auto;line-height:normal;font-family:Menlo,'DejaVu Sans Mono',consolas,'Courier New',monospace\"><span style=\"font-weight: bold\">{</span><span style=\"color: #008080; text-decoration-color: #008080; font-weight: bold\">0</span>: <span style=\"font-weight: bold\">(</span><span style=\"color: #008080; text-decoration-color: #008080; font-weight: bold\">9915</span>, <span style=\"color: #008080; text-decoration-color: #008080; font-weight: bold\">9915</span>, <span style=\"color: #008080; text-decoration-color: #008080; font-weight: bold\">9915</span>, <span style=\"color: #008080; text-decoration-color: #008080; font-weight: bold\">10128</span><span style=\"font-weight: bold\">)</span>,\n",
       " <span style=\"color: #008080; text-decoration-color: #008080; font-weight: bold\">1</span>: <span style=\"font-weight: bold\">(</span><span style=\"color: #008080; text-decoration-color: #008080; font-weight: bold\">10213</span>, <span style=\"color: #008080; text-decoration-color: #008080; font-weight: bold\">10213</span>, <span style=\"color: #008080; text-decoration-color: #008080; font-weight: bold\">10213</span>, <span style=\"color: #008080; text-decoration-color: #008080; font-weight: bold\">10715</span><span style=\"font-weight: bold\">)</span>,\n",
       " <span style=\"color: #008080; text-decoration-color: #008080; font-weight: bold\">2</span>: <span style=\"font-weight: bold\">(</span><span style=\"color: #008080; text-decoration-color: #008080; font-weight: bold\">14076</span>, <span style=\"color: #008080; text-decoration-color: #008080; font-weight: bold\">14076</span>, <span style=\"color: #008080; text-decoration-color: #008080; font-weight: bold\">14076</span>, <span style=\"color: #008080; text-decoration-color: #008080; font-weight: bold\">14986</span><span style=\"font-weight: bold\">)</span>,\n",
       " <span style=\"color: #008080; text-decoration-color: #008080; font-weight: bold\">3</span>: <span style=\"font-weight: bold\">(</span><span style=\"color: #008080; text-decoration-color: #008080; font-weight: bold\">7890</span>, <span style=\"color: #008080; text-decoration-color: #008080; font-weight: bold\">7890</span>, <span style=\"color: #008080; text-decoration-color: #008080; font-weight: bold\">7890</span>, <span style=\"color: #008080; text-decoration-color: #008080; font-weight: bold\">8143</span><span style=\"font-weight: bold\">)</span>,\n",
       " <span style=\"color: #008080; text-decoration-color: #008080; font-weight: bold\">4</span>: <span style=\"font-weight: bold\">(</span><span style=\"color: #008080; text-decoration-color: #008080; font-weight: bold\">11497</span>, <span style=\"color: #008080; text-decoration-color: #008080; font-weight: bold\">11497</span>, <span style=\"color: #008080; text-decoration-color: #008080; font-weight: bold\">11497</span>, <span style=\"color: #008080; text-decoration-color: #008080; font-weight: bold\">11584</span><span style=\"font-weight: bold\">)</span>,\n",
       " <span style=\"color: #008080; text-decoration-color: #008080; font-weight: bold\">5</span>: <span style=\"font-weight: bold\">(</span><span style=\"color: #008080; text-decoration-color: #008080; font-weight: bold\">14541</span>, <span style=\"color: #008080; text-decoration-color: #008080; font-weight: bold\">14541</span>, <span style=\"color: #008080; text-decoration-color: #008080; font-weight: bold\">14541</span>, <span style=\"color: #008080; text-decoration-color: #008080; font-weight: bold\">14981</span><span style=\"font-weight: bold\">)</span>,\n",
       " <span style=\"color: #008080; text-decoration-color: #008080; font-weight: bold\">6</span>: <span style=\"font-weight: bold\">(</span><span style=\"color: #008080; text-decoration-color: #008080; font-weight: bold\">12442</span>, <span style=\"color: #008080; text-decoration-color: #008080; font-weight: bold\">12442</span>, <span style=\"color: #008080; text-decoration-color: #008080; font-weight: bold\">12442</span>, <span style=\"color: #008080; text-decoration-color: #008080; font-weight: bold\">12868</span><span style=\"font-weight: bold\">)</span>,\n",
       " <span style=\"color: #008080; text-decoration-color: #008080; font-weight: bold\">7</span>: <span style=\"font-weight: bold\">(</span><span style=\"color: #008080; text-decoration-color: #008080; font-weight: bold\">10285</span>, <span style=\"color: #008080; text-decoration-color: #008080; font-weight: bold\">10285</span>, <span style=\"color: #008080; text-decoration-color: #008080; font-weight: bold\">10285</span>, <span style=\"color: #008080; text-decoration-color: #008080; font-weight: bold\">14932</span><span style=\"font-weight: bold\">)</span>,\n",
       " <span style=\"color: #008080; text-decoration-color: #008080; font-weight: bold\">8</span>: <span style=\"font-weight: bold\">(</span><span style=\"color: #008080; text-decoration-color: #008080; font-weight: bold\">3276</span>, <span style=\"color: #008080; text-decoration-color: #008080; font-weight: bold\">3276</span>, <span style=\"color: #008080; text-decoration-color: #008080; font-weight: bold\">3276</span>, <span style=\"color: #008080; text-decoration-color: #008080; font-weight: bold\">4872</span><span style=\"font-weight: bold\">)</span>,\n",
       " <span style=\"color: #008080; text-decoration-color: #008080; font-weight: bold\">9</span>: <span style=\"font-weight: bold\">(</span><span style=\"color: #008080; text-decoration-color: #008080; font-weight: bold\">1207</span>, <span style=\"color: #008080; text-decoration-color: #008080; font-weight: bold\">1207</span>, <span style=\"color: #008080; text-decoration-color: #008080; font-weight: bold\">1207</span>, <span style=\"color: #008080; text-decoration-color: #008080; font-weight: bold\">11763</span><span style=\"font-weight: bold\">)</span>,\n",
       " <span style=\"color: #008080; text-decoration-color: #008080; font-weight: bold\">10</span>: <span style=\"font-weight: bold\">(</span><span style=\"color: #008080; text-decoration-color: #008080; font-weight: bold\">14407</span>, <span style=\"color: #008080; text-decoration-color: #008080; font-weight: bold\">14407</span>, <span style=\"color: #008080; text-decoration-color: #008080; font-weight: bold\">14407</span>, <span style=\"color: #008080; text-decoration-color: #008080; font-weight: bold\">14446</span><span style=\"font-weight: bold\">)</span>,\n",
       " <span style=\"color: #008080; text-decoration-color: #008080; font-weight: bold\">11</span>: <span style=\"font-weight: bold\">(</span><span style=\"color: #008080; text-decoration-color: #008080; font-weight: bold\">12993</span>, <span style=\"color: #008080; text-decoration-color: #008080; font-weight: bold\">12993</span>, <span style=\"color: #008080; text-decoration-color: #008080; font-weight: bold\">12993</span>, <span style=\"color: #008080; text-decoration-color: #008080; font-weight: bold\">14082</span><span style=\"font-weight: bold\">)</span>,\n",
       " <span style=\"color: #008080; text-decoration-color: #008080; font-weight: bold\">12</span>: <span style=\"font-weight: bold\">(</span><span style=\"color: #008080; text-decoration-color: #008080; font-weight: bold\">11715</span>, <span style=\"color: #008080; text-decoration-color: #008080; font-weight: bold\">11715</span>, <span style=\"color: #008080; text-decoration-color: #008080; font-weight: bold\">11715</span>, <span style=\"color: #008080; text-decoration-color: #008080; font-weight: bold\">11859</span><span style=\"font-weight: bold\">)</span>,\n",
       " <span style=\"color: #008080; text-decoration-color: #008080; font-weight: bold\">13</span>: <span style=\"font-weight: bold\">(</span><span style=\"color: #008080; text-decoration-color: #008080; font-weight: bold\">10845</span>, <span style=\"color: #008080; text-decoration-color: #008080; font-weight: bold\">10845</span>, <span style=\"color: #008080; text-decoration-color: #008080; font-weight: bold\">10845</span>, <span style=\"color: #008080; text-decoration-color: #008080; font-weight: bold\">10927</span><span style=\"font-weight: bold\">)</span>,\n",
       " <span style=\"color: #008080; text-decoration-color: #008080; font-weight: bold\">14</span>: <span style=\"font-weight: bold\">(</span><span style=\"color: #008080; text-decoration-color: #008080; font-weight: bold\">1139</span>, <span style=\"color: #008080; text-decoration-color: #008080; font-weight: bold\">1139</span>, <span style=\"color: #008080; text-decoration-color: #008080; font-weight: bold\">1139</span>, <span style=\"color: #008080; text-decoration-color: #008080; font-weight: bold\">1270</span><span style=\"font-weight: bold\">)</span>,\n",
       " <span style=\"color: #008080; text-decoration-color: #008080; font-weight: bold\">15</span>: <span style=\"font-weight: bold\">(</span><span style=\"color: #008080; text-decoration-color: #008080; font-weight: bold\">459</span>, <span style=\"color: #008080; text-decoration-color: #008080; font-weight: bold\">459</span>, <span style=\"color: #008080; text-decoration-color: #008080; font-weight: bold\">459</span>, <span style=\"color: #008080; text-decoration-color: #008080; font-weight: bold\">498</span><span style=\"font-weight: bold\">)</span>,\n",
       " <span style=\"color: #008080; text-decoration-color: #008080; font-weight: bold\">16</span>: <span style=\"font-weight: bold\">(</span><span style=\"color: #008080; text-decoration-color: #008080; font-weight: bold\">6216</span>, <span style=\"color: #008080; text-decoration-color: #008080; font-weight: bold\">6216</span>, <span style=\"color: #008080; text-decoration-color: #008080; font-weight: bold\">6216</span>, <span style=\"color: #008080; text-decoration-color: #008080; font-weight: bold\">6986</span><span style=\"font-weight: bold\">)</span>,\n",
       " <span style=\"color: #008080; text-decoration-color: #008080; font-weight: bold\">17</span>: <span style=\"font-weight: bold\">(</span><span style=\"color: #008080; text-decoration-color: #008080; font-weight: bold\">6708</span>, <span style=\"color: #008080; text-decoration-color: #008080; font-weight: bold\">6708</span>, <span style=\"color: #008080; text-decoration-color: #008080; font-weight: bold\">6708</span>, <span style=\"color: #008080; text-decoration-color: #008080; font-weight: bold\">6865</span><span style=\"font-weight: bold\">)</span>,\n",
       " <span style=\"color: #008080; text-decoration-color: #008080; font-weight: bold\">18</span>: <span style=\"font-weight: bold\">(</span><span style=\"color: #008080; text-decoration-color: #008080; font-weight: bold\">4844</span>, <span style=\"color: #008080; text-decoration-color: #008080; font-weight: bold\">4844</span>, <span style=\"color: #008080; text-decoration-color: #008080; font-weight: bold\">4844</span>, <span style=\"color: #008080; text-decoration-color: #008080; font-weight: bold\">4848</span><span style=\"font-weight: bold\">)</span>,\n",
       " <span style=\"color: #008080; text-decoration-color: #008080; font-weight: bold\">19</span>: <span style=\"font-weight: bold\">(</span><span style=\"color: #008080; text-decoration-color: #008080; font-weight: bold\">3358</span>, <span style=\"color: #008080; text-decoration-color: #008080; font-weight: bold\">3358</span>, <span style=\"color: #008080; text-decoration-color: #008080; font-weight: bold\">3358</span>, <span style=\"color: #008080; text-decoration-color: #008080; font-weight: bold\">4251</span><span style=\"font-weight: bold\">)</span>,\n",
       " <span style=\"color: #008080; text-decoration-color: #008080; font-weight: bold\">20</span>: <span style=\"font-weight: bold\">(</span><span style=\"color: #008080; text-decoration-color: #008080; font-weight: bold\">797</span>, <span style=\"color: #008080; text-decoration-color: #008080; font-weight: bold\">797</span>, <span style=\"color: #008080; text-decoration-color: #008080; font-weight: bold\">797</span>, <span style=\"color: #008080; text-decoration-color: #008080; font-weight: bold\">873</span><span style=\"font-weight: bold\">)</span>,\n",
       " <span style=\"color: #008080; text-decoration-color: #008080; font-weight: bold\">21</span>: <span style=\"font-weight: bold\">(</span><span style=\"color: #008080; text-decoration-color: #008080; font-weight: bold\">1128</span>, <span style=\"color: #008080; text-decoration-color: #008080; font-weight: bold\">1128</span>, <span style=\"color: #008080; text-decoration-color: #008080; font-weight: bold\">1128</span>, <span style=\"color: #008080; text-decoration-color: #008080; font-weight: bold\">1128</span><span style=\"font-weight: bold\">)</span>,\n",
       " <span style=\"color: #008080; text-decoration-color: #008080; font-weight: bold\">22</span>: <span style=\"font-weight: bold\">(</span><span style=\"color: #008080; text-decoration-color: #008080; font-weight: bold\">14</span>, <span style=\"color: #008080; text-decoration-color: #008080; font-weight: bold\">14</span>, <span style=\"color: #008080; text-decoration-color: #008080; font-weight: bold\">14</span>, <span style=\"color: #008080; text-decoration-color: #008080; font-weight: bold\">602</span><span style=\"font-weight: bold\">)</span>,\n",
       " <span style=\"color: #008080; text-decoration-color: #008080; font-weight: bold\">23</span>: <span style=\"font-weight: bold\">(</span><span style=\"color: #008080; text-decoration-color: #008080; font-weight: bold\">1266</span>, <span style=\"color: #008080; text-decoration-color: #008080; font-weight: bold\">1266</span>, <span style=\"color: #008080; text-decoration-color: #008080; font-weight: bold\">1266</span>, <span style=\"color: #008080; text-decoration-color: #008080; font-weight: bold\">1837</span><span style=\"font-weight: bold\">)</span>,\n",
       " <span style=\"color: #008080; text-decoration-color: #008080; font-weight: bold\">24</span>: <span style=\"font-weight: bold\">(</span><span style=\"color: #008080; text-decoration-color: #008080; font-weight: bold\">117</span>, <span style=\"color: #008080; text-decoration-color: #008080; font-weight: bold\">117</span>, <span style=\"color: #008080; text-decoration-color: #008080; font-weight: bold\">117</span>, <span style=\"color: #008080; text-decoration-color: #008080; font-weight: bold\">1437</span><span style=\"font-weight: bold\">)</span>,\n",
       " <span style=\"color: #008080; text-decoration-color: #008080; font-weight: bold\">25</span>: <span style=\"font-weight: bold\">(</span><span style=\"color: #008080; text-decoration-color: #008080; font-weight: bold\">738</span>, <span style=\"color: #008080; text-decoration-color: #008080; font-weight: bold\">738</span>, <span style=\"color: #008080; text-decoration-color: #008080; font-weight: bold\">738</span>, <span style=\"color: #008080; text-decoration-color: #008080; font-weight: bold\">738</span><span style=\"font-weight: bold\">)}</span>\n",
       "</pre>\n"
      ],
      "text/plain": [
       "\u001b[1m{\u001b[0m\u001b[1;36m0\u001b[0m: \u001b[1m(\u001b[0m\u001b[1;36m9915\u001b[0m, \u001b[1;36m9915\u001b[0m, \u001b[1;36m9915\u001b[0m, \u001b[1;36m10128\u001b[0m\u001b[1m)\u001b[0m,\n",
       " \u001b[1;36m1\u001b[0m: \u001b[1m(\u001b[0m\u001b[1;36m10213\u001b[0m, \u001b[1;36m10213\u001b[0m, \u001b[1;36m10213\u001b[0m, \u001b[1;36m10715\u001b[0m\u001b[1m)\u001b[0m,\n",
       " \u001b[1;36m2\u001b[0m: \u001b[1m(\u001b[0m\u001b[1;36m14076\u001b[0m, \u001b[1;36m14076\u001b[0m, \u001b[1;36m14076\u001b[0m, \u001b[1;36m14986\u001b[0m\u001b[1m)\u001b[0m,\n",
       " \u001b[1;36m3\u001b[0m: \u001b[1m(\u001b[0m\u001b[1;36m7890\u001b[0m, \u001b[1;36m7890\u001b[0m, \u001b[1;36m7890\u001b[0m, \u001b[1;36m8143\u001b[0m\u001b[1m)\u001b[0m,\n",
       " \u001b[1;36m4\u001b[0m: \u001b[1m(\u001b[0m\u001b[1;36m11497\u001b[0m, \u001b[1;36m11497\u001b[0m, \u001b[1;36m11497\u001b[0m, \u001b[1;36m11584\u001b[0m\u001b[1m)\u001b[0m,\n",
       " \u001b[1;36m5\u001b[0m: \u001b[1m(\u001b[0m\u001b[1;36m14541\u001b[0m, \u001b[1;36m14541\u001b[0m, \u001b[1;36m14541\u001b[0m, \u001b[1;36m14981\u001b[0m\u001b[1m)\u001b[0m,\n",
       " \u001b[1;36m6\u001b[0m: \u001b[1m(\u001b[0m\u001b[1;36m12442\u001b[0m, \u001b[1;36m12442\u001b[0m, \u001b[1;36m12442\u001b[0m, \u001b[1;36m12868\u001b[0m\u001b[1m)\u001b[0m,\n",
       " \u001b[1;36m7\u001b[0m: \u001b[1m(\u001b[0m\u001b[1;36m10285\u001b[0m, \u001b[1;36m10285\u001b[0m, \u001b[1;36m10285\u001b[0m, \u001b[1;36m14932\u001b[0m\u001b[1m)\u001b[0m,\n",
       " \u001b[1;36m8\u001b[0m: \u001b[1m(\u001b[0m\u001b[1;36m3276\u001b[0m, \u001b[1;36m3276\u001b[0m, \u001b[1;36m3276\u001b[0m, \u001b[1;36m4872\u001b[0m\u001b[1m)\u001b[0m,\n",
       " \u001b[1;36m9\u001b[0m: \u001b[1m(\u001b[0m\u001b[1;36m1207\u001b[0m, \u001b[1;36m1207\u001b[0m, \u001b[1;36m1207\u001b[0m, \u001b[1;36m11763\u001b[0m\u001b[1m)\u001b[0m,\n",
       " \u001b[1;36m10\u001b[0m: \u001b[1m(\u001b[0m\u001b[1;36m14407\u001b[0m, \u001b[1;36m14407\u001b[0m, \u001b[1;36m14407\u001b[0m, \u001b[1;36m14446\u001b[0m\u001b[1m)\u001b[0m,\n",
       " \u001b[1;36m11\u001b[0m: \u001b[1m(\u001b[0m\u001b[1;36m12993\u001b[0m, \u001b[1;36m12993\u001b[0m, \u001b[1;36m12993\u001b[0m, \u001b[1;36m14082\u001b[0m\u001b[1m)\u001b[0m,\n",
       " \u001b[1;36m12\u001b[0m: \u001b[1m(\u001b[0m\u001b[1;36m11715\u001b[0m, \u001b[1;36m11715\u001b[0m, \u001b[1;36m11715\u001b[0m, \u001b[1;36m11859\u001b[0m\u001b[1m)\u001b[0m,\n",
       " \u001b[1;36m13\u001b[0m: \u001b[1m(\u001b[0m\u001b[1;36m10845\u001b[0m, \u001b[1;36m10845\u001b[0m, \u001b[1;36m10845\u001b[0m, \u001b[1;36m10927\u001b[0m\u001b[1m)\u001b[0m,\n",
       " \u001b[1;36m14\u001b[0m: \u001b[1m(\u001b[0m\u001b[1;36m1139\u001b[0m, \u001b[1;36m1139\u001b[0m, \u001b[1;36m1139\u001b[0m, \u001b[1;36m1270\u001b[0m\u001b[1m)\u001b[0m,\n",
       " \u001b[1;36m15\u001b[0m: \u001b[1m(\u001b[0m\u001b[1;36m459\u001b[0m, \u001b[1;36m459\u001b[0m, \u001b[1;36m459\u001b[0m, \u001b[1;36m498\u001b[0m\u001b[1m)\u001b[0m,\n",
       " \u001b[1;36m16\u001b[0m: \u001b[1m(\u001b[0m\u001b[1;36m6216\u001b[0m, \u001b[1;36m6216\u001b[0m, \u001b[1;36m6216\u001b[0m, \u001b[1;36m6986\u001b[0m\u001b[1m)\u001b[0m,\n",
       " \u001b[1;36m17\u001b[0m: \u001b[1m(\u001b[0m\u001b[1;36m6708\u001b[0m, \u001b[1;36m6708\u001b[0m, \u001b[1;36m6708\u001b[0m, \u001b[1;36m6865\u001b[0m\u001b[1m)\u001b[0m,\n",
       " \u001b[1;36m18\u001b[0m: \u001b[1m(\u001b[0m\u001b[1;36m4844\u001b[0m, \u001b[1;36m4844\u001b[0m, \u001b[1;36m4844\u001b[0m, \u001b[1;36m4848\u001b[0m\u001b[1m)\u001b[0m,\n",
       " \u001b[1;36m19\u001b[0m: \u001b[1m(\u001b[0m\u001b[1;36m3358\u001b[0m, \u001b[1;36m3358\u001b[0m, \u001b[1;36m3358\u001b[0m, \u001b[1;36m4251\u001b[0m\u001b[1m)\u001b[0m,\n",
       " \u001b[1;36m20\u001b[0m: \u001b[1m(\u001b[0m\u001b[1;36m797\u001b[0m, \u001b[1;36m797\u001b[0m, \u001b[1;36m797\u001b[0m, \u001b[1;36m873\u001b[0m\u001b[1m)\u001b[0m,\n",
       " \u001b[1;36m21\u001b[0m: \u001b[1m(\u001b[0m\u001b[1;36m1128\u001b[0m, \u001b[1;36m1128\u001b[0m, \u001b[1;36m1128\u001b[0m, \u001b[1;36m1128\u001b[0m\u001b[1m)\u001b[0m,\n",
       " \u001b[1;36m22\u001b[0m: \u001b[1m(\u001b[0m\u001b[1;36m14\u001b[0m, \u001b[1;36m14\u001b[0m, \u001b[1;36m14\u001b[0m, \u001b[1;36m602\u001b[0m\u001b[1m)\u001b[0m,\n",
       " \u001b[1;36m23\u001b[0m: \u001b[1m(\u001b[0m\u001b[1;36m1266\u001b[0m, \u001b[1;36m1266\u001b[0m, \u001b[1;36m1266\u001b[0m, \u001b[1;36m1837\u001b[0m\u001b[1m)\u001b[0m,\n",
       " \u001b[1;36m24\u001b[0m: \u001b[1m(\u001b[0m\u001b[1;36m117\u001b[0m, \u001b[1;36m117\u001b[0m, \u001b[1;36m117\u001b[0m, \u001b[1;36m1437\u001b[0m\u001b[1m)\u001b[0m,\n",
       " \u001b[1;36m25\u001b[0m: \u001b[1m(\u001b[0m\u001b[1;36m738\u001b[0m, \u001b[1;36m738\u001b[0m, \u001b[1;36m738\u001b[0m, \u001b[1;36m738\u001b[0m\u001b[1m)\u001b[0m\u001b[1m}\u001b[0m\n"
      ]
     },
     "metadata": {},
     "output_type": "display_data"
    },
    {
     "name": "stdout",
     "output_type": "stream",
     "text": [
      "f\"Got gaze embedding for {sid}.\" : Got gaze embedding for 0.\n",
      "f\"Got gaze embedding for {sid}.\" : Got gaze embedding for 1.\n",
      "f\"Got gaze embedding for {sid}.\" : Got gaze embedding for 2.\n",
      "f\"Got gaze embedding for {sid}.\" : Got gaze embedding for 3.\n",
      "f\"Got gaze embedding for {sid}.\" : Got gaze embedding for 4.\n",
      "f\"Got gaze embedding for {sid}.\" : Got gaze embedding for 5.\n",
      "f\"Got gaze embedding for {sid}.\" : Got gaze embedding for 6.\n",
      "f\"Got gaze embedding for {sid}.\" : Got gaze embedding for 7.\n",
      "f\"Not sufficient frames to match {sid}:{len(frames)}\" : Not sufficient frames to match 8:7\n",
      "f\"Not sufficient frames to match {sid}:{len(frames)}\" : Not sufficient frames to match 9:51\n",
      "f\"Got gaze embedding for {sid}.\" : Got gaze embedding for 10.\n",
      "f\"Got gaze embedding for {sid}.\" : Got gaze embedding for 11.\n",
      "f\"Got gaze embedding for {sid}.\" : Got gaze embedding for 12.\n",
      "f\"Got gaze embedding for {sid}.\" : Got gaze embedding for 13.\n",
      "f\"Not sufficient frames to match {sid}:{len(frames)}\" : Not sufficient frames to match 14:2\n",
      "f\"Not sufficient frames to match {sid}:{len(frames)}\" : Not sufficient frames to match 15:0\n",
      "f\"Got gaze embedding for {sid}.\" : Got gaze embedding for 16.\n",
      "f\"Got gaze embedding for {sid}.\" : Got gaze embedding for 17.\n",
      "f\"Got gaze embedding for {sid}.\" : Got gaze embedding for 18.\n",
      "f\"Not sufficient frames to match {sid}:{len(frames)}\" : Not sufficient frames to match 19:71\n",
      "f\"Not sufficient frames to match {sid}:{len(frames)}\" : Not sufficient frames to match 20:82\n",
      "f\"Got gaze embedding for {sid}.\" : Got gaze embedding for 21.\n",
      "f\"Not sufficient frames to match {sid}:{len(frames)}\" : Not sufficient frames to match 22:0\n",
      "f\"Not sufficient frames to match {sid}:{len(frames)}\" : Not sufficient frames to match 23:37\n",
      "f\"Not sufficient frames to match {sid}:{len(frames)}\" : Not sufficient frames to match 24:4\n",
      "f\"Got gaze embedding for {sid}.\" : Got gaze embedding for 25.\n",
      "f\"Got cluster embedding for {sid}\" : Got cluster embedding for 0\n",
      "f\"Got cluster embedding for {sid}\" : Got cluster embedding for 1\n",
      "f\"Got cluster embedding for {sid}\" : Got cluster embedding for 2\n",
      "f\"Got cluster embedding for {sid}\" : Got cluster embedding for 3\n",
      "f\"Got cluster embedding for {sid}\" : Got cluster embedding for 4\n",
      "f\"Got cluster embedding for {sid}\" : Got cluster embedding for 5\n",
      "f\"Got cluster embedding for {sid}\" : Got cluster embedding for 6\n",
      "f\"Got cluster embedding for {sid}\" : Got cluster embedding for 7\n",
      "f\"Got cluster embedding for {sid}\" : Got cluster embedding for 8\n",
      "f\"Got cluster embedding for {sid}\" : Got cluster embedding for 9\n",
      "f\"Got cluster embedding for {sid}\" : Got cluster embedding for 10\n",
      "f\"Got cluster embedding for {sid}\" : Got cluster embedding for 11\n",
      "f\"Got cluster embedding for {sid}\" : Got cluster embedding for 12\n",
      "f\"Got cluster embedding for {sid}\" : Got cluster embedding for 13\n",
      "f\"Got cluster embedding for {sid}\" : Got cluster embedding for 14\n",
      "f\"Got cluster embedding for {sid}\" : Got cluster embedding for 15\n",
      "f\"Got cluster embedding for {sid}\" : Got cluster embedding for 16\n",
      "f\"Got cluster embedding for {sid}\" : Got cluster embedding for 17\n",
      "f\"Got cluster embedding for {sid}\" : Got cluster embedding for 18\n",
      "f\"Got cluster embedding for {sid}\" : Got cluster embedding for 19\n",
      "f\"All frames are outliers, not proceeding with id {sid}\" : All frames are outliers, not proceeding with id 20\n",
      "f\"Got cluster embedding for {sid}\" : Got cluster embedding for 21\n",
      "f\"All frames are outliers, not proceeding with id {sid}\" : All frames are outliers, not proceeding with id 22\n",
      "f\"Got cluster embedding for {sid}\" : Got cluster embedding for 23\n",
      "f\"All frames are outliers, not proceeding with id {sid}\" : All frames are outliers, not proceeding with id 24\n",
      "f\"Got cluster embedding for {sid}\" : Got cluster embedding for 25\n",
      "sid, face_width_med, face_width_iqd, face_height_med, face_height_iqd, face_x_med, face_x_iqd, face_y_med, face_y_iqd : 25 65.1568 13.145689010620117 69.71706 10.102470397949219 132.63742 34.029380798339844 132.63742 62.264081954956055\n"
     ]
    },
    {
     "data": {
      "text/markdown": [
       "### Got cross session input info for session: 2-17214C, session:5-classinsight-cmu_17214C_ph_225b_201905011130-front"
      ],
      "text/plain": [
       "<IPython.core.display.Markdown object>"
      ]
     },
     "metadata": {},
     "output_type": "display_data"
    },
    {
     "name": "stdout",
     "output_type": "stream",
     "text": [
      "Session classinsight-cmu_17214B_ph_a21_201901301030-front not in session filter list, skipping...\n"
     ]
    },
    {
     "data": {
      "text/markdown": [
       "## Building cross session input info for session: 3-17214B, session:1-classinsight-cmu_17214B_ph_a21_201902271030-front"
      ],
      "text/plain": [
       "<IPython.core.display.Markdown object>"
      ]
     },
     "metadata": {},
     "output_type": "display_data"
    },
    {
     "name": "stdout",
     "output_type": "stream",
     "text": [
      "12 16\n",
      "Dict: eligible_id_map_dict\n",
      "Key: Value\n"
     ]
    },
    {
     "data": {
      "text/html": [
       "<pre style=\"white-space:pre;overflow-x:auto;line-height:normal;font-family:Menlo,'DejaVu Sans Mono',consolas,'Courier New',monospace\"><span style=\"font-weight: bold\">{</span><span style=\"color: #008080; text-decoration-color: #008080; font-weight: bold\">16</span>: <span style=\"color: #008080; text-decoration-color: #008080; font-weight: bold\">12</span><span style=\"font-weight: bold\">}</span>\n",
       "</pre>\n"
      ],
      "text/plain": [
       "\u001b[1m{\u001b[0m\u001b[1;36m16\u001b[0m: \u001b[1;36m12\u001b[0m\u001b[1m}\u001b[0m\n"
      ]
     },
     "metadata": {},
     "output_type": "display_data"
    },
    {
     "name": "stdout",
     "output_type": "stream",
     "text": [
      "\"Corrected\", eligible_id_map_dict : Corrected {16: 12}\n",
      "\"replacing ids in old to new id maps\" : replacing ids in old to new id maps\n",
      "replacing 805:16 -->12\n",
      "replacing 894:16 -->12\n",
      "replacing 946:16 -->12\n",
      "Dict: {xr:(gaze_info[xr].shape[0],emb_info[xr].shape[0], face_info[xr].shape[0], bbox_info[xr].shape[0]) for xr in emb_info}\n",
      "Key: Value\n"
     ]
    },
    {
     "data": {
      "text/html": [
       "<pre style=\"white-space:pre;overflow-x:auto;line-height:normal;font-family:Menlo,'DejaVu Sans Mono',consolas,'Courier New',monospace\"><span style=\"font-weight: bold\">{</span><span style=\"color: #008080; text-decoration-color: #008080; font-weight: bold\">0</span>: <span style=\"font-weight: bold\">(</span><span style=\"color: #008080; text-decoration-color: #008080; font-weight: bold\">14913</span>, <span style=\"color: #008080; text-decoration-color: #008080; font-weight: bold\">14913</span>, <span style=\"color: #008080; text-decoration-color: #008080; font-weight: bold\">14913</span>, <span style=\"color: #008080; text-decoration-color: #008080; font-weight: bold\">14987</span><span style=\"font-weight: bold\">)</span>,\n",
       " <span style=\"color: #008080; text-decoration-color: #008080; font-weight: bold\">1</span>: <span style=\"font-weight: bold\">(</span><span style=\"color: #008080; text-decoration-color: #008080; font-weight: bold\">14827</span>, <span style=\"color: #008080; text-decoration-color: #008080; font-weight: bold\">14827</span>, <span style=\"color: #008080; text-decoration-color: #008080; font-weight: bold\">14827</span>, <span style=\"color: #008080; text-decoration-color: #008080; font-weight: bold\">14974</span><span style=\"font-weight: bold\">)</span>,\n",
       " <span style=\"color: #008080; text-decoration-color: #008080; font-weight: bold\">2</span>: <span style=\"font-weight: bold\">(</span><span style=\"color: #008080; text-decoration-color: #008080; font-weight: bold\">14183</span>, <span style=\"color: #008080; text-decoration-color: #008080; font-weight: bold\">14183</span>, <span style=\"color: #008080; text-decoration-color: #008080; font-weight: bold\">14183</span>, <span style=\"color: #008080; text-decoration-color: #008080; font-weight: bold\">14270</span><span style=\"font-weight: bold\">)</span>,\n",
       " <span style=\"color: #008080; text-decoration-color: #008080; font-weight: bold\">3</span>: <span style=\"font-weight: bold\">(</span><span style=\"color: #008080; text-decoration-color: #008080; font-weight: bold\">14833</span>, <span style=\"color: #008080; text-decoration-color: #008080; font-weight: bold\">14833</span>, <span style=\"color: #008080; text-decoration-color: #008080; font-weight: bold\">14833</span>, <span style=\"color: #008080; text-decoration-color: #008080; font-weight: bold\">14983</span><span style=\"font-weight: bold\">)</span>,\n",
       " <span style=\"color: #008080; text-decoration-color: #008080; font-weight: bold\">4</span>: <span style=\"font-weight: bold\">(</span><span style=\"color: #008080; text-decoration-color: #008080; font-weight: bold\">1857</span>, <span style=\"color: #008080; text-decoration-color: #008080; font-weight: bold\">1857</span>, <span style=\"color: #008080; text-decoration-color: #008080; font-weight: bold\">1857</span>, <span style=\"color: #008080; text-decoration-color: #008080; font-weight: bold\">3197</span><span style=\"font-weight: bold\">)</span>,\n",
       " <span style=\"color: #008080; text-decoration-color: #008080; font-weight: bold\">5</span>: <span style=\"font-weight: bold\">(</span><span style=\"color: #008080; text-decoration-color: #008080; font-weight: bold\">13954</span>, <span style=\"color: #008080; text-decoration-color: #008080; font-weight: bold\">13954</span>, <span style=\"color: #008080; text-decoration-color: #008080; font-weight: bold\">13954</span>, <span style=\"color: #008080; text-decoration-color: #008080; font-weight: bold\">14437</span><span style=\"font-weight: bold\">)</span>,\n",
       " <span style=\"color: #008080; text-decoration-color: #008080; font-weight: bold\">6</span>: <span style=\"font-weight: bold\">(</span><span style=\"color: #008080; text-decoration-color: #008080; font-weight: bold\">13468</span>, <span style=\"color: #008080; text-decoration-color: #008080; font-weight: bold\">13468</span>, <span style=\"color: #008080; text-decoration-color: #008080; font-weight: bold\">13468</span>, <span style=\"color: #008080; text-decoration-color: #008080; font-weight: bold\">13609</span><span style=\"font-weight: bold\">)</span>,\n",
       " <span style=\"color: #008080; text-decoration-color: #008080; font-weight: bold\">7</span>: <span style=\"font-weight: bold\">(</span><span style=\"color: #008080; text-decoration-color: #008080; font-weight: bold\">13066</span>, <span style=\"color: #008080; text-decoration-color: #008080; font-weight: bold\">13066</span>, <span style=\"color: #008080; text-decoration-color: #008080; font-weight: bold\">13066</span>, <span style=\"color: #008080; text-decoration-color: #008080; font-weight: bold\">13120</span><span style=\"font-weight: bold\">)</span>,\n",
       " <span style=\"color: #008080; text-decoration-color: #008080; font-weight: bold\">8</span>: <span style=\"font-weight: bold\">(</span><span style=\"color: #008080; text-decoration-color: #008080; font-weight: bold\">9285</span>, <span style=\"color: #008080; text-decoration-color: #008080; font-weight: bold\">9285</span>, <span style=\"color: #008080; text-decoration-color: #008080; font-weight: bold\">9285</span>, <span style=\"color: #008080; text-decoration-color: #008080; font-weight: bold\">13068</span><span style=\"font-weight: bold\">)</span>,\n",
       " <span style=\"color: #008080; text-decoration-color: #008080; font-weight: bold\">9</span>: <span style=\"font-weight: bold\">(</span><span style=\"color: #008080; text-decoration-color: #008080; font-weight: bold\">12962</span>, <span style=\"color: #008080; text-decoration-color: #008080; font-weight: bold\">12962</span>, <span style=\"color: #008080; text-decoration-color: #008080; font-weight: bold\">12962</span>, <span style=\"color: #008080; text-decoration-color: #008080; font-weight: bold\">12986</span><span style=\"font-weight: bold\">)</span>,\n",
       " <span style=\"color: #008080; text-decoration-color: #008080; font-weight: bold\">10</span>: <span style=\"font-weight: bold\">(</span><span style=\"color: #008080; text-decoration-color: #008080; font-weight: bold\">12920</span>, <span style=\"color: #008080; text-decoration-color: #008080; font-weight: bold\">12920</span>, <span style=\"color: #008080; text-decoration-color: #008080; font-weight: bold\">12920</span>, <span style=\"color: #008080; text-decoration-color: #008080; font-weight: bold\">12980</span><span style=\"font-weight: bold\">)</span>,\n",
       " <span style=\"color: #008080; text-decoration-color: #008080; font-weight: bold\">11</span>: <span style=\"font-weight: bold\">(</span><span style=\"color: #008080; text-decoration-color: #008080; font-weight: bold\">12883</span>, <span style=\"color: #008080; text-decoration-color: #008080; font-weight: bold\">12883</span>, <span style=\"color: #008080; text-decoration-color: #008080; font-weight: bold\">12883</span>, <span style=\"color: #008080; text-decoration-color: #008080; font-weight: bold\">12956</span><span style=\"font-weight: bold\">)</span>,\n",
       " <span style=\"color: #008080; text-decoration-color: #008080; font-weight: bold\">12</span>: <span style=\"font-weight: bold\">(</span><span style=\"color: #008080; text-decoration-color: #008080; font-weight: bold\">2865</span>, <span style=\"color: #008080; text-decoration-color: #008080; font-weight: bold\">2865</span>, <span style=\"color: #008080; text-decoration-color: #008080; font-weight: bold\">2865</span>, <span style=\"color: #008080; text-decoration-color: #008080; font-weight: bold\">10236</span><span style=\"font-weight: bold\">)</span>,\n",
       " <span style=\"color: #008080; text-decoration-color: #008080; font-weight: bold\">13</span>: <span style=\"font-weight: bold\">(</span><span style=\"color: #008080; text-decoration-color: #008080; font-weight: bold\">10</span>, <span style=\"color: #008080; text-decoration-color: #008080; font-weight: bold\">10</span>, <span style=\"color: #008080; text-decoration-color: #008080; font-weight: bold\">10</span>, <span style=\"color: #008080; text-decoration-color: #008080; font-weight: bold\">372</span><span style=\"font-weight: bold\">)</span>,\n",
       " <span style=\"color: #008080; text-decoration-color: #008080; font-weight: bold\">14</span>: <span style=\"font-weight: bold\">(</span><span style=\"color: #008080; text-decoration-color: #008080; font-weight: bold\">25</span>, <span style=\"color: #008080; text-decoration-color: #008080; font-weight: bold\">25</span>, <span style=\"color: #008080; text-decoration-color: #008080; font-weight: bold\">25</span>, <span style=\"color: #008080; text-decoration-color: #008080; font-weight: bold\">307</span><span style=\"font-weight: bold\">)</span>,\n",
       " <span style=\"color: #008080; text-decoration-color: #008080; font-weight: bold\">15</span>: <span style=\"font-weight: bold\">(</span><span style=\"color: #008080; text-decoration-color: #008080; font-weight: bold\">421</span>, <span style=\"color: #008080; text-decoration-color: #008080; font-weight: bold\">421</span>, <span style=\"color: #008080; text-decoration-color: #008080; font-weight: bold\">421</span>, <span style=\"color: #008080; text-decoration-color: #008080; font-weight: bold\">7005</span><span style=\"font-weight: bold\">)}</span>\n",
       "</pre>\n"
      ],
      "text/plain": [
       "\u001b[1m{\u001b[0m\u001b[1;36m0\u001b[0m: \u001b[1m(\u001b[0m\u001b[1;36m14913\u001b[0m, \u001b[1;36m14913\u001b[0m, \u001b[1;36m14913\u001b[0m, \u001b[1;36m14987\u001b[0m\u001b[1m)\u001b[0m,\n",
       " \u001b[1;36m1\u001b[0m: \u001b[1m(\u001b[0m\u001b[1;36m14827\u001b[0m, \u001b[1;36m14827\u001b[0m, \u001b[1;36m14827\u001b[0m, \u001b[1;36m14974\u001b[0m\u001b[1m)\u001b[0m,\n",
       " \u001b[1;36m2\u001b[0m: \u001b[1m(\u001b[0m\u001b[1;36m14183\u001b[0m, \u001b[1;36m14183\u001b[0m, \u001b[1;36m14183\u001b[0m, \u001b[1;36m14270\u001b[0m\u001b[1m)\u001b[0m,\n",
       " \u001b[1;36m3\u001b[0m: \u001b[1m(\u001b[0m\u001b[1;36m14833\u001b[0m, \u001b[1;36m14833\u001b[0m, \u001b[1;36m14833\u001b[0m, \u001b[1;36m14983\u001b[0m\u001b[1m)\u001b[0m,\n",
       " \u001b[1;36m4\u001b[0m: \u001b[1m(\u001b[0m\u001b[1;36m1857\u001b[0m, \u001b[1;36m1857\u001b[0m, \u001b[1;36m1857\u001b[0m, \u001b[1;36m3197\u001b[0m\u001b[1m)\u001b[0m,\n",
       " \u001b[1;36m5\u001b[0m: \u001b[1m(\u001b[0m\u001b[1;36m13954\u001b[0m, \u001b[1;36m13954\u001b[0m, \u001b[1;36m13954\u001b[0m, \u001b[1;36m14437\u001b[0m\u001b[1m)\u001b[0m,\n",
       " \u001b[1;36m6\u001b[0m: \u001b[1m(\u001b[0m\u001b[1;36m13468\u001b[0m, \u001b[1;36m13468\u001b[0m, \u001b[1;36m13468\u001b[0m, \u001b[1;36m13609\u001b[0m\u001b[1m)\u001b[0m,\n",
       " \u001b[1;36m7\u001b[0m: \u001b[1m(\u001b[0m\u001b[1;36m13066\u001b[0m, \u001b[1;36m13066\u001b[0m, \u001b[1;36m13066\u001b[0m, \u001b[1;36m13120\u001b[0m\u001b[1m)\u001b[0m,\n",
       " \u001b[1;36m8\u001b[0m: \u001b[1m(\u001b[0m\u001b[1;36m9285\u001b[0m, \u001b[1;36m9285\u001b[0m, \u001b[1;36m9285\u001b[0m, \u001b[1;36m13068\u001b[0m\u001b[1m)\u001b[0m,\n",
       " \u001b[1;36m9\u001b[0m: \u001b[1m(\u001b[0m\u001b[1;36m12962\u001b[0m, \u001b[1;36m12962\u001b[0m, \u001b[1;36m12962\u001b[0m, \u001b[1;36m12986\u001b[0m\u001b[1m)\u001b[0m,\n",
       " \u001b[1;36m10\u001b[0m: \u001b[1m(\u001b[0m\u001b[1;36m12920\u001b[0m, \u001b[1;36m12920\u001b[0m, \u001b[1;36m12920\u001b[0m, \u001b[1;36m12980\u001b[0m\u001b[1m)\u001b[0m,\n",
       " \u001b[1;36m11\u001b[0m: \u001b[1m(\u001b[0m\u001b[1;36m12883\u001b[0m, \u001b[1;36m12883\u001b[0m, \u001b[1;36m12883\u001b[0m, \u001b[1;36m12956\u001b[0m\u001b[1m)\u001b[0m,\n",
       " \u001b[1;36m12\u001b[0m: \u001b[1m(\u001b[0m\u001b[1;36m2865\u001b[0m, \u001b[1;36m2865\u001b[0m, \u001b[1;36m2865\u001b[0m, \u001b[1;36m10236\u001b[0m\u001b[1m)\u001b[0m,\n",
       " \u001b[1;36m13\u001b[0m: \u001b[1m(\u001b[0m\u001b[1;36m10\u001b[0m, \u001b[1;36m10\u001b[0m, \u001b[1;36m10\u001b[0m, \u001b[1;36m372\u001b[0m\u001b[1m)\u001b[0m,\n",
       " \u001b[1;36m14\u001b[0m: \u001b[1m(\u001b[0m\u001b[1;36m25\u001b[0m, \u001b[1;36m25\u001b[0m, \u001b[1;36m25\u001b[0m, \u001b[1;36m307\u001b[0m\u001b[1m)\u001b[0m,\n",
       " \u001b[1;36m15\u001b[0m: \u001b[1m(\u001b[0m\u001b[1;36m421\u001b[0m, \u001b[1;36m421\u001b[0m, \u001b[1;36m421\u001b[0m, \u001b[1;36m7005\u001b[0m\u001b[1m)\u001b[0m\u001b[1m}\u001b[0m\n"
      ]
     },
     "metadata": {},
     "output_type": "display_data"
    },
    {
     "name": "stdout",
     "output_type": "stream",
     "text": [
      "f\"Got gaze embedding for {sid}.\" : Got gaze embedding for 0.\n",
      "f\"Got gaze embedding for {sid}.\" : Got gaze embedding for 1.\n",
      "f\"Got gaze embedding for {sid}.\" : Got gaze embedding for 2.\n",
      "f\"Got gaze embedding for {sid}.\" : Got gaze embedding for 3.\n",
      "f\"Not sufficient frames to match {sid}:{len(frames)}\" : Not sufficient frames to match 4:38\n",
      "f\"Got gaze embedding for {sid}.\" : Got gaze embedding for 5.\n",
      "f\"Got gaze embedding for {sid}.\" : Got gaze embedding for 6.\n",
      "f\"Got gaze embedding for {sid}.\" : Got gaze embedding for 7.\n",
      "f\"Got gaze embedding for {sid}.\" : Got gaze embedding for 8.\n",
      "f\"Got gaze embedding for {sid}.\" : Got gaze embedding for 9.\n",
      "f\"Got gaze embedding for {sid}.\" : Got gaze embedding for 10.\n",
      "f\"Got gaze embedding for {sid}.\" : Got gaze embedding for 11.\n",
      "f\"Not sufficient frames to match {sid}:{len(frames)}\" : Not sufficient frames to match 12:2\n",
      "f\"Not sufficient frames to match {sid}:{len(frames)}\" : Not sufficient frames to match 13:0\n",
      "f\"Not sufficient frames to match {sid}:{len(frames)}\" : Not sufficient frames to match 14:3\n",
      "f\"Not sufficient frames to match {sid}:{len(frames)}\" : Not sufficient frames to match 15:0\n",
      "f\"Got cluster embedding for {sid}\" : Got cluster embedding for 0\n",
      "f\"Got cluster embedding for {sid}\" : Got cluster embedding for 1\n",
      "f\"Got cluster embedding for {sid}\" : Got cluster embedding for 2\n",
      "f\"Got cluster embedding for {sid}\" : Got cluster embedding for 3\n",
      "f\"Got cluster embedding for {sid}\" : Got cluster embedding for 4\n",
      "f\"Got cluster embedding for {sid}\" : Got cluster embedding for 5\n",
      "f\"Got cluster embedding for {sid}\" : Got cluster embedding for 6\n",
      "f\"Got cluster embedding for {sid}\" : Got cluster embedding for 7\n",
      "f\"Got cluster embedding for {sid}\" : Got cluster embedding for 8\n",
      "f\"Got cluster embedding for {sid}\" : Got cluster embedding for 9\n",
      "f\"Got cluster embedding for {sid}\" : Got cluster embedding for 10\n",
      "f\"Got cluster embedding for {sid}\" : Got cluster embedding for 11\n",
      "f\"Got cluster embedding for {sid}\" : Got cluster embedding for 12\n",
      "f\"All frames are outliers, not proceeding with id {sid}\" : All frames are outliers, not proceeding with id 13\n",
      "f\"All frames are outliers, not proceeding with id {sid}\" : All frames are outliers, not proceeding with id 14\n",
      "f\"All frames are outliers, not proceeding with id {sid}\" : All frames are outliers, not proceeding with id 15\n",
      "sid, face_width_med, face_width_iqd, face_height_med, face_height_iqd, face_x_med, face_x_iqd, face_y_med, face_y_iqd : 15 197.87341 66.27783203125 248.22687 34.297149658203125 597.2618 212.73092651367188 597.2618 23.605117797851562\n"
     ]
    },
    {
     "data": {
      "text/markdown": [
       "### Got cross session input info for session: 3-17214B, session:1-classinsight-cmu_17214B_ph_a21_201902271030-front"
      ],
      "text/plain": [
       "<IPython.core.display.Markdown object>"
      ]
     },
     "metadata": {},
     "output_type": "display_data"
    },
    {
     "data": {
      "text/markdown": [
       "## Building cross session input info for session: 3-17214B, session:2-classinsight-cmu_17214B_ph_a21_201903061030-front"
      ],
      "text/plain": [
       "<IPython.core.display.Markdown object>"
      ]
     },
     "metadata": {},
     "output_type": "display_data"
    },
    {
     "name": "stdout",
     "output_type": "stream",
     "text": [
      "9 24\n",
      "Dict: eligible_id_map_dict\n",
      "Key: Value\n"
     ]
    },
    {
     "data": {
      "text/html": [
       "<pre style=\"white-space:pre;overflow-x:auto;line-height:normal;font-family:Menlo,'DejaVu Sans Mono',consolas,'Courier New',monospace\"><span style=\"font-weight: bold\">{</span><span style=\"color: #008080; text-decoration-color: #008080; font-weight: bold\">24</span>: <span style=\"color: #008080; text-decoration-color: #008080; font-weight: bold\">9</span><span style=\"font-weight: bold\">}</span>\n",
       "</pre>\n"
      ],
      "text/plain": [
       "\u001b[1m{\u001b[0m\u001b[1;36m24\u001b[0m: \u001b[1;36m9\u001b[0m\u001b[1m}\u001b[0m\n"
      ]
     },
     "metadata": {},
     "output_type": "display_data"
    },
    {
     "name": "stdout",
     "output_type": "stream",
     "text": [
      "\"Corrected\", eligible_id_map_dict : Corrected {24: 9}\n",
      "\"replacing ids in old to new id maps\" : replacing ids in old to new id maps\n",
      "replacing 1464:24 -->9\n",
      "Dict: {xr:(gaze_info[xr].shape[0],emb_info[xr].shape[0], face_info[xr].shape[0], bbox_info[xr].shape[0]) for xr in emb_info}\n",
      "Key: Value\n"
     ]
    },
    {
     "data": {
      "text/html": [
       "<pre style=\"white-space:pre;overflow-x:auto;line-height:normal;font-family:Menlo,'DejaVu Sans Mono',consolas,'Courier New',monospace\"><span style=\"font-weight: bold\">{</span><span style=\"color: #008080; text-decoration-color: #008080; font-weight: bold\">0</span>: <span style=\"font-weight: bold\">(</span><span style=\"color: #008080; text-decoration-color: #008080; font-weight: bold\">13829</span>, <span style=\"color: #008080; text-decoration-color: #008080; font-weight: bold\">13829</span>, <span style=\"color: #008080; text-decoration-color: #008080; font-weight: bold\">13829</span>, <span style=\"color: #008080; text-decoration-color: #008080; font-weight: bold\">14253</span><span style=\"font-weight: bold\">)</span>,\n",
       " <span style=\"color: #008080; text-decoration-color: #008080; font-weight: bold\">1</span>: <span style=\"font-weight: bold\">(</span><span style=\"color: #008080; text-decoration-color: #008080; font-weight: bold\">12672</span>, <span style=\"color: #008080; text-decoration-color: #008080; font-weight: bold\">12672</span>, <span style=\"color: #008080; text-decoration-color: #008080; font-weight: bold\">12672</span>, <span style=\"color: #008080; text-decoration-color: #008080; font-weight: bold\">14264</span><span style=\"font-weight: bold\">)</span>,\n",
       " <span style=\"color: #008080; text-decoration-color: #008080; font-weight: bold\">2</span>: <span style=\"font-weight: bold\">(</span><span style=\"color: #008080; text-decoration-color: #008080; font-weight: bold\">10201</span>, <span style=\"color: #008080; text-decoration-color: #008080; font-weight: bold\">10201</span>, <span style=\"color: #008080; text-decoration-color: #008080; font-weight: bold\">10201</span>, <span style=\"color: #008080; text-decoration-color: #008080; font-weight: bold\">14223</span><span style=\"font-weight: bold\">)</span>,\n",
       " <span style=\"color: #008080; text-decoration-color: #008080; font-weight: bold\">3</span>: <span style=\"font-weight: bold\">(</span><span style=\"color: #008080; text-decoration-color: #008080; font-weight: bold\">5539</span>, <span style=\"color: #008080; text-decoration-color: #008080; font-weight: bold\">5539</span>, <span style=\"color: #008080; text-decoration-color: #008080; font-weight: bold\">5539</span>, <span style=\"color: #008080; text-decoration-color: #008080; font-weight: bold\">6269</span><span style=\"font-weight: bold\">)</span>,\n",
       " <span style=\"color: #008080; text-decoration-color: #008080; font-weight: bold\">4</span>: <span style=\"font-weight: bold\">(</span><span style=\"color: #008080; text-decoration-color: #008080; font-weight: bold\">11665</span>, <span style=\"color: #008080; text-decoration-color: #008080; font-weight: bold\">11665</span>, <span style=\"color: #008080; text-decoration-color: #008080; font-weight: bold\">11665</span>, <span style=\"color: #008080; text-decoration-color: #008080; font-weight: bold\">12305</span><span style=\"font-weight: bold\">)</span>,\n",
       " <span style=\"color: #008080; text-decoration-color: #008080; font-weight: bold\">5</span>: <span style=\"font-weight: bold\">(</span><span style=\"color: #008080; text-decoration-color: #008080; font-weight: bold\">13229</span>, <span style=\"color: #008080; text-decoration-color: #008080; font-weight: bold\">13229</span>, <span style=\"color: #008080; text-decoration-color: #008080; font-weight: bold\">13229</span>, <span style=\"color: #008080; text-decoration-color: #008080; font-weight: bold\">13282</span><span style=\"font-weight: bold\">)</span>,\n",
       " <span style=\"color: #008080; text-decoration-color: #008080; font-weight: bold\">6</span>: <span style=\"font-weight: bold\">(</span><span style=\"color: #008080; text-decoration-color: #008080; font-weight: bold\">28</span>, <span style=\"color: #008080; text-decoration-color: #008080; font-weight: bold\">28</span>, <span style=\"color: #008080; text-decoration-color: #008080; font-weight: bold\">28</span>, <span style=\"color: #008080; text-decoration-color: #008080; font-weight: bold\">479</span><span style=\"font-weight: bold\">)</span>,\n",
       " <span style=\"color: #008080; text-decoration-color: #008080; font-weight: bold\">7</span>: <span style=\"font-weight: bold\">(</span><span style=\"color: #008080; text-decoration-color: #008080; font-weight: bold\">61</span>, <span style=\"color: #008080; text-decoration-color: #008080; font-weight: bold\">61</span>, <span style=\"color: #008080; text-decoration-color: #008080; font-weight: bold\">61</span>, <span style=\"color: #008080; text-decoration-color: #008080; font-weight: bold\">314</span><span style=\"font-weight: bold\">)</span>,\n",
       " <span style=\"color: #008080; text-decoration-color: #008080; font-weight: bold\">8</span>: <span style=\"font-weight: bold\">(</span><span style=\"color: #008080; text-decoration-color: #008080; font-weight: bold\">240</span>, <span style=\"color: #008080; text-decoration-color: #008080; font-weight: bold\">240</span>, <span style=\"color: #008080; text-decoration-color: #008080; font-weight: bold\">240</span>, <span style=\"color: #008080; text-decoration-color: #008080; font-weight: bold\">320</span><span style=\"font-weight: bold\">)</span>,\n",
       " <span style=\"color: #008080; text-decoration-color: #008080; font-weight: bold\">9</span>: <span style=\"font-weight: bold\">(</span><span style=\"color: #008080; text-decoration-color: #008080; font-weight: bold\">11550</span>, <span style=\"color: #008080; text-decoration-color: #008080; font-weight: bold\">11550</span>, <span style=\"color: #008080; text-decoration-color: #008080; font-weight: bold\">11550</span>, <span style=\"color: #008080; text-decoration-color: #008080; font-weight: bold\">11770</span><span style=\"font-weight: bold\">)</span>,\n",
       " <span style=\"color: #008080; text-decoration-color: #008080; font-weight: bold\">10</span>: <span style=\"font-weight: bold\">(</span><span style=\"color: #008080; text-decoration-color: #008080; font-weight: bold\">10749</span>, <span style=\"color: #008080; text-decoration-color: #008080; font-weight: bold\">10749</span>, <span style=\"color: #008080; text-decoration-color: #008080; font-weight: bold\">10749</span>, <span style=\"color: #008080; text-decoration-color: #008080; font-weight: bold\">11620</span><span style=\"font-weight: bold\">)</span>,\n",
       " <span style=\"color: #008080; text-decoration-color: #008080; font-weight: bold\">11</span>: <span style=\"font-weight: bold\">(</span><span style=\"color: #008080; text-decoration-color: #008080; font-weight: bold\">99</span>, <span style=\"color: #008080; text-decoration-color: #008080; font-weight: bold\">99</span>, <span style=\"color: #008080; text-decoration-color: #008080; font-weight: bold\">99</span>, <span style=\"color: #008080; text-decoration-color: #008080; font-weight: bold\">289</span><span style=\"font-weight: bold\">)</span>,\n",
       " <span style=\"color: #008080; text-decoration-color: #008080; font-weight: bold\">12</span>: <span style=\"font-weight: bold\">(</span><span style=\"color: #008080; text-decoration-color: #008080; font-weight: bold\">75</span>, <span style=\"color: #008080; text-decoration-color: #008080; font-weight: bold\">75</span>, <span style=\"color: #008080; text-decoration-color: #008080; font-weight: bold\">75</span>, <span style=\"color: #008080; text-decoration-color: #008080; font-weight: bold\">324</span><span style=\"font-weight: bold\">)</span>,\n",
       " <span style=\"color: #008080; text-decoration-color: #008080; font-weight: bold\">13</span>: <span style=\"font-weight: bold\">(</span><span style=\"color: #008080; text-decoration-color: #008080; font-weight: bold\">148</span>, <span style=\"color: #008080; text-decoration-color: #008080; font-weight: bold\">148</span>, <span style=\"color: #008080; text-decoration-color: #008080; font-weight: bold\">148</span>, <span style=\"color: #008080; text-decoration-color: #008080; font-weight: bold\">692</span><span style=\"font-weight: bold\">)</span>,\n",
       " <span style=\"color: #008080; text-decoration-color: #008080; font-weight: bold\">14</span>: <span style=\"font-weight: bold\">(</span><span style=\"color: #008080; text-decoration-color: #008080; font-weight: bold\">459</span>, <span style=\"color: #008080; text-decoration-color: #008080; font-weight: bold\">459</span>, <span style=\"color: #008080; text-decoration-color: #008080; font-weight: bold\">459</span>, <span style=\"color: #008080; text-decoration-color: #008080; font-weight: bold\">536</span><span style=\"font-weight: bold\">)</span>,\n",
       " <span style=\"color: #008080; text-decoration-color: #008080; font-weight: bold\">15</span>: <span style=\"font-weight: bold\">(</span><span style=\"color: #008080; text-decoration-color: #008080; font-weight: bold\">689</span>, <span style=\"color: #008080; text-decoration-color: #008080; font-weight: bold\">689</span>, <span style=\"color: #008080; text-decoration-color: #008080; font-weight: bold\">689</span>, <span style=\"color: #008080; text-decoration-color: #008080; font-weight: bold\">959</span><span style=\"font-weight: bold\">)</span>,\n",
       " <span style=\"color: #008080; text-decoration-color: #008080; font-weight: bold\">16</span>: <span style=\"font-weight: bold\">(</span><span style=\"color: #008080; text-decoration-color: #008080; font-weight: bold\">115</span>, <span style=\"color: #008080; text-decoration-color: #008080; font-weight: bold\">115</span>, <span style=\"color: #008080; text-decoration-color: #008080; font-weight: bold\">115</span>, <span style=\"color: #008080; text-decoration-color: #008080; font-weight: bold\">367</span><span style=\"font-weight: bold\">)</span>,\n",
       " <span style=\"color: #008080; text-decoration-color: #008080; font-weight: bold\">17</span>: <span style=\"font-weight: bold\">(</span><span style=\"color: #008080; text-decoration-color: #008080; font-weight: bold\">1451</span>, <span style=\"color: #008080; text-decoration-color: #008080; font-weight: bold\">1451</span>, <span style=\"color: #008080; text-decoration-color: #008080; font-weight: bold\">1451</span>, <span style=\"color: #008080; text-decoration-color: #008080; font-weight: bold\">1564</span><span style=\"font-weight: bold\">)</span>,\n",
       " <span style=\"color: #008080; text-decoration-color: #008080; font-weight: bold\">18</span>: <span style=\"font-weight: bold\">(</span><span style=\"color: #008080; text-decoration-color: #008080; font-weight: bold\">605</span>, <span style=\"color: #008080; text-decoration-color: #008080; font-weight: bold\">605</span>, <span style=\"color: #008080; text-decoration-color: #008080; font-weight: bold\">605</span>, <span style=\"color: #008080; text-decoration-color: #008080; font-weight: bold\">3287</span><span style=\"font-weight: bold\">)</span>,\n",
       " <span style=\"color: #008080; text-decoration-color: #008080; font-weight: bold\">19</span>: <span style=\"font-weight: bold\">(</span><span style=\"color: #008080; text-decoration-color: #008080; font-weight: bold\">318</span>, <span style=\"color: #008080; text-decoration-color: #008080; font-weight: bold\">318</span>, <span style=\"color: #008080; text-decoration-color: #008080; font-weight: bold\">318</span>, <span style=\"color: #008080; text-decoration-color: #008080; font-weight: bold\">1414</span><span style=\"font-weight: bold\">)</span>,\n",
       " <span style=\"color: #008080; text-decoration-color: #008080; font-weight: bold\">20</span>: <span style=\"font-weight: bold\">(</span><span style=\"color: #008080; text-decoration-color: #008080; font-weight: bold\">2408</span>, <span style=\"color: #008080; text-decoration-color: #008080; font-weight: bold\">2408</span>, <span style=\"color: #008080; text-decoration-color: #008080; font-weight: bold\">2408</span>, <span style=\"color: #008080; text-decoration-color: #008080; font-weight: bold\">2450</span><span style=\"font-weight: bold\">)</span>,\n",
       " <span style=\"color: #008080; text-decoration-color: #008080; font-weight: bold\">21</span>: <span style=\"font-weight: bold\">(</span><span style=\"color: #008080; text-decoration-color: #008080; font-weight: bold\">318</span>, <span style=\"color: #008080; text-decoration-color: #008080; font-weight: bold\">318</span>, <span style=\"color: #008080; text-decoration-color: #008080; font-weight: bold\">318</span>, <span style=\"color: #008080; text-decoration-color: #008080; font-weight: bold\">321</span><span style=\"font-weight: bold\">)</span>,\n",
       " <span style=\"color: #008080; text-decoration-color: #008080; font-weight: bold\">22</span>: <span style=\"font-weight: bold\">(</span><span style=\"color: #008080; text-decoration-color: #008080; font-weight: bold\">3416</span>, <span style=\"color: #008080; text-decoration-color: #008080; font-weight: bold\">3416</span>, <span style=\"color: #008080; text-decoration-color: #008080; font-weight: bold\">3416</span>, <span style=\"color: #008080; text-decoration-color: #008080; font-weight: bold\">3490</span><span style=\"font-weight: bold\">)</span>,\n",
       " <span style=\"color: #008080; text-decoration-color: #008080; font-weight: bold\">23</span>: <span style=\"font-weight: bold\">(</span><span style=\"color: #008080; text-decoration-color: #008080; font-weight: bold\">1053</span>, <span style=\"color: #008080; text-decoration-color: #008080; font-weight: bold\">1053</span>, <span style=\"color: #008080; text-decoration-color: #008080; font-weight: bold\">1053</span>, <span style=\"color: #008080; text-decoration-color: #008080; font-weight: bold\">1336</span><span style=\"font-weight: bold\">)</span>,\n",
       " <span style=\"color: #008080; text-decoration-color: #008080; font-weight: bold\">25</span>: <span style=\"font-weight: bold\">(</span><span style=\"color: #008080; text-decoration-color: #008080; font-weight: bold\">1901</span>, <span style=\"color: #008080; text-decoration-color: #008080; font-weight: bold\">1901</span>, <span style=\"color: #008080; text-decoration-color: #008080; font-weight: bold\">1901</span>, <span style=\"color: #008080; text-decoration-color: #008080; font-weight: bold\">1906</span><span style=\"font-weight: bold\">)</span>,\n",
       " <span style=\"color: #008080; text-decoration-color: #008080; font-weight: bold\">26</span>: <span style=\"font-weight: bold\">(</span><span style=\"color: #008080; text-decoration-color: #008080; font-weight: bold\">824</span>, <span style=\"color: #008080; text-decoration-color: #008080; font-weight: bold\">824</span>, <span style=\"color: #008080; text-decoration-color: #008080; font-weight: bold\">824</span>, <span style=\"color: #008080; text-decoration-color: #008080; font-weight: bold\">825</span><span style=\"font-weight: bold\">)</span>,\n",
       " <span style=\"color: #008080; text-decoration-color: #008080; font-weight: bold\">27</span>: <span style=\"font-weight: bold\">(</span><span style=\"color: #008080; text-decoration-color: #008080; font-weight: bold\">274</span>, <span style=\"color: #008080; text-decoration-color: #008080; font-weight: bold\">274</span>, <span style=\"color: #008080; text-decoration-color: #008080; font-weight: bold\">274</span>, <span style=\"color: #008080; text-decoration-color: #008080; font-weight: bold\">665</span><span style=\"font-weight: bold\">)</span>,\n",
       " <span style=\"color: #008080; text-decoration-color: #008080; font-weight: bold\">28</span>: <span style=\"font-weight: bold\">(</span><span style=\"color: #008080; text-decoration-color: #008080; font-weight: bold\">248</span>, <span style=\"color: #008080; text-decoration-color: #008080; font-weight: bold\">248</span>, <span style=\"color: #008080; text-decoration-color: #008080; font-weight: bold\">248</span>, <span style=\"color: #008080; text-decoration-color: #008080; font-weight: bold\">569</span><span style=\"font-weight: bold\">)}</span>\n",
       "</pre>\n"
      ],
      "text/plain": [
       "\u001b[1m{\u001b[0m\u001b[1;36m0\u001b[0m: \u001b[1m(\u001b[0m\u001b[1;36m13829\u001b[0m, \u001b[1;36m13829\u001b[0m, \u001b[1;36m13829\u001b[0m, \u001b[1;36m14253\u001b[0m\u001b[1m)\u001b[0m,\n",
       " \u001b[1;36m1\u001b[0m: \u001b[1m(\u001b[0m\u001b[1;36m12672\u001b[0m, \u001b[1;36m12672\u001b[0m, \u001b[1;36m12672\u001b[0m, \u001b[1;36m14264\u001b[0m\u001b[1m)\u001b[0m,\n",
       " \u001b[1;36m2\u001b[0m: \u001b[1m(\u001b[0m\u001b[1;36m10201\u001b[0m, \u001b[1;36m10201\u001b[0m, \u001b[1;36m10201\u001b[0m, \u001b[1;36m14223\u001b[0m\u001b[1m)\u001b[0m,\n",
       " \u001b[1;36m3\u001b[0m: \u001b[1m(\u001b[0m\u001b[1;36m5539\u001b[0m, \u001b[1;36m5539\u001b[0m, \u001b[1;36m5539\u001b[0m, \u001b[1;36m6269\u001b[0m\u001b[1m)\u001b[0m,\n",
       " \u001b[1;36m4\u001b[0m: \u001b[1m(\u001b[0m\u001b[1;36m11665\u001b[0m, \u001b[1;36m11665\u001b[0m, \u001b[1;36m11665\u001b[0m, \u001b[1;36m12305\u001b[0m\u001b[1m)\u001b[0m,\n",
       " \u001b[1;36m5\u001b[0m: \u001b[1m(\u001b[0m\u001b[1;36m13229\u001b[0m, \u001b[1;36m13229\u001b[0m, \u001b[1;36m13229\u001b[0m, \u001b[1;36m13282\u001b[0m\u001b[1m)\u001b[0m,\n",
       " \u001b[1;36m6\u001b[0m: \u001b[1m(\u001b[0m\u001b[1;36m28\u001b[0m, \u001b[1;36m28\u001b[0m, \u001b[1;36m28\u001b[0m, \u001b[1;36m479\u001b[0m\u001b[1m)\u001b[0m,\n",
       " \u001b[1;36m7\u001b[0m: \u001b[1m(\u001b[0m\u001b[1;36m61\u001b[0m, \u001b[1;36m61\u001b[0m, \u001b[1;36m61\u001b[0m, \u001b[1;36m314\u001b[0m\u001b[1m)\u001b[0m,\n",
       " \u001b[1;36m8\u001b[0m: \u001b[1m(\u001b[0m\u001b[1;36m240\u001b[0m, \u001b[1;36m240\u001b[0m, \u001b[1;36m240\u001b[0m, \u001b[1;36m320\u001b[0m\u001b[1m)\u001b[0m,\n",
       " \u001b[1;36m9\u001b[0m: \u001b[1m(\u001b[0m\u001b[1;36m11550\u001b[0m, \u001b[1;36m11550\u001b[0m, \u001b[1;36m11550\u001b[0m, \u001b[1;36m11770\u001b[0m\u001b[1m)\u001b[0m,\n",
       " \u001b[1;36m10\u001b[0m: \u001b[1m(\u001b[0m\u001b[1;36m10749\u001b[0m, \u001b[1;36m10749\u001b[0m, \u001b[1;36m10749\u001b[0m, \u001b[1;36m11620\u001b[0m\u001b[1m)\u001b[0m,\n",
       " \u001b[1;36m11\u001b[0m: \u001b[1m(\u001b[0m\u001b[1;36m99\u001b[0m, \u001b[1;36m99\u001b[0m, \u001b[1;36m99\u001b[0m, \u001b[1;36m289\u001b[0m\u001b[1m)\u001b[0m,\n",
       " \u001b[1;36m12\u001b[0m: \u001b[1m(\u001b[0m\u001b[1;36m75\u001b[0m, \u001b[1;36m75\u001b[0m, \u001b[1;36m75\u001b[0m, \u001b[1;36m324\u001b[0m\u001b[1m)\u001b[0m,\n",
       " \u001b[1;36m13\u001b[0m: \u001b[1m(\u001b[0m\u001b[1;36m148\u001b[0m, \u001b[1;36m148\u001b[0m, \u001b[1;36m148\u001b[0m, \u001b[1;36m692\u001b[0m\u001b[1m)\u001b[0m,\n",
       " \u001b[1;36m14\u001b[0m: \u001b[1m(\u001b[0m\u001b[1;36m459\u001b[0m, \u001b[1;36m459\u001b[0m, \u001b[1;36m459\u001b[0m, \u001b[1;36m536\u001b[0m\u001b[1m)\u001b[0m,\n",
       " \u001b[1;36m15\u001b[0m: \u001b[1m(\u001b[0m\u001b[1;36m689\u001b[0m, \u001b[1;36m689\u001b[0m, \u001b[1;36m689\u001b[0m, \u001b[1;36m959\u001b[0m\u001b[1m)\u001b[0m,\n",
       " \u001b[1;36m16\u001b[0m: \u001b[1m(\u001b[0m\u001b[1;36m115\u001b[0m, \u001b[1;36m115\u001b[0m, \u001b[1;36m115\u001b[0m, \u001b[1;36m367\u001b[0m\u001b[1m)\u001b[0m,\n",
       " \u001b[1;36m17\u001b[0m: \u001b[1m(\u001b[0m\u001b[1;36m1451\u001b[0m, \u001b[1;36m1451\u001b[0m, \u001b[1;36m1451\u001b[0m, \u001b[1;36m1564\u001b[0m\u001b[1m)\u001b[0m,\n",
       " \u001b[1;36m18\u001b[0m: \u001b[1m(\u001b[0m\u001b[1;36m605\u001b[0m, \u001b[1;36m605\u001b[0m, \u001b[1;36m605\u001b[0m, \u001b[1;36m3287\u001b[0m\u001b[1m)\u001b[0m,\n",
       " \u001b[1;36m19\u001b[0m: \u001b[1m(\u001b[0m\u001b[1;36m318\u001b[0m, \u001b[1;36m318\u001b[0m, \u001b[1;36m318\u001b[0m, \u001b[1;36m1414\u001b[0m\u001b[1m)\u001b[0m,\n",
       " \u001b[1;36m20\u001b[0m: \u001b[1m(\u001b[0m\u001b[1;36m2408\u001b[0m, \u001b[1;36m2408\u001b[0m, \u001b[1;36m2408\u001b[0m, \u001b[1;36m2450\u001b[0m\u001b[1m)\u001b[0m,\n",
       " \u001b[1;36m21\u001b[0m: \u001b[1m(\u001b[0m\u001b[1;36m318\u001b[0m, \u001b[1;36m318\u001b[0m, \u001b[1;36m318\u001b[0m, \u001b[1;36m321\u001b[0m\u001b[1m)\u001b[0m,\n",
       " \u001b[1;36m22\u001b[0m: \u001b[1m(\u001b[0m\u001b[1;36m3416\u001b[0m, \u001b[1;36m3416\u001b[0m, \u001b[1;36m3416\u001b[0m, \u001b[1;36m3490\u001b[0m\u001b[1m)\u001b[0m,\n",
       " \u001b[1;36m23\u001b[0m: \u001b[1m(\u001b[0m\u001b[1;36m1053\u001b[0m, \u001b[1;36m1053\u001b[0m, \u001b[1;36m1053\u001b[0m, \u001b[1;36m1336\u001b[0m\u001b[1m)\u001b[0m,\n",
       " \u001b[1;36m25\u001b[0m: \u001b[1m(\u001b[0m\u001b[1;36m1901\u001b[0m, \u001b[1;36m1901\u001b[0m, \u001b[1;36m1901\u001b[0m, \u001b[1;36m1906\u001b[0m\u001b[1m)\u001b[0m,\n",
       " \u001b[1;36m26\u001b[0m: \u001b[1m(\u001b[0m\u001b[1;36m824\u001b[0m, \u001b[1;36m824\u001b[0m, \u001b[1;36m824\u001b[0m, \u001b[1;36m825\u001b[0m\u001b[1m)\u001b[0m,\n",
       " \u001b[1;36m27\u001b[0m: \u001b[1m(\u001b[0m\u001b[1;36m274\u001b[0m, \u001b[1;36m274\u001b[0m, \u001b[1;36m274\u001b[0m, \u001b[1;36m665\u001b[0m\u001b[1m)\u001b[0m,\n",
       " \u001b[1;36m28\u001b[0m: \u001b[1m(\u001b[0m\u001b[1;36m248\u001b[0m, \u001b[1;36m248\u001b[0m, \u001b[1;36m248\u001b[0m, \u001b[1;36m569\u001b[0m\u001b[1m)\u001b[0m\u001b[1m}\u001b[0m\n"
      ]
     },
     "metadata": {},
     "output_type": "display_data"
    },
    {
     "name": "stdout",
     "output_type": "stream",
     "text": [
      "f\"Got gaze embedding for {sid}.\" : Got gaze embedding for 0.\n",
      "f\"Got gaze embedding for {sid}.\" : Got gaze embedding for 1.\n",
      "f\"Got gaze embedding for {sid}.\" : Got gaze embedding for 2.\n",
      "f\"Got gaze embedding for {sid}.\" : Got gaze embedding for 3.\n",
      "f\"Got gaze embedding for {sid}.\" : Got gaze embedding for 4.\n",
      "f\"Got gaze embedding for {sid}.\" : Got gaze embedding for 5.\n",
      "f\"Not sufficient frames to match {sid}:{len(frames)}\" : Not sufficient frames to match 6:0\n",
      "f\"Not sufficient frames to match {sid}:{len(frames)}\" : Not sufficient frames to match 7:0\n",
      "f\"Got gaze embedding for {sid}.\" : Got gaze embedding for 8.\n",
      "f\"Got gaze embedding for {sid}.\" : Got gaze embedding for 9.\n",
      "f\"Got gaze embedding for {sid}.\" : Got gaze embedding for 10.\n",
      "f\"Not sufficient frames to match {sid}:{len(frames)}\" : Not sufficient frames to match 11:1\n",
      "f\"Not sufficient frames to match {sid}:{len(frames)}\" : Not sufficient frames to match 12:0\n",
      "f\"Not sufficient frames to match {sid}:{len(frames)}\" : Not sufficient frames to match 13:6\n",
      "f\"Not sufficient frames to match {sid}:{len(frames)}\" : Not sufficient frames to match 14:0\n",
      "f\"Not sufficient frames to match {sid}:{len(frames)}\" : Not sufficient frames to match 15:0\n",
      "f\"Not sufficient frames to match {sid}:{len(frames)}\" : Not sufficient frames to match 16:0\n",
      "f\"Not sufficient frames to match {sid}:{len(frames)}\" : Not sufficient frames to match 17:17\n",
      "f\"Not sufficient frames to match {sid}:{len(frames)}\" : Not sufficient frames to match 18:19\n",
      "f\"Not sufficient frames to match {sid}:{len(frames)}\" : Not sufficient frames to match 19:0\n",
      "f\"Not sufficient frames to match {sid}:{len(frames)}\" : Not sufficient frames to match 20:98\n",
      "f\"Not sufficient frames to match {sid}:{len(frames)}\" : Not sufficient frames to match 21:2\n",
      "f\"Got gaze embedding for {sid}.\" : Got gaze embedding for 22.\n",
      "f\"Not sufficient frames to match {sid}:{len(frames)}\" : Not sufficient frames to match 23:10\n",
      "f\"Got gaze embedding for {sid}.\" : Got gaze embedding for 25.\n",
      "f\"Not sufficient frames to match {sid}:{len(frames)}\" : Not sufficient frames to match 26:6\n",
      "f\"Not sufficient frames to match {sid}:{len(frames)}\" : Not sufficient frames to match 27:2\n",
      "f\"Not sufficient frames to match {sid}:{len(frames)}\" : Not sufficient frames to match 28:0\n",
      "f\"Got cluster embedding for {sid}\" : Got cluster embedding for 0\n",
      "f\"Got cluster embedding for {sid}\" : Got cluster embedding for 1\n",
      "f\"Got cluster embedding for {sid}\" : Got cluster embedding for 2\n",
      "f\"Got cluster embedding for {sid}\" : Got cluster embedding for 3\n",
      "f\"Got cluster embedding for {sid}\" : Got cluster embedding for 4\n",
      "f\"Got cluster embedding for {sid}\" : Got cluster embedding for 5\n",
      "f\"All frames are outliers, not proceeding with id {sid}\" : All frames are outliers, not proceeding with id 6\n",
      "f\"All frames are outliers, not proceeding with id {sid}\" : All frames are outliers, not proceeding with id 7\n",
      "f\"All frames are outliers, not proceeding with id {sid}\" : All frames are outliers, not proceeding with id 8\n",
      "f\"Got cluster embedding for {sid}\" : Got cluster embedding for 9\n",
      "f\"Got cluster embedding for {sid}\" : Got cluster embedding for 10\n",
      "f\"All frames are outliers, not proceeding with id {sid}\" : All frames are outliers, not proceeding with id 11\n",
      "f\"All frames are outliers, not proceeding with id {sid}\" : All frames are outliers, not proceeding with id 12\n",
      "f\"All frames are outliers, not proceeding with id {sid}\" : All frames are outliers, not proceeding with id 13\n",
      "f\"Got cluster embedding for {sid}\" : Got cluster embedding for 14\n",
      "f\"Got cluster embedding for {sid}\" : Got cluster embedding for 15\n",
      "f\"All frames are outliers, not proceeding with id {sid}\" : All frames are outliers, not proceeding with id 16\n",
      "f\"Got cluster embedding for {sid}\" : Got cluster embedding for 17\n",
      "f\"Got cluster embedding for {sid}\" : Got cluster embedding for 18\n",
      "f\"Got cluster embedding for {sid}\" : Got cluster embedding for 19\n",
      "f\"Got cluster embedding for {sid}\" : Got cluster embedding for 20\n",
      "f\"All frames are outliers, not proceeding with id {sid}\" : All frames are outliers, not proceeding with id 21\n",
      "f\"Got cluster embedding for {sid}\" : Got cluster embedding for 22\n",
      "f\"Got cluster embedding for {sid}\" : Got cluster embedding for 23\n",
      "f\"Got cluster embedding for {sid}\" : Got cluster embedding for 25\n",
      "f\"Got cluster embedding for {sid}\" : Got cluster embedding for 26\n",
      "f\"All frames are outliers, not proceeding with id {sid}\" : All frames are outliers, not proceeding with id 27\n",
      "f\"All frames are outliers, not proceeding with id {sid}\" : All frames are outliers, not proceeding with id 28\n",
      "sid, face_width_med, face_width_iqd, face_height_med, face_height_iqd, face_x_med, face_x_iqd, face_y_med, face_y_iqd : 28 158.90636 67.59503173828125 202.06567 65.8538932800293 579.83923 189.72564697265625 579.83923 19.294612884521484\n"
     ]
    },
    {
     "data": {
      "text/markdown": [
       "### Got cross session input info for session: 3-17214B, session:2-classinsight-cmu_17214B_ph_a21_201903061030-front"
      ],
      "text/plain": [
       "<IPython.core.display.Markdown object>"
      ]
     },
     "metadata": {},
     "output_type": "display_data"
    },
    {
     "name": "stdout",
     "output_type": "stream",
     "text": [
      "Session classinsight-cmu_17214B_ph_a21_201903131030-front not in session filter list, skipping...\n",
      "Session classinsight-cmu_17214B_ph_a21_201903201030-front not in session filter list, skipping...\n"
     ]
    },
    {
     "data": {
      "text/markdown": [
       "## Building cross session input info for session: 3-17214B, session:5-classinsight-cmu_17214B_ph_a21_201904031030-front"
      ],
      "text/plain": [
       "<IPython.core.display.Markdown object>"
      ]
     },
     "metadata": {},
     "output_type": "display_data"
    },
    {
     "name": "stdout",
     "output_type": "stream",
     "text": [
      "3 13\n",
      "6 13\n",
      "7 13\n",
      "Dict: eligible_id_map_dict\n",
      "Key: Value\n"
     ]
    },
    {
     "data": {
      "text/html": [
       "<pre style=\"white-space:pre;overflow-x:auto;line-height:normal;font-family:Menlo,'DejaVu Sans Mono',consolas,'Courier New',monospace\"><span style=\"font-weight: bold\">{</span><span style=\"color: #008080; text-decoration-color: #008080; font-weight: bold\">6</span>: <span style=\"color: #008080; text-decoration-color: #008080; font-weight: bold\">3</span>, <span style=\"color: #008080; text-decoration-color: #008080; font-weight: bold\">7</span>: <span style=\"color: #008080; text-decoration-color: #008080; font-weight: bold\">3</span>, <span style=\"color: #008080; text-decoration-color: #008080; font-weight: bold\">13</span>: <span style=\"color: #008080; text-decoration-color: #008080; font-weight: bold\">3</span><span style=\"font-weight: bold\">}</span>\n",
       "</pre>\n"
      ],
      "text/plain": [
       "\u001b[1m{\u001b[0m\u001b[1;36m6\u001b[0m: \u001b[1;36m3\u001b[0m, \u001b[1;36m7\u001b[0m: \u001b[1;36m3\u001b[0m, \u001b[1;36m13\u001b[0m: \u001b[1;36m3\u001b[0m\u001b[1m}\u001b[0m\n"
      ]
     },
     "metadata": {},
     "output_type": "display_data"
    },
    {
     "name": "stdout",
     "output_type": "stream",
     "text": [
      "\"Corrected\", eligible_id_map_dict : Corrected {13: 3, 6: 3, 7: 3}\n",
      "\"replacing ids in old to new id maps\" : replacing ids in old to new id maps\n",
      "replacing 173:6 -->3\n",
      "replacing 548:7 -->3\n",
      "replacing 1298:13 -->3\n",
      "replacing 449:6 -->3\n",
      "replacing 576:7 -->3\n",
      "replacing 614:7 -->3\n",
      "replacing 1400:13 -->3\n",
      "Dict: {xr:(gaze_info[xr].shape[0],emb_info[xr].shape[0], face_info[xr].shape[0], bbox_info[xr].shape[0]) for xr in emb_info}\n",
      "Key: Value\n"
     ]
    },
    {
     "data": {
      "text/html": [
       "<pre style=\"white-space:pre;overflow-x:auto;line-height:normal;font-family:Menlo,'DejaVu Sans Mono',consolas,'Courier New',monospace\"><span style=\"font-weight: bold\">{</span><span style=\"color: #008080; text-decoration-color: #008080; font-weight: bold\">0</span>: <span style=\"font-weight: bold\">(</span><span style=\"color: #008080; text-decoration-color: #008080; font-weight: bold\">13177</span>, <span style=\"color: #008080; text-decoration-color: #008080; font-weight: bold\">13177</span>, <span style=\"color: #008080; text-decoration-color: #008080; font-weight: bold\">13177</span>, <span style=\"color: #008080; text-decoration-color: #008080; font-weight: bold\">13261</span><span style=\"font-weight: bold\">)</span>,\n",
       " <span style=\"color: #008080; text-decoration-color: #008080; font-weight: bold\">1</span>: <span style=\"font-weight: bold\">(</span><span style=\"color: #008080; text-decoration-color: #008080; font-weight: bold\">13112</span>, <span style=\"color: #008080; text-decoration-color: #008080; font-weight: bold\">13112</span>, <span style=\"color: #008080; text-decoration-color: #008080; font-weight: bold\">13112</span>, <span style=\"color: #008080; text-decoration-color: #008080; font-weight: bold\">14605</span><span style=\"font-weight: bold\">)</span>,\n",
       " <span style=\"color: #008080; text-decoration-color: #008080; font-weight: bold\">2</span>: <span style=\"font-weight: bold\">(</span><span style=\"color: #008080; text-decoration-color: #008080; font-weight: bold\">8596</span>, <span style=\"color: #008080; text-decoration-color: #008080; font-weight: bold\">8596</span>, <span style=\"color: #008080; text-decoration-color: #008080; font-weight: bold\">8596</span>, <span style=\"color: #008080; text-decoration-color: #008080; font-weight: bold\">8697</span><span style=\"font-weight: bold\">)</span>,\n",
       " <span style=\"color: #008080; text-decoration-color: #008080; font-weight: bold\">3</span>: <span style=\"font-weight: bold\">(</span><span style=\"color: #008080; text-decoration-color: #008080; font-weight: bold\">7221</span>, <span style=\"color: #008080; text-decoration-color: #008080; font-weight: bold\">7221</span>, <span style=\"color: #008080; text-decoration-color: #008080; font-weight: bold\">7221</span>, <span style=\"color: #008080; text-decoration-color: #008080; font-weight: bold\">7553</span><span style=\"font-weight: bold\">)</span>,\n",
       " <span style=\"color: #008080; text-decoration-color: #008080; font-weight: bold\">4</span>: <span style=\"font-weight: bold\">(</span><span style=\"color: #008080; text-decoration-color: #008080; font-weight: bold\">13239</span>, <span style=\"color: #008080; text-decoration-color: #008080; font-weight: bold\">13239</span>, <span style=\"color: #008080; text-decoration-color: #008080; font-weight: bold\">13239</span>, <span style=\"color: #008080; text-decoration-color: #008080; font-weight: bold\">13682</span><span style=\"font-weight: bold\">)</span>,\n",
       " <span style=\"color: #008080; text-decoration-color: #008080; font-weight: bold\">5</span>: <span style=\"font-weight: bold\">(</span><span style=\"color: #008080; text-decoration-color: #008080; font-weight: bold\">3693</span>, <span style=\"color: #008080; text-decoration-color: #008080; font-weight: bold\">3693</span>, <span style=\"color: #008080; text-decoration-color: #008080; font-weight: bold\">3693</span>, <span style=\"color: #008080; text-decoration-color: #008080; font-weight: bold\">3964</span><span style=\"font-weight: bold\">)</span>,\n",
       " <span style=\"color: #008080; text-decoration-color: #008080; font-weight: bold\">8</span>: <span style=\"font-weight: bold\">(</span><span style=\"color: #008080; text-decoration-color: #008080; font-weight: bold\">3</span>, <span style=\"color: #008080; text-decoration-color: #008080; font-weight: bold\">3</span>, <span style=\"color: #008080; text-decoration-color: #008080; font-weight: bold\">3</span>, <span style=\"color: #008080; text-decoration-color: #008080; font-weight: bold\">301</span><span style=\"font-weight: bold\">)</span>,\n",
       " <span style=\"color: #008080; text-decoration-color: #008080; font-weight: bold\">9</span>: <span style=\"font-weight: bold\">(</span><span style=\"color: #008080; text-decoration-color: #008080; font-weight: bold\">8505</span>, <span style=\"color: #008080; text-decoration-color: #008080; font-weight: bold\">8505</span>, <span style=\"color: #008080; text-decoration-color: #008080; font-weight: bold\">8505</span>, <span style=\"color: #008080; text-decoration-color: #008080; font-weight: bold\">9233</span><span style=\"font-weight: bold\">)</span>,\n",
       " <span style=\"color: #008080; text-decoration-color: #008080; font-weight: bold\">10</span>: <span style=\"font-weight: bold\">(</span><span style=\"color: #008080; text-decoration-color: #008080; font-weight: bold\">8815</span>, <span style=\"color: #008080; text-decoration-color: #008080; font-weight: bold\">8815</span>, <span style=\"color: #008080; text-decoration-color: #008080; font-weight: bold\">8815</span>, <span style=\"color: #008080; text-decoration-color: #008080; font-weight: bold\">8988</span><span style=\"font-weight: bold\">)</span>,\n",
       " <span style=\"color: #008080; text-decoration-color: #008080; font-weight: bold\">11</span>: <span style=\"font-weight: bold\">(</span><span style=\"color: #008080; text-decoration-color: #008080; font-weight: bold\">563</span>, <span style=\"color: #008080; text-decoration-color: #008080; font-weight: bold\">563</span>, <span style=\"color: #008080; text-decoration-color: #008080; font-weight: bold\">563</span>, <span style=\"color: #008080; text-decoration-color: #008080; font-weight: bold\">1099</span><span style=\"font-weight: bold\">)</span>,\n",
       " <span style=\"color: #008080; text-decoration-color: #008080; font-weight: bold\">12</span>: <span style=\"font-weight: bold\">(</span><span style=\"color: #008080; text-decoration-color: #008080; font-weight: bold\">294</span>, <span style=\"color: #008080; text-decoration-color: #008080; font-weight: bold\">294</span>, <span style=\"color: #008080; text-decoration-color: #008080; font-weight: bold\">294</span>, <span style=\"color: #008080; text-decoration-color: #008080; font-weight: bold\">351</span><span style=\"font-weight: bold\">)</span>,\n",
       " <span style=\"color: #008080; text-decoration-color: #008080; font-weight: bold\">14</span>: <span style=\"font-weight: bold\">(</span><span style=\"color: #008080; text-decoration-color: #008080; font-weight: bold\">1614</span>, <span style=\"color: #008080; text-decoration-color: #008080; font-weight: bold\">1614</span>, <span style=\"color: #008080; text-decoration-color: #008080; font-weight: bold\">1614</span>, <span style=\"color: #008080; text-decoration-color: #008080; font-weight: bold\">1766</span><span style=\"font-weight: bold\">)</span>,\n",
       " <span style=\"color: #008080; text-decoration-color: #008080; font-weight: bold\">15</span>: <span style=\"font-weight: bold\">(</span><span style=\"color: #008080; text-decoration-color: #008080; font-weight: bold\">1026</span>, <span style=\"color: #008080; text-decoration-color: #008080; font-weight: bold\">1026</span>, <span style=\"color: #008080; text-decoration-color: #008080; font-weight: bold\">1026</span>, <span style=\"color: #008080; text-decoration-color: #008080; font-weight: bold\">1144</span><span style=\"font-weight: bold\">)</span>,\n",
       " <span style=\"color: #008080; text-decoration-color: #008080; font-weight: bold\">16</span>: <span style=\"font-weight: bold\">(</span><span style=\"color: #008080; text-decoration-color: #008080; font-weight: bold\">979</span>, <span style=\"color: #008080; text-decoration-color: #008080; font-weight: bold\">979</span>, <span style=\"color: #008080; text-decoration-color: #008080; font-weight: bold\">979</span>, <span style=\"color: #008080; text-decoration-color: #008080; font-weight: bold\">1109</span><span style=\"font-weight: bold\">)</span>,\n",
       " <span style=\"color: #008080; text-decoration-color: #008080; font-weight: bold\">17</span>: <span style=\"font-weight: bold\">(</span><span style=\"color: #008080; text-decoration-color: #008080; font-weight: bold\">279</span>, <span style=\"color: #008080; text-decoration-color: #008080; font-weight: bold\">279</span>, <span style=\"color: #008080; text-decoration-color: #008080; font-weight: bold\">279</span>, <span style=\"color: #008080; text-decoration-color: #008080; font-weight: bold\">581</span><span style=\"font-weight: bold\">)}</span>\n",
       "</pre>\n"
      ],
      "text/plain": [
       "\u001b[1m{\u001b[0m\u001b[1;36m0\u001b[0m: \u001b[1m(\u001b[0m\u001b[1;36m13177\u001b[0m, \u001b[1;36m13177\u001b[0m, \u001b[1;36m13177\u001b[0m, \u001b[1;36m13261\u001b[0m\u001b[1m)\u001b[0m,\n",
       " \u001b[1;36m1\u001b[0m: \u001b[1m(\u001b[0m\u001b[1;36m13112\u001b[0m, \u001b[1;36m13112\u001b[0m, \u001b[1;36m13112\u001b[0m, \u001b[1;36m14605\u001b[0m\u001b[1m)\u001b[0m,\n",
       " \u001b[1;36m2\u001b[0m: \u001b[1m(\u001b[0m\u001b[1;36m8596\u001b[0m, \u001b[1;36m8596\u001b[0m, \u001b[1;36m8596\u001b[0m, \u001b[1;36m8697\u001b[0m\u001b[1m)\u001b[0m,\n",
       " \u001b[1;36m3\u001b[0m: \u001b[1m(\u001b[0m\u001b[1;36m7221\u001b[0m, \u001b[1;36m7221\u001b[0m, \u001b[1;36m7221\u001b[0m, \u001b[1;36m7553\u001b[0m\u001b[1m)\u001b[0m,\n",
       " \u001b[1;36m4\u001b[0m: \u001b[1m(\u001b[0m\u001b[1;36m13239\u001b[0m, \u001b[1;36m13239\u001b[0m, \u001b[1;36m13239\u001b[0m, \u001b[1;36m13682\u001b[0m\u001b[1m)\u001b[0m,\n",
       " \u001b[1;36m5\u001b[0m: \u001b[1m(\u001b[0m\u001b[1;36m3693\u001b[0m, \u001b[1;36m3693\u001b[0m, \u001b[1;36m3693\u001b[0m, \u001b[1;36m3964\u001b[0m\u001b[1m)\u001b[0m,\n",
       " \u001b[1;36m8\u001b[0m: \u001b[1m(\u001b[0m\u001b[1;36m3\u001b[0m, \u001b[1;36m3\u001b[0m, \u001b[1;36m3\u001b[0m, \u001b[1;36m301\u001b[0m\u001b[1m)\u001b[0m,\n",
       " \u001b[1;36m9\u001b[0m: \u001b[1m(\u001b[0m\u001b[1;36m8505\u001b[0m, \u001b[1;36m8505\u001b[0m, \u001b[1;36m8505\u001b[0m, \u001b[1;36m9233\u001b[0m\u001b[1m)\u001b[0m,\n",
       " \u001b[1;36m10\u001b[0m: \u001b[1m(\u001b[0m\u001b[1;36m8815\u001b[0m, \u001b[1;36m8815\u001b[0m, \u001b[1;36m8815\u001b[0m, \u001b[1;36m8988\u001b[0m\u001b[1m)\u001b[0m,\n",
       " \u001b[1;36m11\u001b[0m: \u001b[1m(\u001b[0m\u001b[1;36m563\u001b[0m, \u001b[1;36m563\u001b[0m, \u001b[1;36m563\u001b[0m, \u001b[1;36m1099\u001b[0m\u001b[1m)\u001b[0m,\n",
       " \u001b[1;36m12\u001b[0m: \u001b[1m(\u001b[0m\u001b[1;36m294\u001b[0m, \u001b[1;36m294\u001b[0m, \u001b[1;36m294\u001b[0m, \u001b[1;36m351\u001b[0m\u001b[1m)\u001b[0m,\n",
       " \u001b[1;36m14\u001b[0m: \u001b[1m(\u001b[0m\u001b[1;36m1614\u001b[0m, \u001b[1;36m1614\u001b[0m, \u001b[1;36m1614\u001b[0m, \u001b[1;36m1766\u001b[0m\u001b[1m)\u001b[0m,\n",
       " \u001b[1;36m15\u001b[0m: \u001b[1m(\u001b[0m\u001b[1;36m1026\u001b[0m, \u001b[1;36m1026\u001b[0m, \u001b[1;36m1026\u001b[0m, \u001b[1;36m1144\u001b[0m\u001b[1m)\u001b[0m,\n",
       " \u001b[1;36m16\u001b[0m: \u001b[1m(\u001b[0m\u001b[1;36m979\u001b[0m, \u001b[1;36m979\u001b[0m, \u001b[1;36m979\u001b[0m, \u001b[1;36m1109\u001b[0m\u001b[1m)\u001b[0m,\n",
       " \u001b[1;36m17\u001b[0m: \u001b[1m(\u001b[0m\u001b[1;36m279\u001b[0m, \u001b[1;36m279\u001b[0m, \u001b[1;36m279\u001b[0m, \u001b[1;36m581\u001b[0m\u001b[1m)\u001b[0m\u001b[1m}\u001b[0m\n"
      ]
     },
     "metadata": {},
     "output_type": "display_data"
    },
    {
     "name": "stdout",
     "output_type": "stream",
     "text": [
      "f\"Got gaze embedding for {sid}.\" : Got gaze embedding for 0.\n",
      "f\"Got gaze embedding for {sid}.\" : Got gaze embedding for 1.\n",
      "f\"Got gaze embedding for {sid}.\" : Got gaze embedding for 2.\n",
      "f\"Got gaze embedding for {sid}.\" : Got gaze embedding for 3.\n",
      "f\"Got gaze embedding for {sid}.\" : Got gaze embedding for 4.\n",
      "f\"Got gaze embedding for {sid}.\" : Got gaze embedding for 5.\n",
      "f\"Not sufficient frames to match {sid}:{len(frames)}\" : Not sufficient frames to match 8:0\n",
      "f\"Got gaze embedding for {sid}.\" : Got gaze embedding for 9.\n",
      "f\"Got gaze embedding for {sid}.\" : Got gaze embedding for 10.\n",
      "f\"Not sufficient frames to match {sid}:{len(frames)}\" : Not sufficient frames to match 11:0\n",
      "f\"Not sufficient frames to match {sid}:{len(frames)}\" : Not sufficient frames to match 12:6\n",
      "f\"Got gaze embedding for {sid}.\" : Got gaze embedding for 14.\n",
      "f\"Got gaze embedding for {sid}.\" : Got gaze embedding for 15.\n",
      "f\"Not sufficient frames to match {sid}:{len(frames)}\" : Not sufficient frames to match 16:15\n",
      "f\"Not sufficient frames to match {sid}:{len(frames)}\" : Not sufficient frames to match 17:10\n",
      "f\"Got cluster embedding for {sid}\" : Got cluster embedding for 0\n",
      "f\"Got cluster embedding for {sid}\" : Got cluster embedding for 1\n",
      "f\"Got cluster embedding for {sid}\" : Got cluster embedding for 2\n",
      "f\"Got cluster embedding for {sid}\" : Got cluster embedding for 3\n",
      "f\"Got cluster embedding for {sid}\" : Got cluster embedding for 4\n",
      "f\"Got cluster embedding for {sid}\" : Got cluster embedding for 5\n",
      "f\"All frames are outliers, not proceeding with id {sid}\" : All frames are outliers, not proceeding with id 8\n",
      "f\"Got cluster embedding for {sid}\" : Got cluster embedding for 9\n",
      "f\"Got cluster embedding for {sid}\" : Got cluster embedding for 10\n",
      "f\"Got cluster embedding for {sid}\" : Got cluster embedding for 11\n",
      "f\"All frames are outliers, not proceeding with id {sid}\" : All frames are outliers, not proceeding with id 12\n",
      "f\"Got cluster embedding for {sid}\" : Got cluster embedding for 14\n",
      "f\"Got cluster embedding for {sid}\" : Got cluster embedding for 15\n",
      "f\"All frames are outliers, not proceeding with id {sid}\" : All frames are outliers, not proceeding with id 16\n",
      "f\"All frames are outliers, not proceeding with id {sid}\" : All frames are outliers, not proceeding with id 17\n",
      "sid, face_width_med, face_width_iqd, face_height_med, face_height_iqd, face_x_med, face_x_iqd, face_y_med, face_y_iqd : 17 59.6034 13.792755126953125 77.99088 12.444122314453125 121.05716 60.76484298706055 121.05716 20.507789611816406\n"
     ]
    },
    {
     "data": {
      "text/markdown": [
       "### Got cross session input info for session: 3-17214B, session:5-classinsight-cmu_17214B_ph_a21_201904031030-front"
      ],
      "text/plain": [
       "<IPython.core.display.Markdown object>"
      ]
     },
     "metadata": {},
     "output_type": "display_data"
    },
    {
     "data": {
      "text/markdown": [
       "## Building cross session input info for session: 3-17214B, session:6-classinsight-cmu_17214B_ph_a21_201904101030-front"
      ],
      "text/plain": [
       "<IPython.core.display.Markdown object>"
      ]
     },
     "metadata": {},
     "output_type": "display_data"
    },
    {
     "name": "stdout",
     "output_type": "stream",
     "text": [
      "Dict: eligible_id_map_dict\n",
      "Key: Value\n"
     ]
    },
    {
     "data": {
      "text/html": [
       "<pre style=\"white-space:pre;overflow-x:auto;line-height:normal;font-family:Menlo,'DejaVu Sans Mono',consolas,'Courier New',monospace\"><span style=\"font-weight: bold\">{}</span>\n",
       "</pre>\n"
      ],
      "text/plain": [
       "\u001b[1m{\u001b[0m\u001b[1m}\u001b[0m\n"
      ]
     },
     "metadata": {},
     "output_type": "display_data"
    },
    {
     "name": "stdout",
     "output_type": "stream",
     "text": [
      "\"Corrected\", eligible_id_map_dict : Corrected {}\n",
      "\"replacing ids in old to new id maps\" : replacing ids in old to new id maps\n",
      "Dict: {xr:(gaze_info[xr].shape[0],emb_info[xr].shape[0], face_info[xr].shape[0], bbox_info[xr].shape[0]) for xr in emb_info}\n",
      "Key: Value\n"
     ]
    },
    {
     "data": {
      "text/html": [
       "<pre style=\"white-space:pre;overflow-x:auto;line-height:normal;font-family:Menlo,'DejaVu Sans Mono',consolas,'Courier New',monospace\"><span style=\"font-weight: bold\">{</span><span style=\"color: #008080; text-decoration-color: #008080; font-weight: bold\">0</span>: <span style=\"font-weight: bold\">(</span><span style=\"color: #008080; text-decoration-color: #008080; font-weight: bold\">14334</span>, <span style=\"color: #008080; text-decoration-color: #008080; font-weight: bold\">14334</span>, <span style=\"color: #008080; text-decoration-color: #008080; font-weight: bold\">14334</span>, <span style=\"color: #008080; text-decoration-color: #008080; font-weight: bold\">14994</span><span style=\"font-weight: bold\">)</span>,\n",
       " <span style=\"color: #008080; text-decoration-color: #008080; font-weight: bold\">1</span>: <span style=\"font-weight: bold\">(</span><span style=\"color: #008080; text-decoration-color: #008080; font-weight: bold\">11729</span>, <span style=\"color: #008080; text-decoration-color: #008080; font-weight: bold\">11729</span>, <span style=\"color: #008080; text-decoration-color: #008080; font-weight: bold\">11729</span>, <span style=\"color: #008080; text-decoration-color: #008080; font-weight: bold\">14982</span><span style=\"font-weight: bold\">)</span>,\n",
       " <span style=\"color: #008080; text-decoration-color: #008080; font-weight: bold\">2</span>: <span style=\"font-weight: bold\">(</span><span style=\"color: #008080; text-decoration-color: #008080; font-weight: bold\">14873</span>, <span style=\"color: #008080; text-decoration-color: #008080; font-weight: bold\">14873</span>, <span style=\"color: #008080; text-decoration-color: #008080; font-weight: bold\">14873</span>, <span style=\"color: #008080; text-decoration-color: #008080; font-weight: bold\">14964</span><span style=\"font-weight: bold\">)</span>,\n",
       " <span style=\"color: #008080; text-decoration-color: #008080; font-weight: bold\">3</span>: <span style=\"font-weight: bold\">(</span><span style=\"color: #008080; text-decoration-color: #008080; font-weight: bold\">10144</span>, <span style=\"color: #008080; text-decoration-color: #008080; font-weight: bold\">10144</span>, <span style=\"color: #008080; text-decoration-color: #008080; font-weight: bold\">10144</span>, <span style=\"color: #008080; text-decoration-color: #008080; font-weight: bold\">10198</span><span style=\"font-weight: bold\">)</span>,\n",
       " <span style=\"color: #008080; text-decoration-color: #008080; font-weight: bold\">4</span>: <span style=\"font-weight: bold\">(</span><span style=\"color: #008080; text-decoration-color: #008080; font-weight: bold\">9509</span>, <span style=\"color: #008080; text-decoration-color: #008080; font-weight: bold\">9509</span>, <span style=\"color: #008080; text-decoration-color: #008080; font-weight: bold\">9509</span>, <span style=\"color: #008080; text-decoration-color: #008080; font-weight: bold\">14880</span><span style=\"font-weight: bold\">)</span>,\n",
       " <span style=\"color: #008080; text-decoration-color: #008080; font-weight: bold\">5</span>: <span style=\"font-weight: bold\">(</span><span style=\"color: #008080; text-decoration-color: #008080; font-weight: bold\">14724</span>, <span style=\"color: #008080; text-decoration-color: #008080; font-weight: bold\">14724</span>, <span style=\"color: #008080; text-decoration-color: #008080; font-weight: bold\">14724</span>, <span style=\"color: #008080; text-decoration-color: #008080; font-weight: bold\">14969</span><span style=\"font-weight: bold\">)</span>,\n",
       " <span style=\"color: #008080; text-decoration-color: #008080; font-weight: bold\">6</span>: <span style=\"font-weight: bold\">(</span><span style=\"color: #008080; text-decoration-color: #008080; font-weight: bold\">14</span>, <span style=\"color: #008080; text-decoration-color: #008080; font-weight: bold\">14</span>, <span style=\"color: #008080; text-decoration-color: #008080; font-weight: bold\">14</span>, <span style=\"color: #008080; text-decoration-color: #008080; font-weight: bold\">337</span><span style=\"font-weight: bold\">)</span>,\n",
       " <span style=\"color: #008080; text-decoration-color: #008080; font-weight: bold\">7</span>: <span style=\"font-weight: bold\">(</span><span style=\"color: #008080; text-decoration-color: #008080; font-weight: bold\">14358</span>, <span style=\"color: #008080; text-decoration-color: #008080; font-weight: bold\">14358</span>, <span style=\"color: #008080; text-decoration-color: #008080; font-weight: bold\">14358</span>, <span style=\"color: #008080; text-decoration-color: #008080; font-weight: bold\">14654</span><span style=\"font-weight: bold\">)</span>,\n",
       " <span style=\"color: #008080; text-decoration-color: #008080; font-weight: bold\">8</span>: <span style=\"font-weight: bold\">(</span><span style=\"color: #008080; text-decoration-color: #008080; font-weight: bold\">92</span>, <span style=\"color: #008080; text-decoration-color: #008080; font-weight: bold\">92</span>, <span style=\"color: #008080; text-decoration-color: #008080; font-weight: bold\">92</span>, <span style=\"color: #008080; text-decoration-color: #008080; font-weight: bold\">502</span><span style=\"font-weight: bold\">)</span>,\n",
       " <span style=\"color: #008080; text-decoration-color: #008080; font-weight: bold\">9</span>: <span style=\"font-weight: bold\">(</span><span style=\"color: #008080; text-decoration-color: #008080; font-weight: bold\">762</span>, <span style=\"color: #008080; text-decoration-color: #008080; font-weight: bold\">762</span>, <span style=\"color: #008080; text-decoration-color: #008080; font-weight: bold\">762</span>, <span style=\"color: #008080; text-decoration-color: #008080; font-weight: bold\">4407</span><span style=\"font-weight: bold\">)</span>,\n",
       " <span style=\"color: #008080; text-decoration-color: #008080; font-weight: bold\">10</span>: <span style=\"font-weight: bold\">(</span><span style=\"color: #008080; text-decoration-color: #008080; font-weight: bold\">12406</span>, <span style=\"color: #008080; text-decoration-color: #008080; font-weight: bold\">12406</span>, <span style=\"color: #008080; text-decoration-color: #008080; font-weight: bold\">12406</span>, <span style=\"color: #008080; text-decoration-color: #008080; font-weight: bold\">12499</span><span style=\"font-weight: bold\">)</span>,\n",
       " <span style=\"color: #008080; text-decoration-color: #008080; font-weight: bold\">11</span>: <span style=\"font-weight: bold\">(</span><span style=\"color: #008080; text-decoration-color: #008080; font-weight: bold\">25</span>, <span style=\"color: #008080; text-decoration-color: #008080; font-weight: bold\">25</span>, <span style=\"color: #008080; text-decoration-color: #008080; font-weight: bold\">25</span>, <span style=\"color: #008080; text-decoration-color: #008080; font-weight: bold\">634</span><span style=\"font-weight: bold\">)</span>,\n",
       " <span style=\"color: #008080; text-decoration-color: #008080; font-weight: bold\">12</span>: <span style=\"font-weight: bold\">(</span><span style=\"color: #008080; text-decoration-color: #008080; font-weight: bold\">13</span>, <span style=\"color: #008080; text-decoration-color: #008080; font-weight: bold\">13</span>, <span style=\"color: #008080; text-decoration-color: #008080; font-weight: bold\">13</span>, <span style=\"color: #008080; text-decoration-color: #008080; font-weight: bold\">522</span><span style=\"font-weight: bold\">)</span>,\n",
       " <span style=\"color: #008080; text-decoration-color: #008080; font-weight: bold\">13</span>: <span style=\"font-weight: bold\">(</span><span style=\"color: #008080; text-decoration-color: #008080; font-weight: bold\">48</span>, <span style=\"color: #008080; text-decoration-color: #008080; font-weight: bold\">48</span>, <span style=\"color: #008080; text-decoration-color: #008080; font-weight: bold\">48</span>, <span style=\"color: #008080; text-decoration-color: #008080; font-weight: bold\">419</span><span style=\"font-weight: bold\">)</span>,\n",
       " <span style=\"color: #008080; text-decoration-color: #008080; font-weight: bold\">14</span>: <span style=\"font-weight: bold\">(</span><span style=\"color: #008080; text-decoration-color: #008080; font-weight: bold\">463</span>, <span style=\"color: #008080; text-decoration-color: #008080; font-weight: bold\">463</span>, <span style=\"color: #008080; text-decoration-color: #008080; font-weight: bold\">463</span>, <span style=\"color: #008080; text-decoration-color: #008080; font-weight: bold\">2997</span><span style=\"font-weight: bold\">)</span>,\n",
       " <span style=\"color: #008080; text-decoration-color: #008080; font-weight: bold\">15</span>: <span style=\"font-weight: bold\">(</span><span style=\"color: #008080; text-decoration-color: #008080; font-weight: bold\">20</span>, <span style=\"color: #008080; text-decoration-color: #008080; font-weight: bold\">20</span>, <span style=\"color: #008080; text-decoration-color: #008080; font-weight: bold\">20</span>, <span style=\"color: #008080; text-decoration-color: #008080; font-weight: bold\">708</span><span style=\"font-weight: bold\">)</span>,\n",
       " <span style=\"color: #008080; text-decoration-color: #008080; font-weight: bold\">16</span>: <span style=\"font-weight: bold\">(</span><span style=\"color: #008080; text-decoration-color: #008080; font-weight: bold\">794</span>, <span style=\"color: #008080; text-decoration-color: #008080; font-weight: bold\">794</span>, <span style=\"color: #008080; text-decoration-color: #008080; font-weight: bold\">794</span>, <span style=\"color: #008080; text-decoration-color: #008080; font-weight: bold\">2565</span><span style=\"font-weight: bold\">)</span>,\n",
       " <span style=\"color: #008080; text-decoration-color: #008080; font-weight: bold\">17</span>: <span style=\"font-weight: bold\">(</span><span style=\"color: #008080; text-decoration-color: #008080; font-weight: bold\">4730</span>, <span style=\"color: #008080; text-decoration-color: #008080; font-weight: bold\">4730</span>, <span style=\"color: #008080; text-decoration-color: #008080; font-weight: bold\">4730</span>, <span style=\"color: #008080; text-decoration-color: #008080; font-weight: bold\">4862</span><span style=\"font-weight: bold\">)</span>,\n",
       " <span style=\"color: #008080; text-decoration-color: #008080; font-weight: bold\">18</span>: <span style=\"font-weight: bold\">(</span><span style=\"color: #008080; text-decoration-color: #008080; font-weight: bold\">1967</span>, <span style=\"color: #008080; text-decoration-color: #008080; font-weight: bold\">1967</span>, <span style=\"color: #008080; text-decoration-color: #008080; font-weight: bold\">1967</span>, <span style=\"color: #008080; text-decoration-color: #008080; font-weight: bold\">2494</span><span style=\"font-weight: bold\">)</span>,\n",
       " <span style=\"color: #008080; text-decoration-color: #008080; font-weight: bold\">19</span>: <span style=\"font-weight: bold\">(</span><span style=\"color: #008080; text-decoration-color: #008080; font-weight: bold\">234</span>, <span style=\"color: #008080; text-decoration-color: #008080; font-weight: bold\">234</span>, <span style=\"color: #008080; text-decoration-color: #008080; font-weight: bold\">234</span>, <span style=\"color: #008080; text-decoration-color: #008080; font-weight: bold\">2248</span><span style=\"font-weight: bold\">)</span>,\n",
       " <span style=\"color: #008080; text-decoration-color: #008080; font-weight: bold\">20</span>: <span style=\"font-weight: bold\">(</span><span style=\"color: #008080; text-decoration-color: #008080; font-weight: bold\">193</span>, <span style=\"color: #008080; text-decoration-color: #008080; font-weight: bold\">193</span>, <span style=\"color: #008080; text-decoration-color: #008080; font-weight: bold\">193</span>, <span style=\"color: #008080; text-decoration-color: #008080; font-weight: bold\">713</span><span style=\"font-weight: bold\">)</span>,\n",
       " <span style=\"color: #008080; text-decoration-color: #008080; font-weight: bold\">21</span>: <span style=\"font-weight: bold\">(</span><span style=\"color: #008080; text-decoration-color: #008080; font-weight: bold\">98</span>, <span style=\"color: #008080; text-decoration-color: #008080; font-weight: bold\">98</span>, <span style=\"color: #008080; text-decoration-color: #008080; font-weight: bold\">98</span>, <span style=\"color: #008080; text-decoration-color: #008080; font-weight: bold\">740</span><span style=\"font-weight: bold\">)}</span>\n",
       "</pre>\n"
      ],
      "text/plain": [
       "\u001b[1m{\u001b[0m\u001b[1;36m0\u001b[0m: \u001b[1m(\u001b[0m\u001b[1;36m14334\u001b[0m, \u001b[1;36m14334\u001b[0m, \u001b[1;36m14334\u001b[0m, \u001b[1;36m14994\u001b[0m\u001b[1m)\u001b[0m,\n",
       " \u001b[1;36m1\u001b[0m: \u001b[1m(\u001b[0m\u001b[1;36m11729\u001b[0m, \u001b[1;36m11729\u001b[0m, \u001b[1;36m11729\u001b[0m, \u001b[1;36m14982\u001b[0m\u001b[1m)\u001b[0m,\n",
       " \u001b[1;36m2\u001b[0m: \u001b[1m(\u001b[0m\u001b[1;36m14873\u001b[0m, \u001b[1;36m14873\u001b[0m, \u001b[1;36m14873\u001b[0m, \u001b[1;36m14964\u001b[0m\u001b[1m)\u001b[0m,\n",
       " \u001b[1;36m3\u001b[0m: \u001b[1m(\u001b[0m\u001b[1;36m10144\u001b[0m, \u001b[1;36m10144\u001b[0m, \u001b[1;36m10144\u001b[0m, \u001b[1;36m10198\u001b[0m\u001b[1m)\u001b[0m,\n",
       " \u001b[1;36m4\u001b[0m: \u001b[1m(\u001b[0m\u001b[1;36m9509\u001b[0m, \u001b[1;36m9509\u001b[0m, \u001b[1;36m9509\u001b[0m, \u001b[1;36m14880\u001b[0m\u001b[1m)\u001b[0m,\n",
       " \u001b[1;36m5\u001b[0m: \u001b[1m(\u001b[0m\u001b[1;36m14724\u001b[0m, \u001b[1;36m14724\u001b[0m, \u001b[1;36m14724\u001b[0m, \u001b[1;36m14969\u001b[0m\u001b[1m)\u001b[0m,\n",
       " \u001b[1;36m6\u001b[0m: \u001b[1m(\u001b[0m\u001b[1;36m14\u001b[0m, \u001b[1;36m14\u001b[0m, \u001b[1;36m14\u001b[0m, \u001b[1;36m337\u001b[0m\u001b[1m)\u001b[0m,\n",
       " \u001b[1;36m7\u001b[0m: \u001b[1m(\u001b[0m\u001b[1;36m14358\u001b[0m, \u001b[1;36m14358\u001b[0m, \u001b[1;36m14358\u001b[0m, \u001b[1;36m14654\u001b[0m\u001b[1m)\u001b[0m,\n",
       " \u001b[1;36m8\u001b[0m: \u001b[1m(\u001b[0m\u001b[1;36m92\u001b[0m, \u001b[1;36m92\u001b[0m, \u001b[1;36m92\u001b[0m, \u001b[1;36m502\u001b[0m\u001b[1m)\u001b[0m,\n",
       " \u001b[1;36m9\u001b[0m: \u001b[1m(\u001b[0m\u001b[1;36m762\u001b[0m, \u001b[1;36m762\u001b[0m, \u001b[1;36m762\u001b[0m, \u001b[1;36m4407\u001b[0m\u001b[1m)\u001b[0m,\n",
       " \u001b[1;36m10\u001b[0m: \u001b[1m(\u001b[0m\u001b[1;36m12406\u001b[0m, \u001b[1;36m12406\u001b[0m, \u001b[1;36m12406\u001b[0m, \u001b[1;36m12499\u001b[0m\u001b[1m)\u001b[0m,\n",
       " \u001b[1;36m11\u001b[0m: \u001b[1m(\u001b[0m\u001b[1;36m25\u001b[0m, \u001b[1;36m25\u001b[0m, \u001b[1;36m25\u001b[0m, \u001b[1;36m634\u001b[0m\u001b[1m)\u001b[0m,\n",
       " \u001b[1;36m12\u001b[0m: \u001b[1m(\u001b[0m\u001b[1;36m13\u001b[0m, \u001b[1;36m13\u001b[0m, \u001b[1;36m13\u001b[0m, \u001b[1;36m522\u001b[0m\u001b[1m)\u001b[0m,\n",
       " \u001b[1;36m13\u001b[0m: \u001b[1m(\u001b[0m\u001b[1;36m48\u001b[0m, \u001b[1;36m48\u001b[0m, \u001b[1;36m48\u001b[0m, \u001b[1;36m419\u001b[0m\u001b[1m)\u001b[0m,\n",
       " \u001b[1;36m14\u001b[0m: \u001b[1m(\u001b[0m\u001b[1;36m463\u001b[0m, \u001b[1;36m463\u001b[0m, \u001b[1;36m463\u001b[0m, \u001b[1;36m2997\u001b[0m\u001b[1m)\u001b[0m,\n",
       " \u001b[1;36m15\u001b[0m: \u001b[1m(\u001b[0m\u001b[1;36m20\u001b[0m, \u001b[1;36m20\u001b[0m, \u001b[1;36m20\u001b[0m, \u001b[1;36m708\u001b[0m\u001b[1m)\u001b[0m,\n",
       " \u001b[1;36m16\u001b[0m: \u001b[1m(\u001b[0m\u001b[1;36m794\u001b[0m, \u001b[1;36m794\u001b[0m, \u001b[1;36m794\u001b[0m, \u001b[1;36m2565\u001b[0m\u001b[1m)\u001b[0m,\n",
       " \u001b[1;36m17\u001b[0m: \u001b[1m(\u001b[0m\u001b[1;36m4730\u001b[0m, \u001b[1;36m4730\u001b[0m, \u001b[1;36m4730\u001b[0m, \u001b[1;36m4862\u001b[0m\u001b[1m)\u001b[0m,\n",
       " \u001b[1;36m18\u001b[0m: \u001b[1m(\u001b[0m\u001b[1;36m1967\u001b[0m, \u001b[1;36m1967\u001b[0m, \u001b[1;36m1967\u001b[0m, \u001b[1;36m2494\u001b[0m\u001b[1m)\u001b[0m,\n",
       " \u001b[1;36m19\u001b[0m: \u001b[1m(\u001b[0m\u001b[1;36m234\u001b[0m, \u001b[1;36m234\u001b[0m, \u001b[1;36m234\u001b[0m, \u001b[1;36m2248\u001b[0m\u001b[1m)\u001b[0m,\n",
       " \u001b[1;36m20\u001b[0m: \u001b[1m(\u001b[0m\u001b[1;36m193\u001b[0m, \u001b[1;36m193\u001b[0m, \u001b[1;36m193\u001b[0m, \u001b[1;36m713\u001b[0m\u001b[1m)\u001b[0m,\n",
       " \u001b[1;36m21\u001b[0m: \u001b[1m(\u001b[0m\u001b[1;36m98\u001b[0m, \u001b[1;36m98\u001b[0m, \u001b[1;36m98\u001b[0m, \u001b[1;36m740\u001b[0m\u001b[1m)\u001b[0m\u001b[1m}\u001b[0m\n"
      ]
     },
     "metadata": {},
     "output_type": "display_data"
    },
    {
     "name": "stdout",
     "output_type": "stream",
     "text": [
      "f\"Got gaze embedding for {sid}.\" : Got gaze embedding for 0.\n",
      "f\"Got gaze embedding for {sid}.\" : Got gaze embedding for 1.\n",
      "f\"Got gaze embedding for {sid}.\" : Got gaze embedding for 2.\n",
      "f\"Got gaze embedding for {sid}.\" : Got gaze embedding for 3.\n",
      "f\"Got gaze embedding for {sid}.\" : Got gaze embedding for 4.\n",
      "f\"Got gaze embedding for {sid}.\" : Got gaze embedding for 5.\n",
      "f\"Not sufficient frames to match {sid}:{len(frames)}\" : Not sufficient frames to match 6:0\n",
      "f\"Got gaze embedding for {sid}.\" : Got gaze embedding for 7.\n",
      "f\"Not sufficient frames to match {sid}:{len(frames)}\" : Not sufficient frames to match 8:0\n",
      "f\"Not sufficient frames to match {sid}:{len(frames)}\" : Not sufficient frames to match 9:10\n",
      "f\"Got gaze embedding for {sid}.\" : Got gaze embedding for 10.\n",
      "f\"Not sufficient frames to match {sid}:{len(frames)}\" : Not sufficient frames to match 11:0\n",
      "f\"Not sufficient frames to match {sid}:{len(frames)}\" : Not sufficient frames to match 12:0\n",
      "f\"Not sufficient frames to match {sid}:{len(frames)}\" : Not sufficient frames to match 13:0\n",
      "f\"Not sufficient frames to match {sid}:{len(frames)}\" : Not sufficient frames to match 14:1\n",
      "f\"Not sufficient frames to match {sid}:{len(frames)}\" : Not sufficient frames to match 15:0\n",
      "f\"Not sufficient frames to match {sid}:{len(frames)}\" : Not sufficient frames to match 16:76\n",
      "f\"Got gaze embedding for {sid}.\" : Got gaze embedding for 17.\n",
      "f\"Got gaze embedding for {sid}.\" : Got gaze embedding for 18.\n",
      "f\"Not sufficient frames to match {sid}:{len(frames)}\" : Not sufficient frames to match 19:1\n",
      "f\"Not sufficient frames to match {sid}:{len(frames)}\" : Not sufficient frames to match 20:0\n",
      "f\"Not sufficient frames to match {sid}:{len(frames)}\" : Not sufficient frames to match 21:0\n",
      "f\"Got cluster embedding for {sid}\" : Got cluster embedding for 0\n",
      "f\"Got cluster embedding for {sid}\" : Got cluster embedding for 1\n",
      "f\"Got cluster embedding for {sid}\" : Got cluster embedding for 2\n",
      "f\"Got cluster embedding for {sid}\" : Got cluster embedding for 3\n",
      "f\"Got cluster embedding for {sid}\" : Got cluster embedding for 4\n",
      "f\"Got cluster embedding for {sid}\" : Got cluster embedding for 5\n",
      "f\"All frames are outliers, not proceeding with id {sid}\" : All frames are outliers, not proceeding with id 6\n",
      "f\"Got cluster embedding for {sid}\" : Got cluster embedding for 7\n",
      "f\"All frames are outliers, not proceeding with id {sid}\" : All frames are outliers, not proceeding with id 8\n",
      "f\"Got cluster embedding for {sid}\" : Got cluster embedding for 9\n",
      "f\"Got cluster embedding for {sid}\" : Got cluster embedding for 10\n",
      "f\"All frames are outliers, not proceeding with id {sid}\" : All frames are outliers, not proceeding with id 11\n",
      "f\"All frames are outliers, not proceeding with id {sid}\" : All frames are outliers, not proceeding with id 12\n",
      "f\"All frames are outliers, not proceeding with id {sid}\" : All frames are outliers, not proceeding with id 13\n",
      "f\"All frames are outliers, not proceeding with id {sid}\" : All frames are outliers, not proceeding with id 14\n",
      "f\"All frames are outliers, not proceeding with id {sid}\" : All frames are outliers, not proceeding with id 15\n",
      "f\"Got cluster embedding for {sid}\" : Got cluster embedding for 16\n",
      "f\"Got cluster embedding for {sid}\" : Got cluster embedding for 17\n",
      "f\"Got cluster embedding for {sid}\" : Got cluster embedding for 18\n",
      "f\"All frames are outliers, not proceeding with id {sid}\" : All frames are outliers, not proceeding with id 19\n",
      "f\"Got cluster embedding for {sid}\" : Got cluster embedding for 20\n",
      "f\"All frames are outliers, not proceeding with id {sid}\" : All frames are outliers, not proceeding with id 21\n",
      "sid, face_width_med, face_width_iqd, face_height_med, face_height_iqd, face_x_med, face_x_iqd, face_y_med, face_y_iqd : 21 172.65373 74.52989196777344 240.90146 50.633235931396484 484.1649 121.28175354003906 484.1649 31.920181274414062\n"
     ]
    },
    {
     "data": {
      "text/markdown": [
       "### Got cross session input info for session: 3-17214B, session:6-classinsight-cmu_17214B_ph_a21_201904101030-front"
      ],
      "text/plain": [
       "<IPython.core.display.Markdown object>"
      ]
     },
     "metadata": {},
     "output_type": "display_data"
    },
    {
     "name": "stdout",
     "output_type": "stream",
     "text": [
      "Session classinsight-cmu_17214B_ph_a21_201904171030-front not in session filter list, skipping...\n",
      "Session classinsight-cmu_17214B_ph_a21_201902131045-front not in session filter list, skipping...\n"
     ]
    },
    {
     "data": {
      "text/markdown": [
       "## Building cross session input info for session: 3-17214B, session:9-classinsight-cmu_17214B_ph_a21_201904241030-front"
      ],
      "text/plain": [
       "<IPython.core.display.Markdown object>"
      ]
     },
     "metadata": {},
     "output_type": "display_data"
    },
    {
     "name": "stdout",
     "output_type": "stream",
     "text": [
      "Dict: eligible_id_map_dict\n",
      "Key: Value\n"
     ]
    },
    {
     "data": {
      "text/html": [
       "<pre style=\"white-space:pre;overflow-x:auto;line-height:normal;font-family:Menlo,'DejaVu Sans Mono',consolas,'Courier New',monospace\"><span style=\"font-weight: bold\">{}</span>\n",
       "</pre>\n"
      ],
      "text/plain": [
       "\u001b[1m{\u001b[0m\u001b[1m}\u001b[0m\n"
      ]
     },
     "metadata": {},
     "output_type": "display_data"
    },
    {
     "name": "stdout",
     "output_type": "stream",
     "text": [
      "\"Corrected\", eligible_id_map_dict : Corrected {}\n",
      "\"replacing ids in old to new id maps\" : replacing ids in old to new id maps\n",
      "Dict: {xr:(gaze_info[xr].shape[0],emb_info[xr].shape[0], face_info[xr].shape[0], bbox_info[xr].shape[0]) for xr in emb_info}\n",
      "Key: Value\n"
     ]
    },
    {
     "data": {
      "text/html": [
       "<pre style=\"white-space:pre;overflow-x:auto;line-height:normal;font-family:Menlo,'DejaVu Sans Mono',consolas,'Courier New',monospace\"><span style=\"font-weight: bold\">{</span><span style=\"color: #008080; text-decoration-color: #008080; font-weight: bold\">0</span>: <span style=\"font-weight: bold\">(</span><span style=\"color: #008080; text-decoration-color: #008080; font-weight: bold\">11963</span>, <span style=\"color: #008080; text-decoration-color: #008080; font-weight: bold\">11963</span>, <span style=\"color: #008080; text-decoration-color: #008080; font-weight: bold\">11963</span>, <span style=\"color: #008080; text-decoration-color: #008080; font-weight: bold\">12144</span><span style=\"font-weight: bold\">)</span>,\n",
       " <span style=\"color: #008080; text-decoration-color: #008080; font-weight: bold\">1</span>: <span style=\"font-weight: bold\">(</span><span style=\"color: #008080; text-decoration-color: #008080; font-weight: bold\">11459</span>, <span style=\"color: #008080; text-decoration-color: #008080; font-weight: bold\">11459</span>, <span style=\"color: #008080; text-decoration-color: #008080; font-weight: bold\">11459</span>, <span style=\"color: #008080; text-decoration-color: #008080; font-weight: bold\">14984</span><span style=\"font-weight: bold\">)</span>,\n",
       " <span style=\"color: #008080; text-decoration-color: #008080; font-weight: bold\">2</span>: <span style=\"font-weight: bold\">(</span><span style=\"color: #008080; text-decoration-color: #008080; font-weight: bold\">170</span>, <span style=\"color: #008080; text-decoration-color: #008080; font-weight: bold\">170</span>, <span style=\"color: #008080; text-decoration-color: #008080; font-weight: bold\">170</span>, <span style=\"color: #008080; text-decoration-color: #008080; font-weight: bold\">815</span><span style=\"font-weight: bold\">)</span>,\n",
       " <span style=\"color: #008080; text-decoration-color: #008080; font-weight: bold\">3</span>: <span style=\"font-weight: bold\">(</span><span style=\"color: #008080; text-decoration-color: #008080; font-weight: bold\">3286</span>, <span style=\"color: #008080; text-decoration-color: #008080; font-weight: bold\">3286</span>, <span style=\"color: #008080; text-decoration-color: #008080; font-weight: bold\">3286</span>, <span style=\"color: #008080; text-decoration-color: #008080; font-weight: bold\">3328</span><span style=\"font-weight: bold\">)</span>,\n",
       " <span style=\"color: #008080; text-decoration-color: #008080; font-weight: bold\">4</span>: <span style=\"font-weight: bold\">(</span><span style=\"color: #008080; text-decoration-color: #008080; font-weight: bold\">14552</span>, <span style=\"color: #008080; text-decoration-color: #008080; font-weight: bold\">14552</span>, <span style=\"color: #008080; text-decoration-color: #008080; font-weight: bold\">14552</span>, <span style=\"color: #008080; text-decoration-color: #008080; font-weight: bold\">14796</span><span style=\"font-weight: bold\">)</span>,\n",
       " <span style=\"color: #008080; text-decoration-color: #008080; font-weight: bold\">5</span>: <span style=\"font-weight: bold\">(</span><span style=\"color: #008080; text-decoration-color: #008080; font-weight: bold\">14608</span>, <span style=\"color: #008080; text-decoration-color: #008080; font-weight: bold\">14608</span>, <span style=\"color: #008080; text-decoration-color: #008080; font-weight: bold\">14608</span>, <span style=\"color: #008080; text-decoration-color: #008080; font-weight: bold\">14626</span><span style=\"font-weight: bold\">)</span>,\n",
       " <span style=\"color: #008080; text-decoration-color: #008080; font-weight: bold\">6</span>: <span style=\"font-weight: bold\">(</span><span style=\"color: #008080; text-decoration-color: #008080; font-weight: bold\">14098</span>, <span style=\"color: #008080; text-decoration-color: #008080; font-weight: bold\">14098</span>, <span style=\"color: #008080; text-decoration-color: #008080; font-weight: bold\">14098</span>, <span style=\"color: #008080; text-decoration-color: #008080; font-weight: bold\">14339</span><span style=\"font-weight: bold\">)</span>,\n",
       " <span style=\"color: #008080; text-decoration-color: #008080; font-weight: bold\">7</span>: <span style=\"font-weight: bold\">(</span><span style=\"color: #008080; text-decoration-color: #008080; font-weight: bold\">13010</span>, <span style=\"color: #008080; text-decoration-color: #008080; font-weight: bold\">13010</span>, <span style=\"color: #008080; text-decoration-color: #008080; font-weight: bold\">13010</span>, <span style=\"color: #008080; text-decoration-color: #008080; font-weight: bold\">13698</span><span style=\"font-weight: bold\">)</span>,\n",
       " <span style=\"color: #008080; text-decoration-color: #008080; font-weight: bold\">8</span>: <span style=\"font-weight: bold\">(</span><span style=\"color: #008080; text-decoration-color: #008080; font-weight: bold\">13160</span>, <span style=\"color: #008080; text-decoration-color: #008080; font-weight: bold\">13160</span>, <span style=\"color: #008080; text-decoration-color: #008080; font-weight: bold\">13160</span>, <span style=\"color: #008080; text-decoration-color: #008080; font-weight: bold\">13194</span><span style=\"font-weight: bold\">)</span>,\n",
       " <span style=\"color: #008080; text-decoration-color: #008080; font-weight: bold\">9</span>: <span style=\"font-weight: bold\">(</span><span style=\"color: #008080; text-decoration-color: #008080; font-weight: bold\">10139</span>, <span style=\"color: #008080; text-decoration-color: #008080; font-weight: bold\">10139</span>, <span style=\"color: #008080; text-decoration-color: #008080; font-weight: bold\">10139</span>, <span style=\"color: #008080; text-decoration-color: #008080; font-weight: bold\">12126</span><span style=\"font-weight: bold\">)</span>,\n",
       " <span style=\"color: #008080; text-decoration-color: #008080; font-weight: bold\">10</span>: <span style=\"font-weight: bold\">(</span><span style=\"color: #008080; text-decoration-color: #008080; font-weight: bold\">980</span>, <span style=\"color: #008080; text-decoration-color: #008080; font-weight: bold\">980</span>, <span style=\"color: #008080; text-decoration-color: #008080; font-weight: bold\">980</span>, <span style=\"color: #008080; text-decoration-color: #008080; font-weight: bold\">3329</span><span style=\"font-weight: bold\">)</span>,\n",
       " <span style=\"color: #008080; text-decoration-color: #008080; font-weight: bold\">11</span>: <span style=\"font-weight: bold\">(</span><span style=\"color: #008080; text-decoration-color: #008080; font-weight: bold\">10274</span>, <span style=\"color: #008080; text-decoration-color: #008080; font-weight: bold\">10274</span>, <span style=\"color: #008080; text-decoration-color: #008080; font-weight: bold\">10274</span>, <span style=\"color: #008080; text-decoration-color: #008080; font-weight: bold\">11084</span><span style=\"font-weight: bold\">)</span>,\n",
       " <span style=\"color: #008080; text-decoration-color: #008080; font-weight: bold\">12</span>: <span style=\"font-weight: bold\">(</span><span style=\"color: #008080; text-decoration-color: #008080; font-weight: bold\">10623</span>, <span style=\"color: #008080; text-decoration-color: #008080; font-weight: bold\">10623</span>, <span style=\"color: #008080; text-decoration-color: #008080; font-weight: bold\">10623</span>, <span style=\"color: #008080; text-decoration-color: #008080; font-weight: bold\">10638</span><span style=\"font-weight: bold\">)</span>,\n",
       " <span style=\"color: #008080; text-decoration-color: #008080; font-weight: bold\">13</span>: <span style=\"font-weight: bold\">(</span><span style=\"color: #008080; text-decoration-color: #008080; font-weight: bold\">11</span>, <span style=\"color: #008080; text-decoration-color: #008080; font-weight: bold\">11</span>, <span style=\"color: #008080; text-decoration-color: #008080; font-weight: bold\">11</span>, <span style=\"color: #008080; text-decoration-color: #008080; font-weight: bold\">920</span><span style=\"font-weight: bold\">)</span>,\n",
       " <span style=\"color: #008080; text-decoration-color: #008080; font-weight: bold\">14</span>: <span style=\"font-weight: bold\">(</span><span style=\"color: #008080; text-decoration-color: #008080; font-weight: bold\">3</span>, <span style=\"color: #008080; text-decoration-color: #008080; font-weight: bold\">3</span>, <span style=\"color: #008080; text-decoration-color: #008080; font-weight: bold\">3</span>, <span style=\"color: #008080; text-decoration-color: #008080; font-weight: bold\">466</span><span style=\"font-weight: bold\">)</span>,\n",
       " <span style=\"color: #008080; text-decoration-color: #008080; font-weight: bold\">15</span>: <span style=\"font-weight: bold\">(</span><span style=\"color: #008080; text-decoration-color: #008080; font-weight: bold\">354</span>, <span style=\"color: #008080; text-decoration-color: #008080; font-weight: bold\">354</span>, <span style=\"color: #008080; text-decoration-color: #008080; font-weight: bold\">354</span>, <span style=\"color: #008080; text-decoration-color: #008080; font-weight: bold\">1726</span><span style=\"font-weight: bold\">)</span>,\n",
       " <span style=\"color: #008080; text-decoration-color: #008080; font-weight: bold\">16</span>: <span style=\"font-weight: bold\">(</span><span style=\"color: #008080; text-decoration-color: #008080; font-weight: bold\">161</span>, <span style=\"color: #008080; text-decoration-color: #008080; font-weight: bold\">161</span>, <span style=\"color: #008080; text-decoration-color: #008080; font-weight: bold\">161</span>, <span style=\"color: #008080; text-decoration-color: #008080; font-weight: bold\">1938</span><span style=\"font-weight: bold\">)</span>,\n",
       " <span style=\"color: #008080; text-decoration-color: #008080; font-weight: bold\">17</span>: <span style=\"font-weight: bold\">(</span><span style=\"color: #008080; text-decoration-color: #008080; font-weight: bold\">230</span>, <span style=\"color: #008080; text-decoration-color: #008080; font-weight: bold\">230</span>, <span style=\"color: #008080; text-decoration-color: #008080; font-weight: bold\">230</span>, <span style=\"color: #008080; text-decoration-color: #008080; font-weight: bold\">443</span><span style=\"font-weight: bold\">)</span>,\n",
       " <span style=\"color: #008080; text-decoration-color: #008080; font-weight: bold\">18</span>: <span style=\"font-weight: bold\">(</span><span style=\"color: #008080; text-decoration-color: #008080; font-weight: bold\">293</span>, <span style=\"color: #008080; text-decoration-color: #008080; font-weight: bold\">293</span>, <span style=\"color: #008080; text-decoration-color: #008080; font-weight: bold\">293</span>, <span style=\"color: #008080; text-decoration-color: #008080; font-weight: bold\">430</span><span style=\"font-weight: bold\">)</span>,\n",
       " <span style=\"color: #008080; text-decoration-color: #008080; font-weight: bold\">19</span>: <span style=\"font-weight: bold\">(</span><span style=\"color: #008080; text-decoration-color: #008080; font-weight: bold\">492</span>, <span style=\"color: #008080; text-decoration-color: #008080; font-weight: bold\">492</span>, <span style=\"color: #008080; text-decoration-color: #008080; font-weight: bold\">492</span>, <span style=\"color: #008080; text-decoration-color: #008080; font-weight: bold\">697</span><span style=\"font-weight: bold\">)</span>,\n",
       " <span style=\"color: #008080; text-decoration-color: #008080; font-weight: bold\">20</span>: <span style=\"font-weight: bold\">(</span><span style=\"color: #008080; text-decoration-color: #008080; font-weight: bold\">748</span>, <span style=\"color: #008080; text-decoration-color: #008080; font-weight: bold\">748</span>, <span style=\"color: #008080; text-decoration-color: #008080; font-weight: bold\">748</span>, <span style=\"color: #008080; text-decoration-color: #008080; font-weight: bold\">2735</span><span style=\"font-weight: bold\">)</span>,\n",
       " <span style=\"color: #008080; text-decoration-color: #008080; font-weight: bold\">21</span>: <span style=\"font-weight: bold\">(</span><span style=\"color: #008080; text-decoration-color: #008080; font-weight: bold\">79</span>, <span style=\"color: #008080; text-decoration-color: #008080; font-weight: bold\">79</span>, <span style=\"color: #008080; text-decoration-color: #008080; font-weight: bold\">79</span>, <span style=\"color: #008080; text-decoration-color: #008080; font-weight: bold\">415</span><span style=\"font-weight: bold\">)}</span>\n",
       "</pre>\n"
      ],
      "text/plain": [
       "\u001b[1m{\u001b[0m\u001b[1;36m0\u001b[0m: \u001b[1m(\u001b[0m\u001b[1;36m11963\u001b[0m, \u001b[1;36m11963\u001b[0m, \u001b[1;36m11963\u001b[0m, \u001b[1;36m12144\u001b[0m\u001b[1m)\u001b[0m,\n",
       " \u001b[1;36m1\u001b[0m: \u001b[1m(\u001b[0m\u001b[1;36m11459\u001b[0m, \u001b[1;36m11459\u001b[0m, \u001b[1;36m11459\u001b[0m, \u001b[1;36m14984\u001b[0m\u001b[1m)\u001b[0m,\n",
       " \u001b[1;36m2\u001b[0m: \u001b[1m(\u001b[0m\u001b[1;36m170\u001b[0m, \u001b[1;36m170\u001b[0m, \u001b[1;36m170\u001b[0m, \u001b[1;36m815\u001b[0m\u001b[1m)\u001b[0m,\n",
       " \u001b[1;36m3\u001b[0m: \u001b[1m(\u001b[0m\u001b[1;36m3286\u001b[0m, \u001b[1;36m3286\u001b[0m, \u001b[1;36m3286\u001b[0m, \u001b[1;36m3328\u001b[0m\u001b[1m)\u001b[0m,\n",
       " \u001b[1;36m4\u001b[0m: \u001b[1m(\u001b[0m\u001b[1;36m14552\u001b[0m, \u001b[1;36m14552\u001b[0m, \u001b[1;36m14552\u001b[0m, \u001b[1;36m14796\u001b[0m\u001b[1m)\u001b[0m,\n",
       " \u001b[1;36m5\u001b[0m: \u001b[1m(\u001b[0m\u001b[1;36m14608\u001b[0m, \u001b[1;36m14608\u001b[0m, \u001b[1;36m14608\u001b[0m, \u001b[1;36m14626\u001b[0m\u001b[1m)\u001b[0m,\n",
       " \u001b[1;36m6\u001b[0m: \u001b[1m(\u001b[0m\u001b[1;36m14098\u001b[0m, \u001b[1;36m14098\u001b[0m, \u001b[1;36m14098\u001b[0m, \u001b[1;36m14339\u001b[0m\u001b[1m)\u001b[0m,\n",
       " \u001b[1;36m7\u001b[0m: \u001b[1m(\u001b[0m\u001b[1;36m13010\u001b[0m, \u001b[1;36m13010\u001b[0m, \u001b[1;36m13010\u001b[0m, \u001b[1;36m13698\u001b[0m\u001b[1m)\u001b[0m,\n",
       " \u001b[1;36m8\u001b[0m: \u001b[1m(\u001b[0m\u001b[1;36m13160\u001b[0m, \u001b[1;36m13160\u001b[0m, \u001b[1;36m13160\u001b[0m, \u001b[1;36m13194\u001b[0m\u001b[1m)\u001b[0m,\n",
       " \u001b[1;36m9\u001b[0m: \u001b[1m(\u001b[0m\u001b[1;36m10139\u001b[0m, \u001b[1;36m10139\u001b[0m, \u001b[1;36m10139\u001b[0m, \u001b[1;36m12126\u001b[0m\u001b[1m)\u001b[0m,\n",
       " \u001b[1;36m10\u001b[0m: \u001b[1m(\u001b[0m\u001b[1;36m980\u001b[0m, \u001b[1;36m980\u001b[0m, \u001b[1;36m980\u001b[0m, \u001b[1;36m3329\u001b[0m\u001b[1m)\u001b[0m,\n",
       " \u001b[1;36m11\u001b[0m: \u001b[1m(\u001b[0m\u001b[1;36m10274\u001b[0m, \u001b[1;36m10274\u001b[0m, \u001b[1;36m10274\u001b[0m, \u001b[1;36m11084\u001b[0m\u001b[1m)\u001b[0m,\n",
       " \u001b[1;36m12\u001b[0m: \u001b[1m(\u001b[0m\u001b[1;36m10623\u001b[0m, \u001b[1;36m10623\u001b[0m, \u001b[1;36m10623\u001b[0m, \u001b[1;36m10638\u001b[0m\u001b[1m)\u001b[0m,\n",
       " \u001b[1;36m13\u001b[0m: \u001b[1m(\u001b[0m\u001b[1;36m11\u001b[0m, \u001b[1;36m11\u001b[0m, \u001b[1;36m11\u001b[0m, \u001b[1;36m920\u001b[0m\u001b[1m)\u001b[0m,\n",
       " \u001b[1;36m14\u001b[0m: \u001b[1m(\u001b[0m\u001b[1;36m3\u001b[0m, \u001b[1;36m3\u001b[0m, \u001b[1;36m3\u001b[0m, \u001b[1;36m466\u001b[0m\u001b[1m)\u001b[0m,\n",
       " \u001b[1;36m15\u001b[0m: \u001b[1m(\u001b[0m\u001b[1;36m354\u001b[0m, \u001b[1;36m354\u001b[0m, \u001b[1;36m354\u001b[0m, \u001b[1;36m1726\u001b[0m\u001b[1m)\u001b[0m,\n",
       " \u001b[1;36m16\u001b[0m: \u001b[1m(\u001b[0m\u001b[1;36m161\u001b[0m, \u001b[1;36m161\u001b[0m, \u001b[1;36m161\u001b[0m, \u001b[1;36m1938\u001b[0m\u001b[1m)\u001b[0m,\n",
       " \u001b[1;36m17\u001b[0m: \u001b[1m(\u001b[0m\u001b[1;36m230\u001b[0m, \u001b[1;36m230\u001b[0m, \u001b[1;36m230\u001b[0m, \u001b[1;36m443\u001b[0m\u001b[1m)\u001b[0m,\n",
       " \u001b[1;36m18\u001b[0m: \u001b[1m(\u001b[0m\u001b[1;36m293\u001b[0m, \u001b[1;36m293\u001b[0m, \u001b[1;36m293\u001b[0m, \u001b[1;36m430\u001b[0m\u001b[1m)\u001b[0m,\n",
       " \u001b[1;36m19\u001b[0m: \u001b[1m(\u001b[0m\u001b[1;36m492\u001b[0m, \u001b[1;36m492\u001b[0m, \u001b[1;36m492\u001b[0m, \u001b[1;36m697\u001b[0m\u001b[1m)\u001b[0m,\n",
       " \u001b[1;36m20\u001b[0m: \u001b[1m(\u001b[0m\u001b[1;36m748\u001b[0m, \u001b[1;36m748\u001b[0m, \u001b[1;36m748\u001b[0m, \u001b[1;36m2735\u001b[0m\u001b[1m)\u001b[0m,\n",
       " \u001b[1;36m21\u001b[0m: \u001b[1m(\u001b[0m\u001b[1;36m79\u001b[0m, \u001b[1;36m79\u001b[0m, \u001b[1;36m79\u001b[0m, \u001b[1;36m415\u001b[0m\u001b[1m)\u001b[0m\u001b[1m}\u001b[0m\n"
      ]
     },
     "metadata": {},
     "output_type": "display_data"
    },
    {
     "name": "stdout",
     "output_type": "stream",
     "text": [
      "f\"Got gaze embedding for {sid}.\" : Got gaze embedding for 0.\n",
      "f\"Got gaze embedding for {sid}.\" : Got gaze embedding for 1.\n",
      "f\"Not sufficient frames to match {sid}:{len(frames)}\" : Not sufficient frames to match 2:5\n",
      "f\"Got gaze embedding for {sid}.\" : Got gaze embedding for 3.\n",
      "f\"Got gaze embedding for {sid}.\" : Got gaze embedding for 4.\n",
      "f\"Got gaze embedding for {sid}.\" : Got gaze embedding for 5.\n",
      "f\"Got gaze embedding for {sid}.\" : Got gaze embedding for 6.\n",
      "f\"Got gaze embedding for {sid}.\" : Got gaze embedding for 7.\n",
      "f\"Got gaze embedding for {sid}.\" : Got gaze embedding for 8.\n",
      "f\"Got gaze embedding for {sid}.\" : Got gaze embedding for 9.\n",
      "f\"Got gaze embedding for {sid}.\" : Got gaze embedding for 10.\n",
      "f\"Got gaze embedding for {sid}.\" : Got gaze embedding for 11.\n",
      "f\"Not sufficient frames to match {sid}:{len(frames)}\" : Not sufficient frames to match 12:79\n",
      "f\"Not sufficient frames to match {sid}:{len(frames)}\" : Not sufficient frames to match 13:2\n",
      "f\"Not sufficient frames to match {sid}:{len(frames)}\" : Not sufficient frames to match 14:0\n",
      "f\"Not sufficient frames to match {sid}:{len(frames)}\" : Not sufficient frames to match 15:0\n",
      "f\"Not sufficient frames to match {sid}:{len(frames)}\" : Not sufficient frames to match 16:0\n",
      "f\"Not sufficient frames to match {sid}:{len(frames)}\" : Not sufficient frames to match 17:0\n",
      "f\"Not sufficient frames to match {sid}:{len(frames)}\" : Not sufficient frames to match 18:36\n",
      "f\"Not sufficient frames to match {sid}:{len(frames)}\" : Not sufficient frames to match 19:7\n",
      "f\"Not sufficient frames to match {sid}:{len(frames)}\" : Not sufficient frames to match 20:14\n",
      "f\"Not sufficient frames to match {sid}:{len(frames)}\" : Not sufficient frames to match 21:0\n",
      "f\"Got cluster embedding for {sid}\" : Got cluster embedding for 0\n",
      "f\"Got cluster embedding for {sid}\" : Got cluster embedding for 1\n",
      "f\"All frames are outliers, not proceeding with id {sid}\" : All frames are outliers, not proceeding with id 2\n",
      "f\"Got cluster embedding for {sid}\" : Got cluster embedding for 3\n",
      "f\"Got cluster embedding for {sid}\" : Got cluster embedding for 4\n",
      "f\"Got cluster embedding for {sid}\" : Got cluster embedding for 5\n",
      "f\"Got cluster embedding for {sid}\" : Got cluster embedding for 6\n",
      "f\"Got cluster embedding for {sid}\" : Got cluster embedding for 7\n",
      "f\"Got cluster embedding for {sid}\" : Got cluster embedding for 8\n",
      "f\"Got cluster embedding for {sid}\" : Got cluster embedding for 9\n",
      "f\"Got cluster embedding for {sid}\" : Got cluster embedding for 10\n",
      "f\"Got cluster embedding for {sid}\" : Got cluster embedding for 11\n",
      "f\"Got cluster embedding for {sid}\" : Got cluster embedding for 12\n",
      "f\"All frames are outliers, not proceeding with id {sid}\" : All frames are outliers, not proceeding with id 13\n",
      "f\"All frames are outliers, not proceeding with id {sid}\" : All frames are outliers, not proceeding with id 14\n",
      "f\"Got cluster embedding for {sid}\" : Got cluster embedding for 15\n",
      "f\"All frames are outliers, not proceeding with id {sid}\" : All frames are outliers, not proceeding with id 16\n",
      "f\"All frames are outliers, not proceeding with id {sid}\" : All frames are outliers, not proceeding with id 17\n",
      "f\"All frames are outliers, not proceeding with id {sid}\" : All frames are outliers, not proceeding with id 18\n",
      "f\"Got cluster embedding for {sid}\" : Got cluster embedding for 19\n",
      "f\"All frames are outliers, not proceeding with id {sid}\" : All frames are outliers, not proceeding with id 20\n",
      "f\"All frames are outliers, not proceeding with id {sid}\" : All frames are outliers, not proceeding with id 21\n",
      "sid, face_width_med, face_width_iqd, face_height_med, face_height_iqd, face_x_med, face_x_iqd, face_y_med, face_y_iqd : 21 166.75394 16.488754272460938 254.43149 22.102951049804688 428.34103 30.7513427734375 428.34103 14.167449951171875\n"
     ]
    },
    {
     "data": {
      "text/markdown": [
       "### Got cross session input info for session: 3-17214B, session:9-classinsight-cmu_17214B_ph_a21_201904241030-front"
      ],
      "text/plain": [
       "<IPython.core.display.Markdown object>"
      ]
     },
     "metadata": {},
     "output_type": "display_data"
    },
    {
     "name": "stdout",
     "output_type": "stream",
     "text": [
      "Session classinsight-cmu_17214B_ph_a21_201905011030-front not in session filter list, skipping...\n",
      "Session classinsight-cmu_05681A_ghc_4301_201901301630-front not in session filter list, skipping...\n",
      "Session classinsight-cmu_05681A_ghc_4301_201902061630-front not in session filter list, skipping...\n",
      "Session classinsight-cmu_05681A_ghc_4301_201902131633-front not in session filter list, skipping...\n",
      "Session classinsight-cmu_05681A_ghc_4301_201902201630-front not in session filter list, skipping...\n",
      "Session classinsight-cmu_05681A_ghc_4301_201902271630-front not in session filter list, skipping...\n",
      "Session classinsight-cmu_05681A_ghc_4301_201902271718-front not in session filter list, skipping...\n",
      "Session classinsight-cmu_05681A_ghc_4301_201903131630-front not in session filter list, skipping...\n",
      "Session classinsight-cmu_05681A_ghc_4301_201903201630-front not in session filter list, skipping...\n",
      "Session classinsight-cmu_05681A_ghc_4301_201903271630-front not in session filter list, skipping...\n",
      "Session classinsight-cmu_05681A_ghc_4301_201904031630-front not in session filter list, skipping...\n",
      "Session classinsight-cmu_05681A_ghc_4301_201904101630-front not in session filter list, skipping...\n",
      "Session classinsight-cmu_05681A_ghc_4301_201904171630-front not in session filter list, skipping...\n",
      "Session classinsight-cmu_05681A_ghc_4301_201901231630-front not in session filter list, skipping...\n",
      "Session classinsight-cmu_05681A_ghc_4301_201904241630-front not in session filter list, skipping...\n",
      "Session classinsight-cmu_05681A_ghc_4301_201905011630-front not in session filter list, skipping...\n",
      "Session classinsight-cmu_24352A_ghc_4211_201902121330-front not in session filter list, skipping...\n",
      "Session classinsight-cmu_24352A_ghc_4211_201902191330-front not in session filter list, skipping...\n",
      "Session classinsight-cmu_24352C_ghc_4211_201901291530-front not in session filter list, skipping...\n",
      "Session classinsight-cmu_24352C_ghc_4211_201902051530-front not in session filter list, skipping...\n",
      "Session classinsight-cmu_24352C_ghc_4211_201902121530-front not in session filter list, skipping...\n",
      "Session classinsight-cmu_24352C_ghc_4211_201902191530-front not in session filter list, skipping...\n",
      "Session classinsight-cmu_24352C_ghc_4211_201902261530-front not in session filter list, skipping...\n",
      "Session classinsight-cmu_86375A_ghc_4101_201910071325-front not in session filter list, skipping...\n",
      "Session classinsight-cmu_86375A_ghc_4101_201910141328-front not in session filter list, skipping...\n"
     ]
    }
   ],
   "source": [
    "# writing a generic loop to get embedding info from all courses in frame file data\n",
    "MAX_GAZE_DEVIATION_DEG = 30\n",
    "MIN_EMBEDDING_FRAMES = 100\n",
    "CLU_EPS = 0.4\n",
    "CLU_MIN_PTS = 100\n",
    "np.random.seed(42)\n",
    "\n",
    "for course_idx, course in enumerate(frame_file_data):\n",
    "    for session_idx, session_id in enumerate(frame_file_data[course]):\n",
    "        if session_id.split(\"-front\")[0] not in session_filter_list:\n",
    "            print(f\"Session {session_id} not in session filter list, skipping...\")\n",
    "            continue\n",
    "        cross_session_input_cache_file = f\"{cross_session_input_data_dir}/{session_id}.pb\"\n",
    "        try:\n",
    "            if not os.path.exists(cross_session_input_cache_file):\n",
    "                printm(f\"## Building cross session input info for session: {course_idx}-{course}, session:{session_idx}-{session_id}\")\n",
    "                session_emb_info = pickle.load(open(f'{emb_analysis_session_data}/{session_id}.pb','rb'))\n",
    "                session_id_map = pickle.load(open(f\"{postprocessed_id_map_data_dir}/{session_id}.pb\",\"rb\"))\n",
    "                df_session_eligible_pairs = pd.read_csv(f\"{embmatched_id_map_data_dir}/{session_id}.csv\")\n",
    "                \n",
    "                # Correct new ids with dict from eligible pairs\n",
    "                eligible_id_map_dict = {}\n",
    "                for id_pair in df_session_eligible_pairs.id_pair.values:\n",
    "                    (id1, id2) = eval(id_pair)\n",
    "                    print(id1, id2)\n",
    "                    if id2 in eligible_id_map_dict:\n",
    "                        eligible_id_map_dict[id1] = eligible_id_map_dict[id2]\n",
    "                    else:\n",
    "                        eligible_id_map_dict[id2] = id1\n",
    "                \n",
    "                sprint(eligible_id_map_dict)\n",
    "\n",
    "                # correct created eligible map for once more\n",
    "                for key in sorted(list(eligible_id_map_dict.keys())):\n",
    "                    key_value = eligible_id_map_dict[key]\n",
    "                    if key_value in eligible_id_map_dict.keys():\n",
    "                        eligible_id_map_dict[key] = eligible_id_map_dict[key_value]\n",
    "                sprint(\"Corrected\", eligible_id_map_dict) \n",
    "\n",
    "                sprint(\"replacing ids in old to new id maps\")\n",
    "                for old_id in session_id_map:\n",
    "                    if session_id_map[old_id] in eligible_id_map_dict:\n",
    "                        print(f\"replacing {old_id}:{session_id_map[old_id]} -->{eligible_id_map_dict[session_id_map[old_id]]}\")\n",
    "                        session_id_map[old_id] = eligible_id_map_dict[session_id_map[old_id]]\n",
    "                # sprint({kr:old_to_new_id_map[kr] for kr in old_to_new_id_map if (not old_to_new_id_map[kr]==10000)}) \n",
    "\n",
    "                # Replace raw ids with mapped ids after postprocessing for both sessions\n",
    "                session_emb_info = {\n",
    "                    xr:{\n",
    "                        session_id_map[yr]:session_emb_info[xr][yr] \n",
    "                            for yr in session_emb_info[xr] if not (session_id_map[yr]==10000)} for xr in session_emb_info}\n",
    "\n",
    "                # arrange info as per tracking id across both sessions\n",
    "                gaze_info = {}\n",
    "                emb_info = {}\n",
    "                bbox_info = {}\n",
    "                face_info = {}\n",
    "                for frame_number in session_emb_info:\n",
    "                    for trackId in session_emb_info[frame_number]:\n",
    "                        # trackId = trackId_old if (trackId_old not in eligible_id_map_dict.keys()) else eligible_id_map_dict[trackId_old]\n",
    "                        if trackId not in gaze_info:\n",
    "                            gaze_info[trackId] = []\n",
    "                            emb_info[trackId]=[]\n",
    "                            bbox_info[trackId] = []\n",
    "                            face_info[trackId] = []\n",
    "                        # get  gaze info\n",
    "                        try:\n",
    "                            id_bbox = session_emb_info[frame_number][trackId]['bbox']\n",
    "                            bbox_info[trackId].append([frame_number]+list(id_bbox))\n",
    "                \n",
    "                            id_face = session_emb_info[frame_number][trackId]['face'][0]\n",
    "                            face_info[trackId].append([frame_number]+list(id_face))\n",
    "                            \n",
    "                            pitch, roll, yaw= session_emb_info[frame_number][trackId]['rvec'][0]\n",
    "                            pitch, roll, yaw=np.rad2deg(pitch), np.rad2deg(roll), np.rad2deg(yaw)\n",
    "                            gaze_sx, gaze_sy, gaze_ex, gaze_ey = session_emb_info[frame_number][trackId]['gaze_2d'][0].flatten()\n",
    "                            gaze_info[trackId].append([frame_number, pitch, roll, yaw, gaze_sx, gaze_sy, gaze_ex, gaze_ey])\n",
    "                            face_emb = session_emb_info[frame_number][trackId]['face_embedding'].tolist()\n",
    "                            emb_info[trackId].append([frame_number]+face_emb)\n",
    "                        except:\n",
    "                            continue\n",
    "                \n",
    "                for id in gaze_info:\n",
    "                    gaze_info[id] = pd.DataFrame(gaze_info[id], columns=['frame','pitch','roll','yaw','gaze_sx', 'gaze_sy', 'gaze_ex', 'gaze_ey']).set_index('frame')\n",
    "                    emb_info[id] =pd.DataFrame(emb_info[id], columns=['frame']+np.arange(512).tolist()).set_index('frame')\n",
    "                    bbox_info[id] = pd.DataFrame(bbox_info[id], columns=['frame']+np.arange(5).tolist()).set_index('frame')\n",
    "                    face_info[id] = pd.DataFrame(face_info[id], columns=['frame']+np.arange(15).tolist()).set_index('frame')\n",
    "                \n",
    "                sprint({xr:(gaze_info[xr].shape[0],emb_info[xr].shape[0], face_info[xr].shape[0], bbox_info[xr].shape[0]) for xr in emb_info})\n",
    "\n",
    "                # get gaze based embeddings\n",
    "                gaze_based_embeddings = {}\n",
    "                for sid in emb_info.keys():\n",
    "                    #filter correct frames\n",
    "                    frames = gaze_info[sid][\n",
    "                        (gaze_info[sid].yaw.abs()<MAX_GAZE_DEVIATION_DEG) & \n",
    "                        (gaze_info[sid].pitch.abs()<MAX_GAZE_DEVIATION_DEG) & \n",
    "                        (gaze_info[sid].roll.abs()<MAX_GAZE_DEVIATION_DEG)].index.values\n",
    "                \n",
    "                    num_frames = len(frames)\n",
    "                    if (num_frames<MIN_EMBEDDING_FRAMES):\n",
    "                        sprint(f\"Not sufficient frames to match {sid}:{len(frames)}\")\n",
    "                        continue\n",
    "                    #get id embeddings    \n",
    "                    median_emb = np.median(emb_info[sid].loc[frames],axis=0)\n",
    "                    sprint(f\"Got gaze embedding for {sid}.\")\n",
    "                    gaze_based_embeddings[sid]=median_emb\n",
    "\n",
    "                # # get cluster based embeddings\n",
    "                # cluster_based_emb = {}\n",
    "                # for sid in emb_info:\n",
    "                #     emb_clu = DBSCAN(min_samples=CLU_MIN_PTS, eps=CLU_EPS)\n",
    "                #     try:\n",
    "                #         if emb_info[sid].shape[0]>25000:\n",
    "                #             emb_clu.fit(emb_info[sid].sample(25000).values)    \n",
    "                #         else:\n",
    "                #             emb_clu.fit(emb_info[sid].values)\n",
    "                #     except:\n",
    "                #         emb_clu=None\n",
    "                #     if (emb_clu is None) or (max(emb_clu.labels_)<0):\n",
    "                #         sprint(f\"All frames are outliers, not proceeding with id {sid}\")\n",
    "                #         continue\n",
    "                #     best_cluster_id = pd.Series(emb_clu.labels_[emb_clu.labels_>=0]).value_counts().index[0]\n",
    "                #     frames = emb_info[sid].iloc[emb_clu.labels_==best_cluster_id].index.values\n",
    "                #     cluster_based_emb[sid] = np.median(emb_info[sid].loc[frames],axis=0)\n",
    "                #     sprint(f\"Got cluster embedding for {sid}\")\n",
    "\n",
    "                # get complete information needed for a given id for cross-session id tracking\n",
    "                session_id_info = {}\n",
    "                for sid in sorted(face_info.keys()):\n",
    "                    sample_df =deepcopy(bbox_info[sid])\n",
    "                    \n",
    "                    sample_df['bbox_width'] = sample_df[2]-sample_df[0]\n",
    "                    sample_df['bbox_height'] = sample_df[3]-sample_df[1]\n",
    "                    sample_df['bbox_x'] = (sample_df[2]+sample_df[0]) / 2\n",
    "                    sample_df['bbox_y'] = (sample_df[3]+sample_df[1]) / 2\n",
    "\n",
    "                    bbox_width_med, bbox_height_med = sample_df['bbox_width'].median(), sample_df['bbox_height'].median()\n",
    "                    bbox_width_iqd = sample_df['bbox_width'].quantile(0.75) - sample_df['bbox_width'].quantile(0.25)\n",
    "                    bbox_height_iqd = sample_df['bbox_height'].quantile(0.75) - sample_df['bbox_height'].quantile(0.25)\n",
    "                    bbox_x_med, bbox_y_med = sample_df['bbox_x'].median(), sample_df['bbox_x'].median()\n",
    "                    bbox_x_iqd = sample_df['bbox_x'].quantile(0.75) - sample_df['bbox_x'].quantile(0.25)\n",
    "                    bbox_y_iqd = sample_df['bbox_y'].quantile(0.75) - sample_df['bbox_y'].quantile(0.25)\n",
    "\n",
    "\n",
    "                \n",
    "                    sample_df =deepcopy(face_info[sid])\n",
    "                    sample_df['face_width'] = sample_df[2]-sample_df[0]\n",
    "                    sample_df['face_height'] = sample_df[3]-sample_df[1]\n",
    "                    sample_df['face_height'] = sample_df[3]-sample_df[1]\n",
    "                    sample_df['face_x'] = (sample_df[2]+sample_df[0]) / 2\n",
    "                    sample_df['face_y'] = (sample_df[3]+sample_df[1]) / 2\n",
    "                    \n",
    "                    face_width_med, face_height_med = sample_df['face_width'].median(), sample_df['face_height'].median()\n",
    "                    face_width_iqd = sample_df['face_width'].quantile(0.75) - sample_df['face_width'].quantile(0.25)\n",
    "                    face_height_iqd = sample_df['face_height'].quantile(0.75) - sample_df['face_height'].quantile(0.25)\n",
    "                    \n",
    "                    face_x_med, face_y_med = sample_df['face_x'].median(), sample_df['face_x'].median()\n",
    "                    face_x_iqd = sample_df['face_x'].quantile(0.75) - sample_df['face_x'].quantile(0.25)\n",
    "                    face_y_iqd = sample_df['face_y'].quantile(0.75) - sample_df['face_y'].quantile(0.25)\n",
    "                \n",
    "                    session_id_info[sid] = dict(bbox_width_med=bbox_width_med, bbox_height_med=bbox_height_med,bbox_width_iqd=bbox_width_iqd, bbox_height_iqd=bbox_height_iqd,\n",
    "                                         bbox_x_med=bbox_x_med, bbox_y_med=bbox_y_med, bbox_x_iqd=bbox_x_iqd, bbox_y_iqd=bbox_y_iqd, \n",
    "                                         face_width_med=face_width_med, face_height_med=face_height_med, face_width_iqd=face_width_iqd, face_height_iqd=face_height_iqd,\n",
    "                                         face_x_med=face_x_med, face_y_med=face_y_med, face_x_iqd=face_x_iqd, face_y_iqd=face_y_iqd, \n",
    "                                         cluster_emb = cluster_based_emb.get(sid, None), \n",
    "                                         gaze_emb=gaze_based_embeddings.get(sid, None))\n",
    "                \n",
    "                sprint(sid, face_width_med, face_width_iqd, face_height_med, face_height_iqd, face_x_med, face_x_iqd, face_y_med, face_y_iqd)\n",
    "                pickle.dump(session_id_info, open(cross_session_input_cache_file,'wb'))\n",
    "                printm(f\"### Got cross session input info for session: {course_idx}-{course}, session:{session_idx}-{session_id}\")\n",
    "            else:\n",
    "                ...\n",
    "                printm(f\"## FILE EXISTS: cross session input info for session: {course_idx}-{course}, session:{session_idx}-{session_id}\")\n",
    "        except:\n",
    "            print(f\"ERROR: Unable to get cross session input info for: {course_idx}-{course}, session:{session_idx}-{session_id}\")\n",
    "            print(traceback.format_exc())\n",
    "    "
   ]
  },
  {
   "cell_type": "code",
   "execution_count": null,
   "id": "a831a29d-6dc0-43cf-9806-d9fd969d66df",
   "metadata": {},
   "outputs": [],
   "source": []
  }
 ],
 "metadata": {
  "kernelspec": {
   "display_name": "Python 3 (ipykernel)",
   "language": "python",
   "name": "python3"
  },
  "language_info": {
   "codemirror_mode": {
    "name": "ipython",
    "version": 3
   },
   "file_extension": ".py",
   "mimetype": "text/x-python",
   "name": "python",
   "nbconvert_exporter": "python",
   "pygments_lexer": "ipython3",
   "version": "3.9.16"
  }
 },
 "nbformat": 4,
 "nbformat_minor": 5
}

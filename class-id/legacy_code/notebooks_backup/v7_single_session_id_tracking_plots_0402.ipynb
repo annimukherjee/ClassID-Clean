{
 "cells": [
  {
   "cell_type": "code",
   "execution_count": 1,
   "id": "13f1bf94-25d4-4ed1-bddd-bc3309763692",
   "metadata": {},
   "outputs": [
    {
     "name": "stderr",
     "output_type": "stream",
     "text": [
      "/home/prasoon/anaconda3/envs/edusense/lib/python3.9/site-packages/scipy/__init__.py:146: UserWarning: A NumPy version >=1.16.5 and <1.23.0 is required for this version of SciPy (detected version 1.23.5\n",
      "  warnings.warn(f\"A NumPy version >={np_minversion} and <{np_maxversion}\"\n",
      "/home/prasoon/anaconda3/envs/edusense/lib/python3.9/site-packages/tqdm/auto.py:21: TqdmWarning: IProgress not found. Please update jupyter and ipywidgets. See https://ipywidgets.readthedocs.io/en/stable/user_install.html\n",
      "  from .autonotebook import tqdm as notebook_tqdm\n",
      "/home/prasoon/anaconda3/envs/edusense/lib/python3.9/site-packages/mmcv/__init__.py:20: UserWarning: On January 1, 2023, MMCV will release v2.0.0, in which it will remove components related to the training process and add a data transformation module. In addition, it will rename the package names mmcv to mmcv-lite and mmcv-full to mmcv. See https://github.com/open-mmlab/mmcv/blob/master/docs/en/compatibility.md for more details.\n",
      "  warnings.warn(\n"
     ]
    }
   ],
   "source": [
    "import numpy as np\n",
    "import pandas as pd\n",
    "import scipy.stats\n",
    "\n",
    "pd.options.mode.chained_assignment = None\n",
    "from matplotlib import pyplot as plt, rcParams\n",
    "# import cv2\n",
    "import seaborn as sns\n",
    "\n",
    "sns.set(style=\"white\", context=\"paper\")\n",
    "from cycler import cycler\n",
    "import os, sys\n",
    "import glob\n",
    "from datetime import datetime, timedelta\n",
    "from itertools import combinations\n",
    "import base64\n",
    "from PIL import Image\n",
    "from io import BytesIO as _BytesIO\n",
    "import requests\n",
    "import json\n",
    "import pickle\n",
    "from datetime import datetime\n",
    "from IPython.display import display, Markdown, Latex\n",
    "from sklearn.metrics import *\n",
    "import collections\n",
    "from copy import deepcopy\n",
    "import traceback\n",
    "from sympy import Point, Polygon\n",
    "import mmcv\n",
    "import cv2\n",
    "from mmtrack.apis import inference_mot, init_model as init_tracking_model\n",
    "from smartprint import smartprint as sprint\n",
    "\n",
    "pd.options.display.max_columns = None\n",
    "def printm(s): return display(Markdown(s))\n",
    "    \n",
    "SERVER_CACHE_DIR = '/mnt/ci-nas-cache/edulyzeV2/cache_compute_4/fixed_face'\n",
    "os.makedirs(SERVER_CACHE_DIR,exist_ok=True)\n",
    "\n",
    "track_analysis_meta_cache = f'{SERVER_CACHE_DIR}/analysis_tracking/meta_info'\n",
    "os.makedirs(track_analysis_meta_cache,exist_ok=True)\n",
    "base_dir = '/mnt/ci-nas-cache/edulyzeV2/pose_face_gaze_emb_fixed_face'\n",
    "\n",
    "track_analysis_session_data = f'{SERVER_CACHE_DIR}/analysis_tracking/session_tracking_info'\n",
    "os.makedirs(track_analysis_session_data,exist_ok=True)\n",
    "\n",
    "postprocessed_id_map_data_dir = f'{SERVER_CACHE_DIR}/analysis_tracking/processed_id_maps'\n",
    "os.makedirs(postprocessed_id_map_data_dir, exist_ok=True)\n",
    "\n",
    "id_viz_cache_root = f'{SERVER_CACHE_DIR}/analysis_tracking/session_matching_info'\n",
    "os.makedirs(id_viz_cache_root, exist_ok=True)\n"
   ]
  },
  {
   "cell_type": "markdown",
   "id": "4b0bbcd1-d9c5-401f-a2dc-d9ed115f0daf",
   "metadata": {},
   "source": [
    "## Postprocess mmtrack results and create a new tracking map from older tracking ids"
   ]
  },
  {
   "cell_type": "code",
   "execution_count": 2,
   "id": "bde910ad-f79e-4ee5-84d7-a8dc1763d2d1",
   "metadata": {
    "scrolled": true
   },
   "outputs": [],
   "source": [
    "session_id = 'classinsight-cmu_05748A_ghc_4101_201904021630-front'\n",
    "course = '05748A'\n",
    "\n",
    "session_tracking_cache_file = f\"{track_analysis_session_data}/{session_id}.pb\"\n",
    "session_frame_dir = f'/mnt/ci-nas-cache/edulyzeV2/pose_face_gaze_emb_fixed_face/{course}/{session_id}'\n",
    "df_tracking = pickle.load(open(session_tracking_cache_file,\"rb\")).transpose()"
   ]
  },
  {
   "cell_type": "code",
   "execution_count": 3,
   "id": "663658e4-0d72-402f-8af1-2dc8f4a739ab",
   "metadata": {},
   "outputs": [
    {
     "data": {
      "text/plain": [
       "(24006, 956)"
      ]
     },
     "execution_count": 3,
     "metadata": {},
     "output_type": "execute_result"
    }
   ],
   "source": [
    "df_tracking.shape"
   ]
  },
  {
   "cell_type": "code",
   "execution_count": 99,
   "id": "d479503a-6492-4766-a86c-2abcaeb05915",
   "metadata": {},
   "outputs": [
    {
     "data": {
      "text/markdown": [
       "## Raw tracking shape:(24006, 956)"
      ],
      "text/plain": [
       "<IPython.core.display.Markdown object>"
      ]
     },
     "metadata": {},
     "output_type": "display_data"
    },
    {
     "data": {
      "text/markdown": [
       "## Filter non-persistentids"
      ],
      "text/plain": [
       "<IPython.core.display.Markdown object>"
      ]
     },
     "metadata": {},
     "output_type": "display_data"
    }
   ],
   "source": [
    "printm(f'## Raw tracking shape:{df_tracking.shape}')\n",
    "printm(f'## Filter non-persistentids')\n",
    "MIN_ID_FRAMES = 900 # number of frames an id needs to be a persistent id\n",
    "col_start_stop_idxs = []\n",
    "for col in df_tracking.columns:\n",
    "    one_idxs = df_tracking.index[np.where(df_tracking[col]==1)[0]].values\n",
    "    col_start_stop_idxs.append([col, one_idxs.min(), one_idxs.max()])\n",
    "df_id_start_stop = pd.DataFrame(col_start_stop_idxs, columns=['id','min_idx','max_idx'])\n",
    "df_id_start_stop['total_idxs'] = df_id_start_stop['max_idx']-df_id_start_stop['min_idx']\n",
    "\n",
    "total_idxs = df_tracking.index.max()\n",
    "\n",
    "# _ = plt.figure(figsize=(20,15))\n",
    "# for row_idx, row in df_id_start_stop.iterrows():\n",
    "#     plt.axhline(y=row_idx, xmin=row['min_idx']/total_idxs,xmax=row['max_idx']/total_idxs)\n",
    "# plt.yticks(range(df_id_start_stop.shape[0]), range(df_id_start_stop.shape[0]))\n",
    "# plt.grid()"
   ]
  },
  {
   "cell_type": "code",
   "execution_count": 89,
   "id": "95faa38f-0a86-4c68-bfd4-d68252e67c43",
   "metadata": {},
   "outputs": [
    {
     "data": {
      "text/plain": [
       "(72015, array([0.  , 0.25, 0.5 , 0.75, 1.  ]))"
      ]
     },
     "execution_count": 89,
     "metadata": {},
     "output_type": "execute_result"
    }
   ],
   "source": [
    "total_idxs, np.arange(0,1.1,1/4)"
   ]
  },
  {
   "cell_type": "code",
   "execution_count": 90,
   "id": "00139a07-0a85-40a9-859c-0adc0d34d3dd",
   "metadata": {
    "scrolled": true
   },
   "outputs": [
    {
     "name": "stdout",
     "output_type": "stream",
     "text": [
      "[560 312 257 589 442 156 594 148 512 725]\n"
     ]
    },
    {
     "data": {
      "text/markdown": [
       "### Total ids before filtering: 956"
      ],
      "text/plain": [
       "<IPython.core.display.Markdown object>"
      ]
     },
     "metadata": {},
     "output_type": "display_data"
    }
   ],
   "source": [
    "nonpersistent_ids_removed = df_id_start_stop[df_id_start_stop.total_idxs<=MIN_ID_FRAMES].sort_values(by=['total_idxs'], ascending=False)['id'].values\n",
    "print(nonpersistent_ids_removed[:10])\n",
    "printm(f'### Total ids before filtering: {df_id_start_stop.shape[0]}')"
   ]
  },
  {
   "cell_type": "code",
   "execution_count": 91,
   "id": "bc8e9f72-d891-4821-b04e-de8db9f459c3",
   "metadata": {},
   "outputs": [],
   "source": [
    "# df_id_start_stop.sort_values(by=['total_idxs','max_idx'],ascending=False).head(40)"
   ]
  },
  {
   "cell_type": "code",
   "execution_count": 98,
   "id": "a398ec9b-eb62-446b-b3e0-77b96845c00c",
   "metadata": {},
   "outputs": [
    {
     "data": {
      "image/png": "[encoded data removed]",
      "text/plain": [
       "<Figure size 1000x600 with 1 Axes>"
      ]
     },
     "metadata": {},
     "output_type": "display_data"
    }
   ],
   "source": [
    "# selected_filtered_ids = [560, 312, 257, 589, 442, 156, 594, 148, 512, 725, 359, 162, 767, 313, 732]\n",
    "# selected_mapped_ids = [0,40, 328, 15, 155, 43, 105, 97, 142]\n",
    "\n",
    "selected_filtered_ids = [156, 148, 162]\n",
    "selected_mapped_ids = [0, 1, 4, 5, 40,44, 246, 43, 105, 97, 142]\n",
    "\n",
    "all_selected_ids = selected_filtered_ids + selected_mapped_ids\n",
    "total_idxs = df_tracking.index.max()\n",
    "df_id_start_stop = df_id_start_stop[(df_id_start_stop['id'].isin(all_selected_ids))].reset_index(drop=True)\n",
    "_ = plt.figure(figsize=(10,6))\n",
    "y_tick_labels= []\n",
    "for row_idx, row in df_id_start_stop.iterrows():\n",
    "    plt.axhline(y=row_idx, xmin=row['min_idx']/total_idxs,xmax=row['max_idx']/total_idxs, linewidth=3)\n",
    "    y_tick_labels.append(row['id'])\n",
    "plt.yticks(range(df_id_start_stop.shape[0]), y_tick_labels, fontsize=16)\n",
    "plt.xticks(np.arange(0,1.1,1/4), [f'{xr}:00' for xr in [0,20,40,60,80]], fontsize=24)\n",
    "plt.xlabel(\"Time (in minutes)\", fontsize=24)\n",
    "plt.ylabel(\"Initial ID Assignment\\n(Multi-Object Tracking)\", fontsize=24)\n",
    "plt.grid()\n",
    "plt.savefig('plots/local_reconcilition_temporal_0402.png', bbox_inches='tight', dpi=250)"
   ]
  },
  {
   "cell_type": "code",
   "execution_count": 48,
   "id": "ad997bb9-b90b-49eb-b0d3-84c055b5d678",
   "metadata": {},
   "outputs": [],
   "source": [
    "# selected_filtered_ids = deepcopy(nonpersistent_ids_removed)\n",
    "# selected_filtered_ids\n",
    "# array([560, 312, 257, 589, 442, 156, 594, 148, 512, 725, 359, 162, 767,\n",
    "#        313, 732])\n",
    "# selected_mapped_ids = [0,40, 328, 15, 155, 43, 105, 44, 246, 97, 142]"
   ]
  },
  {
   "cell_type": "code",
   "execution_count": null,
   "id": "b5af294e-01f7-4548-991b-3f625f38f5a1",
   "metadata": {},
   "outputs": [],
   "source": [
    "{0: 0, 1: 1, 4: 2, 5: 3, 7: 4, 8: 5, 9: 6, 14: 7, 15: 8, 24: 9, 38: 10, 43: 11, 44: 12, 48: 13, 68: 14, 88: 15, 97: 16, 99: 17, 108: 18, 129: 19, 145: 20, 153: 21, 165: 22, 198: 23, 205: 24, 255: 25, 293: 26, 323: 27, 418: 28, 438: 29, 469: 30, 529: 31, 542: 32, 709: 33, 851: 34, 897: 35, 926: 36}"
   ]
  },
  {
   "cell_type": "code",
   "execution_count": 100,
   "id": "2f836fae-26f6-49b4-80c6-f661d45822e0",
   "metadata": {
    "scrolled": true
   },
   "outputs": [
    {
     "data": {
      "text/markdown": [
       "### Total ids after filtering: 66"
      ],
      "text/plain": [
       "<IPython.core.display.Markdown object>"
      ]
     },
     "metadata": {},
     "output_type": "display_data"
    }
   ],
   "source": [
    "df_id_start_stop = df_id_start_stop[df_id_start_stop.total_idxs>MIN_ID_FRAMES].reset_index(drop=True)\n",
    "printm(f'### Total ids after filtering: {df_id_start_stop.shape[0]}')"
   ]
  },
  {
   "cell_type": "code",
   "execution_count": 101,
   "id": "e84f947c-436c-4b75-ac24-c50af8559598",
   "metadata": {
    "scrolled": true
   },
   "outputs": [
    {
     "data": {
      "text/markdown": [
       "## Map ids into one based on bbox overlap and id start/stop distance"
      ],
      "text/plain": [
       "<IPython.core.display.Markdown object>"
      ]
     },
     "metadata": {},
     "output_type": "display_data"
    },
    {
     "name": "stdout",
     "output_type": "stream",
     "text": [
      "0 -->Successful match to--> 40\n",
      "15 -->Successful match to--> 155\n",
      "40 -->Successful match to--> 328\n",
      "43 -->Successful match to--> 105\n",
      "44 -->Successful match to--> 246\n",
      "97 -->Successful match to--> 142\n",
      "142 -->Successful match to--> 265\n",
      "155 -->Successful match to--> 166\n",
      "165 -->Successful match to--> 191\n",
      "166 -->Successful match to--> 319\n",
      "198 -->Successful match to--> 243\n",
      "205 -->Successful match to--> 250\n",
      "265 -->Successful match to--> 290\n",
      "319 -->Successful match to--> 332\n",
      "328 -->Successful match to--> 339\n",
      "332 -->Successful match to--> 374\n",
      "339 -->Successful match to--> 430\n",
      "374 -->Successful match to--> 422\n",
      "418 -->Successful match to--> 478\n",
      "469 -->Successful match to--> 533\n",
      "529 -->Successful match to--> 707\n",
      "533 -->Successful match to--> 556\n",
      "556 -->Successful match to--> 567\n",
      "567 -->Successful match to--> 618\n",
      "618 -->Successful match to--> 694\n",
      "694 -->Successful match to--> 719\n",
      "707 -->Successful match to--> 751\n",
      "926 -->Successful match to--> 935\n",
      "935 -->Successful match to--> 941\n"
     ]
    },
    {
     "data": {
      "text/markdown": [
       "### Total ids after mapping: 37"
      ],
      "text/plain": [
       "<IPython.core.display.Markdown object>"
      ]
     },
     "metadata": {},
     "output_type": "display_data"
    },
    {
     "data": {
      "text/markdown": [
       "## Assign new ids to final set of postprocessed ids"
      ],
      "text/plain": [
       "<IPython.core.display.Markdown object>"
      ]
     },
     "metadata": {},
     "output_type": "display_data"
    },
    {
     "name": "stdout",
     "output_type": "stream",
     "text": [
      "{40: 0, 155: 15, 328: 0, 105: 43, 246: 44, 142: 97, 265: 97, 166: 15, 191: 165, 319: 15, 243: 198, 250: 205, 290: 97, 332: 15, 339: 0, 374: 15, 430: 0, 422: 15, 478: 418, 533: 469, 707: 529, 556: 469, 567: 469, 618: 469, 694: 469, 719: 469, 751: 529, 935: 926, 941: 926}\n"
     ]
    }
   ],
   "source": [
    "printm(f'## Map ids into one based on bbox overlap and id start/stop distance')\n",
    "MAX_ID_DISTANCE = 900\n",
    "MAX_BBOX_OVERLAP = 0.4\n",
    "bbox_dict = {}\n",
    "potential_id_maps = {}\n",
    "num_possible_maps = 0 \n",
    "for row_idx, row in df_id_start_stop.iterrows():\n",
    "    row_maxidx = row['max_idx']\n",
    "    \n",
    "    # get polygon for given id\n",
    "    id_max_frame = row_maxidx\n",
    "    id_frame_data = pickle.load(open(f\"{session_frame_dir}/{id_max_frame}.pb\",\"rb\"))[1]\n",
    "    id_frame_data = [xr for xr in id_frame_data if (xr['track_id']==row['id'])][0]\n",
    "    id_bb = id_frame_data['bbox'][:4].astype(int)\n",
    "    X_TL1, Y_TL1, X_BR1, Y_BR1 = id_bb\n",
    "    p1, p2, p3, p4  = map(Point, [[X_TL1,Y_TL1], [X_TL1,Y_BR1], [X_BR1,Y_BR1],[X_BR1, Y_TL1]]) \n",
    "    id_polygon = Polygon(p1, p2, p3, p4)\n",
    "    \n",
    "    potential_id_matches = df_id_start_stop[(df_id_start_stop.min_idx<=row_maxidx+MAX_ID_DISTANCE) & (df_id_start_stop.min_idx>row_maxidx-MAX_ID_DISTANCE)].id.values\n",
    "    successful_matches = []\n",
    "    if len(potential_id_matches)>0:\n",
    "        num_possible_maps+=1\n",
    "        # print('\\n',row['id'], potential_id_matches, row['min_idx'],row['max_idx'],row['total_idxs'])\n",
    "        for matched_id in potential_id_matches:\n",
    "            matched_id_min_frame = df_id_start_stop[df_id_start_stop.id==matched_id].min_idx.values[0]\n",
    "            matched_id_frame_data = pickle.load(open(f\"{session_frame_dir}/{matched_id_min_frame}.pb\",\"rb\"))[1]\n",
    "            matched_id_frame_data = [xr for xr in matched_id_frame_data if (xr['track_id']==matched_id)][0]\n",
    "            matched_id_bb = matched_id_frame_data['bbox'][:4].astype(int)\n",
    "            X_TL2, Y_TL2, X_BR2, Y_BR2 = matched_id_bb\n",
    "            \n",
    "            p1, p2, p3, p4  = map(Point, [[X_TL2,Y_TL2], [X_TL2,Y_BR2], [X_BR2,Y_BR2],[X_BR2, Y_TL2]]) \n",
    "            matched_id_polygon = Polygon(p1, p2, p3, p4)\n",
    "            \n",
    "            #find intersection of two polygons\n",
    "            # check if intersection exists\n",
    "            if id_polygon.encloses_point(matched_id_polygon.centroid) & matched_id_polygon.encloses_point(id_polygon.centroid):\n",
    "                X_TL_in, X_BR_in = sorted([X_TL1,X_TL2, X_BR1, X_BR2])[1:3]\n",
    "                Y_TL_in, Y_BR_in = sorted([Y_TL1,Y_TL2, Y_BR1, Y_BR2])[1:3]\n",
    "                p1, p2, p3, p4  = map(Point, [[X_TL_in,Y_TL_in], [X_TL_in,Y_BR_in], [X_BR_in,Y_BR_in],[X_BR_in, Y_TL_in]]) \n",
    "                intersection = Polygon(p1, p2, p3, p4)            \n",
    "\n",
    "                #find polygon overlap\n",
    "                area_intersection = np.abs(intersection.area)\n",
    "                area_union = np.abs(id_polygon.area) + np.abs(matched_id_polygon.area) - area_intersection\n",
    "                overlap_fraction  = (area_intersection/area_union).evalf()\n",
    "            else:\n",
    "                overlap_fraction=0.            \n",
    "            if overlap_fraction > MAX_BBOX_OVERLAP:\n",
    "                bbox_dict[(row['id'],matched_id)] = [id_bb, matched_id_bb]\n",
    "                successful_matches.append((matched_id, overlap_fraction))\n",
    "            \n",
    "            # print('\\tMatching Id: ', matched_id,':', 'frame:',matched_id_min_frame,'overlap_fraction:', overlap_fraction)\n",
    "    if len(successful_matches) > 0:\n",
    "        successful_matched_id = sorted(successful_matches, key=lambda x: x[1])[-1][0]\n",
    "        print(row['id'], '-->Successful match to-->',successful_matched_id)\n",
    "        if row['id'] in potential_id_maps.keys():\n",
    "            potential_id_maps[successful_matched_id] = potential_id_maps[row['id']]\n",
    "        else:\n",
    "            potential_id_maps[successful_matched_id] = row['id']\n",
    "\n",
    "matched_ids  = list(potential_id_maps.keys())\n",
    "df_id_start_stop =  df_id_start_stop[~df_id_start_stop['id'].isin(matched_ids)].sort_values(by='id').reset_index(drop=True)\n",
    "printm(f'### Total ids after mapping: {df_id_start_stop.shape[0]}')\n",
    "\n",
    "printm(f'## Assign new ids to final set of postprocessed ids')\n",
    "new_to_old_id_map = df_id_start_stop['id'].to_dict()\n",
    "old_to_new_id_map = {v: k for k, v in new_to_old_id_map.items()}\n",
    "\n",
    "for matched_id in matched_ids:\n",
    "    old_to_new_id_map[matched_id] = old_to_new_id_map[potential_id_maps[matched_id]]\n",
    "    \n",
    "print(potential_id_maps)\n",
    "for removed_id in nonpersistent_ids_removed:\n",
    "    old_to_new_id_map[removed_id] = 10000\n",
    "        "
   ]
  },
  {
   "cell_type": "code",
   "execution_count": 103,
   "id": "201cf1ea-061d-48cc-832e-1164933cc2e3",
   "metadata": {},
   "outputs": [],
   "source": [
    "\n",
    "# [0, 40, 15, 155, 43, 105, 44, 246, 97, 142]\n",
    "manual_bboxes = {\n",
    "    (0,40): ([1120,  424, 1444,  988],[1189,  258, 1549, 1023]),\n",
    "    (43,105): ([ 964,  545, 1258, 1004],[ 941,  495, 1275,  935]),\n",
    "    (97,142): ([1831,  310, 2089,  678],[1818,  294, 2064,  783]),\n",
    "    (44,246): ([2480,  421, 2807,  953], [2374,  432, 2811, 1099])\n",
    "}\n"
   ]
  },
  {
   "cell_type": "code",
   "execution_count": 102,
   "id": "485645ea-443b-4cc1-80d8-af83a7173402",
   "metadata": {},
   "outputs": [
    {
     "data": {
      "text/plain": [
       "[array([2480,  421, 2807,  953]), array([2374,  432, 2811, 1099])]"
      ]
     },
     "execution_count": 102,
     "metadata": {},
     "output_type": "execute_result"
    }
   ],
   "source": [
    "# [50, 1310, 120, 627, 805]\n",
    "# [10,38, 163,185, 460, 50, 1310, 120, 627, 627, 805]\n",
    "bbox_dict[(44,246)]"
   ]
  },
  {
   "cell_type": "code",
   "execution_count": 104,
   "id": "fcf8445f-4200-4444-8240-b9d46820c111",
   "metadata": {},
   "outputs": [
    {
     "name": "stderr",
     "output_type": "stream",
     "text": [
      "[h264 @ 0x8b32780] error while decoding MB 174 21, bytestream -5\n",
      "[h264 @ 0x9654c80] error while decoding MB 174 21, bytestream -5\n",
      "[h264 @ 0x8365300] error while decoding MB 212 31, bytestream -9\n"
     ]
    },
    {
     "data": {
      "text/plain": [
       "(2160, 3840, 3)"
      ]
     },
     "execution_count": 104,
     "metadata": {},
     "output_type": "execute_result"
    }
   ],
   "source": [
    "# plot manual bboxes on image\n",
    "# video_from_session = 'classinsight-cmu_05748A_ghc_4101_201901311630-front'\n",
    "video_from_session = 'classinsight-cmu_05748A_ghc_4101_201904021630-front'\n",
    "\n",
    "session_video_file = f'/mnt/ci-nas-classes/classinsight/2019S/video_backup/{video_from_session.split(\"-front\")[0]}/{video_from_session}.avi'\n",
    "frame_video = mmcv.VideoReader(session_video_file)[12000]\n",
    "frame_video.shape\n"
   ]
  },
  {
   "cell_type": "code",
   "execution_count": 105,
   "id": "7881f93e-3570-42f2-aad0-97a8d9a24981",
   "metadata": {},
   "outputs": [
    {
     "data": {
      "text/plain": [
       "numpy.ndarray"
      ]
     },
     "execution_count": 105,
     "metadata": {},
     "output_type": "execute_result"
    }
   ],
   "source": [
    "type(frame_video)"
   ]
  },
  {
   "cell_type": "code",
   "id": "eff9402c-fb00-4d40-8dfb-e88781c298e0",
   "metadata": {},
   "source": [
    "colors = ['#4c72b0', '#dd8452', '#55a868', '#c44e52', '#8172b3', '#937860', '#da8bc3', '#8c8c8c', '#ccb974', '#64b5cd']\n",
    "def hex_to_rgb(value):\n",
    "    value = value.lstrip('#')\n",
    "    lv = len(value)\n",
    "    return tuple(int(value[i:i + lv // 3], 16) for i in range(0, lv, lv // 3))\n",
    "\n",
    "\n",
    "# annotated_frame = cv2.cvtColor(deepcopy(frame_video), cv2.COLOR_BGR2RGB)\n",
    "annotated_frame = deepcopy(frame_video)\n",
    "for color_idx, (sid1, sid2) in enumerate(manual_bboxes.keys()):\n",
    "    X_TL1, Y_TL1, X_BR1, Y_BR1 = manual_bboxes[(sid1,sid2)][0]\n",
    "    X_TL2, Y_TL2, X_BR2, Y_BR2 = manual_bboxes[(sid1,sid2)][1]\n",
    "    print(sid1, sid2)\n",
    "    annotated_frame = cv2.rectangle(annotated_frame, (X_TL1, Y_TL1), (X_BR1, Y_BR1), hex_to_rgb(colors[color_idx]), 10)\n",
    "    plt.figure()\n",
    "    plt.imshow(cv2.cvtColor(deepcopy(annotated_frame), cv2.COLOR_BGR2RGB))\n",
    "    annotated_frame = cv2.rectangle(annotated_frame, (X_TL2, Y_TL2), (X_BR2, Y_BR2), hex_to_rgb(colors[color_idx]), 10)\n",
    "    plt.figure()\n",
    "    plt.imshow(cv2.cvtColor(deepcopy(annotated_frame), cv2.COLOR_BGR2RGB))\n",
    "\n",
    "cv2.imwrite(f'case_studies/plots/annotated_space_frame_v3.jpg', annotated_frame)\n",
    "plt.figure(figsize=(20,10))\n",
    "plt.imshow(cv2.cvtColor(deepcopy(annotated_frame), cv2.COLOR_BGR2RGB))"
   ],
   "outputs": [],
   "execution_count": null
  },
  {
   "cell_type": "markdown",
   "id": "31b868a4-bed1-4ff4-9fb2-5b776f5eeba1",
   "metadata": {},
   "source": [
    "# Create Visualization from each session to collect id ground truth "
   ]
  },
  {
   "cell_type": "code",
   "execution_count": 6,
   "id": "8cceb498-d9d4-40fd-8f37-afdd603ecd16",
   "metadata": {},
   "outputs": [
    {
     "data": {
      "text/plain": [
       "'/mnt/ci-nas-cache/edulyzeV2/pose_face_gaze_emb_fixed_face/05748A/classinsight-cmu_05748A_ghc_4101_201902141630-front'"
      ]
     },
     "execution_count": 6,
     "metadata": {},
     "output_type": "execute_result"
    }
   ],
   "source": [
    "sample_course = '05748A'\n",
    "sample_session_id = 'classinsight-cmu_05748A_ghc_4101_201902141630-front'\n",
    "session_tracking_cache_file = f\"{track_analysis_session_data}/{sample_session_id}.pb\"\n",
    "session_preprocessed_id_map_file = f\"{postprocessed_id_map_data_dir}/{sample_session_id}.pb\"\n",
    "session_frame_dir = f'{base_dir}/{sample_course}/{sample_session_id}'\n",
    "session_video_file = f'/mnt/ci-nas-classes/classinsight/2019S/video_backup/{sample_session_id.split(\"-front\")[0]}/{sample_session_id}.avi'\n",
    "session_frame_dir"
   ]
  },
  {
   "cell_type": "code",
   "execution_count": 7,
   "id": "991ea750-f727-4e12-b43e-4b2c8c90988e",
   "metadata": {},
   "outputs": [],
   "source": [
    "df_tracking_new = pickle.load(open(session_tracking_cache_file,\"rb\")).transpose()\n",
    "old_to_new_id_map = pickle.load(open(session_preprocessed_id_map_file,\"rb\"))\n",
    "total_idxs = df_tracking_new.index.max()\n",
    "for old_id in old_to_new_id_map:\n",
    "    new_id = old_to_new_id_map[old_id]\n",
    "    if not new_id==10000:\n",
    "        new_id_col = f'N{new_id}'\n",
    "        if new_id_col not in df_tracking_new:\n",
    "            df_tracking_new[new_id_col] = None\n",
    "        df_tracking_new[new_id_col] =  df_tracking_new[old_id].where(~df_tracking_new[old_id].isnull(), df_tracking_new[old_id])\n",
    "    df_tracking_new = df_tracking_new.drop(old_id, axis=1)\n"
   ]
  },
  {
   "cell_type": "code",
   "execution_count": 8,
   "id": "acc2c11b-ce74-408e-8fd6-a4d49f30e193",
   "metadata": {},
   "outputs": [
    {
     "data": {
      "text/plain": [
       "(22553, 37)"
      ]
     },
     "execution_count": 8,
     "metadata": {},
     "output_type": "execute_result"
    }
   ],
   "source": [
    "df_tracking_new.shape"
   ]
  },
  {
   "cell_type": "code",
   "execution_count": 9,
   "id": "2e4832bc-e694-4b5e-a4be-65f3598fe007",
   "metadata": {},
   "outputs": [
    {
     "data": {
      "text/plain": [
       "67656"
      ]
     },
     "execution_count": 9,
     "metadata": {},
     "output_type": "execute_result"
    }
   ],
   "source": [
    "total_idxs"
   ]
  },
  {
   "cell_type": "code",
   "execution_count": 10,
   "id": "057a8a6d-c934-40b3-a712-e7c2e3879010",
   "metadata": {},
   "outputs": [],
   "source": [
    "# old_to_new_id_map"
   ]
  },
  {
   "cell_type": "code",
   "execution_count": 11,
   "id": "61cd8987-5e21-4a63-93ad-da3b7e1556df",
   "metadata": {
    "scrolled": true
   },
   "outputs": [
    {
     "data": {
      "text/html": [
       "<div>\n",
       "<style scoped>\n",
       "    .dataframe tbody tr th:only-of-type {\n",
       "        vertical-align: middle;\n",
       "    }\n",
       "\n",
       "    .dataframe tbody tr th {\n",
       "        vertical-align: top;\n",
       "    }\n",
       "\n",
       "    .dataframe thead th {\n",
       "        text-align: right;\n",
       "    }\n",
       "</style>\n",
       "<table border=\"1\" class=\"dataframe\">\n",
       "  <thead>\n",
       "    <tr style=\"text-align: right;\">\n",
       "      <th></th>\n",
       "      <th>id</th>\n",
       "      <th>min_idx</th>\n",
       "      <th>max_idx</th>\n",
       "      <th>total_idxs</th>\n",
       "    </tr>\n",
       "  </thead>\n",
       "  <tbody>\n",
       "    <tr>\n",
       "      <th>0</th>\n",
       "      <td>0</td>\n",
       "      <td>0</td>\n",
       "      <td>67656</td>\n",
       "      <td>67656</td>\n",
       "    </tr>\n",
       "    <tr>\n",
       "      <th>1</th>\n",
       "      <td>1</td>\n",
       "      <td>0</td>\n",
       "      <td>67656</td>\n",
       "      <td>67656</td>\n",
       "    </tr>\n",
       "    <tr>\n",
       "      <th>2</th>\n",
       "      <td>2</td>\n",
       "      <td>60147</td>\n",
       "      <td>62745</td>\n",
       "      <td>2598</td>\n",
       "    </tr>\n",
       "    <tr>\n",
       "      <th>3</th>\n",
       "      <td>3</td>\n",
       "      <td>14067</td>\n",
       "      <td>53865</td>\n",
       "      <td>39798</td>\n",
       "    </tr>\n",
       "    <tr>\n",
       "      <th>4</th>\n",
       "      <td>4</td>\n",
       "      <td>0</td>\n",
       "      <td>67656</td>\n",
       "      <td>67656</td>\n",
       "    </tr>\n",
       "    <tr>\n",
       "      <th>5</th>\n",
       "      <td>5</td>\n",
       "      <td>0</td>\n",
       "      <td>67656</td>\n",
       "      <td>67656</td>\n",
       "    </tr>\n",
       "    <tr>\n",
       "      <th>6</th>\n",
       "      <td>6</td>\n",
       "      <td>40623</td>\n",
       "      <td>67656</td>\n",
       "      <td>27033</td>\n",
       "    </tr>\n",
       "    <tr>\n",
       "      <th>7</th>\n",
       "      <td>7</td>\n",
       "      <td>0</td>\n",
       "      <td>52224</td>\n",
       "      <td>52224</td>\n",
       "    </tr>\n",
       "    <tr>\n",
       "      <th>8</th>\n",
       "      <td>8</td>\n",
       "      <td>2583</td>\n",
       "      <td>67656</td>\n",
       "      <td>65073</td>\n",
       "    </tr>\n",
       "    <tr>\n",
       "      <th>9</th>\n",
       "      <td>9</td>\n",
       "      <td>62148</td>\n",
       "      <td>67656</td>\n",
       "      <td>5508</td>\n",
       "    </tr>\n",
       "    <tr>\n",
       "      <th>10</th>\n",
       "      <td>10</td>\n",
       "      <td>849</td>\n",
       "      <td>67656</td>\n",
       "      <td>66807</td>\n",
       "    </tr>\n",
       "    <tr>\n",
       "      <th>11</th>\n",
       "      <td>11</td>\n",
       "      <td>1221</td>\n",
       "      <td>3696</td>\n",
       "      <td>2475</td>\n",
       "    </tr>\n",
       "    <tr>\n",
       "      <th>12</th>\n",
       "      <td>12</td>\n",
       "      <td>1269</td>\n",
       "      <td>64197</td>\n",
       "      <td>62928</td>\n",
       "    </tr>\n",
       "    <tr>\n",
       "      <th>13</th>\n",
       "      <td>13</td>\n",
       "      <td>1866</td>\n",
       "      <td>2877</td>\n",
       "      <td>1011</td>\n",
       "    </tr>\n",
       "    <tr>\n",
       "      <th>14</th>\n",
       "      <td>14</td>\n",
       "      <td>3660</td>\n",
       "      <td>67656</td>\n",
       "      <td>63996</td>\n",
       "    </tr>\n",
       "    <tr>\n",
       "      <th>15</th>\n",
       "      <td>15</td>\n",
       "      <td>4029</td>\n",
       "      <td>6309</td>\n",
       "      <td>2280</td>\n",
       "    </tr>\n",
       "    <tr>\n",
       "      <th>16</th>\n",
       "      <td>16</td>\n",
       "      <td>4086</td>\n",
       "      <td>52962</td>\n",
       "      <td>48876</td>\n",
       "    </tr>\n",
       "    <tr>\n",
       "      <th>17</th>\n",
       "      <td>17</td>\n",
       "      <td>10725</td>\n",
       "      <td>67656</td>\n",
       "      <td>56931</td>\n",
       "    </tr>\n",
       "    <tr>\n",
       "      <th>18</th>\n",
       "      <td>18</td>\n",
       "      <td>62487</td>\n",
       "      <td>67656</td>\n",
       "      <td>5169</td>\n",
       "    </tr>\n",
       "    <tr>\n",
       "      <th>19</th>\n",
       "      <td>19</td>\n",
       "      <td>12006</td>\n",
       "      <td>13338</td>\n",
       "      <td>1332</td>\n",
       "    </tr>\n",
       "    <tr>\n",
       "      <th>20</th>\n",
       "      <td>20</td>\n",
       "      <td>14847</td>\n",
       "      <td>33981</td>\n",
       "      <td>19134</td>\n",
       "    </tr>\n",
       "    <tr>\n",
       "      <th>21</th>\n",
       "      <td>21</td>\n",
       "      <td>19437</td>\n",
       "      <td>20400</td>\n",
       "      <td>963</td>\n",
       "    </tr>\n",
       "    <tr>\n",
       "      <th>22</th>\n",
       "      <td>22</td>\n",
       "      <td>22236</td>\n",
       "      <td>24003</td>\n",
       "      <td>1767</td>\n",
       "    </tr>\n",
       "    <tr>\n",
       "      <th>23</th>\n",
       "      <td>23</td>\n",
       "      <td>25434</td>\n",
       "      <td>26484</td>\n",
       "      <td>1050</td>\n",
       "    </tr>\n",
       "    <tr>\n",
       "      <th>24</th>\n",
       "      <td>24</td>\n",
       "      <td>27840</td>\n",
       "      <td>32541</td>\n",
       "      <td>4701</td>\n",
       "    </tr>\n",
       "    <tr>\n",
       "      <th>25</th>\n",
       "      <td>25</td>\n",
       "      <td>32835</td>\n",
       "      <td>38169</td>\n",
       "      <td>5334</td>\n",
       "    </tr>\n",
       "    <tr>\n",
       "      <th>26</th>\n",
       "      <td>26</td>\n",
       "      <td>34038</td>\n",
       "      <td>52203</td>\n",
       "      <td>18165</td>\n",
       "    </tr>\n",
       "    <tr>\n",
       "      <th>27</th>\n",
       "      <td>27</td>\n",
       "      <td>38238</td>\n",
       "      <td>39483</td>\n",
       "      <td>1245</td>\n",
       "    </tr>\n",
       "    <tr>\n",
       "      <th>28</th>\n",
       "      <td>28</td>\n",
       "      <td>39513</td>\n",
       "      <td>40479</td>\n",
       "      <td>966</td>\n",
       "    </tr>\n",
       "    <tr>\n",
       "      <th>29</th>\n",
       "      <td>29</td>\n",
       "      <td>42906</td>\n",
       "      <td>46632</td>\n",
       "      <td>3726</td>\n",
       "    </tr>\n",
       "    <tr>\n",
       "      <th>30</th>\n",
       "      <td>30</td>\n",
       "      <td>47853</td>\n",
       "      <td>48918</td>\n",
       "      <td>1065</td>\n",
       "    </tr>\n",
       "    <tr>\n",
       "      <th>31</th>\n",
       "      <td>31</td>\n",
       "      <td>51909</td>\n",
       "      <td>52881</td>\n",
       "      <td>972</td>\n",
       "    </tr>\n",
       "    <tr>\n",
       "      <th>32</th>\n",
       "      <td>32</td>\n",
       "      <td>64866</td>\n",
       "      <td>66210</td>\n",
       "      <td>1344</td>\n",
       "    </tr>\n",
       "    <tr>\n",
       "      <th>33</th>\n",
       "      <td>33</td>\n",
       "      <td>61374</td>\n",
       "      <td>65496</td>\n",
       "      <td>4122</td>\n",
       "    </tr>\n",
       "    <tr>\n",
       "      <th>34</th>\n",
       "      <td>34</td>\n",
       "      <td>57930</td>\n",
       "      <td>60069</td>\n",
       "      <td>2139</td>\n",
       "    </tr>\n",
       "    <tr>\n",
       "      <th>35</th>\n",
       "      <td>35</td>\n",
       "      <td>64218</td>\n",
       "      <td>67656</td>\n",
       "      <td>3438</td>\n",
       "    </tr>\n",
       "    <tr>\n",
       "      <th>36</th>\n",
       "      <td>36</td>\n",
       "      <td>65130</td>\n",
       "      <td>67656</td>\n",
       "      <td>2526</td>\n",
       "    </tr>\n",
       "  </tbody>\n",
       "</table>\n",
       "</div>"
      ],
      "text/plain": [
       "    id  min_idx  max_idx  total_idxs\n",
       "0    0        0    67656       67656\n",
       "1    1        0    67656       67656\n",
       "2    2    60147    62745        2598\n",
       "3    3    14067    53865       39798\n",
       "4    4        0    67656       67656\n",
       "5    5        0    67656       67656\n",
       "6    6    40623    67656       27033\n",
       "7    7        0    52224       52224\n",
       "8    8     2583    67656       65073\n",
       "9    9    62148    67656        5508\n",
       "10  10      849    67656       66807\n",
       "11  11     1221     3696        2475\n",
       "12  12     1269    64197       62928\n",
       "13  13     1866     2877        1011\n",
       "14  14     3660    67656       63996\n",
       "15  15     4029     6309        2280\n",
       "16  16     4086    52962       48876\n",
       "17  17    10725    67656       56931\n",
       "18  18    62487    67656        5169\n",
       "19  19    12006    13338        1332\n",
       "20  20    14847    33981       19134\n",
       "21  21    19437    20400         963\n",
       "22  22    22236    24003        1767\n",
       "23  23    25434    26484        1050\n",
       "24  24    27840    32541        4701\n",
       "25  25    32835    38169        5334\n",
       "26  26    34038    52203       18165\n",
       "27  27    38238    39483        1245\n",
       "28  28    39513    40479         966\n",
       "29  29    42906    46632        3726\n",
       "30  30    47853    48918        1065\n",
       "31  31    51909    52881         972\n",
       "32  32    64866    66210        1344\n",
       "33  33    61374    65496        4122\n",
       "34  34    57930    60069        2139\n",
       "35  35    64218    67656        3438\n",
       "36  36    65130    67656        2526"
      ]
     },
     "execution_count": 11,
     "metadata": {},
     "output_type": "execute_result"
    }
   ],
   "source": [
    "col_start_stop_idxs = []\n",
    "for col in df_tracking_new.columns:\n",
    "    one_idxs = df_tracking_new.index[np.where(df_tracking_new[col]==1)[0]].values\n",
    "    col_start_stop_idxs.append([col, one_idxs.min(), one_idxs.max()])\n",
    "df_id_start_stop = pd.DataFrame(col_start_stop_idxs, columns=['id','min_idx','max_idx'])\n",
    "df_id_start_stop['total_idxs'] = df_id_start_stop['max_idx']-df_id_start_stop['min_idx']\n",
    "df_id_start_stop['id'] = df_id_start_stop['id'].apply(lambda x: int(x[1:]))\n",
    "df_id_start_stop"
   ]
  },
  {
   "cell_type": "code",
   "execution_count": 12,
   "id": "0837a3d1-1c7c-40b1-905a-13835c22b3d1",
   "metadata": {},
   "outputs": [
    {
     "data": {
      "image/png": "[encoded data removed]",
      "text/plain": [
       "<Figure size 2000x1500 with 1 Axes>"
      ]
     },
     "metadata": {},
     "output_type": "display_data"
    }
   ],
   "source": [
    "_ = plt.figure(figsize=(20,15))\n",
    "for row_idx, row in df_id_start_stop.iterrows():\n",
    "    plt.axhline(y=row_idx, xmin=row['min_idx']/total_idxs,xmax=row['max_idx']/total_idxs)\n",
    "plt.yticks(range(df_id_start_stop.shape[0]), range(df_id_start_stop.shape[0]))\n",
    "plt.grid() "
   ]
  },
  {
   "cell_type": "code",
   "id": "258326ec-f91d-4685-a622-73fd28f10161",
   "metadata": {
    "scrolled": true
   },
   "source": [
    "session_frames = df_tracking_new.index.values.tolist()\n",
    "session_ids_covered = []\n",
    "selected_frames = []\n",
    "segments = []\n",
    "segment_half_size = 50\n",
    "for row_idx, row in df_id_start_stop.sort_values(by='total_idxs').iterrows():\n",
    "    id_start, id_stop = row['min_idx'],row['max_idx']\n",
    "    seg_mid = (id_start+id_stop)/2\n",
    "    seg_start, seg_end = max(seg_mid-segment_half_size, 0), min(seg_mid+segment_half_size, total_idxs)\n",
    "    is_id_covered = df_id_start_stop.apply(lambda row: (seg_end<=row['max_idx']) & (seg_start>=row['min_idx']),axis=1)\n",
    "    seg_ids_covered = df_id_start_stop[is_id_covered]['id']\n",
    "    new_ids_covered = [xr for xr in seg_ids_covered if xr not in session_ids_covered]\n",
    "    if len(new_ids_covered)>0:        \n",
    "        segment_frames = [xr for xr in session_frames if ((xr>=seg_start) and (xr<=seg_end))]\n",
    "        selected_frames+=segment_frames\n",
    "        segments.append((seg_start, seg_end, new_ids_covered, segment_frames))\n",
    "        session_ids_covered+=new_ids_covered\n",
    "\n",
    "sprint(segments)\n",
    "    \n",
    "    \n"
   ],
   "outputs": [],
   "execution_count": null
  },
  {
   "cell_type": "code",
   "execution_count": 59,
   "id": "b4d57418-1864-4e35-809b-da2421820246",
   "metadata": {
    "scrolled": true
   },
   "outputs": [
    {
     "name": "stderr",
     "output_type": "stream",
     "text": [
      "[h264 @ 0x1ab7847c0] error while decoding MB 126 36, bytestream -5\n",
      "[h264 @ 0xdc512c0] error while decoding MB 126 36, bytestream -5\n",
      "[h264 @ 0x1b2d0b200] error while decoding MB 65 27, bytestream -9\n",
      "[h264 @ 0xc89f280] error while decoding MB 90 53, bytestream -9\n",
      "[h264 @ 0xdc512c0] error while decoding MB 126 36, bytestream -5\n",
      "[h264 @ 0x1b2d0b200] error while decoding MB 65 27, bytestream -9\n",
      "[h264 @ 0xc89f280] error while decoding MB 90 53, bytestream -9\n"
     ]
    },
    {
     "name": "stdout",
     "output_type": "stream",
     "text": [
      "Looped 0 images\n"
     ]
    },
    {
     "name": "stderr",
     "output_type": "stream",
     "text": [
      "[h264 @ 0xe5dc400] error while decoding MB 71 30, bytestream -25\n",
      "[h264 @ 0xc89f280] error while decoding MB 165 17, bytestream -8\n",
      "[h264 @ 0xe5dc400] error while decoding MB 95 58, bytestream -5\n",
      "[h264 @ 0x1b2d0b200] error while decoding MB 91 59, bytestream -7\n",
      "[h264 @ 0x19e6eae80] error while decoding MB 90 33, bytestream -17\n",
      "[h264 @ 0x18dff8280] error while decoding MB 159 18, bytestream -5\n",
      "[h264 @ 0xc89f280] error while decoding MB 183 8, bytestream -5\n",
      "[h264 @ 0xd86efc0] error while decoding MB 202 78, bytestream -9\n",
      "[h264 @ 0x18ad04780] left block unavailable for requested intra4x4 mode -1\n",
      "[h264 @ 0x18ad04780] error while decoding MB 0 61, bytestream 358176\n",
      "[h264 @ 0x192843780] error while decoding MB 166 124, bytestream -5\n",
      "[h264 @ 0x18dff8280] error while decoding MB 46 54, bytestream -9\n",
      "[h264 @ 0x1b2d0b200] error while decoding MB 194 101, bytestream -5\n",
      "[h264 @ 0x192861c80] error while decoding MB 182 10, bytestream -7\n",
      "[h264 @ 0xc89f280] error while decoding MB 90 73, bytestream -9\n",
      "[h264 @ 0x1aa7b2680] error while decoding MB 206 49, bytestream -7\n",
      "[h264 @ 0x1aa7b2680] error while decoding MB 199 60, bytestream -5\n",
      "[h264 @ 0x19d5e7280] cabac decode of qscale diff failed at 44 57\n",
      "[h264 @ 0x19d5e7280] error while decoding MB 44 57, bytestream 62825\n",
      "[h264 @ 0x1aa5d2840] left block unavailable for requested intra mode\n",
      "[h264 @ 0x1aa5d2840] error while decoding MB 0 25, bytestream 472385\n",
      "[h264 @ 0x192861c80] cabac decode of qscale diff failed at 59 29\n",
      "[h264 @ 0x192861c80] error while decoding MB 59 29, bytestream 370930\n",
      "[h264 @ 0x18dff8280] left block unavailable for requested intra mode\n",
      "[h264 @ 0x18dff8280] error while decoding MB 0 121, bytestream 67780\n"
     ]
    },
    {
     "name": "stdout",
     "output_type": "stream",
     "text": [
      "Looped 10000 images\n"
     ]
    },
    {
     "name": "stderr",
     "output_type": "stream",
     "text": [
      "[h264 @ 0x1aa5d2840] error while decoding MB 207 105, bytestream -11\n",
      "[h264 @ 0xc89f280] left block unavailable for requested intra4x4 mode -1\n",
      "[h264 @ 0xc89f280] error while decoding MB 0 32, bytestream 460170\n",
      "[h264 @ 0x1b2d0b200] cabac decode of qscale diff failed at 12 31\n",
      "[h264 @ 0x1b2d0b200] error while decoding MB 12 31, bytestream 276481\n",
      "[h264 @ 0xdc512c0] error while decoding MB 20 133, bytestream -9\n",
      "[h264 @ 0x192843780] error while decoding MB 201 80, bytestream -5\n",
      "[h264 @ 0xc8c6680] error while decoding MB 149 24, bytestream -5\n",
      "[h264 @ 0xd86efc0] left block unavailable for requested intra4x4 mode -1\n",
      "[h264 @ 0xd86efc0] error while decoding MB 0 35, bytestream 394977\n",
      "[h264 @ 0x1b2d0b200] cabac decode of qscale diff failed at 219 27\n",
      "[h264 @ 0x1b2d0b200] error while decoding MB 219 27, bytestream 381809\n",
      "[h264 @ 0x192861c80] error while decoding MB 215 28, bytestream -5\n",
      "[h264 @ 0x192843780] left block unavailable for requested intra mode\n",
      "[h264 @ 0x192843780] error while decoding MB 0 25, bytestream 522964\n",
      "[h264 @ 0xc98f4c0] error while decoding MB 193 118, bytestream -5\n"
     ]
    },
    {
     "name": "stdout",
     "output_type": "stream",
     "text": [
      "Looped 20000 images\n"
     ]
    },
    {
     "name": "stderr",
     "output_type": "stream",
     "text": [
      "[h264 @ 0x192843780] cabac decode of qscale diff failed at 105 32\n",
      "[h264 @ 0x192843780] error while decoding MB 105 32, bytestream 306418\n",
      "[h264 @ 0xdc512c0] error while decoding MB 88 95, bytestream -5\n",
      "[h264 @ 0x192861c80] cabac decode of qscale diff failed at 153 27\n",
      "[h264 @ 0x192861c80] error while decoding MB 153 27, bytestream 423813\n",
      "[h264 @ 0x19e6eae80] error while decoding MB 53 64, bytestream -7\n",
      "[h264 @ 0x1b2d0b200] cabac decode of qscale diff failed at 127 39\n",
      "[h264 @ 0x1b2d0b200] error while decoding MB 127 39, bytestream 278642\n",
      "[h264 @ 0xdc512c0] left block unavailable for requested intra mode\n",
      "[h264 @ 0xdc512c0] error while decoding MB 0 28, bytestream 471725\n",
      "[h264 @ 0x1aa7b2680] error while decoding MB 196 98, bytestream -7\n",
      "[h264 @ 0x17eaaa640] left block unavailable for requested intra4x4 mode -1\n",
      "[h264 @ 0x17eaaa640] error while decoding MB 0 30, bytestream 495453\n",
      "[h264 @ 0x1aa7b2680] error while decoding MB 24 86, bytestream -5\n",
      "[h264 @ 0x18ad04780] cabac decode of qscale diff failed at 227 43\n",
      "[h264 @ 0x18ad04780] error while decoding MB 227 43, bytestream 433750\n",
      "[h264 @ 0xc98f4c0] cabac decode of qscale diff failed at 208 23\n",
      "[h264 @ 0xc98f4c0] error while decoding MB 208 23, bytestream 522738\n",
      "[h264 @ 0xdc512c0] error while decoding MB 144 32, bytestream -5\n",
      "[h264 @ 0x19e6eae80] cabac decode of qscale diff failed at 82 46\n",
      "[h264 @ 0x19e6eae80] error while decoding MB 82 46, bytestream 307314\n",
      "[h264 @ 0x19e6eae80] error while decoding MB 36 63, bytestream -7\n"
     ]
    },
    {
     "name": "stdout",
     "output_type": "stream",
     "text": [
      "Looped 30000 images\n"
     ]
    },
    {
     "name": "stderr",
     "output_type": "stream",
     "text": [
      "[h264 @ 0x1b2d0b200] cabac decode of qscale diff failed at 44 46\n",
      "[h264 @ 0x1b2d0b200] error while decoding MB 44 46, bytestream 304272\n",
      "[h264 @ 0x18dff8280] error while decoding MB 46 71, bytestream -5\n",
      "[h264 @ 0x19e6eae80] error while decoding MB 198 9, bytestream -5\n",
      "[h264 @ 0x1aa5d2840] error while decoding MB 36 71, bytestream -5\n",
      "[h264 @ 0x18dff8280] left block unavailable for requested intra mode\n",
      "[h264 @ 0x18dff8280] error while decoding MB 0 42, bytestream 390394\n",
      "[h264 @ 0x19d5e7280] cabac decode of qscale diff failed at 25 32\n",
      "[h264 @ 0x19d5e7280] error while decoding MB 25 32, bytestream 349913\n",
      "[h264 @ 0xc8c6680] error while decoding MB 117 76, bytestream -5\n",
      "[h264 @ 0x192861c80] cabac decode of qscale diff failed at 219 31\n",
      "[h264 @ 0x192861c80] error while decoding MB 219 31, bytestream 308676\n",
      "[h264 @ 0xc8c6680] cabac decode of qscale diff failed at 115 36\n",
      "[h264 @ 0xc8c6680] error while decoding MB 115 36, bytestream 434230\n",
      "[h264 @ 0x18dff8280] cabac decode of qscale diff failed at 68 36\n",
      "[h264 @ 0x18dff8280] error while decoding MB 68 36, bytestream 334219\n",
      "[h264 @ 0xdc512c0] error while decoding MB 217 17, bytestream -9\n",
      "[h264 @ 0x18ad04780] left block unavailable for requested intra4x4 mode -1\n",
      "[h264 @ 0x18ad04780] error while decoding MB 0 39, bytestream 262826\n",
      "[h264 @ 0xc89f280] cabac decode of qscale diff failed at 146 65\n",
      "[h264 @ 0xc89f280] error while decoding MB 146 65, bytestream 212509\n",
      "[h264 @ 0xc98f4c0] error while decoding MB 81 34, bytestream -19\n",
      "[h264 @ 0x192861c80] left block unavailable for requested intra mode\n",
      "[h264 @ 0x192861c80] error while decoding MB 0 71, bytestream 301594\n",
      "[h264 @ 0xdc512c0] error while decoding MB 75 53, bytestream -9\n",
      "[h264 @ 0xc98f4c0] left block unavailable for requested intra mode\n",
      "[h264 @ 0xc98f4c0] error while decoding MB 0 37, bytestream 453348\n"
     ]
    },
    {
     "name": "stdout",
     "output_type": "stream",
     "text": [
      "Looped 40000 images\n"
     ]
    },
    {
     "name": "stderr",
     "output_type": "stream",
     "text": [
      "[h264 @ 0x1aa7b2680] error while decoding MB 87 36, bytestream -5\n",
      "[h264 @ 0x18ad04780] left block unavailable for requested intra mode\n",
      "[h264 @ 0x18ad04780] error while decoding MB 0 78, bytestream 247730\n",
      "[h264 @ 0x192843780] error while decoding MB 51 130, bytestream -5\n",
      "[h264 @ 0xd86efc0] error while decoding MB 3 93, bytestream -34\n",
      "[h264 @ 0x1aa7b2680] error while decoding MB 201 123, bytestream -5\n",
      "[h264 @ 0xd86efc0] error while decoding MB 46 49, bytestream -19\n",
      "[h264 @ 0xc89f280] cabac decode of qscale diff failed at 226 62\n",
      "[h264 @ 0xc89f280] error while decoding MB 226 62, bytestream 325152\n",
      "[h264 @ 0xc89f280] error while decoding MB 195 116, bytestream -5\n",
      "[h264 @ 0xc98f4c0] error while decoding MB 198 99, bytestream -7\n",
      "[h264 @ 0xdc512c0] error while decoding MB 203 56, bytestream -5\n",
      "[h264 @ 0xe5dc400] error while decoding MB 218 131, bytestream -12\n",
      "[h264 @ 0x19d5e7280] error while decoding MB 203 114, bytestream -5\n",
      "[h264 @ 0x1aa5d2840] error while decoding MB 190 51, bytestream -9\n",
      "[h264 @ 0xd86efc0] left block unavailable for requested intra mode\n",
      "[h264 @ 0xd86efc0] error while decoding MB 0 26, bytestream 534162\n"
     ]
    },
    {
     "name": "stdout",
     "output_type": "stream",
     "text": [
      "Looped 50000 images\n"
     ]
    },
    {
     "name": "stderr",
     "output_type": "stream",
     "text": [
      "[h264 @ 0xe5dc400] cabac decode of qscale diff failed at 203 34\n",
      "[h264 @ 0xe5dc400] error while decoding MB 203 34, bytestream 232642\n",
      "[h264 @ 0x17eaaa640] error while decoding MB 120 85, bytestream -5\n",
      "[h264 @ 0x19e6eae80] left block unavailable for requested intra mode\n",
      "[h264 @ 0x19e6eae80] error while decoding MB 0 123, bytestream 36075\n",
      "[h264 @ 0x1aa7b2680] error while decoding MB 203 34, bytestream -15\n",
      "[h264 @ 0xd86efc0] error while decoding MB 10 87, bytestream -5\n"
     ]
    },
    {
     "name": "stdout",
     "output_type": "stream",
     "text": [
      "Looped 60000 images\n"
     ]
    },
    {
     "name": "stderr",
     "output_type": "stream",
     "text": [
      "[h264 @ 0x1aa5d2840] cabac decode of qscale diff failed at 182 38\n",
      "[h264 @ 0x1aa5d2840] error while decoding MB 182 38, bytestream 366798\n",
      "[h264 @ 0x19e6eae80] error while decoding MB 68 57, bytestream -9\n",
      "[h264 @ 0xc8c6680] error while decoding MB 196 46, bytestream -9\n",
      "[h264 @ 0xd86efc0] cabac decode of qscale diff failed at 229 24\n",
      "[h264 @ 0xd86efc0] error while decoding MB 229 24, bytestream 316154\n",
      "[h264 @ 0x1aa7b2680] cabac decode of qscale diff failed at 80 95\n",
      "[h264 @ 0x1aa7b2680] error while decoding MB 80 95, bytestream 96365\n",
      "[h264 @ 0xd86efc0] error while decoding MB 27 64, bytestream -9\n"
     ]
    },
    {
     "name": "stdout",
     "output_type": "stream",
     "text": [
      "Looped 70000 images\n"
     ]
    }
   ],
   "source": [
    "# for given frame ranges get video frames and tracking results\n",
    "all_frames = mmcv.VideoReader(session_video_file)\n",
    "\n",
    "required_frame_ids = np.unique(sorted(selected_frames))\n",
    "frame_data_dict = {}\n",
    "\n",
    "for frame_idx, frame_img in enumerate(all_frames):\n",
    "    if (frame_idx in required_frame_ids) & (frame_idx%3==0):\n",
    "        frame_data_dict[frame_idx] = frame_img\n",
    "    if frame_idx%10000==0:\n",
    "        print(f\"Looped {frame_idx} images\")\n",
    "        \n",
    "\n"
   ]
  },
  {
   "cell_type": "code",
   "execution_count": 1,
   "id": "b3ae4995-3301-4ce1-803a-b6873775c8bc",
   "metadata": {},
   "outputs": [],
   "source": [
    "SOURCE_ROOT = '/home/prasoon/video_analysis/edusenseV2compute/compute/videoV3'\n",
    "run_config = {\n",
    "    'track_config':f'{SOURCE_ROOT}/configs/mmlab/ocsort_yolox_x_crowdhuman_mot17-private-half.py',\n",
    "    'track_checkpoint':f'{SOURCE_ROOT}/models/mmlab/ocsort_yolox_x_crowdhuman_mot17-private-half_20220813_101618-fe150582.pth',\n",
    "    'device':'cuda:1',\n",
    "}\n"
   ]
  },
  {
   "cell_type": "code",
   "execution_count": 61,
   "id": "85fe4935-5078-41ca-b37a-29bfe7ab8971",
   "metadata": {},
   "outputs": [
    {
     "data": {
      "text/plain": [
       "535"
      ]
     },
     "execution_count": 61,
     "metadata": {},
     "output_type": "execute_result"
    }
   ],
   "source": [
    "len(frame_data_dict.keys())"
   ]
  },
  {
   "cell_type": "code",
   "execution_count": 62,
   "id": "b9786394-0bf9-4640-86ba-4fdedd2d9e00",
   "metadata": {},
   "outputs": [],
   "source": [
    "session_id_viz_dir = f'{id_viz_cache_root}/{sample_session_id}'\n",
    "os.makedirs(session_id_viz_dir, exist_ok=True)\n"
   ]
  },
  {
   "cell_type": "code",
   "id": "fa1cde26-0a73-4660-86a8-4c0a6df4cb89",
   "metadata": {
    "scrolled": true
   },
   "source": [
    "if tracking_model:\n",
    "    printm(\"# Deleting Previous Model\")\n",
    "    del tracking_model\n",
    "tracking_model = init_tracking_model(run_config['track_config'],\n",
    "                                 run_config['track_checkpoint'],\n",
    "                                 device=run_config['device'])\n",
    "for seg_idx, (seg_start, seg_end, new_ids_covered, segment_frames) in enumerate(segments):\n",
    "    seg_video_id = f'S{seg_idx}_{int(seg_start)}_{int(seg_end)}_{\"_\".join(map(str,new_ids_covered))}'\n",
    "    match_cache_dir = f'{session_id_viz_dir}/{seg_video_id}'\n",
    "    match_video_file = f'{session_id_viz_dir}/{seg_video_id}.mp4'\n",
    "    if os.path.exists(match_video_file):\n",
    "        continue\n",
    "    print(match_video_file)\n",
    "    os.makedirs(match_cache_dir, exist_ok=True)\n",
    "    frame_num=0\n",
    "\n",
    "    for frame_idx in segment_frames:\n",
    "        frame_tracking_file = f\"{session_frame_dir}/{frame_idx}.pb\"\n",
    "        if os.path.exists(frame_tracking_file) and (frame_idx in frame_data_dict):\n",
    "            frame_file_out = os.path.join(match_cache_dir, f'{frame_num:06d}.jpg')\n",
    "            frame_num+=1\n",
    "            if os.path.exists(frame_file_out):\n",
    "                continue\n",
    "            frame_tracking_results = pickle.load(open(frame_tracking_file,\"rb\"))[1]\n",
    "            for person_idx in range(len(frame_tracking_results)):\n",
    "                old_id= int(frame_tracking_results[person_idx]['track_id'])\n",
    "                frame_tracking_results[person_idx]['track_id'] =old_to_new_id_map[old_id]\n",
    "            frame_img = deepcopy(frame_data_dict[frame_idx])\n",
    "            if len(frame_tracking_results)>0:\n",
    "                frame_tracking_results = {\n",
    "                    'track_bboxes':[np.array([[xr['track_id']]+xr['bbox'].tolist() for xr in frame_tracking_results])],\n",
    "                    'det_bboxes':[np.array([xr['bbox'].tolist() for xr in frame_tracking_results])]}\n",
    "                frame_track_img = tracking_model.show_result(\n",
    "                    frame_img,\n",
    "                    frame_tracking_results,\n",
    "                    thickness=5,\n",
    "                    font_scale=.5,\n",
    "                    score_thr=0.1,\n",
    "                    show=False,\n",
    "                    wait_time=int(1000. / 5),\n",
    "                    out_file=frame_file_out,\n",
    "                    backend='cv2')\n",
    "            else:\n",
    "                cv2.imwrite(frame_file_out,frame_img)\n",
    "    \n",
    "    #         break\n",
    "    # break\n",
    "    mmcv.frames2video(match_cache_dir, match_video_file, fps=5, fourcc='mp4v')\n",
    "    print(f\"Done for segment {seg_video_id}\")\n",
    "    # break\n",
    "    \n",
    "    "
   ],
   "outputs": [],
   "execution_count": null
  },
  {
   "cell_type": "code",
   "execution_count": 65,
   "id": "05dd4477-a054-4342-9611-4df6e66e6953",
   "metadata": {},
   "outputs": [
    {
     "data": {
      "text/plain": [
       "'/mnt/ci-nas-cache/edulyzeV2/cache_compute_4//analysis_tracking/session_matching_info'"
      ]
     },
     "execution_count": 65,
     "metadata": {},
     "output_type": "execute_result"
    }
   ],
   "source": [
    "id_viz_cache_root"
   ]
  },
  {
   "cell_type": "markdown",
   "id": "5a398454-cb03-480a-9d8a-2f151a034554",
   "metadata": {},
   "source": [
    "# Run visualization code on all sessions"
   ]
  },
  {
   "cell_type": "code",
   "execution_count": null,
   "id": "bc50dbb6-3652-4358-b63a-2bcd727dcebd",
   "metadata": {},
   "outputs": [
    {
     "data": {
      "text/markdown": [
       "# 0-05410A, session:0-classinsight-cmu_05410A_ghc_4301_201902181500-front"
      ],
      "text/plain": [
       "<IPython.core.display.Markdown object>"
      ]
     },
     "metadata": {},
     "output_type": "display_data"
    },
    {
     "data": {
      "text/markdown": [
       "## Get preprocessed tracking ids..."
      ],
      "text/plain": [
       "<IPython.core.display.Markdown object>"
      ]
     },
     "metadata": {},
     "output_type": "display_data"
    }
   ],
   "source": [
    "SOURCE_ROOT = '/home/prasoon/video_analysis/edusenseV2compute/compute/videoV3'\n",
    "run_config = {\n",
    "    'track_config':f'{SOURCE_ROOT}/configs/mmlab/ocsort_yolox_x_crowdhuman_mot17-private-half.py',\n",
    "    'track_checkpoint':f'{SOURCE_ROOT}/models/mmlab/ocsort_yolox_x_crowdhuman_mot17-private-half_20220813_101618-fe150582.pth',\n",
    "    'device':'cuda:1',\n",
    "}\n",
    "\n",
    "for course_idx, course in enumerate(frame_file_data):\n",
    "    for session_idx, session_id in enumerate(frame_file_data[course]):\n",
    "        session_id_viz_dir = f'{id_viz_cache_root}/{session_id}'\n",
    "        if not os.path.exists(session_id_viz_dir):\n",
    "            \n",
    "            session_tracking_cache_file = f\"{track_analysis_session_data}/{session_id}.pb\"\n",
    "            session_preprocessed_id_map_file = f\"{postprocessed_id_map_data_dir}/{session_id}.pb\"\n",
    "            session_frame_dir = f'/mnt/ci-nas-cache/edulyzeV2/pose_face_gaze_emb/{course}/{session_id}'\n",
    "            session_video_file = f'/mnt/ci-nas-classes/classinsight/2019S/video_backup/{session_id.split(\"-front\")[0]}/{session_id}.avi'\n",
    "            printm(f'# {course_idx}-{course}, session:{session_idx}-{session_id}')\n",
    "            printm(\"## Get preprocessed tracking ids...\")\n",
    "            \n",
    "            df_tracking_new = pickle.load(open(session_tracking_cache_file,\"rb\")).transpose()\n",
    "            old_to_new_id_map = pickle.load(open(session_preprocessed_id_map_file,\"rb\"))\n",
    "            total_idxs = df_tracking_new.index.max()\n",
    "            for old_id in old_to_new_id_map:\n",
    "                new_id = old_to_new_id_map[old_id]\n",
    "                if not new_id==10000:\n",
    "                    new_id_col = f'N{new_id}'\n",
    "                    if new_id_col not in df_tracking_new:\n",
    "                        df_tracking_new[new_id_col] = None\n",
    "                    df_tracking_new[new_id_col] =  df_tracking_new[old_id].where(~df_tracking_new[old_id].isnull(), df_tracking_new[old_id])\n",
    "                df_tracking_new = df_tracking_new.drop(old_id, axis=1)\n",
    "\n",
    "            col_start_stop_idxs = []\n",
    "            for col in df_tracking_new.columns:\n",
    "                one_idxs = df_tracking_new.index[np.where(df_tracking_new[col]==1)[0]].values\n",
    "                col_start_stop_idxs.append([col, one_idxs.min(), one_idxs.max()])\n",
    "            df_id_start_stop = pd.DataFrame(col_start_stop_idxs, columns=['id','min_idx','max_idx'])\n",
    "            df_id_start_stop['total_idxs'] = df_id_start_stop['max_idx']-df_id_start_stop['min_idx']\n",
    "            df_id_start_stop['id'] = df_id_start_stop['id'].apply(lambda x: int(x[1:]))\n",
    "            \n",
    "            printm(f\"## Get segments to visualize from {df_tracking_new.shape[1]} tracking ids...\")\n",
    "            session_frames = df_tracking_new.index.values.tolist()\n",
    "            session_ids_covered = []\n",
    "            selected_frames = []\n",
    "            segments = []\n",
    "            segment_half_size = 50\n",
    "            for row_idx, row in df_id_start_stop.sort_values(by='total_idxs').iterrows():\n",
    "                id_start, id_stop = row['min_idx'],row['max_idx']\n",
    "                seg_mid = (id_start+id_stop)/2\n",
    "                seg_start, seg_end = max(seg_mid-segment_half_size, 0), min(seg_mid+segment_half_size, total_idxs)\n",
    "                is_id_covered = df_id_start_stop.apply(lambda row: (seg_end<=row['max_idx']) & (seg_start>=row['min_idx']),axis=1)\n",
    "                seg_ids_covered = df_id_start_stop[is_id_covered]['id']\n",
    "                new_ids_covered = [xr for xr in seg_ids_covered if xr not in session_ids_covered]\n",
    "                if len(new_ids_covered)>0:        \n",
    "                    segment_frames = [xr for xr in session_frames if ((xr>=seg_start) and (xr<=seg_end))]\n",
    "                    selected_frames+=segment_frames\n",
    "                    segments.append((seg_start, seg_end, new_ids_covered, segment_frames))\n",
    "                    session_ids_covered+=new_ids_covered\n",
    "            printm(f\"## Got {len(segments)} segments to visualize...\")\n",
    "\n",
    "            printm(f\"## Get video frames from session video file for segment frames...\")\n",
    "            all_frames = mmcv.VideoReader(session_video_file)\n",
    "            required_frame_ids = np.unique(sorted(selected_frames))\n",
    "            frame_data_dict = dict()\n",
    "            \n",
    "            for frame_idx, frame_img in enumerate(all_frames):\n",
    "                if (frame_idx in required_frame_ids) & (frame_idx%3==0):\n",
    "                    frame_data_dict[frame_idx] = frame_img\n",
    "                if frame_idx%1000==0:\n",
    "                    print(f\"Looped {frame_idx} images\")\n",
    "            printm(f\"## Got {len(frame_data_dict.keys())} video frames from session video file...\")\n",
    "\n",
    "            printm(f\"## Create segment videos with new tracking ids...\")\n",
    "            os.makedirs(session_id_viz_dir, exist_ok=True)\n",
    "            tracking_model = init_tracking_model(run_config['track_config'],\n",
    "                                             run_config['track_checkpoint'],\n",
    "                                             device=run_config['device'])\n",
    "            for seg_idx, (seg_start, seg_end, new_ids_covered, segment_frames) in enumerate(segments):\n",
    "                seg_video_id = f'S{seg_idx}_{int(seg_start)}_{int(seg_end)}_{\"_\".join(map(str,new_ids_covered))}'\n",
    "                match_cache_dir = f'{session_id_viz_dir}/{seg_video_id}'\n",
    "                match_video_file = f'{session_id_viz_dir}/{seg_video_id}.mp4'\n",
    "                if os.path.exists(match_video_file):\n",
    "                    continue\n",
    "                print(match_video_file)\n",
    "                os.makedirs(match_cache_dir, exist_ok=True)\n",
    "                frame_num=0\n",
    "            \n",
    "                for frame_idx in segment_frames:\n",
    "                    frame_tracking_file = f\"{session_frame_dir}/{frame_idx}.pb\"\n",
    "                    if os.path.exists(frame_tracking_file) and (frame_idx in frame_data_dict):\n",
    "                        frame_file_out = os.path.join(match_cache_dir, f'{frame_num:06d}.jpg')\n",
    "                        frame_num+=1\n",
    "                        if os.path.exists(frame_file_out):\n",
    "                            continue\n",
    "                        frame_tracking_results = pickle.load(open(frame_tracking_file,\"rb\"))[1]\n",
    "                        for person_idx in range(len(frame_tracking_results)):\n",
    "                            old_id= int(frame_tracking_results[person_idx]['track_id'])\n",
    "                            frame_tracking_results[person_idx]['track_id'] =old_to_new_id_map[old_id]\n",
    "                        frame_img = deepcopy(frame_data_dict[frame_idx])\n",
    "                        if len(frame_tracking_results)>0:\n",
    "                            frame_tracking_results = {\n",
    "                                'track_bboxes':[np.array([[xr['track_id']]+xr['bbox'].tolist() for xr in frame_tracking_results])],\n",
    "                                'det_bboxes':[np.array([xr['bbox'].tolist() for xr in frame_tracking_results])]}\n",
    "                            frame_track_img = tracking_model.show_result(\n",
    "                                frame_img,\n",
    "                                frame_tracking_results,\n",
    "                                thickness=5,\n",
    "                                font_scale=.5,\n",
    "                                score_thr=0.1,\n",
    "                                show=False,\n",
    "                                wait_time=int(1000. / 5),\n",
    "                                out_file=frame_file_out,\n",
    "                                backend='cv2')\n",
    "                        else:\n",
    "                            cv2.imwrite(frame_file_out,frame_img)\n",
    "                mmcv.frames2video(match_cache_dir, match_video_file, fps=5, fourcc='mp4v')\n",
    "                print(f\"Done for segment {seg_video_id}\")\n",
    "            del tracking_model\n",
    "            printm(f\"## Created Segment Visualization for session: {course_idx}-{course}, session:{session_idx}-{session_id} from {len(old_to_new_id_map.keys())} to {df_id_start_stop.shape[0]} ids\")\n",
    "        else:\n",
    "            printm(f\"## Segement visualization directory EXISTS for session: {course_idx}-{course}, session:{session_idx}-{session_id}\")\n",
    "            \n",
    "        \n",
    "        "
   ]
  },
  {
   "cell_type": "code",
   "execution_count": 6,
   "id": "b2a688fb-6c62-4f33-9bd4-616d70db613b",
   "metadata": {},
   "outputs": [
    {
     "data": {
      "text/plain": [
       "'/mnt/ci-nas-classes/classinsight/2019S/video_backup/classinsight-cmu_05410A_ghc_4301_201902251500/classinsight-cmu_05410A_ghc_4301_201902251500-front.avi'"
      ]
     },
     "execution_count": 6,
     "metadata": {},
     "output_type": "execute_result"
    }
   ],
   "source": [
    "session_video_file"
   ]
  },
  {
   "cell_type": "code",
   "execution_count": null,
   "id": "33f0eea6-acad-433b-829c-7de6fd98e213",
   "metadata": {},
   "outputs": [],
   "source": []
  }
 ],
 "metadata": {
  "kernelspec": {
   "display_name": "Python 3 (ipykernel)",
   "language": "python",
   "name": "python3"
  },
  "language_info": {
   "codemirror_mode": {
    "name": "ipython",
    "version": 3
   },
   "file_extension": ".py",
   "mimetype": "text/x-python",
   "name": "python",
   "nbconvert_exporter": "python",
   "pygments_lexer": "ipython3",
   "version": "3.9.16"
  }
 },
 "nbformat": 4,
 "nbformat_minor": 5
}

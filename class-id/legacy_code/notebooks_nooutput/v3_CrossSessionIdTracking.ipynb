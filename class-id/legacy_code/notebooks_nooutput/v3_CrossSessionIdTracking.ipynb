{
 "cells": [
  {
   "cell_type": "code",
   "execution_count": null,
   "id": "13f1bf94-25d4-4ed1-bddd-bc3309763692",
   "metadata": {},
   "outputs": [],
   "source": [
    "import numpy as np\n",
    "import pandas as pd\n",
    "import scipy.stats\n",
    "\n",
    "pd.options.mode.chained_assignment = None\n",
    "from matplotlib import pyplot as plt, rcParams\n",
    "# import cv2\n",
    "import seaborn as sns\n",
    "\n",
    "sns.set(style=\"white\", context=\"paper\")\n",
    "from cycler import cycler\n",
    "import os, sys\n",
    "import glob\n",
    "from datetime import datetime, timedelta\n",
    "from itertools import combinations, product\n",
    "import base64\n",
    "from PIL import Image\n",
    "from io import BytesIO as _BytesIO\n",
    "import requests\n",
    "import json\n",
    "import pickle\n",
    "from datetime import datetime\n",
    "from IPython.display import display, Markdown, Latex\n",
    "from sklearn.metrics import *\n",
    "import collections\n",
    "from copy import deepcopy\n",
    "import traceback\n",
    "from sympy import Point, Polygon\n",
    "from decorators import *\n",
    "from smartprint import smartprint as sprint\n",
    "from scipy.spatial.distance import cdist\n",
    "# import plotly\n",
    "# from pandas_profiling import ProfileReport\n",
    "\n",
    "pd.options.display.max_columns = None\n",
    "def printm(s): return display(Markdown(s))\n",
    "    \n",
    "SERVER_CACHE_DIR = '/mnt/ci-nas-cache/edulyzeV2/cache_compute_4/fixed_face'\n",
    "os.makedirs(SERVER_CACHE_DIR,exist_ok=True)\n",
    "\n",
    "track_analysis_meta_cache = f'{SERVER_CACHE_DIR}/analysis_tracking/meta_info'\n",
    "base_dir = '/mnt/ci-nas-cache/edulyzeV2/pose_face_gaze_emb_fixed_face/'\n",
    "\n",
    "track_analysis_session_data = f'{SERVER_CACHE_DIR}/analysis_tracking/session_tracking_info'\n",
    "os.makedirs(track_analysis_session_data,exist_ok=True)\n",
    "\n",
    "postprocessed_id_map_data_dir = f'{SERVER_CACHE_DIR}/analysis_tracking/processed_id_maps'\n",
    "os.makedirs(postprocessed_id_map_data_dir, exist_ok=True)\n",
    "\n",
    "emb_analysis_session_data = f'{SERVER_CACHE_DIR}/analysis_emb/session_emb_info_new'\n",
    "os.makedirs(emb_analysis_session_data,exist_ok=True)\n",
    "\n",
    "embmatched_id_raw_data_dir = f'{SERVER_CACHE_DIR}/analysis_emb/embmatched_id_raw'\n",
    "os.makedirs(embmatched_id_raw_data_dir,exist_ok=True)\n",
    "\n",
    "embmatched_id_map_data_dir = f'{SERVER_CACHE_DIR}/analysis_tracking/embmatched_id_maps'\n",
    "os.makedirs(embmatched_id_map_data_dir, exist_ok=True)\n",
    "\n",
    "in_session_median_embeddings_data_dir = f'{SERVER_CACHE_DIR}/analysis_tracking/in_session_median_embeddings'\n",
    "os.makedirs(in_session_median_embeddings_data_dir, exist_ok=True)\n",
    "\n",
    "in_session_cluster_embeddings_data_dir = f'{SERVER_CACHE_DIR}/analysis_tracking/in_session_cluster_embeddings'\n",
    "os.makedirs(in_session_cluster_embeddings_data_dir, exist_ok=True)\n",
    "\n",
    "id_viz_cache_root = f'{SERVER_CACHE_DIR}/analysis_tracking/session_matching_info'\n",
    "os.makedirs(id_viz_cache_root, exist_ok=True)\n"
   ]
  },
  {
   "cell_type": "code",
   "execution_count": null,
   "id": "952b2f7f-0ea6-447c-a9a6-dfd498c42f14",
   "metadata": {
    "editable": true,
    "slideshow": {
     "slide_type": ""
    },
    "tags": []
   },
   "outputs": [],
   "source": [
    "sessionA = 'classinsight-cmu_05748A_ghc_4101_201902141630'\n",
    "sessionB = 'classinsight-cmu_05748A_ghc_4101_201902281630'\n",
    "course = '05748A'\n"
   ]
  },
  {
   "cell_type": "code",
   "execution_count": null,
   "id": "175722ec-8f9f-4b40-85a8-d41ad38e787b",
   "metadata": {},
   "outputs": [],
   "source": [
    "sessionA_frame_dir = f'{base_dir}/{course}/{sessionA}-front'\n",
    "sessionB_frame_dir = f'{base_dir}/{course}/{sessionB}-front'\n"
   ]
  },
  {
   "cell_type": "markdown",
   "id": "75185159-ce0e-439f-b41d-fba37829e865",
   "metadata": {},
   "source": [
    "## Get frame file data for all sessions"
   ]
  },
  {
   "cell_type": "code",
   "execution_count": null,
   "id": "61657d24-cddc-4722-bbde-b99313f4c2e6",
   "metadata": {
    "scrolled": true
   },
   "outputs": [],
   "source": [
    "\n",
    "frame_file_data = {}\n",
    "for course_idx, course_dir in enumerate(glob.glob(f\"{base_dir}/*\")):\n",
    "    course_name = course_dir.split(\"/\")[-1]\n",
    "    course_cache_file = f\"{track_analysis_meta_cache}/{course_name}\"\n",
    "    if os.path.exists(course_cache_file):\n",
    "        frame_file_data[course_name] = pickle.load(open(course_cache_file,\"rb\"))\n",
    "        continue\n",
    "    frame_file_data[course_name]={}\n",
    "        \n",
    "    for session_idx, session_dir in enumerate(glob.glob(f\"{course_dir}/*\")):\n",
    "        session_name = session_dir.split(\"/\")[-1]\n",
    "        frame_file_data[course_name][session_name] = {}\n",
    "        frame_files = glob.glob(f\"{session_dir}/*\")\n",
    "        frame_file_names = [xr.split(\"/\")[-1] for xr in frame_files]\n",
    "        if 'end.pb' in frame_file_names:\n",
    "            frame_file_data[course_name][session_name]['is_completed']=True\n",
    "        else:\n",
    "            frame_file_data[course_name][session_name]['is_completed']=False            \n",
    "        frame_ids = [int(xr.split(\".\")[0]) for xr in frame_file_names if not (xr=='end.pb')]\n",
    "        frame_file_data[course_name][session_name]['frame_ids'] = sorted(frame_ids)\n",
    "        frame_file_data[course_name][session_name]['dir_location'] = session_dir\n",
    "        print(f\"Got metadata for course: {course_idx}-{course_name}, session:{session_idx}-{session_name}\")\n",
    "    pickle.dump(frame_file_data[course_name],open(course_cache_file,\"wb\")) \n",
    "        \n",
    "frame_file_data.keys()\n"
   ]
  },
  {
   "cell_type": "markdown",
   "id": "b6410b40-d069-4aab-9000-36e08b0a0763",
   "metadata": {},
   "source": [
    "## Get embedding and gaze information for all frames for all sessions (Run if needed, commented out for now)?"
   ]
  },
  {
   "cell_type": "code",
   "execution_count": null,
   "id": "2ca4f642-5dba-46a2-a1e7-302c226a1c0d",
   "metadata": {},
   "outputs": [],
   "source": [
    "sessionA_emb_info = pickle.load(open(f'{emb_analysis_session_data}/{sessionA}-front.pb','rb'))\n",
    "sessionB_emb_info = pickle.load(open(f'{emb_analysis_session_data}/{sessionB}-front.pb','rb'))\n",
    "\n",
    "sessionA_id_map = pickle.load(open(f\"{postprocessed_id_map_data_dir}/{sessionA}-front.pb\",\"rb\"))\n",
    "sessionB_id_map = pickle.load(open(f\"{postprocessed_id_map_data_dir}/{sessionB}-front.pb\",\"rb\"))\n",
    "\n",
    "df_sessionA_eligible_pairs = pd.read_csv(f\"{embmatched_id_map_data_dir}/{sessionA}-front.csv\")\n",
    "df_sessionB_eligible_pairs = pd.read_csv(f\"{embmatched_id_map_data_dir}/{sessionB}-front.csv\")\n",
    "\n",
    "sessionA_video_file = f'/mnt/ci-nas-classes/classinsight/2019S/video_backup/{sessionA}/{sessionA}-front.avi'\n",
    "sessionB_video_file = f'/mnt/ci-nas-classes/classinsight/2019S/video_backup/{sessionB}/{sessionB}-front.avi'\n"
   ]
  },
  {
   "cell_type": "markdown",
   "id": "4dc4d4f6-26fd-4fcb-a363-2e0aa4e101d8",
   "metadata": {},
   "source": [
    "## Replace raw ids with mapped ids after postprocessing for both sessions"
   ]
  },
  {
   "cell_type": "code",
   "execution_count": null,
   "id": "003a4f0e-a807-48bd-86c6-ba4f30ffe5b2",
   "metadata": {},
   "outputs": [],
   "source": [
    "sessionA_emb_info = {\n",
    "    xr:{\n",
    "        sessionA_id_map[yr]:sessionA_emb_info[xr][yr] \n",
    "            for yr in sessionA_emb_info[xr] if not (sessionA_id_map[yr]==10000)} for xr in sessionA_emb_info}\n"
   ]
  },
  {
   "cell_type": "code",
   "execution_count": null,
   "id": "4ddb7c7b-94bf-4a4d-b88f-dfe9ea82fa89",
   "metadata": {},
   "outputs": [],
   "source": [
    "sessionB_emb_info = {\n",
    "    xr:{\n",
    "        sessionB_id_map[yr]:sessionB_emb_info[xr][yr] \n",
    "            for yr in sessionB_emb_info[xr] if not (sessionB_id_map[yr]==10000)} for xr in sessionB_emb_info}\n"
   ]
  },
  {
   "cell_type": "code",
   "execution_count": null,
   "id": "25ccb10c-ac3c-4356-991f-2db149d69fcc",
   "metadata": {},
   "outputs": [],
   "source": [
    "len(sessionA_emb_info.keys()), len(sessionB_emb_info.keys())\n"
   ]
  },
  {
   "cell_type": "markdown",
   "id": "357f9cda-f164-4899-b296-5c55e0d36377",
   "metadata": {},
   "source": [
    "# Correct new ids with dict from eligible pairs"
   ]
  },
  {
   "cell_type": "code",
   "execution_count": null,
   "id": "efbaf10c-6148-4473-b6ca-b8232e3fbd9c",
   "metadata": {},
   "outputs": [],
   "source": [
    "eligible_id_map_dictA = {}\n",
    "for id_pair in df_sessionA_eligible_pairs.id_pair.values:\n",
    "    (id1, id2) = eval(id_pair)\n",
    "    print(id1, id2)\n",
    "    if id2 in eligible_id_map_dictA:\n",
    "        eligible_id_map_dictA[id1] = eligible_id_map_dictA[id2]\n",
    "    else:\n",
    "        eligible_id_map_dictA[id2] = id1\n",
    "\n",
    "eligible_id_map_dictB = {}\n",
    "for id_pair in df_sessionB_eligible_pairs.id_pair.values:\n",
    "    (id1, id2) = eval(id_pair)\n",
    "    if id2 in eligible_id_map_dictB:\n",
    "        eligible_id_map_dictB[id1] = eligible_id_map_dictB[id2]\n",
    "    else:\n",
    "        eligible_id_map_dictB[id2] = id1\n",
    "sprint(eligible_id_map_dictA)\n",
    "sprint(eligible_id_map_dictB)\n"
   ]
  },
  {
   "cell_type": "code",
   "execution_count": null,
   "id": "ae92502d-b262-4c1e-8ccf-75a8350c8fd5",
   "metadata": {},
   "outputs": [],
   "source": [
    "df_sessionA_eligible_pairs\n"
   ]
  },
  {
   "cell_type": "code",
   "execution_count": null,
   "id": "6a2d1f48-4c32-4dda-88e1-ca29fbc4c4aa",
   "metadata": {},
   "outputs": [],
   "source": [
    "df_sessionB_eligible_pairs\n"
   ]
  },
  {
   "cell_type": "code",
   "execution_count": null,
   "id": "54515324-44a2-40e1-a4ed-06a07b65041e",
   "metadata": {},
   "outputs": [],
   "source": [
    "eval(df_sessionA_eligible_pairs.id_pair.values[0])\n"
   ]
  },
  {
   "cell_type": "code",
   "execution_count": null,
   "id": "f03202d1-f1e8-4129-8805-713f4aefbc57",
   "metadata": {},
   "outputs": [],
   "source": [
    "# arrange info as per tracking id across both sessions\n",
    "# pitch, roll, yaw= sessionA_emb_info[0][9]['rvec'][0]\n",
    "gaze_infoA = {}\n",
    "emb_infoA = {}\n",
    "bbox_infoA = {}\n",
    "for frame_number in sessionA_emb_info:\n",
    "    for trackId_old in sessionA_emb_info[frame_number]:\n",
    "        trackId = trackId_old if (trackId_old not in eligible_id_map_dictA.keys()) else eligible_id_map_dictA[trackId_old]\n",
    "        if trackId not in gaze_infoA:\n",
    "            gaze_infoA[trackId] = []\n",
    "            emb_infoA[trackId]=[]\n",
    "            bbox_infoA[trackId] = []\n",
    "        # get  gaze info\n",
    "        try:\n",
    "            id_bbox = sessionA_emb_info[frame_number][trackId]['bbox']\n",
    "            bbox_infoA[trackId].append([frame_number]+list(id_bbox))\n",
    "            pitch, roll, yaw= sessionA_emb_info[frame_number][trackId]['rvec'][0]\n",
    "            pitch, roll, yaw=np.rad2deg(pitch), np.rad2deg(roll), np.rad2deg(yaw)\n",
    "            gaze_sx, gaze_sy, gaze_ex, gaze_ey = sessionA_emb_info[frame_number][trackId]['gaze_2d'][0].flatten()\n",
    "            gaze_infoA[trackId].append([frame_number, pitch, roll, yaw, gaze_sx, gaze_sy, gaze_ex, gaze_ey])\n",
    "            face_emb = sessionA_emb_info[frame_number][trackId]['face_embedding'].tolist()\n",
    "            emb_infoA[trackId].append([frame_number]+face_emb)\n",
    "        except:\n",
    "            continue\n",
    "\n",
    "for id in gaze_infoA:\n",
    "    gaze_infoA[id] = pd.DataFrame(gaze_infoA[id], columns=['frame','pitch','roll','yaw','gaze_sx', 'gaze_sy', 'gaze_ex', 'gaze_ey']).set_index('frame')\n",
    "    emb_infoA[id] =pd.DataFrame(emb_infoA[id], columns=['frame']+np.arange(512).tolist()).set_index('frame')\n",
    "    bbox_infoA[id] = pd.DataFrame(bbox_infoA[id], columns=['frame']+np.arange(5).tolist()).set_index('frame')\n",
    "\n",
    "gaze_infoB = {}\n",
    "emb_infoB = {}\n",
    "bbox_infoB = {}\n",
    "for frame_number in sessionB_emb_info:\n",
    "    for trackId_old in sessionB_emb_info[frame_number]:\n",
    "        trackId = trackId_old if (trackId_old not in eligible_id_map_dictB.keys()) else eligible_id_map_dictB[trackId_old]\n",
    "        if trackId not in gaze_infoB:\n",
    "            gaze_infoB[trackId] = []\n",
    "            emb_infoB[trackId]=[]\n",
    "            bbox_infoB[trackId] = []\n",
    "        # get  gaze info\n",
    "        try:\n",
    "            id_bbox = sessionB_emb_info[frame_number][trackId]['bbox']\n",
    "            bbox_infoB[trackId].append([frame_number]+list(id_bbox))\n",
    "            pitch, roll, yaw= sessionB_emb_info[frame_number][trackId]['rvec'][0]    \n",
    "            gaze_sx, gaze_sy, gaze_ex, gaze_ey = sessionB_emb_info[frame_number][trackId]['gaze_2d'][0].flatten()\n",
    "            pitch, roll, yaw=np.rad2deg(pitch), np.rad2deg(roll), np.rad2deg(yaw)\n",
    "            gaze_infoB[trackId].append([frame_number, pitch, roll, yaw, gaze_sx, gaze_sy, gaze_ex, gaze_ey])\n",
    "            face_emb = sessionB_emb_info[frame_number][trackId]['face_embedding'].tolist()\n",
    "            emb_infoB[trackId].append([frame_number]+face_emb)\n",
    "        except:\n",
    "            continue\n",
    "\n",
    "\n",
    "for id in gaze_infoB:\n",
    "    gaze_infoB[id] = pd.DataFrame(gaze_infoB[id], columns=['frame','pitch','roll','yaw','gaze_sx', 'gaze_sy', 'gaze_ex', 'gaze_ey']).set_index('frame')\n",
    "    emb_infoB[id] =pd.DataFrame(emb_infoB[id], columns=['frame']+np.arange(512).tolist()).set_index('frame')\n",
    "    bbox_infoB[id] = pd.DataFrame(bbox_infoB[id], columns=['frame']+np.arange(5).tolist()).set_index('frame')\n",
    "\n",
    "len(gaze_infoA.keys()), len(gaze_infoB.keys())\n"
   ]
  },
  {
   "cell_type": "code",
   "execution_count": null,
   "id": "c296f535-9459-42c5-a022-eb2a430e51be",
   "metadata": {
    "scrolled": true
   },
   "outputs": [],
   "source": [
    "sprint({xr:(gaze_infoA[xr].shape[0],emb_infoA[xr].shape[0], bbox_infoA[xr].shape[0]) for xr in emb_infoA})\n"
   ]
  },
  {
   "cell_type": "code",
   "execution_count": null,
   "id": "1078bcdf-4d5c-4db2-9cdd-75fdd3170a9b",
   "metadata": {
    "scrolled": true
   },
   "outputs": [],
   "source": [
    "sprint({xr:(gaze_infoB[xr].shape[0],emb_infoB[xr].shape[0], bbox_infoB[xr].shape[0]) for xr in emb_infoB})\n"
   ]
  },
  {
   "cell_type": "markdown",
   "id": "dd89c298-7bd1-425c-9906-8aba05c6745d",
   "metadata": {},
   "source": [
    "# Ground truth for id matching"
   ]
  },
  {
   "cell_type": "code",
   "execution_count": null,
   "id": "e261caf0-6753-471d-850a-2328bf373dbd",
   "metadata": {},
   "outputs": [],
   "source": [
    "sprint(eligible_id_map_dictA)\n",
    "sprint(eligible_id_map_dictB)\n"
   ]
  },
  {
   "cell_type": "code",
   "execution_count": null,
   "id": "07a7396b-523d-451d-a285-802b8507a38f",
   "metadata": {},
   "outputs": [],
   "source": [
    "gt_str_new = '''\n",
    "3,12\n",
    "11,17\n",
    "5,10\n",
    "5,2\n",
    "9,9\n",
    "1,0\n",
    "6,8\n",
    "4,8\n",
    "14,1\n",
    "16,6\n",
    "21,4\n",
    "7,2\n",
    "0,5\n",
    "-1,20\n",
    "13,3\n",
    "10,7\n",
    "19,14\n",
    "19,11\n",
    "15,-1\n",
    "2,-1\n",
    "8,-1\n",
    "-1,16\n",
    "-1,18\n",
    "'''\n"
   ]
  },
  {
   "cell_type": "code",
   "execution_count": null,
   "id": "e9ed4faf-58b1-45d4-9788-8309e734a1ff",
   "metadata": {},
   "outputs": [],
   "source": [
    "gt_arr = gt_str.split(\"\\n\")[1:-1]\n",
    "gt_arr = [xr.split(\",\") for xr in gt_arr]\n",
    "df_gt = pd.DataFrame(gt_arr, columns=[sessionA,sessionB])\n",
    "gt_map = df_gt.groupby(sessionA).agg({sessionB:lambda x: list(x)})[sessionB].to_dict()\n",
    "gt_map\n"
   ]
  },
  {
   "cell_type": "markdown",
   "id": "cc3950ac-b41f-4c66-80a5-a280e3a41e51",
   "metadata": {},
   "source": [
    "# Clean Implementation 1: Using k% gaze filtering and median embeddings for matching"
   ]
  },
  {
   "cell_type": "code",
   "execution_count": null,
   "id": "071ccfea-5d08-4a18-b774-a96cbee335fd",
   "metadata": {},
   "outputs": [],
   "source": [
    "MAX_GAZE_DEVIATION_DEG = 30\n",
    "# MAX_EMBEDDING_FRAMES = 1000\n",
    "MIN_EMBEDDING_FRAMES = 100\n"
   ]
  },
  {
   "cell_type": "code",
   "execution_count": null,
   "id": "d5a2abf6-c072-4b31-b8b4-4cdef858b15f",
   "metadata": {
    "scrolled": true
   },
   "outputs": [],
   "source": [
    "match_scores = {}\n",
    "match_info = {}\n",
    "np.random.seed(42)\n",
    "for idA,idB in product(emb_infoA.keys(), emb_infoB.keys()):\n",
    "    #filter correct frames\n",
    "    framesA = gaze_infoA[idA][\n",
    "        (gaze_infoA[idA].yaw.abs()<MAX_GAZE_DEVIATION_DEG) & \n",
    "        (gaze_infoA[idA].pitch.abs()<MAX_GAZE_DEVIATION_DEG) & \n",
    "        (gaze_infoA[idA].roll.abs()<MAX_GAZE_DEVIATION_DEG)].index.values\n",
    "    framesB = gaze_infoB[idB][\n",
    "        (gaze_infoB[idB].yaw.abs()<MAX_GAZE_DEVIATION_DEG) &\n",
    "        (gaze_infoB[idB].pitch.abs()<MAX_GAZE_DEVIATION_DEG) &\n",
    "        (gaze_infoB[idB].roll.abs()<MAX_GAZE_DEVIATION_DEG)].index.values\n",
    "\n",
    "    num_framesA, num_framesB = len(framesA), len(framesB)\n",
    "    if (num_framesA<MIN_EMBEDDING_FRAMES) | (num_framesB <MIN_EMBEDDING_FRAMES):\n",
    "        sprint(f\"Not sufficient frames to match {idA}:{len(framesA)},{idB}:{len(framesB)}\")\n",
    "        continue\n",
    "    \n",
    "    # select_framesA  =  np.random.choice(framesA, MAX_EMBEDDING_FRAMES) if (num_framesA > MAX_EMBEDDING_FRAMES) else  framesA\n",
    "    # select_framesB  =  np.random.choice(framesB, MAX_EMBEDDING_FRAMES) if (num_framesB > MAX_EMBEDDING_FRAMES) else  framesB\n",
    "\n",
    "    #get id embeddings\n",
    "    \n",
    "    medianA_emb = np.median(emb_infoA[idA].loc[framesA],axis=0)\n",
    "    medianB_emb = np.median(emb_infoB[idB].loc[framesB],axis=0)\n",
    "    match_distance = cdist(medianA_emb.reshape(1,-1), medianB_emb.reshape(1,-1))[0][0]\n",
    "    if idA not in match_scores:\n",
    "        match_scores[idA] = {}\n",
    "        match_info[idA] = {}\n",
    "    match_scores[idA][idB] = match_distance\n",
    "    match_info[idA][idB] = dict(match_score=match_distance, framesA=framesA, framesB=framesB)\n",
    "    sprint(idA, idB, match_distance)\n",
    "    \n",
    "    \n",
    "    \n",
    "    "
   ]
  },
  {
   "cell_type": "code",
   "execution_count": null,
   "id": "10828a76-7d69-41cc-802f-937e10cda191",
   "metadata": {},
   "outputs": [],
   "source": [
    "df_matching_methodA = pd.DataFrame(match_scores)\n",
    "df_matching_methodA.shape\n"
   ]
  },
  {
   "cell_type": "code",
   "execution_count": null,
   "id": "c4861dbf-ae9e-41dc-b66d-af7250bc832b",
   "metadata": {
    "scrolled": true
   },
   "outputs": [],
   "source": [
    "df_matching_methodA\n"
   ]
  },
  {
   "cell_type": "code",
   "execution_count": null,
   "id": "fc9edac1-f74c-4d98-83ea-74863bec0430",
   "metadata": {},
   "outputs": [],
   "source": [
    "from matplotlib.patches import Rectangle\n",
    "fig, axn = plt.subplots(1,1,figsize=(20,10))\n",
    "sns.heatmap(df_matching_methodA.round(2), annot=True,ax=axn,cmap='bone_r')\n",
    "# for gtA in map(int, gt_map):\n",
    "#     for gtB in map(int, gt_map[str(gtA)]):\n",
    "#         if (gtA>=0) and (gtB>=0):\n",
    "#             if (gtA in df_matching_methodA.columns) and (gtB in df_matching_methodA.index):\n",
    "#                 locA, locB = df_matching_methodA.columns.get_loc(gtA), df_matching_methodA.index.get_loc(gtB)\n",
    "#                 axn.add_patch(Rectangle((locA, locB), 1, 1, fill=False, edgecolor='red', lw=4))\n",
    "\n",
    "for locA in range(df_matching_methodA.shape[1]):\n",
    "    locBs = df_matching_methodA.iloc[:,locA].argsort()[:2]\n",
    "    for locB in locBs:\n",
    "        axn.add_patch(Rectangle((locA, locB), 1, 1, fill=False, edgecolor='blue', lw=1))\n",
    "\n",
    "# 5, 11, 12, 12 \n",
    "# absent: 5 out of 20 (how??)\n",
    "# \n",
    "axn.set_xlabel(f\"Session A: {sessionA}\",fontsize=16)\n",
    "axn.set_ylabel(f\"Session B: {sessionB}\",fontsize=16)\n",
    "plt.savefig(f'plots/Method1_{course}_{sessionA.split(\"_\")[-1]}_{sessionB.split(\"_\")[-1]}.png',dpi=400,bbox_inches='tight')\n"
   ]
  },
  {
   "cell_type": "markdown",
   "id": "a07ff648-d41e-4899-aa3d-b735035c9a18",
   "metadata": {
    "jp-MarkdownHeadingCollapsed": true
   },
   "source": [
    "# Method 2:Get distance between all pairs and get median distance across all pairs. "
   ]
  },
  {
   "cell_type": "code",
   "execution_count": null,
   "id": "430594a9-7557-4592-acce-1abae0919d56",
   "metadata": {},
   "outputs": [],
   "source": [
    "MAX_GAZE_DEVIATION_DEG = 30 # for basic filtering of very random gaze\n",
    "MAX_EMBEDDING_FRAMES = 1000\n",
    "MIN_EMBEDDING_FRAMES = 100\n"
   ]
  },
  {
   "cell_type": "code",
   "execution_count": null,
   "id": "720628bb-c168-44ad-af10-e8439fbab885",
   "metadata": {},
   "outputs": [],
   "source": [
    "match_scores = {}\n",
    "for idA in matching_info_dictB:\n",
    "    match_scores[idA] = {}\n",
    "    for idB in matching_info_dictB[idA]:\n",
    "        match_matrix = matching_info_dictB[idA][idB]['match_matrix']\n",
    "        match_distance = np.median(np.median(match_matrix,axis=1))\n",
    "        match_scores[idA][idB] = match_distance\n",
    "\n",
    "df_matching = pd.DataFrame(match_scores)\n",
    "\n",
    "#--------\n",
    "fig, axn = plt.subplots(1,1,figsize=(20,10))\n",
    "sns.heatmap(df_matching.round(2), annot=True,ax=axn,cmap='bone_r')\n",
    "for gtA in map(int, gt_map):\n",
    "    for gtB in map(int, gt_map[str(gtA)]):\n",
    "        if (gtA>=0) and (gtB>=0):\n",
    "            if (gtA in df_matching.columns) and (gtB in df_matching.index):\n",
    "                locA, locB = df_matching.columns.get_loc(gtA), df_matching.index.get_loc(gtB)\n",
    "                axn.add_patch(Rectangle((locA, locB), 1, 1, fill=False, edgecolor='red', lw=4))\n",
    "\n",
    "for locA in range(df_matching.shape[1]):\n",
    "    locBs = df_matching.iloc[:,locA].argsort()[:3]\n",
    "    for locB in locBs:\n",
    "        axn.add_patch(Rectangle((locA, locB), 1, 1, fill=False, edgecolor='blue', lw=1))\n",
    "\n",
    "\n",
    "axn.set_xlabel(f\"Session A: {sessionA}\",fontsize=16)\n",
    "axn.set_ylabel(f\"Session B: {sessionB}\",fontsize=16)\n",
    "plt.savefig(f'plots/Method2b_{course}_{sessionA.split(\"_\")[-1]}_{sessionB.split(\"_\")[-1]}.png',dpi=400,bbox_inches='tight')\n"
   ]
  },
  {
   "cell_type": "markdown",
   "id": "195efc5b-0b56-440b-9166-e13697fc62f1",
   "metadata": {},
   "source": [
    "# Method 3: Use spectral clustering to get clean set of embeddings, calculate their centroid, and then evaluate distance"
   ]
  },
  {
   "cell_type": "code",
   "execution_count": null,
   "id": "e866dcca-50c6-456e-a823-47af5b510a9c",
   "metadata": {},
   "outputs": [],
   "source": [
    "from sklearn.cluster import DBSCAN\n",
    "EPS = 0.4\n",
    "MIN_PTS = 100\n"
   ]
  },
  {
   "cell_type": "code",
   "execution_count": null,
   "id": "7c7eaad0-e3b3-463c-8852-7d1d8f6ad75e",
   "metadata": {},
   "outputs": [],
   "source": [
    "\n",
    "np.random.seed(42)\n",
    "clustered_median_embA = {}\n",
    "for idA in emb_infoA:\n",
    "    emb_cluA = DBSCAN(min_samples=MIN_PTS, eps=EPS)\n",
    "    emb_cluA.fit(emb_infoA[idA].values)\n",
    "    if max(emb_cluA.labels_)<0:\n",
    "        sprint(f\"All frames are outliers, not proceeding with id {idA}\")\n",
    "        continue\n",
    "    best_cluster_id = pd.Series(emb_cluA.labels_[emb_cluA.labels_>=0]).value_counts().index[0]\n",
    "    framesA = emb_infoA[idA].iloc[emb_cluA.labels_==best_cluster_id].index.values\n",
    "    clustered_median_embA[idA] = np.median(emb_infoA[idA].loc[framesA],axis=0)\n",
    "    \n",
    "clustered_median_embB = {}\n",
    "for idB in emb_infoB:\n",
    "    emb_cluB = DBSCAN(min_samples=MIN_PTS, eps=EPS)\n",
    "    emb_cluB.fit(emb_infoB[idB].values)\n",
    "    if max(emb_cluB.labels_)<0:\n",
    "        sprint(f\"All frames are outliers, not proceeding with id {idB}\")\n",
    "        continue\n",
    "    best_cluster_id = pd.Series(emb_cluB.labels_[emb_cluB.labels_>=0]).value_counts().index[0]\n",
    "    framesB = emb_infoB[idB].iloc[emb_cluB.labels_==best_cluster_id].index.values\n",
    "    clustered_median_embB[idB] = np.median(emb_infoB[idB].loc[framesB],axis=0)\n",
    "    "
   ]
  },
  {
   "cell_type": "code",
   "execution_count": null,
   "id": "feb750c6-cd68-4303-aeb5-a8b78d99079a",
   "metadata": {},
   "outputs": [],
   "source": [
    "match_scores = {}\n",
    "match_info3 = {}\n",
    "for idA in clustered_median_embA:\n",
    "    match_scores[idA] = {}\n",
    "    for idB in clustered_median_embB:\n",
    "        match_scores[idA][idB] = cdist(clustered_median_embA[idA].reshape(1,-1), clustered_median_embB[idB].reshape(1,-1))[0][0]\n",
    "        \n",
    "df_matching_methodC = pd.DataFrame(match_scores)\n",
    "df_matching_methodC.shape    \n"
   ]
  },
  {
   "cell_type": "code",
   "execution_count": null,
   "id": "ea00bd76-1204-46cf-97f3-1a1ff5f8a88a",
   "metadata": {},
   "outputs": [],
   "source": [
    "from matplotlib.patches import Rectangle\n",
    "fig, axn = plt.subplots(1,1,figsize=(20,10))\n",
    "sns.heatmap(df_matching_methodC.round(2), annot=True,ax=axn,cmap='bone_r')\n",
    "for gtA in map(int, gt_map):\n",
    "    for gtB in map(int, gt_map[str(gtA)]):\n",
    "        if (gtA>=0) and (gtB>=0):\n",
    "            if (gtA in df_matching_methodC.columns) and (gtB in df_matching_methodC.index):\n",
    "                locA, locB = df_matching_methodC.columns.get_loc(gtA), df_matching_methodC.index.get_loc(gtB)\n",
    "                axn.add_patch(Rectangle((locA, locB), 1, 1, fill=False, edgecolor='red', lw=4))\n",
    "\n",
    "for locA in range(df_matching_methodC.shape[1]):\n",
    "    locBs = df_matching_methodC.iloc[:,locA].argsort()[:4]\n",
    "    for locB in locBs:\n",
    "        axn.add_patch(Rectangle((locA, locB), 1, 1, fill=False, edgecolor='blue', lw=1))\n",
    "\n",
    "# 4, 8, 10, 11 ...  \n",
    "# absent: 5 out of 20 (how??)\n",
    "# \n",
    "\n",
    "axn.set_xlabel(f\"Session A: {sessionA}\",fontsize=16)\n",
    "axn.set_ylabel(f\"Session B: {sessionB}\",fontsize=16)\n",
    "plt.savefig(f'plots/Method3_{course}_{sessionA.split(\"_\")[-1]}_{sessionB.split(\"_\")[-1]}.png',dpi=400,bbox_inches='tight')\n"
   ]
  },
  {
   "cell_type": "code",
   "execution_count": null,
   "id": "c265f50e-9b12-416b-8510-912573853c17",
   "metadata": {},
   "outputs": [],
   "source": []
  }
 ],
 "metadata": {
  "kernelspec": {
   "display_name": "Python 3 (ipykernel)",
   "language": "python",
   "name": "python3"
  },
  "language_info": {
   "codemirror_mode": {
    "name": "ipython",
    "version": 3
   },
   "file_extension": ".py",
   "mimetype": "text/x-python",
   "name": "python",
   "nbconvert_exporter": "python",
   "pygments_lexer": "ipython3",
   "version": "3.9.16"
  }
 },
 "nbformat": 4,
 "nbformat_minor": 5
}

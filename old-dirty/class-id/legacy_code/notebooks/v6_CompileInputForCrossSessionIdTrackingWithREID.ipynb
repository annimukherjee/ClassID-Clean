{
 "cells": [
  {
   "cell_type": "code",
   "execution_count": 1,
   "id": "13f1bf94-25d4-4ed1-bddd-bc3309763692",
   "metadata": {},
   "outputs": [],
   "source": [
    "import numpy as np\n",
    "import pandas as pd\n",
    "import scipy.stats\n",
    "\n",
    "pd.options.mode.chained_assignment = None\n",
    "from matplotlib import pyplot as plt, rcParams\n",
    "# import cv2\n",
    "import seaborn as sns\n",
    "\n",
    "sns.set(style=\"white\", context=\"paper\")\n",
    "from cycler import cycler\n",
    "import os, sys\n",
    "import glob\n",
    "from datetime import datetime, timedelta\n",
    "from itertools import combinations, product\n",
    "import base64\n",
    "from PIL import Image\n",
    "from io import BytesIO as _BytesIO\n",
    "import requests\n",
    "import json\n",
    "import pickle\n",
    "from datetime import datetime\n",
    "from IPython.display import display, Markdown, Latex\n",
    "from sklearn.metrics import *\n",
    "import collections\n",
    "from copy import deepcopy\n",
    "import traceback\n",
    "from sympy import Point, Polygon\n",
    "from decorators import *\n",
    "from smartprint import smartprint as sprint\n",
    "from scipy.spatial.distance import cdist\n",
    "from sklearn.cluster import DBSCAN\n",
    "# import plotly\n",
    "# from pandas_profiling import ProfileReport\n",
    "\n",
    "pd.options.display.max_columns = None\n",
    "def printm(s): return display(Markdown(s))\n",
    "    \n",
    "SERVER_CACHE_DIR = '/mnt/ci-nas-cache/edulyzeV2/cache_compute_4/fixed_face'\n",
    "os.makedirs(SERVER_CACHE_DIR,exist_ok=True)\n",
    "\n",
    "track_analysis_meta_cache = f'{SERVER_CACHE_DIR}/analysis_tracking/meta_info'\n",
    "base_dir = '/mnt/ci-nas-cache/edulyzeV2/pose_face_gaze_emb_fixed_face/'\n",
    "\n",
    "track_analysis_session_data = f'{SERVER_CACHE_DIR}/analysis_tracking/session_tracking_info'\n",
    "os.makedirs(track_analysis_session_data,exist_ok=True)\n",
    "\n",
    "postprocessed_id_map_data_dir = f'{SERVER_CACHE_DIR}/analysis_tracking/processed_id_maps'\n",
    "os.makedirs(postprocessed_id_map_data_dir, exist_ok=True)\n",
    "\n",
    "emb_analysis_session_data = f'{SERVER_CACHE_DIR}/analysis_emb/session_emb_info_new'\n",
    "os.makedirs(emb_analysis_session_data,exist_ok=True)\n",
    "\n",
    "reid_analysis_session_data = f'{SERVER_CACHE_DIR}/analysis_emb/session_reid_info'\n",
    "os.makedirs(reid_analysis_session_data,exist_ok=True)\n",
    "\n",
    "\n",
    "embmatched_id_raw_data_dir = f'{SERVER_CACHE_DIR}/analysis_emb/embmatched_id_raw'\n",
    "os.makedirs(embmatched_id_raw_data_dir,exist_ok=True)\n",
    "\n",
    "embmatched_id_map_data_dir = f'{SERVER_CACHE_DIR}/analysis_tracking/embmatched_id_maps_new'\n",
    "os.makedirs(embmatched_id_map_data_dir, exist_ok=True)\n",
    "\n",
    "cross_session_input_data_dir = f'{SERVER_CACHE_DIR}/analysis_emb/cross_session_input'\n",
    "os.makedirs(cross_session_input_data_dir, exist_ok=True)\n",
    "\n",
    "reid_cross_session_input_data_dir = f'{SERVER_CACHE_DIR}/analysis_emb/reid_cross_session_input'\n",
    "os.makedirs(reid_cross_session_input_data_dir, exist_ok=True)\n",
    "\n",
    "id_viz_cache_root = f'{SERVER_CACHE_DIR}/analysis_emb/session_matching_info'\n",
    "os.makedirs(id_viz_cache_root, exist_ok=True)"
   ]
  },
  {
   "cell_type": "markdown",
   "id": "75185159-ce0e-439f-b41d-fba37829e865",
   "metadata": {},
   "source": [
    "## Get frame file data for all sessions"
   ]
  },
  {
   "cell_type": "markdown",
   "id": "402bdcd5-bd05-43db-9583-509a1acac82d",
   "metadata": {},
   "source": [
    "session_filter_list = [\n",
    " 'classinsight-cmu_05748A_ghc_4101_201902141630',\n",
    " 'classinsight-cmu_05748A_ghc_4101_201904021630',\n",
    " 'classinsight-cmu_05748A_ghc_4101_201902051630',\n",
    " 'classinsight-cmu_05748A_ghc_4101_201902281630',\n",
    " 'classinsight-cmu_05748A_ghc_4101_201903071630',\n",
    " 'classinsight-cmu_17214B_ph_a21_201902271030',\n",
    " 'classinsight-cmu_17214B_ph_a21_201903061030',\n",
    " 'classinsight-cmu_17214B_ph_a21_201904031030',\n",
    " 'classinsight-cmu_17214B_ph_a21_201904101030',\n",
    " 'classinsight-cmu_17214B_ph_a21_201904241030',\n",
    " 'classinsight-cmu_17214C_ph_225b_201903201130',\n",
    " 'classinsight-cmu_17214C_ph_225b_201904101130',\n",
    " 'classinsight-cmu_17214C_ph_225b_201904171130',\n",
    " 'classinsight-cmu_17214C_ph_225b_201904241130',\n",
    " 'classinsight-cmu_17214C_ph_225b_201905011130',\n",
    "]"
   ]
  },
  {
   "cell_type": "code",
   "execution_count": 3,
   "id": "61657d24-cddc-4722-bbde-b99313f4c2e6",
   "metadata": {
    "scrolled": true
   },
   "outputs": [
    {
     "data": {
      "text/plain": [
       "dict_keys(['05748A', '05410B', '17214C', '17214B', '05681A', '24352A', '24352C', '86375A'])"
      ]
     },
     "execution_count": 3,
     "metadata": {},
     "output_type": "execute_result"
    }
   ],
   "source": [
    "\n",
    "frame_file_data = {}\n",
    "for course_idx, course_dir in enumerate(glob.glob(f\"{base_dir}/*\")):\n",
    "    course_name = course_dir.split(\"/\")[-1]\n",
    "    course_cache_file = f\"{track_analysis_meta_cache}/{course_name}\"\n",
    "    if os.path.exists(course_cache_file):\n",
    "        frame_file_data[course_name] = pickle.load(open(course_cache_file,\"rb\"))\n",
    "        continue\n",
    "    frame_file_data[course_name]={}\n",
    "        \n",
    "    for session_idx, session_dir in enumerate(glob.glob(f\"{course_dir}/*\")):\n",
    "        session_name = session_dir.split(\"/\")[-1]        \n",
    "        frame_file_data[course_name][session_name] = {}\n",
    "        frame_files = glob.glob(f\"{session_dir}/*\")\n",
    "        frame_file_names = [xr.split(\"/\")[-1] for xr in frame_files]\n",
    "        if 'end.pb' in frame_file_names:\n",
    "            frame_file_data[course_name][session_name]['is_completed']=True\n",
    "        else:\n",
    "            frame_file_data[course_name][session_name]['is_completed']=False            \n",
    "        frame_ids = [int(xr.split(\".\")[0]) for xr in frame_file_names if not (xr=='end.pb')]\n",
    "        frame_file_data[course_name][session_name]['frame_ids'] = sorted(frame_ids)\n",
    "        frame_file_data[course_name][session_name]['dir_location'] = session_dir\n",
    "        print(f\"Got metadata for course: {course_idx}-{course_name}, session:{session_idx}-{session_name}\")\n",
    "    pickle.dump(frame_file_data[course_name],open(course_cache_file,\"wb\")) \n",
    "        \n",
    "frame_file_data.keys()"
   ]
  },
  {
   "cell_type": "code",
   "execution_count": 4,
   "id": "aafc6364-11a9-473a-bdce-ccce2bd99abc",
   "metadata": {},
   "outputs": [
    {
     "data": {
      "text/plain": [
       "dict_keys(['classinsight-cmu_17214C_ph_225b_201903201130-front', 'classinsight-cmu_17214C_ph_225b_201904031130-front', 'classinsight-cmu_17214C_ph_225b_201904101130-front', 'classinsight-cmu_17214C_ph_225b_201904171130-front', 'classinsight-cmu_17214C_ph_225b_201904241130-front', 'classinsight-cmu_17214C_ph_225b_201905011130-front'])"
      ]
     },
     "execution_count": 4,
     "metadata": {},
     "output_type": "execute_result"
    }
   ],
   "source": [
    "frame_file_data['17214C'].keys()"
   ]
  },
  {
   "cell_type": "code",
   "execution_count": 5,
   "id": "a092b2e6-9f52-48d4-bf99-03f41bb335c0",
   "metadata": {},
   "outputs": [
    {
     "name": "stdout",
     "output_type": "stream",
     "text": [
      "FILE EXISTS: emb info for session: 0-05748A, session:0-classinsight-cmu_05748A_ghc_4101_201902051630-front\n",
      "FILE EXISTS: emb info for session: 0-05748A, session:1-classinsight-cmu_05748A_ghc_4101_201902141630-front\n",
      "Session classinsight-cmu_05748A_ghc_4101_201901291630-front not in session filter list, skipping...\n",
      "Session classinsight-cmu_05748A_ghc_4101_201901311630-front not in session filter list, skipping...\n",
      "Session classinsight-cmu_05748A_ghc_4101_201902071630-front not in session filter list, skipping...\n",
      "Session classinsight-cmu_05748A_ghc_4101_201902121630-front not in session filter list, skipping...\n",
      "Session classinsight-cmu_05748A_ghc_4101_201902191630-front not in session filter list, skipping...\n",
      "Session classinsight-cmu_05748A_ghc_4101_201902211630-front not in session filter list, skipping...\n",
      "FILE EXISTS: emb info for session: 0-05748A, session:8-classinsight-cmu_05748A_ghc_4101_201902281630-front\n",
      "Session classinsight-cmu_05748A_ghc_4101_201903051630-front not in session filter list, skipping...\n",
      "FILE EXISTS: emb info for session: 0-05748A, session:10-classinsight-cmu_05748A_ghc_4101_201903071630-front\n",
      "Session classinsight-cmu_05748A_ghc_4101_201903121630-front not in session filter list, skipping...\n",
      "Session classinsight-cmu_05748A_ghc_4101_201903141630-front not in session filter list, skipping...\n",
      "Session classinsight-cmu_05748A_ghc_4101_201903191630-front not in session filter list, skipping...\n",
      "Session classinsight-cmu_05748A_ghc_4101_201903211630-front not in session filter list, skipping...\n",
      "Session classinsight-cmu_05748A_ghc_4101_201903261630-front not in session filter list, skipping...\n",
      "Session classinsight-cmu_05748A_ghc_4101_201903281630-front not in session filter list, skipping...\n",
      "FILE EXISTS: emb info for session: 0-05748A, session:17-classinsight-cmu_05748A_ghc_4101_201904021630-front\n",
      "Session classinsight-cmu_05748A_ghc_4101_201904041630-front not in session filter list, skipping...\n",
      "Session classinsight-cmu_05748A_ghc_4101_201904091630-front not in session filter list, skipping...\n",
      "Session classinsight-cmu_05748A_ghc_4101_201904111630-front not in session filter list, skipping...\n",
      "Session classinsight-cmu_05748A_ghc_4101_201904161630-front not in session filter list, skipping...\n",
      "Session classinsight-cmu_05748A_ghc_4101_201904181630-front not in session filter list, skipping...\n",
      "Session classinsight-cmu_05748A_ghc_4101_201904231630-front not in session filter list, skipping...\n",
      "Session classinsight-cmu_05748A_ghc_4101_201901241630-front not in session filter list, skipping...\n",
      "Session classinsight-cmu_05748A_ghc_4101_201904251630-front not in session filter list, skipping...\n",
      "Session classinsight-cmu_05748A_ghc_4101_201904301630-front not in session filter list, skipping...\n",
      "Session classinsight-cmu_05748A_ghc_4101_201905021630-front not in session filter list, skipping...\n",
      "Session classinsight-cmu_05410B_ghc_4211_201901301500-front not in session filter list, skipping...\n",
      "Session classinsight-cmu_05410B_ghc_4211_201902041500-front not in session filter list, skipping...\n",
      "Session classinsight-cmu_05410B_ghc_4211_201902061500-front not in session filter list, skipping...\n",
      "Session classinsight-cmu_05410B_ghc_4211_201902111500-front not in session filter list, skipping...\n",
      "Session classinsight-cmu_05410B_ghc_4211_201902131500-front not in session filter list, skipping...\n",
      "Session classinsight-cmu_05410B_ghc_4211_201902181500-front not in session filter list, skipping...\n",
      "Session classinsight-cmu_05410B_ghc_4211_201902201512-front not in session filter list, skipping...\n",
      "Session classinsight-cmu_05410B_ghc_4211_201902251500-front not in session filter list, skipping...\n",
      "Session classinsight-cmu_05410B_ghc_4211_201902271500-front not in session filter list, skipping...\n",
      "Session classinsight-cmu_05410B_ghc_4211_201903041500-front not in session filter list, skipping...\n",
      "Session classinsight-cmu_05410B_ghc_4211_201903111500-front not in session filter list, skipping...\n",
      "Session classinsight-cmu_05410B_ghc_4211_201903131500-front not in session filter list, skipping...\n",
      "Session classinsight-cmu_05410B_ghc_4211_201903181500-front not in session filter list, skipping...\n",
      "Session classinsight-cmu_05410B_ghc_4211_201903201500-front not in session filter list, skipping...\n",
      "Session classinsight-cmu_05410B_ghc_4211_201903271500-front not in session filter list, skipping...\n",
      "Session classinsight-cmu_05410B_ghc_4211_201904031500-front not in session filter list, skipping...\n",
      "Session classinsight-cmu_05410B_ghc_4211_201904081500-front not in session filter list, skipping...\n",
      "Session classinsight-cmu_05410B_ghc_4211_201904101500-front not in session filter list, skipping...\n",
      "Session classinsight-cmu_05410B_ghc_4211_201904151500-front not in session filter list, skipping...\n",
      "Session classinsight-cmu_05410B_ghc_4211_201904171500-front not in session filter list, skipping...\n",
      "Session classinsight-cmu_05410B_ghc_4211_201904221500-front not in session filter list, skipping...\n",
      "Session classinsight-cmu_05410B_ghc_4211_201901211500-front not in session filter list, skipping...\n",
      "Session classinsight-cmu_05410B_ghc_4211_201901231500-front not in session filter list, skipping...\n",
      "Session classinsight-cmu_05410B_ghc_4211_201901281500-front not in session filter list, skipping...\n",
      "Session classinsight-cmu_05410B_ghc_4211_201904011500-front not in session filter list, skipping...\n",
      "Session classinsight-cmu_05410B_ghc_4211_201904241500-front not in session filter list, skipping...\n",
      "Session classinsight-cmu_05410B_ghc_4211_201904291500-front not in session filter list, skipping...\n",
      "Session classinsight-cmu_05410B_ghc_4211_201905011500-front not in session filter list, skipping...\n",
      "FILE EXISTS: emb info for session: 2-17214C, session:0-classinsight-cmu_17214C_ph_225b_201903201130-front\n",
      "Session classinsight-cmu_17214C_ph_225b_201904031130-front not in session filter list, skipping...\n",
      "FILE EXISTS: emb info for session: 2-17214C, session:2-classinsight-cmu_17214C_ph_225b_201904101130-front\n",
      "FILE EXISTS: emb info for session: 2-17214C, session:3-classinsight-cmu_17214C_ph_225b_201904171130-front\n",
      "FILE EXISTS: emb info for session: 2-17214C, session:4-classinsight-cmu_17214C_ph_225b_201904241130-front\n",
      "FILE EXISTS: emb info for session: 2-17214C, session:5-classinsight-cmu_17214C_ph_225b_201905011130-front\n",
      "Session classinsight-cmu_17214B_ph_a21_201901301030-front not in session filter list, skipping...\n",
      "FILE EXISTS: emb info for session: 3-17214B, session:1-classinsight-cmu_17214B_ph_a21_201902271030-front\n",
      "FILE EXISTS: emb info for session: 3-17214B, session:2-classinsight-cmu_17214B_ph_a21_201903061030-front\n",
      "Session classinsight-cmu_17214B_ph_a21_201903131030-front not in session filter list, skipping...\n",
      "Session classinsight-cmu_17214B_ph_a21_201903201030-front not in session filter list, skipping...\n",
      "FILE EXISTS: emb info for session: 3-17214B, session:5-classinsight-cmu_17214B_ph_a21_201904031030-front\n",
      "FILE EXISTS: emb info for session: 3-17214B, session:6-classinsight-cmu_17214B_ph_a21_201904101030-front\n",
      "Session classinsight-cmu_17214B_ph_a21_201904171030-front not in session filter list, skipping...\n",
      "Session classinsight-cmu_17214B_ph_a21_201902131045-front not in session filter list, skipping...\n",
      "FILE EXISTS: emb info for session: 3-17214B, session:9-classinsight-cmu_17214B_ph_a21_201904241030-front\n",
      "Session classinsight-cmu_17214B_ph_a21_201905011030-front not in session filter list, skipping...\n",
      "Session classinsight-cmu_05681A_ghc_4301_201901301630-front not in session filter list, skipping...\n",
      "Session classinsight-cmu_05681A_ghc_4301_201902061630-front not in session filter list, skipping...\n",
      "Session classinsight-cmu_05681A_ghc_4301_201902131633-front not in session filter list, skipping...\n",
      "Session classinsight-cmu_05681A_ghc_4301_201902201630-front not in session filter list, skipping...\n",
      "Session classinsight-cmu_05681A_ghc_4301_201902271630-front not in session filter list, skipping...\n",
      "Session classinsight-cmu_05681A_ghc_4301_201902271718-front not in session filter list, skipping...\n",
      "Session classinsight-cmu_05681A_ghc_4301_201903131630-front not in session filter list, skipping...\n",
      "Session classinsight-cmu_05681A_ghc_4301_201903201630-front not in session filter list, skipping...\n",
      "Session classinsight-cmu_05681A_ghc_4301_201903271630-front not in session filter list, skipping...\n",
      "Session classinsight-cmu_05681A_ghc_4301_201904031630-front not in session filter list, skipping...\n",
      "Session classinsight-cmu_05681A_ghc_4301_201904101630-front not in session filter list, skipping...\n",
      "Session classinsight-cmu_05681A_ghc_4301_201904171630-front not in session filter list, skipping...\n",
      "Session classinsight-cmu_05681A_ghc_4301_201901231630-front not in session filter list, skipping...\n",
      "Session classinsight-cmu_05681A_ghc_4301_201904241630-front not in session filter list, skipping...\n",
      "Session classinsight-cmu_05681A_ghc_4301_201905011630-front not in session filter list, skipping...\n",
      "Session classinsight-cmu_24352A_ghc_4211_201902121330-front not in session filter list, skipping...\n",
      "Session classinsight-cmu_24352A_ghc_4211_201902191330-front not in session filter list, skipping...\n",
      "Session classinsight-cmu_24352C_ghc_4211_201901291530-front not in session filter list, skipping...\n",
      "Session classinsight-cmu_24352C_ghc_4211_201902051530-front not in session filter list, skipping...\n",
      "Session classinsight-cmu_24352C_ghc_4211_201902121530-front not in session filter list, skipping...\n",
      "Session classinsight-cmu_24352C_ghc_4211_201902191530-front not in session filter list, skipping...\n",
      "Session classinsight-cmu_24352C_ghc_4211_201902261530-front not in session filter list, skipping...\n",
      "Session classinsight-cmu_86375A_ghc_4101_201910071325-front not in session filter list, skipping...\n",
      "Session classinsight-cmu_86375A_ghc_4101_201910141328-front not in session filter list, skipping...\n"
     ]
    }
   ],
   "source": [
    "# get reid for all ids\n",
    "\n",
    "for course_idx, course in enumerate(frame_file_data):\n",
    "    for session_idx, session_id in enumerate(frame_file_data[course]):\n",
    "        if session_id.split(\"-front\")[0] not in session_filter_list:\n",
    "            print(f\"Session {session_id} not in session filter list, skipping...\")\n",
    "            continue\n",
    "        session_reid_cache_file = f\"{reid_analysis_session_data}/{session_id}.pb\"\n",
    "        try:\n",
    "            if not os.path.exists(session_reid_cache_file):\n",
    "                session_dir = frame_file_data[course][session_id]['dir_location']\n",
    "                reid_dir = session_dir.replace('fixed_face','reid')\n",
    "                sprint(reid_dir)\n",
    "                frame_ids = frame_file_data[course][session_id]['frame_ids']\n",
    "                session_emb_info = {}\n",
    "                for frame_id in frame_ids:\n",
    "                    frame_number, frame_data = pickle.load(open(f'{reid_dir}/{frame_id}.pb','rb'))\n",
    "                    frame_emb_info = {int(person_info['track_id']):{\n",
    "                        'bbox': person_info['bbox'] if 'bbox' in person_info else None,\n",
    "                        'reid_embedding': person_info['reid_features'] if 'reid_features' in person_info else None,\n",
    "                    } for person_info in frame_data}\n",
    "                    session_emb_info[frame_id] = frame_emb_info\n",
    "                pickle.dump(session_emb_info, open(session_reid_cache_file,'wb'))\n",
    "                print(f\"Got emb info for session: {course_idx}-{course}, session:{session_idx}-{session_id}\")\n",
    "            else:\n",
    "                ...\n",
    "                print(f\"FILE EXISTS: emb info for session: {course_idx}-{course}, session:{session_idx}-{session_id}\")\n",
    "        except:\n",
    "            print(f\"ERROR: Unable to get session emb for: {course_idx}-{course}, session:{session_idx}-{session_id}\")\n",
    "            unfinished_sessions.append((course, session_id))\n",
    "            print(traceback.format_exc())\n",
    "    "
   ]
  },
  {
   "cell_type": "code",
   "execution_count": 7,
   "id": "44e99bd2-1553-4b20-9e98-f889741c5dc9",
   "metadata": {
    "scrolled": true
   },
   "outputs": [
    {
     "data": {
      "text/markdown": [
       "## Building cross session input info for session: 0-05748A, session:0-classinsight-cmu_05748A_ghc_4101_201902051630-front"
      ],
      "text/plain": [
       "<IPython.core.display.Markdown object>"
      ]
     },
     "metadata": {},
     "output_type": "display_data"
    },
    {
     "name": "stdout",
     "output_type": "stream",
     "text": [
      "10 32\n",
      "11 30\n",
      "24 32\n",
      "26 32\n",
      "Dict: eligible_id_map_dict\n",
      "Key: Value\n"
     ]
    },
    {
     "data": {
      "text/html": [
       "<pre style=\"white-space:pre;overflow-x:auto;line-height:normal;font-family:Menlo,'DejaVu Sans Mono',consolas,'Courier New',monospace\"><span style=\"font-weight: bold\">{</span><span style=\"color: #008080; text-decoration-color: #008080; font-weight: bold\">24</span>: <span style=\"color: #008080; text-decoration-color: #008080; font-weight: bold\">10</span>, <span style=\"color: #008080; text-decoration-color: #008080; font-weight: bold\">26</span>: <span style=\"color: #008080; text-decoration-color: #008080; font-weight: bold\">10</span>, <span style=\"color: #008080; text-decoration-color: #008080; font-weight: bold\">30</span>: <span style=\"color: #008080; text-decoration-color: #008080; font-weight: bold\">11</span>, <span style=\"color: #008080; text-decoration-color: #008080; font-weight: bold\">32</span>: <span style=\"color: #008080; text-decoration-color: #008080; font-weight: bold\">10</span><span style=\"font-weight: bold\">}</span>\n",
       "</pre>\n"
      ],
      "text/plain": [
       "\u001b[1m{\u001b[0m\u001b[1;36m24\u001b[0m: \u001b[1;36m10\u001b[0m, \u001b[1;36m26\u001b[0m: \u001b[1;36m10\u001b[0m, \u001b[1;36m30\u001b[0m: \u001b[1;36m11\u001b[0m, \u001b[1;36m32\u001b[0m: \u001b[1;36m10\u001b[0m\u001b[1m}\u001b[0m\n"
      ]
     },
     "metadata": {},
     "output_type": "display_data"
    },
    {
     "name": "stdout",
     "output_type": "stream",
     "text": [
      "\"Corrected\", eligible_id_map_dict : Corrected {32: 10, 30: 11, 24: 10, 26: 10}\n",
      "\"replacing ids in old to new id maps\" : replacing ids in old to new id maps\n",
      "replacing 519:24 -->10\n",
      "replacing 649:26 -->10\n",
      "replacing 697:30 -->11\n",
      "replacing 1092:32 -->10\n",
      "replacing 692:26 -->10\n",
      "replacing 713:26 -->10\n",
      "replacing 758:26 -->10\n",
      "replacing 821:26 -->10\n",
      "replacing 1006:26 -->10\n",
      "replacing 1162:32 -->10\n",
      "replacing 1220:32 -->10\n",
      "replacing 1287:32 -->10\n",
      "Dict: {xr:(emb_info[xr].shape[0], bbox_info[xr].shape[0]) for xr in emb_info}\n",
      "Key: Value\n"
     ]
    },
    {
     "data": {
      "text/html": [
       "<pre style=\"white-space:pre;overflow-x:auto;line-height:normal;font-family:Menlo,'DejaVu Sans Mono',consolas,'Courier New',monospace\"><span style=\"font-weight: bold\">{</span><span style=\"color: #008080; text-decoration-color: #008080; font-weight: bold\">0</span>: <span style=\"font-weight: bold\">(</span><span style=\"color: #008080; text-decoration-color: #008080; font-weight: bold\">11922</span>, <span style=\"color: #008080; text-decoration-color: #008080; font-weight: bold\">11922</span><span style=\"font-weight: bold\">)</span>,\n",
       " <span style=\"color: #008080; text-decoration-color: #008080; font-weight: bold\">1</span>: <span style=\"font-weight: bold\">(</span><span style=\"color: #008080; text-decoration-color: #008080; font-weight: bold\">11922</span>, <span style=\"color: #008080; text-decoration-color: #008080; font-weight: bold\">11922</span><span style=\"font-weight: bold\">)</span>,\n",
       " <span style=\"color: #008080; text-decoration-color: #008080; font-weight: bold\">2</span>: <span style=\"font-weight: bold\">(</span><span style=\"color: #008080; text-decoration-color: #008080; font-weight: bold\">11922</span>, <span style=\"color: #008080; text-decoration-color: #008080; font-weight: bold\">11922</span><span style=\"font-weight: bold\">)</span>,\n",
       " <span style=\"color: #008080; text-decoration-color: #008080; font-weight: bold\">3</span>: <span style=\"font-weight: bold\">(</span><span style=\"color: #008080; text-decoration-color: #008080; font-weight: bold\">11922</span>, <span style=\"color: #008080; text-decoration-color: #008080; font-weight: bold\">11922</span><span style=\"font-weight: bold\">)</span>,\n",
       " <span style=\"color: #008080; text-decoration-color: #008080; font-weight: bold\">4</span>: <span style=\"font-weight: bold\">(</span><span style=\"color: #008080; text-decoration-color: #008080; font-weight: bold\">578</span>, <span style=\"color: #008080; text-decoration-color: #008080; font-weight: bold\">578</span><span style=\"font-weight: bold\">)</span>,\n",
       " <span style=\"color: #008080; text-decoration-color: #008080; font-weight: bold\">5</span>: <span style=\"font-weight: bold\">(</span><span style=\"color: #008080; text-decoration-color: #008080; font-weight: bold\">11922</span>, <span style=\"color: #008080; text-decoration-color: #008080; font-weight: bold\">11922</span><span style=\"font-weight: bold\">)</span>,\n",
       " <span style=\"color: #008080; text-decoration-color: #008080; font-weight: bold\">6</span>: <span style=\"font-weight: bold\">(</span><span style=\"color: #008080; text-decoration-color: #008080; font-weight: bold\">11922</span>, <span style=\"color: #008080; text-decoration-color: #008080; font-weight: bold\">11922</span><span style=\"font-weight: bold\">)</span>,\n",
       " <span style=\"color: #008080; text-decoration-color: #008080; font-weight: bold\">7</span>: <span style=\"font-weight: bold\">(</span><span style=\"color: #008080; text-decoration-color: #008080; font-weight: bold\">11922</span>, <span style=\"color: #008080; text-decoration-color: #008080; font-weight: bold\">11922</span><span style=\"font-weight: bold\">)</span>,\n",
       " <span style=\"color: #008080; text-decoration-color: #008080; font-weight: bold\">8</span>: <span style=\"font-weight: bold\">(</span><span style=\"color: #008080; text-decoration-color: #008080; font-weight: bold\">11920</span>, <span style=\"color: #008080; text-decoration-color: #008080; font-weight: bold\">11920</span><span style=\"font-weight: bold\">)</span>,\n",
       " <span style=\"color: #008080; text-decoration-color: #008080; font-weight: bold\">9</span>: <span style=\"font-weight: bold\">(</span><span style=\"color: #008080; text-decoration-color: #008080; font-weight: bold\">11922</span>, <span style=\"color: #008080; text-decoration-color: #008080; font-weight: bold\">11922</span><span style=\"font-weight: bold\">)</span>,\n",
       " <span style=\"color: #008080; text-decoration-color: #008080; font-weight: bold\">10</span>: <span style=\"font-weight: bold\">(</span><span style=\"color: #008080; text-decoration-color: #008080; font-weight: bold\">10782</span>, <span style=\"color: #008080; text-decoration-color: #008080; font-weight: bold\">10782</span><span style=\"font-weight: bold\">)</span>,\n",
       " <span style=\"color: #008080; text-decoration-color: #008080; font-weight: bold\">11</span>: <span style=\"font-weight: bold\">(</span><span style=\"color: #008080; text-decoration-color: #008080; font-weight: bold\">11875</span>, <span style=\"color: #008080; text-decoration-color: #008080; font-weight: bold\">11875</span><span style=\"font-weight: bold\">)</span>,\n",
       " <span style=\"color: #008080; text-decoration-color: #008080; font-weight: bold\">12</span>: <span style=\"font-weight: bold\">(</span><span style=\"color: #008080; text-decoration-color: #008080; font-weight: bold\">11773</span>, <span style=\"color: #008080; text-decoration-color: #008080; font-weight: bold\">11773</span><span style=\"font-weight: bold\">)</span>,\n",
       " <span style=\"color: #008080; text-decoration-color: #008080; font-weight: bold\">13</span>: <span style=\"font-weight: bold\">(</span><span style=\"color: #008080; text-decoration-color: #008080; font-weight: bold\">11603</span>, <span style=\"color: #008080; text-decoration-color: #008080; font-weight: bold\">11603</span><span style=\"font-weight: bold\">)</span>,\n",
       " <span style=\"color: #008080; text-decoration-color: #008080; font-weight: bold\">14</span>: <span style=\"font-weight: bold\">(</span><span style=\"color: #008080; text-decoration-color: #008080; font-weight: bold\">11323</span>, <span style=\"color: #008080; text-decoration-color: #008080; font-weight: bold\">11323</span><span style=\"font-weight: bold\">)</span>,\n",
       " <span style=\"color: #008080; text-decoration-color: #008080; font-weight: bold\">15</span>: <span style=\"font-weight: bold\">(</span><span style=\"color: #008080; text-decoration-color: #008080; font-weight: bold\">11343</span>, <span style=\"color: #008080; text-decoration-color: #008080; font-weight: bold\">11343</span><span style=\"font-weight: bold\">)</span>,\n",
       " <span style=\"color: #008080; text-decoration-color: #008080; font-weight: bold\">16</span>: <span style=\"font-weight: bold\">(</span><span style=\"color: #008080; text-decoration-color: #008080; font-weight: bold\">11173</span>, <span style=\"color: #008080; text-decoration-color: #008080; font-weight: bold\">11173</span><span style=\"font-weight: bold\">)</span>,\n",
       " <span style=\"color: #008080; text-decoration-color: #008080; font-weight: bold\">17</span>: <span style=\"font-weight: bold\">(</span><span style=\"color: #008080; text-decoration-color: #008080; font-weight: bold\">204</span>, <span style=\"color: #008080; text-decoration-color: #008080; font-weight: bold\">204</span><span style=\"font-weight: bold\">)</span>,\n",
       " <span style=\"color: #008080; text-decoration-color: #008080; font-weight: bold\">18</span>: <span style=\"font-weight: bold\">(</span><span style=\"color: #008080; text-decoration-color: #008080; font-weight: bold\">165</span>, <span style=\"color: #008080; text-decoration-color: #008080; font-weight: bold\">165</span><span style=\"font-weight: bold\">)</span>,\n",
       " <span style=\"color: #008080; text-decoration-color: #008080; font-weight: bold\">19</span>: <span style=\"font-weight: bold\">(</span><span style=\"color: #008080; text-decoration-color: #008080; font-weight: bold\">10103</span>, <span style=\"color: #008080; text-decoration-color: #008080; font-weight: bold\">10103</span><span style=\"font-weight: bold\">)</span>,\n",
       " <span style=\"color: #008080; text-decoration-color: #008080; font-weight: bold\">20</span>: <span style=\"font-weight: bold\">(</span><span style=\"color: #008080; text-decoration-color: #008080; font-weight: bold\">664</span>, <span style=\"color: #008080; text-decoration-color: #008080; font-weight: bold\">669</span><span style=\"font-weight: bold\">)</span>,\n",
       " <span style=\"color: #008080; text-decoration-color: #008080; font-weight: bold\">21</span>: <span style=\"font-weight: bold\">(</span><span style=\"color: #008080; text-decoration-color: #008080; font-weight: bold\">8383</span>, <span style=\"color: #008080; text-decoration-color: #008080; font-weight: bold\">8383</span><span style=\"font-weight: bold\">)</span>,\n",
       " <span style=\"color: #008080; text-decoration-color: #008080; font-weight: bold\">22</span>: <span style=\"font-weight: bold\">(</span><span style=\"color: #008080; text-decoration-color: #008080; font-weight: bold\">242</span>, <span style=\"color: #008080; text-decoration-color: #008080; font-weight: bold\">242</span><span style=\"font-weight: bold\">)</span>,\n",
       " <span style=\"color: #008080; text-decoration-color: #008080; font-weight: bold\">23</span>: <span style=\"font-weight: bold\">(</span><span style=\"color: #008080; text-decoration-color: #008080; font-weight: bold\">570</span>, <span style=\"color: #008080; text-decoration-color: #008080; font-weight: bold\">570</span><span style=\"font-weight: bold\">)</span>,\n",
       " <span style=\"color: #008080; text-decoration-color: #008080; font-weight: bold\">25</span>: <span style=\"font-weight: bold\">(</span><span style=\"color: #008080; text-decoration-color: #008080; font-weight: bold\">465</span>, <span style=\"color: #008080; text-decoration-color: #008080; font-weight: bold\">465</span><span style=\"font-weight: bold\">)</span>,\n",
       " <span style=\"color: #008080; text-decoration-color: #008080; font-weight: bold\">27</span>: <span style=\"font-weight: bold\">(</span><span style=\"color: #008080; text-decoration-color: #008080; font-weight: bold\">206</span>, <span style=\"color: #008080; text-decoration-color: #008080; font-weight: bold\">206</span><span style=\"font-weight: bold\">)</span>,\n",
       " <span style=\"color: #008080; text-decoration-color: #008080; font-weight: bold\">28</span>: <span style=\"font-weight: bold\">(</span><span style=\"color: #008080; text-decoration-color: #008080; font-weight: bold\">168</span>, <span style=\"color: #008080; text-decoration-color: #008080; font-weight: bold\">168</span><span style=\"font-weight: bold\">)</span>,\n",
       " <span style=\"color: #008080; text-decoration-color: #008080; font-weight: bold\">29</span>: <span style=\"font-weight: bold\">(</span><span style=\"color: #008080; text-decoration-color: #008080; font-weight: bold\">293</span>, <span style=\"color: #008080; text-decoration-color: #008080; font-weight: bold\">293</span><span style=\"font-weight: bold\">)</span>,\n",
       " <span style=\"color: #008080; text-decoration-color: #008080; font-weight: bold\">31</span>: <span style=\"font-weight: bold\">(</span><span style=\"color: #008080; text-decoration-color: #008080; font-weight: bold\">476</span>, <span style=\"color: #008080; text-decoration-color: #008080; font-weight: bold\">476</span><span style=\"font-weight: bold\">)</span>,\n",
       " <span style=\"color: #008080; text-decoration-color: #008080; font-weight: bold\">33</span>: <span style=\"font-weight: bold\">(</span><span style=\"color: #008080; text-decoration-color: #008080; font-weight: bold\">241</span>, <span style=\"color: #008080; text-decoration-color: #008080; font-weight: bold\">241</span><span style=\"font-weight: bold\">)</span>,\n",
       " <span style=\"color: #008080; text-decoration-color: #008080; font-weight: bold\">34</span>: <span style=\"font-weight: bold\">(</span><span style=\"color: #008080; text-decoration-color: #008080; font-weight: bold\">447</span>, <span style=\"color: #008080; text-decoration-color: #008080; font-weight: bold\">447</span><span style=\"font-weight: bold\">)}</span>\n",
       "</pre>\n"
      ],
      "text/plain": [
       "\u001b[1m{\u001b[0m\u001b[1;36m0\u001b[0m: \u001b[1m(\u001b[0m\u001b[1;36m11922\u001b[0m, \u001b[1;36m11922\u001b[0m\u001b[1m)\u001b[0m,\n",
       " \u001b[1;36m1\u001b[0m: \u001b[1m(\u001b[0m\u001b[1;36m11922\u001b[0m, \u001b[1;36m11922\u001b[0m\u001b[1m)\u001b[0m,\n",
       " \u001b[1;36m2\u001b[0m: \u001b[1m(\u001b[0m\u001b[1;36m11922\u001b[0m, \u001b[1;36m11922\u001b[0m\u001b[1m)\u001b[0m,\n",
       " \u001b[1;36m3\u001b[0m: \u001b[1m(\u001b[0m\u001b[1;36m11922\u001b[0m, \u001b[1;36m11922\u001b[0m\u001b[1m)\u001b[0m,\n",
       " \u001b[1;36m4\u001b[0m: \u001b[1m(\u001b[0m\u001b[1;36m578\u001b[0m, \u001b[1;36m578\u001b[0m\u001b[1m)\u001b[0m,\n",
       " \u001b[1;36m5\u001b[0m: \u001b[1m(\u001b[0m\u001b[1;36m11922\u001b[0m, \u001b[1;36m11922\u001b[0m\u001b[1m)\u001b[0m,\n",
       " \u001b[1;36m6\u001b[0m: \u001b[1m(\u001b[0m\u001b[1;36m11922\u001b[0m, \u001b[1;36m11922\u001b[0m\u001b[1m)\u001b[0m,\n",
       " \u001b[1;36m7\u001b[0m: \u001b[1m(\u001b[0m\u001b[1;36m11922\u001b[0m, \u001b[1;36m11922\u001b[0m\u001b[1m)\u001b[0m,\n",
       " \u001b[1;36m8\u001b[0m: \u001b[1m(\u001b[0m\u001b[1;36m11920\u001b[0m, \u001b[1;36m11920\u001b[0m\u001b[1m)\u001b[0m,\n",
       " \u001b[1;36m9\u001b[0m: \u001b[1m(\u001b[0m\u001b[1;36m11922\u001b[0m, \u001b[1;36m11922\u001b[0m\u001b[1m)\u001b[0m,\n",
       " \u001b[1;36m10\u001b[0m: \u001b[1m(\u001b[0m\u001b[1;36m10782\u001b[0m, \u001b[1;36m10782\u001b[0m\u001b[1m)\u001b[0m,\n",
       " \u001b[1;36m11\u001b[0m: \u001b[1m(\u001b[0m\u001b[1;36m11875\u001b[0m, \u001b[1;36m11875\u001b[0m\u001b[1m)\u001b[0m,\n",
       " \u001b[1;36m12\u001b[0m: \u001b[1m(\u001b[0m\u001b[1;36m11773\u001b[0m, \u001b[1;36m11773\u001b[0m\u001b[1m)\u001b[0m,\n",
       " \u001b[1;36m13\u001b[0m: \u001b[1m(\u001b[0m\u001b[1;36m11603\u001b[0m, \u001b[1;36m11603\u001b[0m\u001b[1m)\u001b[0m,\n",
       " \u001b[1;36m14\u001b[0m: \u001b[1m(\u001b[0m\u001b[1;36m11323\u001b[0m, \u001b[1;36m11323\u001b[0m\u001b[1m)\u001b[0m,\n",
       " \u001b[1;36m15\u001b[0m: \u001b[1m(\u001b[0m\u001b[1;36m11343\u001b[0m, \u001b[1;36m11343\u001b[0m\u001b[1m)\u001b[0m,\n",
       " \u001b[1;36m16\u001b[0m: \u001b[1m(\u001b[0m\u001b[1;36m11173\u001b[0m, \u001b[1;36m11173\u001b[0m\u001b[1m)\u001b[0m,\n",
       " \u001b[1;36m17\u001b[0m: \u001b[1m(\u001b[0m\u001b[1;36m204\u001b[0m, \u001b[1;36m204\u001b[0m\u001b[1m)\u001b[0m,\n",
       " \u001b[1;36m18\u001b[0m: \u001b[1m(\u001b[0m\u001b[1;36m165\u001b[0m, \u001b[1;36m165\u001b[0m\u001b[1m)\u001b[0m,\n",
       " \u001b[1;36m19\u001b[0m: \u001b[1m(\u001b[0m\u001b[1;36m10103\u001b[0m, \u001b[1;36m10103\u001b[0m\u001b[1m)\u001b[0m,\n",
       " \u001b[1;36m20\u001b[0m: \u001b[1m(\u001b[0m\u001b[1;36m664\u001b[0m, \u001b[1;36m669\u001b[0m\u001b[1m)\u001b[0m,\n",
       " \u001b[1;36m21\u001b[0m: \u001b[1m(\u001b[0m\u001b[1;36m8383\u001b[0m, \u001b[1;36m8383\u001b[0m\u001b[1m)\u001b[0m,\n",
       " \u001b[1;36m22\u001b[0m: \u001b[1m(\u001b[0m\u001b[1;36m242\u001b[0m, \u001b[1;36m242\u001b[0m\u001b[1m)\u001b[0m,\n",
       " \u001b[1;36m23\u001b[0m: \u001b[1m(\u001b[0m\u001b[1;36m570\u001b[0m, \u001b[1;36m570\u001b[0m\u001b[1m)\u001b[0m,\n",
       " \u001b[1;36m25\u001b[0m: \u001b[1m(\u001b[0m\u001b[1;36m465\u001b[0m, \u001b[1;36m465\u001b[0m\u001b[1m)\u001b[0m,\n",
       " \u001b[1;36m27\u001b[0m: \u001b[1m(\u001b[0m\u001b[1;36m206\u001b[0m, \u001b[1;36m206\u001b[0m\u001b[1m)\u001b[0m,\n",
       " \u001b[1;36m28\u001b[0m: \u001b[1m(\u001b[0m\u001b[1;36m168\u001b[0m, \u001b[1;36m168\u001b[0m\u001b[1m)\u001b[0m,\n",
       " \u001b[1;36m29\u001b[0m: \u001b[1m(\u001b[0m\u001b[1;36m293\u001b[0m, \u001b[1;36m293\u001b[0m\u001b[1m)\u001b[0m,\n",
       " \u001b[1;36m31\u001b[0m: \u001b[1m(\u001b[0m\u001b[1;36m476\u001b[0m, \u001b[1;36m476\u001b[0m\u001b[1m)\u001b[0m,\n",
       " \u001b[1;36m33\u001b[0m: \u001b[1m(\u001b[0m\u001b[1;36m241\u001b[0m, \u001b[1;36m241\u001b[0m\u001b[1m)\u001b[0m,\n",
       " \u001b[1;36m34\u001b[0m: \u001b[1m(\u001b[0m\u001b[1;36m447\u001b[0m, \u001b[1;36m447\u001b[0m\u001b[1m)\u001b[0m\u001b[1m}\u001b[0m\n"
      ]
     },
     "metadata": {},
     "output_type": "display_data"
    },
    {
     "name": "stdout",
     "output_type": "stream",
     "text": [
      "f\"Got reid embedding for {sid}\" : Got reid embedding for 0\n",
      "f\"Got reid embedding for {sid}\" : Got reid embedding for 1\n",
      "f\"Got reid embedding for {sid}\" : Got reid embedding for 2\n",
      "f\"Got reid embedding for {sid}\" : Got reid embedding for 3\n",
      "f\"Got reid embedding for {sid}\" : Got reid embedding for 4\n",
      "f\"Got reid embedding for {sid}\" : Got reid embedding for 5\n",
      "f\"Got reid embedding for {sid}\" : Got reid embedding for 6\n",
      "f\"Got reid embedding for {sid}\" : Got reid embedding for 7\n",
      "f\"Got reid embedding for {sid}\" : Got reid embedding for 8\n",
      "f\"Got reid embedding for {sid}\" : Got reid embedding for 9\n",
      "f\"Got reid embedding for {sid}\" : Got reid embedding for 10\n",
      "f\"Got reid embedding for {sid}\" : Got reid embedding for 11\n",
      "f\"Got reid embedding for {sid}\" : Got reid embedding for 12\n",
      "f\"Got reid embedding for {sid}\" : Got reid embedding for 13\n",
      "f\"Got reid embedding for {sid}\" : Got reid embedding for 14\n",
      "f\"Got reid embedding for {sid}\" : Got reid embedding for 15\n",
      "f\"Got reid embedding for {sid}\" : Got reid embedding for 16\n",
      "f\"Got reid embedding for {sid}\" : Got reid embedding for 17\n",
      "f\"Got reid embedding for {sid}\" : Got reid embedding for 18\n",
      "f\"Got reid embedding for {sid}\" : Got reid embedding for 19\n",
      "f\"Got reid embedding for {sid}\" : Got reid embedding for 20\n",
      "f\"Got reid embedding for {sid}\" : Got reid embedding for 21\n",
      "f\"Got reid embedding for {sid}\" : Got reid embedding for 22\n",
      "f\"Got reid embedding for {sid}\" : Got reid embedding for 23\n",
      "f\"Got reid embedding for {sid}\" : Got reid embedding for 25\n",
      "f\"Got reid embedding for {sid}\" : Got reid embedding for 27\n",
      "f\"Got reid embedding for {sid}\" : Got reid embedding for 28\n",
      "f\"Got reid embedding for {sid}\" : Got reid embedding for 29\n",
      "f\"Got reid embedding for {sid}\" : Got reid embedding for 31\n",
      "f\"Got reid embedding for {sid}\" : Got reid embedding for 33\n",
      "f\"Got reid embedding for {sid}\" : Got reid embedding for 34\n"
     ]
    },
    {
     "data": {
      "text/markdown": [
       "### Got cross session input info for session: 0-05748A, session:0-classinsight-cmu_05748A_ghc_4101_201902051630-front"
      ],
      "text/plain": [
       "<IPython.core.display.Markdown object>"
      ]
     },
     "metadata": {},
     "output_type": "display_data"
    },
    {
     "data": {
      "text/markdown": [
       "## Building cross session input info for session: 0-05748A, session:1-classinsight-cmu_05748A_ghc_4101_201902141630-front"
      ],
      "text/plain": [
       "<IPython.core.display.Markdown object>"
      ]
     },
     "metadata": {},
     "output_type": "display_data"
    },
    {
     "name": "stdout",
     "output_type": "stream",
     "text": [
      "2 35\n",
      "3 33\n",
      "12 36\n",
      "20 26\n",
      "25 29\n",
      "Dict: eligible_id_map_dict\n",
      "Key: Value\n"
     ]
    },
    {
     "data": {
      "text/html": [
       "<pre style=\"white-space:pre;overflow-x:auto;line-height:normal;font-family:Menlo,'DejaVu Sans Mono',consolas,'Courier New',monospace\"><span style=\"font-weight: bold\">{</span><span style=\"color: #008080; text-decoration-color: #008080; font-weight: bold\">26</span>: <span style=\"color: #008080; text-decoration-color: #008080; font-weight: bold\">20</span>, <span style=\"color: #008080; text-decoration-color: #008080; font-weight: bold\">29</span>: <span style=\"color: #008080; text-decoration-color: #008080; font-weight: bold\">25</span>, <span style=\"color: #008080; text-decoration-color: #008080; font-weight: bold\">33</span>: <span style=\"color: #008080; text-decoration-color: #008080; font-weight: bold\">3</span>, <span style=\"color: #008080; text-decoration-color: #008080; font-weight: bold\">35</span>: <span style=\"color: #008080; text-decoration-color: #008080; font-weight: bold\">2</span>, <span style=\"color: #008080; text-decoration-color: #008080; font-weight: bold\">36</span>: <span style=\"color: #008080; text-decoration-color: #008080; font-weight: bold\">12</span><span style=\"font-weight: bold\">}</span>\n",
       "</pre>\n"
      ],
      "text/plain": [
       "\u001b[1m{\u001b[0m\u001b[1;36m26\u001b[0m: \u001b[1;36m20\u001b[0m, \u001b[1;36m29\u001b[0m: \u001b[1;36m25\u001b[0m, \u001b[1;36m33\u001b[0m: \u001b[1;36m3\u001b[0m, \u001b[1;36m35\u001b[0m: \u001b[1;36m2\u001b[0m, \u001b[1;36m36\u001b[0m: \u001b[1;36m12\u001b[0m\u001b[1m}\u001b[0m\n"
      ]
     },
     "metadata": {},
     "output_type": "display_data"
    },
    {
     "name": "stdout",
     "output_type": "stream",
     "text": [
      "\"Corrected\", eligible_id_map_dict : Corrected {35: 2, 33: 3, 36: 12, 26: 20, 29: 25}\n",
      "\"replacing ids in old to new id maps\" : replacing ids in old to new id maps\n",
      "replacing 729:26 -->20\n",
      "replacing 866:29 -->25\n",
      "replacing 1036:33 -->3\n",
      "replacing 1200:35 -->2\n",
      "replacing 1246:36 -->12\n",
      "replacing 1157:33 -->3\n",
      "replacing 1178:33 -->3\n",
      "Dict: {xr:(emb_info[xr].shape[0], bbox_info[xr].shape[0]) for xr in emb_info}\n",
      "Key: Value\n"
     ]
    },
    {
     "data": {
      "text/html": [
       "<pre style=\"white-space:pre;overflow-x:auto;line-height:normal;font-family:Menlo,'DejaVu Sans Mono',consolas,'Courier New',monospace\"><span style=\"font-weight: bold\">{</span><span style=\"color: #008080; text-decoration-color: #008080; font-weight: bold\">0</span>: <span style=\"font-weight: bold\">(</span><span style=\"color: #008080; text-decoration-color: #008080; font-weight: bold\">23913</span>, <span style=\"color: #008080; text-decoration-color: #008080; font-weight: bold\">23913</span><span style=\"font-weight: bold\">)</span>,\n",
       " <span style=\"color: #008080; text-decoration-color: #008080; font-weight: bold\">1</span>: <span style=\"font-weight: bold\">(</span><span style=\"color: #008080; text-decoration-color: #008080; font-weight: bold\">23904</span>, <span style=\"color: #008080; text-decoration-color: #008080; font-weight: bold\">23904</span><span style=\"font-weight: bold\">)</span>,\n",
       " <span style=\"color: #008080; text-decoration-color: #008080; font-weight: bold\">2</span>: <span style=\"font-weight: bold\">(</span><span style=\"color: #008080; text-decoration-color: #008080; font-weight: bold\">23319</span>, <span style=\"color: #008080; text-decoration-color: #008080; font-weight: bold\">23423</span><span style=\"font-weight: bold\">)</span>,\n",
       " <span style=\"color: #008080; text-decoration-color: #008080; font-weight: bold\">3</span>: <span style=\"font-weight: bold\">(</span><span style=\"color: #008080; text-decoration-color: #008080; font-weight: bold\">21242</span>, <span style=\"color: #008080; text-decoration-color: #008080; font-weight: bold\">21245</span><span style=\"font-weight: bold\">)</span>,\n",
       " <span style=\"color: #008080; text-decoration-color: #008080; font-weight: bold\">4</span>: <span style=\"font-weight: bold\">(</span><span style=\"color: #008080; text-decoration-color: #008080; font-weight: bold\">23911</span>, <span style=\"color: #008080; text-decoration-color: #008080; font-weight: bold\">23911</span><span style=\"font-weight: bold\">)</span>,\n",
       " <span style=\"color: #008080; text-decoration-color: #008080; font-weight: bold\">5</span>: <span style=\"font-weight: bold\">(</span><span style=\"color: #008080; text-decoration-color: #008080; font-weight: bold\">23898</span>, <span style=\"color: #008080; text-decoration-color: #008080; font-weight: bold\">23913</span><span style=\"font-weight: bold\">)</span>,\n",
       " <span style=\"color: #008080; text-decoration-color: #008080; font-weight: bold\">6</span>: <span style=\"font-weight: bold\">(</span><span style=\"color: #008080; text-decoration-color: #008080; font-weight: bold\">23871</span>, <span style=\"color: #008080; text-decoration-color: #008080; font-weight: bold\">23871</span><span style=\"font-weight: bold\">)</span>,\n",
       " <span style=\"color: #008080; text-decoration-color: #008080; font-weight: bold\">7</span>: <span style=\"font-weight: bold\">(</span><span style=\"color: #008080; text-decoration-color: #008080; font-weight: bold\">17409</span>, <span style=\"color: #008080; text-decoration-color: #008080; font-weight: bold\">17409</span><span style=\"font-weight: bold\">)</span>,\n",
       " <span style=\"color: #008080; text-decoration-color: #008080; font-weight: bold\">8</span>: <span style=\"font-weight: bold\">(</span><span style=\"color: #008080; text-decoration-color: #008080; font-weight: bold\">23790</span>, <span style=\"color: #008080; text-decoration-color: #008080; font-weight: bold\">23790</span><span style=\"font-weight: bold\">)</span>,\n",
       " <span style=\"color: #008080; text-decoration-color: #008080; font-weight: bold\">9</span>: <span style=\"font-weight: bold\">(</span><span style=\"color: #008080; text-decoration-color: #008080; font-weight: bold\">23874</span>, <span style=\"color: #008080; text-decoration-color: #008080; font-weight: bold\">23874</span><span style=\"font-weight: bold\">)</span>,\n",
       " <span style=\"color: #008080; text-decoration-color: #008080; font-weight: bold\">10</span>: <span style=\"font-weight: bold\">(</span><span style=\"color: #008080; text-decoration-color: #008080; font-weight: bold\">23628</span>, <span style=\"color: #008080; text-decoration-color: #008080; font-weight: bold\">23628</span><span style=\"font-weight: bold\">)</span>,\n",
       " <span style=\"color: #008080; text-decoration-color: #008080; font-weight: bold\">11</span>: <span style=\"font-weight: bold\">(</span><span style=\"color: #008080; text-decoration-color: #008080; font-weight: bold\">822</span>, <span style=\"color: #008080; text-decoration-color: #008080; font-weight: bold\">822</span><span style=\"font-weight: bold\">)</span>,\n",
       " <span style=\"color: #008080; text-decoration-color: #008080; font-weight: bold\">12</span>: <span style=\"font-weight: bold\">(</span><span style=\"color: #008080; text-decoration-color: #008080; font-weight: bold\">23172</span>, <span style=\"color: #008080; text-decoration-color: #008080; font-weight: bold\">23172</span><span style=\"font-weight: bold\">)</span>,\n",
       " <span style=\"color: #008080; text-decoration-color: #008080; font-weight: bold\">13</span>: <span style=\"font-weight: bold\">(</span><span style=\"color: #008080; text-decoration-color: #008080; font-weight: bold\">331</span>, <span style=\"color: #008080; text-decoration-color: #008080; font-weight: bold\">331</span><span style=\"font-weight: bold\">)</span>,\n",
       " <span style=\"color: #008080; text-decoration-color: #008080; font-weight: bold\">14</span>: <span style=\"font-weight: bold\">(</span><span style=\"color: #008080; text-decoration-color: #008080; font-weight: bold\">22669</span>, <span style=\"color: #008080; text-decoration-color: #008080; font-weight: bold\">22669</span><span style=\"font-weight: bold\">)</span>,\n",
       " <span style=\"color: #008080; text-decoration-color: #008080; font-weight: bold\">15</span>: <span style=\"font-weight: bold\">(</span><span style=\"color: #008080; text-decoration-color: #008080; font-weight: bold\">755</span>, <span style=\"color: #008080; text-decoration-color: #008080; font-weight: bold\">755</span><span style=\"font-weight: bold\">)</span>,\n",
       " <span style=\"color: #008080; text-decoration-color: #008080; font-weight: bold\">16</span>: <span style=\"font-weight: bold\">(</span><span style=\"color: #008080; text-decoration-color: #008080; font-weight: bold\">16278</span>, <span style=\"color: #008080; text-decoration-color: #008080; font-weight: bold\">16278</span><span style=\"font-weight: bold\">)</span>,\n",
       " <span style=\"color: #008080; text-decoration-color: #008080; font-weight: bold\">17</span>: <span style=\"font-weight: bold\">(</span><span style=\"color: #008080; text-decoration-color: #008080; font-weight: bold\">22457</span>, <span style=\"color: #008080; text-decoration-color: #008080; font-weight: bold\">22457</span><span style=\"font-weight: bold\">)</span>,\n",
       " <span style=\"color: #008080; text-decoration-color: #008080; font-weight: bold\">18</span>: <span style=\"font-weight: bold\">(</span><span style=\"color: #008080; text-decoration-color: #008080; font-weight: bold\">19983</span>, <span style=\"color: #008080; text-decoration-color: #008080; font-weight: bold\">19983</span><span style=\"font-weight: bold\">)</span>,\n",
       " <span style=\"color: #008080; text-decoration-color: #008080; font-weight: bold\">19</span>: <span style=\"font-weight: bold\">(</span><span style=\"color: #008080; text-decoration-color: #008080; font-weight: bold\">431</span>, <span style=\"color: #008080; text-decoration-color: #008080; font-weight: bold\">431</span><span style=\"font-weight: bold\">)</span>,\n",
       " <span style=\"color: #008080; text-decoration-color: #008080; font-weight: bold\">20</span>: <span style=\"font-weight: bold\">(</span><span style=\"color: #008080; text-decoration-color: #008080; font-weight: bold\">12422</span>, <span style=\"color: #008080; text-decoration-color: #008080; font-weight: bold\">12422</span><span style=\"font-weight: bold\">)</span>,\n",
       " <span style=\"color: #008080; text-decoration-color: #008080; font-weight: bold\">21</span>: <span style=\"font-weight: bold\">(</span><span style=\"color: #008080; text-decoration-color: #008080; font-weight: bold\">270</span>, <span style=\"color: #008080; text-decoration-color: #008080; font-weight: bold\">270</span><span style=\"font-weight: bold\">)</span>,\n",
       " <span style=\"color: #008080; text-decoration-color: #008080; font-weight: bold\">22</span>: <span style=\"font-weight: bold\">(</span><span style=\"color: #008080; text-decoration-color: #008080; font-weight: bold\">580</span>, <span style=\"color: #008080; text-decoration-color: #008080; font-weight: bold\">580</span><span style=\"font-weight: bold\">)</span>,\n",
       " <span style=\"color: #008080; text-decoration-color: #008080; font-weight: bold\">23</span>: <span style=\"font-weight: bold\">(</span><span style=\"color: #008080; text-decoration-color: #008080; font-weight: bold\">351</span>, <span style=\"color: #008080; text-decoration-color: #008080; font-weight: bold\">351</span><span style=\"font-weight: bold\">)</span>,\n",
       " <span style=\"color: #008080; text-decoration-color: #008080; font-weight: bold\">24</span>: <span style=\"font-weight: bold\">(</span><span style=\"color: #008080; text-decoration-color: #008080; font-weight: bold\">1547</span>, <span style=\"color: #008080; text-decoration-color: #008080; font-weight: bold\">1567</span><span style=\"font-weight: bold\">)</span>,\n",
       " <span style=\"color: #008080; text-decoration-color: #008080; font-weight: bold\">25</span>: <span style=\"font-weight: bold\">(</span><span style=\"color: #008080; text-decoration-color: #008080; font-weight: bold\">2975</span>, <span style=\"color: #008080; text-decoration-color: #008080; font-weight: bold\">3018</span><span style=\"font-weight: bold\">)</span>,\n",
       " <span style=\"color: #008080; text-decoration-color: #008080; font-weight: bold\">27</span>: <span style=\"font-weight: bold\">(</span><span style=\"color: #008080; text-decoration-color: #008080; font-weight: bold\">400</span>, <span style=\"color: #008080; text-decoration-color: #008080; font-weight: bold\">416</span><span style=\"font-weight: bold\">)</span>,\n",
       " <span style=\"color: #008080; text-decoration-color: #008080; font-weight: bold\">28</span>: <span style=\"font-weight: bold\">(</span><span style=\"color: #008080; text-decoration-color: #008080; font-weight: bold\">322</span>, <span style=\"color: #008080; text-decoration-color: #008080; font-weight: bold\">322</span><span style=\"font-weight: bold\">)</span>,\n",
       " <span style=\"color: #008080; text-decoration-color: #008080; font-weight: bold\">30</span>: <span style=\"font-weight: bold\">(</span><span style=\"color: #008080; text-decoration-color: #008080; font-weight: bold\">342</span>, <span style=\"color: #008080; text-decoration-color: #008080; font-weight: bold\">342</span><span style=\"font-weight: bold\">)</span>,\n",
       " <span style=\"color: #008080; text-decoration-color: #008080; font-weight: bold\">31</span>: <span style=\"font-weight: bold\">(</span><span style=\"color: #008080; text-decoration-color: #008080; font-weight: bold\">325</span>, <span style=\"color: #008080; text-decoration-color: #008080; font-weight: bold\">325</span><span style=\"font-weight: bold\">)</span>,\n",
       " <span style=\"color: #008080; text-decoration-color: #008080; font-weight: bold\">32</span>: <span style=\"font-weight: bold\">(</span><span style=\"color: #008080; text-decoration-color: #008080; font-weight: bold\">4042</span>, <span style=\"color: #008080; text-decoration-color: #008080; font-weight: bold\">4042</span><span style=\"font-weight: bold\">)</span>,\n",
       " <span style=\"color: #008080; text-decoration-color: #008080; font-weight: bold\">34</span>: <span style=\"font-weight: bold\">(</span><span style=\"color: #008080; text-decoration-color: #008080; font-weight: bold\">701</span>, <span style=\"color: #008080; text-decoration-color: #008080; font-weight: bold\">701</span><span style=\"font-weight: bold\">)}</span>\n",
       "</pre>\n"
      ],
      "text/plain": [
       "\u001b[1m{\u001b[0m\u001b[1;36m0\u001b[0m: \u001b[1m(\u001b[0m\u001b[1;36m23913\u001b[0m, \u001b[1;36m23913\u001b[0m\u001b[1m)\u001b[0m,\n",
       " \u001b[1;36m1\u001b[0m: \u001b[1m(\u001b[0m\u001b[1;36m23904\u001b[0m, \u001b[1;36m23904\u001b[0m\u001b[1m)\u001b[0m,\n",
       " \u001b[1;36m2\u001b[0m: \u001b[1m(\u001b[0m\u001b[1;36m23319\u001b[0m, \u001b[1;36m23423\u001b[0m\u001b[1m)\u001b[0m,\n",
       " \u001b[1;36m3\u001b[0m: \u001b[1m(\u001b[0m\u001b[1;36m21242\u001b[0m, \u001b[1;36m21245\u001b[0m\u001b[1m)\u001b[0m,\n",
       " \u001b[1;36m4\u001b[0m: \u001b[1m(\u001b[0m\u001b[1;36m23911\u001b[0m, \u001b[1;36m23911\u001b[0m\u001b[1m)\u001b[0m,\n",
       " \u001b[1;36m5\u001b[0m: \u001b[1m(\u001b[0m\u001b[1;36m23898\u001b[0m, \u001b[1;36m23913\u001b[0m\u001b[1m)\u001b[0m,\n",
       " \u001b[1;36m6\u001b[0m: \u001b[1m(\u001b[0m\u001b[1;36m23871\u001b[0m, \u001b[1;36m23871\u001b[0m\u001b[1m)\u001b[0m,\n",
       " \u001b[1;36m7\u001b[0m: \u001b[1m(\u001b[0m\u001b[1;36m17409\u001b[0m, \u001b[1;36m17409\u001b[0m\u001b[1m)\u001b[0m,\n",
       " \u001b[1;36m8\u001b[0m: \u001b[1m(\u001b[0m\u001b[1;36m23790\u001b[0m, \u001b[1;36m23790\u001b[0m\u001b[1m)\u001b[0m,\n",
       " \u001b[1;36m9\u001b[0m: \u001b[1m(\u001b[0m\u001b[1;36m23874\u001b[0m, \u001b[1;36m23874\u001b[0m\u001b[1m)\u001b[0m,\n",
       " \u001b[1;36m10\u001b[0m: \u001b[1m(\u001b[0m\u001b[1;36m23628\u001b[0m, \u001b[1;36m23628\u001b[0m\u001b[1m)\u001b[0m,\n",
       " \u001b[1;36m11\u001b[0m: \u001b[1m(\u001b[0m\u001b[1;36m822\u001b[0m, \u001b[1;36m822\u001b[0m\u001b[1m)\u001b[0m,\n",
       " \u001b[1;36m12\u001b[0m: \u001b[1m(\u001b[0m\u001b[1;36m23172\u001b[0m, \u001b[1;36m23172\u001b[0m\u001b[1m)\u001b[0m,\n",
       " \u001b[1;36m13\u001b[0m: \u001b[1m(\u001b[0m\u001b[1;36m331\u001b[0m, \u001b[1;36m331\u001b[0m\u001b[1m)\u001b[0m,\n",
       " \u001b[1;36m14\u001b[0m: \u001b[1m(\u001b[0m\u001b[1;36m22669\u001b[0m, \u001b[1;36m22669\u001b[0m\u001b[1m)\u001b[0m,\n",
       " \u001b[1;36m15\u001b[0m: \u001b[1m(\u001b[0m\u001b[1;36m755\u001b[0m, \u001b[1;36m755\u001b[0m\u001b[1m)\u001b[0m,\n",
       " \u001b[1;36m16\u001b[0m: \u001b[1m(\u001b[0m\u001b[1;36m16278\u001b[0m, \u001b[1;36m16278\u001b[0m\u001b[1m)\u001b[0m,\n",
       " \u001b[1;36m17\u001b[0m: \u001b[1m(\u001b[0m\u001b[1;36m22457\u001b[0m, \u001b[1;36m22457\u001b[0m\u001b[1m)\u001b[0m,\n",
       " \u001b[1;36m18\u001b[0m: \u001b[1m(\u001b[0m\u001b[1;36m19983\u001b[0m, \u001b[1;36m19983\u001b[0m\u001b[1m)\u001b[0m,\n",
       " \u001b[1;36m19\u001b[0m: \u001b[1m(\u001b[0m\u001b[1;36m431\u001b[0m, \u001b[1;36m431\u001b[0m\u001b[1m)\u001b[0m,\n",
       " \u001b[1;36m20\u001b[0m: \u001b[1m(\u001b[0m\u001b[1;36m12422\u001b[0m, \u001b[1;36m12422\u001b[0m\u001b[1m)\u001b[0m,\n",
       " \u001b[1;36m21\u001b[0m: \u001b[1m(\u001b[0m\u001b[1;36m270\u001b[0m, \u001b[1;36m270\u001b[0m\u001b[1m)\u001b[0m,\n",
       " \u001b[1;36m22\u001b[0m: \u001b[1m(\u001b[0m\u001b[1;36m580\u001b[0m, \u001b[1;36m580\u001b[0m\u001b[1m)\u001b[0m,\n",
       " \u001b[1;36m23\u001b[0m: \u001b[1m(\u001b[0m\u001b[1;36m351\u001b[0m, \u001b[1;36m351\u001b[0m\u001b[1m)\u001b[0m,\n",
       " \u001b[1;36m24\u001b[0m: \u001b[1m(\u001b[0m\u001b[1;36m1547\u001b[0m, \u001b[1;36m1567\u001b[0m\u001b[1m)\u001b[0m,\n",
       " \u001b[1;36m25\u001b[0m: \u001b[1m(\u001b[0m\u001b[1;36m2975\u001b[0m, \u001b[1;36m3018\u001b[0m\u001b[1m)\u001b[0m,\n",
       " \u001b[1;36m27\u001b[0m: \u001b[1m(\u001b[0m\u001b[1;36m400\u001b[0m, \u001b[1;36m416\u001b[0m\u001b[1m)\u001b[0m,\n",
       " \u001b[1;36m28\u001b[0m: \u001b[1m(\u001b[0m\u001b[1;36m322\u001b[0m, \u001b[1;36m322\u001b[0m\u001b[1m)\u001b[0m,\n",
       " \u001b[1;36m30\u001b[0m: \u001b[1m(\u001b[0m\u001b[1;36m342\u001b[0m, \u001b[1;36m342\u001b[0m\u001b[1m)\u001b[0m,\n",
       " \u001b[1;36m31\u001b[0m: \u001b[1m(\u001b[0m\u001b[1;36m325\u001b[0m, \u001b[1;36m325\u001b[0m\u001b[1m)\u001b[0m,\n",
       " \u001b[1;36m32\u001b[0m: \u001b[1m(\u001b[0m\u001b[1;36m4042\u001b[0m, \u001b[1;36m4042\u001b[0m\u001b[1m)\u001b[0m,\n",
       " \u001b[1;36m34\u001b[0m: \u001b[1m(\u001b[0m\u001b[1;36m701\u001b[0m, \u001b[1;36m701\u001b[0m\u001b[1m)\u001b[0m\u001b[1m}\u001b[0m\n"
      ]
     },
     "metadata": {},
     "output_type": "display_data"
    },
    {
     "name": "stdout",
     "output_type": "stream",
     "text": [
      "f\"Got reid embedding for {sid}\" : Got reid embedding for 0\n",
      "f\"Got reid embedding for {sid}\" : Got reid embedding for 1\n",
      "f\"Got reid embedding for {sid}\" : Got reid embedding for 2\n",
      "f\"Got reid embedding for {sid}\" : Got reid embedding for 3\n",
      "f\"Got reid embedding for {sid}\" : Got reid embedding for 4\n",
      "f\"Got reid embedding for {sid}\" : Got reid embedding for 5\n",
      "f\"Got reid embedding for {sid}\" : Got reid embedding for 6\n",
      "f\"Got reid embedding for {sid}\" : Got reid embedding for 7\n",
      "f\"Got reid embedding for {sid}\" : Got reid embedding for 8\n",
      "f\"Got reid embedding for {sid}\" : Got reid embedding for 9\n",
      "f\"Got reid embedding for {sid}\" : Got reid embedding for 10\n",
      "f\"Got reid embedding for {sid}\" : Got reid embedding for 11\n",
      "f\"Got reid embedding for {sid}\" : Got reid embedding for 12\n",
      "f\"Got reid embedding for {sid}\" : Got reid embedding for 13\n",
      "f\"Got reid embedding for {sid}\" : Got reid embedding for 14\n",
      "f\"Got reid embedding for {sid}\" : Got reid embedding for 15\n",
      "f\"Got reid embedding for {sid}\" : Got reid embedding for 16\n",
      "f\"Got reid embedding for {sid}\" : Got reid embedding for 17\n",
      "f\"Got reid embedding for {sid}\" : Got reid embedding for 18\n",
      "f\"Got reid embedding for {sid}\" : Got reid embedding for 19\n",
      "f\"Got reid embedding for {sid}\" : Got reid embedding for 20\n",
      "f\"Got reid embedding for {sid}\" : Got reid embedding for 21\n",
      "f\"Got reid embedding for {sid}\" : Got reid embedding for 22\n",
      "f\"Got reid embedding for {sid}\" : Got reid embedding for 23\n",
      "f\"Got reid embedding for {sid}\" : Got reid embedding for 24\n",
      "f\"Got reid embedding for {sid}\" : Got reid embedding for 25\n",
      "f\"Got reid embedding for {sid}\" : Got reid embedding for 27\n",
      "f\"Got reid embedding for {sid}\" : Got reid embedding for 28\n",
      "f\"Got reid embedding for {sid}\" : Got reid embedding for 30\n",
      "f\"Got reid embedding for {sid}\" : Got reid embedding for 31\n",
      "f\"Got reid embedding for {sid}\" : Got reid embedding for 32\n",
      "f\"Got reid embedding for {sid}\" : Got reid embedding for 34\n"
     ]
    },
    {
     "data": {
      "text/markdown": [
       "### Got cross session input info for session: 0-05748A, session:1-classinsight-cmu_05748A_ghc_4101_201902141630-front"
      ],
      "text/plain": [
       "<IPython.core.display.Markdown object>"
      ]
     },
     "metadata": {},
     "output_type": "display_data"
    },
    {
     "name": "stdout",
     "output_type": "stream",
     "text": [
      "Session classinsight-cmu_05748A_ghc_4101_201901291630-front not in session filter list, skipping...\n",
      "Session classinsight-cmu_05748A_ghc_4101_201901311630-front not in session filter list, skipping...\n",
      "Session classinsight-cmu_05748A_ghc_4101_201902071630-front not in session filter list, skipping...\n",
      "Session classinsight-cmu_05748A_ghc_4101_201902121630-front not in session filter list, skipping...\n",
      "Session classinsight-cmu_05748A_ghc_4101_201902191630-front not in session filter list, skipping...\n",
      "Session classinsight-cmu_05748A_ghc_4101_201902211630-front not in session filter list, skipping...\n"
     ]
    },
    {
     "data": {
      "text/markdown": [
       "## Building cross session input info for session: 0-05748A, session:8-classinsight-cmu_05748A_ghc_4101_201902281630-front"
      ],
      "text/plain": [
       "<IPython.core.display.Markdown object>"
      ]
     },
     "metadata": {},
     "output_type": "display_data"
    },
    {
     "name": "stdout",
     "output_type": "stream",
     "text": [
      "10 14\n",
      "27 30\n",
      "28 33\n",
      "Dict: eligible_id_map_dict\n",
      "Key: Value\n"
     ]
    },
    {
     "data": {
      "text/html": [
       "<pre style=\"white-space:pre;overflow-x:auto;line-height:normal;font-family:Menlo,'DejaVu Sans Mono',consolas,'Courier New',monospace\"><span style=\"font-weight: bold\">{</span><span style=\"color: #008080; text-decoration-color: #008080; font-weight: bold\">14</span>: <span style=\"color: #008080; text-decoration-color: #008080; font-weight: bold\">10</span>, <span style=\"color: #008080; text-decoration-color: #008080; font-weight: bold\">30</span>: <span style=\"color: #008080; text-decoration-color: #008080; font-weight: bold\">27</span>, <span style=\"color: #008080; text-decoration-color: #008080; font-weight: bold\">33</span>: <span style=\"color: #008080; text-decoration-color: #008080; font-weight: bold\">28</span><span style=\"font-weight: bold\">}</span>\n",
       "</pre>\n"
      ],
      "text/plain": [
       "\u001b[1m{\u001b[0m\u001b[1;36m14\u001b[0m: \u001b[1;36m10\u001b[0m, \u001b[1;36m30\u001b[0m: \u001b[1;36m27\u001b[0m, \u001b[1;36m33\u001b[0m: \u001b[1;36m28\u001b[0m\u001b[1m}\u001b[0m\n"
      ]
     },
     "metadata": {},
     "output_type": "display_data"
    },
    {
     "name": "stdout",
     "output_type": "stream",
     "text": [
      "\"Corrected\", eligible_id_map_dict : Corrected {14: 10, 30: 27, 33: 28}\n",
      "\"replacing ids in old to new id maps\" : replacing ids in old to new id maps\n",
      "replacing 70:14 -->10\n",
      "replacing 573:30 -->27\n",
      "replacing 862:33 -->28\n",
      "Dict: {xr:(emb_info[xr].shape[0], bbox_info[xr].shape[0]) for xr in emb_info}\n",
      "Key: Value\n"
     ]
    },
    {
     "data": {
      "text/html": [
       "<pre style=\"white-space:pre;overflow-x:auto;line-height:normal;font-family:Menlo,'DejaVu Sans Mono',consolas,'Courier New',monospace\"><span style=\"font-weight: bold\">{</span><span style=\"color: #008080; text-decoration-color: #008080; font-weight: bold\">0</span>: <span style=\"font-weight: bold\">(</span><span style=\"color: #008080; text-decoration-color: #008080; font-weight: bold\">22394</span>, <span style=\"color: #008080; text-decoration-color: #008080; font-weight: bold\">22394</span><span style=\"font-weight: bold\">)</span>,\n",
       " <span style=\"color: #008080; text-decoration-color: #008080; font-weight: bold\">1</span>: <span style=\"font-weight: bold\">(</span><span style=\"color: #008080; text-decoration-color: #008080; font-weight: bold\">22394</span>, <span style=\"color: #008080; text-decoration-color: #008080; font-weight: bold\">22394</span><span style=\"font-weight: bold\">)</span>,\n",
       " <span style=\"color: #008080; text-decoration-color: #008080; font-weight: bold\">2</span>: <span style=\"font-weight: bold\">(</span><span style=\"color: #008080; text-decoration-color: #008080; font-weight: bold\">22370</span>, <span style=\"color: #008080; text-decoration-color: #008080; font-weight: bold\">22370</span><span style=\"font-weight: bold\">)</span>,\n",
       " <span style=\"color: #008080; text-decoration-color: #008080; font-weight: bold\">3</span>: <span style=\"font-weight: bold\">(</span><span style=\"color: #008080; text-decoration-color: #008080; font-weight: bold\">22383</span>, <span style=\"color: #008080; text-decoration-color: #008080; font-weight: bold\">22383</span><span style=\"font-weight: bold\">)</span>,\n",
       " <span style=\"color: #008080; text-decoration-color: #008080; font-weight: bold\">4</span>: <span style=\"font-weight: bold\">(</span><span style=\"color: #008080; text-decoration-color: #008080; font-weight: bold\">9654</span>, <span style=\"color: #008080; text-decoration-color: #008080; font-weight: bold\">9654</span><span style=\"font-weight: bold\">)</span>,\n",
       " <span style=\"color: #008080; text-decoration-color: #008080; font-weight: bold\">5</span>: <span style=\"font-weight: bold\">(</span><span style=\"color: #008080; text-decoration-color: #008080; font-weight: bold\">22386</span>, <span style=\"color: #008080; text-decoration-color: #008080; font-weight: bold\">22386</span><span style=\"font-weight: bold\">)</span>,\n",
       " <span style=\"color: #008080; text-decoration-color: #008080; font-weight: bold\">6</span>: <span style=\"font-weight: bold\">(</span><span style=\"color: #008080; text-decoration-color: #008080; font-weight: bold\">21682</span>, <span style=\"color: #008080; text-decoration-color: #008080; font-weight: bold\">21682</span><span style=\"font-weight: bold\">)</span>,\n",
       " <span style=\"color: #008080; text-decoration-color: #008080; font-weight: bold\">7</span>: <span style=\"font-weight: bold\">(</span><span style=\"color: #008080; text-decoration-color: #008080; font-weight: bold\">22285</span>, <span style=\"color: #008080; text-decoration-color: #008080; font-weight: bold\">22285</span><span style=\"font-weight: bold\">)</span>,\n",
       " <span style=\"color: #008080; text-decoration-color: #008080; font-weight: bold\">8</span>: <span style=\"font-weight: bold\">(</span><span style=\"color: #008080; text-decoration-color: #008080; font-weight: bold\">22279</span>, <span style=\"color: #008080; text-decoration-color: #008080; font-weight: bold\">22279</span><span style=\"font-weight: bold\">)</span>,\n",
       " <span style=\"color: #008080; text-decoration-color: #008080; font-weight: bold\">9</span>: <span style=\"font-weight: bold\">(</span><span style=\"color: #008080; text-decoration-color: #008080; font-weight: bold\">21880</span>, <span style=\"color: #008080; text-decoration-color: #008080; font-weight: bold\">21880</span><span style=\"font-weight: bold\">)</span>,\n",
       " <span style=\"color: #008080; text-decoration-color: #008080; font-weight: bold\">10</span>: <span style=\"font-weight: bold\">(</span><span style=\"color: #008080; text-decoration-color: #008080; font-weight: bold\">2150</span>, <span style=\"color: #008080; text-decoration-color: #008080; font-weight: bold\">2150</span><span style=\"font-weight: bold\">)</span>,\n",
       " <span style=\"color: #008080; text-decoration-color: #008080; font-weight: bold\">11</span>: <span style=\"font-weight: bold\">(</span><span style=\"color: #008080; text-decoration-color: #008080; font-weight: bold\">1837</span>, <span style=\"color: #008080; text-decoration-color: #008080; font-weight: bold\">1837</span><span style=\"font-weight: bold\">)</span>,\n",
       " <span style=\"color: #008080; text-decoration-color: #008080; font-weight: bold\">12</span>: <span style=\"font-weight: bold\">(</span><span style=\"color: #008080; text-decoration-color: #008080; font-weight: bold\">21536</span>, <span style=\"color: #008080; text-decoration-color: #008080; font-weight: bold\">21536</span><span style=\"font-weight: bold\">)</span>,\n",
       " <span style=\"color: #008080; text-decoration-color: #008080; font-weight: bold\">13</span>: <span style=\"font-weight: bold\">(</span><span style=\"color: #008080; text-decoration-color: #008080; font-weight: bold\">21444</span>, <span style=\"color: #008080; text-decoration-color: #008080; font-weight: bold\">21444</span><span style=\"font-weight: bold\">)</span>,\n",
       " <span style=\"color: #008080; text-decoration-color: #008080; font-weight: bold\">15</span>: <span style=\"font-weight: bold\">(</span><span style=\"color: #008080; text-decoration-color: #008080; font-weight: bold\">21297</span>, <span style=\"color: #008080; text-decoration-color: #008080; font-weight: bold\">21297</span><span style=\"font-weight: bold\">)</span>,\n",
       " <span style=\"color: #008080; text-decoration-color: #008080; font-weight: bold\">16</span>: <span style=\"font-weight: bold\">(</span><span style=\"color: #008080; text-decoration-color: #008080; font-weight: bold\">21266</span>, <span style=\"color: #008080; text-decoration-color: #008080; font-weight: bold\">21266</span><span style=\"font-weight: bold\">)</span>,\n",
       " <span style=\"color: #008080; text-decoration-color: #008080; font-weight: bold\">17</span>: <span style=\"font-weight: bold\">(</span><span style=\"color: #008080; text-decoration-color: #008080; font-weight: bold\">1431</span>, <span style=\"color: #008080; text-decoration-color: #008080; font-weight: bold\">1431</span><span style=\"font-weight: bold\">)</span>,\n",
       " <span style=\"color: #008080; text-decoration-color: #008080; font-weight: bold\">18</span>: <span style=\"font-weight: bold\">(</span><span style=\"color: #008080; text-decoration-color: #008080; font-weight: bold\">20938</span>, <span style=\"color: #008080; text-decoration-color: #008080; font-weight: bold\">20938</span><span style=\"font-weight: bold\">)</span>,\n",
       " <span style=\"color: #008080; text-decoration-color: #008080; font-weight: bold\">19</span>: <span style=\"font-weight: bold\">(</span><span style=\"color: #008080; text-decoration-color: #008080; font-weight: bold\">19948</span>, <span style=\"color: #008080; text-decoration-color: #008080; font-weight: bold\">19948</span><span style=\"font-weight: bold\">)</span>,\n",
       " <span style=\"color: #008080; text-decoration-color: #008080; font-weight: bold\">20</span>: <span style=\"font-weight: bold\">(</span><span style=\"color: #008080; text-decoration-color: #008080; font-weight: bold\">19883</span>, <span style=\"color: #008080; text-decoration-color: #008080; font-weight: bold\">19883</span><span style=\"font-weight: bold\">)</span>,\n",
       " <span style=\"color: #008080; text-decoration-color: #008080; font-weight: bold\">21</span>: <span style=\"font-weight: bold\">(</span><span style=\"color: #008080; text-decoration-color: #008080; font-weight: bold\">7832</span>, <span style=\"color: #008080; text-decoration-color: #008080; font-weight: bold\">7832</span><span style=\"font-weight: bold\">)</span>,\n",
       " <span style=\"color: #008080; text-decoration-color: #008080; font-weight: bold\">22</span>: <span style=\"font-weight: bold\">(</span><span style=\"color: #008080; text-decoration-color: #008080; font-weight: bold\">597</span>, <span style=\"color: #008080; text-decoration-color: #008080; font-weight: bold\">597</span><span style=\"font-weight: bold\">)</span>,\n",
       " <span style=\"color: #008080; text-decoration-color: #008080; font-weight: bold\">23</span>: <span style=\"font-weight: bold\">(</span><span style=\"color: #008080; text-decoration-color: #008080; font-weight: bold\">1243</span>, <span style=\"color: #008080; text-decoration-color: #008080; font-weight: bold\">1243</span><span style=\"font-weight: bold\">)</span>,\n",
       " <span style=\"color: #008080; text-decoration-color: #008080; font-weight: bold\">24</span>: <span style=\"font-weight: bold\">(</span><span style=\"color: #008080; text-decoration-color: #008080; font-weight: bold\">1093</span>, <span style=\"color: #008080; text-decoration-color: #008080; font-weight: bold\">1117</span><span style=\"font-weight: bold\">)</span>,\n",
       " <span style=\"color: #008080; text-decoration-color: #008080; font-weight: bold\">25</span>: <span style=\"font-weight: bold\">(</span><span style=\"color: #008080; text-decoration-color: #008080; font-weight: bold\">862</span>, <span style=\"color: #008080; text-decoration-color: #008080; font-weight: bold\">1020</span><span style=\"font-weight: bold\">)</span>,\n",
       " <span style=\"color: #008080; text-decoration-color: #008080; font-weight: bold\">26</span>: <span style=\"font-weight: bold\">(</span><span style=\"color: #008080; text-decoration-color: #008080; font-weight: bold\">632</span>, <span style=\"color: #008080; text-decoration-color: #008080; font-weight: bold\">632</span><span style=\"font-weight: bold\">)</span>,\n",
       " <span style=\"color: #008080; text-decoration-color: #008080; font-weight: bold\">27</span>: <span style=\"font-weight: bold\">(</span><span style=\"color: #008080; text-decoration-color: #008080; font-weight: bold\">10231</span>, <span style=\"color: #008080; text-decoration-color: #008080; font-weight: bold\">10231</span><span style=\"font-weight: bold\">)</span>,\n",
       " <span style=\"color: #008080; text-decoration-color: #008080; font-weight: bold\">28</span>: <span style=\"font-weight: bold\">(</span><span style=\"color: #008080; text-decoration-color: #008080; font-weight: bold\">10219</span>, <span style=\"color: #008080; text-decoration-color: #008080; font-weight: bold\">10219</span><span style=\"font-weight: bold\">)</span>,\n",
       " <span style=\"color: #008080; text-decoration-color: #008080; font-weight: bold\">29</span>: <span style=\"font-weight: bold\">(</span><span style=\"color: #008080; text-decoration-color: #008080; font-weight: bold\">320</span>, <span style=\"color: #008080; text-decoration-color: #008080; font-weight: bold\">358</span><span style=\"font-weight: bold\">)</span>,\n",
       " <span style=\"color: #008080; text-decoration-color: #008080; font-weight: bold\">31</span>: <span style=\"font-weight: bold\">(</span><span style=\"color: #008080; text-decoration-color: #008080; font-weight: bold\">627</span>, <span style=\"color: #008080; text-decoration-color: #008080; font-weight: bold\">627</span><span style=\"font-weight: bold\">)</span>,\n",
       " <span style=\"color: #008080; text-decoration-color: #008080; font-weight: bold\">32</span>: <span style=\"font-weight: bold\">(</span><span style=\"color: #008080; text-decoration-color: #008080; font-weight: bold\">911</span>, <span style=\"color: #008080; text-decoration-color: #008080; font-weight: bold\">911</span><span style=\"font-weight: bold\">)</span>,\n",
       " <span style=\"color: #008080; text-decoration-color: #008080; font-weight: bold\">34</span>: <span style=\"font-weight: bold\">(</span><span style=\"color: #008080; text-decoration-color: #008080; font-weight: bold\">390</span>, <span style=\"color: #008080; text-decoration-color: #008080; font-weight: bold\">390</span><span style=\"font-weight: bold\">)</span>,\n",
       " <span style=\"color: #008080; text-decoration-color: #008080; font-weight: bold\">35</span>: <span style=\"font-weight: bold\">(</span><span style=\"color: #008080; text-decoration-color: #008080; font-weight: bold\">211</span>, <span style=\"color: #008080; text-decoration-color: #008080; font-weight: bold\">327</span><span style=\"font-weight: bold\">)</span>,\n",
       " <span style=\"color: #008080; text-decoration-color: #008080; font-weight: bold\">36</span>: <span style=\"font-weight: bold\">(</span><span style=\"color: #008080; text-decoration-color: #008080; font-weight: bold\">425</span>, <span style=\"color: #008080; text-decoration-color: #008080; font-weight: bold\">583</span><span style=\"font-weight: bold\">)}</span>\n",
       "</pre>\n"
      ],
      "text/plain": [
       "\u001b[1m{\u001b[0m\u001b[1;36m0\u001b[0m: \u001b[1m(\u001b[0m\u001b[1;36m22394\u001b[0m, \u001b[1;36m22394\u001b[0m\u001b[1m)\u001b[0m,\n",
       " \u001b[1;36m1\u001b[0m: \u001b[1m(\u001b[0m\u001b[1;36m22394\u001b[0m, \u001b[1;36m22394\u001b[0m\u001b[1m)\u001b[0m,\n",
       " \u001b[1;36m2\u001b[0m: \u001b[1m(\u001b[0m\u001b[1;36m22370\u001b[0m, \u001b[1;36m22370\u001b[0m\u001b[1m)\u001b[0m,\n",
       " \u001b[1;36m3\u001b[0m: \u001b[1m(\u001b[0m\u001b[1;36m22383\u001b[0m, \u001b[1;36m22383\u001b[0m\u001b[1m)\u001b[0m,\n",
       " \u001b[1;36m4\u001b[0m: \u001b[1m(\u001b[0m\u001b[1;36m9654\u001b[0m, \u001b[1;36m9654\u001b[0m\u001b[1m)\u001b[0m,\n",
       " \u001b[1;36m5\u001b[0m: \u001b[1m(\u001b[0m\u001b[1;36m22386\u001b[0m, \u001b[1;36m22386\u001b[0m\u001b[1m)\u001b[0m,\n",
       " \u001b[1;36m6\u001b[0m: \u001b[1m(\u001b[0m\u001b[1;36m21682\u001b[0m, \u001b[1;36m21682\u001b[0m\u001b[1m)\u001b[0m,\n",
       " \u001b[1;36m7\u001b[0m: \u001b[1m(\u001b[0m\u001b[1;36m22285\u001b[0m, \u001b[1;36m22285\u001b[0m\u001b[1m)\u001b[0m,\n",
       " \u001b[1;36m8\u001b[0m: \u001b[1m(\u001b[0m\u001b[1;36m22279\u001b[0m, \u001b[1;36m22279\u001b[0m\u001b[1m)\u001b[0m,\n",
       " \u001b[1;36m9\u001b[0m: \u001b[1m(\u001b[0m\u001b[1;36m21880\u001b[0m, \u001b[1;36m21880\u001b[0m\u001b[1m)\u001b[0m,\n",
       " \u001b[1;36m10\u001b[0m: \u001b[1m(\u001b[0m\u001b[1;36m2150\u001b[0m, \u001b[1;36m2150\u001b[0m\u001b[1m)\u001b[0m,\n",
       " \u001b[1;36m11\u001b[0m: \u001b[1m(\u001b[0m\u001b[1;36m1837\u001b[0m, \u001b[1;36m1837\u001b[0m\u001b[1m)\u001b[0m,\n",
       " \u001b[1;36m12\u001b[0m: \u001b[1m(\u001b[0m\u001b[1;36m21536\u001b[0m, \u001b[1;36m21536\u001b[0m\u001b[1m)\u001b[0m,\n",
       " \u001b[1;36m13\u001b[0m: \u001b[1m(\u001b[0m\u001b[1;36m21444\u001b[0m, \u001b[1;36m21444\u001b[0m\u001b[1m)\u001b[0m,\n",
       " \u001b[1;36m15\u001b[0m: \u001b[1m(\u001b[0m\u001b[1;36m21297\u001b[0m, \u001b[1;36m21297\u001b[0m\u001b[1m)\u001b[0m,\n",
       " \u001b[1;36m16\u001b[0m: \u001b[1m(\u001b[0m\u001b[1;36m21266\u001b[0m, \u001b[1;36m21266\u001b[0m\u001b[1m)\u001b[0m,\n",
       " \u001b[1;36m17\u001b[0m: \u001b[1m(\u001b[0m\u001b[1;36m1431\u001b[0m, \u001b[1;36m1431\u001b[0m\u001b[1m)\u001b[0m,\n",
       " \u001b[1;36m18\u001b[0m: \u001b[1m(\u001b[0m\u001b[1;36m20938\u001b[0m, \u001b[1;36m20938\u001b[0m\u001b[1m)\u001b[0m,\n",
       " \u001b[1;36m19\u001b[0m: \u001b[1m(\u001b[0m\u001b[1;36m19948\u001b[0m, \u001b[1;36m19948\u001b[0m\u001b[1m)\u001b[0m,\n",
       " \u001b[1;36m20\u001b[0m: \u001b[1m(\u001b[0m\u001b[1;36m19883\u001b[0m, \u001b[1;36m19883\u001b[0m\u001b[1m)\u001b[0m,\n",
       " \u001b[1;36m21\u001b[0m: \u001b[1m(\u001b[0m\u001b[1;36m7832\u001b[0m, \u001b[1;36m7832\u001b[0m\u001b[1m)\u001b[0m,\n",
       " \u001b[1;36m22\u001b[0m: \u001b[1m(\u001b[0m\u001b[1;36m597\u001b[0m, \u001b[1;36m597\u001b[0m\u001b[1m)\u001b[0m,\n",
       " \u001b[1;36m23\u001b[0m: \u001b[1m(\u001b[0m\u001b[1;36m1243\u001b[0m, \u001b[1;36m1243\u001b[0m\u001b[1m)\u001b[0m,\n",
       " \u001b[1;36m24\u001b[0m: \u001b[1m(\u001b[0m\u001b[1;36m1093\u001b[0m, \u001b[1;36m1117\u001b[0m\u001b[1m)\u001b[0m,\n",
       " \u001b[1;36m25\u001b[0m: \u001b[1m(\u001b[0m\u001b[1;36m862\u001b[0m, \u001b[1;36m1020\u001b[0m\u001b[1m)\u001b[0m,\n",
       " \u001b[1;36m26\u001b[0m: \u001b[1m(\u001b[0m\u001b[1;36m632\u001b[0m, \u001b[1;36m632\u001b[0m\u001b[1m)\u001b[0m,\n",
       " \u001b[1;36m27\u001b[0m: \u001b[1m(\u001b[0m\u001b[1;36m10231\u001b[0m, \u001b[1;36m10231\u001b[0m\u001b[1m)\u001b[0m,\n",
       " \u001b[1;36m28\u001b[0m: \u001b[1m(\u001b[0m\u001b[1;36m10219\u001b[0m, \u001b[1;36m10219\u001b[0m\u001b[1m)\u001b[0m,\n",
       " \u001b[1;36m29\u001b[0m: \u001b[1m(\u001b[0m\u001b[1;36m320\u001b[0m, \u001b[1;36m358\u001b[0m\u001b[1m)\u001b[0m,\n",
       " \u001b[1;36m31\u001b[0m: \u001b[1m(\u001b[0m\u001b[1;36m627\u001b[0m, \u001b[1;36m627\u001b[0m\u001b[1m)\u001b[0m,\n",
       " \u001b[1;36m32\u001b[0m: \u001b[1m(\u001b[0m\u001b[1;36m911\u001b[0m, \u001b[1;36m911\u001b[0m\u001b[1m)\u001b[0m,\n",
       " \u001b[1;36m34\u001b[0m: \u001b[1m(\u001b[0m\u001b[1;36m390\u001b[0m, \u001b[1;36m390\u001b[0m\u001b[1m)\u001b[0m,\n",
       " \u001b[1;36m35\u001b[0m: \u001b[1m(\u001b[0m\u001b[1;36m211\u001b[0m, \u001b[1;36m327\u001b[0m\u001b[1m)\u001b[0m,\n",
       " \u001b[1;36m36\u001b[0m: \u001b[1m(\u001b[0m\u001b[1;36m425\u001b[0m, \u001b[1;36m583\u001b[0m\u001b[1m)\u001b[0m\u001b[1m}\u001b[0m\n"
      ]
     },
     "metadata": {},
     "output_type": "display_data"
    },
    {
     "name": "stdout",
     "output_type": "stream",
     "text": [
      "f\"Got reid embedding for {sid}\" : Got reid embedding for 0\n",
      "f\"Got reid embedding for {sid}\" : Got reid embedding for 1\n",
      "f\"Got reid embedding for {sid}\" : Got reid embedding for 2\n",
      "f\"Got reid embedding for {sid}\" : Got reid embedding for 3\n",
      "f\"Got reid embedding for {sid}\" : Got reid embedding for 4\n",
      "f\"Got reid embedding for {sid}\" : Got reid embedding for 5\n",
      "f\"Got reid embedding for {sid}\" : Got reid embedding for 6\n",
      "f\"Got reid embedding for {sid}\" : Got reid embedding for 7\n",
      "f\"Got reid embedding for {sid}\" : Got reid embedding for 8\n",
      "f\"Got reid embedding for {sid}\" : Got reid embedding for 9\n",
      "f\"Got reid embedding for {sid}\" : Got reid embedding for 10\n",
      "f\"Got reid embedding for {sid}\" : Got reid embedding for 11\n",
      "f\"Got reid embedding for {sid}\" : Got reid embedding for 12\n",
      "f\"Got reid embedding for {sid}\" : Got reid embedding for 13\n",
      "f\"Got reid embedding for {sid}\" : Got reid embedding for 15\n",
      "f\"Got reid embedding for {sid}\" : Got reid embedding for 16\n",
      "f\"Got reid embedding for {sid}\" : Got reid embedding for 17\n",
      "f\"Got reid embedding for {sid}\" : Got reid embedding for 18\n",
      "f\"Got reid embedding for {sid}\" : Got reid embedding for 19\n",
      "f\"Got reid embedding for {sid}\" : Got reid embedding for 20\n",
      "f\"Got reid embedding for {sid}\" : Got reid embedding for 21\n",
      "f\"Got reid embedding for {sid}\" : Got reid embedding for 22\n",
      "f\"Got reid embedding for {sid}\" : Got reid embedding for 23\n",
      "f\"Got reid embedding for {sid}\" : Got reid embedding for 24\n",
      "f\"Got reid embedding for {sid}\" : Got reid embedding for 25\n",
      "f\"Got reid embedding for {sid}\" : Got reid embedding for 26\n",
      "f\"Got reid embedding for {sid}\" : Got reid embedding for 27\n",
      "f\"Got reid embedding for {sid}\" : Got reid embedding for 28\n",
      "f\"Got reid embedding for {sid}\" : Got reid embedding for 29\n",
      "f\"Got reid embedding for {sid}\" : Got reid embedding for 31\n",
      "f\"Got reid embedding for {sid}\" : Got reid embedding for 32\n",
      "f\"Got reid embedding for {sid}\" : Got reid embedding for 34\n",
      "f\"Got reid embedding for {sid}\" : Got reid embedding for 35\n",
      "f\"Got reid embedding for {sid}\" : Got reid embedding for 36\n"
     ]
    },
    {
     "data": {
      "text/markdown": [
       "### Got cross session input info for session: 0-05748A, session:8-classinsight-cmu_05748A_ghc_4101_201902281630-front"
      ],
      "text/plain": [
       "<IPython.core.display.Markdown object>"
      ]
     },
     "metadata": {},
     "output_type": "display_data"
    },
    {
     "name": "stdout",
     "output_type": "stream",
     "text": [
      "Session classinsight-cmu_05748A_ghc_4101_201903051630-front not in session filter list, skipping...\n"
     ]
    },
    {
     "data": {
      "text/markdown": [
       "## Building cross session input info for session: 0-05748A, session:10-classinsight-cmu_05748A_ghc_4101_201903071630-front"
      ],
      "text/plain": [
       "<IPython.core.display.Markdown object>"
      ]
     },
     "metadata": {},
     "output_type": "display_data"
    },
    {
     "name": "stdout",
     "output_type": "stream",
     "text": [
      "16 25\n",
      "19 25\n",
      "26 31\n",
      "Dict: eligible_id_map_dict\n",
      "Key: Value\n"
     ]
    },
    {
     "data": {
      "text/html": [
       "<pre style=\"white-space:pre;overflow-x:auto;line-height:normal;font-family:Menlo,'DejaVu Sans Mono',consolas,'Courier New',monospace\"><span style=\"font-weight: bold\">{</span><span style=\"color: #008080; text-decoration-color: #008080; font-weight: bold\">19</span>: <span style=\"color: #008080; text-decoration-color: #008080; font-weight: bold\">16</span>, <span style=\"color: #008080; text-decoration-color: #008080; font-weight: bold\">25</span>: <span style=\"color: #008080; text-decoration-color: #008080; font-weight: bold\">16</span>, <span style=\"color: #008080; text-decoration-color: #008080; font-weight: bold\">31</span>: <span style=\"color: #008080; text-decoration-color: #008080; font-weight: bold\">26</span><span style=\"font-weight: bold\">}</span>\n",
       "</pre>\n"
      ],
      "text/plain": [
       "\u001b[1m{\u001b[0m\u001b[1;36m19\u001b[0m: \u001b[1;36m16\u001b[0m, \u001b[1;36m25\u001b[0m: \u001b[1;36m16\u001b[0m, \u001b[1;36m31\u001b[0m: \u001b[1;36m26\u001b[0m\u001b[1m}\u001b[0m\n"
      ]
     },
     "metadata": {},
     "output_type": "display_data"
    },
    {
     "name": "stdout",
     "output_type": "stream",
     "text": [
      "\"Corrected\", eligible_id_map_dict : Corrected {25: 16, 19: 16, 31: 26}\n",
      "\"replacing ids in old to new id maps\" : replacing ids in old to new id maps\n",
      "replacing 987:19 -->16\n",
      "replacing 1593:25 -->16\n",
      "replacing 1917:31 -->26\n",
      "replacing 1674:25 -->16\n",
      "Dict: {xr:(emb_info[xr].shape[0], bbox_info[xr].shape[0]) for xr in emb_info}\n",
      "Key: Value\n"
     ]
    },
    {
     "data": {
      "text/html": [
       "<pre style=\"white-space:pre;overflow-x:auto;line-height:normal;font-family:Menlo,'DejaVu Sans Mono',consolas,'Courier New',monospace\"><span style=\"font-weight: bold\">{</span><span style=\"color: #008080; text-decoration-color: #008080; font-weight: bold\">0</span>: <span style=\"font-weight: bold\">(</span><span style=\"color: #008080; text-decoration-color: #008080; font-weight: bold\">22241</span>, <span style=\"color: #008080; text-decoration-color: #008080; font-weight: bold\">22241</span><span style=\"font-weight: bold\">)</span>,\n",
       " <span style=\"color: #008080; text-decoration-color: #008080; font-weight: bold\">1</span>: <span style=\"font-weight: bold\">(</span><span style=\"color: #008080; text-decoration-color: #008080; font-weight: bold\">22233</span>, <span style=\"color: #008080; text-decoration-color: #008080; font-weight: bold\">22233</span><span style=\"font-weight: bold\">)</span>,\n",
       " <span style=\"color: #008080; text-decoration-color: #008080; font-weight: bold\">2</span>: <span style=\"font-weight: bold\">(</span><span style=\"color: #008080; text-decoration-color: #008080; font-weight: bold\">2285</span>, <span style=\"color: #008080; text-decoration-color: #008080; font-weight: bold\">2285</span><span style=\"font-weight: bold\">)</span>,\n",
       " <span style=\"color: #008080; text-decoration-color: #008080; font-weight: bold\">3</span>: <span style=\"font-weight: bold\">(</span><span style=\"color: #008080; text-decoration-color: #008080; font-weight: bold\">22241</span>, <span style=\"color: #008080; text-decoration-color: #008080; font-weight: bold\">22241</span><span style=\"font-weight: bold\">)</span>,\n",
       " <span style=\"color: #008080; text-decoration-color: #008080; font-weight: bold\">4</span>: <span style=\"font-weight: bold\">(</span><span style=\"color: #008080; text-decoration-color: #008080; font-weight: bold\">22246</span>, <span style=\"color: #008080; text-decoration-color: #008080; font-weight: bold\">22246</span><span style=\"font-weight: bold\">)</span>,\n",
       " <span style=\"color: #008080; text-decoration-color: #008080; font-weight: bold\">5</span>: <span style=\"font-weight: bold\">(</span><span style=\"color: #008080; text-decoration-color: #008080; font-weight: bold\">14977</span>, <span style=\"color: #008080; text-decoration-color: #008080; font-weight: bold\">14977</span><span style=\"font-weight: bold\">)</span>,\n",
       " <span style=\"color: #008080; text-decoration-color: #008080; font-weight: bold\">6</span>: <span style=\"font-weight: bold\">(</span><span style=\"color: #008080; text-decoration-color: #008080; font-weight: bold\">22146</span>, <span style=\"color: #008080; text-decoration-color: #008080; font-weight: bold\">22146</span><span style=\"font-weight: bold\">)</span>,\n",
       " <span style=\"color: #008080; text-decoration-color: #008080; font-weight: bold\">7</span>: <span style=\"font-weight: bold\">(</span><span style=\"color: #008080; text-decoration-color: #008080; font-weight: bold\">22132</span>, <span style=\"color: #008080; text-decoration-color: #008080; font-weight: bold\">22132</span><span style=\"font-weight: bold\">)</span>,\n",
       " <span style=\"color: #008080; text-decoration-color: #008080; font-weight: bold\">8</span>: <span style=\"font-weight: bold\">(</span><span style=\"color: #008080; text-decoration-color: #008080; font-weight: bold\">5920</span>, <span style=\"color: #008080; text-decoration-color: #008080; font-weight: bold\">5920</span><span style=\"font-weight: bold\">)</span>,\n",
       " <span style=\"color: #008080; text-decoration-color: #008080; font-weight: bold\">9</span>: <span style=\"font-weight: bold\">(</span><span style=\"color: #008080; text-decoration-color: #008080; font-weight: bold\">22087</span>, <span style=\"color: #008080; text-decoration-color: #008080; font-weight: bold\">22114</span><span style=\"font-weight: bold\">)</span>,\n",
       " <span style=\"color: #008080; text-decoration-color: #008080; font-weight: bold\">10</span>: <span style=\"font-weight: bold\">(</span><span style=\"color: #008080; text-decoration-color: #008080; font-weight: bold\">15158</span>, <span style=\"color: #008080; text-decoration-color: #008080; font-weight: bold\">15158</span><span style=\"font-weight: bold\">)</span>,\n",
       " <span style=\"color: #008080; text-decoration-color: #008080; font-weight: bold\">11</span>: <span style=\"font-weight: bold\">(</span><span style=\"color: #008080; text-decoration-color: #008080; font-weight: bold\">21448</span>, <span style=\"color: #008080; text-decoration-color: #008080; font-weight: bold\">21448</span><span style=\"font-weight: bold\">)</span>,\n",
       " <span style=\"color: #008080; text-decoration-color: #008080; font-weight: bold\">12</span>: <span style=\"font-weight: bold\">(</span><span style=\"color: #008080; text-decoration-color: #008080; font-weight: bold\">259</span>, <span style=\"color: #008080; text-decoration-color: #008080; font-weight: bold\">259</span><span style=\"font-weight: bold\">)</span>,\n",
       " <span style=\"color: #008080; text-decoration-color: #008080; font-weight: bold\">13</span>: <span style=\"font-weight: bold\">(</span><span style=\"color: #008080; text-decoration-color: #008080; font-weight: bold\">21584</span>, <span style=\"color: #008080; text-decoration-color: #008080; font-weight: bold\">21584</span><span style=\"font-weight: bold\">)</span>,\n",
       " <span style=\"color: #008080; text-decoration-color: #008080; font-weight: bold\">14</span>: <span style=\"font-weight: bold\">(</span><span style=\"color: #008080; text-decoration-color: #008080; font-weight: bold\">15685</span>, <span style=\"color: #008080; text-decoration-color: #008080; font-weight: bold\">15685</span><span style=\"font-weight: bold\">)</span>,\n",
       " <span style=\"color: #008080; text-decoration-color: #008080; font-weight: bold\">15</span>: <span style=\"font-weight: bold\">(</span><span style=\"color: #008080; text-decoration-color: #008080; font-weight: bold\">384</span>, <span style=\"color: #008080; text-decoration-color: #008080; font-weight: bold\">384</span><span style=\"font-weight: bold\">)</span>,\n",
       " <span style=\"color: #008080; text-decoration-color: #008080; font-weight: bold\">16</span>: <span style=\"font-weight: bold\">(</span><span style=\"color: #008080; text-decoration-color: #008080; font-weight: bold\">15709</span>, <span style=\"color: #008080; text-decoration-color: #008080; font-weight: bold\">15709</span><span style=\"font-weight: bold\">)</span>,\n",
       " <span style=\"color: #008080; text-decoration-color: #008080; font-weight: bold\">17</span>: <span style=\"font-weight: bold\">(</span><span style=\"color: #008080; text-decoration-color: #008080; font-weight: bold\">15742</span>, <span style=\"color: #008080; text-decoration-color: #008080; font-weight: bold\">15742</span><span style=\"font-weight: bold\">)</span>,\n",
       " <span style=\"color: #008080; text-decoration-color: #008080; font-weight: bold\">18</span>: <span style=\"font-weight: bold\">(</span><span style=\"color: #008080; text-decoration-color: #008080; font-weight: bold\">307</span>, <span style=\"color: #008080; text-decoration-color: #008080; font-weight: bold\">307</span><span style=\"font-weight: bold\">)</span>,\n",
       " <span style=\"color: #008080; text-decoration-color: #008080; font-weight: bold\">20</span>: <span style=\"font-weight: bold\">(</span><span style=\"color: #008080; text-decoration-color: #008080; font-weight: bold\">571</span>, <span style=\"color: #008080; text-decoration-color: #008080; font-weight: bold\">571</span><span style=\"font-weight: bold\">)</span>,\n",
       " <span style=\"color: #008080; text-decoration-color: #008080; font-weight: bold\">21</span>: <span style=\"font-weight: bold\">(</span><span style=\"color: #008080; text-decoration-color: #008080; font-weight: bold\">480</span>, <span style=\"color: #008080; text-decoration-color: #008080; font-weight: bold\">480</span><span style=\"font-weight: bold\">)</span>,\n",
       " <span style=\"color: #008080; text-decoration-color: #008080; font-weight: bold\">22</span>: <span style=\"font-weight: bold\">(</span><span style=\"color: #008080; text-decoration-color: #008080; font-weight: bold\">1421</span>, <span style=\"color: #008080; text-decoration-color: #008080; font-weight: bold\">1421</span><span style=\"font-weight: bold\">)</span>,\n",
       " <span style=\"color: #008080; text-decoration-color: #008080; font-weight: bold\">23</span>: <span style=\"font-weight: bold\">(</span><span style=\"color: #008080; text-decoration-color: #008080; font-weight: bold\">7162</span>, <span style=\"color: #008080; text-decoration-color: #008080; font-weight: bold\">7162</span><span style=\"font-weight: bold\">)</span>,\n",
       " <span style=\"color: #008080; text-decoration-color: #008080; font-weight: bold\">24</span>: <span style=\"font-weight: bold\">(</span><span style=\"color: #008080; text-decoration-color: #008080; font-weight: bold\">872</span>, <span style=\"color: #008080; text-decoration-color: #008080; font-weight: bold\">872</span><span style=\"font-weight: bold\">)</span>,\n",
       " <span style=\"color: #008080; text-decoration-color: #008080; font-weight: bold\">26</span>: <span style=\"font-weight: bold\">(</span><span style=\"color: #008080; text-decoration-color: #008080; font-weight: bold\">5059</span>, <span style=\"color: #008080; text-decoration-color: #008080; font-weight: bold\">5059</span><span style=\"font-weight: bold\">)</span>,\n",
       " <span style=\"color: #008080; text-decoration-color: #008080; font-weight: bold\">27</span>: <span style=\"font-weight: bold\">(</span><span style=\"color: #008080; text-decoration-color: #008080; font-weight: bold\">306</span>, <span style=\"color: #008080; text-decoration-color: #008080; font-weight: bold\">306</span><span style=\"font-weight: bold\">)</span>,\n",
       " <span style=\"color: #008080; text-decoration-color: #008080; font-weight: bold\">28</span>: <span style=\"font-weight: bold\">(</span><span style=\"color: #008080; text-decoration-color: #008080; font-weight: bold\">5196</span>, <span style=\"color: #008080; text-decoration-color: #008080; font-weight: bold\">5196</span><span style=\"font-weight: bold\">)</span>,\n",
       " <span style=\"color: #008080; text-decoration-color: #008080; font-weight: bold\">29</span>: <span style=\"font-weight: bold\">(</span><span style=\"color: #008080; text-decoration-color: #008080; font-weight: bold\">2331</span>, <span style=\"color: #008080; text-decoration-color: #008080; font-weight: bold\">2331</span><span style=\"font-weight: bold\">)</span>,\n",
       " <span style=\"color: #008080; text-decoration-color: #008080; font-weight: bold\">30</span>: <span style=\"font-weight: bold\">(</span><span style=\"color: #008080; text-decoration-color: #008080; font-weight: bold\">1737</span>, <span style=\"color: #008080; text-decoration-color: #008080; font-weight: bold\">1737</span><span style=\"font-weight: bold\">)}</span>\n",
       "</pre>\n"
      ],
      "text/plain": [
       "\u001b[1m{\u001b[0m\u001b[1;36m0\u001b[0m: \u001b[1m(\u001b[0m\u001b[1;36m22241\u001b[0m, \u001b[1;36m22241\u001b[0m\u001b[1m)\u001b[0m,\n",
       " \u001b[1;36m1\u001b[0m: \u001b[1m(\u001b[0m\u001b[1;36m22233\u001b[0m, \u001b[1;36m22233\u001b[0m\u001b[1m)\u001b[0m,\n",
       " \u001b[1;36m2\u001b[0m: \u001b[1m(\u001b[0m\u001b[1;36m2285\u001b[0m, \u001b[1;36m2285\u001b[0m\u001b[1m)\u001b[0m,\n",
       " \u001b[1;36m3\u001b[0m: \u001b[1m(\u001b[0m\u001b[1;36m22241\u001b[0m, \u001b[1;36m22241\u001b[0m\u001b[1m)\u001b[0m,\n",
       " \u001b[1;36m4\u001b[0m: \u001b[1m(\u001b[0m\u001b[1;36m22246\u001b[0m, \u001b[1;36m22246\u001b[0m\u001b[1m)\u001b[0m,\n",
       " \u001b[1;36m5\u001b[0m: \u001b[1m(\u001b[0m\u001b[1;36m14977\u001b[0m, \u001b[1;36m14977\u001b[0m\u001b[1m)\u001b[0m,\n",
       " \u001b[1;36m6\u001b[0m: \u001b[1m(\u001b[0m\u001b[1;36m22146\u001b[0m, \u001b[1;36m22146\u001b[0m\u001b[1m)\u001b[0m,\n",
       " \u001b[1;36m7\u001b[0m: \u001b[1m(\u001b[0m\u001b[1;36m22132\u001b[0m, \u001b[1;36m22132\u001b[0m\u001b[1m)\u001b[0m,\n",
       " \u001b[1;36m8\u001b[0m: \u001b[1m(\u001b[0m\u001b[1;36m5920\u001b[0m, \u001b[1;36m5920\u001b[0m\u001b[1m)\u001b[0m,\n",
       " \u001b[1;36m9\u001b[0m: \u001b[1m(\u001b[0m\u001b[1;36m22087\u001b[0m, \u001b[1;36m22114\u001b[0m\u001b[1m)\u001b[0m,\n",
       " \u001b[1;36m10\u001b[0m: \u001b[1m(\u001b[0m\u001b[1;36m15158\u001b[0m, \u001b[1;36m15158\u001b[0m\u001b[1m)\u001b[0m,\n",
       " \u001b[1;36m11\u001b[0m: \u001b[1m(\u001b[0m\u001b[1;36m21448\u001b[0m, \u001b[1;36m21448\u001b[0m\u001b[1m)\u001b[0m,\n",
       " \u001b[1;36m12\u001b[0m: \u001b[1m(\u001b[0m\u001b[1;36m259\u001b[0m, \u001b[1;36m259\u001b[0m\u001b[1m)\u001b[0m,\n",
       " \u001b[1;36m13\u001b[0m: \u001b[1m(\u001b[0m\u001b[1;36m21584\u001b[0m, \u001b[1;36m21584\u001b[0m\u001b[1m)\u001b[0m,\n",
       " \u001b[1;36m14\u001b[0m: \u001b[1m(\u001b[0m\u001b[1;36m15685\u001b[0m, \u001b[1;36m15685\u001b[0m\u001b[1m)\u001b[0m,\n",
       " \u001b[1;36m15\u001b[0m: \u001b[1m(\u001b[0m\u001b[1;36m384\u001b[0m, \u001b[1;36m384\u001b[0m\u001b[1m)\u001b[0m,\n",
       " \u001b[1;36m16\u001b[0m: \u001b[1m(\u001b[0m\u001b[1;36m15709\u001b[0m, \u001b[1;36m15709\u001b[0m\u001b[1m)\u001b[0m,\n",
       " \u001b[1;36m17\u001b[0m: \u001b[1m(\u001b[0m\u001b[1;36m15742\u001b[0m, \u001b[1;36m15742\u001b[0m\u001b[1m)\u001b[0m,\n",
       " \u001b[1;36m18\u001b[0m: \u001b[1m(\u001b[0m\u001b[1;36m307\u001b[0m, \u001b[1;36m307\u001b[0m\u001b[1m)\u001b[0m,\n",
       " \u001b[1;36m20\u001b[0m: \u001b[1m(\u001b[0m\u001b[1;36m571\u001b[0m, \u001b[1;36m571\u001b[0m\u001b[1m)\u001b[0m,\n",
       " \u001b[1;36m21\u001b[0m: \u001b[1m(\u001b[0m\u001b[1;36m480\u001b[0m, \u001b[1;36m480\u001b[0m\u001b[1m)\u001b[0m,\n",
       " \u001b[1;36m22\u001b[0m: \u001b[1m(\u001b[0m\u001b[1;36m1421\u001b[0m, \u001b[1;36m1421\u001b[0m\u001b[1m)\u001b[0m,\n",
       " \u001b[1;36m23\u001b[0m: \u001b[1m(\u001b[0m\u001b[1;36m7162\u001b[0m, \u001b[1;36m7162\u001b[0m\u001b[1m)\u001b[0m,\n",
       " \u001b[1;36m24\u001b[0m: \u001b[1m(\u001b[0m\u001b[1;36m872\u001b[0m, \u001b[1;36m872\u001b[0m\u001b[1m)\u001b[0m,\n",
       " \u001b[1;36m26\u001b[0m: \u001b[1m(\u001b[0m\u001b[1;36m5059\u001b[0m, \u001b[1;36m5059\u001b[0m\u001b[1m)\u001b[0m,\n",
       " \u001b[1;36m27\u001b[0m: \u001b[1m(\u001b[0m\u001b[1;36m306\u001b[0m, \u001b[1;36m306\u001b[0m\u001b[1m)\u001b[0m,\n",
       " \u001b[1;36m28\u001b[0m: \u001b[1m(\u001b[0m\u001b[1;36m5196\u001b[0m, \u001b[1;36m5196\u001b[0m\u001b[1m)\u001b[0m,\n",
       " \u001b[1;36m29\u001b[0m: \u001b[1m(\u001b[0m\u001b[1;36m2331\u001b[0m, \u001b[1;36m2331\u001b[0m\u001b[1m)\u001b[0m,\n",
       " \u001b[1;36m30\u001b[0m: \u001b[1m(\u001b[0m\u001b[1;36m1737\u001b[0m, \u001b[1;36m1737\u001b[0m\u001b[1m)\u001b[0m\u001b[1m}\u001b[0m\n"
      ]
     },
     "metadata": {},
     "output_type": "display_data"
    },
    {
     "name": "stdout",
     "output_type": "stream",
     "text": [
      "f\"Got reid embedding for {sid}\" : Got reid embedding for 0\n",
      "f\"Got reid embedding for {sid}\" : Got reid embedding for 1\n",
      "f\"Got reid embedding for {sid}\" : Got reid embedding for 2\n",
      "f\"Got reid embedding for {sid}\" : Got reid embedding for 3\n",
      "f\"Got reid embedding for {sid}\" : Got reid embedding for 4\n",
      "f\"Got reid embedding for {sid}\" : Got reid embedding for 5\n",
      "f\"Got reid embedding for {sid}\" : Got reid embedding for 6\n",
      "f\"Got reid embedding for {sid}\" : Got reid embedding for 7\n",
      "f\"Got reid embedding for {sid}\" : Got reid embedding for 8\n",
      "f\"Got reid embedding for {sid}\" : Got reid embedding for 9\n",
      "f\"Got reid embedding for {sid}\" : Got reid embedding for 10\n",
      "f\"Got reid embedding for {sid}\" : Got reid embedding for 11\n",
      "f\"Got reid embedding for {sid}\" : Got reid embedding for 12\n",
      "f\"Got reid embedding for {sid}\" : Got reid embedding for 13\n",
      "f\"Got reid embedding for {sid}\" : Got reid embedding for 14\n",
      "f\"Got reid embedding for {sid}\" : Got reid embedding for 15\n",
      "f\"Got reid embedding for {sid}\" : Got reid embedding for 16\n",
      "f\"Got reid embedding for {sid}\" : Got reid embedding for 17\n",
      "f\"Got reid embedding for {sid}\" : Got reid embedding for 18\n",
      "f\"Got reid embedding for {sid}\" : Got reid embedding for 20\n",
      "f\"Got reid embedding for {sid}\" : Got reid embedding for 21\n",
      "f\"Got reid embedding for {sid}\" : Got reid embedding for 22\n",
      "f\"Got reid embedding for {sid}\" : Got reid embedding for 23\n",
      "f\"Got reid embedding for {sid}\" : Got reid embedding for 24\n",
      "f\"Got reid embedding for {sid}\" : Got reid embedding for 26\n",
      "f\"Got reid embedding for {sid}\" : Got reid embedding for 27\n",
      "f\"Got reid embedding for {sid}\" : Got reid embedding for 28\n",
      "f\"Got reid embedding for {sid}\" : Got reid embedding for 29\n",
      "f\"Got reid embedding for {sid}\" : Got reid embedding for 30\n"
     ]
    },
    {
     "data": {
      "text/markdown": [
       "### Got cross session input info for session: 0-05748A, session:10-classinsight-cmu_05748A_ghc_4101_201903071630-front"
      ],
      "text/plain": [
       "<IPython.core.display.Markdown object>"
      ]
     },
     "metadata": {},
     "output_type": "display_data"
    },
    {
     "name": "stdout",
     "output_type": "stream",
     "text": [
      "Session classinsight-cmu_05748A_ghc_4101_201903121630-front not in session filter list, skipping...\n",
      "Session classinsight-cmu_05748A_ghc_4101_201903141630-front not in session filter list, skipping...\n",
      "Session classinsight-cmu_05748A_ghc_4101_201903191630-front not in session filter list, skipping...\n",
      "Session classinsight-cmu_05748A_ghc_4101_201903211630-front not in session filter list, skipping...\n",
      "Session classinsight-cmu_05748A_ghc_4101_201903261630-front not in session filter list, skipping...\n",
      "Session classinsight-cmu_05748A_ghc_4101_201903281630-front not in session filter list, skipping...\n"
     ]
    },
    {
     "data": {
      "text/markdown": [
       "## Building cross session input info for session: 0-05748A, session:17-classinsight-cmu_05748A_ghc_4101_201904021630-front"
      ],
      "text/plain": [
       "<IPython.core.display.Markdown object>"
      ]
     },
     "metadata": {},
     "output_type": "display_data"
    },
    {
     "name": "stdout",
     "output_type": "stream",
     "text": [
      "4 16\n",
      "9 36\n",
      "11 25\n",
      "17 36\n",
      "26 28\n",
      "Dict: eligible_id_map_dict\n",
      "Key: Value\n"
     ]
    },
    {
     "data": {
      "text/html": [
       "<pre style=\"white-space:pre;overflow-x:auto;line-height:normal;font-family:Menlo,'DejaVu Sans Mono',consolas,'Courier New',monospace\"><span style=\"font-weight: bold\">{</span><span style=\"color: #008080; text-decoration-color: #008080; font-weight: bold\">16</span>: <span style=\"color: #008080; text-decoration-color: #008080; font-weight: bold\">4</span>, <span style=\"color: #008080; text-decoration-color: #008080; font-weight: bold\">17</span>: <span style=\"color: #008080; text-decoration-color: #008080; font-weight: bold\">9</span>, <span style=\"color: #008080; text-decoration-color: #008080; font-weight: bold\">25</span>: <span style=\"color: #008080; text-decoration-color: #008080; font-weight: bold\">11</span>, <span style=\"color: #008080; text-decoration-color: #008080; font-weight: bold\">28</span>: <span style=\"color: #008080; text-decoration-color: #008080; font-weight: bold\">26</span>, <span style=\"color: #008080; text-decoration-color: #008080; font-weight: bold\">36</span>: <span style=\"color: #008080; text-decoration-color: #008080; font-weight: bold\">9</span><span style=\"font-weight: bold\">}</span>\n",
       "</pre>\n"
      ],
      "text/plain": [
       "\u001b[1m{\u001b[0m\u001b[1;36m16\u001b[0m: \u001b[1;36m4\u001b[0m, \u001b[1;36m17\u001b[0m: \u001b[1;36m9\u001b[0m, \u001b[1;36m25\u001b[0m: \u001b[1;36m11\u001b[0m, \u001b[1;36m28\u001b[0m: \u001b[1;36m26\u001b[0m, \u001b[1;36m36\u001b[0m: \u001b[1;36m9\u001b[0m\u001b[1m}\u001b[0m\n"
      ]
     },
     "metadata": {},
     "output_type": "display_data"
    },
    {
     "name": "stdout",
     "output_type": "stream",
     "text": [
      "\"Corrected\", eligible_id_map_dict : Corrected {16: 4, 36: 9, 25: 11, 17: 9, 28: 26}\n",
      "\"replacing ids in old to new id maps\" : replacing ids in old to new id maps\n",
      "replacing 97:16 -->4\n",
      "replacing 99:17 -->9\n",
      "replacing 255:25 -->11\n",
      "replacing 418:28 -->26\n",
      "replacing 926:36 -->9\n",
      "replacing 142:16 -->4\n",
      "replacing 265:16 -->4\n",
      "replacing 290:16 -->4\n",
      "replacing 478:28 -->26\n",
      "replacing 935:36 -->9\n",
      "replacing 941:36 -->9\n",
      "Dict: {xr:(emb_info[xr].shape[0], bbox_info[xr].shape[0]) for xr in emb_info}\n",
      "Key: Value\n"
     ]
    },
    {
     "data": {
      "text/html": [
       "<pre style=\"white-space:pre;overflow-x:auto;line-height:normal;font-family:Menlo,'DejaVu Sans Mono',consolas,'Courier New',monospace\"><span style=\"font-weight: bold\">{</span><span style=\"color: #008080; text-decoration-color: #008080; font-weight: bold\">0</span>: <span style=\"font-weight: bold\">(</span><span style=\"color: #008080; text-decoration-color: #008080; font-weight: bold\">16590</span>, <span style=\"color: #008080; text-decoration-color: #008080; font-weight: bold\">16590</span><span style=\"font-weight: bold\">)</span>,\n",
       " <span style=\"color: #008080; text-decoration-color: #008080; font-weight: bold\">1</span>: <span style=\"font-weight: bold\">(</span><span style=\"color: #008080; text-decoration-color: #008080; font-weight: bold\">24006</span>, <span style=\"color: #008080; text-decoration-color: #008080; font-weight: bold\">24006</span><span style=\"font-weight: bold\">)</span>,\n",
       " <span style=\"color: #008080; text-decoration-color: #008080; font-weight: bold\">2</span>: <span style=\"font-weight: bold\">(</span><span style=\"color: #008080; text-decoration-color: #008080; font-weight: bold\">24006</span>, <span style=\"color: #008080; text-decoration-color: #008080; font-weight: bold\">24006</span><span style=\"font-weight: bold\">)</span>,\n",
       " <span style=\"color: #008080; text-decoration-color: #008080; font-weight: bold\">3</span>: <span style=\"font-weight: bold\">(</span><span style=\"color: #008080; text-decoration-color: #008080; font-weight: bold\">24006</span>, <span style=\"color: #008080; text-decoration-color: #008080; font-weight: bold\">24006</span><span style=\"font-weight: bold\">)</span>,\n",
       " <span style=\"color: #008080; text-decoration-color: #008080; font-weight: bold\">4</span>: <span style=\"font-weight: bold\">(</span><span style=\"color: #008080; text-decoration-color: #008080; font-weight: bold\">23902</span>, <span style=\"color: #008080; text-decoration-color: #008080; font-weight: bold\">23902</span><span style=\"font-weight: bold\">)</span>,\n",
       " <span style=\"color: #008080; text-decoration-color: #008080; font-weight: bold\">5</span>: <span style=\"font-weight: bold\">(</span><span style=\"color: #008080; text-decoration-color: #008080; font-weight: bold\">24000</span>, <span style=\"color: #008080; text-decoration-color: #008080; font-weight: bold\">24000</span><span style=\"font-weight: bold\">)</span>,\n",
       " <span style=\"color: #008080; text-decoration-color: #008080; font-weight: bold\">6</span>: <span style=\"font-weight: bold\">(</span><span style=\"color: #008080; text-decoration-color: #008080; font-weight: bold\">24001</span>, <span style=\"color: #008080; text-decoration-color: #008080; font-weight: bold\">24005</span><span style=\"font-weight: bold\">)</span>,\n",
       " <span style=\"color: #008080; text-decoration-color: #008080; font-weight: bold\">7</span>: <span style=\"font-weight: bold\">(</span><span style=\"color: #008080; text-decoration-color: #008080; font-weight: bold\">13484</span>, <span style=\"color: #008080; text-decoration-color: #008080; font-weight: bold\">13484</span><span style=\"font-weight: bold\">)</span>,\n",
       " <span style=\"color: #008080; text-decoration-color: #008080; font-weight: bold\">8</span>: <span style=\"font-weight: bold\">(</span><span style=\"color: #008080; text-decoration-color: #008080; font-weight: bold\">15590</span>, <span style=\"color: #008080; text-decoration-color: #008080; font-weight: bold\">15590</span><span style=\"font-weight: bold\">)</span>,\n",
       " <span style=\"color: #008080; text-decoration-color: #008080; font-weight: bold\">9</span>: <span style=\"font-weight: bold\">(</span><span style=\"color: #008080; text-decoration-color: #008080; font-weight: bold\">5375</span>, <span style=\"color: #008080; text-decoration-color: #008080; font-weight: bold\">5375</span><span style=\"font-weight: bold\">)</span>,\n",
       " <span style=\"color: #008080; text-decoration-color: #008080; font-weight: bold\">10</span>: <span style=\"font-weight: bold\">(</span><span style=\"color: #008080; text-decoration-color: #008080; font-weight: bold\">23695</span>, <span style=\"color: #008080; text-decoration-color: #008080; font-weight: bold\">23695</span><span style=\"font-weight: bold\">)</span>,\n",
       " <span style=\"color: #008080; text-decoration-color: #008080; font-weight: bold\">11</span>: <span style=\"font-weight: bold\">(</span><span style=\"color: #008080; text-decoration-color: #008080; font-weight: bold\">22830</span>, <span style=\"color: #008080; text-decoration-color: #008080; font-weight: bold\">22830</span><span style=\"font-weight: bold\">)</span>,\n",
       " <span style=\"color: #008080; text-decoration-color: #008080; font-weight: bold\">12</span>: <span style=\"font-weight: bold\">(</span><span style=\"color: #008080; text-decoration-color: #008080; font-weight: bold\">23467</span>, <span style=\"color: #008080; text-decoration-color: #008080; font-weight: bold\">23467</span><span style=\"font-weight: bold\">)</span>,\n",
       " <span style=\"color: #008080; text-decoration-color: #008080; font-weight: bold\">13</span>: <span style=\"font-weight: bold\">(</span><span style=\"color: #008080; text-decoration-color: #008080; font-weight: bold\">23389</span>, <span style=\"color: #008080; text-decoration-color: #008080; font-weight: bold\">23389</span><span style=\"font-weight: bold\">)</span>,\n",
       " <span style=\"color: #008080; text-decoration-color: #008080; font-weight: bold\">14</span>: <span style=\"font-weight: bold\">(</span><span style=\"color: #008080; text-decoration-color: #008080; font-weight: bold\">22240</span>, <span style=\"color: #008080; text-decoration-color: #008080; font-weight: bold\">22240</span><span style=\"font-weight: bold\">)</span>,\n",
       " <span style=\"color: #008080; text-decoration-color: #008080; font-weight: bold\">15</span>: <span style=\"font-weight: bold\">(</span><span style=\"color: #008080; text-decoration-color: #008080; font-weight: bold\">1246</span>, <span style=\"color: #008080; text-decoration-color: #008080; font-weight: bold\">1246</span><span style=\"font-weight: bold\">)</span>,\n",
       " <span style=\"color: #008080; text-decoration-color: #008080; font-weight: bold\">18</span>: <span style=\"font-weight: bold\">(</span><span style=\"color: #008080; text-decoration-color: #008080; font-weight: bold\">631</span>, <span style=\"color: #008080; text-decoration-color: #008080; font-weight: bold\">631</span><span style=\"font-weight: bold\">)</span>,\n",
       " <span style=\"color: #008080; text-decoration-color: #008080; font-weight: bold\">19</span>: <span style=\"font-weight: bold\">(</span><span style=\"color: #008080; text-decoration-color: #008080; font-weight: bold\">1569</span>, <span style=\"color: #008080; text-decoration-color: #008080; font-weight: bold\">1569</span><span style=\"font-weight: bold\">)</span>,\n",
       " <span style=\"color: #008080; text-decoration-color: #008080; font-weight: bold\">20</span>: <span style=\"font-weight: bold\">(</span><span style=\"color: #008080; text-decoration-color: #008080; font-weight: bold\">340</span>, <span style=\"color: #008080; text-decoration-color: #008080; font-weight: bold\">340</span><span style=\"font-weight: bold\">)</span>,\n",
       " <span style=\"color: #008080; text-decoration-color: #008080; font-weight: bold\">21</span>: <span style=\"font-weight: bold\">(</span><span style=\"color: #008080; text-decoration-color: #008080; font-weight: bold\">495</span>, <span style=\"color: #008080; text-decoration-color: #008080; font-weight: bold\">495</span><span style=\"font-weight: bold\">)</span>,\n",
       " <span style=\"color: #008080; text-decoration-color: #008080; font-weight: bold\">22</span>: <span style=\"font-weight: bold\">(</span><span style=\"color: #008080; text-decoration-color: #008080; font-weight: bold\">2688</span>, <span style=\"color: #008080; text-decoration-color: #008080; font-weight: bold\">2688</span><span style=\"font-weight: bold\">)</span>,\n",
       " <span style=\"color: #008080; text-decoration-color: #008080; font-weight: bold\">23</span>: <span style=\"font-weight: bold\">(</span><span style=\"color: #008080; text-decoration-color: #008080; font-weight: bold\">2002</span>, <span style=\"color: #008080; text-decoration-color: #008080; font-weight: bold\">2002</span><span style=\"font-weight: bold\">)</span>,\n",
       " <span style=\"color: #008080; text-decoration-color: #008080; font-weight: bold\">24</span>: <span style=\"font-weight: bold\">(</span><span style=\"color: #008080; text-decoration-color: #008080; font-weight: bold\">11601</span>, <span style=\"color: #008080; text-decoration-color: #008080; font-weight: bold\">11601</span><span style=\"font-weight: bold\">)</span>,\n",
       " <span style=\"color: #008080; text-decoration-color: #008080; font-weight: bold\">26</span>: <span style=\"font-weight: bold\">(</span><span style=\"color: #008080; text-decoration-color: #008080; font-weight: bold\">9514</span>, <span style=\"color: #008080; text-decoration-color: #008080; font-weight: bold\">9514</span><span style=\"font-weight: bold\">)</span>,\n",
       " <span style=\"color: #008080; text-decoration-color: #008080; font-weight: bold\">27</span>: <span style=\"font-weight: bold\">(</span><span style=\"color: #008080; text-decoration-color: #008080; font-weight: bold\">1644</span>, <span style=\"color: #008080; text-decoration-color: #008080; font-weight: bold\">1644</span><span style=\"font-weight: bold\">)</span>,\n",
       " <span style=\"color: #008080; text-decoration-color: #008080; font-weight: bold\">29</span>: <span style=\"font-weight: bold\">(</span><span style=\"color: #008080; text-decoration-color: #008080; font-weight: bold\">1338</span>, <span style=\"color: #008080; text-decoration-color: #008080; font-weight: bold\">1338</span><span style=\"font-weight: bold\">)</span>,\n",
       " <span style=\"color: #008080; text-decoration-color: #008080; font-weight: bold\">30</span>: <span style=\"font-weight: bold\">(</span><span style=\"color: #008080; text-decoration-color: #008080; font-weight: bold\">6937</span>, <span style=\"color: #008080; text-decoration-color: #008080; font-weight: bold\">6937</span><span style=\"font-weight: bold\">)</span>,\n",
       " <span style=\"color: #008080; text-decoration-color: #008080; font-weight: bold\">31</span>: <span style=\"font-weight: bold\">(</span><span style=\"color: #008080; text-decoration-color: #008080; font-weight: bold\">6801</span>, <span style=\"color: #008080; text-decoration-color: #008080; font-weight: bold\">6801</span><span style=\"font-weight: bold\">)</span>,\n",
       " <span style=\"color: #008080; text-decoration-color: #008080; font-weight: bold\">32</span>: <span style=\"font-weight: bold\">(</span><span style=\"color: #008080; text-decoration-color: #008080; font-weight: bold\">1012</span>, <span style=\"color: #008080; text-decoration-color: #008080; font-weight: bold\">1012</span><span style=\"font-weight: bold\">)</span>,\n",
       " <span style=\"color: #008080; text-decoration-color: #008080; font-weight: bold\">33</span>: <span style=\"font-weight: bold\">(</span><span style=\"color: #008080; text-decoration-color: #008080; font-weight: bold\">414</span>, <span style=\"color: #008080; text-decoration-color: #008080; font-weight: bold\">414</span><span style=\"font-weight: bold\">)</span>,\n",
       " <span style=\"color: #008080; text-decoration-color: #008080; font-weight: bold\">34</span>: <span style=\"font-weight: bold\">(</span><span style=\"color: #008080; text-decoration-color: #008080; font-weight: bold\">424</span>, <span style=\"color: #008080; text-decoration-color: #008080; font-weight: bold\">424</span><span style=\"font-weight: bold\">)</span>,\n",
       " <span style=\"color: #008080; text-decoration-color: #008080; font-weight: bold\">35</span>: <span style=\"font-weight: bold\">(</span><span style=\"color: #008080; text-decoration-color: #008080; font-weight: bold\">536</span>, <span style=\"color: #008080; text-decoration-color: #008080; font-weight: bold\">536</span><span style=\"font-weight: bold\">)}</span>\n",
       "</pre>\n"
      ],
      "text/plain": [
       "\u001b[1m{\u001b[0m\u001b[1;36m0\u001b[0m: \u001b[1m(\u001b[0m\u001b[1;36m16590\u001b[0m, \u001b[1;36m16590\u001b[0m\u001b[1m)\u001b[0m,\n",
       " \u001b[1;36m1\u001b[0m: \u001b[1m(\u001b[0m\u001b[1;36m24006\u001b[0m, \u001b[1;36m24006\u001b[0m\u001b[1m)\u001b[0m,\n",
       " \u001b[1;36m2\u001b[0m: \u001b[1m(\u001b[0m\u001b[1;36m24006\u001b[0m, \u001b[1;36m24006\u001b[0m\u001b[1m)\u001b[0m,\n",
       " \u001b[1;36m3\u001b[0m: \u001b[1m(\u001b[0m\u001b[1;36m24006\u001b[0m, \u001b[1;36m24006\u001b[0m\u001b[1m)\u001b[0m,\n",
       " \u001b[1;36m4\u001b[0m: \u001b[1m(\u001b[0m\u001b[1;36m23902\u001b[0m, \u001b[1;36m23902\u001b[0m\u001b[1m)\u001b[0m,\n",
       " \u001b[1;36m5\u001b[0m: \u001b[1m(\u001b[0m\u001b[1;36m24000\u001b[0m, \u001b[1;36m24000\u001b[0m\u001b[1m)\u001b[0m,\n",
       " \u001b[1;36m6\u001b[0m: \u001b[1m(\u001b[0m\u001b[1;36m24001\u001b[0m, \u001b[1;36m24005\u001b[0m\u001b[1m)\u001b[0m,\n",
       " \u001b[1;36m7\u001b[0m: \u001b[1m(\u001b[0m\u001b[1;36m13484\u001b[0m, \u001b[1;36m13484\u001b[0m\u001b[1m)\u001b[0m,\n",
       " \u001b[1;36m8\u001b[0m: \u001b[1m(\u001b[0m\u001b[1;36m15590\u001b[0m, \u001b[1;36m15590\u001b[0m\u001b[1m)\u001b[0m,\n",
       " \u001b[1;36m9\u001b[0m: \u001b[1m(\u001b[0m\u001b[1;36m5375\u001b[0m, \u001b[1;36m5375\u001b[0m\u001b[1m)\u001b[0m,\n",
       " \u001b[1;36m10\u001b[0m: \u001b[1m(\u001b[0m\u001b[1;36m23695\u001b[0m, \u001b[1;36m23695\u001b[0m\u001b[1m)\u001b[0m,\n",
       " \u001b[1;36m11\u001b[0m: \u001b[1m(\u001b[0m\u001b[1;36m22830\u001b[0m, \u001b[1;36m22830\u001b[0m\u001b[1m)\u001b[0m,\n",
       " \u001b[1;36m12\u001b[0m: \u001b[1m(\u001b[0m\u001b[1;36m23467\u001b[0m, \u001b[1;36m23467\u001b[0m\u001b[1m)\u001b[0m,\n",
       " \u001b[1;36m13\u001b[0m: \u001b[1m(\u001b[0m\u001b[1;36m23389\u001b[0m, \u001b[1;36m23389\u001b[0m\u001b[1m)\u001b[0m,\n",
       " \u001b[1;36m14\u001b[0m: \u001b[1m(\u001b[0m\u001b[1;36m22240\u001b[0m, \u001b[1;36m22240\u001b[0m\u001b[1m)\u001b[0m,\n",
       " \u001b[1;36m15\u001b[0m: \u001b[1m(\u001b[0m\u001b[1;36m1246\u001b[0m, \u001b[1;36m1246\u001b[0m\u001b[1m)\u001b[0m,\n",
       " \u001b[1;36m18\u001b[0m: \u001b[1m(\u001b[0m\u001b[1;36m631\u001b[0m, \u001b[1;36m631\u001b[0m\u001b[1m)\u001b[0m,\n",
       " \u001b[1;36m19\u001b[0m: \u001b[1m(\u001b[0m\u001b[1;36m1569\u001b[0m, \u001b[1;36m1569\u001b[0m\u001b[1m)\u001b[0m,\n",
       " \u001b[1;36m20\u001b[0m: \u001b[1m(\u001b[0m\u001b[1;36m340\u001b[0m, \u001b[1;36m340\u001b[0m\u001b[1m)\u001b[0m,\n",
       " \u001b[1;36m21\u001b[0m: \u001b[1m(\u001b[0m\u001b[1;36m495\u001b[0m, \u001b[1;36m495\u001b[0m\u001b[1m)\u001b[0m,\n",
       " \u001b[1;36m22\u001b[0m: \u001b[1m(\u001b[0m\u001b[1;36m2688\u001b[0m, \u001b[1;36m2688\u001b[0m\u001b[1m)\u001b[0m,\n",
       " \u001b[1;36m23\u001b[0m: \u001b[1m(\u001b[0m\u001b[1;36m2002\u001b[0m, \u001b[1;36m2002\u001b[0m\u001b[1m)\u001b[0m,\n",
       " \u001b[1;36m24\u001b[0m: \u001b[1m(\u001b[0m\u001b[1;36m11601\u001b[0m, \u001b[1;36m11601\u001b[0m\u001b[1m)\u001b[0m,\n",
       " \u001b[1;36m26\u001b[0m: \u001b[1m(\u001b[0m\u001b[1;36m9514\u001b[0m, \u001b[1;36m9514\u001b[0m\u001b[1m)\u001b[0m,\n",
       " \u001b[1;36m27\u001b[0m: \u001b[1m(\u001b[0m\u001b[1;36m1644\u001b[0m, \u001b[1;36m1644\u001b[0m\u001b[1m)\u001b[0m,\n",
       " \u001b[1;36m29\u001b[0m: \u001b[1m(\u001b[0m\u001b[1;36m1338\u001b[0m, \u001b[1;36m1338\u001b[0m\u001b[1m)\u001b[0m,\n",
       " \u001b[1;36m30\u001b[0m: \u001b[1m(\u001b[0m\u001b[1;36m6937\u001b[0m, \u001b[1;36m6937\u001b[0m\u001b[1m)\u001b[0m,\n",
       " \u001b[1;36m31\u001b[0m: \u001b[1m(\u001b[0m\u001b[1;36m6801\u001b[0m, \u001b[1;36m6801\u001b[0m\u001b[1m)\u001b[0m,\n",
       " \u001b[1;36m32\u001b[0m: \u001b[1m(\u001b[0m\u001b[1;36m1012\u001b[0m, \u001b[1;36m1012\u001b[0m\u001b[1m)\u001b[0m,\n",
       " \u001b[1;36m33\u001b[0m: \u001b[1m(\u001b[0m\u001b[1;36m414\u001b[0m, \u001b[1;36m414\u001b[0m\u001b[1m)\u001b[0m,\n",
       " \u001b[1;36m34\u001b[0m: \u001b[1m(\u001b[0m\u001b[1;36m424\u001b[0m, \u001b[1;36m424\u001b[0m\u001b[1m)\u001b[0m,\n",
       " \u001b[1;36m35\u001b[0m: \u001b[1m(\u001b[0m\u001b[1;36m536\u001b[0m, \u001b[1;36m536\u001b[0m\u001b[1m)\u001b[0m\u001b[1m}\u001b[0m\n"
      ]
     },
     "metadata": {},
     "output_type": "display_data"
    },
    {
     "name": "stdout",
     "output_type": "stream",
     "text": [
      "f\"Got reid embedding for {sid}\" : Got reid embedding for 0\n",
      "f\"Got reid embedding for {sid}\" : Got reid embedding for 1\n",
      "f\"Got reid embedding for {sid}\" : Got reid embedding for 2\n",
      "f\"Got reid embedding for {sid}\" : Got reid embedding for 3\n",
      "f\"Got reid embedding for {sid}\" : Got reid embedding for 4\n",
      "f\"Got reid embedding for {sid}\" : Got reid embedding for 5\n",
      "f\"Got reid embedding for {sid}\" : Got reid embedding for 6\n",
      "f\"Got reid embedding for {sid}\" : Got reid embedding for 7\n",
      "f\"Got reid embedding for {sid}\" : Got reid embedding for 8\n",
      "f\"Got reid embedding for {sid}\" : Got reid embedding for 9\n",
      "f\"Got reid embedding for {sid}\" : Got reid embedding for 10\n",
      "f\"Got reid embedding for {sid}\" : Got reid embedding for 11\n",
      "f\"Got reid embedding for {sid}\" : Got reid embedding for 12\n",
      "f\"Got reid embedding for {sid}\" : Got reid embedding for 13\n",
      "f\"Got reid embedding for {sid}\" : Got reid embedding for 14\n",
      "f\"Got reid embedding for {sid}\" : Got reid embedding for 15\n",
      "f\"Got reid embedding for {sid}\" : Got reid embedding for 18\n",
      "f\"Got reid embedding for {sid}\" : Got reid embedding for 19\n",
      "f\"Got reid embedding for {sid}\" : Got reid embedding for 20\n",
      "f\"Got reid embedding for {sid}\" : Got reid embedding for 21\n",
      "f\"Got reid embedding for {sid}\" : Got reid embedding for 22\n",
      "f\"Got reid embedding for {sid}\" : Got reid embedding for 23\n",
      "f\"Got reid embedding for {sid}\" : Got reid embedding for 24\n",
      "f\"Got reid embedding for {sid}\" : Got reid embedding for 26\n",
      "f\"Got reid embedding for {sid}\" : Got reid embedding for 27\n",
      "f\"Got reid embedding for {sid}\" : Got reid embedding for 29\n",
      "f\"Got reid embedding for {sid}\" : Got reid embedding for 30\n",
      "f\"Got reid embedding for {sid}\" : Got reid embedding for 31\n",
      "f\"Got reid embedding for {sid}\" : Got reid embedding for 32\n",
      "f\"Got reid embedding for {sid}\" : Got reid embedding for 33\n",
      "f\"Got reid embedding for {sid}\" : Got reid embedding for 34\n",
      "f\"Got reid embedding for {sid}\" : Got reid embedding for 35\n"
     ]
    },
    {
     "data": {
      "text/markdown": [
       "### Got cross session input info for session: 0-05748A, session:17-classinsight-cmu_05748A_ghc_4101_201904021630-front"
      ],
      "text/plain": [
       "<IPython.core.display.Markdown object>"
      ]
     },
     "metadata": {},
     "output_type": "display_data"
    },
    {
     "name": "stdout",
     "output_type": "stream",
     "text": [
      "Session classinsight-cmu_05748A_ghc_4101_201904041630-front not in session filter list, skipping...\n",
      "Session classinsight-cmu_05748A_ghc_4101_201904091630-front not in session filter list, skipping...\n",
      "Session classinsight-cmu_05748A_ghc_4101_201904111630-front not in session filter list, skipping...\n",
      "Session classinsight-cmu_05748A_ghc_4101_201904161630-front not in session filter list, skipping...\n",
      "Session classinsight-cmu_05748A_ghc_4101_201904181630-front not in session filter list, skipping...\n",
      "Session classinsight-cmu_05748A_ghc_4101_201904231630-front not in session filter list, skipping...\n",
      "Session classinsight-cmu_05748A_ghc_4101_201901241630-front not in session filter list, skipping...\n",
      "Session classinsight-cmu_05748A_ghc_4101_201904251630-front not in session filter list, skipping...\n",
      "Session classinsight-cmu_05748A_ghc_4101_201904301630-front not in session filter list, skipping...\n",
      "Session classinsight-cmu_05748A_ghc_4101_201905021630-front not in session filter list, skipping...\n",
      "Session classinsight-cmu_05410B_ghc_4211_201901301500-front not in session filter list, skipping...\n",
      "Session classinsight-cmu_05410B_ghc_4211_201902041500-front not in session filter list, skipping...\n",
      "Session classinsight-cmu_05410B_ghc_4211_201902061500-front not in session filter list, skipping...\n",
      "Session classinsight-cmu_05410B_ghc_4211_201902111500-front not in session filter list, skipping...\n",
      "Session classinsight-cmu_05410B_ghc_4211_201902131500-front not in session filter list, skipping...\n",
      "Session classinsight-cmu_05410B_ghc_4211_201902181500-front not in session filter list, skipping...\n",
      "Session classinsight-cmu_05410B_ghc_4211_201902201512-front not in session filter list, skipping...\n",
      "Session classinsight-cmu_05410B_ghc_4211_201902251500-front not in session filter list, skipping...\n",
      "Session classinsight-cmu_05410B_ghc_4211_201902271500-front not in session filter list, skipping...\n",
      "Session classinsight-cmu_05410B_ghc_4211_201903041500-front not in session filter list, skipping...\n",
      "Session classinsight-cmu_05410B_ghc_4211_201903111500-front not in session filter list, skipping...\n",
      "Session classinsight-cmu_05410B_ghc_4211_201903131500-front not in session filter list, skipping...\n",
      "Session classinsight-cmu_05410B_ghc_4211_201903181500-front not in session filter list, skipping...\n",
      "Session classinsight-cmu_05410B_ghc_4211_201903201500-front not in session filter list, skipping...\n",
      "Session classinsight-cmu_05410B_ghc_4211_201903271500-front not in session filter list, skipping...\n",
      "Session classinsight-cmu_05410B_ghc_4211_201904031500-front not in session filter list, skipping...\n",
      "Session classinsight-cmu_05410B_ghc_4211_201904081500-front not in session filter list, skipping...\n",
      "Session classinsight-cmu_05410B_ghc_4211_201904101500-front not in session filter list, skipping...\n",
      "Session classinsight-cmu_05410B_ghc_4211_201904151500-front not in session filter list, skipping...\n",
      "Session classinsight-cmu_05410B_ghc_4211_201904171500-front not in session filter list, skipping...\n",
      "Session classinsight-cmu_05410B_ghc_4211_201904221500-front not in session filter list, skipping...\n",
      "Session classinsight-cmu_05410B_ghc_4211_201901211500-front not in session filter list, skipping...\n",
      "Session classinsight-cmu_05410B_ghc_4211_201901231500-front not in session filter list, skipping...\n",
      "Session classinsight-cmu_05410B_ghc_4211_201901281500-front not in session filter list, skipping...\n",
      "Session classinsight-cmu_05410B_ghc_4211_201904011500-front not in session filter list, skipping...\n",
      "Session classinsight-cmu_05410B_ghc_4211_201904241500-front not in session filter list, skipping...\n",
      "Session classinsight-cmu_05410B_ghc_4211_201904291500-front not in session filter list, skipping...\n",
      "Session classinsight-cmu_05410B_ghc_4211_201905011500-front not in session filter list, skipping...\n"
     ]
    },
    {
     "data": {
      "text/markdown": [
       "## Building cross session input info for session: 2-17214C, session:0-classinsight-cmu_17214C_ph_225b_201903201130-front"
      ],
      "text/plain": [
       "<IPython.core.display.Markdown object>"
      ]
     },
     "metadata": {},
     "output_type": "display_data"
    },
    {
     "name": "stdout",
     "output_type": "stream",
     "text": [
      "Dict: eligible_id_map_dict\n",
      "Key: Value\n"
     ]
    },
    {
     "data": {
      "text/html": [
       "<pre style=\"white-space:pre;overflow-x:auto;line-height:normal;font-family:Menlo,'DejaVu Sans Mono',consolas,'Courier New',monospace\"><span style=\"font-weight: bold\">{}</span>\n",
       "</pre>\n"
      ],
      "text/plain": [
       "\u001b[1m{\u001b[0m\u001b[1m}\u001b[0m\n"
      ]
     },
     "metadata": {},
     "output_type": "display_data"
    },
    {
     "name": "stdout",
     "output_type": "stream",
     "text": [
      "\"Corrected\", eligible_id_map_dict : Corrected {}\n",
      "\"replacing ids in old to new id maps\" : replacing ids in old to new id maps\n",
      "Dict: {xr:(emb_info[xr].shape[0], bbox_info[xr].shape[0]) for xr in emb_info}\n",
      "Key: Value\n"
     ]
    },
    {
     "data": {
      "text/html": [
       "<pre style=\"white-space:pre;overflow-x:auto;line-height:normal;font-family:Menlo,'DejaVu Sans Mono',consolas,'Courier New',monospace\"><span style=\"font-weight: bold\">{</span><span style=\"color: #008080; text-decoration-color: #008080; font-weight: bold\">0</span>: <span style=\"font-weight: bold\">(</span><span style=\"color: #008080; text-decoration-color: #008080; font-weight: bold\">5497</span>, <span style=\"color: #008080; text-decoration-color: #008080; font-weight: bold\">5497</span><span style=\"font-weight: bold\">)</span>,\n",
       " <span style=\"color: #008080; text-decoration-color: #008080; font-weight: bold\">1</span>: <span style=\"font-weight: bold\">(</span><span style=\"color: #008080; text-decoration-color: #008080; font-weight: bold\">5493</span>, <span style=\"color: #008080; text-decoration-color: #008080; font-weight: bold\">5493</span><span style=\"font-weight: bold\">)</span>,\n",
       " <span style=\"color: #008080; text-decoration-color: #008080; font-weight: bold\">2</span>: <span style=\"font-weight: bold\">(</span><span style=\"color: #008080; text-decoration-color: #008080; font-weight: bold\">5494</span>, <span style=\"color: #008080; text-decoration-color: #008080; font-weight: bold\">5494</span><span style=\"font-weight: bold\">)</span>,\n",
       " <span style=\"color: #008080; text-decoration-color: #008080; font-weight: bold\">3</span>: <span style=\"font-weight: bold\">(</span><span style=\"color: #008080; text-decoration-color: #008080; font-weight: bold\">5498</span>, <span style=\"color: #008080; text-decoration-color: #008080; font-weight: bold\">5498</span><span style=\"font-weight: bold\">)</span>,\n",
       " <span style=\"color: #008080; text-decoration-color: #008080; font-weight: bold\">4</span>: <span style=\"font-weight: bold\">(</span><span style=\"color: #008080; text-decoration-color: #008080; font-weight: bold\">5497</span>, <span style=\"color: #008080; text-decoration-color: #008080; font-weight: bold\">5497</span><span style=\"font-weight: bold\">)</span>,\n",
       " <span style=\"color: #008080; text-decoration-color: #008080; font-weight: bold\">5</span>: <span style=\"font-weight: bold\">(</span><span style=\"color: #008080; text-decoration-color: #008080; font-weight: bold\">5470</span>, <span style=\"color: #008080; text-decoration-color: #008080; font-weight: bold\">5470</span><span style=\"font-weight: bold\">)</span>,\n",
       " <span style=\"color: #008080; text-decoration-color: #008080; font-weight: bold\">6</span>: <span style=\"font-weight: bold\">(</span><span style=\"color: #008080; text-decoration-color: #008080; font-weight: bold\">5494</span>, <span style=\"color: #008080; text-decoration-color: #008080; font-weight: bold\">5494</span><span style=\"font-weight: bold\">)</span>,\n",
       " <span style=\"color: #008080; text-decoration-color: #008080; font-weight: bold\">7</span>: <span style=\"font-weight: bold\">(</span><span style=\"color: #008080; text-decoration-color: #008080; font-weight: bold\">5478</span>, <span style=\"color: #008080; text-decoration-color: #008080; font-weight: bold\">5478</span><span style=\"font-weight: bold\">)</span>,\n",
       " <span style=\"color: #008080; text-decoration-color: #008080; font-weight: bold\">8</span>: <span style=\"font-weight: bold\">(</span><span style=\"color: #008080; text-decoration-color: #008080; font-weight: bold\">5187</span>, <span style=\"color: #008080; text-decoration-color: #008080; font-weight: bold\">5187</span><span style=\"font-weight: bold\">)</span>,\n",
       " <span style=\"color: #008080; text-decoration-color: #008080; font-weight: bold\">9</span>: <span style=\"font-weight: bold\">(</span><span style=\"color: #008080; text-decoration-color: #008080; font-weight: bold\">5047</span>, <span style=\"color: #008080; text-decoration-color: #008080; font-weight: bold\">5047</span><span style=\"font-weight: bold\">)</span>,\n",
       " <span style=\"color: #008080; text-decoration-color: #008080; font-weight: bold\">10</span>: <span style=\"font-weight: bold\">(</span><span style=\"color: #008080; text-decoration-color: #008080; font-weight: bold\">5042</span>, <span style=\"color: #008080; text-decoration-color: #008080; font-weight: bold\">5042</span><span style=\"font-weight: bold\">)</span>,\n",
       " <span style=\"color: #008080; text-decoration-color: #008080; font-weight: bold\">11</span>: <span style=\"font-weight: bold\">(</span><span style=\"color: #008080; text-decoration-color: #008080; font-weight: bold\">2412</span>, <span style=\"color: #008080; text-decoration-color: #008080; font-weight: bold\">2412</span><span style=\"font-weight: bold\">)</span>,\n",
       " <span style=\"color: #008080; text-decoration-color: #008080; font-weight: bold\">12</span>: <span style=\"font-weight: bold\">(</span><span style=\"color: #008080; text-decoration-color: #008080; font-weight: bold\">1973</span>, <span style=\"color: #008080; text-decoration-color: #008080; font-weight: bold\">1973</span><span style=\"font-weight: bold\">)</span>,\n",
       " <span style=\"color: #008080; text-decoration-color: #008080; font-weight: bold\">13</span>: <span style=\"font-weight: bold\">(</span><span style=\"color: #008080; text-decoration-color: #008080; font-weight: bold\">1986</span>, <span style=\"color: #008080; text-decoration-color: #008080; font-weight: bold\">1986</span><span style=\"font-weight: bold\">)}</span>\n",
       "</pre>\n"
      ],
      "text/plain": [
       "\u001b[1m{\u001b[0m\u001b[1;36m0\u001b[0m: \u001b[1m(\u001b[0m\u001b[1;36m5497\u001b[0m, \u001b[1;36m5497\u001b[0m\u001b[1m)\u001b[0m,\n",
       " \u001b[1;36m1\u001b[0m: \u001b[1m(\u001b[0m\u001b[1;36m5493\u001b[0m, \u001b[1;36m5493\u001b[0m\u001b[1m)\u001b[0m,\n",
       " \u001b[1;36m2\u001b[0m: \u001b[1m(\u001b[0m\u001b[1;36m5494\u001b[0m, \u001b[1;36m5494\u001b[0m\u001b[1m)\u001b[0m,\n",
       " \u001b[1;36m3\u001b[0m: \u001b[1m(\u001b[0m\u001b[1;36m5498\u001b[0m, \u001b[1;36m5498\u001b[0m\u001b[1m)\u001b[0m,\n",
       " \u001b[1;36m4\u001b[0m: \u001b[1m(\u001b[0m\u001b[1;36m5497\u001b[0m, \u001b[1;36m5497\u001b[0m\u001b[1m)\u001b[0m,\n",
       " \u001b[1;36m5\u001b[0m: \u001b[1m(\u001b[0m\u001b[1;36m5470\u001b[0m, \u001b[1;36m5470\u001b[0m\u001b[1m)\u001b[0m,\n",
       " \u001b[1;36m6\u001b[0m: \u001b[1m(\u001b[0m\u001b[1;36m5494\u001b[0m, \u001b[1;36m5494\u001b[0m\u001b[1m)\u001b[0m,\n",
       " \u001b[1;36m7\u001b[0m: \u001b[1m(\u001b[0m\u001b[1;36m5478\u001b[0m, \u001b[1;36m5478\u001b[0m\u001b[1m)\u001b[0m,\n",
       " \u001b[1;36m8\u001b[0m: \u001b[1m(\u001b[0m\u001b[1;36m5187\u001b[0m, \u001b[1;36m5187\u001b[0m\u001b[1m)\u001b[0m,\n",
       " \u001b[1;36m9\u001b[0m: \u001b[1m(\u001b[0m\u001b[1;36m5047\u001b[0m, \u001b[1;36m5047\u001b[0m\u001b[1m)\u001b[0m,\n",
       " \u001b[1;36m10\u001b[0m: \u001b[1m(\u001b[0m\u001b[1;36m5042\u001b[0m, \u001b[1;36m5042\u001b[0m\u001b[1m)\u001b[0m,\n",
       " \u001b[1;36m11\u001b[0m: \u001b[1m(\u001b[0m\u001b[1;36m2412\u001b[0m, \u001b[1;36m2412\u001b[0m\u001b[1m)\u001b[0m,\n",
       " \u001b[1;36m12\u001b[0m: \u001b[1m(\u001b[0m\u001b[1;36m1973\u001b[0m, \u001b[1;36m1973\u001b[0m\u001b[1m)\u001b[0m,\n",
       " \u001b[1;36m13\u001b[0m: \u001b[1m(\u001b[0m\u001b[1;36m1986\u001b[0m, \u001b[1;36m1986\u001b[0m\u001b[1m)\u001b[0m\u001b[1m}\u001b[0m\n"
      ]
     },
     "metadata": {},
     "output_type": "display_data"
    },
    {
     "name": "stdout",
     "output_type": "stream",
     "text": [
      "f\"Got reid embedding for {sid}\" : Got reid embedding for 0\n",
      "f\"Got reid embedding for {sid}\" : Got reid embedding for 1\n",
      "f\"Got reid embedding for {sid}\" : Got reid embedding for 2\n",
      "f\"Got reid embedding for {sid}\" : Got reid embedding for 3\n",
      "f\"Got reid embedding for {sid}\" : Got reid embedding for 4\n",
      "f\"Got reid embedding for {sid}\" : Got reid embedding for 5\n",
      "f\"Got reid embedding for {sid}\" : Got reid embedding for 6\n",
      "f\"Got reid embedding for {sid}\" : Got reid embedding for 7\n",
      "f\"Got reid embedding for {sid}\" : Got reid embedding for 8\n",
      "f\"Got reid embedding for {sid}\" : Got reid embedding for 9\n",
      "f\"Got reid embedding for {sid}\" : Got reid embedding for 10\n",
      "f\"Got reid embedding for {sid}\" : Got reid embedding for 11\n",
      "f\"Got reid embedding for {sid}\" : Got reid embedding for 12\n",
      "f\"Got reid embedding for {sid}\" : Got reid embedding for 13\n"
     ]
    },
    {
     "data": {
      "text/markdown": [
       "### Got cross session input info for session: 2-17214C, session:0-classinsight-cmu_17214C_ph_225b_201903201130-front"
      ],
      "text/plain": [
       "<IPython.core.display.Markdown object>"
      ]
     },
     "metadata": {},
     "output_type": "display_data"
    },
    {
     "name": "stdout",
     "output_type": "stream",
     "text": [
      "Session classinsight-cmu_17214C_ph_225b_201904031130-front not in session filter list, skipping...\n"
     ]
    },
    {
     "data": {
      "text/markdown": [
       "## Building cross session input info for session: 2-17214C, session:2-classinsight-cmu_17214C_ph_225b_201904101130-front"
      ],
      "text/plain": [
       "<IPython.core.display.Markdown object>"
      ]
     },
     "metadata": {},
     "output_type": "display_data"
    },
    {
     "name": "stdout",
     "output_type": "stream",
     "text": [
      "Dict: eligible_id_map_dict\n",
      "Key: Value\n"
     ]
    },
    {
     "data": {
      "text/html": [
       "<pre style=\"white-space:pre;overflow-x:auto;line-height:normal;font-family:Menlo,'DejaVu Sans Mono',consolas,'Courier New',monospace\"><span style=\"font-weight: bold\">{}</span>\n",
       "</pre>\n"
      ],
      "text/plain": [
       "\u001b[1m{\u001b[0m\u001b[1m}\u001b[0m\n"
      ]
     },
     "metadata": {},
     "output_type": "display_data"
    },
    {
     "name": "stdout",
     "output_type": "stream",
     "text": [
      "\"Corrected\", eligible_id_map_dict : Corrected {}\n",
      "\"replacing ids in old to new id maps\" : replacing ids in old to new id maps\n",
      "Dict: {xr:(emb_info[xr].shape[0], bbox_info[xr].shape[0]) for xr in emb_info}\n",
      "Key: Value\n"
     ]
    },
    {
     "data": {
      "text/html": [
       "<pre style=\"white-space:pre;overflow-x:auto;line-height:normal;font-family:Menlo,'DejaVu Sans Mono',consolas,'Courier New',monospace\"><span style=\"font-weight: bold\">{</span><span style=\"color: #008080; text-decoration-color: #008080; font-weight: bold\">0</span>: <span style=\"font-weight: bold\">(</span><span style=\"color: #008080; text-decoration-color: #008080; font-weight: bold\">14341</span>, <span style=\"color: #008080; text-decoration-color: #008080; font-weight: bold\">14341</span><span style=\"font-weight: bold\">)</span>,\n",
       " <span style=\"color: #008080; text-decoration-color: #008080; font-weight: bold\">1</span>: <span style=\"font-weight: bold\">(</span><span style=\"color: #008080; text-decoration-color: #008080; font-weight: bold\">7879</span>, <span style=\"color: #008080; text-decoration-color: #008080; font-weight: bold\">7879</span><span style=\"font-weight: bold\">)</span>,\n",
       " <span style=\"color: #008080; text-decoration-color: #008080; font-weight: bold\">2</span>: <span style=\"font-weight: bold\">(</span><span style=\"color: #008080; text-decoration-color: #008080; font-weight: bold\">14998</span>, <span style=\"color: #008080; text-decoration-color: #008080; font-weight: bold\">14998</span><span style=\"font-weight: bold\">)</span>,\n",
       " <span style=\"color: #008080; text-decoration-color: #008080; font-weight: bold\">3</span>: <span style=\"font-weight: bold\">(</span><span style=\"color: #008080; text-decoration-color: #008080; font-weight: bold\">14474</span>, <span style=\"color: #008080; text-decoration-color: #008080; font-weight: bold\">14474</span><span style=\"font-weight: bold\">)</span>,\n",
       " <span style=\"color: #008080; text-decoration-color: #008080; font-weight: bold\">4</span>: <span style=\"font-weight: bold\">(</span><span style=\"color: #008080; text-decoration-color: #008080; font-weight: bold\">14318</span>, <span style=\"color: #008080; text-decoration-color: #008080; font-weight: bold\">14318</span><span style=\"font-weight: bold\">)</span>,\n",
       " <span style=\"color: #008080; text-decoration-color: #008080; font-weight: bold\">5</span>: <span style=\"font-weight: bold\">(</span><span style=\"color: #008080; text-decoration-color: #008080; font-weight: bold\">4888</span>, <span style=\"color: #008080; text-decoration-color: #008080; font-weight: bold\">4888</span><span style=\"font-weight: bold\">)</span>,\n",
       " <span style=\"color: #008080; text-decoration-color: #008080; font-weight: bold\">6</span>: <span style=\"font-weight: bold\">(</span><span style=\"color: #008080; text-decoration-color: #008080; font-weight: bold\">14169</span>, <span style=\"color: #008080; text-decoration-color: #008080; font-weight: bold\">14169</span><span style=\"font-weight: bold\">)</span>,\n",
       " <span style=\"color: #008080; text-decoration-color: #008080; font-weight: bold\">7</span>: <span style=\"font-weight: bold\">(</span><span style=\"color: #008080; text-decoration-color: #008080; font-weight: bold\">13542</span>, <span style=\"color: #008080; text-decoration-color: #008080; font-weight: bold\">13542</span><span style=\"font-weight: bold\">)</span>,\n",
       " <span style=\"color: #008080; text-decoration-color: #008080; font-weight: bold\">8</span>: <span style=\"font-weight: bold\">(</span><span style=\"color: #008080; text-decoration-color: #008080; font-weight: bold\">2855</span>, <span style=\"color: #008080; text-decoration-color: #008080; font-weight: bold\">2855</span><span style=\"font-weight: bold\">)</span>,\n",
       " <span style=\"color: #008080; text-decoration-color: #008080; font-weight: bold\">9</span>: <span style=\"font-weight: bold\">(</span><span style=\"color: #008080; text-decoration-color: #008080; font-weight: bold\">4408</span>, <span style=\"color: #008080; text-decoration-color: #008080; font-weight: bold\">4408</span><span style=\"font-weight: bold\">)</span>,\n",
       " <span style=\"color: #008080; text-decoration-color: #008080; font-weight: bold\">10</span>: <span style=\"font-weight: bold\">(</span><span style=\"color: #008080; text-decoration-color: #008080; font-weight: bold\">1401</span>, <span style=\"color: #008080; text-decoration-color: #008080; font-weight: bold\">1401</span><span style=\"font-weight: bold\">)</span>,\n",
       " <span style=\"color: #008080; text-decoration-color: #008080; font-weight: bold\">11</span>: <span style=\"font-weight: bold\">(</span><span style=\"color: #008080; text-decoration-color: #008080; font-weight: bold\">10684</span>, <span style=\"color: #008080; text-decoration-color: #008080; font-weight: bold\">10684</span><span style=\"font-weight: bold\">)</span>,\n",
       " <span style=\"color: #008080; text-decoration-color: #008080; font-weight: bold\">12</span>: <span style=\"font-weight: bold\">(</span><span style=\"color: #008080; text-decoration-color: #008080; font-weight: bold\">4576</span>, <span style=\"color: #008080; text-decoration-color: #008080; font-weight: bold\">4576</span><span style=\"font-weight: bold\">)</span>,\n",
       " <span style=\"color: #008080; text-decoration-color: #008080; font-weight: bold\">13</span>: <span style=\"font-weight: bold\">(</span><span style=\"color: #008080; text-decoration-color: #008080; font-weight: bold\">7787</span>, <span style=\"color: #008080; text-decoration-color: #008080; font-weight: bold\">7787</span><span style=\"font-weight: bold\">)</span>,\n",
       " <span style=\"color: #008080; text-decoration-color: #008080; font-weight: bold\">14</span>: <span style=\"font-weight: bold\">(</span><span style=\"color: #008080; text-decoration-color: #008080; font-weight: bold\">7407</span>, <span style=\"color: #008080; text-decoration-color: #008080; font-weight: bold\">7407</span><span style=\"font-weight: bold\">)</span>,\n",
       " <span style=\"color: #008080; text-decoration-color: #008080; font-weight: bold\">15</span>: <span style=\"font-weight: bold\">(</span><span style=\"color: #008080; text-decoration-color: #008080; font-weight: bold\">3086</span>, <span style=\"color: #008080; text-decoration-color: #008080; font-weight: bold\">3094</span><span style=\"font-weight: bold\">)</span>,\n",
       " <span style=\"color: #008080; text-decoration-color: #008080; font-weight: bold\">16</span>: <span style=\"font-weight: bold\">(</span><span style=\"color: #008080; text-decoration-color: #008080; font-weight: bold\">420</span>, <span style=\"color: #008080; text-decoration-color: #008080; font-weight: bold\">420</span><span style=\"font-weight: bold\">)</span>,\n",
       " <span style=\"color: #008080; text-decoration-color: #008080; font-weight: bold\">17</span>: <span style=\"font-weight: bold\">(</span><span style=\"color: #008080; text-decoration-color: #008080; font-weight: bold\">698</span>, <span style=\"color: #008080; text-decoration-color: #008080; font-weight: bold\">698</span><span style=\"font-weight: bold\">)}</span>\n",
       "</pre>\n"
      ],
      "text/plain": [
       "\u001b[1m{\u001b[0m\u001b[1;36m0\u001b[0m: \u001b[1m(\u001b[0m\u001b[1;36m14341\u001b[0m, \u001b[1;36m14341\u001b[0m\u001b[1m)\u001b[0m,\n",
       " \u001b[1;36m1\u001b[0m: \u001b[1m(\u001b[0m\u001b[1;36m7879\u001b[0m, \u001b[1;36m7879\u001b[0m\u001b[1m)\u001b[0m,\n",
       " \u001b[1;36m2\u001b[0m: \u001b[1m(\u001b[0m\u001b[1;36m14998\u001b[0m, \u001b[1;36m14998\u001b[0m\u001b[1m)\u001b[0m,\n",
       " \u001b[1;36m3\u001b[0m: \u001b[1m(\u001b[0m\u001b[1;36m14474\u001b[0m, \u001b[1;36m14474\u001b[0m\u001b[1m)\u001b[0m,\n",
       " \u001b[1;36m4\u001b[0m: \u001b[1m(\u001b[0m\u001b[1;36m14318\u001b[0m, \u001b[1;36m14318\u001b[0m\u001b[1m)\u001b[0m,\n",
       " \u001b[1;36m5\u001b[0m: \u001b[1m(\u001b[0m\u001b[1;36m4888\u001b[0m, \u001b[1;36m4888\u001b[0m\u001b[1m)\u001b[0m,\n",
       " \u001b[1;36m6\u001b[0m: \u001b[1m(\u001b[0m\u001b[1;36m14169\u001b[0m, \u001b[1;36m14169\u001b[0m\u001b[1m)\u001b[0m,\n",
       " \u001b[1;36m7\u001b[0m: \u001b[1m(\u001b[0m\u001b[1;36m13542\u001b[0m, \u001b[1;36m13542\u001b[0m\u001b[1m)\u001b[0m,\n",
       " \u001b[1;36m8\u001b[0m: \u001b[1m(\u001b[0m\u001b[1;36m2855\u001b[0m, \u001b[1;36m2855\u001b[0m\u001b[1m)\u001b[0m,\n",
       " \u001b[1;36m9\u001b[0m: \u001b[1m(\u001b[0m\u001b[1;36m4408\u001b[0m, \u001b[1;36m4408\u001b[0m\u001b[1m)\u001b[0m,\n",
       " \u001b[1;36m10\u001b[0m: \u001b[1m(\u001b[0m\u001b[1;36m1401\u001b[0m, \u001b[1;36m1401\u001b[0m\u001b[1m)\u001b[0m,\n",
       " \u001b[1;36m11\u001b[0m: \u001b[1m(\u001b[0m\u001b[1;36m10684\u001b[0m, \u001b[1;36m10684\u001b[0m\u001b[1m)\u001b[0m,\n",
       " \u001b[1;36m12\u001b[0m: \u001b[1m(\u001b[0m\u001b[1;36m4576\u001b[0m, \u001b[1;36m4576\u001b[0m\u001b[1m)\u001b[0m,\n",
       " \u001b[1;36m13\u001b[0m: \u001b[1m(\u001b[0m\u001b[1;36m7787\u001b[0m, \u001b[1;36m7787\u001b[0m\u001b[1m)\u001b[0m,\n",
       " \u001b[1;36m14\u001b[0m: \u001b[1m(\u001b[0m\u001b[1;36m7407\u001b[0m, \u001b[1;36m7407\u001b[0m\u001b[1m)\u001b[0m,\n",
       " \u001b[1;36m15\u001b[0m: \u001b[1m(\u001b[0m\u001b[1;36m3086\u001b[0m, \u001b[1;36m3094\u001b[0m\u001b[1m)\u001b[0m,\n",
       " \u001b[1;36m16\u001b[0m: \u001b[1m(\u001b[0m\u001b[1;36m420\u001b[0m, \u001b[1;36m420\u001b[0m\u001b[1m)\u001b[0m,\n",
       " \u001b[1;36m17\u001b[0m: \u001b[1m(\u001b[0m\u001b[1;36m698\u001b[0m, \u001b[1;36m698\u001b[0m\u001b[1m)\u001b[0m\u001b[1m}\u001b[0m\n"
      ]
     },
     "metadata": {},
     "output_type": "display_data"
    },
    {
     "name": "stdout",
     "output_type": "stream",
     "text": [
      "f\"Got reid embedding for {sid}\" : Got reid embedding for 0\n",
      "f\"Got reid embedding for {sid}\" : Got reid embedding for 1\n",
      "f\"Got reid embedding for {sid}\" : Got reid embedding for 2\n",
      "f\"Got reid embedding for {sid}\" : Got reid embedding for 3\n",
      "f\"Got reid embedding for {sid}\" : Got reid embedding for 4\n",
      "f\"Got reid embedding for {sid}\" : Got reid embedding for 5\n",
      "f\"Got reid embedding for {sid}\" : Got reid embedding for 6\n",
      "f\"Got reid embedding for {sid}\" : Got reid embedding for 7\n",
      "f\"Got reid embedding for {sid}\" : Got reid embedding for 8\n",
      "f\"Got reid embedding for {sid}\" : Got reid embedding for 9\n",
      "f\"Got reid embedding for {sid}\" : Got reid embedding for 10\n",
      "f\"Got reid embedding for {sid}\" : Got reid embedding for 11\n",
      "f\"Got reid embedding for {sid}\" : Got reid embedding for 12\n",
      "f\"Got reid embedding for {sid}\" : Got reid embedding for 13\n",
      "f\"Got reid embedding for {sid}\" : Got reid embedding for 14\n",
      "f\"Got reid embedding for {sid}\" : Got reid embedding for 15\n",
      "f\"Got reid embedding for {sid}\" : Got reid embedding for 16\n",
      "f\"Got reid embedding for {sid}\" : Got reid embedding for 17\n"
     ]
    },
    {
     "data": {
      "text/markdown": [
       "### Got cross session input info for session: 2-17214C, session:2-classinsight-cmu_17214C_ph_225b_201904101130-front"
      ],
      "text/plain": [
       "<IPython.core.display.Markdown object>"
      ]
     },
     "metadata": {},
     "output_type": "display_data"
    },
    {
     "data": {
      "text/markdown": [
       "## Building cross session input info for session: 2-17214C, session:3-classinsight-cmu_17214C_ph_225b_201904171130-front"
      ],
      "text/plain": [
       "<IPython.core.display.Markdown object>"
      ]
     },
     "metadata": {},
     "output_type": "display_data"
    },
    {
     "name": "stdout",
     "output_type": "stream",
     "text": [
      "3 19\n",
      "8 21\n",
      "11 23\n",
      "Dict: eligible_id_map_dict\n",
      "Key: Value\n"
     ]
    },
    {
     "data": {
      "text/html": [
       "<pre style=\"white-space:pre;overflow-x:auto;line-height:normal;font-family:Menlo,'DejaVu Sans Mono',consolas,'Courier New',monospace\"><span style=\"font-weight: bold\">{</span><span style=\"color: #008080; text-decoration-color: #008080; font-weight: bold\">19</span>: <span style=\"color: #008080; text-decoration-color: #008080; font-weight: bold\">3</span>, <span style=\"color: #008080; text-decoration-color: #008080; font-weight: bold\">21</span>: <span style=\"color: #008080; text-decoration-color: #008080; font-weight: bold\">8</span>, <span style=\"color: #008080; text-decoration-color: #008080; font-weight: bold\">23</span>: <span style=\"color: #008080; text-decoration-color: #008080; font-weight: bold\">11</span><span style=\"font-weight: bold\">}</span>\n",
       "</pre>\n"
      ],
      "text/plain": [
       "\u001b[1m{\u001b[0m\u001b[1;36m19\u001b[0m: \u001b[1;36m3\u001b[0m, \u001b[1;36m21\u001b[0m: \u001b[1;36m8\u001b[0m, \u001b[1;36m23\u001b[0m: \u001b[1;36m11\u001b[0m\u001b[1m}\u001b[0m\n"
      ]
     },
     "metadata": {},
     "output_type": "display_data"
    },
    {
     "name": "stdout",
     "output_type": "stream",
     "text": [
      "\"Corrected\", eligible_id_map_dict : Corrected {19: 3, 21: 8, 23: 11}\n",
      "\"replacing ids in old to new id maps\" : replacing ids in old to new id maps\n",
      "replacing 207:19 -->3\n",
      "replacing 265:21 -->8\n",
      "replacing 474:23 -->11\n",
      "Dict: {xr:(emb_info[xr].shape[0], bbox_info[xr].shape[0]) for xr in emb_info}\n",
      "Key: Value\n"
     ]
    },
    {
     "data": {
      "text/html": [
       "<pre style=\"white-space:pre;overflow-x:auto;line-height:normal;font-family:Menlo,'DejaVu Sans Mono',consolas,'Courier New',monospace\"><span style=\"font-weight: bold\">{</span><span style=\"color: #008080; text-decoration-color: #008080; font-weight: bold\">0</span>: <span style=\"font-weight: bold\">(</span><span style=\"color: #008080; text-decoration-color: #008080; font-weight: bold\">14999</span>, <span style=\"color: #008080; text-decoration-color: #008080; font-weight: bold\">14999</span><span style=\"font-weight: bold\">)</span>,\n",
       " <span style=\"color: #008080; text-decoration-color: #008080; font-weight: bold\">1</span>: <span style=\"font-weight: bold\">(</span><span style=\"color: #008080; text-decoration-color: #008080; font-weight: bold\">14997</span>, <span style=\"color: #008080; text-decoration-color: #008080; font-weight: bold\">14997</span><span style=\"font-weight: bold\">)</span>,\n",
       " <span style=\"color: #008080; text-decoration-color: #008080; font-weight: bold\">2</span>: <span style=\"font-weight: bold\">(</span><span style=\"color: #008080; text-decoration-color: #008080; font-weight: bold\">14893</span>, <span style=\"color: #008080; text-decoration-color: #008080; font-weight: bold\">14893</span><span style=\"font-weight: bold\">)</span>,\n",
       " <span style=\"color: #008080; text-decoration-color: #008080; font-weight: bold\">3</span>: <span style=\"font-weight: bold\">(</span><span style=\"color: #008080; text-decoration-color: #008080; font-weight: bold\">13926</span>, <span style=\"color: #008080; text-decoration-color: #008080; font-weight: bold\">13926</span><span style=\"font-weight: bold\">)</span>,\n",
       " <span style=\"color: #008080; text-decoration-color: #008080; font-weight: bold\">4</span>: <span style=\"font-weight: bold\">(</span><span style=\"color: #008080; text-decoration-color: #008080; font-weight: bold\">14999</span>, <span style=\"color: #008080; text-decoration-color: #008080; font-weight: bold\">14999</span><span style=\"font-weight: bold\">)</span>,\n",
       " <span style=\"color: #008080; text-decoration-color: #008080; font-weight: bold\">5</span>: <span style=\"font-weight: bold\">(</span><span style=\"color: #008080; text-decoration-color: #008080; font-weight: bold\">14888</span>, <span style=\"color: #008080; text-decoration-color: #008080; font-weight: bold\">14888</span><span style=\"font-weight: bold\">)</span>,\n",
       " <span style=\"color: #008080; text-decoration-color: #008080; font-weight: bold\">6</span>: <span style=\"font-weight: bold\">(</span><span style=\"color: #008080; text-decoration-color: #008080; font-weight: bold\">14995</span>, <span style=\"color: #008080; text-decoration-color: #008080; font-weight: bold\">14995</span><span style=\"font-weight: bold\">)</span>,\n",
       " <span style=\"color: #008080; text-decoration-color: #008080; font-weight: bold\">7</span>: <span style=\"font-weight: bold\">(</span><span style=\"color: #008080; text-decoration-color: #008080; font-weight: bold\">14970</span>, <span style=\"color: #008080; text-decoration-color: #008080; font-weight: bold\">14970</span><span style=\"font-weight: bold\">)</span>,\n",
       " <span style=\"color: #008080; text-decoration-color: #008080; font-weight: bold\">8</span>: <span style=\"font-weight: bold\">(</span><span style=\"color: #008080; text-decoration-color: #008080; font-weight: bold\">14589</span>, <span style=\"color: #008080; text-decoration-color: #008080; font-weight: bold\">14589</span><span style=\"font-weight: bold\">)</span>,\n",
       " <span style=\"color: #008080; text-decoration-color: #008080; font-weight: bold\">9</span>: <span style=\"font-weight: bold\">(</span><span style=\"color: #008080; text-decoration-color: #008080; font-weight: bold\">619</span>, <span style=\"color: #008080; text-decoration-color: #008080; font-weight: bold\">619</span><span style=\"font-weight: bold\">)</span>,\n",
       " <span style=\"color: #008080; text-decoration-color: #008080; font-weight: bold\">10</span>: <span style=\"font-weight: bold\">(</span><span style=\"color: #008080; text-decoration-color: #008080; font-weight: bold\">10035</span>, <span style=\"color: #008080; text-decoration-color: #008080; font-weight: bold\">10035</span><span style=\"font-weight: bold\">)</span>,\n",
       " <span style=\"color: #008080; text-decoration-color: #008080; font-weight: bold\">11</span>: <span style=\"font-weight: bold\">(</span><span style=\"color: #008080; text-decoration-color: #008080; font-weight: bold\">1925</span>, <span style=\"color: #008080; text-decoration-color: #008080; font-weight: bold\">1925</span><span style=\"font-weight: bold\">)</span>,\n",
       " <span style=\"color: #008080; text-decoration-color: #008080; font-weight: bold\">12</span>: <span style=\"font-weight: bold\">(</span><span style=\"color: #008080; text-decoration-color: #008080; font-weight: bold\">342</span>, <span style=\"color: #008080; text-decoration-color: #008080; font-weight: bold\">342</span><span style=\"font-weight: bold\">)</span>,\n",
       " <span style=\"color: #008080; text-decoration-color: #008080; font-weight: bold\">13</span>: <span style=\"font-weight: bold\">(</span><span style=\"color: #008080; text-decoration-color: #008080; font-weight: bold\">12179</span>, <span style=\"color: #008080; text-decoration-color: #008080; font-weight: bold\">12179</span><span style=\"font-weight: bold\">)</span>,\n",
       " <span style=\"color: #008080; text-decoration-color: #008080; font-weight: bold\">14</span>: <span style=\"font-weight: bold\">(</span><span style=\"color: #008080; text-decoration-color: #008080; font-weight: bold\">11341</span>, <span style=\"color: #008080; text-decoration-color: #008080; font-weight: bold\">11341</span><span style=\"font-weight: bold\">)</span>,\n",
       " <span style=\"color: #008080; text-decoration-color: #008080; font-weight: bold\">15</span>: <span style=\"font-weight: bold\">(</span><span style=\"color: #008080; text-decoration-color: #008080; font-weight: bold\">360</span>, <span style=\"color: #008080; text-decoration-color: #008080; font-weight: bold\">360</span><span style=\"font-weight: bold\">)</span>,\n",
       " <span style=\"color: #008080; text-decoration-color: #008080; font-weight: bold\">16</span>: <span style=\"font-weight: bold\">(</span><span style=\"color: #008080; text-decoration-color: #008080; font-weight: bold\">3559</span>, <span style=\"color: #008080; text-decoration-color: #008080; font-weight: bold\">3559</span><span style=\"font-weight: bold\">)</span>,\n",
       " <span style=\"color: #008080; text-decoration-color: #008080; font-weight: bold\">17</span>: <span style=\"font-weight: bold\">(</span><span style=\"color: #008080; text-decoration-color: #008080; font-weight: bold\">853</span>, <span style=\"color: #008080; text-decoration-color: #008080; font-weight: bold\">853</span><span style=\"font-weight: bold\">)</span>,\n",
       " <span style=\"color: #008080; text-decoration-color: #008080; font-weight: bold\">18</span>: <span style=\"font-weight: bold\">(</span><span style=\"color: #008080; text-decoration-color: #008080; font-weight: bold\">9070</span>, <span style=\"color: #008080; text-decoration-color: #008080; font-weight: bold\">9070</span><span style=\"font-weight: bold\">)</span>,\n",
       " <span style=\"color: #008080; text-decoration-color: #008080; font-weight: bold\">20</span>: <span style=\"font-weight: bold\">(</span><span style=\"color: #008080; text-decoration-color: #008080; font-weight: bold\">3501</span>, <span style=\"color: #008080; text-decoration-color: #008080; font-weight: bold\">3501</span><span style=\"font-weight: bold\">)</span>,\n",
       " <span style=\"color: #008080; text-decoration-color: #008080; font-weight: bold\">22</span>: <span style=\"font-weight: bold\">(</span><span style=\"color: #008080; text-decoration-color: #008080; font-weight: bold\">4454</span>, <span style=\"color: #008080; text-decoration-color: #008080; font-weight: bold\">4454</span><span style=\"font-weight: bold\">)}</span>\n",
       "</pre>\n"
      ],
      "text/plain": [
       "\u001b[1m{\u001b[0m\u001b[1;36m0\u001b[0m: \u001b[1m(\u001b[0m\u001b[1;36m14999\u001b[0m, \u001b[1;36m14999\u001b[0m\u001b[1m)\u001b[0m,\n",
       " \u001b[1;36m1\u001b[0m: \u001b[1m(\u001b[0m\u001b[1;36m14997\u001b[0m, \u001b[1;36m14997\u001b[0m\u001b[1m)\u001b[0m,\n",
       " \u001b[1;36m2\u001b[0m: \u001b[1m(\u001b[0m\u001b[1;36m14893\u001b[0m, \u001b[1;36m14893\u001b[0m\u001b[1m)\u001b[0m,\n",
       " \u001b[1;36m3\u001b[0m: \u001b[1m(\u001b[0m\u001b[1;36m13926\u001b[0m, \u001b[1;36m13926\u001b[0m\u001b[1m)\u001b[0m,\n",
       " \u001b[1;36m4\u001b[0m: \u001b[1m(\u001b[0m\u001b[1;36m14999\u001b[0m, \u001b[1;36m14999\u001b[0m\u001b[1m)\u001b[0m,\n",
       " \u001b[1;36m5\u001b[0m: \u001b[1m(\u001b[0m\u001b[1;36m14888\u001b[0m, \u001b[1;36m14888\u001b[0m\u001b[1m)\u001b[0m,\n",
       " \u001b[1;36m6\u001b[0m: \u001b[1m(\u001b[0m\u001b[1;36m14995\u001b[0m, \u001b[1;36m14995\u001b[0m\u001b[1m)\u001b[0m,\n",
       " \u001b[1;36m7\u001b[0m: \u001b[1m(\u001b[0m\u001b[1;36m14970\u001b[0m, \u001b[1;36m14970\u001b[0m\u001b[1m)\u001b[0m,\n",
       " \u001b[1;36m8\u001b[0m: \u001b[1m(\u001b[0m\u001b[1;36m14589\u001b[0m, \u001b[1;36m14589\u001b[0m\u001b[1m)\u001b[0m,\n",
       " \u001b[1;36m9\u001b[0m: \u001b[1m(\u001b[0m\u001b[1;36m619\u001b[0m, \u001b[1;36m619\u001b[0m\u001b[1m)\u001b[0m,\n",
       " \u001b[1;36m10\u001b[0m: \u001b[1m(\u001b[0m\u001b[1;36m10035\u001b[0m, \u001b[1;36m10035\u001b[0m\u001b[1m)\u001b[0m,\n",
       " \u001b[1;36m11\u001b[0m: \u001b[1m(\u001b[0m\u001b[1;36m1925\u001b[0m, \u001b[1;36m1925\u001b[0m\u001b[1m)\u001b[0m,\n",
       " \u001b[1;36m12\u001b[0m: \u001b[1m(\u001b[0m\u001b[1;36m342\u001b[0m, \u001b[1;36m342\u001b[0m\u001b[1m)\u001b[0m,\n",
       " \u001b[1;36m13\u001b[0m: \u001b[1m(\u001b[0m\u001b[1;36m12179\u001b[0m, \u001b[1;36m12179\u001b[0m\u001b[1m)\u001b[0m,\n",
       " \u001b[1;36m14\u001b[0m: \u001b[1m(\u001b[0m\u001b[1;36m11341\u001b[0m, \u001b[1;36m11341\u001b[0m\u001b[1m)\u001b[0m,\n",
       " \u001b[1;36m15\u001b[0m: \u001b[1m(\u001b[0m\u001b[1;36m360\u001b[0m, \u001b[1;36m360\u001b[0m\u001b[1m)\u001b[0m,\n",
       " \u001b[1;36m16\u001b[0m: \u001b[1m(\u001b[0m\u001b[1;36m3559\u001b[0m, \u001b[1;36m3559\u001b[0m\u001b[1m)\u001b[0m,\n",
       " \u001b[1;36m17\u001b[0m: \u001b[1m(\u001b[0m\u001b[1;36m853\u001b[0m, \u001b[1;36m853\u001b[0m\u001b[1m)\u001b[0m,\n",
       " \u001b[1;36m18\u001b[0m: \u001b[1m(\u001b[0m\u001b[1;36m9070\u001b[0m, \u001b[1;36m9070\u001b[0m\u001b[1m)\u001b[0m,\n",
       " \u001b[1;36m20\u001b[0m: \u001b[1m(\u001b[0m\u001b[1;36m3501\u001b[0m, \u001b[1;36m3501\u001b[0m\u001b[1m)\u001b[0m,\n",
       " \u001b[1;36m22\u001b[0m: \u001b[1m(\u001b[0m\u001b[1;36m4454\u001b[0m, \u001b[1;36m4454\u001b[0m\u001b[1m)\u001b[0m\u001b[1m}\u001b[0m\n"
      ]
     },
     "metadata": {},
     "output_type": "display_data"
    },
    {
     "name": "stdout",
     "output_type": "stream",
     "text": [
      "f\"Got reid embedding for {sid}\" : Got reid embedding for 0\n",
      "f\"Got reid embedding for {sid}\" : Got reid embedding for 1\n",
      "f\"Got reid embedding for {sid}\" : Got reid embedding for 2\n",
      "f\"Got reid embedding for {sid}\" : Got reid embedding for 3\n",
      "f\"Got reid embedding for {sid}\" : Got reid embedding for 4\n",
      "f\"Got reid embedding for {sid}\" : Got reid embedding for 5\n",
      "f\"Got reid embedding for {sid}\" : Got reid embedding for 6\n",
      "f\"Got reid embedding for {sid}\" : Got reid embedding for 7\n",
      "f\"Got reid embedding for {sid}\" : Got reid embedding for 8\n",
      "f\"Got reid embedding for {sid}\" : Got reid embedding for 9\n",
      "f\"Got reid embedding for {sid}\" : Got reid embedding for 10\n",
      "f\"Got reid embedding for {sid}\" : Got reid embedding for 11\n",
      "f\"Got reid embedding for {sid}\" : Got reid embedding for 12\n",
      "f\"Got reid embedding for {sid}\" : Got reid embedding for 13\n",
      "f\"Got reid embedding for {sid}\" : Got reid embedding for 14\n",
      "f\"Got reid embedding for {sid}\" : Got reid embedding for 15\n",
      "f\"Got reid embedding for {sid}\" : Got reid embedding for 16\n",
      "f\"Got reid embedding for {sid}\" : Got reid embedding for 17\n",
      "f\"Got reid embedding for {sid}\" : Got reid embedding for 18\n",
      "f\"Got reid embedding for {sid}\" : Got reid embedding for 20\n",
      "f\"Got reid embedding for {sid}\" : Got reid embedding for 22\n"
     ]
    },
    {
     "data": {
      "text/markdown": [
       "### Got cross session input info for session: 2-17214C, session:3-classinsight-cmu_17214C_ph_225b_201904171130-front"
      ],
      "text/plain": [
       "<IPython.core.display.Markdown object>"
      ]
     },
     "metadata": {},
     "output_type": "display_data"
    },
    {
     "data": {
      "text/markdown": [
       "## Building cross session input info for session: 2-17214C, session:4-classinsight-cmu_17214C_ph_225b_201904241130-front"
      ],
      "text/plain": [
       "<IPython.core.display.Markdown object>"
      ]
     },
     "metadata": {},
     "output_type": "display_data"
    },
    {
     "name": "stdout",
     "output_type": "stream",
     "text": [
      "Dict: eligible_id_map_dict\n",
      "Key: Value\n"
     ]
    },
    {
     "data": {
      "text/html": [
       "<pre style=\"white-space:pre;overflow-x:auto;line-height:normal;font-family:Menlo,'DejaVu Sans Mono',consolas,'Courier New',monospace\"><span style=\"font-weight: bold\">{}</span>\n",
       "</pre>\n"
      ],
      "text/plain": [
       "\u001b[1m{\u001b[0m\u001b[1m}\u001b[0m\n"
      ]
     },
     "metadata": {},
     "output_type": "display_data"
    },
    {
     "name": "stdout",
     "output_type": "stream",
     "text": [
      "\"Corrected\", eligible_id_map_dict : Corrected {}\n",
      "\"replacing ids in old to new id maps\" : replacing ids in old to new id maps\n",
      "Dict: {xr:(emb_info[xr].shape[0], bbox_info[xr].shape[0]) for xr in emb_info}\n",
      "Key: Value\n"
     ]
    },
    {
     "data": {
      "text/html": [
       "<pre style=\"white-space:pre;overflow-x:auto;line-height:normal;font-family:Menlo,'DejaVu Sans Mono',consolas,'Courier New',monospace\"><span style=\"font-weight: bold\">{</span><span style=\"color: #008080; text-decoration-color: #008080; font-weight: bold\">0</span>: <span style=\"font-weight: bold\">(</span><span style=\"color: #008080; text-decoration-color: #008080; font-weight: bold\">14987</span>, <span style=\"color: #008080; text-decoration-color: #008080; font-weight: bold\">14987</span><span style=\"font-weight: bold\">)</span>,\n",
       " <span style=\"color: #008080; text-decoration-color: #008080; font-weight: bold\">1</span>: <span style=\"font-weight: bold\">(</span><span style=\"color: #008080; text-decoration-color: #008080; font-weight: bold\">14633</span>, <span style=\"color: #008080; text-decoration-color: #008080; font-weight: bold\">14633</span><span style=\"font-weight: bold\">)</span>,\n",
       " <span style=\"color: #008080; text-decoration-color: #008080; font-weight: bold\">2</span>: <span style=\"font-weight: bold\">(</span><span style=\"color: #008080; text-decoration-color: #008080; font-weight: bold\">14972</span>, <span style=\"color: #008080; text-decoration-color: #008080; font-weight: bold\">14972</span><span style=\"font-weight: bold\">)</span>,\n",
       " <span style=\"color: #008080; text-decoration-color: #008080; font-weight: bold\">3</span>: <span style=\"font-weight: bold\">(</span><span style=\"color: #008080; text-decoration-color: #008080; font-weight: bold\">14979</span>, <span style=\"color: #008080; text-decoration-color: #008080; font-weight: bold\">14979</span><span style=\"font-weight: bold\">)</span>,\n",
       " <span style=\"color: #008080; text-decoration-color: #008080; font-weight: bold\">4</span>: <span style=\"font-weight: bold\">(</span><span style=\"color: #008080; text-decoration-color: #008080; font-weight: bold\">14942</span>, <span style=\"color: #008080; text-decoration-color: #008080; font-weight: bold\">14942</span><span style=\"font-weight: bold\">)</span>,\n",
       " <span style=\"color: #008080; text-decoration-color: #008080; font-weight: bold\">5</span>: <span style=\"font-weight: bold\">(</span><span style=\"color: #008080; text-decoration-color: #008080; font-weight: bold\">14963</span>, <span style=\"color: #008080; text-decoration-color: #008080; font-weight: bold\">14963</span><span style=\"font-weight: bold\">)</span>,\n",
       " <span style=\"color: #008080; text-decoration-color: #008080; font-weight: bold\">6</span>: <span style=\"font-weight: bold\">(</span><span style=\"color: #008080; text-decoration-color: #008080; font-weight: bold\">14974</span>, <span style=\"color: #008080; text-decoration-color: #008080; font-weight: bold\">14974</span><span style=\"font-weight: bold\">)</span>,\n",
       " <span style=\"color: #008080; text-decoration-color: #008080; font-weight: bold\">7</span>: <span style=\"font-weight: bold\">(</span><span style=\"color: #008080; text-decoration-color: #008080; font-weight: bold\">1356</span>, <span style=\"color: #008080; text-decoration-color: #008080; font-weight: bold\">1356</span><span style=\"font-weight: bold\">)</span>,\n",
       " <span style=\"color: #008080; text-decoration-color: #008080; font-weight: bold\">8</span>: <span style=\"font-weight: bold\">(</span><span style=\"color: #008080; text-decoration-color: #008080; font-weight: bold\">14636</span>, <span style=\"color: #008080; text-decoration-color: #008080; font-weight: bold\">14636</span><span style=\"font-weight: bold\">)</span>,\n",
       " <span style=\"color: #008080; text-decoration-color: #008080; font-weight: bold\">9</span>: <span style=\"font-weight: bold\">(</span><span style=\"color: #008080; text-decoration-color: #008080; font-weight: bold\">14159</span>, <span style=\"color: #008080; text-decoration-color: #008080; font-weight: bold\">14159</span><span style=\"font-weight: bold\">)</span>,\n",
       " <span style=\"color: #008080; text-decoration-color: #008080; font-weight: bold\">10</span>: <span style=\"font-weight: bold\">(</span><span style=\"color: #008080; text-decoration-color: #008080; font-weight: bold\">14116</span>, <span style=\"color: #008080; text-decoration-color: #008080; font-weight: bold\">14116</span><span style=\"font-weight: bold\">)</span>,\n",
       " <span style=\"color: #008080; text-decoration-color: #008080; font-weight: bold\">11</span>: <span style=\"font-weight: bold\">(</span><span style=\"color: #008080; text-decoration-color: #008080; font-weight: bold\">14034</span>, <span style=\"color: #008080; text-decoration-color: #008080; font-weight: bold\">14034</span><span style=\"font-weight: bold\">)</span>,\n",
       " <span style=\"color: #008080; text-decoration-color: #008080; font-weight: bold\">12</span>: <span style=\"font-weight: bold\">(</span><span style=\"color: #008080; text-decoration-color: #008080; font-weight: bold\">12573</span>, <span style=\"color: #008080; text-decoration-color: #008080; font-weight: bold\">12573</span><span style=\"font-weight: bold\">)</span>,\n",
       " <span style=\"color: #008080; text-decoration-color: #008080; font-weight: bold\">13</span>: <span style=\"font-weight: bold\">(</span><span style=\"color: #008080; text-decoration-color: #008080; font-weight: bold\">10588</span>, <span style=\"color: #008080; text-decoration-color: #008080; font-weight: bold\">10588</span><span style=\"font-weight: bold\">)</span>,\n",
       " <span style=\"color: #008080; text-decoration-color: #008080; font-weight: bold\">14</span>: <span style=\"font-weight: bold\">(</span><span style=\"color: #008080; text-decoration-color: #008080; font-weight: bold\">471</span>, <span style=\"color: #008080; text-decoration-color: #008080; font-weight: bold\">471</span><span style=\"font-weight: bold\">)}</span>\n",
       "</pre>\n"
      ],
      "text/plain": [
       "\u001b[1m{\u001b[0m\u001b[1;36m0\u001b[0m: \u001b[1m(\u001b[0m\u001b[1;36m14987\u001b[0m, \u001b[1;36m14987\u001b[0m\u001b[1m)\u001b[0m,\n",
       " \u001b[1;36m1\u001b[0m: \u001b[1m(\u001b[0m\u001b[1;36m14633\u001b[0m, \u001b[1;36m14633\u001b[0m\u001b[1m)\u001b[0m,\n",
       " \u001b[1;36m2\u001b[0m: \u001b[1m(\u001b[0m\u001b[1;36m14972\u001b[0m, \u001b[1;36m14972\u001b[0m\u001b[1m)\u001b[0m,\n",
       " \u001b[1;36m3\u001b[0m: \u001b[1m(\u001b[0m\u001b[1;36m14979\u001b[0m, \u001b[1;36m14979\u001b[0m\u001b[1m)\u001b[0m,\n",
       " \u001b[1;36m4\u001b[0m: \u001b[1m(\u001b[0m\u001b[1;36m14942\u001b[0m, \u001b[1;36m14942\u001b[0m\u001b[1m)\u001b[0m,\n",
       " \u001b[1;36m5\u001b[0m: \u001b[1m(\u001b[0m\u001b[1;36m14963\u001b[0m, \u001b[1;36m14963\u001b[0m\u001b[1m)\u001b[0m,\n",
       " \u001b[1;36m6\u001b[0m: \u001b[1m(\u001b[0m\u001b[1;36m14974\u001b[0m, \u001b[1;36m14974\u001b[0m\u001b[1m)\u001b[0m,\n",
       " \u001b[1;36m7\u001b[0m: \u001b[1m(\u001b[0m\u001b[1;36m1356\u001b[0m, \u001b[1;36m1356\u001b[0m\u001b[1m)\u001b[0m,\n",
       " \u001b[1;36m8\u001b[0m: \u001b[1m(\u001b[0m\u001b[1;36m14636\u001b[0m, \u001b[1;36m14636\u001b[0m\u001b[1m)\u001b[0m,\n",
       " \u001b[1;36m9\u001b[0m: \u001b[1m(\u001b[0m\u001b[1;36m14159\u001b[0m, \u001b[1;36m14159\u001b[0m\u001b[1m)\u001b[0m,\n",
       " \u001b[1;36m10\u001b[0m: \u001b[1m(\u001b[0m\u001b[1;36m14116\u001b[0m, \u001b[1;36m14116\u001b[0m\u001b[1m)\u001b[0m,\n",
       " \u001b[1;36m11\u001b[0m: \u001b[1m(\u001b[0m\u001b[1;36m14034\u001b[0m, \u001b[1;36m14034\u001b[0m\u001b[1m)\u001b[0m,\n",
       " \u001b[1;36m12\u001b[0m: \u001b[1m(\u001b[0m\u001b[1;36m12573\u001b[0m, \u001b[1;36m12573\u001b[0m\u001b[1m)\u001b[0m,\n",
       " \u001b[1;36m13\u001b[0m: \u001b[1m(\u001b[0m\u001b[1;36m10588\u001b[0m, \u001b[1;36m10588\u001b[0m\u001b[1m)\u001b[0m,\n",
       " \u001b[1;36m14\u001b[0m: \u001b[1m(\u001b[0m\u001b[1;36m471\u001b[0m, \u001b[1;36m471\u001b[0m\u001b[1m)\u001b[0m\u001b[1m}\u001b[0m\n"
      ]
     },
     "metadata": {},
     "output_type": "display_data"
    },
    {
     "name": "stdout",
     "output_type": "stream",
     "text": [
      "f\"Got reid embedding for {sid}\" : Got reid embedding for 0\n",
      "f\"Got reid embedding for {sid}\" : Got reid embedding for 1\n",
      "f\"Got reid embedding for {sid}\" : Got reid embedding for 2\n",
      "f\"Got reid embedding for {sid}\" : Got reid embedding for 3\n",
      "f\"Got reid embedding for {sid}\" : Got reid embedding for 4\n",
      "f\"Got reid embedding for {sid}\" : Got reid embedding for 5\n",
      "f\"Got reid embedding for {sid}\" : Got reid embedding for 6\n",
      "f\"Got reid embedding for {sid}\" : Got reid embedding for 7\n",
      "f\"Got reid embedding for {sid}\" : Got reid embedding for 8\n",
      "f\"Got reid embedding for {sid}\" : Got reid embedding for 9\n",
      "f\"Got reid embedding for {sid}\" : Got reid embedding for 10\n",
      "f\"Got reid embedding for {sid}\" : Got reid embedding for 11\n",
      "f\"Got reid embedding for {sid}\" : Got reid embedding for 12\n",
      "f\"Got reid embedding for {sid}\" : Got reid embedding for 13\n",
      "f\"Got reid embedding for {sid}\" : Got reid embedding for 14\n"
     ]
    },
    {
     "data": {
      "text/markdown": [
       "### Got cross session input info for session: 2-17214C, session:4-classinsight-cmu_17214C_ph_225b_201904241130-front"
      ],
      "text/plain": [
       "<IPython.core.display.Markdown object>"
      ]
     },
     "metadata": {},
     "output_type": "display_data"
    },
    {
     "data": {
      "text/markdown": [
       "## Building cross session input info for session: 2-17214C, session:5-classinsight-cmu_17214C_ph_225b_201905011130-front"
      ],
      "text/plain": [
       "<IPython.core.display.Markdown object>"
      ]
     },
     "metadata": {},
     "output_type": "display_data"
    },
    {
     "name": "stdout",
     "output_type": "stream",
     "text": [
      "Dict: eligible_id_map_dict\n",
      "Key: Value\n"
     ]
    },
    {
     "data": {
      "text/html": [
       "<pre style=\"white-space:pre;overflow-x:auto;line-height:normal;font-family:Menlo,'DejaVu Sans Mono',consolas,'Courier New',monospace\"><span style=\"font-weight: bold\">{}</span>\n",
       "</pre>\n"
      ],
      "text/plain": [
       "\u001b[1m{\u001b[0m\u001b[1m}\u001b[0m\n"
      ]
     },
     "metadata": {},
     "output_type": "display_data"
    },
    {
     "name": "stdout",
     "output_type": "stream",
     "text": [
      "\"Corrected\", eligible_id_map_dict : Corrected {}\n",
      "\"replacing ids in old to new id maps\" : replacing ids in old to new id maps\n",
      "Dict: {xr:(emb_info[xr].shape[0], bbox_info[xr].shape[0]) for xr in emb_info}\n",
      "Key: Value\n"
     ]
    },
    {
     "data": {
      "text/html": [
       "<pre style=\"white-space:pre;overflow-x:auto;line-height:normal;font-family:Menlo,'DejaVu Sans Mono',consolas,'Courier New',monospace\"><span style=\"font-weight: bold\">{</span><span style=\"color: #008080; text-decoration-color: #008080; font-weight: bold\">0</span>: <span style=\"font-weight: bold\">(</span><span style=\"color: #008080; text-decoration-color: #008080; font-weight: bold\">10128</span>, <span style=\"color: #008080; text-decoration-color: #008080; font-weight: bold\">10128</span><span style=\"font-weight: bold\">)</span>,\n",
       " <span style=\"color: #008080; text-decoration-color: #008080; font-weight: bold\">1</span>: <span style=\"font-weight: bold\">(</span><span style=\"color: #008080; text-decoration-color: #008080; font-weight: bold\">10715</span>, <span style=\"color: #008080; text-decoration-color: #008080; font-weight: bold\">10715</span><span style=\"font-weight: bold\">)</span>,\n",
       " <span style=\"color: #008080; text-decoration-color: #008080; font-weight: bold\">2</span>: <span style=\"font-weight: bold\">(</span><span style=\"color: #008080; text-decoration-color: #008080; font-weight: bold\">14986</span>, <span style=\"color: #008080; text-decoration-color: #008080; font-weight: bold\">14986</span><span style=\"font-weight: bold\">)</span>,\n",
       " <span style=\"color: #008080; text-decoration-color: #008080; font-weight: bold\">3</span>: <span style=\"font-weight: bold\">(</span><span style=\"color: #008080; text-decoration-color: #008080; font-weight: bold\">8143</span>, <span style=\"color: #008080; text-decoration-color: #008080; font-weight: bold\">8143</span><span style=\"font-weight: bold\">)</span>,\n",
       " <span style=\"color: #008080; text-decoration-color: #008080; font-weight: bold\">4</span>: <span style=\"font-weight: bold\">(</span><span style=\"color: #008080; text-decoration-color: #008080; font-weight: bold\">11584</span>, <span style=\"color: #008080; text-decoration-color: #008080; font-weight: bold\">11584</span><span style=\"font-weight: bold\">)</span>,\n",
       " <span style=\"color: #008080; text-decoration-color: #008080; font-weight: bold\">5</span>: <span style=\"font-weight: bold\">(</span><span style=\"color: #008080; text-decoration-color: #008080; font-weight: bold\">14981</span>, <span style=\"color: #008080; text-decoration-color: #008080; font-weight: bold\">14981</span><span style=\"font-weight: bold\">)</span>,\n",
       " <span style=\"color: #008080; text-decoration-color: #008080; font-weight: bold\">6</span>: <span style=\"font-weight: bold\">(</span><span style=\"color: #008080; text-decoration-color: #008080; font-weight: bold\">12868</span>, <span style=\"color: #008080; text-decoration-color: #008080; font-weight: bold\">12868</span><span style=\"font-weight: bold\">)</span>,\n",
       " <span style=\"color: #008080; text-decoration-color: #008080; font-weight: bold\">7</span>: <span style=\"font-weight: bold\">(</span><span style=\"color: #008080; text-decoration-color: #008080; font-weight: bold\">14932</span>, <span style=\"color: #008080; text-decoration-color: #008080; font-weight: bold\">14932</span><span style=\"font-weight: bold\">)</span>,\n",
       " <span style=\"color: #008080; text-decoration-color: #008080; font-weight: bold\">8</span>: <span style=\"font-weight: bold\">(</span><span style=\"color: #008080; text-decoration-color: #008080; font-weight: bold\">4872</span>, <span style=\"color: #008080; text-decoration-color: #008080; font-weight: bold\">4872</span><span style=\"font-weight: bold\">)</span>,\n",
       " <span style=\"color: #008080; text-decoration-color: #008080; font-weight: bold\">9</span>: <span style=\"font-weight: bold\">(</span><span style=\"color: #008080; text-decoration-color: #008080; font-weight: bold\">11763</span>, <span style=\"color: #008080; text-decoration-color: #008080; font-weight: bold\">11763</span><span style=\"font-weight: bold\">)</span>,\n",
       " <span style=\"color: #008080; text-decoration-color: #008080; font-weight: bold\">10</span>: <span style=\"font-weight: bold\">(</span><span style=\"color: #008080; text-decoration-color: #008080; font-weight: bold\">14446</span>, <span style=\"color: #008080; text-decoration-color: #008080; font-weight: bold\">14446</span><span style=\"font-weight: bold\">)</span>,\n",
       " <span style=\"color: #008080; text-decoration-color: #008080; font-weight: bold\">11</span>: <span style=\"font-weight: bold\">(</span><span style=\"color: #008080; text-decoration-color: #008080; font-weight: bold\">14082</span>, <span style=\"color: #008080; text-decoration-color: #008080; font-weight: bold\">14082</span><span style=\"font-weight: bold\">)</span>,\n",
       " <span style=\"color: #008080; text-decoration-color: #008080; font-weight: bold\">12</span>: <span style=\"font-weight: bold\">(</span><span style=\"color: #008080; text-decoration-color: #008080; font-weight: bold\">11859</span>, <span style=\"color: #008080; text-decoration-color: #008080; font-weight: bold\">11859</span><span style=\"font-weight: bold\">)</span>,\n",
       " <span style=\"color: #008080; text-decoration-color: #008080; font-weight: bold\">13</span>: <span style=\"font-weight: bold\">(</span><span style=\"color: #008080; text-decoration-color: #008080; font-weight: bold\">10927</span>, <span style=\"color: #008080; text-decoration-color: #008080; font-weight: bold\">10927</span><span style=\"font-weight: bold\">)</span>,\n",
       " <span style=\"color: #008080; text-decoration-color: #008080; font-weight: bold\">14</span>: <span style=\"font-weight: bold\">(</span><span style=\"color: #008080; text-decoration-color: #008080; font-weight: bold\">1270</span>, <span style=\"color: #008080; text-decoration-color: #008080; font-weight: bold\">1270</span><span style=\"font-weight: bold\">)</span>,\n",
       " <span style=\"color: #008080; text-decoration-color: #008080; font-weight: bold\">15</span>: <span style=\"font-weight: bold\">(</span><span style=\"color: #008080; text-decoration-color: #008080; font-weight: bold\">498</span>, <span style=\"color: #008080; text-decoration-color: #008080; font-weight: bold\">498</span><span style=\"font-weight: bold\">)</span>,\n",
       " <span style=\"color: #008080; text-decoration-color: #008080; font-weight: bold\">16</span>: <span style=\"font-weight: bold\">(</span><span style=\"color: #008080; text-decoration-color: #008080; font-weight: bold\">6986</span>, <span style=\"color: #008080; text-decoration-color: #008080; font-weight: bold\">6986</span><span style=\"font-weight: bold\">)</span>,\n",
       " <span style=\"color: #008080; text-decoration-color: #008080; font-weight: bold\">17</span>: <span style=\"font-weight: bold\">(</span><span style=\"color: #008080; text-decoration-color: #008080; font-weight: bold\">6865</span>, <span style=\"color: #008080; text-decoration-color: #008080; font-weight: bold\">6865</span><span style=\"font-weight: bold\">)</span>,\n",
       " <span style=\"color: #008080; text-decoration-color: #008080; font-weight: bold\">18</span>: <span style=\"font-weight: bold\">(</span><span style=\"color: #008080; text-decoration-color: #008080; font-weight: bold\">4848</span>, <span style=\"color: #008080; text-decoration-color: #008080; font-weight: bold\">4848</span><span style=\"font-weight: bold\">)</span>,\n",
       " <span style=\"color: #008080; text-decoration-color: #008080; font-weight: bold\">19</span>: <span style=\"font-weight: bold\">(</span><span style=\"color: #008080; text-decoration-color: #008080; font-weight: bold\">4251</span>, <span style=\"color: #008080; text-decoration-color: #008080; font-weight: bold\">4251</span><span style=\"font-weight: bold\">)</span>,\n",
       " <span style=\"color: #008080; text-decoration-color: #008080; font-weight: bold\">20</span>: <span style=\"font-weight: bold\">(</span><span style=\"color: #008080; text-decoration-color: #008080; font-weight: bold\">873</span>, <span style=\"color: #008080; text-decoration-color: #008080; font-weight: bold\">873</span><span style=\"font-weight: bold\">)</span>,\n",
       " <span style=\"color: #008080; text-decoration-color: #008080; font-weight: bold\">21</span>: <span style=\"font-weight: bold\">(</span><span style=\"color: #008080; text-decoration-color: #008080; font-weight: bold\">1128</span>, <span style=\"color: #008080; text-decoration-color: #008080; font-weight: bold\">1128</span><span style=\"font-weight: bold\">)</span>,\n",
       " <span style=\"color: #008080; text-decoration-color: #008080; font-weight: bold\">22</span>: <span style=\"font-weight: bold\">(</span><span style=\"color: #008080; text-decoration-color: #008080; font-weight: bold\">602</span>, <span style=\"color: #008080; text-decoration-color: #008080; font-weight: bold\">602</span><span style=\"font-weight: bold\">)</span>,\n",
       " <span style=\"color: #008080; text-decoration-color: #008080; font-weight: bold\">23</span>: <span style=\"font-weight: bold\">(</span><span style=\"color: #008080; text-decoration-color: #008080; font-weight: bold\">1837</span>, <span style=\"color: #008080; text-decoration-color: #008080; font-weight: bold\">1837</span><span style=\"font-weight: bold\">)</span>,\n",
       " <span style=\"color: #008080; text-decoration-color: #008080; font-weight: bold\">24</span>: <span style=\"font-weight: bold\">(</span><span style=\"color: #008080; text-decoration-color: #008080; font-weight: bold\">1437</span>, <span style=\"color: #008080; text-decoration-color: #008080; font-weight: bold\">1437</span><span style=\"font-weight: bold\">)</span>,\n",
       " <span style=\"color: #008080; text-decoration-color: #008080; font-weight: bold\">25</span>: <span style=\"font-weight: bold\">(</span><span style=\"color: #008080; text-decoration-color: #008080; font-weight: bold\">738</span>, <span style=\"color: #008080; text-decoration-color: #008080; font-weight: bold\">738</span><span style=\"font-weight: bold\">)}</span>\n",
       "</pre>\n"
      ],
      "text/plain": [
       "\u001b[1m{\u001b[0m\u001b[1;36m0\u001b[0m: \u001b[1m(\u001b[0m\u001b[1;36m10128\u001b[0m, \u001b[1;36m10128\u001b[0m\u001b[1m)\u001b[0m,\n",
       " \u001b[1;36m1\u001b[0m: \u001b[1m(\u001b[0m\u001b[1;36m10715\u001b[0m, \u001b[1;36m10715\u001b[0m\u001b[1m)\u001b[0m,\n",
       " \u001b[1;36m2\u001b[0m: \u001b[1m(\u001b[0m\u001b[1;36m14986\u001b[0m, \u001b[1;36m14986\u001b[0m\u001b[1m)\u001b[0m,\n",
       " \u001b[1;36m3\u001b[0m: \u001b[1m(\u001b[0m\u001b[1;36m8143\u001b[0m, \u001b[1;36m8143\u001b[0m\u001b[1m)\u001b[0m,\n",
       " \u001b[1;36m4\u001b[0m: \u001b[1m(\u001b[0m\u001b[1;36m11584\u001b[0m, \u001b[1;36m11584\u001b[0m\u001b[1m)\u001b[0m,\n",
       " \u001b[1;36m5\u001b[0m: \u001b[1m(\u001b[0m\u001b[1;36m14981\u001b[0m, \u001b[1;36m14981\u001b[0m\u001b[1m)\u001b[0m,\n",
       " \u001b[1;36m6\u001b[0m: \u001b[1m(\u001b[0m\u001b[1;36m12868\u001b[0m, \u001b[1;36m12868\u001b[0m\u001b[1m)\u001b[0m,\n",
       " \u001b[1;36m7\u001b[0m: \u001b[1m(\u001b[0m\u001b[1;36m14932\u001b[0m, \u001b[1;36m14932\u001b[0m\u001b[1m)\u001b[0m,\n",
       " \u001b[1;36m8\u001b[0m: \u001b[1m(\u001b[0m\u001b[1;36m4872\u001b[0m, \u001b[1;36m4872\u001b[0m\u001b[1m)\u001b[0m,\n",
       " \u001b[1;36m9\u001b[0m: \u001b[1m(\u001b[0m\u001b[1;36m11763\u001b[0m, \u001b[1;36m11763\u001b[0m\u001b[1m)\u001b[0m,\n",
       " \u001b[1;36m10\u001b[0m: \u001b[1m(\u001b[0m\u001b[1;36m14446\u001b[0m, \u001b[1;36m14446\u001b[0m\u001b[1m)\u001b[0m,\n",
       " \u001b[1;36m11\u001b[0m: \u001b[1m(\u001b[0m\u001b[1;36m14082\u001b[0m, \u001b[1;36m14082\u001b[0m\u001b[1m)\u001b[0m,\n",
       " \u001b[1;36m12\u001b[0m: \u001b[1m(\u001b[0m\u001b[1;36m11859\u001b[0m, \u001b[1;36m11859\u001b[0m\u001b[1m)\u001b[0m,\n",
       " \u001b[1;36m13\u001b[0m: \u001b[1m(\u001b[0m\u001b[1;36m10927\u001b[0m, \u001b[1;36m10927\u001b[0m\u001b[1m)\u001b[0m,\n",
       " \u001b[1;36m14\u001b[0m: \u001b[1m(\u001b[0m\u001b[1;36m1270\u001b[0m, \u001b[1;36m1270\u001b[0m\u001b[1m)\u001b[0m,\n",
       " \u001b[1;36m15\u001b[0m: \u001b[1m(\u001b[0m\u001b[1;36m498\u001b[0m, \u001b[1;36m498\u001b[0m\u001b[1m)\u001b[0m,\n",
       " \u001b[1;36m16\u001b[0m: \u001b[1m(\u001b[0m\u001b[1;36m6986\u001b[0m, \u001b[1;36m6986\u001b[0m\u001b[1m)\u001b[0m,\n",
       " \u001b[1;36m17\u001b[0m: \u001b[1m(\u001b[0m\u001b[1;36m6865\u001b[0m, \u001b[1;36m6865\u001b[0m\u001b[1m)\u001b[0m,\n",
       " \u001b[1;36m18\u001b[0m: \u001b[1m(\u001b[0m\u001b[1;36m4848\u001b[0m, \u001b[1;36m4848\u001b[0m\u001b[1m)\u001b[0m,\n",
       " \u001b[1;36m19\u001b[0m: \u001b[1m(\u001b[0m\u001b[1;36m4251\u001b[0m, \u001b[1;36m4251\u001b[0m\u001b[1m)\u001b[0m,\n",
       " \u001b[1;36m20\u001b[0m: \u001b[1m(\u001b[0m\u001b[1;36m873\u001b[0m, \u001b[1;36m873\u001b[0m\u001b[1m)\u001b[0m,\n",
       " \u001b[1;36m21\u001b[0m: \u001b[1m(\u001b[0m\u001b[1;36m1128\u001b[0m, \u001b[1;36m1128\u001b[0m\u001b[1m)\u001b[0m,\n",
       " \u001b[1;36m22\u001b[0m: \u001b[1m(\u001b[0m\u001b[1;36m602\u001b[0m, \u001b[1;36m602\u001b[0m\u001b[1m)\u001b[0m,\n",
       " \u001b[1;36m23\u001b[0m: \u001b[1m(\u001b[0m\u001b[1;36m1837\u001b[0m, \u001b[1;36m1837\u001b[0m\u001b[1m)\u001b[0m,\n",
       " \u001b[1;36m24\u001b[0m: \u001b[1m(\u001b[0m\u001b[1;36m1437\u001b[0m, \u001b[1;36m1437\u001b[0m\u001b[1m)\u001b[0m,\n",
       " \u001b[1;36m25\u001b[0m: \u001b[1m(\u001b[0m\u001b[1;36m738\u001b[0m, \u001b[1;36m738\u001b[0m\u001b[1m)\u001b[0m\u001b[1m}\u001b[0m\n"
      ]
     },
     "metadata": {},
     "output_type": "display_data"
    },
    {
     "name": "stdout",
     "output_type": "stream",
     "text": [
      "f\"Got reid embedding for {sid}\" : Got reid embedding for 0\n",
      "f\"Got reid embedding for {sid}\" : Got reid embedding for 1\n",
      "f\"Got reid embedding for {sid}\" : Got reid embedding for 2\n",
      "f\"Got reid embedding for {sid}\" : Got reid embedding for 3\n",
      "f\"Got reid embedding for {sid}\" : Got reid embedding for 4\n",
      "f\"Got reid embedding for {sid}\" : Got reid embedding for 5\n",
      "f\"Got reid embedding for {sid}\" : Got reid embedding for 6\n",
      "f\"Got reid embedding for {sid}\" : Got reid embedding for 7\n",
      "f\"Got reid embedding for {sid}\" : Got reid embedding for 8\n",
      "f\"Got reid embedding for {sid}\" : Got reid embedding for 9\n",
      "f\"Got reid embedding for {sid}\" : Got reid embedding for 10\n",
      "f\"Got reid embedding for {sid}\" : Got reid embedding for 11\n",
      "f\"Got reid embedding for {sid}\" : Got reid embedding for 12\n",
      "f\"Got reid embedding for {sid}\" : Got reid embedding for 13\n",
      "f\"Got reid embedding for {sid}\" : Got reid embedding for 14\n",
      "f\"Got reid embedding for {sid}\" : Got reid embedding for 15\n",
      "f\"Got reid embedding for {sid}\" : Got reid embedding for 16\n",
      "f\"Got reid embedding for {sid}\" : Got reid embedding for 17\n",
      "f\"Got reid embedding for {sid}\" : Got reid embedding for 18\n",
      "f\"Got reid embedding for {sid}\" : Got reid embedding for 19\n",
      "f\"Got reid embedding for {sid}\" : Got reid embedding for 20\n",
      "f\"Got reid embedding for {sid}\" : Got reid embedding for 21\n",
      "f\"Got reid embedding for {sid}\" : Got reid embedding for 22\n",
      "f\"Got reid embedding for {sid}\" : Got reid embedding for 23\n",
      "f\"Got reid embedding for {sid}\" : Got reid embedding for 24\n",
      "f\"Got reid embedding for {sid}\" : Got reid embedding for 25\n"
     ]
    },
    {
     "data": {
      "text/markdown": [
       "### Got cross session input info for session: 2-17214C, session:5-classinsight-cmu_17214C_ph_225b_201905011130-front"
      ],
      "text/plain": [
       "<IPython.core.display.Markdown object>"
      ]
     },
     "metadata": {},
     "output_type": "display_data"
    },
    {
     "name": "stdout",
     "output_type": "stream",
     "text": [
      "Session classinsight-cmu_17214B_ph_a21_201901301030-front not in session filter list, skipping...\n"
     ]
    },
    {
     "data": {
      "text/markdown": [
       "## Building cross session input info for session: 3-17214B, session:1-classinsight-cmu_17214B_ph_a21_201902271030-front"
      ],
      "text/plain": [
       "<IPython.core.display.Markdown object>"
      ]
     },
     "metadata": {},
     "output_type": "display_data"
    },
    {
     "name": "stdout",
     "output_type": "stream",
     "text": [
      "12 16\n",
      "Dict: eligible_id_map_dict\n",
      "Key: Value\n"
     ]
    },
    {
     "data": {
      "text/html": [
       "<pre style=\"white-space:pre;overflow-x:auto;line-height:normal;font-family:Menlo,'DejaVu Sans Mono',consolas,'Courier New',monospace\"><span style=\"font-weight: bold\">{</span><span style=\"color: #008080; text-decoration-color: #008080; font-weight: bold\">16</span>: <span style=\"color: #008080; text-decoration-color: #008080; font-weight: bold\">12</span><span style=\"font-weight: bold\">}</span>\n",
       "</pre>\n"
      ],
      "text/plain": [
       "\u001b[1m{\u001b[0m\u001b[1;36m16\u001b[0m: \u001b[1;36m12\u001b[0m\u001b[1m}\u001b[0m\n"
      ]
     },
     "metadata": {},
     "output_type": "display_data"
    },
    {
     "name": "stdout",
     "output_type": "stream",
     "text": [
      "\"Corrected\", eligible_id_map_dict : Corrected {16: 12}\n",
      "\"replacing ids in old to new id maps\" : replacing ids in old to new id maps\n",
      "replacing 805:16 -->12\n",
      "replacing 894:16 -->12\n",
      "replacing 946:16 -->12\n",
      "Dict: {xr:(emb_info[xr].shape[0], bbox_info[xr].shape[0]) for xr in emb_info}\n",
      "Key: Value\n"
     ]
    },
    {
     "data": {
      "text/html": [
       "<pre style=\"white-space:pre;overflow-x:auto;line-height:normal;font-family:Menlo,'DejaVu Sans Mono',consolas,'Courier New',monospace\"><span style=\"font-weight: bold\">{</span><span style=\"color: #008080; text-decoration-color: #008080; font-weight: bold\">0</span>: <span style=\"font-weight: bold\">(</span><span style=\"color: #008080; text-decoration-color: #008080; font-weight: bold\">14987</span>, <span style=\"color: #008080; text-decoration-color: #008080; font-weight: bold\">14987</span><span style=\"font-weight: bold\">)</span>,\n",
       " <span style=\"color: #008080; text-decoration-color: #008080; font-weight: bold\">1</span>: <span style=\"font-weight: bold\">(</span><span style=\"color: #008080; text-decoration-color: #008080; font-weight: bold\">14974</span>, <span style=\"color: #008080; text-decoration-color: #008080; font-weight: bold\">14974</span><span style=\"font-weight: bold\">)</span>,\n",
       " <span style=\"color: #008080; text-decoration-color: #008080; font-weight: bold\">2</span>: <span style=\"font-weight: bold\">(</span><span style=\"color: #008080; text-decoration-color: #008080; font-weight: bold\">14270</span>, <span style=\"color: #008080; text-decoration-color: #008080; font-weight: bold\">14270</span><span style=\"font-weight: bold\">)</span>,\n",
       " <span style=\"color: #008080; text-decoration-color: #008080; font-weight: bold\">3</span>: <span style=\"font-weight: bold\">(</span><span style=\"color: #008080; text-decoration-color: #008080; font-weight: bold\">14983</span>, <span style=\"color: #008080; text-decoration-color: #008080; font-weight: bold\">14983</span><span style=\"font-weight: bold\">)</span>,\n",
       " <span style=\"color: #008080; text-decoration-color: #008080; font-weight: bold\">4</span>: <span style=\"font-weight: bold\">(</span><span style=\"color: #008080; text-decoration-color: #008080; font-weight: bold\">3115</span>, <span style=\"color: #008080; text-decoration-color: #008080; font-weight: bold\">3197</span><span style=\"font-weight: bold\">)</span>,\n",
       " <span style=\"color: #008080; text-decoration-color: #008080; font-weight: bold\">5</span>: <span style=\"font-weight: bold\">(</span><span style=\"color: #008080; text-decoration-color: #008080; font-weight: bold\">14431</span>, <span style=\"color: #008080; text-decoration-color: #008080; font-weight: bold\">14437</span><span style=\"font-weight: bold\">)</span>,\n",
       " <span style=\"color: #008080; text-decoration-color: #008080; font-weight: bold\">6</span>: <span style=\"font-weight: bold\">(</span><span style=\"color: #008080; text-decoration-color: #008080; font-weight: bold\">13605</span>, <span style=\"color: #008080; text-decoration-color: #008080; font-weight: bold\">13609</span><span style=\"font-weight: bold\">)</span>,\n",
       " <span style=\"color: #008080; text-decoration-color: #008080; font-weight: bold\">7</span>: <span style=\"font-weight: bold\">(</span><span style=\"color: #008080; text-decoration-color: #008080; font-weight: bold\">13113</span>, <span style=\"color: #008080; text-decoration-color: #008080; font-weight: bold\">13120</span><span style=\"font-weight: bold\">)</span>,\n",
       " <span style=\"color: #008080; text-decoration-color: #008080; font-weight: bold\">8</span>: <span style=\"font-weight: bold\">(</span><span style=\"color: #008080; text-decoration-color: #008080; font-weight: bold\">13065</span>, <span style=\"color: #008080; text-decoration-color: #008080; font-weight: bold\">13068</span><span style=\"font-weight: bold\">)</span>,\n",
       " <span style=\"color: #008080; text-decoration-color: #008080; font-weight: bold\">9</span>: <span style=\"font-weight: bold\">(</span><span style=\"color: #008080; text-decoration-color: #008080; font-weight: bold\">12982</span>, <span style=\"color: #008080; text-decoration-color: #008080; font-weight: bold\">12986</span><span style=\"font-weight: bold\">)</span>,\n",
       " <span style=\"color: #008080; text-decoration-color: #008080; font-weight: bold\">10</span>: <span style=\"font-weight: bold\">(</span><span style=\"color: #008080; text-decoration-color: #008080; font-weight: bold\">12974</span>, <span style=\"color: #008080; text-decoration-color: #008080; font-weight: bold\">12980</span><span style=\"font-weight: bold\">)</span>,\n",
       " <span style=\"color: #008080; text-decoration-color: #008080; font-weight: bold\">11</span>: <span style=\"font-weight: bold\">(</span><span style=\"color: #008080; text-decoration-color: #008080; font-weight: bold\">12956</span>, <span style=\"color: #008080; text-decoration-color: #008080; font-weight: bold\">12956</span><span style=\"font-weight: bold\">)</span>,\n",
       " <span style=\"color: #008080; text-decoration-color: #008080; font-weight: bold\">12</span>: <span style=\"font-weight: bold\">(</span><span style=\"color: #008080; text-decoration-color: #008080; font-weight: bold\">10236</span>, <span style=\"color: #008080; text-decoration-color: #008080; font-weight: bold\">10236</span><span style=\"font-weight: bold\">)</span>,\n",
       " <span style=\"color: #008080; text-decoration-color: #008080; font-weight: bold\">13</span>: <span style=\"font-weight: bold\">(</span><span style=\"color: #008080; text-decoration-color: #008080; font-weight: bold\">372</span>, <span style=\"color: #008080; text-decoration-color: #008080; font-weight: bold\">372</span><span style=\"font-weight: bold\">)</span>,\n",
       " <span style=\"color: #008080; text-decoration-color: #008080; font-weight: bold\">14</span>: <span style=\"font-weight: bold\">(</span><span style=\"color: #008080; text-decoration-color: #008080; font-weight: bold\">221</span>, <span style=\"color: #008080; text-decoration-color: #008080; font-weight: bold\">307</span><span style=\"font-weight: bold\">)</span>,\n",
       " <span style=\"color: #008080; text-decoration-color: #008080; font-weight: bold\">15</span>: <span style=\"font-weight: bold\">(</span><span style=\"color: #008080; text-decoration-color: #008080; font-weight: bold\">7005</span>, <span style=\"color: #008080; text-decoration-color: #008080; font-weight: bold\">7005</span><span style=\"font-weight: bold\">)}</span>\n",
       "</pre>\n"
      ],
      "text/plain": [
       "\u001b[1m{\u001b[0m\u001b[1;36m0\u001b[0m: \u001b[1m(\u001b[0m\u001b[1;36m14987\u001b[0m, \u001b[1;36m14987\u001b[0m\u001b[1m)\u001b[0m,\n",
       " \u001b[1;36m1\u001b[0m: \u001b[1m(\u001b[0m\u001b[1;36m14974\u001b[0m, \u001b[1;36m14974\u001b[0m\u001b[1m)\u001b[0m,\n",
       " \u001b[1;36m2\u001b[0m: \u001b[1m(\u001b[0m\u001b[1;36m14270\u001b[0m, \u001b[1;36m14270\u001b[0m\u001b[1m)\u001b[0m,\n",
       " \u001b[1;36m3\u001b[0m: \u001b[1m(\u001b[0m\u001b[1;36m14983\u001b[0m, \u001b[1;36m14983\u001b[0m\u001b[1m)\u001b[0m,\n",
       " \u001b[1;36m4\u001b[0m: \u001b[1m(\u001b[0m\u001b[1;36m3115\u001b[0m, \u001b[1;36m3197\u001b[0m\u001b[1m)\u001b[0m,\n",
       " \u001b[1;36m5\u001b[0m: \u001b[1m(\u001b[0m\u001b[1;36m14431\u001b[0m, \u001b[1;36m14437\u001b[0m\u001b[1m)\u001b[0m,\n",
       " \u001b[1;36m6\u001b[0m: \u001b[1m(\u001b[0m\u001b[1;36m13605\u001b[0m, \u001b[1;36m13609\u001b[0m\u001b[1m)\u001b[0m,\n",
       " \u001b[1;36m7\u001b[0m: \u001b[1m(\u001b[0m\u001b[1;36m13113\u001b[0m, \u001b[1;36m13120\u001b[0m\u001b[1m)\u001b[0m,\n",
       " \u001b[1;36m8\u001b[0m: \u001b[1m(\u001b[0m\u001b[1;36m13065\u001b[0m, \u001b[1;36m13068\u001b[0m\u001b[1m)\u001b[0m,\n",
       " \u001b[1;36m9\u001b[0m: \u001b[1m(\u001b[0m\u001b[1;36m12982\u001b[0m, \u001b[1;36m12986\u001b[0m\u001b[1m)\u001b[0m,\n",
       " \u001b[1;36m10\u001b[0m: \u001b[1m(\u001b[0m\u001b[1;36m12974\u001b[0m, \u001b[1;36m12980\u001b[0m\u001b[1m)\u001b[0m,\n",
       " \u001b[1;36m11\u001b[0m: \u001b[1m(\u001b[0m\u001b[1;36m12956\u001b[0m, \u001b[1;36m12956\u001b[0m\u001b[1m)\u001b[0m,\n",
       " \u001b[1;36m12\u001b[0m: \u001b[1m(\u001b[0m\u001b[1;36m10236\u001b[0m, \u001b[1;36m10236\u001b[0m\u001b[1m)\u001b[0m,\n",
       " \u001b[1;36m13\u001b[0m: \u001b[1m(\u001b[0m\u001b[1;36m372\u001b[0m, \u001b[1;36m372\u001b[0m\u001b[1m)\u001b[0m,\n",
       " \u001b[1;36m14\u001b[0m: \u001b[1m(\u001b[0m\u001b[1;36m221\u001b[0m, \u001b[1;36m307\u001b[0m\u001b[1m)\u001b[0m,\n",
       " \u001b[1;36m15\u001b[0m: \u001b[1m(\u001b[0m\u001b[1;36m7005\u001b[0m, \u001b[1;36m7005\u001b[0m\u001b[1m)\u001b[0m\u001b[1m}\u001b[0m\n"
      ]
     },
     "metadata": {},
     "output_type": "display_data"
    },
    {
     "name": "stdout",
     "output_type": "stream",
     "text": [
      "f\"Got reid embedding for {sid}\" : Got reid embedding for 0\n",
      "f\"Got reid embedding for {sid}\" : Got reid embedding for 1\n",
      "f\"Got reid embedding for {sid}\" : Got reid embedding for 2\n",
      "f\"Got reid embedding for {sid}\" : Got reid embedding for 3\n",
      "f\"Got reid embedding for {sid}\" : Got reid embedding for 4\n",
      "f\"Got reid embedding for {sid}\" : Got reid embedding for 5\n",
      "f\"Got reid embedding for {sid}\" : Got reid embedding for 6\n",
      "f\"Got reid embedding for {sid}\" : Got reid embedding for 7\n",
      "f\"Got reid embedding for {sid}\" : Got reid embedding for 8\n",
      "f\"Got reid embedding for {sid}\" : Got reid embedding for 9\n",
      "f\"Got reid embedding for {sid}\" : Got reid embedding for 10\n",
      "f\"Got reid embedding for {sid}\" : Got reid embedding for 11\n",
      "f\"Got reid embedding for {sid}\" : Got reid embedding for 12\n",
      "f\"Got reid embedding for {sid}\" : Got reid embedding for 13\n",
      "f\"Got reid embedding for {sid}\" : Got reid embedding for 14\n",
      "f\"Got reid embedding for {sid}\" : Got reid embedding for 15\n"
     ]
    },
    {
     "data": {
      "text/markdown": [
       "### Got cross session input info for session: 3-17214B, session:1-classinsight-cmu_17214B_ph_a21_201902271030-front"
      ],
      "text/plain": [
       "<IPython.core.display.Markdown object>"
      ]
     },
     "metadata": {},
     "output_type": "display_data"
    },
    {
     "data": {
      "text/markdown": [
       "## Building cross session input info for session: 3-17214B, session:2-classinsight-cmu_17214B_ph_a21_201903061030-front"
      ],
      "text/plain": [
       "<IPython.core.display.Markdown object>"
      ]
     },
     "metadata": {},
     "output_type": "display_data"
    },
    {
     "name": "stdout",
     "output_type": "stream",
     "text": [
      "9 24\n",
      "Dict: eligible_id_map_dict\n",
      "Key: Value\n"
     ]
    },
    {
     "data": {
      "text/html": [
       "<pre style=\"white-space:pre;overflow-x:auto;line-height:normal;font-family:Menlo,'DejaVu Sans Mono',consolas,'Courier New',monospace\"><span style=\"font-weight: bold\">{</span><span style=\"color: #008080; text-decoration-color: #008080; font-weight: bold\">24</span>: <span style=\"color: #008080; text-decoration-color: #008080; font-weight: bold\">9</span><span style=\"font-weight: bold\">}</span>\n",
       "</pre>\n"
      ],
      "text/plain": [
       "\u001b[1m{\u001b[0m\u001b[1;36m24\u001b[0m: \u001b[1;36m9\u001b[0m\u001b[1m}\u001b[0m\n"
      ]
     },
     "metadata": {},
     "output_type": "display_data"
    },
    {
     "name": "stdout",
     "output_type": "stream",
     "text": [
      "\"Corrected\", eligible_id_map_dict : Corrected {24: 9}\n",
      "\"replacing ids in old to new id maps\" : replacing ids in old to new id maps\n",
      "replacing 1464:24 -->9\n",
      "Dict: {xr:(emb_info[xr].shape[0], bbox_info[xr].shape[0]) for xr in emb_info}\n",
      "Key: Value\n"
     ]
    },
    {
     "data": {
      "text/html": [
       "<pre style=\"white-space:pre;overflow-x:auto;line-height:normal;font-family:Menlo,'DejaVu Sans Mono',consolas,'Courier New',monospace\"><span style=\"font-weight: bold\">{</span><span style=\"color: #008080; text-decoration-color: #008080; font-weight: bold\">0</span>: <span style=\"font-weight: bold\">(</span><span style=\"color: #008080; text-decoration-color: #008080; font-weight: bold\">14253</span>, <span style=\"color: #008080; text-decoration-color: #008080; font-weight: bold\">14253</span><span style=\"font-weight: bold\">)</span>,\n",
       " <span style=\"color: #008080; text-decoration-color: #008080; font-weight: bold\">1</span>: <span style=\"font-weight: bold\">(</span><span style=\"color: #008080; text-decoration-color: #008080; font-weight: bold\">14264</span>, <span style=\"color: #008080; text-decoration-color: #008080; font-weight: bold\">14264</span><span style=\"font-weight: bold\">)</span>,\n",
       " <span style=\"color: #008080; text-decoration-color: #008080; font-weight: bold\">2</span>: <span style=\"font-weight: bold\">(</span><span style=\"color: #008080; text-decoration-color: #008080; font-weight: bold\">14223</span>, <span style=\"color: #008080; text-decoration-color: #008080; font-weight: bold\">14223</span><span style=\"font-weight: bold\">)</span>,\n",
       " <span style=\"color: #008080; text-decoration-color: #008080; font-weight: bold\">3</span>: <span style=\"font-weight: bold\">(</span><span style=\"color: #008080; text-decoration-color: #008080; font-weight: bold\">6269</span>, <span style=\"color: #008080; text-decoration-color: #008080; font-weight: bold\">6269</span><span style=\"font-weight: bold\">)</span>,\n",
       " <span style=\"color: #008080; text-decoration-color: #008080; font-weight: bold\">4</span>: <span style=\"font-weight: bold\">(</span><span style=\"color: #008080; text-decoration-color: #008080; font-weight: bold\">12305</span>, <span style=\"color: #008080; text-decoration-color: #008080; font-weight: bold\">12305</span><span style=\"font-weight: bold\">)</span>,\n",
       " <span style=\"color: #008080; text-decoration-color: #008080; font-weight: bold\">5</span>: <span style=\"font-weight: bold\">(</span><span style=\"color: #008080; text-decoration-color: #008080; font-weight: bold\">13281</span>, <span style=\"color: #008080; text-decoration-color: #008080; font-weight: bold\">13282</span><span style=\"font-weight: bold\">)</span>,\n",
       " <span style=\"color: #008080; text-decoration-color: #008080; font-weight: bold\">6</span>: <span style=\"font-weight: bold\">(</span><span style=\"color: #008080; text-decoration-color: #008080; font-weight: bold\">479</span>, <span style=\"color: #008080; text-decoration-color: #008080; font-weight: bold\">479</span><span style=\"font-weight: bold\">)</span>,\n",
       " <span style=\"color: #008080; text-decoration-color: #008080; font-weight: bold\">7</span>: <span style=\"font-weight: bold\">(</span><span style=\"color: #008080; text-decoration-color: #008080; font-weight: bold\">314</span>, <span style=\"color: #008080; text-decoration-color: #008080; font-weight: bold\">314</span><span style=\"font-weight: bold\">)</span>,\n",
       " <span style=\"color: #008080; text-decoration-color: #008080; font-weight: bold\">8</span>: <span style=\"font-weight: bold\">(</span><span style=\"color: #008080; text-decoration-color: #008080; font-weight: bold\">320</span>, <span style=\"color: #008080; text-decoration-color: #008080; font-weight: bold\">320</span><span style=\"font-weight: bold\">)</span>,\n",
       " <span style=\"color: #008080; text-decoration-color: #008080; font-weight: bold\">9</span>: <span style=\"font-weight: bold\">(</span><span style=\"color: #008080; text-decoration-color: #008080; font-weight: bold\">11770</span>, <span style=\"color: #008080; text-decoration-color: #008080; font-weight: bold\">11770</span><span style=\"font-weight: bold\">)</span>,\n",
       " <span style=\"color: #008080; text-decoration-color: #008080; font-weight: bold\">10</span>: <span style=\"font-weight: bold\">(</span><span style=\"color: #008080; text-decoration-color: #008080; font-weight: bold\">11620</span>, <span style=\"color: #008080; text-decoration-color: #008080; font-weight: bold\">11620</span><span style=\"font-weight: bold\">)</span>,\n",
       " <span style=\"color: #008080; text-decoration-color: #008080; font-weight: bold\">11</span>: <span style=\"font-weight: bold\">(</span><span style=\"color: #008080; text-decoration-color: #008080; font-weight: bold\">289</span>, <span style=\"color: #008080; text-decoration-color: #008080; font-weight: bold\">289</span><span style=\"font-weight: bold\">)</span>,\n",
       " <span style=\"color: #008080; text-decoration-color: #008080; font-weight: bold\">12</span>: <span style=\"font-weight: bold\">(</span><span style=\"color: #008080; text-decoration-color: #008080; font-weight: bold\">324</span>, <span style=\"color: #008080; text-decoration-color: #008080; font-weight: bold\">324</span><span style=\"font-weight: bold\">)</span>,\n",
       " <span style=\"color: #008080; text-decoration-color: #008080; font-weight: bold\">13</span>: <span style=\"font-weight: bold\">(</span><span style=\"color: #008080; text-decoration-color: #008080; font-weight: bold\">692</span>, <span style=\"color: #008080; text-decoration-color: #008080; font-weight: bold\">692</span><span style=\"font-weight: bold\">)</span>,\n",
       " <span style=\"color: #008080; text-decoration-color: #008080; font-weight: bold\">14</span>: <span style=\"font-weight: bold\">(</span><span style=\"color: #008080; text-decoration-color: #008080; font-weight: bold\">536</span>, <span style=\"color: #008080; text-decoration-color: #008080; font-weight: bold\">536</span><span style=\"font-weight: bold\">)</span>,\n",
       " <span style=\"color: #008080; text-decoration-color: #008080; font-weight: bold\">15</span>: <span style=\"font-weight: bold\">(</span><span style=\"color: #008080; text-decoration-color: #008080; font-weight: bold\">959</span>, <span style=\"color: #008080; text-decoration-color: #008080; font-weight: bold\">959</span><span style=\"font-weight: bold\">)</span>,\n",
       " <span style=\"color: #008080; text-decoration-color: #008080; font-weight: bold\">16</span>: <span style=\"font-weight: bold\">(</span><span style=\"color: #008080; text-decoration-color: #008080; font-weight: bold\">367</span>, <span style=\"color: #008080; text-decoration-color: #008080; font-weight: bold\">367</span><span style=\"font-weight: bold\">)</span>,\n",
       " <span style=\"color: #008080; text-decoration-color: #008080; font-weight: bold\">17</span>: <span style=\"font-weight: bold\">(</span><span style=\"color: #008080; text-decoration-color: #008080; font-weight: bold\">1564</span>, <span style=\"color: #008080; text-decoration-color: #008080; font-weight: bold\">1564</span><span style=\"font-weight: bold\">)</span>,\n",
       " <span style=\"color: #008080; text-decoration-color: #008080; font-weight: bold\">18</span>: <span style=\"font-weight: bold\">(</span><span style=\"color: #008080; text-decoration-color: #008080; font-weight: bold\">3287</span>, <span style=\"color: #008080; text-decoration-color: #008080; font-weight: bold\">3287</span><span style=\"font-weight: bold\">)</span>,\n",
       " <span style=\"color: #008080; text-decoration-color: #008080; font-weight: bold\">19</span>: <span style=\"font-weight: bold\">(</span><span style=\"color: #008080; text-decoration-color: #008080; font-weight: bold\">1414</span>, <span style=\"color: #008080; text-decoration-color: #008080; font-weight: bold\">1414</span><span style=\"font-weight: bold\">)</span>,\n",
       " <span style=\"color: #008080; text-decoration-color: #008080; font-weight: bold\">20</span>: <span style=\"font-weight: bold\">(</span><span style=\"color: #008080; text-decoration-color: #008080; font-weight: bold\">2450</span>, <span style=\"color: #008080; text-decoration-color: #008080; font-weight: bold\">2450</span><span style=\"font-weight: bold\">)</span>,\n",
       " <span style=\"color: #008080; text-decoration-color: #008080; font-weight: bold\">21</span>: <span style=\"font-weight: bold\">(</span><span style=\"color: #008080; text-decoration-color: #008080; font-weight: bold\">321</span>, <span style=\"color: #008080; text-decoration-color: #008080; font-weight: bold\">321</span><span style=\"font-weight: bold\">)</span>,\n",
       " <span style=\"color: #008080; text-decoration-color: #008080; font-weight: bold\">22</span>: <span style=\"font-weight: bold\">(</span><span style=\"color: #008080; text-decoration-color: #008080; font-weight: bold\">3490</span>, <span style=\"color: #008080; text-decoration-color: #008080; font-weight: bold\">3490</span><span style=\"font-weight: bold\">)</span>,\n",
       " <span style=\"color: #008080; text-decoration-color: #008080; font-weight: bold\">23</span>: <span style=\"font-weight: bold\">(</span><span style=\"color: #008080; text-decoration-color: #008080; font-weight: bold\">1336</span>, <span style=\"color: #008080; text-decoration-color: #008080; font-weight: bold\">1336</span><span style=\"font-weight: bold\">)</span>,\n",
       " <span style=\"color: #008080; text-decoration-color: #008080; font-weight: bold\">25</span>: <span style=\"font-weight: bold\">(</span><span style=\"color: #008080; text-decoration-color: #008080; font-weight: bold\">1906</span>, <span style=\"color: #008080; text-decoration-color: #008080; font-weight: bold\">1906</span><span style=\"font-weight: bold\">)</span>,\n",
       " <span style=\"color: #008080; text-decoration-color: #008080; font-weight: bold\">26</span>: <span style=\"font-weight: bold\">(</span><span style=\"color: #008080; text-decoration-color: #008080; font-weight: bold\">825</span>, <span style=\"color: #008080; text-decoration-color: #008080; font-weight: bold\">825</span><span style=\"font-weight: bold\">)</span>,\n",
       " <span style=\"color: #008080; text-decoration-color: #008080; font-weight: bold\">27</span>: <span style=\"font-weight: bold\">(</span><span style=\"color: #008080; text-decoration-color: #008080; font-weight: bold\">665</span>, <span style=\"color: #008080; text-decoration-color: #008080; font-weight: bold\">665</span><span style=\"font-weight: bold\">)</span>,\n",
       " <span style=\"color: #008080; text-decoration-color: #008080; font-weight: bold\">28</span>: <span style=\"font-weight: bold\">(</span><span style=\"color: #008080; text-decoration-color: #008080; font-weight: bold\">569</span>, <span style=\"color: #008080; text-decoration-color: #008080; font-weight: bold\">569</span><span style=\"font-weight: bold\">)}</span>\n",
       "</pre>\n"
      ],
      "text/plain": [
       "\u001b[1m{\u001b[0m\u001b[1;36m0\u001b[0m: \u001b[1m(\u001b[0m\u001b[1;36m14253\u001b[0m, \u001b[1;36m14253\u001b[0m\u001b[1m)\u001b[0m,\n",
       " \u001b[1;36m1\u001b[0m: \u001b[1m(\u001b[0m\u001b[1;36m14264\u001b[0m, \u001b[1;36m14264\u001b[0m\u001b[1m)\u001b[0m,\n",
       " \u001b[1;36m2\u001b[0m: \u001b[1m(\u001b[0m\u001b[1;36m14223\u001b[0m, \u001b[1;36m14223\u001b[0m\u001b[1m)\u001b[0m,\n",
       " \u001b[1;36m3\u001b[0m: \u001b[1m(\u001b[0m\u001b[1;36m6269\u001b[0m, \u001b[1;36m6269\u001b[0m\u001b[1m)\u001b[0m,\n",
       " \u001b[1;36m4\u001b[0m: \u001b[1m(\u001b[0m\u001b[1;36m12305\u001b[0m, \u001b[1;36m12305\u001b[0m\u001b[1m)\u001b[0m,\n",
       " \u001b[1;36m5\u001b[0m: \u001b[1m(\u001b[0m\u001b[1;36m13281\u001b[0m, \u001b[1;36m13282\u001b[0m\u001b[1m)\u001b[0m,\n",
       " \u001b[1;36m6\u001b[0m: \u001b[1m(\u001b[0m\u001b[1;36m479\u001b[0m, \u001b[1;36m479\u001b[0m\u001b[1m)\u001b[0m,\n",
       " \u001b[1;36m7\u001b[0m: \u001b[1m(\u001b[0m\u001b[1;36m314\u001b[0m, \u001b[1;36m314\u001b[0m\u001b[1m)\u001b[0m,\n",
       " \u001b[1;36m8\u001b[0m: \u001b[1m(\u001b[0m\u001b[1;36m320\u001b[0m, \u001b[1;36m320\u001b[0m\u001b[1m)\u001b[0m,\n",
       " \u001b[1;36m9\u001b[0m: \u001b[1m(\u001b[0m\u001b[1;36m11770\u001b[0m, \u001b[1;36m11770\u001b[0m\u001b[1m)\u001b[0m,\n",
       " \u001b[1;36m10\u001b[0m: \u001b[1m(\u001b[0m\u001b[1;36m11620\u001b[0m, \u001b[1;36m11620\u001b[0m\u001b[1m)\u001b[0m,\n",
       " \u001b[1;36m11\u001b[0m: \u001b[1m(\u001b[0m\u001b[1;36m289\u001b[0m, \u001b[1;36m289\u001b[0m\u001b[1m)\u001b[0m,\n",
       " \u001b[1;36m12\u001b[0m: \u001b[1m(\u001b[0m\u001b[1;36m324\u001b[0m, \u001b[1;36m324\u001b[0m\u001b[1m)\u001b[0m,\n",
       " \u001b[1;36m13\u001b[0m: \u001b[1m(\u001b[0m\u001b[1;36m692\u001b[0m, \u001b[1;36m692\u001b[0m\u001b[1m)\u001b[0m,\n",
       " \u001b[1;36m14\u001b[0m: \u001b[1m(\u001b[0m\u001b[1;36m536\u001b[0m, \u001b[1;36m536\u001b[0m\u001b[1m)\u001b[0m,\n",
       " \u001b[1;36m15\u001b[0m: \u001b[1m(\u001b[0m\u001b[1;36m959\u001b[0m, \u001b[1;36m959\u001b[0m\u001b[1m)\u001b[0m,\n",
       " \u001b[1;36m16\u001b[0m: \u001b[1m(\u001b[0m\u001b[1;36m367\u001b[0m, \u001b[1;36m367\u001b[0m\u001b[1m)\u001b[0m,\n",
       " \u001b[1;36m17\u001b[0m: \u001b[1m(\u001b[0m\u001b[1;36m1564\u001b[0m, \u001b[1;36m1564\u001b[0m\u001b[1m)\u001b[0m,\n",
       " \u001b[1;36m18\u001b[0m: \u001b[1m(\u001b[0m\u001b[1;36m3287\u001b[0m, \u001b[1;36m3287\u001b[0m\u001b[1m)\u001b[0m,\n",
       " \u001b[1;36m19\u001b[0m: \u001b[1m(\u001b[0m\u001b[1;36m1414\u001b[0m, \u001b[1;36m1414\u001b[0m\u001b[1m)\u001b[0m,\n",
       " \u001b[1;36m20\u001b[0m: \u001b[1m(\u001b[0m\u001b[1;36m2450\u001b[0m, \u001b[1;36m2450\u001b[0m\u001b[1m)\u001b[0m,\n",
       " \u001b[1;36m21\u001b[0m: \u001b[1m(\u001b[0m\u001b[1;36m321\u001b[0m, \u001b[1;36m321\u001b[0m\u001b[1m)\u001b[0m,\n",
       " \u001b[1;36m22\u001b[0m: \u001b[1m(\u001b[0m\u001b[1;36m3490\u001b[0m, \u001b[1;36m3490\u001b[0m\u001b[1m)\u001b[0m,\n",
       " \u001b[1;36m23\u001b[0m: \u001b[1m(\u001b[0m\u001b[1;36m1336\u001b[0m, \u001b[1;36m1336\u001b[0m\u001b[1m)\u001b[0m,\n",
       " \u001b[1;36m25\u001b[0m: \u001b[1m(\u001b[0m\u001b[1;36m1906\u001b[0m, \u001b[1;36m1906\u001b[0m\u001b[1m)\u001b[0m,\n",
       " \u001b[1;36m26\u001b[0m: \u001b[1m(\u001b[0m\u001b[1;36m825\u001b[0m, \u001b[1;36m825\u001b[0m\u001b[1m)\u001b[0m,\n",
       " \u001b[1;36m27\u001b[0m: \u001b[1m(\u001b[0m\u001b[1;36m665\u001b[0m, \u001b[1;36m665\u001b[0m\u001b[1m)\u001b[0m,\n",
       " \u001b[1;36m28\u001b[0m: \u001b[1m(\u001b[0m\u001b[1;36m569\u001b[0m, \u001b[1;36m569\u001b[0m\u001b[1m)\u001b[0m\u001b[1m}\u001b[0m\n"
      ]
     },
     "metadata": {},
     "output_type": "display_data"
    },
    {
     "name": "stdout",
     "output_type": "stream",
     "text": [
      "f\"Got reid embedding for {sid}\" : Got reid embedding for 0\n",
      "f\"Got reid embedding for {sid}\" : Got reid embedding for 1\n",
      "f\"Got reid embedding for {sid}\" : Got reid embedding for 2\n",
      "f\"Got reid embedding for {sid}\" : Got reid embedding for 3\n",
      "f\"Got reid embedding for {sid}\" : Got reid embedding for 4\n",
      "f\"Got reid embedding for {sid}\" : Got reid embedding for 5\n",
      "f\"Got reid embedding for {sid}\" : Got reid embedding for 6\n",
      "f\"Got reid embedding for {sid}\" : Got reid embedding for 7\n",
      "f\"Got reid embedding for {sid}\" : Got reid embedding for 8\n",
      "f\"Got reid embedding for {sid}\" : Got reid embedding for 9\n",
      "f\"Got reid embedding for {sid}\" : Got reid embedding for 10\n",
      "f\"Got reid embedding for {sid}\" : Got reid embedding for 11\n",
      "f\"Got reid embedding for {sid}\" : Got reid embedding for 12\n",
      "f\"Got reid embedding for {sid}\" : Got reid embedding for 13\n",
      "f\"Got reid embedding for {sid}\" : Got reid embedding for 14\n",
      "f\"Got reid embedding for {sid}\" : Got reid embedding for 15\n",
      "f\"Got reid embedding for {sid}\" : Got reid embedding for 16\n",
      "f\"Got reid embedding for {sid}\" : Got reid embedding for 17\n",
      "f\"Got reid embedding for {sid}\" : Got reid embedding for 18\n",
      "f\"Got reid embedding for {sid}\" : Got reid embedding for 19\n",
      "f\"Got reid embedding for {sid}\" : Got reid embedding for 20\n",
      "f\"Got reid embedding for {sid}\" : Got reid embedding for 21\n",
      "f\"Got reid embedding for {sid}\" : Got reid embedding for 22\n",
      "f\"Got reid embedding for {sid}\" : Got reid embedding for 23\n",
      "f\"Got reid embedding for {sid}\" : Got reid embedding for 25\n",
      "f\"Got reid embedding for {sid}\" : Got reid embedding for 26\n",
      "f\"Got reid embedding for {sid}\" : Got reid embedding for 27\n",
      "f\"Got reid embedding for {sid}\" : Got reid embedding for 28\n"
     ]
    },
    {
     "data": {
      "text/markdown": [
       "### Got cross session input info for session: 3-17214B, session:2-classinsight-cmu_17214B_ph_a21_201903061030-front"
      ],
      "text/plain": [
       "<IPython.core.display.Markdown object>"
      ]
     },
     "metadata": {},
     "output_type": "display_data"
    },
    {
     "name": "stdout",
     "output_type": "stream",
     "text": [
      "Session classinsight-cmu_17214B_ph_a21_201903131030-front not in session filter list, skipping...\n",
      "Session classinsight-cmu_17214B_ph_a21_201903201030-front not in session filter list, skipping...\n"
     ]
    },
    {
     "data": {
      "text/markdown": [
       "## Building cross session input info for session: 3-17214B, session:5-classinsight-cmu_17214B_ph_a21_201904031030-front"
      ],
      "text/plain": [
       "<IPython.core.display.Markdown object>"
      ]
     },
     "metadata": {},
     "output_type": "display_data"
    },
    {
     "name": "stdout",
     "output_type": "stream",
     "text": [
      "3 13\n",
      "6 13\n",
      "7 13\n",
      "Dict: eligible_id_map_dict\n",
      "Key: Value\n"
     ]
    },
    {
     "data": {
      "text/html": [
       "<pre style=\"white-space:pre;overflow-x:auto;line-height:normal;font-family:Menlo,'DejaVu Sans Mono',consolas,'Courier New',monospace\"><span style=\"font-weight: bold\">{</span><span style=\"color: #008080; text-decoration-color: #008080; font-weight: bold\">6</span>: <span style=\"color: #008080; text-decoration-color: #008080; font-weight: bold\">3</span>, <span style=\"color: #008080; text-decoration-color: #008080; font-weight: bold\">7</span>: <span style=\"color: #008080; text-decoration-color: #008080; font-weight: bold\">3</span>, <span style=\"color: #008080; text-decoration-color: #008080; font-weight: bold\">13</span>: <span style=\"color: #008080; text-decoration-color: #008080; font-weight: bold\">3</span><span style=\"font-weight: bold\">}</span>\n",
       "</pre>\n"
      ],
      "text/plain": [
       "\u001b[1m{\u001b[0m\u001b[1;36m6\u001b[0m: \u001b[1;36m3\u001b[0m, \u001b[1;36m7\u001b[0m: \u001b[1;36m3\u001b[0m, \u001b[1;36m13\u001b[0m: \u001b[1;36m3\u001b[0m\u001b[1m}\u001b[0m\n"
      ]
     },
     "metadata": {},
     "output_type": "display_data"
    },
    {
     "name": "stdout",
     "output_type": "stream",
     "text": [
      "\"Corrected\", eligible_id_map_dict : Corrected {13: 3, 6: 3, 7: 3}\n",
      "\"replacing ids in old to new id maps\" : replacing ids in old to new id maps\n",
      "replacing 173:6 -->3\n",
      "replacing 548:7 -->3\n",
      "replacing 1298:13 -->3\n",
      "replacing 449:6 -->3\n",
      "replacing 576:7 -->3\n",
      "replacing 614:7 -->3\n",
      "replacing 1400:13 -->3\n",
      "Dict: {xr:(emb_info[xr].shape[0], bbox_info[xr].shape[0]) for xr in emb_info}\n",
      "Key: Value\n"
     ]
    },
    {
     "data": {
      "text/html": [
       "<pre style=\"white-space:pre;overflow-x:auto;line-height:normal;font-family:Menlo,'DejaVu Sans Mono',consolas,'Courier New',monospace\"><span style=\"font-weight: bold\">{</span><span style=\"color: #008080; text-decoration-color: #008080; font-weight: bold\">0</span>: <span style=\"font-weight: bold\">(</span><span style=\"color: #008080; text-decoration-color: #008080; font-weight: bold\">13261</span>, <span style=\"color: #008080; text-decoration-color: #008080; font-weight: bold\">13261</span><span style=\"font-weight: bold\">)</span>,\n",
       " <span style=\"color: #008080; text-decoration-color: #008080; font-weight: bold\">1</span>: <span style=\"font-weight: bold\">(</span><span style=\"color: #008080; text-decoration-color: #008080; font-weight: bold\">14596</span>, <span style=\"color: #008080; text-decoration-color: #008080; font-weight: bold\">14605</span><span style=\"font-weight: bold\">)</span>,\n",
       " <span style=\"color: #008080; text-decoration-color: #008080; font-weight: bold\">2</span>: <span style=\"font-weight: bold\">(</span><span style=\"color: #008080; text-decoration-color: #008080; font-weight: bold\">8697</span>, <span style=\"color: #008080; text-decoration-color: #008080; font-weight: bold\">8697</span><span style=\"font-weight: bold\">)</span>,\n",
       " <span style=\"color: #008080; text-decoration-color: #008080; font-weight: bold\">3</span>: <span style=\"font-weight: bold\">(</span><span style=\"color: #008080; text-decoration-color: #008080; font-weight: bold\">7553</span>, <span style=\"color: #008080; text-decoration-color: #008080; font-weight: bold\">7553</span><span style=\"font-weight: bold\">)</span>,\n",
       " <span style=\"color: #008080; text-decoration-color: #008080; font-weight: bold\">4</span>: <span style=\"font-weight: bold\">(</span><span style=\"color: #008080; text-decoration-color: #008080; font-weight: bold\">13664</span>, <span style=\"color: #008080; text-decoration-color: #008080; font-weight: bold\">13682</span><span style=\"font-weight: bold\">)</span>,\n",
       " <span style=\"color: #008080; text-decoration-color: #008080; font-weight: bold\">5</span>: <span style=\"font-weight: bold\">(</span><span style=\"color: #008080; text-decoration-color: #008080; font-weight: bold\">3964</span>, <span style=\"color: #008080; text-decoration-color: #008080; font-weight: bold\">3964</span><span style=\"font-weight: bold\">)</span>,\n",
       " <span style=\"color: #008080; text-decoration-color: #008080; font-weight: bold\">8</span>: <span style=\"font-weight: bold\">(</span><span style=\"color: #008080; text-decoration-color: #008080; font-weight: bold\">301</span>, <span style=\"color: #008080; text-decoration-color: #008080; font-weight: bold\">301</span><span style=\"font-weight: bold\">)</span>,\n",
       " <span style=\"color: #008080; text-decoration-color: #008080; font-weight: bold\">9</span>: <span style=\"font-weight: bold\">(</span><span style=\"color: #008080; text-decoration-color: #008080; font-weight: bold\">9218</span>, <span style=\"color: #008080; text-decoration-color: #008080; font-weight: bold\">9233</span><span style=\"font-weight: bold\">)</span>,\n",
       " <span style=\"color: #008080; text-decoration-color: #008080; font-weight: bold\">10</span>: <span style=\"font-weight: bold\">(</span><span style=\"color: #008080; text-decoration-color: #008080; font-weight: bold\">8979</span>, <span style=\"color: #008080; text-decoration-color: #008080; font-weight: bold\">8988</span><span style=\"font-weight: bold\">)</span>,\n",
       " <span style=\"color: #008080; text-decoration-color: #008080; font-weight: bold\">11</span>: <span style=\"font-weight: bold\">(</span><span style=\"color: #008080; text-decoration-color: #008080; font-weight: bold\">1099</span>, <span style=\"color: #008080; text-decoration-color: #008080; font-weight: bold\">1099</span><span style=\"font-weight: bold\">)</span>,\n",
       " <span style=\"color: #008080; text-decoration-color: #008080; font-weight: bold\">12</span>: <span style=\"font-weight: bold\">(</span><span style=\"color: #008080; text-decoration-color: #008080; font-weight: bold\">351</span>, <span style=\"color: #008080; text-decoration-color: #008080; font-weight: bold\">351</span><span style=\"font-weight: bold\">)</span>,\n",
       " <span style=\"color: #008080; text-decoration-color: #008080; font-weight: bold\">14</span>: <span style=\"font-weight: bold\">(</span><span style=\"color: #008080; text-decoration-color: #008080; font-weight: bold\">1760</span>, <span style=\"color: #008080; text-decoration-color: #008080; font-weight: bold\">1766</span><span style=\"font-weight: bold\">)</span>,\n",
       " <span style=\"color: #008080; text-decoration-color: #008080; font-weight: bold\">15</span>: <span style=\"font-weight: bold\">(</span><span style=\"color: #008080; text-decoration-color: #008080; font-weight: bold\">1138</span>, <span style=\"color: #008080; text-decoration-color: #008080; font-weight: bold\">1144</span><span style=\"font-weight: bold\">)</span>,\n",
       " <span style=\"color: #008080; text-decoration-color: #008080; font-weight: bold\">16</span>: <span style=\"font-weight: bold\">(</span><span style=\"color: #008080; text-decoration-color: #008080; font-weight: bold\">1095</span>, <span style=\"color: #008080; text-decoration-color: #008080; font-weight: bold\">1109</span><span style=\"font-weight: bold\">)</span>,\n",
       " <span style=\"color: #008080; text-decoration-color: #008080; font-weight: bold\">17</span>: <span style=\"font-weight: bold\">(</span><span style=\"color: #008080; text-decoration-color: #008080; font-weight: bold\">528</span>, <span style=\"color: #008080; text-decoration-color: #008080; font-weight: bold\">581</span><span style=\"font-weight: bold\">)}</span>\n",
       "</pre>\n"
      ],
      "text/plain": [
       "\u001b[1m{\u001b[0m\u001b[1;36m0\u001b[0m: \u001b[1m(\u001b[0m\u001b[1;36m13261\u001b[0m, \u001b[1;36m13261\u001b[0m\u001b[1m)\u001b[0m,\n",
       " \u001b[1;36m1\u001b[0m: \u001b[1m(\u001b[0m\u001b[1;36m14596\u001b[0m, \u001b[1;36m14605\u001b[0m\u001b[1m)\u001b[0m,\n",
       " \u001b[1;36m2\u001b[0m: \u001b[1m(\u001b[0m\u001b[1;36m8697\u001b[0m, \u001b[1;36m8697\u001b[0m\u001b[1m)\u001b[0m,\n",
       " \u001b[1;36m3\u001b[0m: \u001b[1m(\u001b[0m\u001b[1;36m7553\u001b[0m, \u001b[1;36m7553\u001b[0m\u001b[1m)\u001b[0m,\n",
       " \u001b[1;36m4\u001b[0m: \u001b[1m(\u001b[0m\u001b[1;36m13664\u001b[0m, \u001b[1;36m13682\u001b[0m\u001b[1m)\u001b[0m,\n",
       " \u001b[1;36m5\u001b[0m: \u001b[1m(\u001b[0m\u001b[1;36m3964\u001b[0m, \u001b[1;36m3964\u001b[0m\u001b[1m)\u001b[0m,\n",
       " \u001b[1;36m8\u001b[0m: \u001b[1m(\u001b[0m\u001b[1;36m301\u001b[0m, \u001b[1;36m301\u001b[0m\u001b[1m)\u001b[0m,\n",
       " \u001b[1;36m9\u001b[0m: \u001b[1m(\u001b[0m\u001b[1;36m9218\u001b[0m, \u001b[1;36m9233\u001b[0m\u001b[1m)\u001b[0m,\n",
       " \u001b[1;36m10\u001b[0m: \u001b[1m(\u001b[0m\u001b[1;36m8979\u001b[0m, \u001b[1;36m8988\u001b[0m\u001b[1m)\u001b[0m,\n",
       " \u001b[1;36m11\u001b[0m: \u001b[1m(\u001b[0m\u001b[1;36m1099\u001b[0m, \u001b[1;36m1099\u001b[0m\u001b[1m)\u001b[0m,\n",
       " \u001b[1;36m12\u001b[0m: \u001b[1m(\u001b[0m\u001b[1;36m351\u001b[0m, \u001b[1;36m351\u001b[0m\u001b[1m)\u001b[0m,\n",
       " \u001b[1;36m14\u001b[0m: \u001b[1m(\u001b[0m\u001b[1;36m1760\u001b[0m, \u001b[1;36m1766\u001b[0m\u001b[1m)\u001b[0m,\n",
       " \u001b[1;36m15\u001b[0m: \u001b[1m(\u001b[0m\u001b[1;36m1138\u001b[0m, \u001b[1;36m1144\u001b[0m\u001b[1m)\u001b[0m,\n",
       " \u001b[1;36m16\u001b[0m: \u001b[1m(\u001b[0m\u001b[1;36m1095\u001b[0m, \u001b[1;36m1109\u001b[0m\u001b[1m)\u001b[0m,\n",
       " \u001b[1;36m17\u001b[0m: \u001b[1m(\u001b[0m\u001b[1;36m528\u001b[0m, \u001b[1;36m581\u001b[0m\u001b[1m)\u001b[0m\u001b[1m}\u001b[0m\n"
      ]
     },
     "metadata": {},
     "output_type": "display_data"
    },
    {
     "name": "stdout",
     "output_type": "stream",
     "text": [
      "f\"Got reid embedding for {sid}\" : Got reid embedding for 0\n",
      "f\"Got reid embedding for {sid}\" : Got reid embedding for 1\n",
      "f\"Got reid embedding for {sid}\" : Got reid embedding for 2\n",
      "f\"Got reid embedding for {sid}\" : Got reid embedding for 3\n",
      "f\"Got reid embedding for {sid}\" : Got reid embedding for 4\n",
      "f\"Got reid embedding for {sid}\" : Got reid embedding for 5\n",
      "f\"Got reid embedding for {sid}\" : Got reid embedding for 8\n",
      "f\"Got reid embedding for {sid}\" : Got reid embedding for 9\n",
      "f\"Got reid embedding for {sid}\" : Got reid embedding for 10\n",
      "f\"Got reid embedding for {sid}\" : Got reid embedding for 11\n",
      "f\"Got reid embedding for {sid}\" : Got reid embedding for 12\n",
      "f\"Got reid embedding for {sid}\" : Got reid embedding for 14\n",
      "f\"Got reid embedding for {sid}\" : Got reid embedding for 15\n",
      "f\"Got reid embedding for {sid}\" : Got reid embedding for 16\n",
      "f\"Got reid embedding for {sid}\" : Got reid embedding for 17\n"
     ]
    },
    {
     "data": {
      "text/markdown": [
       "### Got cross session input info for session: 3-17214B, session:5-classinsight-cmu_17214B_ph_a21_201904031030-front"
      ],
      "text/plain": [
       "<IPython.core.display.Markdown object>"
      ]
     },
     "metadata": {},
     "output_type": "display_data"
    },
    {
     "data": {
      "text/markdown": [
       "## Building cross session input info for session: 3-17214B, session:6-classinsight-cmu_17214B_ph_a21_201904101030-front"
      ],
      "text/plain": [
       "<IPython.core.display.Markdown object>"
      ]
     },
     "metadata": {},
     "output_type": "display_data"
    },
    {
     "name": "stdout",
     "output_type": "stream",
     "text": [
      "Dict: eligible_id_map_dict\n",
      "Key: Value\n"
     ]
    },
    {
     "data": {
      "text/html": [
       "<pre style=\"white-space:pre;overflow-x:auto;line-height:normal;font-family:Menlo,'DejaVu Sans Mono',consolas,'Courier New',monospace\"><span style=\"font-weight: bold\">{}</span>\n",
       "</pre>\n"
      ],
      "text/plain": [
       "\u001b[1m{\u001b[0m\u001b[1m}\u001b[0m\n"
      ]
     },
     "metadata": {},
     "output_type": "display_data"
    },
    {
     "name": "stdout",
     "output_type": "stream",
     "text": [
      "\"Corrected\", eligible_id_map_dict : Corrected {}\n",
      "\"replacing ids in old to new id maps\" : replacing ids in old to new id maps\n",
      "Dict: {xr:(emb_info[xr].shape[0], bbox_info[xr].shape[0]) for xr in emb_info}\n",
      "Key: Value\n"
     ]
    },
    {
     "data": {
      "text/html": [
       "<pre style=\"white-space:pre;overflow-x:auto;line-height:normal;font-family:Menlo,'DejaVu Sans Mono',consolas,'Courier New',monospace\"><span style=\"font-weight: bold\">{</span><span style=\"color: #008080; text-decoration-color: #008080; font-weight: bold\">0</span>: <span style=\"font-weight: bold\">(</span><span style=\"color: #008080; text-decoration-color: #008080; font-weight: bold\">14994</span>, <span style=\"color: #008080; text-decoration-color: #008080; font-weight: bold\">14994</span><span style=\"font-weight: bold\">)</span>,\n",
       " <span style=\"color: #008080; text-decoration-color: #008080; font-weight: bold\">1</span>: <span style=\"font-weight: bold\">(</span><span style=\"color: #008080; text-decoration-color: #008080; font-weight: bold\">14982</span>, <span style=\"color: #008080; text-decoration-color: #008080; font-weight: bold\">14982</span><span style=\"font-weight: bold\">)</span>,\n",
       " <span style=\"color: #008080; text-decoration-color: #008080; font-weight: bold\">2</span>: <span style=\"font-weight: bold\">(</span><span style=\"color: #008080; text-decoration-color: #008080; font-weight: bold\">14964</span>, <span style=\"color: #008080; text-decoration-color: #008080; font-weight: bold\">14964</span><span style=\"font-weight: bold\">)</span>,\n",
       " <span style=\"color: #008080; text-decoration-color: #008080; font-weight: bold\">3</span>: <span style=\"font-weight: bold\">(</span><span style=\"color: #008080; text-decoration-color: #008080; font-weight: bold\">10198</span>, <span style=\"color: #008080; text-decoration-color: #008080; font-weight: bold\">10198</span><span style=\"font-weight: bold\">)</span>,\n",
       " <span style=\"color: #008080; text-decoration-color: #008080; font-weight: bold\">4</span>: <span style=\"font-weight: bold\">(</span><span style=\"color: #008080; text-decoration-color: #008080; font-weight: bold\">14880</span>, <span style=\"color: #008080; text-decoration-color: #008080; font-weight: bold\">14880</span><span style=\"font-weight: bold\">)</span>,\n",
       " <span style=\"color: #008080; text-decoration-color: #008080; font-weight: bold\">5</span>: <span style=\"font-weight: bold\">(</span><span style=\"color: #008080; text-decoration-color: #008080; font-weight: bold\">14969</span>, <span style=\"color: #008080; text-decoration-color: #008080; font-weight: bold\">14969</span><span style=\"font-weight: bold\">)</span>,\n",
       " <span style=\"color: #008080; text-decoration-color: #008080; font-weight: bold\">6</span>: <span style=\"font-weight: bold\">(</span><span style=\"color: #008080; text-decoration-color: #008080; font-weight: bold\">337</span>, <span style=\"color: #008080; text-decoration-color: #008080; font-weight: bold\">337</span><span style=\"font-weight: bold\">)</span>,\n",
       " <span style=\"color: #008080; text-decoration-color: #008080; font-weight: bold\">7</span>: <span style=\"font-weight: bold\">(</span><span style=\"color: #008080; text-decoration-color: #008080; font-weight: bold\">14651</span>, <span style=\"color: #008080; text-decoration-color: #008080; font-weight: bold\">14654</span><span style=\"font-weight: bold\">)</span>,\n",
       " <span style=\"color: #008080; text-decoration-color: #008080; font-weight: bold\">8</span>: <span style=\"font-weight: bold\">(</span><span style=\"color: #008080; text-decoration-color: #008080; font-weight: bold\">502</span>, <span style=\"color: #008080; text-decoration-color: #008080; font-weight: bold\">502</span><span style=\"font-weight: bold\">)</span>,\n",
       " <span style=\"color: #008080; text-decoration-color: #008080; font-weight: bold\">9</span>: <span style=\"font-weight: bold\">(</span><span style=\"color: #008080; text-decoration-color: #008080; font-weight: bold\">827</span>, <span style=\"color: #008080; text-decoration-color: #008080; font-weight: bold\">4407</span><span style=\"font-weight: bold\">)</span>,\n",
       " <span style=\"color: #008080; text-decoration-color: #008080; font-weight: bold\">10</span>: <span style=\"font-weight: bold\">(</span><span style=\"color: #008080; text-decoration-color: #008080; font-weight: bold\">12497</span>, <span style=\"color: #008080; text-decoration-color: #008080; font-weight: bold\">12499</span><span style=\"font-weight: bold\">)</span>,\n",
       " <span style=\"color: #008080; text-decoration-color: #008080; font-weight: bold\">11</span>: <span style=\"font-weight: bold\">(</span><span style=\"color: #008080; text-decoration-color: #008080; font-weight: bold\">634</span>, <span style=\"color: #008080; text-decoration-color: #008080; font-weight: bold\">634</span><span style=\"font-weight: bold\">)</span>,\n",
       " <span style=\"color: #008080; text-decoration-color: #008080; font-weight: bold\">12</span>: <span style=\"font-weight: bold\">(</span><span style=\"color: #008080; text-decoration-color: #008080; font-weight: bold\">185</span>, <span style=\"color: #008080; text-decoration-color: #008080; font-weight: bold\">522</span><span style=\"font-weight: bold\">)</span>,\n",
       " <span style=\"color: #008080; text-decoration-color: #008080; font-weight: bold\">13</span>: <span style=\"font-weight: bold\">(</span><span style=\"color: #008080; text-decoration-color: #008080; font-weight: bold\">419</span>, <span style=\"color: #008080; text-decoration-color: #008080; font-weight: bold\">419</span><span style=\"font-weight: bold\">)</span>,\n",
       " <span style=\"color: #008080; text-decoration-color: #008080; font-weight: bold\">14</span>: <span style=\"font-weight: bold\">(</span><span style=\"color: #008080; text-decoration-color: #008080; font-weight: bold\">2997</span>, <span style=\"color: #008080; text-decoration-color: #008080; font-weight: bold\">2997</span><span style=\"font-weight: bold\">)</span>,\n",
       " <span style=\"color: #008080; text-decoration-color: #008080; font-weight: bold\">15</span>: <span style=\"font-weight: bold\">(</span><span style=\"color: #008080; text-decoration-color: #008080; font-weight: bold\">708</span>, <span style=\"color: #008080; text-decoration-color: #008080; font-weight: bold\">708</span><span style=\"font-weight: bold\">)</span>,\n",
       " <span style=\"color: #008080; text-decoration-color: #008080; font-weight: bold\">16</span>: <span style=\"font-weight: bold\">(</span><span style=\"color: #008080; text-decoration-color: #008080; font-weight: bold\">2565</span>, <span style=\"color: #008080; text-decoration-color: #008080; font-weight: bold\">2565</span><span style=\"font-weight: bold\">)</span>,\n",
       " <span style=\"color: #008080; text-decoration-color: #008080; font-weight: bold\">17</span>: <span style=\"font-weight: bold\">(</span><span style=\"color: #008080; text-decoration-color: #008080; font-weight: bold\">4862</span>, <span style=\"color: #008080; text-decoration-color: #008080; font-weight: bold\">4862</span><span style=\"font-weight: bold\">)</span>,\n",
       " <span style=\"color: #008080; text-decoration-color: #008080; font-weight: bold\">18</span>: <span style=\"font-weight: bold\">(</span><span style=\"color: #008080; text-decoration-color: #008080; font-weight: bold\">2493</span>, <span style=\"color: #008080; text-decoration-color: #008080; font-weight: bold\">2494</span><span style=\"font-weight: bold\">)</span>,\n",
       " <span style=\"color: #008080; text-decoration-color: #008080; font-weight: bold\">19</span>: <span style=\"font-weight: bold\">(</span><span style=\"color: #008080; text-decoration-color: #008080; font-weight: bold\">2248</span>, <span style=\"color: #008080; text-decoration-color: #008080; font-weight: bold\">2248</span><span style=\"font-weight: bold\">)</span>,\n",
       " <span style=\"color: #008080; text-decoration-color: #008080; font-weight: bold\">20</span>: <span style=\"font-weight: bold\">(</span><span style=\"color: #008080; text-decoration-color: #008080; font-weight: bold\">713</span>, <span style=\"color: #008080; text-decoration-color: #008080; font-weight: bold\">713</span><span style=\"font-weight: bold\">)</span>,\n",
       " <span style=\"color: #008080; text-decoration-color: #008080; font-weight: bold\">21</span>: <span style=\"font-weight: bold\">(</span><span style=\"color: #008080; text-decoration-color: #008080; font-weight: bold\">740</span>, <span style=\"color: #008080; text-decoration-color: #008080; font-weight: bold\">740</span><span style=\"font-weight: bold\">)}</span>\n",
       "</pre>\n"
      ],
      "text/plain": [
       "\u001b[1m{\u001b[0m\u001b[1;36m0\u001b[0m: \u001b[1m(\u001b[0m\u001b[1;36m14994\u001b[0m, \u001b[1;36m14994\u001b[0m\u001b[1m)\u001b[0m,\n",
       " \u001b[1;36m1\u001b[0m: \u001b[1m(\u001b[0m\u001b[1;36m14982\u001b[0m, \u001b[1;36m14982\u001b[0m\u001b[1m)\u001b[0m,\n",
       " \u001b[1;36m2\u001b[0m: \u001b[1m(\u001b[0m\u001b[1;36m14964\u001b[0m, \u001b[1;36m14964\u001b[0m\u001b[1m)\u001b[0m,\n",
       " \u001b[1;36m3\u001b[0m: \u001b[1m(\u001b[0m\u001b[1;36m10198\u001b[0m, \u001b[1;36m10198\u001b[0m\u001b[1m)\u001b[0m,\n",
       " \u001b[1;36m4\u001b[0m: \u001b[1m(\u001b[0m\u001b[1;36m14880\u001b[0m, \u001b[1;36m14880\u001b[0m\u001b[1m)\u001b[0m,\n",
       " \u001b[1;36m5\u001b[0m: \u001b[1m(\u001b[0m\u001b[1;36m14969\u001b[0m, \u001b[1;36m14969\u001b[0m\u001b[1m)\u001b[0m,\n",
       " \u001b[1;36m6\u001b[0m: \u001b[1m(\u001b[0m\u001b[1;36m337\u001b[0m, \u001b[1;36m337\u001b[0m\u001b[1m)\u001b[0m,\n",
       " \u001b[1;36m7\u001b[0m: \u001b[1m(\u001b[0m\u001b[1;36m14651\u001b[0m, \u001b[1;36m14654\u001b[0m\u001b[1m)\u001b[0m,\n",
       " \u001b[1;36m8\u001b[0m: \u001b[1m(\u001b[0m\u001b[1;36m502\u001b[0m, \u001b[1;36m502\u001b[0m\u001b[1m)\u001b[0m,\n",
       " \u001b[1;36m9\u001b[0m: \u001b[1m(\u001b[0m\u001b[1;36m827\u001b[0m, \u001b[1;36m4407\u001b[0m\u001b[1m)\u001b[0m,\n",
       " \u001b[1;36m10\u001b[0m: \u001b[1m(\u001b[0m\u001b[1;36m12497\u001b[0m, \u001b[1;36m12499\u001b[0m\u001b[1m)\u001b[0m,\n",
       " \u001b[1;36m11\u001b[0m: \u001b[1m(\u001b[0m\u001b[1;36m634\u001b[0m, \u001b[1;36m634\u001b[0m\u001b[1m)\u001b[0m,\n",
       " \u001b[1;36m12\u001b[0m: \u001b[1m(\u001b[0m\u001b[1;36m185\u001b[0m, \u001b[1;36m522\u001b[0m\u001b[1m)\u001b[0m,\n",
       " \u001b[1;36m13\u001b[0m: \u001b[1m(\u001b[0m\u001b[1;36m419\u001b[0m, \u001b[1;36m419\u001b[0m\u001b[1m)\u001b[0m,\n",
       " \u001b[1;36m14\u001b[0m: \u001b[1m(\u001b[0m\u001b[1;36m2997\u001b[0m, \u001b[1;36m2997\u001b[0m\u001b[1m)\u001b[0m,\n",
       " \u001b[1;36m15\u001b[0m: \u001b[1m(\u001b[0m\u001b[1;36m708\u001b[0m, \u001b[1;36m708\u001b[0m\u001b[1m)\u001b[0m,\n",
       " \u001b[1;36m16\u001b[0m: \u001b[1m(\u001b[0m\u001b[1;36m2565\u001b[0m, \u001b[1;36m2565\u001b[0m\u001b[1m)\u001b[0m,\n",
       " \u001b[1;36m17\u001b[0m: \u001b[1m(\u001b[0m\u001b[1;36m4862\u001b[0m, \u001b[1;36m4862\u001b[0m\u001b[1m)\u001b[0m,\n",
       " \u001b[1;36m18\u001b[0m: \u001b[1m(\u001b[0m\u001b[1;36m2493\u001b[0m, \u001b[1;36m2494\u001b[0m\u001b[1m)\u001b[0m,\n",
       " \u001b[1;36m19\u001b[0m: \u001b[1m(\u001b[0m\u001b[1;36m2248\u001b[0m, \u001b[1;36m2248\u001b[0m\u001b[1m)\u001b[0m,\n",
       " \u001b[1;36m20\u001b[0m: \u001b[1m(\u001b[0m\u001b[1;36m713\u001b[0m, \u001b[1;36m713\u001b[0m\u001b[1m)\u001b[0m,\n",
       " \u001b[1;36m21\u001b[0m: \u001b[1m(\u001b[0m\u001b[1;36m740\u001b[0m, \u001b[1;36m740\u001b[0m\u001b[1m)\u001b[0m\u001b[1m}\u001b[0m\n"
      ]
     },
     "metadata": {},
     "output_type": "display_data"
    },
    {
     "name": "stdout",
     "output_type": "stream",
     "text": [
      "f\"Got reid embedding for {sid}\" : Got reid embedding for 0\n",
      "f\"Got reid embedding for {sid}\" : Got reid embedding for 1\n",
      "f\"Got reid embedding for {sid}\" : Got reid embedding for 2\n",
      "f\"Got reid embedding for {sid}\" : Got reid embedding for 3\n",
      "f\"Got reid embedding for {sid}\" : Got reid embedding for 4\n",
      "f\"Got reid embedding for {sid}\" : Got reid embedding for 5\n",
      "f\"Got reid embedding for {sid}\" : Got reid embedding for 6\n",
      "f\"Got reid embedding for {sid}\" : Got reid embedding for 7\n",
      "f\"Got reid embedding for {sid}\" : Got reid embedding for 8\n",
      "f\"Got reid embedding for {sid}\" : Got reid embedding for 9\n",
      "f\"Got reid embedding for {sid}\" : Got reid embedding for 10\n",
      "f\"Got reid embedding for {sid}\" : Got reid embedding for 11\n",
      "f\"Got reid embedding for {sid}\" : Got reid embedding for 12\n",
      "f\"Got reid embedding for {sid}\" : Got reid embedding for 13\n",
      "f\"Got reid embedding for {sid}\" : Got reid embedding for 14\n",
      "f\"Got reid embedding for {sid}\" : Got reid embedding for 15\n",
      "f\"Got reid embedding for {sid}\" : Got reid embedding for 16\n",
      "f\"Got reid embedding for {sid}\" : Got reid embedding for 17\n",
      "f\"Got reid embedding for {sid}\" : Got reid embedding for 18\n",
      "f\"Got reid embedding for {sid}\" : Got reid embedding for 19\n",
      "f\"Got reid embedding for {sid}\" : Got reid embedding for 20\n",
      "f\"Got reid embedding for {sid}\" : Got reid embedding for 21\n"
     ]
    },
    {
     "data": {
      "text/markdown": [
       "### Got cross session input info for session: 3-17214B, session:6-classinsight-cmu_17214B_ph_a21_201904101030-front"
      ],
      "text/plain": [
       "<IPython.core.display.Markdown object>"
      ]
     },
     "metadata": {},
     "output_type": "display_data"
    },
    {
     "name": "stdout",
     "output_type": "stream",
     "text": [
      "Session classinsight-cmu_17214B_ph_a21_201904171030-front not in session filter list, skipping...\n",
      "Session classinsight-cmu_17214B_ph_a21_201902131045-front not in session filter list, skipping...\n"
     ]
    },
    {
     "data": {
      "text/markdown": [
       "## Building cross session input info for session: 3-17214B, session:9-classinsight-cmu_17214B_ph_a21_201904241030-front"
      ],
      "text/plain": [
       "<IPython.core.display.Markdown object>"
      ]
     },
     "metadata": {},
     "output_type": "display_data"
    },
    {
     "name": "stdout",
     "output_type": "stream",
     "text": [
      "Dict: eligible_id_map_dict\n",
      "Key: Value\n"
     ]
    },
    {
     "data": {
      "text/html": [
       "<pre style=\"white-space:pre;overflow-x:auto;line-height:normal;font-family:Menlo,'DejaVu Sans Mono',consolas,'Courier New',monospace\"><span style=\"font-weight: bold\">{}</span>\n",
       "</pre>\n"
      ],
      "text/plain": [
       "\u001b[1m{\u001b[0m\u001b[1m}\u001b[0m\n"
      ]
     },
     "metadata": {},
     "output_type": "display_data"
    },
    {
     "name": "stdout",
     "output_type": "stream",
     "text": [
      "\"Corrected\", eligible_id_map_dict : Corrected {}\n",
      "\"replacing ids in old to new id maps\" : replacing ids in old to new id maps\n",
      "Dict: {xr:(emb_info[xr].shape[0], bbox_info[xr].shape[0]) for xr in emb_info}\n",
      "Key: Value\n"
     ]
    },
    {
     "data": {
      "text/html": [
       "<pre style=\"white-space:pre;overflow-x:auto;line-height:normal;font-family:Menlo,'DejaVu Sans Mono',consolas,'Courier New',monospace\"><span style=\"font-weight: bold\">{</span><span style=\"color: #008080; text-decoration-color: #008080; font-weight: bold\">0</span>: <span style=\"font-weight: bold\">(</span><span style=\"color: #008080; text-decoration-color: #008080; font-weight: bold\">12144</span>, <span style=\"color: #008080; text-decoration-color: #008080; font-weight: bold\">12144</span><span style=\"font-weight: bold\">)</span>,\n",
       " <span style=\"color: #008080; text-decoration-color: #008080; font-weight: bold\">1</span>: <span style=\"font-weight: bold\">(</span><span style=\"color: #008080; text-decoration-color: #008080; font-weight: bold\">14984</span>, <span style=\"color: #008080; text-decoration-color: #008080; font-weight: bold\">14984</span><span style=\"font-weight: bold\">)</span>,\n",
       " <span style=\"color: #008080; text-decoration-color: #008080; font-weight: bold\">2</span>: <span style=\"font-weight: bold\">(</span><span style=\"color: #008080; text-decoration-color: #008080; font-weight: bold\">753</span>, <span style=\"color: #008080; text-decoration-color: #008080; font-weight: bold\">815</span><span style=\"font-weight: bold\">)</span>,\n",
       " <span style=\"color: #008080; text-decoration-color: #008080; font-weight: bold\">3</span>: <span style=\"font-weight: bold\">(</span><span style=\"color: #008080; text-decoration-color: #008080; font-weight: bold\">3323</span>, <span style=\"color: #008080; text-decoration-color: #008080; font-weight: bold\">3328</span><span style=\"font-weight: bold\">)</span>,\n",
       " <span style=\"color: #008080; text-decoration-color: #008080; font-weight: bold\">4</span>: <span style=\"font-weight: bold\">(</span><span style=\"color: #008080; text-decoration-color: #008080; font-weight: bold\">14792</span>, <span style=\"color: #008080; text-decoration-color: #008080; font-weight: bold\">14796</span><span style=\"font-weight: bold\">)</span>,\n",
       " <span style=\"color: #008080; text-decoration-color: #008080; font-weight: bold\">5</span>: <span style=\"font-weight: bold\">(</span><span style=\"color: #008080; text-decoration-color: #008080; font-weight: bold\">14621</span>, <span style=\"color: #008080; text-decoration-color: #008080; font-weight: bold\">14626</span><span style=\"font-weight: bold\">)</span>,\n",
       " <span style=\"color: #008080; text-decoration-color: #008080; font-weight: bold\">6</span>: <span style=\"font-weight: bold\">(</span><span style=\"color: #008080; text-decoration-color: #008080; font-weight: bold\">14258</span>, <span style=\"color: #008080; text-decoration-color: #008080; font-weight: bold\">14339</span><span style=\"font-weight: bold\">)</span>,\n",
       " <span style=\"color: #008080; text-decoration-color: #008080; font-weight: bold\">7</span>: <span style=\"font-weight: bold\">(</span><span style=\"color: #008080; text-decoration-color: #008080; font-weight: bold\">13692</span>, <span style=\"color: #008080; text-decoration-color: #008080; font-weight: bold\">13698</span><span style=\"font-weight: bold\">)</span>,\n",
       " <span style=\"color: #008080; text-decoration-color: #008080; font-weight: bold\">8</span>: <span style=\"font-weight: bold\">(</span><span style=\"color: #008080; text-decoration-color: #008080; font-weight: bold\">13189</span>, <span style=\"color: #008080; text-decoration-color: #008080; font-weight: bold\">13194</span><span style=\"font-weight: bold\">)</span>,\n",
       " <span style=\"color: #008080; text-decoration-color: #008080; font-weight: bold\">9</span>: <span style=\"font-weight: bold\">(</span><span style=\"color: #008080; text-decoration-color: #008080; font-weight: bold\">12120</span>, <span style=\"color: #008080; text-decoration-color: #008080; font-weight: bold\">12126</span><span style=\"font-weight: bold\">)</span>,\n",
       " <span style=\"color: #008080; text-decoration-color: #008080; font-weight: bold\">10</span>: <span style=\"font-weight: bold\">(</span><span style=\"color: #008080; text-decoration-color: #008080; font-weight: bold\">1358</span>, <span style=\"color: #008080; text-decoration-color: #008080; font-weight: bold\">3329</span><span style=\"font-weight: bold\">)</span>,\n",
       " <span style=\"color: #008080; text-decoration-color: #008080; font-weight: bold\">11</span>: <span style=\"font-weight: bold\">(</span><span style=\"color: #008080; text-decoration-color: #008080; font-weight: bold\">11081</span>, <span style=\"color: #008080; text-decoration-color: #008080; font-weight: bold\">11084</span><span style=\"font-weight: bold\">)</span>,\n",
       " <span style=\"color: #008080; text-decoration-color: #008080; font-weight: bold\">12</span>: <span style=\"font-weight: bold\">(</span><span style=\"color: #008080; text-decoration-color: #008080; font-weight: bold\">10637</span>, <span style=\"color: #008080; text-decoration-color: #008080; font-weight: bold\">10638</span><span style=\"font-weight: bold\">)</span>,\n",
       " <span style=\"color: #008080; text-decoration-color: #008080; font-weight: bold\">13</span>: <span style=\"font-weight: bold\">(</span><span style=\"color: #008080; text-decoration-color: #008080; font-weight: bold\">16</span>, <span style=\"color: #008080; text-decoration-color: #008080; font-weight: bold\">920</span><span style=\"font-weight: bold\">)</span>,\n",
       " <span style=\"color: #008080; text-decoration-color: #008080; font-weight: bold\">14</span>: <span style=\"font-weight: bold\">(</span><span style=\"color: #008080; text-decoration-color: #008080; font-weight: bold\">466</span>, <span style=\"color: #008080; text-decoration-color: #008080; font-weight: bold\">466</span><span style=\"font-weight: bold\">)</span>,\n",
       " <span style=\"color: #008080; text-decoration-color: #008080; font-weight: bold\">15</span>: <span style=\"font-weight: bold\">(</span><span style=\"color: #008080; text-decoration-color: #008080; font-weight: bold\">1726</span>, <span style=\"color: #008080; text-decoration-color: #008080; font-weight: bold\">1726</span><span style=\"font-weight: bold\">)</span>,\n",
       " <span style=\"color: #008080; text-decoration-color: #008080; font-weight: bold\">16</span>: <span style=\"font-weight: bold\">(</span><span style=\"color: #008080; text-decoration-color: #008080; font-weight: bold\">1938</span>, <span style=\"color: #008080; text-decoration-color: #008080; font-weight: bold\">1938</span><span style=\"font-weight: bold\">)</span>,\n",
       " <span style=\"color: #008080; text-decoration-color: #008080; font-weight: bold\">17</span>: <span style=\"font-weight: bold\">(</span><span style=\"color: #008080; text-decoration-color: #008080; font-weight: bold\">443</span>, <span style=\"color: #008080; text-decoration-color: #008080; font-weight: bold\">443</span><span style=\"font-weight: bold\">)</span>,\n",
       " <span style=\"color: #008080; text-decoration-color: #008080; font-weight: bold\">18</span>: <span style=\"font-weight: bold\">(</span><span style=\"color: #008080; text-decoration-color: #008080; font-weight: bold\">430</span>, <span style=\"color: #008080; text-decoration-color: #008080; font-weight: bold\">430</span><span style=\"font-weight: bold\">)</span>,\n",
       " <span style=\"color: #008080; text-decoration-color: #008080; font-weight: bold\">19</span>: <span style=\"font-weight: bold\">(</span><span style=\"color: #008080; text-decoration-color: #008080; font-weight: bold\">697</span>, <span style=\"color: #008080; text-decoration-color: #008080; font-weight: bold\">697</span><span style=\"font-weight: bold\">)</span>,\n",
       " <span style=\"color: #008080; text-decoration-color: #008080; font-weight: bold\">20</span>: <span style=\"font-weight: bold\">(</span><span style=\"color: #008080; text-decoration-color: #008080; font-weight: bold\">2735</span>, <span style=\"color: #008080; text-decoration-color: #008080; font-weight: bold\">2735</span><span style=\"font-weight: bold\">)</span>,\n",
       " <span style=\"color: #008080; text-decoration-color: #008080; font-weight: bold\">21</span>: <span style=\"font-weight: bold\">(</span><span style=\"color: #008080; text-decoration-color: #008080; font-weight: bold\">415</span>, <span style=\"color: #008080; text-decoration-color: #008080; font-weight: bold\">415</span><span style=\"font-weight: bold\">)}</span>\n",
       "</pre>\n"
      ],
      "text/plain": [
       "\u001b[1m{\u001b[0m\u001b[1;36m0\u001b[0m: \u001b[1m(\u001b[0m\u001b[1;36m12144\u001b[0m, \u001b[1;36m12144\u001b[0m\u001b[1m)\u001b[0m,\n",
       " \u001b[1;36m1\u001b[0m: \u001b[1m(\u001b[0m\u001b[1;36m14984\u001b[0m, \u001b[1;36m14984\u001b[0m\u001b[1m)\u001b[0m,\n",
       " \u001b[1;36m2\u001b[0m: \u001b[1m(\u001b[0m\u001b[1;36m753\u001b[0m, \u001b[1;36m815\u001b[0m\u001b[1m)\u001b[0m,\n",
       " \u001b[1;36m3\u001b[0m: \u001b[1m(\u001b[0m\u001b[1;36m3323\u001b[0m, \u001b[1;36m3328\u001b[0m\u001b[1m)\u001b[0m,\n",
       " \u001b[1;36m4\u001b[0m: \u001b[1m(\u001b[0m\u001b[1;36m14792\u001b[0m, \u001b[1;36m14796\u001b[0m\u001b[1m)\u001b[0m,\n",
       " \u001b[1;36m5\u001b[0m: \u001b[1m(\u001b[0m\u001b[1;36m14621\u001b[0m, \u001b[1;36m14626\u001b[0m\u001b[1m)\u001b[0m,\n",
       " \u001b[1;36m6\u001b[0m: \u001b[1m(\u001b[0m\u001b[1;36m14258\u001b[0m, \u001b[1;36m14339\u001b[0m\u001b[1m)\u001b[0m,\n",
       " \u001b[1;36m7\u001b[0m: \u001b[1m(\u001b[0m\u001b[1;36m13692\u001b[0m, \u001b[1;36m13698\u001b[0m\u001b[1m)\u001b[0m,\n",
       " \u001b[1;36m8\u001b[0m: \u001b[1m(\u001b[0m\u001b[1;36m13189\u001b[0m, \u001b[1;36m13194\u001b[0m\u001b[1m)\u001b[0m,\n",
       " \u001b[1;36m9\u001b[0m: \u001b[1m(\u001b[0m\u001b[1;36m12120\u001b[0m, \u001b[1;36m12126\u001b[0m\u001b[1m)\u001b[0m,\n",
       " \u001b[1;36m10\u001b[0m: \u001b[1m(\u001b[0m\u001b[1;36m1358\u001b[0m, \u001b[1;36m3329\u001b[0m\u001b[1m)\u001b[0m,\n",
       " \u001b[1;36m11\u001b[0m: \u001b[1m(\u001b[0m\u001b[1;36m11081\u001b[0m, \u001b[1;36m11084\u001b[0m\u001b[1m)\u001b[0m,\n",
       " \u001b[1;36m12\u001b[0m: \u001b[1m(\u001b[0m\u001b[1;36m10637\u001b[0m, \u001b[1;36m10638\u001b[0m\u001b[1m)\u001b[0m,\n",
       " \u001b[1;36m13\u001b[0m: \u001b[1m(\u001b[0m\u001b[1;36m16\u001b[0m, \u001b[1;36m920\u001b[0m\u001b[1m)\u001b[0m,\n",
       " \u001b[1;36m14\u001b[0m: \u001b[1m(\u001b[0m\u001b[1;36m466\u001b[0m, \u001b[1;36m466\u001b[0m\u001b[1m)\u001b[0m,\n",
       " \u001b[1;36m15\u001b[0m: \u001b[1m(\u001b[0m\u001b[1;36m1726\u001b[0m, \u001b[1;36m1726\u001b[0m\u001b[1m)\u001b[0m,\n",
       " \u001b[1;36m16\u001b[0m: \u001b[1m(\u001b[0m\u001b[1;36m1938\u001b[0m, \u001b[1;36m1938\u001b[0m\u001b[1m)\u001b[0m,\n",
       " \u001b[1;36m17\u001b[0m: \u001b[1m(\u001b[0m\u001b[1;36m443\u001b[0m, \u001b[1;36m443\u001b[0m\u001b[1m)\u001b[0m,\n",
       " \u001b[1;36m18\u001b[0m: \u001b[1m(\u001b[0m\u001b[1;36m430\u001b[0m, \u001b[1;36m430\u001b[0m\u001b[1m)\u001b[0m,\n",
       " \u001b[1;36m19\u001b[0m: \u001b[1m(\u001b[0m\u001b[1;36m697\u001b[0m, \u001b[1;36m697\u001b[0m\u001b[1m)\u001b[0m,\n",
       " \u001b[1;36m20\u001b[0m: \u001b[1m(\u001b[0m\u001b[1;36m2735\u001b[0m, \u001b[1;36m2735\u001b[0m\u001b[1m)\u001b[0m,\n",
       " \u001b[1;36m21\u001b[0m: \u001b[1m(\u001b[0m\u001b[1;36m415\u001b[0m, \u001b[1;36m415\u001b[0m\u001b[1m)\u001b[0m\u001b[1m}\u001b[0m\n"
      ]
     },
     "metadata": {},
     "output_type": "display_data"
    },
    {
     "name": "stdout",
     "output_type": "stream",
     "text": [
      "f\"Got reid embedding for {sid}\" : Got reid embedding for 0\n",
      "f\"Got reid embedding for {sid}\" : Got reid embedding for 1\n",
      "f\"Got reid embedding for {sid}\" : Got reid embedding for 2\n",
      "f\"Got reid embedding for {sid}\" : Got reid embedding for 3\n",
      "f\"Got reid embedding for {sid}\" : Got reid embedding for 4\n",
      "f\"Got reid embedding for {sid}\" : Got reid embedding for 5\n",
      "f\"Got reid embedding for {sid}\" : Got reid embedding for 6\n",
      "f\"Got reid embedding for {sid}\" : Got reid embedding for 7\n",
      "f\"Got reid embedding for {sid}\" : Got reid embedding for 8\n",
      "f\"Got reid embedding for {sid}\" : Got reid embedding for 9\n",
      "f\"Got reid embedding for {sid}\" : Got reid embedding for 10\n",
      "f\"Got reid embedding for {sid}\" : Got reid embedding for 11\n",
      "f\"Got reid embedding for {sid}\" : Got reid embedding for 12\n",
      "f\"Got reid embedding for {sid}\" : Got reid embedding for 13\n",
      "f\"Got reid embedding for {sid}\" : Got reid embedding for 14\n",
      "f\"Got reid embedding for {sid}\" : Got reid embedding for 15\n",
      "f\"Got reid embedding for {sid}\" : Got reid embedding for 16\n",
      "f\"Got reid embedding for {sid}\" : Got reid embedding for 17\n",
      "f\"Got reid embedding for {sid}\" : Got reid embedding for 18\n",
      "f\"Got reid embedding for {sid}\" : Got reid embedding for 19\n",
      "f\"Got reid embedding for {sid}\" : Got reid embedding for 20\n",
      "f\"Got reid embedding for {sid}\" : Got reid embedding for 21\n"
     ]
    },
    {
     "data": {
      "text/markdown": [
       "### Got cross session input info for session: 3-17214B, session:9-classinsight-cmu_17214B_ph_a21_201904241030-front"
      ],
      "text/plain": [
       "<IPython.core.display.Markdown object>"
      ]
     },
     "metadata": {},
     "output_type": "display_data"
    },
    {
     "name": "stdout",
     "output_type": "stream",
     "text": [
      "Session classinsight-cmu_17214B_ph_a21_201905011030-front not in session filter list, skipping...\n",
      "Session classinsight-cmu_05681A_ghc_4301_201901301630-front not in session filter list, skipping...\n",
      "Session classinsight-cmu_05681A_ghc_4301_201902061630-front not in session filter list, skipping...\n",
      "Session classinsight-cmu_05681A_ghc_4301_201902131633-front not in session filter list, skipping...\n",
      "Session classinsight-cmu_05681A_ghc_4301_201902201630-front not in session filter list, skipping...\n",
      "Session classinsight-cmu_05681A_ghc_4301_201902271630-front not in session filter list, skipping...\n",
      "Session classinsight-cmu_05681A_ghc_4301_201902271718-front not in session filter list, skipping...\n",
      "Session classinsight-cmu_05681A_ghc_4301_201903131630-front not in session filter list, skipping...\n",
      "Session classinsight-cmu_05681A_ghc_4301_201903201630-front not in session filter list, skipping...\n",
      "Session classinsight-cmu_05681A_ghc_4301_201903271630-front not in session filter list, skipping...\n",
      "Session classinsight-cmu_05681A_ghc_4301_201904031630-front not in session filter list, skipping...\n",
      "Session classinsight-cmu_05681A_ghc_4301_201904101630-front not in session filter list, skipping...\n",
      "Session classinsight-cmu_05681A_ghc_4301_201904171630-front not in session filter list, skipping...\n",
      "Session classinsight-cmu_05681A_ghc_4301_201901231630-front not in session filter list, skipping...\n",
      "Session classinsight-cmu_05681A_ghc_4301_201904241630-front not in session filter list, skipping...\n",
      "Session classinsight-cmu_05681A_ghc_4301_201905011630-front not in session filter list, skipping...\n",
      "Session classinsight-cmu_24352A_ghc_4211_201902121330-front not in session filter list, skipping...\n",
      "Session classinsight-cmu_24352A_ghc_4211_201902191330-front not in session filter list, skipping...\n",
      "Session classinsight-cmu_24352C_ghc_4211_201901291530-front not in session filter list, skipping...\n",
      "Session classinsight-cmu_24352C_ghc_4211_201902051530-front not in session filter list, skipping...\n",
      "Session classinsight-cmu_24352C_ghc_4211_201902121530-front not in session filter list, skipping...\n",
      "Session classinsight-cmu_24352C_ghc_4211_201902191530-front not in session filter list, skipping...\n",
      "Session classinsight-cmu_24352C_ghc_4211_201902261530-front not in session filter list, skipping...\n",
      "Session classinsight-cmu_86375A_ghc_4101_201910071325-front not in session filter list, skipping...\n",
      "Session classinsight-cmu_86375A_ghc_4101_201910141328-front not in session filter list, skipping...\n"
     ]
    }
   ],
   "source": [
    "# writing a generic loop to get embedding info from all courses in frame file data\n",
    "# MAX_GAZE_DEVIATION_DEG = 30\n",
    "# MIN_EMBEDDING_FRAMES = 100\n",
    "# CLU_EPS = 0.4\n",
    "# CLU_MIN_PTS = 100\n",
    "# np.random.seed(42)\n",
    "\n",
    "for course_idx, course in enumerate(frame_file_data):\n",
    "    for session_idx, session_id in enumerate(frame_file_data[course]):\n",
    "        if session_id.split(\"-front\")[0] not in session_filter_list:\n",
    "            print(f\"Session {session_id} not in session filter list, skipping...\")\n",
    "            continue\n",
    "        cross_session_input_cache_file = f\"{reid_cross_session_input_data_dir}/{session_id}.pb\"\n",
    "        try:\n",
    "            if not os.path.exists(cross_session_input_cache_file):\n",
    "                printm(f\"## Building cross session input info for session: {course_idx}-{course}, session:{session_idx}-{session_id}\")\n",
    "                session_emb_info = pickle.load(open(f'{reid_analysis_session_data}/{session_id}.pb','rb'))\n",
    "                session_id_map = pickle.load(open(f\"{postprocessed_id_map_data_dir}/{session_id}.pb\",\"rb\"))\n",
    "                df_session_eligible_pairs = pd.read_csv(f\"{embmatched_id_map_data_dir}/{session_id}.csv\")\n",
    "                \n",
    "                # Correct new ids with dict from eligible pairs\n",
    "                eligible_id_map_dict = {}\n",
    "                for id_pair in df_session_eligible_pairs.id_pair.values:\n",
    "                    (id1, id2) = eval(id_pair)\n",
    "                    print(id1, id2)\n",
    "                    if id2 in eligible_id_map_dict:\n",
    "                        eligible_id_map_dict[id1] = eligible_id_map_dict[id2]\n",
    "                    else:\n",
    "                        eligible_id_map_dict[id2] = id1\n",
    "                \n",
    "                sprint(eligible_id_map_dict)\n",
    "\n",
    "                # correct created eligible map for once more\n",
    "                for key in sorted(list(eligible_id_map_dict.keys())):\n",
    "                    key_value = eligible_id_map_dict[key]\n",
    "                    if key_value in eligible_id_map_dict.keys():\n",
    "                        eligible_id_map_dict[key] = eligible_id_map_dict[key_value]\n",
    "                sprint(\"Corrected\", eligible_id_map_dict) \n",
    "\n",
    "                sprint(\"replacing ids in old to new id maps\")\n",
    "                for old_id in session_id_map:\n",
    "                    if session_id_map[old_id] in eligible_id_map_dict:\n",
    "                        print(f\"replacing {old_id}:{session_id_map[old_id]} -->{eligible_id_map_dict[session_id_map[old_id]]}\")\n",
    "                        session_id_map[old_id] = eligible_id_map_dict[session_id_map[old_id]]\n",
    "                # sprint({kr:old_to_new_id_map[kr] for kr in old_to_new_id_map if (not old_to_new_id_map[kr]==10000)}) \n",
    "\n",
    "                # Replace raw ids with mapped ids after postprocessing for both sessions\n",
    "                session_emb_info = {\n",
    "                    xr:{\n",
    "                        session_id_map[yr]:session_emb_info[xr][yr] \n",
    "                            for yr in session_emb_info[xr] if not (session_id_map[yr]==10000)} for xr in session_emb_info}\n",
    "\n",
    "                # arrange info as per tracking id across both sessions\n",
    "                bbox_info = {}\n",
    "                emb_info = {}\n",
    "                for frame_number in session_emb_info:\n",
    "                    for trackId in session_emb_info[frame_number]:\n",
    "                        # trackId = trackId_old if (trackId_old not in eligible_id_map_dict.keys()) else eligible_id_map_dict[trackId_old]\n",
    "                        if trackId not in emb_info:\n",
    "                            emb_info[trackId]=[]\n",
    "                            bbox_info[trackId] = []\n",
    "                        # get  gaze info\n",
    "                        try:\n",
    "                            id_bbox = session_emb_info[frame_number][trackId]['bbox']\n",
    "                            bbox_info[trackId].append([frame_number]+list(id_bbox))\n",
    "                            body_emb = session_emb_info[frame_number][trackId]['reid_embedding'].tolist()\n",
    "                            emb_info[trackId].append([frame_number]+body_emb)\n",
    "                        except:\n",
    "                            continue\n",
    "                \n",
    "                for id in emb_info:\n",
    "                    emb_info[id] =pd.DataFrame(emb_info[id], columns=['frame']+np.arange(512).tolist()).set_index('frame')\n",
    "                    bbox_info[id] = pd.DataFrame(bbox_info[id], columns=['frame']+np.arange(5).tolist()).set_index('frame')\n",
    "\n",
    "                \n",
    "                sprint({xr:(emb_info[xr].shape[0], bbox_info[xr].shape[0]) for xr in emb_info})\n",
    "\n",
    "                # get cluster based embeddings\n",
    "                cluster_based_emb = {}\n",
    "                for sid in emb_info:\n",
    "                    cluster_based_emb[sid] = np.median(emb_info[sid],axis=0)\n",
    "                    sprint(f\"Got reid embedding for {sid}\")\n",
    "\n",
    "                # get complete information needed for a given id for cross-session id tracking\n",
    "                session_id_info = {}\n",
    "                for sid in sorted(emb_info.keys()):\n",
    "                    sample_df =deepcopy(bbox_info[sid])\n",
    "                    \n",
    "                    sample_df['bbox_width'] = sample_df[2]-sample_df[0]\n",
    "                    sample_df['bbox_height'] = sample_df[3]-sample_df[1]\n",
    "                    sample_df['bbox_x'] = (sample_df[2]+sample_df[0]) / 2\n",
    "                    sample_df['bbox_y'] = (sample_df[3]+sample_df[1]) / 2\n",
    "\n",
    "                    bbox_width_med, bbox_height_med = sample_df['bbox_width'].median(), sample_df['bbox_height'].median()\n",
    "                    bbox_width_iqd = sample_df['bbox_width'].quantile(0.75) - sample_df['bbox_width'].quantile(0.25)\n",
    "                    bbox_height_iqd = sample_df['bbox_height'].quantile(0.75) - sample_df['bbox_height'].quantile(0.25)\n",
    "                    bbox_x_med, bbox_y_med = sample_df['bbox_x'].median(), sample_df['bbox_x'].median()\n",
    "                    bbox_x_iqd = sample_df['bbox_x'].quantile(0.75) - sample_df['bbox_x'].quantile(0.25)\n",
    "                    bbox_y_iqd = sample_df['bbox_y'].quantile(0.75) - sample_df['bbox_y'].quantile(0.25)\n",
    "\n",
    "                    session_id_info[sid] = dict(bbox_width_med=bbox_width_med, bbox_height_med=bbox_height_med,bbox_width_iqd=bbox_width_iqd, bbox_height_iqd=bbox_height_iqd,\n",
    "                                         bbox_x_med=bbox_x_med, bbox_y_med=bbox_y_med, bbox_x_iqd=bbox_x_iqd, bbox_y_iqd=bbox_y_iqd, \n",
    "                                         cluster_emb = cluster_based_emb.get(sid, None))\n",
    "                \n",
    "                # sprint(sid, face_width_med, face_width_iqd, face_height_med, face_height_iqd, face_x_med, face_x_iqd, face_y_med, face_y_iqd)\n",
    "                pickle.dump(session_id_info, open(cross_session_input_cache_file,'wb'))\n",
    "                printm(f\"### Got cross session input info for session: {course_idx}-{course}, session:{session_idx}-{session_id}\")\n",
    "            else:\n",
    "                ...\n",
    "                printm(f\"## FILE EXISTS: cross session input info for session: {course_idx}-{course}, session:{session_idx}-{session_id}\")\n",
    "        except:\n",
    "            print(f\"ERROR: Unable to get cross session input info for: {course_idx}-{course}, session:{session_idx}-{session_id}\")\n",
    "            print(traceback.format_exc())\n",
    "    "
   ]
  },
  {
   "cell_type": "code",
   "execution_count": null,
   "id": "a831a29d-6dc0-43cf-9806-d9fd969d66df",
   "metadata": {},
   "outputs": [],
   "source": []
  }
 ],
 "metadata": {
  "kernelspec": {
   "display_name": "Python 3 (ipykernel)",
   "language": "python",
   "name": "python3"
  },
  "language_info": {
   "codemirror_mode": {
    "name": "ipython",
    "version": 3
   },
   "file_extension": ".py",
   "mimetype": "text/x-python",
   "name": "python",
   "nbconvert_exporter": "python",
   "pygments_lexer": "ipython3",
   "version": "3.9.16"
  }
 },
 "nbformat": 4,
 "nbformat_minor": 5
}

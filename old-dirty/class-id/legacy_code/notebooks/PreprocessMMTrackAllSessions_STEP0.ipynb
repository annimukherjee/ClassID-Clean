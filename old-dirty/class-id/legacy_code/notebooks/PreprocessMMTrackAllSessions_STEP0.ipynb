{
 "cells": [
  {
   "cell_type": "code",
   "execution_count": 9,
   "id": "13f1bf94-25d4-4ed1-bddd-bc3309763692",
   "metadata": {},
   "outputs": [
    {
     "name": "stderr",
     "output_type": "stream",
     "text": [
      "/Users/annimukh/miniconda3/envs/classid/lib/python3.8/site-packages/tqdm/auto.py:21: TqdmWarning: IProgress not found. Please update jupyter and ipywidgets. See https://ipywidgets.readthedocs.io/en/stable/user_install.html\n",
      "  from .autonotebook import tqdm as notebook_tqdm\n"
     ]
    },
    {
     "ename": "ModuleNotFoundError",
     "evalue": "No module named 'mmtrack'",
     "output_type": "error",
     "traceback": [
      "\u001b[0;31m---------------------------------------------------------------------------\u001b[0m",
      "\u001b[0;31mModuleNotFoundError\u001b[0m                       Traceback (most recent call last)",
      "Cell \u001b[0;32mIn[9], line 34\u001b[0m\n\u001b[1;32m     30\u001b[0m \u001b[38;5;66;03m# import mmcv\u001b[39;00m\n\u001b[1;32m     33\u001b[0m \u001b[38;5;28;01mimport\u001b[39;00m\u001b[38;5;250m \u001b[39m\u001b[38;5;21;01mcv2\u001b[39;00m\n\u001b[0;32m---> 34\u001b[0m \u001b[38;5;28;01mfrom\u001b[39;00m\u001b[38;5;250m \u001b[39m\u001b[38;5;21;01mmmtrack\u001b[39;00m\u001b[38;5;21;01m.\u001b[39;00m\u001b[38;5;21;01mapis\u001b[39;00m\u001b[38;5;250m \u001b[39m\u001b[38;5;28;01mimport\u001b[39;00m inference_mot, init_model \u001b[38;5;28;01mas\u001b[39;00m init_tracking_model\n\u001b[1;32m     35\u001b[0m \u001b[38;5;28;01mfrom\u001b[39;00m\u001b[38;5;250m \u001b[39m\u001b[38;5;21;01msmartprint\u001b[39;00m\u001b[38;5;250m \u001b[39m\u001b[38;5;28;01mimport\u001b[39;00m smartprint \u001b[38;5;28;01mas\u001b[39;00m sprint\n\u001b[1;32m     37\u001b[0m pd\u001b[38;5;241m.\u001b[39moptions\u001b[38;5;241m.\u001b[39mdisplay\u001b[38;5;241m.\u001b[39mmax_columns \u001b[38;5;241m=\u001b[39m \u001b[38;5;28;01mNone\u001b[39;00m\n",
      "\u001b[0;31mModuleNotFoundError\u001b[0m: No module named 'mmtrack'"
     ]
    }
   ],
   "source": [
    "import numpy as np\n",
    "import pandas as pd\n",
    "import scipy.stats\n",
    "\n",
    "pd.options.mode.chained_assignment = None\n",
    "from matplotlib import pyplot as plt, rcParams\n",
    "# import cv2\n",
    "import seaborn as sns\n",
    "\n",
    "sns.set(style=\"white\", context=\"paper\")\n",
    "from cycler import cycler\n",
    "import os, sys\n",
    "import glob\n",
    "from datetime import datetime, timedelta\n",
    "from itertools import combinations\n",
    "import base64\n",
    "from PIL import Image\n",
    "from io import BytesIO as _BytesIO\n",
    "import requests\n",
    "import json\n",
    "import pickle\n",
    "from datetime import datetime\n",
    "from IPython.display import display, Markdown, Latex\n",
    "from sklearn.metrics import *\n",
    "import collections\n",
    "from copy import deepcopy\n",
    "import traceback\n",
    "from sympy import Point, Polygon\n",
    "import mmcv\n",
    "# import mmcv\n",
    "\n",
    "\n",
    "import cv2\n",
    "from mmtrack.apis import inference_mot, init_model as init_tracking_model\n",
    "from smartprint import smartprint as sprint\n",
    "\n",
    "pd.options.display.max_columns = None\n",
    "def printm(s): return display(Markdown(s))\n",
    "    \n",
    "SERVER_CACHE_DIR = '/mnt/ci-nas-cache/edulyzeV2/cache_compute_4/fixed_face'\n",
    "os.makedirs(SERVER_CACHE_DIR,exist_ok=True)\n",
    "\n",
    "track_analysis_meta_cache = f'{SERVER_CACHE_DIR}/analysis_tracking/meta_info'\n",
    "os.makedirs(track_analysis_meta_cache,exist_ok=True)\n",
    "\n",
    "base_dir = '/mnt/ci-nas-cache/edulyzeV2/pose_face_gaze_emb_fixed_face'\n",
    "\n",
    "track_analysis_session_data = f'{SERVER_CACHE_DIR}/analysis_tracking/session_tracking_info'\n",
    "os.makedirs(track_analysis_session_data,exist_ok=True)\n",
    "\n",
    "postprocessed_id_map_data_dir = f'{SERVER_CACHE_DIR}/analysis_tracking/processed_id_maps'\n",
    "os.makedirs(postprocessed_id_map_data_dir, exist_ok=True)\n",
    "\n",
    "id_viz_cache_root = f'{SERVER_CACHE_DIR}/analysis_tracking/session_matching_info'\n",
    "os.makedirs(id_viz_cache_root, exist_ok=True)\n"
   ]
  },
  {
   "cell_type": "code",
   "execution_count": 2,
   "id": "14b7da07-3043-4ac0-ace1-8adbf335aef7",
   "metadata": {},
   "outputs": [],
   "source": [
    "session_filter_list = [\n",
    "#  'classinsight-cmu_05681A_ghc_4301_201905011630',\n",
    "#  'classinsight-cmu_05681A_ghc_4301_201904171630',\n",
    "#  'classinsight-cmu_05681A_ghc_4301_201902201630',\n",
    "#  'classinsight-cmu_05681A_ghc_4301_201904101630',\n",
    "#  'classinsight-cmu_05681A_ghc_4301_201901231630',\n",
    " # 'classinsight-cmu_05418A_ghc_4102_201902251200',\n",
    " # 'classinsight-cmu_05418A_ghc_4102_201904081200',\n",
    " # 'classinsight-cmu_05418A_ghc_4102_201905011200',\n",
    " # 'classinsight-cmu_05418A_ghc_4102_201904291200',\n",
    " # 'classinsight-cmu_05418A_ghc_4102_201904011200',\n",
    " # 'classinsight-cmu_05748A_ghc_4101_201902141630',\n",
    " # 'classinsight-cmu_05748A_ghc_4101_201904021630',\n",
    " # 'classinsight-cmu_05748A_ghc_4101_201902051630',\n",
    " # 'classinsight-cmu_05748A_ghc_4101_201902281630',\n",
    " # 'classinsight-cmu_05748A_ghc_4101_201903071630',\n",
    " # 'classinsight-cmu_21127J_ghc_4102_201904230930',\n",
    " # 'classinsight-cmu_21127J_ghc_4102_201903260930',\n",
    " # 'classinsight-cmu_21127J_ghc_4102_201904160930',\n",
    " # 'classinsight-cmu_21127J_ghc_4102_201904300930',\n",
    " # 'classinsight-cmu_21127J_ghc_4102_201903190930',\n",
    " # 'classinsight-cmu_05410A_ghc_4301_201904151500',\n",
    " # 'classinsight-cmu_05410A_ghc_4301_201902251500',\n",
    " # 'classinsight-cmu_05410A_ghc_4301_201904081500',\n",
    " # 'classinsight-cmu_05410A_ghc_4301_201904221500',\n",
    " # 'classinsight-cmu_05410A_ghc_4301_201902181500',\n",
    "                       \n",
    " # 'classinsight-cmu_17214B_ph_a21_201902271030',\n",
    " # 'classinsight-cmu_17214B_ph_a21_201903061030',\n",
    " # 'classinsight-cmu_17214B_ph_a21_201904031030',\n",
    " # 'classinsight-cmu_17214B_ph_a21_201904101030',\n",
    " # 'classinsight-cmu_17214B_ph_a21_201904241030',\n",
    " # 'classinsight-cmu_17214C_ph_225b_201903201130',\n",
    " # 'classinsight-cmu_17214C_ph_225b_201904101130',\n",
    " # 'classinsight-cmu_17214C_ph_225b_201904171130',\n",
    " # 'classinsight-cmu_17214C_ph_225b_201904241130',\n",
    " # 'classinsight-cmu_17214C_ph_225b_201905011130',\n",
    " # 'classinsight-cmu_05410B_ghc_4211_201902111500',\n",
    " # 'classinsight-cmu_05410B_ghc_4211_201903181500',\n",
    " # 'classinsight-cmu_05410B_ghc_4211_201904081500',\n",
    " # 'classinsight-cmu_05410B_ghc_4211_201904151500',\n",
    " # 'classinsight-cmu_05410B_ghc_4211_201904221500',\n",
    " # 'classinsight-cmu_05410B_ghc_4211_201901281500'\n",
    "]\n"
   ]
  },
  {
   "cell_type": "markdown",
   "id": "14ae5c4b-ae69-4d6b-9d54-557dfee4c306",
   "metadata": {},
   "source": [
    "# Cache and get tracking information for sessions\n"
   ]
  },
  {
   "cell_type": "markdown",
   "id": "eed70816-015c-4598-8046-1ca5377bfa46",
   "metadata": {},
   "source": [
    "## Get frame file data for all sessions\n"
   ]
  },
  {
   "cell_type": "code",
   "execution_count": 3,
   "id": "1068d7d9-2363-4909-80c8-4ee878d3d695",
   "metadata": {
    "scrolled": true
   },
   "outputs": [
    {
     "data": {
      "text/plain": [
       "dict_keys(['05748A', '05410B', '17214C', '17214B', '05681A', '24352A', '24352C', '86375A'])"
      ]
     },
     "execution_count": 3,
     "metadata": {},
     "output_type": "execute_result"
    }
   ],
   "source": [
    "\n",
    "frame_file_data = {}\n",
    "for course_idx, course_dir in enumerate(glob.glob(f\"{base_dir}/*\")):\n",
    "    course_name = course_dir.split(\"/\")[-1]\n",
    "    course_cache_file = f\"{track_analysis_meta_cache}/{course_name}\"\n",
    "    if os.path.exists(course_cache_file):\n",
    "        frame_file_data[course_name] = pickle.load(open(course_cache_file,\"rb\"))\n",
    "        continue\n",
    "    frame_file_data[course_name]={}\n",
    "        \n",
    "    for session_idx, session_dir in enumerate(glob.glob(f\"{course_dir}/*\")):\n",
    "        session_name = session_dir.split(\"/\")[-1]\n",
    "        frame_file_data[course_name][session_name] = {}\n",
    "        frame_files = glob.glob(f\"{session_dir}/*\")\n",
    "        frame_file_names = [xr.split(\"/\")[-1] for xr in frame_files]\n",
    "        if 'end.pb' in frame_file_names:\n",
    "            frame_file_data[course_name][session_name]['is_completed']=True\n",
    "        else:\n",
    "            frame_file_data[course_name][session_name]['is_completed']=False            \n",
    "        frame_ids = [int(xr.split(\".\")[0]) for xr in frame_file_names if not (xr=='end.pb')]\n",
    "        frame_file_data[course_name][session_name]['frame_ids'] = sorted(frame_ids)\n",
    "        frame_file_data[course_name][session_name]['dir_location'] = session_dir\n",
    "        print(f\"Got metadata for course: {course_idx}-{course_name}, session:{session_idx}-{session_name}\")\n",
    "    pickle.dump(frame_file_data[course_name],open(course_cache_file,\"wb\")) \n",
    "        \n",
    "        \n",
    "frame_file_data.keys()\n"
   ]
  },
  {
   "cell_type": "markdown",
   "id": "b517b9df-a20b-4eac-b2ed-3efef81ee43c",
   "metadata": {},
   "source": [
    "## Collect tracking data for all sessions\n"
   ]
  },
  {
   "cell_type": "code",
   "execution_count": 4,
   "id": "64ae931e-d099-4637-92e7-9ce11623bda0",
   "metadata": {
    "scrolled": true
   },
   "outputs": [
    {
     "name": "stdout",
     "output_type": "stream",
     "text": [
      "FILE EXISTS: tracking info for session: 0-05748A, session:0-classinsight-cmu_05748A_ghc_4101_201902051630-front\n",
      "FILE EXISTS: tracking info for session: 0-05748A, session:1-classinsight-cmu_05748A_ghc_4101_201902141630-front\n",
      "FILE EXISTS: tracking info for session: 0-05748A, session:2-classinsight-cmu_05748A_ghc_4101_201901291630-front\n",
      "FILE EXISTS: tracking info for session: 0-05748A, session:3-classinsight-cmu_05748A_ghc_4101_201901311630-front\n",
      "FILE EXISTS: tracking info for session: 0-05748A, session:4-classinsight-cmu_05748A_ghc_4101_201902071630-front\n",
      "FILE EXISTS: tracking info for session: 0-05748A, session:5-classinsight-cmu_05748A_ghc_4101_201902121630-front\n",
      "FILE EXISTS: tracking info for session: 0-05748A, session:6-classinsight-cmu_05748A_ghc_4101_201902191630-front\n",
      "FILE EXISTS: tracking info for session: 0-05748A, session:7-classinsight-cmu_05748A_ghc_4101_201902211630-front\n",
      "FILE EXISTS: tracking info for session: 0-05748A, session:8-classinsight-cmu_05748A_ghc_4101_201902281630-front\n",
      "FILE EXISTS: tracking info for session: 0-05748A, session:9-classinsight-cmu_05748A_ghc_4101_201903051630-front\n",
      "FILE EXISTS: tracking info for session: 0-05748A, session:10-classinsight-cmu_05748A_ghc_4101_201903071630-front\n",
      "FILE EXISTS: tracking info for session: 0-05748A, session:11-classinsight-cmu_05748A_ghc_4101_201903121630-front\n",
      "FILE EXISTS: tracking info for session: 0-05748A, session:12-classinsight-cmu_05748A_ghc_4101_201903141630-front\n",
      "FILE EXISTS: tracking info for session: 0-05748A, session:13-classinsight-cmu_05748A_ghc_4101_201903191630-front\n",
      "FILE EXISTS: tracking info for session: 0-05748A, session:14-classinsight-cmu_05748A_ghc_4101_201903211630-front\n",
      "FILE EXISTS: tracking info for session: 0-05748A, session:15-classinsight-cmu_05748A_ghc_4101_201903261630-front\n",
      "FILE EXISTS: tracking info for session: 0-05748A, session:16-classinsight-cmu_05748A_ghc_4101_201903281630-front\n",
      "FILE EXISTS: tracking info for session: 0-05748A, session:17-classinsight-cmu_05748A_ghc_4101_201904021630-front\n",
      "FILE EXISTS: tracking info for session: 0-05748A, session:18-classinsight-cmu_05748A_ghc_4101_201904041630-front\n",
      "FILE EXISTS: tracking info for session: 0-05748A, session:19-classinsight-cmu_05748A_ghc_4101_201904091630-front\n",
      "FILE EXISTS: tracking info for session: 0-05748A, session:20-classinsight-cmu_05748A_ghc_4101_201904111630-front\n",
      "FILE EXISTS: tracking info for session: 0-05748A, session:21-classinsight-cmu_05748A_ghc_4101_201904161630-front\n",
      "FILE EXISTS: tracking info for session: 0-05748A, session:22-classinsight-cmu_05748A_ghc_4101_201904181630-front\n",
      "FILE EXISTS: tracking info for session: 0-05748A, session:23-classinsight-cmu_05748A_ghc_4101_201904231630-front\n",
      "FILE EXISTS: tracking info for session: 0-05748A, session:24-classinsight-cmu_05748A_ghc_4101_201901241630-front\n",
      "FILE EXISTS: tracking info for session: 0-05748A, session:25-classinsight-cmu_05748A_ghc_4101_201904251630-front\n",
      "FILE EXISTS: tracking info for session: 0-05748A, session:26-classinsight-cmu_05748A_ghc_4101_201904301630-front\n",
      "FILE EXISTS: tracking info for session: 0-05748A, session:27-classinsight-cmu_05748A_ghc_4101_201905021630-front\n",
      "FILE EXISTS: tracking info for session: 1-05410B, session:0-classinsight-cmu_05410B_ghc_4211_201901301500-front\n",
      "FILE EXISTS: tracking info for session: 1-05410B, session:1-classinsight-cmu_05410B_ghc_4211_201902041500-front\n",
      "FILE EXISTS: tracking info for session: 1-05410B, session:2-classinsight-cmu_05410B_ghc_4211_201902061500-front\n",
      "FILE EXISTS: tracking info for session: 1-05410B, session:3-classinsight-cmu_05410B_ghc_4211_201902111500-front\n",
      "FILE EXISTS: tracking info for session: 1-05410B, session:4-classinsight-cmu_05410B_ghc_4211_201902131500-front\n",
      "FILE EXISTS: tracking info for session: 1-05410B, session:5-classinsight-cmu_05410B_ghc_4211_201902181500-front\n",
      "FILE EXISTS: tracking info for session: 1-05410B, session:6-classinsight-cmu_05410B_ghc_4211_201902201512-front\n",
      "FILE EXISTS: tracking info for session: 1-05410B, session:7-classinsight-cmu_05410B_ghc_4211_201902251500-front\n",
      "FILE EXISTS: tracking info for session: 1-05410B, session:8-classinsight-cmu_05410B_ghc_4211_201902271500-front\n",
      "FILE EXISTS: tracking info for session: 1-05410B, session:9-classinsight-cmu_05410B_ghc_4211_201903041500-front\n",
      "FILE EXISTS: tracking info for session: 1-05410B, session:10-classinsight-cmu_05410B_ghc_4211_201903111500-front\n",
      "FILE EXISTS: tracking info for session: 1-05410B, session:11-classinsight-cmu_05410B_ghc_4211_201903131500-front\n",
      "FILE EXISTS: tracking info for session: 1-05410B, session:12-classinsight-cmu_05410B_ghc_4211_201903181500-front\n",
      "FILE EXISTS: tracking info for session: 1-05410B, session:13-classinsight-cmu_05410B_ghc_4211_201903201500-front\n",
      "FILE EXISTS: tracking info for session: 1-05410B, session:14-classinsight-cmu_05410B_ghc_4211_201903271500-front\n",
      "FILE EXISTS: tracking info for session: 1-05410B, session:15-classinsight-cmu_05410B_ghc_4211_201904031500-front\n",
      "FILE EXISTS: tracking info for session: 1-05410B, session:16-classinsight-cmu_05410B_ghc_4211_201904081500-front\n",
      "FILE EXISTS: tracking info for session: 1-05410B, session:17-classinsight-cmu_05410B_ghc_4211_201904101500-front\n",
      "FILE EXISTS: tracking info for session: 1-05410B, session:18-classinsight-cmu_05410B_ghc_4211_201904151500-front\n",
      "FILE EXISTS: tracking info for session: 1-05410B, session:19-classinsight-cmu_05410B_ghc_4211_201904171500-front\n",
      "FILE EXISTS: tracking info for session: 1-05410B, session:20-classinsight-cmu_05410B_ghc_4211_201904221500-front\n",
      "FILE EXISTS: tracking info for session: 1-05410B, session:21-classinsight-cmu_05410B_ghc_4211_201901211500-front\n",
      "FILE EXISTS: tracking info for session: 1-05410B, session:22-classinsight-cmu_05410B_ghc_4211_201901231500-front\n",
      "FILE EXISTS: tracking info for session: 1-05410B, session:23-classinsight-cmu_05410B_ghc_4211_201901281500-front\n",
      "FILE EXISTS: tracking info for session: 1-05410B, session:24-classinsight-cmu_05410B_ghc_4211_201904011500-front\n",
      "FILE EXISTS: tracking info for session: 1-05410B, session:25-classinsight-cmu_05410B_ghc_4211_201904241500-front\n",
      "FILE EXISTS: tracking info for session: 1-05410B, session:26-classinsight-cmu_05410B_ghc_4211_201904291500-front\n",
      "FILE EXISTS: tracking info for session: 1-05410B, session:27-classinsight-cmu_05410B_ghc_4211_201905011500-front\n",
      "FILE EXISTS: tracking info for session: 2-17214C, session:0-classinsight-cmu_17214C_ph_225b_201903201130-front\n",
      "FILE EXISTS: tracking info for session: 2-17214C, session:1-classinsight-cmu_17214C_ph_225b_201904031130-front\n",
      "FILE EXISTS: tracking info for session: 2-17214C, session:2-classinsight-cmu_17214C_ph_225b_201904101130-front\n",
      "FILE EXISTS: tracking info for session: 2-17214C, session:3-classinsight-cmu_17214C_ph_225b_201904171130-front\n",
      "FILE EXISTS: tracking info for session: 2-17214C, session:4-classinsight-cmu_17214C_ph_225b_201904241130-front\n",
      "FILE EXISTS: tracking info for session: 2-17214C, session:5-classinsight-cmu_17214C_ph_225b_201905011130-front\n",
      "FILE EXISTS: tracking info for session: 3-17214B, session:0-classinsight-cmu_17214B_ph_a21_201901301030-front\n",
      "FILE EXISTS: tracking info for session: 3-17214B, session:1-classinsight-cmu_17214B_ph_a21_201902271030-front\n",
      "FILE EXISTS: tracking info for session: 3-17214B, session:2-classinsight-cmu_17214B_ph_a21_201903061030-front\n",
      "FILE EXISTS: tracking info for session: 3-17214B, session:3-classinsight-cmu_17214B_ph_a21_201903131030-front\n",
      "FILE EXISTS: tracking info for session: 3-17214B, session:4-classinsight-cmu_17214B_ph_a21_201903201030-front\n",
      "FILE EXISTS: tracking info for session: 3-17214B, session:5-classinsight-cmu_17214B_ph_a21_201904031030-front\n",
      "FILE EXISTS: tracking info for session: 3-17214B, session:6-classinsight-cmu_17214B_ph_a21_201904101030-front\n",
      "FILE EXISTS: tracking info for session: 3-17214B, session:7-classinsight-cmu_17214B_ph_a21_201904171030-front\n",
      "FILE EXISTS: tracking info for session: 3-17214B, session:8-classinsight-cmu_17214B_ph_a21_201902131045-front\n",
      "FILE EXISTS: tracking info for session: 3-17214B, session:9-classinsight-cmu_17214B_ph_a21_201904241030-front\n",
      "FILE EXISTS: tracking info for session: 3-17214B, session:10-classinsight-cmu_17214B_ph_a21_201905011030-front\n",
      "FILE EXISTS: tracking info for session: 4-05681A, session:0-classinsight-cmu_05681A_ghc_4301_201901301630-front\n",
      "FILE EXISTS: tracking info for session: 4-05681A, session:1-classinsight-cmu_05681A_ghc_4301_201902061630-front\n",
      "FILE EXISTS: tracking info for session: 4-05681A, session:2-classinsight-cmu_05681A_ghc_4301_201902131633-front\n",
      "FILE EXISTS: tracking info for session: 4-05681A, session:3-classinsight-cmu_05681A_ghc_4301_201902201630-front\n",
      "FILE EXISTS: tracking info for session: 4-05681A, session:4-classinsight-cmu_05681A_ghc_4301_201902271630-front\n",
      "FILE EXISTS: tracking info for session: 4-05681A, session:5-classinsight-cmu_05681A_ghc_4301_201902271718-front\n",
      "FILE EXISTS: tracking info for session: 4-05681A, session:6-classinsight-cmu_05681A_ghc_4301_201903131630-front\n",
      "FILE EXISTS: tracking info for session: 4-05681A, session:7-classinsight-cmu_05681A_ghc_4301_201903201630-front\n",
      "FILE EXISTS: tracking info for session: 4-05681A, session:8-classinsight-cmu_05681A_ghc_4301_201903271630-front\n",
      "FILE EXISTS: tracking info for session: 4-05681A, session:9-classinsight-cmu_05681A_ghc_4301_201904031630-front\n",
      "FILE EXISTS: tracking info for session: 4-05681A, session:10-classinsight-cmu_05681A_ghc_4301_201904101630-front\n",
      "FILE EXISTS: tracking info for session: 4-05681A, session:11-classinsight-cmu_05681A_ghc_4301_201904171630-front\n",
      "FILE EXISTS: tracking info for session: 4-05681A, session:12-classinsight-cmu_05681A_ghc_4301_201901231630-front\n",
      "FILE EXISTS: tracking info for session: 4-05681A, session:13-classinsight-cmu_05681A_ghc_4301_201904241630-front\n",
      "FILE EXISTS: tracking info for session: 4-05681A, session:14-classinsight-cmu_05681A_ghc_4301_201905011630-front\n",
      "FILE EXISTS: tracking info for session: 5-24352A, session:0-classinsight-cmu_24352A_ghc_4211_201902121330-front\n",
      "FILE EXISTS: tracking info for session: 5-24352A, session:1-classinsight-cmu_24352A_ghc_4211_201902191330-front\n",
      "FILE EXISTS: tracking info for session: 6-24352C, session:0-classinsight-cmu_24352C_ghc_4211_201901291530-front\n",
      "FILE EXISTS: tracking info for session: 6-24352C, session:1-classinsight-cmu_24352C_ghc_4211_201902051530-front\n",
      "FILE EXISTS: tracking info for session: 6-24352C, session:2-classinsight-cmu_24352C_ghc_4211_201902121530-front\n",
      "FILE EXISTS: tracking info for session: 6-24352C, session:3-classinsight-cmu_24352C_ghc_4211_201902191530-front\n",
      "FILE EXISTS: tracking info for session: 6-24352C, session:4-classinsight-cmu_24352C_ghc_4211_201902261530-front\n",
      "FILE EXISTS: tracking info for session: 7-86375A, session:0-classinsight-cmu_86375A_ghc_4101_201910071325-front\n",
      "FILE EXISTS: tracking info for session: 7-86375A, session:1-classinsight-cmu_86375A_ghc_4101_201910141328-front\n"
     ]
    }
   ],
   "source": [
    "# writing a generic loop to get only-tracking info from all courses in frame file data, but putting a filter ahead\n",
    "\n",
    "for course_idx, course in enumerate(frame_file_data):\n",
    "    for session_idx, session_id in enumerate(frame_file_data[course]):\n",
    "        session_tracking_cache_file = f\"{track_analysis_session_data}/{session_id}.pb\"\n",
    "        # if session_id.split(\"-front\")[0] not in session_filter_list:\n",
    "        #     print(f\"Session {session_id} not in session filter list, skipping...\")\n",
    "        #     continue\n",
    "        try:\n",
    "a                print(f\"Got tracking info for session: {course_idx}-{course}, session:{session_idx}-{session_id}\")\n",
    "            else:\n",
    "                ...\n",
    "                print(f\"FILE EXISTS: tracking info for session: {course_idx}-{course}, session:{session_idx}-{session_id}\")\n",
    "        except:\n",
    "            print(f\"ERROR: Unable to get session tracking for: {course_idx}-{course}, session:{session_idx}-{session_id}\")\n",
    "            unfinished_sessions.append((course, session_id))\n",
    "            print(traceback.format_exc())\n",
    "    "
   ]
  },
  {
   "cell_type": "markdown",
   "id": "4b0bbcd1-d9c5-401f-a2dc-d9ed115f0daf",
   "metadata": {},
   "source": [
    "## Postprocess mmtrack results and create a new tracking map from older tracking ids\n"
   ]
  },
  {
   "cell_type": "markdown",
   "id": "86fc0025-35e5-4c7e-8f30-bc174f31bafe",
   "metadata": {},
   "source": [
    "### Run id filtering and mapping for all sessions\n"
   ]
  },
  {
   "cell_type": "code",
   "execution_count": null,
   "id": "d2e5d8da-4bd2-41da-ad90-a5305ce8980e",
   "metadata": {
    "scrolled": true
   },
   "outputs": [
    {
     "data": {
      "text/markdown": [
       "## FILE EXISTS: ID Map for session: 0-05748A, session:0-classinsight-cmu_05748A_ghc_4101_201902051630-front"
      ],
      "text/plain": [
       "<IPython.core.display.Markdown object>"
      ]
     },
     "metadata": {},
     "output_type": "display_data"
    },
    {
     "data": {
      "text/markdown": [
       "## FILE EXISTS: ID Map for session: 0-05748A, session:1-classinsight-cmu_05748A_ghc_4101_201902141630-front"
      ],
      "text/plain": [
       "<IPython.core.display.Markdown object>"
      ]
     },
     "metadata": {},
     "output_type": "display_data"
    },
    {
     "data": {
      "text/markdown": [
       "# 0-05748A, session:2-classinsight-cmu_05748A_ghc_4101_201901291630-front"
      ],
      "text/plain": [
       "<IPython.core.display.Markdown object>"
      ]
     },
     "metadata": {},
     "output_type": "display_data"
    },
    {
     "data": {
      "text/markdown": [
       "## Raw tracking shape:(11870, 666)"
      ],
      "text/plain": [
       "<IPython.core.display.Markdown object>"
      ]
     },
     "metadata": {},
     "output_type": "display_data"
    },
    {
     "data": {
      "text/markdown": [
       "## Filter non-persistentids"
      ],
      "text/plain": [
       "<IPython.core.display.Markdown object>"
      ]
     },
     "metadata": {},
     "output_type": "display_data"
    },
    {
     "data": {
      "text/markdown": [
       "### Total ids before filtering: 666"
      ],
      "text/plain": [
       "<IPython.core.display.Markdown object>"
      ]
     },
     "metadata": {},
     "output_type": "display_data"
    },
    {
     "data": {
      "text/markdown": [
       "### Total ids after filtering: 52"
      ],
      "text/plain": [
       "<IPython.core.display.Markdown object>"
      ]
     },
     "metadata": {},
     "output_type": "display_data"
    },
    {
     "data": {
      "text/markdown": [
       "## Map ids into one based on bbox overlap and id start/stop distance"
      ],
      "text/plain": [
       "<IPython.core.display.Markdown object>"
      ]
     },
     "metadata": {},
     "output_type": "display_data"
    },
    {
     "data": {
      "text/markdown": [
       "### Total ids after mapping: 33"
      ],
      "text/plain": [
       "<IPython.core.display.Markdown object>"
      ]
     },
     "metadata": {},
     "output_type": "display_data"
    },
    {
     "data": {
      "text/markdown": [
       "## Assign new ids to final set of postprocessed ids"
      ],
      "text/plain": [
       "<IPython.core.display.Markdown object>"
      ]
     },
     "metadata": {},
     "output_type": "display_data"
    },
    {
     "data": {
      "text/markdown": [
       "## Created ID Map for session: 0-05748A, session:2-classinsight-cmu_05748A_ghc_4101_201901291630-front from 666 to 33 ids"
      ],
      "text/plain": [
       "<IPython.core.display.Markdown object>"
      ]
     },
     "metadata": {},
     "output_type": "display_data"
    },
    {
     "data": {
      "text/markdown": [
       "# 0-05748A, session:3-classinsight-cmu_05748A_ghc_4101_201901311630-front"
      ],
      "text/plain": [
       "<IPython.core.display.Markdown object>"
      ]
     },
     "metadata": {},
     "output_type": "display_data"
    },
    {
     "data": {
      "text/markdown": [
       "## Raw tracking shape:(11933, 4)"
      ],
      "text/plain": [
       "<IPython.core.display.Markdown object>"
      ]
     },
     "metadata": {},
     "output_type": "display_data"
    },
    {
     "data": {
      "text/markdown": [
       "## Filter non-persistentids"
      ],
      "text/plain": [
       "<IPython.core.display.Markdown object>"
      ]
     },
     "metadata": {},
     "output_type": "display_data"
    },
    {
     "data": {
      "text/markdown": [
       "### Total ids before filtering: 4"
      ],
      "text/plain": [
       "<IPython.core.display.Markdown object>"
      ]
     },
     "metadata": {},
     "output_type": "display_data"
    },
    {
     "data": {
      "text/markdown": [
       "### Total ids after filtering: 0"
      ],
      "text/plain": [
       "<IPython.core.display.Markdown object>"
      ]
     },
     "metadata": {},
     "output_type": "display_data"
    },
    {
     "data": {
      "text/markdown": [
       "## Map ids into one based on bbox overlap and id start/stop distance"
      ],
      "text/plain": [
       "<IPython.core.display.Markdown object>"
      ]
     },
     "metadata": {},
     "output_type": "display_data"
    },
    {
     "data": {
      "text/markdown": [
       "### Total ids after mapping: 0"
      ],
      "text/plain": [
       "<IPython.core.display.Markdown object>"
      ]
     },
     "metadata": {},
     "output_type": "display_data"
    },
    {
     "data": {
      "text/markdown": [
       "## Assign new ids to final set of postprocessed ids"
      ],
      "text/plain": [
       "<IPython.core.display.Markdown object>"
      ]
     },
     "metadata": {},
     "output_type": "display_data"
    },
    {
     "data": {
      "text/markdown": [
       "## Created ID Map for session: 0-05748A, session:3-classinsight-cmu_05748A_ghc_4101_201901311630-front from 4 to 0 ids"
      ],
      "text/plain": [
       "<IPython.core.display.Markdown object>"
      ]
     },
     "metadata": {},
     "output_type": "display_data"
    },
    {
     "data": {
      "text/markdown": [
       "# 0-05748A, session:4-classinsight-cmu_05748A_ghc_4101_201902071630-front"
      ],
      "text/plain": [
       "<IPython.core.display.Markdown object>"
      ]
     },
     "metadata": {},
     "output_type": "display_data"
    },
    {
     "data": {
      "text/markdown": [
       "## Raw tracking shape:(11909, 1335)"
      ],
      "text/plain": [
       "<IPython.core.display.Markdown object>"
      ]
     },
     "metadata": {},
     "output_type": "display_data"
    },
    {
     "data": {
      "text/markdown": [
       "## Filter non-persistentids"
      ],
      "text/plain": [
       "<IPython.core.display.Markdown object>"
      ]
     },
     "metadata": {},
     "output_type": "display_data"
    },
    {
     "data": {
      "text/markdown": [
       "### Total ids before filtering: 1335"
      ],
      "text/plain": [
       "<IPython.core.display.Markdown object>"
      ]
     },
     "metadata": {},
     "output_type": "display_data"
    },
    {
     "data": {
      "text/markdown": [
       "### Total ids after filtering: 53"
      ],
      "text/plain": [
       "<IPython.core.display.Markdown object>"
      ]
     },
     "metadata": {},
     "output_type": "display_data"
    },
    {
     "data": {
      "text/markdown": [
       "## Map ids into one based on bbox overlap and id start/stop distance"
      ],
      "text/plain": [
       "<IPython.core.display.Markdown object>"
      ]
     },
     "metadata": {},
     "output_type": "display_data"
    },
    {
     "data": {
      "text/markdown": [
       "### Total ids after mapping: 37"
      ],
      "text/plain": [
       "<IPython.core.display.Markdown object>"
      ]
     },
     "metadata": {},
     "output_type": "display_data"
    },
    {
     "data": {
      "text/markdown": [
       "## Assign new ids to final set of postprocessed ids"
      ],
      "text/plain": [
       "<IPython.core.display.Markdown object>"
      ]
     },
     "metadata": {},
     "output_type": "display_data"
    },
    {
     "data": {
      "text/markdown": [
       "## Created ID Map for session: 0-05748A, session:4-classinsight-cmu_05748A_ghc_4101_201902071630-front from 1335 to 37 ids"
      ],
      "text/plain": [
       "<IPython.core.display.Markdown object>"
      ]
     },
     "metadata": {},
     "output_type": "display_data"
    },
    {
     "data": {
      "text/markdown": [
       "# 0-05748A, session:5-classinsight-cmu_05748A_ghc_4101_201902121630-front"
      ],
      "text/plain": [
       "<IPython.core.display.Markdown object>"
      ]
     },
     "metadata": {},
     "output_type": "display_data"
    },
    {
     "data": {
      "text/markdown": [
       "## Raw tracking shape:(5260, 177)"
      ],
      "text/plain": [
       "<IPython.core.display.Markdown object>"
      ]
     },
     "metadata": {},
     "output_type": "display_data"
    },
    {
     "data": {
      "text/markdown": [
       "## Filter non-persistentids"
      ],
      "text/plain": [
       "<IPython.core.display.Markdown object>"
      ]
     },
     "metadata": {},
     "output_type": "display_data"
    },
    {
     "data": {
      "text/markdown": [
       "### Total ids before filtering: 177"
      ],
      "text/plain": [
       "<IPython.core.display.Markdown object>"
      ]
     },
     "metadata": {},
     "output_type": "display_data"
    },
    {
     "data": {
      "text/markdown": [
       "### Total ids after filtering: 30"
      ],
      "text/plain": [
       "<IPython.core.display.Markdown object>"
      ]
     },
     "metadata": {},
     "output_type": "display_data"
    },
    {
     "data": {
      "text/markdown": [
       "## Map ids into one based on bbox overlap and id start/stop distance"
      ],
      "text/plain": [
       "<IPython.core.display.Markdown object>"
      ]
     },
     "metadata": {},
     "output_type": "display_data"
    },
    {
     "data": {
      "text/markdown": [
       "### Total ids after mapping: 21"
      ],
      "text/plain": [
       "<IPython.core.display.Markdown object>"
      ]
     },
     "metadata": {},
     "output_type": "display_data"
    },
    {
     "data": {
      "text/markdown": [
       "## Assign new ids to final set of postprocessed ids"
      ],
      "text/plain": [
       "<IPython.core.display.Markdown object>"
      ]
     },
     "metadata": {},
     "output_type": "display_data"
    },
    {
     "data": {
      "text/markdown": [
       "## Created ID Map for session: 0-05748A, session:5-classinsight-cmu_05748A_ghc_4101_201902121630-front from 177 to 21 ids"
      ],
      "text/plain": [
       "<IPython.core.display.Markdown object>"
      ]
     },
     "metadata": {},
     "output_type": "display_data"
    },
    {
     "data": {
      "text/markdown": [
       "# 0-05748A, session:6-classinsight-cmu_05748A_ghc_4101_201902191630-front"
      ],
      "text/plain": [
       "<IPython.core.display.Markdown object>"
      ]
     },
     "metadata": {},
     "output_type": "display_data"
    },
    {
     "data": {
      "text/markdown": [
       "## Raw tracking shape:(5276, 360)"
      ],
      "text/plain": [
       "<IPython.core.display.Markdown object>"
      ]
     },
     "metadata": {},
     "output_type": "display_data"
    },
    {
     "data": {
      "text/markdown": [
       "## Filter non-persistentids"
      ],
      "text/plain": [
       "<IPython.core.display.Markdown object>"
      ]
     },
     "metadata": {},
     "output_type": "display_data"
    },
    {
     "data": {
      "text/markdown": [
       "### Total ids before filtering: 360"
      ],
      "text/plain": [
       "<IPython.core.display.Markdown object>"
      ]
     },
     "metadata": {},
     "output_type": "display_data"
    },
    {
     "data": {
      "text/markdown": [
       "### Total ids after filtering: 26"
      ],
      "text/plain": [
       "<IPython.core.display.Markdown object>"
      ]
     },
     "metadata": {},
     "output_type": "display_data"
    },
    {
     "data": {
      "text/markdown": [
       "## Map ids into one based on bbox overlap and id start/stop distance"
      ],
      "text/plain": [
       "<IPython.core.display.Markdown object>"
      ]
     },
     "metadata": {},
     "output_type": "display_data"
    },
    {
     "data": {
      "text/markdown": [
       "### Total ids after mapping: 21"
      ],
      "text/plain": [
       "<IPython.core.display.Markdown object>"
      ]
     },
     "metadata": {},
     "output_type": "display_data"
    },
    {
     "data": {
      "text/markdown": [
       "## Assign new ids to final set of postprocessed ids"
      ],
      "text/plain": [
       "<IPython.core.display.Markdown object>"
      ]
     },
     "metadata": {},
     "output_type": "display_data"
    },
    {
     "data": {
      "text/markdown": [
       "## Created ID Map for session: 0-05748A, session:6-classinsight-cmu_05748A_ghc_4101_201902191630-front from 360 to 21 ids"
      ],
      "text/plain": [
       "<IPython.core.display.Markdown object>"
      ]
     },
     "metadata": {},
     "output_type": "display_data"
    },
    {
     "data": {
      "text/markdown": [
       "# 0-05748A, session:7-classinsight-cmu_05748A_ghc_4101_201902211630-front"
      ],
      "text/plain": [
       "<IPython.core.display.Markdown object>"
      ]
     },
     "metadata": {},
     "output_type": "display_data"
    },
    {
     "data": {
      "text/markdown": [
       "## Raw tracking shape:(23889, 1162)"
      ],
      "text/plain": [
       "<IPython.core.display.Markdown object>"
      ]
     },
     "metadata": {},
     "output_type": "display_data"
    },
    {
     "data": {
      "text/markdown": [
       "## Filter non-persistentids"
      ],
      "text/plain": [
       "<IPython.core.display.Markdown object>"
      ]
     },
     "metadata": {},
     "output_type": "display_data"
    },
    {
     "data": {
      "text/markdown": [
       "### Total ids before filtering: 1162"
      ],
      "text/plain": [
       "<IPython.core.display.Markdown object>"
      ]
     },
     "metadata": {},
     "output_type": "display_data"
    },
    {
     "data": {
      "text/markdown": [
       "### Total ids after filtering: 47"
      ],
      "text/plain": [
       "<IPython.core.display.Markdown object>"
      ]
     },
     "metadata": {},
     "output_type": "display_data"
    },
    {
     "data": {
      "text/markdown": [
       "## Map ids into one based on bbox overlap and id start/stop distance"
      ],
      "text/plain": [
       "<IPython.core.display.Markdown object>"
      ]
     },
     "metadata": {},
     "output_type": "display_data"
    },
    {
     "data": {
      "text/markdown": [
       "### Total ids after mapping: 32"
      ],
      "text/plain": [
       "<IPython.core.display.Markdown object>"
      ]
     },
     "metadata": {},
     "output_type": "display_data"
    },
    {
     "data": {
      "text/markdown": [
       "## Assign new ids to final set of postprocessed ids"
      ],
      "text/plain": [
       "<IPython.core.display.Markdown object>"
      ]
     },
     "metadata": {},
     "output_type": "display_data"
    },
    {
     "data": {
      "text/markdown": [
       "## Created ID Map for session: 0-05748A, session:7-classinsight-cmu_05748A_ghc_4101_201902211630-front from 1162 to 32 ids"
      ],
      "text/plain": [
       "<IPython.core.display.Markdown object>"
      ]
     },
     "metadata": {},
     "output_type": "display_data"
    },
    {
     "data": {
      "text/markdown": [
       "## FILE EXISTS: ID Map for session: 0-05748A, session:8-classinsight-cmu_05748A_ghc_4101_201902281630-front"
      ],
      "text/plain": [
       "<IPython.core.display.Markdown object>"
      ]
     },
     "metadata": {},
     "output_type": "display_data"
    },
    {
     "data": {
      "text/markdown": [
       "# 0-05748A, session:9-classinsight-cmu_05748A_ghc_4101_201903051630-front"
      ],
      "text/plain": [
       "<IPython.core.display.Markdown object>"
      ]
     },
     "metadata": {},
     "output_type": "display_data"
    },
    {
     "data": {
      "text/markdown": [
       "## Raw tracking shape:(21895, 1698)"
      ],
      "text/plain": [
       "<IPython.core.display.Markdown object>"
      ]
     },
     "metadata": {},
     "output_type": "display_data"
    },
    {
     "data": {
      "text/markdown": [
       "## Filter non-persistentids"
      ],
      "text/plain": [
       "<IPython.core.display.Markdown object>"
      ]
     },
     "metadata": {},
     "output_type": "display_data"
    },
    {
     "data": {
      "text/markdown": [
       "### Total ids before filtering: 1698"
      ],
      "text/plain": [
       "<IPython.core.display.Markdown object>"
      ]
     },
     "metadata": {},
     "output_type": "display_data"
    },
    {
     "data": {
      "text/markdown": [
       "### Total ids after filtering: 21"
      ],
      "text/plain": [
       "<IPython.core.display.Markdown object>"
      ]
     },
     "metadata": {},
     "output_type": "display_data"
    },
    {
     "data": {
      "text/markdown": [
       "## Map ids into one based on bbox overlap and id start/stop distance"
      ],
      "text/plain": [
       "<IPython.core.display.Markdown object>"
      ]
     },
     "metadata": {},
     "output_type": "display_data"
    },
    {
     "data": {
      "text/markdown": [
       "### Total ids after mapping: 17"
      ],
      "text/plain": [
       "<IPython.core.display.Markdown object>"
      ]
     },
     "metadata": {},
     "output_type": "display_data"
    },
    {
     "data": {
      "text/markdown": [
       "## Assign new ids to final set of postprocessed ids"
      ],
      "text/plain": [
       "<IPython.core.display.Markdown object>"
      ]
     },
     "metadata": {},
     "output_type": "display_data"
    },
    {
     "data": {
      "text/markdown": [
       "## Created ID Map for session: 0-05748A, session:9-classinsight-cmu_05748A_ghc_4101_201903051630-front from 1698 to 17 ids"
      ],
      "text/plain": [
       "<IPython.core.display.Markdown object>"
      ]
     },
     "metadata": {},
     "output_type": "display_data"
    },
    {
     "data": {
      "text/markdown": [
       "## FILE EXISTS: ID Map for session: 0-05748A, session:10-classinsight-cmu_05748A_ghc_4101_201903071630-front"
      ],
      "text/plain": [
       "<IPython.core.display.Markdown object>"
      ]
     },
     "metadata": {},
     "output_type": "display_data"
    },
    {
     "data": {
      "text/markdown": [
       "# 0-05748A, session:11-classinsight-cmu_05748A_ghc_4101_201903121630-front"
      ],
      "text/plain": [
       "<IPython.core.display.Markdown object>"
      ]
     },
     "metadata": {},
     "output_type": "display_data"
    },
    {
     "data": {
      "text/markdown": [
       "## Raw tracking shape:(22290, 78)"
      ],
      "text/plain": [
       "<IPython.core.display.Markdown object>"
      ]
     },
     "metadata": {},
     "output_type": "display_data"
    },
    {
     "data": {
      "text/markdown": [
       "## Filter non-persistentids"
      ],
      "text/plain": [
       "<IPython.core.display.Markdown object>"
      ]
     },
     "metadata": {},
     "output_type": "display_data"
    },
    {
     "data": {
      "text/markdown": [
       "### Total ids before filtering: 78"
      ],
      "text/plain": [
       "<IPython.core.display.Markdown object>"
      ]
     },
     "metadata": {},
     "output_type": "display_data"
    },
    {
     "data": {
      "text/markdown": [
       "### Total ids after filtering: 1"
      ],
      "text/plain": [
       "<IPython.core.display.Markdown object>"
      ]
     },
     "metadata": {},
     "output_type": "display_data"
    },
    {
     "data": {
      "text/markdown": [
       "## Map ids into one based on bbox overlap and id start/stop distance"
      ],
      "text/plain": [
       "<IPython.core.display.Markdown object>"
      ]
     },
     "metadata": {},
     "output_type": "display_data"
    },
    {
     "data": {
      "text/markdown": [
       "### Total ids after mapping: 1"
      ],
      "text/plain": [
       "<IPython.core.display.Markdown object>"
      ]
     },
     "metadata": {},
     "output_type": "display_data"
    },
    {
     "data": {
      "text/markdown": [
       "## Assign new ids to final set of postprocessed ids"
      ],
      "text/plain": [
       "<IPython.core.display.Markdown object>"
      ]
     },
     "metadata": {},
     "output_type": "display_data"
    },
    {
     "data": {
      "text/markdown": [
       "## Created ID Map for session: 0-05748A, session:11-classinsight-cmu_05748A_ghc_4101_201903121630-front from 78 to 1 ids"
      ],
      "text/plain": [
       "<IPython.core.display.Markdown object>"
      ]
     },
     "metadata": {},
     "output_type": "display_data"
    },
    {
     "data": {
      "text/markdown": [
       "# 0-05748A, session:12-classinsight-cmu_05748A_ghc_4101_201903141630-front"
      ],
      "text/plain": [
       "<IPython.core.display.Markdown object>"
      ]
     },
     "metadata": {},
     "output_type": "display_data"
    },
    {
     "data": {
      "text/markdown": [
       "## Raw tracking shape:(5600, 19)"
      ],
      "text/plain": [
       "<IPython.core.display.Markdown object>"
      ]
     },
     "metadata": {},
     "output_type": "display_data"
    },
    {
     "data": {
      "text/markdown": [
       "## Filter non-persistentids"
      ],
      "text/plain": [
       "<IPython.core.display.Markdown object>"
      ]
     },
     "metadata": {},
     "output_type": "display_data"
    },
    {
     "data": {
      "text/markdown": [
       "### Total ids before filtering: 19"
      ],
      "text/plain": [
       "<IPython.core.display.Markdown object>"
      ]
     },
     "metadata": {},
     "output_type": "display_data"
    },
    {
     "data": {
      "text/markdown": [
       "### Total ids after filtering: 1"
      ],
      "text/plain": [
       "<IPython.core.display.Markdown object>"
      ]
     },
     "metadata": {},
     "output_type": "display_data"
    },
    {
     "data": {
      "text/markdown": [
       "## Map ids into one based on bbox overlap and id start/stop distance"
      ],
      "text/plain": [
       "<IPython.core.display.Markdown object>"
      ]
     },
     "metadata": {},
     "output_type": "display_data"
    },
    {
     "data": {
      "text/markdown": [
       "### Total ids after mapping: 1"
      ],
      "text/plain": [
       "<IPython.core.display.Markdown object>"
      ]
     },
     "metadata": {},
     "output_type": "display_data"
    },
    {
     "data": {
      "text/markdown": [
       "## Assign new ids to final set of postprocessed ids"
      ],
      "text/plain": [
       "<IPython.core.display.Markdown object>"
      ]
     },
     "metadata": {},
     "output_type": "display_data"
    },
    {
     "data": {
      "text/markdown": [
       "## Created ID Map for session: 0-05748A, session:12-classinsight-cmu_05748A_ghc_4101_201903141630-front from 19 to 1 ids"
      ],
      "text/plain": [
       "<IPython.core.display.Markdown object>"
      ]
     },
     "metadata": {},
     "output_type": "display_data"
    },
    {
     "data": {
      "text/markdown": [
       "# 0-05748A, session:13-classinsight-cmu_05748A_ghc_4101_201903191630-front"
      ],
      "text/plain": [
       "<IPython.core.display.Markdown object>"
      ]
     },
     "metadata": {},
     "output_type": "display_data"
    },
    {
     "data": {
      "text/markdown": [
       "## Raw tracking shape:(5671, 1)"
      ],
      "text/plain": [
       "<IPython.core.display.Markdown object>"
      ]
     },
     "metadata": {},
     "output_type": "display_data"
    },
    {
     "data": {
      "text/markdown": [
       "## Filter non-persistentids"
      ],
      "text/plain": [
       "<IPython.core.display.Markdown object>"
      ]
     },
     "metadata": {},
     "output_type": "display_data"
    },
    {
     "data": {
      "text/markdown": [
       "### Total ids before filtering: 1"
      ],
      "text/plain": [
       "<IPython.core.display.Markdown object>"
      ]
     },
     "metadata": {},
     "output_type": "display_data"
    },
    {
     "data": {
      "text/markdown": [
       "### Total ids after filtering: 0"
      ],
      "text/plain": [
       "<IPython.core.display.Markdown object>"
      ]
     },
     "metadata": {},
     "output_type": "display_data"
    },
    {
     "data": {
      "text/markdown": [
       "## Map ids into one based on bbox overlap and id start/stop distance"
      ],
      "text/plain": [
       "<IPython.core.display.Markdown object>"
      ]
     },
     "metadata": {},
     "output_type": "display_data"
    },
    {
     "data": {
      "text/markdown": [
       "### Total ids after mapping: 0"
      ],
      "text/plain": [
       "<IPython.core.display.Markdown object>"
      ]
     },
     "metadata": {},
     "output_type": "display_data"
    },
    {
     "data": {
      "text/markdown": [
       "## Assign new ids to final set of postprocessed ids"
      ],
      "text/plain": [
       "<IPython.core.display.Markdown object>"
      ]
     },
     "metadata": {},
     "output_type": "display_data"
    },
    {
     "data": {
      "text/markdown": [
       "## Created ID Map for session: 0-05748A, session:13-classinsight-cmu_05748A_ghc_4101_201903191630-front from 1 to 0 ids"
      ],
      "text/plain": [
       "<IPython.core.display.Markdown object>"
      ]
     },
     "metadata": {},
     "output_type": "display_data"
    },
    {
     "data": {
      "text/markdown": [
       "# 0-05748A, session:14-classinsight-cmu_05748A_ghc_4101_201903211630-front"
      ],
      "text/plain": [
       "<IPython.core.display.Markdown object>"
      ]
     },
     "metadata": {},
     "output_type": "display_data"
    },
    {
     "data": {
      "text/markdown": [
       "## Raw tracking shape:(22051, 144)"
      ],
      "text/plain": [
       "<IPython.core.display.Markdown object>"
      ]
     },
     "metadata": {},
     "output_type": "display_data"
    },
    {
     "data": {
      "text/markdown": [
       "## Filter non-persistentids"
      ],
      "text/plain": [
       "<IPython.core.display.Markdown object>"
      ]
     },
     "metadata": {},
     "output_type": "display_data"
    },
    {
     "data": {
      "text/markdown": [
       "### Total ids before filtering: 144"
      ],
      "text/plain": [
       "<IPython.core.display.Markdown object>"
      ]
     },
     "metadata": {},
     "output_type": "display_data"
    },
    {
     "data": {
      "text/markdown": [
       "### Total ids after filtering: 2"
      ],
      "text/plain": [
       "<IPython.core.display.Markdown object>"
      ]
     },
     "metadata": {},
     "output_type": "display_data"
    },
    {
     "data": {
      "text/markdown": [
       "## Map ids into one based on bbox overlap and id start/stop distance"
      ],
      "text/plain": [
       "<IPython.core.display.Markdown object>"
      ]
     },
     "metadata": {},
     "output_type": "display_data"
    },
    {
     "data": {
      "text/markdown": [
       "### Total ids after mapping: 2"
      ],
      "text/plain": [
       "<IPython.core.display.Markdown object>"
      ]
     },
     "metadata": {},
     "output_type": "display_data"
    },
    {
     "data": {
      "text/markdown": [
       "## Assign new ids to final set of postprocessed ids"
      ],
      "text/plain": [
       "<IPython.core.display.Markdown object>"
      ]
     },
     "metadata": {},
     "output_type": "display_data"
    },
    {
     "data": {
      "text/markdown": [
       "## Created ID Map for session: 0-05748A, session:14-classinsight-cmu_05748A_ghc_4101_201903211630-front from 144 to 2 ids"
      ],
      "text/plain": [
       "<IPython.core.display.Markdown object>"
      ]
     },
     "metadata": {},
     "output_type": "display_data"
    },
    {
     "data": {
      "text/markdown": [
       "# 0-05748A, session:15-classinsight-cmu_05748A_ghc_4101_201903261630-front"
      ],
      "text/plain": [
       "<IPython.core.display.Markdown object>"
      ]
     },
     "metadata": {},
     "output_type": "display_data"
    },
    {
     "data": {
      "text/markdown": [
       "## Raw tracking shape:(5727, 148)"
      ],
      "text/plain": [
       "<IPython.core.display.Markdown object>"
      ]
     },
     "metadata": {},
     "output_type": "display_data"
    },
    {
     "data": {
      "text/markdown": [
       "## Filter non-persistentids"
      ],
      "text/plain": [
       "<IPython.core.display.Markdown object>"
      ]
     },
     "metadata": {},
     "output_type": "display_data"
    },
    {
     "data": {
      "text/markdown": [
       "### Total ids before filtering: 148"
      ],
      "text/plain": [
       "<IPython.core.display.Markdown object>"
      ]
     },
     "metadata": {},
     "output_type": "display_data"
    },
    {
     "data": {
      "text/markdown": [
       "### Total ids after filtering: 26"
      ],
      "text/plain": [
       "<IPython.core.display.Markdown object>"
      ]
     },
     "metadata": {},
     "output_type": "display_data"
    },
    {
     "data": {
      "text/markdown": [
       "## Map ids into one based on bbox overlap and id start/stop distance"
      ],
      "text/plain": [
       "<IPython.core.display.Markdown object>"
      ]
     },
     "metadata": {},
     "output_type": "display_data"
    },
    {
     "data": {
      "text/markdown": [
       "### Total ids after mapping: 20"
      ],
      "text/plain": [
       "<IPython.core.display.Markdown object>"
      ]
     },
     "metadata": {},
     "output_type": "display_data"
    },
    {
     "data": {
      "text/markdown": [
       "## Assign new ids to final set of postprocessed ids"
      ],
      "text/plain": [
       "<IPython.core.display.Markdown object>"
      ]
     },
     "metadata": {},
     "output_type": "display_data"
    },
    {
     "data": {
      "text/markdown": [
       "## Created ID Map for session: 0-05748A, session:15-classinsight-cmu_05748A_ghc_4101_201903261630-front from 148 to 20 ids"
      ],
      "text/plain": [
       "<IPython.core.display.Markdown object>"
      ]
     },
     "metadata": {},
     "output_type": "display_data"
    },
    {
     "data": {
      "text/markdown": [
       "# 0-05748A, session:16-classinsight-cmu_05748A_ghc_4101_201903281630-front"
      ],
      "text/plain": [
       "<IPython.core.display.Markdown object>"
      ]
     },
     "metadata": {},
     "output_type": "display_data"
    },
    {
     "data": {
      "text/markdown": [
       "## Raw tracking shape:(3750, 102)"
      ],
      "text/plain": [
       "<IPython.core.display.Markdown object>"
      ]
     },
     "metadata": {},
     "output_type": "display_data"
    },
    {
     "data": {
      "text/markdown": [
       "## Filter non-persistentids"
      ],
      "text/plain": [
       "<IPython.core.display.Markdown object>"
      ]
     },
     "metadata": {},
     "output_type": "display_data"
    },
    {
     "data": {
      "text/markdown": [
       "### Total ids before filtering: 102"
      ],
      "text/plain": [
       "<IPython.core.display.Markdown object>"
      ]
     },
     "metadata": {},
     "output_type": "display_data"
    },
    {
     "data": {
      "text/markdown": [
       "### Total ids after filtering: 23"
      ],
      "text/plain": [
       "<IPython.core.display.Markdown object>"
      ]
     },
     "metadata": {},
     "output_type": "display_data"
    },
    {
     "data": {
      "text/markdown": [
       "## Map ids into one based on bbox overlap and id start/stop distance"
      ],
      "text/plain": [
       "<IPython.core.display.Markdown object>"
      ]
     },
     "metadata": {},
     "output_type": "display_data"
    },
    {
     "data": {
      "text/markdown": [
       "### Total ids after mapping: 19"
      ],
      "text/plain": [
       "<IPython.core.display.Markdown object>"
      ]
     },
     "metadata": {},
     "output_type": "display_data"
    },
    {
     "data": {
      "text/markdown": [
       "## Assign new ids to final set of postprocessed ids"
      ],
      "text/plain": [
       "<IPython.core.display.Markdown object>"
      ]
     },
     "metadata": {},
     "output_type": "display_data"
    },
    {
     "data": {
      "text/markdown": [
       "## Created ID Map for session: 0-05748A, session:16-classinsight-cmu_05748A_ghc_4101_201903281630-front from 102 to 19 ids"
      ],
      "text/plain": [
       "<IPython.core.display.Markdown object>"
      ]
     },
     "metadata": {},
     "output_type": "display_data"
    },
    {
     "data": {
      "text/markdown": [
       "## FILE EXISTS: ID Map for session: 0-05748A, session:17-classinsight-cmu_05748A_ghc_4101_201904021630-front"
      ],
      "text/plain": [
       "<IPython.core.display.Markdown object>"
      ]
     },
     "metadata": {},
     "output_type": "display_data"
    },
    {
     "data": {
      "text/markdown": [
       "# 0-05748A, session:18-classinsight-cmu_05748A_ghc_4101_201904041630-front"
      ],
      "text/plain": [
       "<IPython.core.display.Markdown object>"
      ]
     },
     "metadata": {},
     "output_type": "display_data"
    },
    {
     "data": {
      "text/markdown": [
       "## Raw tracking shape:(24000, 492)"
      ],
      "text/plain": [
       "<IPython.core.display.Markdown object>"
      ]
     },
     "metadata": {},
     "output_type": "display_data"
    },
    {
     "data": {
      "text/markdown": [
       "## Filter non-persistentids"
      ],
      "text/plain": [
       "<IPython.core.display.Markdown object>"
      ]
     },
     "metadata": {},
     "output_type": "display_data"
    },
    {
     "data": {
      "text/markdown": [
       "### Total ids before filtering: 492"
      ],
      "text/plain": [
       "<IPython.core.display.Markdown object>"
      ]
     },
     "metadata": {},
     "output_type": "display_data"
    },
    {
     "data": {
      "text/markdown": [
       "### Total ids after filtering: 43"
      ],
      "text/plain": [
       "<IPython.core.display.Markdown object>"
      ]
     },
     "metadata": {},
     "output_type": "display_data"
    },
    {
     "data": {
      "text/markdown": [
       "## Map ids into one based on bbox overlap and id start/stop distance"
      ],
      "text/plain": [
       "<IPython.core.display.Markdown object>"
      ]
     },
     "metadata": {},
     "output_type": "display_data"
    },
    {
     "data": {
      "text/markdown": [
       "### Total ids after mapping: 30"
      ],
      "text/plain": [
       "<IPython.core.display.Markdown object>"
      ]
     },
     "metadata": {},
     "output_type": "display_data"
    },
    {
     "data": {
      "text/markdown": [
       "## Assign new ids to final set of postprocessed ids"
      ],
      "text/plain": [
       "<IPython.core.display.Markdown object>"
      ]
     },
     "metadata": {},
     "output_type": "display_data"
    },
    {
     "data": {
      "text/markdown": [
       "## Created ID Map for session: 0-05748A, session:18-classinsight-cmu_05748A_ghc_4101_201904041630-front from 492 to 30 ids"
      ],
      "text/plain": [
       "<IPython.core.display.Markdown object>"
      ]
     },
     "metadata": {},
     "output_type": "display_data"
    },
    {
     "data": {
      "text/markdown": [
       "# 0-05748A, session:19-classinsight-cmu_05748A_ghc_4101_201904091630-front"
      ],
      "text/plain": [
       "<IPython.core.display.Markdown object>"
      ]
     },
     "metadata": {},
     "output_type": "display_data"
    },
    {
     "data": {
      "text/markdown": [
       "## Raw tracking shape:(24001, 1800)"
      ],
      "text/plain": [
       "<IPython.core.display.Markdown object>"
      ]
     },
     "metadata": {},
     "output_type": "display_data"
    },
    {
     "data": {
      "text/markdown": [
       "## Filter non-persistentids"
      ],
      "text/plain": [
       "<IPython.core.display.Markdown object>"
      ]
     },
     "metadata": {},
     "output_type": "display_data"
    },
    {
     "data": {
      "text/markdown": [
       "### Total ids before filtering: 1800"
      ],
      "text/plain": [
       "<IPython.core.display.Markdown object>"
      ]
     },
     "metadata": {},
     "output_type": "display_data"
    },
    {
     "data": {
      "text/markdown": [
       "### Total ids after filtering: 59"
      ],
      "text/plain": [
       "<IPython.core.display.Markdown object>"
      ]
     },
     "metadata": {},
     "output_type": "display_data"
    },
    {
     "data": {
      "text/markdown": [
       "## Map ids into one based on bbox overlap and id start/stop distance"
      ],
      "text/plain": [
       "<IPython.core.display.Markdown object>"
      ]
     },
     "metadata": {},
     "output_type": "display_data"
    },
    {
     "data": {
      "text/markdown": [
       "### Total ids after mapping: 37"
      ],
      "text/plain": [
       "<IPython.core.display.Markdown object>"
      ]
     },
     "metadata": {},
     "output_type": "display_data"
    },
    {
     "data": {
      "text/markdown": [
       "## Assign new ids to final set of postprocessed ids"
      ],
      "text/plain": [
       "<IPython.core.display.Markdown object>"
      ]
     },
     "metadata": {},
     "output_type": "display_data"
    },
    {
     "data": {
      "text/markdown": [
       "## Created ID Map for session: 0-05748A, session:19-classinsight-cmu_05748A_ghc_4101_201904091630-front from 1800 to 37 ids"
      ],
      "text/plain": [
       "<IPython.core.display.Markdown object>"
      ]
     },
     "metadata": {},
     "output_type": "display_data"
    },
    {
     "data": {
      "text/markdown": [
       "# 0-05748A, session:20-classinsight-cmu_05748A_ghc_4101_201904111630-front"
      ],
      "text/plain": [
       "<IPython.core.display.Markdown object>"
      ]
     },
     "metadata": {},
     "output_type": "display_data"
    },
    {
     "data": {
      "text/markdown": [
       "## Raw tracking shape:(23999, 5)"
      ],
      "text/plain": [
       "<IPython.core.display.Markdown object>"
      ]
     },
     "metadata": {},
     "output_type": "display_data"
    },
    {
     "data": {
      "text/markdown": [
       "## Filter non-persistentids"
      ],
      "text/plain": [
       "<IPython.core.display.Markdown object>"
      ]
     },
     "metadata": {},
     "output_type": "display_data"
    },
    {
     "data": {
      "text/markdown": [
       "### Total ids before filtering: 5"
      ],
      "text/plain": [
       "<IPython.core.display.Markdown object>"
      ]
     },
     "metadata": {},
     "output_type": "display_data"
    },
    {
     "data": {
      "text/markdown": [
       "### Total ids after filtering: 0"
      ],
      "text/plain": [
       "<IPython.core.display.Markdown object>"
      ]
     },
     "metadata": {},
     "output_type": "display_data"
    },
    {
     "data": {
      "text/markdown": [
       "## Map ids into one based on bbox overlap and id start/stop distance"
      ],
      "text/plain": [
       "<IPython.core.display.Markdown object>"
      ]
     },
     "metadata": {},
     "output_type": "display_data"
    },
    {
     "data": {
      "text/markdown": [
       "### Total ids after mapping: 0"
      ],
      "text/plain": [
       "<IPython.core.display.Markdown object>"
      ]
     },
     "metadata": {},
     "output_type": "display_data"
    },
    {
     "data": {
      "text/markdown": [
       "## Assign new ids to final set of postprocessed ids"
      ],
      "text/plain": [
       "<IPython.core.display.Markdown object>"
      ]
     },
     "metadata": {},
     "output_type": "display_data"
    },
    {
     "data": {
      "text/markdown": [
       "## Created ID Map for session: 0-05748A, session:20-classinsight-cmu_05748A_ghc_4101_201904111630-front from 5 to 0 ids"
      ],
      "text/plain": [
       "<IPython.core.display.Markdown object>"
      ]
     },
     "metadata": {},
     "output_type": "display_data"
    },
    {
     "data": {
      "text/markdown": [
       "# 0-05748A, session:21-classinsight-cmu_05748A_ghc_4101_201904161630-front"
      ],
      "text/plain": [
       "<IPython.core.display.Markdown object>"
      ]
     },
     "metadata": {},
     "output_type": "display_data"
    },
    {
     "data": {
      "text/markdown": [
       "## Raw tracking shape:(10050, 717)"
      ],
      "text/plain": [
       "<IPython.core.display.Markdown object>"
      ]
     },
     "metadata": {},
     "output_type": "display_data"
    },
    {
     "data": {
      "text/markdown": [
       "## Filter non-persistentids"
      ],
      "text/plain": [
       "<IPython.core.display.Markdown object>"
      ]
     },
     "metadata": {},
     "output_type": "display_data"
    },
    {
     "data": {
      "text/markdown": [
       "### Total ids before filtering: 717"
      ],
      "text/plain": [
       "<IPython.core.display.Markdown object>"
      ]
     },
     "metadata": {},
     "output_type": "display_data"
    },
    {
     "data": {
      "text/markdown": [
       "### Total ids after filtering: 37"
      ],
      "text/plain": [
       "<IPython.core.display.Markdown object>"
      ]
     },
     "metadata": {},
     "output_type": "display_data"
    },
    {
     "data": {
      "text/markdown": [
       "## Map ids into one based on bbox overlap and id start/stop distance"
      ],
      "text/plain": [
       "<IPython.core.display.Markdown object>"
      ]
     },
     "metadata": {},
     "output_type": "display_data"
    },
    {
     "data": {
      "text/markdown": [
       "### Total ids after mapping: 30"
      ],
      "text/plain": [
       "<IPython.core.display.Markdown object>"
      ]
     },
     "metadata": {},
     "output_type": "display_data"
    },
    {
     "data": {
      "text/markdown": [
       "## Assign new ids to final set of postprocessed ids"
      ],
      "text/plain": [
       "<IPython.core.display.Markdown object>"
      ]
     },
     "metadata": {},
     "output_type": "display_data"
    },
    {
     "data": {
      "text/markdown": [
       "## Created ID Map for session: 0-05748A, session:21-classinsight-cmu_05748A_ghc_4101_201904161630-front from 717 to 30 ids"
      ],
      "text/plain": [
       "<IPython.core.display.Markdown object>"
      ]
     },
     "metadata": {},
     "output_type": "display_data"
    },
    {
     "data": {
      "text/markdown": [
       "# 0-05748A, session:22-classinsight-cmu_05748A_ghc_4101_201904181630-front"
      ],
      "text/plain": [
       "<IPython.core.display.Markdown object>"
      ]
     },
     "metadata": {},
     "output_type": "display_data"
    },
    {
     "data": {
      "text/markdown": [
       "## Raw tracking shape:(23998, 1211)"
      ],
      "text/plain": [
       "<IPython.core.display.Markdown object>"
      ]
     },
     "metadata": {},
     "output_type": "display_data"
    },
    {
     "data": {
      "text/markdown": [
       "## Filter non-persistentids"
      ],
      "text/plain": [
       "<IPython.core.display.Markdown object>"
      ]
     },
     "metadata": {},
     "output_type": "display_data"
    },
    {
     "data": {
      "text/markdown": [
       "### Total ids before filtering: 1211"
      ],
      "text/plain": [
       "<IPython.core.display.Markdown object>"
      ]
     },
     "metadata": {},
     "output_type": "display_data"
    },
    {
     "data": {
      "text/markdown": [
       "### Total ids after filtering: 64"
      ],
      "text/plain": [
       "<IPython.core.display.Markdown object>"
      ]
     },
     "metadata": {},
     "output_type": "display_data"
    },
    {
     "data": {
      "text/markdown": [
       "## Map ids into one based on bbox overlap and id start/stop distance"
      ],
      "text/plain": [
       "<IPython.core.display.Markdown object>"
      ]
     },
     "metadata": {},
     "output_type": "display_data"
    },
    {
     "data": {
      "text/markdown": [
       "### Total ids after mapping: 38"
      ],
      "text/plain": [
       "<IPython.core.display.Markdown object>"
      ]
     },
     "metadata": {},
     "output_type": "display_data"
    },
    {
     "data": {
      "text/markdown": [
       "## Assign new ids to final set of postprocessed ids"
      ],
      "text/plain": [
       "<IPython.core.display.Markdown object>"
      ]
     },
     "metadata": {},
     "output_type": "display_data"
    },
    {
     "data": {
      "text/markdown": [
       "## Created ID Map for session: 0-05748A, session:22-classinsight-cmu_05748A_ghc_4101_201904181630-front from 1211 to 38 ids"
      ],
      "text/plain": [
       "<IPython.core.display.Markdown object>"
      ]
     },
     "metadata": {},
     "output_type": "display_data"
    },
    {
     "data": {
      "text/markdown": [
       "# 0-05748A, session:23-classinsight-cmu_05748A_ghc_4101_201904231630-front"
      ],
      "text/plain": [
       "<IPython.core.display.Markdown object>"
      ]
     },
     "metadata": {},
     "output_type": "display_data"
    },
    {
     "data": {
      "text/markdown": [
       "## Raw tracking shape:(23999, 817)"
      ],
      "text/plain": [
       "<IPython.core.display.Markdown object>"
      ]
     },
     "metadata": {},
     "output_type": "display_data"
    },
    {
     "data": {
      "text/markdown": [
       "## Filter non-persistentids"
      ],
      "text/plain": [
       "<IPython.core.display.Markdown object>"
      ]
     },
     "metadata": {},
     "output_type": "display_data"
    },
    {
     "data": {
      "text/markdown": [
       "### Total ids before filtering: 817"
      ],
      "text/plain": [
       "<IPython.core.display.Markdown object>"
      ]
     },
     "metadata": {},
     "output_type": "display_data"
    },
    {
     "data": {
      "text/markdown": [
       "### Total ids after filtering: 52"
      ],
      "text/plain": [
       "<IPython.core.display.Markdown object>"
      ]
     },
     "metadata": {},
     "output_type": "display_data"
    },
    {
     "data": {
      "text/markdown": [
       "## Map ids into one based on bbox overlap and id start/stop distance"
      ],
      "text/plain": [
       "<IPython.core.display.Markdown object>"
      ]
     },
     "metadata": {},
     "output_type": "display_data"
    },
    {
     "data": {
      "text/markdown": [
       "### Total ids after mapping: 32"
      ],
      "text/plain": [
       "<IPython.core.display.Markdown object>"
      ]
     },
     "metadata": {},
     "output_type": "display_data"
    },
    {
     "data": {
      "text/markdown": [
       "## Assign new ids to final set of postprocessed ids"
      ],
      "text/plain": [
       "<IPython.core.display.Markdown object>"
      ]
     },
     "metadata": {},
     "output_type": "display_data"
    },
    {
     "data": {
      "text/markdown": [
       "## Created ID Map for session: 0-05748A, session:23-classinsight-cmu_05748A_ghc_4101_201904231630-front from 817 to 32 ids"
      ],
      "text/plain": [
       "<IPython.core.display.Markdown object>"
      ]
     },
     "metadata": {},
     "output_type": "display_data"
    },
    {
     "data": {
      "text/markdown": [
       "# 0-05748A, session:24-classinsight-cmu_05748A_ghc_4101_201901241630-front"
      ],
      "text/plain": [
       "<IPython.core.display.Markdown object>"
      ]
     },
     "metadata": {},
     "output_type": "display_data"
    },
    {
     "data": {
      "text/markdown": [
       "## Raw tracking shape:(23911, 2699)"
      ],
      "text/plain": [
       "<IPython.core.display.Markdown object>"
      ]
     },
     "metadata": {},
     "output_type": "display_data"
    },
    {
     "data": {
      "text/markdown": [
       "## Filter non-persistentids"
      ],
      "text/plain": [
       "<IPython.core.display.Markdown object>"
      ]
     },
     "metadata": {},
     "output_type": "display_data"
    },
    {
     "data": {
      "text/markdown": [
       "### Total ids before filtering: 2699"
      ],
      "text/plain": [
       "<IPython.core.display.Markdown object>"
      ]
     },
     "metadata": {},
     "output_type": "display_data"
    },
    {
     "data": {
      "text/markdown": [
       "### Total ids after filtering: 85"
      ],
      "text/plain": [
       "<IPython.core.display.Markdown object>"
      ]
     },
     "metadata": {},
     "output_type": "display_data"
    },
    {
     "data": {
      "text/markdown": [
       "## Map ids into one based on bbox overlap and id start/stop distance"
      ],
      "text/plain": [
       "<IPython.core.display.Markdown object>"
      ]
     },
     "metadata": {},
     "output_type": "display_data"
    },
    {
     "data": {
      "text/markdown": [
       "### Total ids after mapping: 46"
      ],
      "text/plain": [
       "<IPython.core.display.Markdown object>"
      ]
     },
     "metadata": {},
     "output_type": "display_data"
    },
    {
     "data": {
      "text/markdown": [
       "## Assign new ids to final set of postprocessed ids"
      ],
      "text/plain": [
       "<IPython.core.display.Markdown object>"
      ]
     },
     "metadata": {},
     "output_type": "display_data"
    },
    {
     "data": {
      "text/markdown": [
       "## Created ID Map for session: 0-05748A, session:24-classinsight-cmu_05748A_ghc_4101_201901241630-front from 2699 to 46 ids"
      ],
      "text/plain": [
       "<IPython.core.display.Markdown object>"
      ]
     },
     "metadata": {},
     "output_type": "display_data"
    },
    {
     "data": {
      "text/markdown": [
       "# 0-05748A, session:25-classinsight-cmu_05748A_ghc_4101_201904251630-front"
      ],
      "text/plain": [
       "<IPython.core.display.Markdown object>"
      ]
     },
     "metadata": {},
     "output_type": "display_data"
    },
    {
     "data": {
      "text/markdown": [
       "## Raw tracking shape:(23998, 383)"
      ],
      "text/plain": [
       "<IPython.core.display.Markdown object>"
      ]
     },
     "metadata": {},
     "output_type": "display_data"
    },
    {
     "data": {
      "text/markdown": [
       "## Filter non-persistentids"
      ],
      "text/plain": [
       "<IPython.core.display.Markdown object>"
      ]
     },
     "metadata": {},
     "output_type": "display_data"
    },
    {
     "data": {
      "text/markdown": [
       "### Total ids before filtering: 383"
      ],
      "text/plain": [
       "<IPython.core.display.Markdown object>"
      ]
     },
     "metadata": {},
     "output_type": "display_data"
    },
    {
     "data": {
      "text/markdown": [
       "### Total ids after filtering: 33"
      ],
      "text/plain": [
       "<IPython.core.display.Markdown object>"
      ]
     },
     "metadata": {},
     "output_type": "display_data"
    },
    {
     "data": {
      "text/markdown": [
       "## Map ids into one based on bbox overlap and id start/stop distance"
      ],
      "text/plain": [
       "<IPython.core.display.Markdown object>"
      ]
     },
     "metadata": {},
     "output_type": "display_data"
    },
    {
     "data": {
      "text/markdown": [
       "### Total ids after mapping: 25"
      ],
      "text/plain": [
       "<IPython.core.display.Markdown object>"
      ]
     },
     "metadata": {},
     "output_type": "display_data"
    },
    {
     "data": {
      "text/markdown": [
       "## Assign new ids to final set of postprocessed ids"
      ],
      "text/plain": [
       "<IPython.core.display.Markdown object>"
      ]
     },
     "metadata": {},
     "output_type": "display_data"
    },
    {
     "data": {
      "text/markdown": [
       "## Created ID Map for session: 0-05748A, session:25-classinsight-cmu_05748A_ghc_4101_201904251630-front from 383 to 25 ids"
      ],
      "text/plain": [
       "<IPython.core.display.Markdown object>"
      ]
     },
     "metadata": {},
     "output_type": "display_data"
    },
    {
     "data": {
      "text/markdown": [
       "# 0-05748A, session:26-classinsight-cmu_05748A_ghc_4101_201904301630-front"
      ],
      "text/plain": [
       "<IPython.core.display.Markdown object>"
      ]
     },
     "metadata": {},
     "output_type": "display_data"
    },
    {
     "data": {
      "text/markdown": [
       "## Raw tracking shape:(23999, 984)"
      ],
      "text/plain": [
       "<IPython.core.display.Markdown object>"
      ]
     },
     "metadata": {},
     "output_type": "display_data"
    },
    {
     "data": {
      "text/markdown": [
       "## Filter non-persistentids"
      ],
      "text/plain": [
       "<IPython.core.display.Markdown object>"
      ]
     },
     "metadata": {},
     "output_type": "display_data"
    },
    {
     "data": {
      "text/markdown": [
       "### Total ids before filtering: 984"
      ],
      "text/plain": [
       "<IPython.core.display.Markdown object>"
      ]
     },
     "metadata": {},
     "output_type": "display_data"
    },
    {
     "data": {
      "text/markdown": [
       "### Total ids after filtering: 40"
      ],
      "text/plain": [
       "<IPython.core.display.Markdown object>"
      ]
     },
     "metadata": {},
     "output_type": "display_data"
    },
    {
     "data": {
      "text/markdown": [
       "## Map ids into one based on bbox overlap and id start/stop distance"
      ],
      "text/plain": [
       "<IPython.core.display.Markdown object>"
      ]
     },
     "metadata": {},
     "output_type": "display_data"
    },
    {
     "data": {
      "text/markdown": [
       "### Total ids after mapping: 29"
      ],
      "text/plain": [
       "<IPython.core.display.Markdown object>"
      ]
     },
     "metadata": {},
     "output_type": "display_data"
    },
    {
     "data": {
      "text/markdown": [
       "## Assign new ids to final set of postprocessed ids"
      ],
      "text/plain": [
       "<IPython.core.display.Markdown object>"
      ]
     },
     "metadata": {},
     "output_type": "display_data"
    },
    {
     "data": {
      "text/markdown": [
       "## Created ID Map for session: 0-05748A, session:26-classinsight-cmu_05748A_ghc_4101_201904301630-front from 984 to 29 ids"
      ],
      "text/plain": [
       "<IPython.core.display.Markdown object>"
      ]
     },
     "metadata": {},
     "output_type": "display_data"
    },
    {
     "data": {
      "text/markdown": [
       "# 0-05748A, session:27-classinsight-cmu_05748A_ghc_4101_201905021630-front"
      ],
      "text/plain": [
       "<IPython.core.display.Markdown object>"
      ]
     },
     "metadata": {},
     "output_type": "display_data"
    },
    {
     "data": {
      "text/markdown": [
       "## Raw tracking shape:(23999, 627)"
      ],
      "text/plain": [
       "<IPython.core.display.Markdown object>"
      ]
     },
     "metadata": {},
     "output_type": "display_data"
    },
    {
     "data": {
      "text/markdown": [
       "## Filter non-persistentids"
      ],
      "text/plain": [
       "<IPython.core.display.Markdown object>"
      ]
     },
     "metadata": {},
     "output_type": "display_data"
    },
    {
     "data": {
      "text/markdown": [
       "### Total ids before filtering: 627"
      ],
      "text/plain": [
       "<IPython.core.display.Markdown object>"
      ]
     },
     "metadata": {},
     "output_type": "display_data"
    },
    {
     "data": {
      "text/markdown": [
       "### Total ids after filtering: 32"
      ],
      "text/plain": [
       "<IPython.core.display.Markdown object>"
      ]
     },
     "metadata": {},
     "output_type": "display_data"
    },
    {
     "data": {
      "text/markdown": [
       "## Map ids into one based on bbox overlap and id start/stop distance"
      ],
      "text/plain": [
       "<IPython.core.display.Markdown object>"
      ]
     },
     "metadata": {},
     "output_type": "display_data"
    },
    {
     "data": {
      "text/markdown": [
       "### Total ids after mapping: 20"
      ],
      "text/plain": [
       "<IPython.core.display.Markdown object>"
      ]
     },
     "metadata": {},
     "output_type": "display_data"
    },
    {
     "data": {
      "text/markdown": [
       "## Assign new ids to final set of postprocessed ids"
      ],
      "text/plain": [
       "<IPython.core.display.Markdown object>"
      ]
     },
     "metadata": {},
     "output_type": "display_data"
    },
    {
     "data": {
      "text/markdown": [
       "## Created ID Map for session: 0-05748A, session:27-classinsight-cmu_05748A_ghc_4101_201905021630-front from 627 to 20 ids"
      ],
      "text/plain": [
       "<IPython.core.display.Markdown object>"
      ]
     },
     "metadata": {},
     "output_type": "display_data"
    },
    {
     "data": {
      "text/markdown": [
       "# 1-05410B, session:0-classinsight-cmu_05410B_ghc_4211_201901301500-front"
      ],
      "text/plain": [
       "<IPython.core.display.Markdown object>"
      ]
     },
     "metadata": {},
     "output_type": "display_data"
    },
    {
     "data": {
      "text/markdown": [
       "## Raw tracking shape:(5318, 0)"
      ],
      "text/plain": [
       "<IPython.core.display.Markdown object>"
      ]
     },
     "metadata": {},
     "output_type": "display_data"
    },
    {
     "data": {
      "text/markdown": [
       "## Filter non-persistentids"
      ],
      "text/plain": [
       "<IPython.core.display.Markdown object>"
      ]
     },
     "metadata": {},
     "output_type": "display_data"
    },
    {
     "data": {
      "text/markdown": [
       "### Total ids before filtering: 0"
      ],
      "text/plain": [
       "<IPython.core.display.Markdown object>"
      ]
     },
     "metadata": {},
     "output_type": "display_data"
    },
    {
     "data": {
      "text/markdown": [
       "### Total ids after filtering: 0"
      ],
      "text/plain": [
       "<IPython.core.display.Markdown object>"
      ]
     },
     "metadata": {},
     "output_type": "display_data"
    },
    {
     "data": {
      "text/markdown": [
       "## Map ids into one based on bbox overlap and id start/stop distance"
      ],
      "text/plain": [
       "<IPython.core.display.Markdown object>"
      ]
     },
     "metadata": {},
     "output_type": "display_data"
    },
    {
     "data": {
      "text/markdown": [
       "### Total ids after mapping: 0"
      ],
      "text/plain": [
       "<IPython.core.display.Markdown object>"
      ]
     },
     "metadata": {},
     "output_type": "display_data"
    },
    {
     "data": {
      "text/markdown": [
       "## Assign new ids to final set of postprocessed ids"
      ],
      "text/plain": [
       "<IPython.core.display.Markdown object>"
      ]
     },
     "metadata": {},
     "output_type": "display_data"
    },
    {
     "data": {
      "text/markdown": [
       "## Created ID Map for session: 1-05410B, session:0-classinsight-cmu_05410B_ghc_4211_201901301500-front from 0 to 0 ids"
      ],
      "text/plain": [
       "<IPython.core.display.Markdown object>"
      ]
     },
     "metadata": {},
     "output_type": "display_data"
    },
    {
     "data": {
      "text/markdown": [
       "# 1-05410B, session:1-classinsight-cmu_05410B_ghc_4211_201902041500-front"
      ],
      "text/plain": [
       "<IPython.core.display.Markdown object>"
      ]
     },
     "metadata": {},
     "output_type": "display_data"
    },
    {
     "data": {
      "text/markdown": [
       "## Raw tracking shape:(11878, 990)"
      ],
      "text/plain": [
       "<IPython.core.display.Markdown object>"
      ]
     },
     "metadata": {},
     "output_type": "display_data"
    },
    {
     "data": {
      "text/markdown": [
       "## Filter non-persistentids"
      ],
      "text/plain": [
       "<IPython.core.display.Markdown object>"
      ]
     },
     "metadata": {},
     "output_type": "display_data"
    },
    {
     "data": {
      "text/markdown": [
       "### Total ids before filtering: 990"
      ],
      "text/plain": [
       "<IPython.core.display.Markdown object>"
      ]
     },
     "metadata": {},
     "output_type": "display_data"
    },
    {
     "data": {
      "text/markdown": [
       "### Total ids after filtering: 71"
      ],
      "text/plain": [
       "<IPython.core.display.Markdown object>"
      ]
     },
     "metadata": {},
     "output_type": "display_data"
    },
    {
     "data": {
      "text/markdown": [
       "## Map ids into one based on bbox overlap and id start/stop distance"
      ],
      "text/plain": [
       "<IPython.core.display.Markdown object>"
      ]
     },
     "metadata": {},
     "output_type": "display_data"
    },
    {
     "data": {
      "text/markdown": [
       "### Total ids after mapping: 43"
      ],
      "text/plain": [
       "<IPython.core.display.Markdown object>"
      ]
     },
     "metadata": {},
     "output_type": "display_data"
    },
    {
     "data": {
      "text/markdown": [
       "## Assign new ids to final set of postprocessed ids"
      ],
      "text/plain": [
       "<IPython.core.display.Markdown object>"
      ]
     },
     "metadata": {},
     "output_type": "display_data"
    },
    {
     "data": {
      "text/markdown": [
       "## Created ID Map for session: 1-05410B, session:1-classinsight-cmu_05410B_ghc_4211_201902041500-front from 990 to 43 ids"
      ],
      "text/plain": [
       "<IPython.core.display.Markdown object>"
      ]
     },
     "metadata": {},
     "output_type": "display_data"
    },
    {
     "data": {
      "text/markdown": [
       "# 1-05410B, session:2-classinsight-cmu_05410B_ghc_4211_201902061500-front"
      ],
      "text/plain": [
       "<IPython.core.display.Markdown object>"
      ]
     },
     "metadata": {},
     "output_type": "display_data"
    },
    {
     "data": {
      "text/markdown": [
       "## Raw tracking shape:(5272, 0)"
      ],
      "text/plain": [
       "<IPython.core.display.Markdown object>"
      ]
     },
     "metadata": {},
     "output_type": "display_data"
    },
    {
     "data": {
      "text/markdown": [
       "## Filter non-persistentids"
      ],
      "text/plain": [
       "<IPython.core.display.Markdown object>"
      ]
     },
     "metadata": {},
     "output_type": "display_data"
    },
    {
     "data": {
      "text/markdown": [
       "### Total ids before filtering: 0"
      ],
      "text/plain": [
       "<IPython.core.display.Markdown object>"
      ]
     },
     "metadata": {},
     "output_type": "display_data"
    },
    {
     "data": {
      "text/markdown": [
       "### Total ids after filtering: 0"
      ],
      "text/plain": [
       "<IPython.core.display.Markdown object>"
      ]
     },
     "metadata": {},
     "output_type": "display_data"
    },
    {
     "data": {
      "text/markdown": [
       "## Map ids into one based on bbox overlap and id start/stop distance"
      ],
      "text/plain": [
       "<IPython.core.display.Markdown object>"
      ]
     },
     "metadata": {},
     "output_type": "display_data"
    },
    {
     "data": {
      "text/markdown": [
       "### Total ids after mapping: 0"
      ],
      "text/plain": [
       "<IPython.core.display.Markdown object>"
      ]
     },
     "metadata": {},
     "output_type": "display_data"
    },
    {
     "data": {
      "text/markdown": [
       "## Assign new ids to final set of postprocessed ids"
      ],
      "text/plain": [
       "<IPython.core.display.Markdown object>"
      ]
     },
     "metadata": {},
     "output_type": "display_data"
    },
    {
     "data": {
      "text/markdown": [
       "## Created ID Map for session: 1-05410B, session:2-classinsight-cmu_05410B_ghc_4211_201902061500-front from 0 to 0 ids"
      ],
      "text/plain": [
       "<IPython.core.display.Markdown object>"
      ]
     },
     "metadata": {},
     "output_type": "display_data"
    },
    {
     "data": {
      "text/markdown": [
       "## FILE EXISTS: ID Map for session: 1-05410B, session:3-classinsight-cmu_05410B_ghc_4211_201902111500-front"
      ],
      "text/plain": [
       "<IPython.core.display.Markdown object>"
      ]
     },
     "metadata": {},
     "output_type": "display_data"
    },
    {
     "data": {
      "text/markdown": [
       "# 1-05410B, session:4-classinsight-cmu_05410B_ghc_4211_201902131500-front"
      ],
      "text/plain": [
       "<IPython.core.display.Markdown object>"
      ]
     },
     "metadata": {},
     "output_type": "display_data"
    },
    {
     "data": {
      "text/markdown": [
       "## Raw tracking shape:(5287, 4)"
      ],
      "text/plain": [
       "<IPython.core.display.Markdown object>"
      ]
     },
     "metadata": {},
     "output_type": "display_data"
    },
    {
     "data": {
      "text/markdown": [
       "## Filter non-persistentids"
      ],
      "text/plain": [
       "<IPython.core.display.Markdown object>"
      ]
     },
     "metadata": {},
     "output_type": "display_data"
    },
    {
     "data": {
      "text/markdown": [
       "### Total ids before filtering: 4"
      ],
      "text/plain": [
       "<IPython.core.display.Markdown object>"
      ]
     },
     "metadata": {},
     "output_type": "display_data"
    },
    {
     "data": {
      "text/markdown": [
       "### Total ids after filtering: 0"
      ],
      "text/plain": [
       "<IPython.core.display.Markdown object>"
      ]
     },
     "metadata": {},
     "output_type": "display_data"
    },
    {
     "data": {
      "text/markdown": [
       "## Map ids into one based on bbox overlap and id start/stop distance"
      ],
      "text/plain": [
       "<IPython.core.display.Markdown object>"
      ]
     },
     "metadata": {},
     "output_type": "display_data"
    },
    {
     "data": {
      "text/markdown": [
       "### Total ids after mapping: 0"
      ],
      "text/plain": [
       "<IPython.core.display.Markdown object>"
      ]
     },
     "metadata": {},
     "output_type": "display_data"
    },
    {
     "data": {
      "text/markdown": [
       "## Assign new ids to final set of postprocessed ids"
      ],
      "text/plain": [
       "<IPython.core.display.Markdown object>"
      ]
     },
     "metadata": {},
     "output_type": "display_data"
    },
    {
     "data": {
      "text/markdown": [
       "## Created ID Map for session: 1-05410B, session:4-classinsight-cmu_05410B_ghc_4211_201902131500-front from 4 to 0 ids"
      ],
      "text/plain": [
       "<IPython.core.display.Markdown object>"
      ]
     },
     "metadata": {},
     "output_type": "display_data"
    },
    {
     "data": {
      "text/markdown": [
       "# 1-05410B, session:5-classinsight-cmu_05410B_ghc_4211_201902181500-front"
      ],
      "text/plain": [
       "<IPython.core.display.Markdown object>"
      ]
     },
     "metadata": {},
     "output_type": "display_data"
    },
    {
     "data": {
      "text/markdown": [
       "## Raw tracking shape:(23815, 1077)"
      ],
      "text/plain": [
       "<IPython.core.display.Markdown object>"
      ]
     },
     "metadata": {},
     "output_type": "display_data"
    },
    {
     "data": {
      "text/markdown": [
       "## Filter non-persistentids"
      ],
      "text/plain": [
       "<IPython.core.display.Markdown object>"
      ]
     },
     "metadata": {},
     "output_type": "display_data"
    },
    {
     "data": {
      "text/markdown": [
       "### Total ids before filtering: 1077"
      ],
      "text/plain": [
       "<IPython.core.display.Markdown object>"
      ]
     },
     "metadata": {},
     "output_type": "display_data"
    },
    {
     "data": {
      "text/markdown": [
       "### Total ids after filtering: 46"
      ],
      "text/plain": [
       "<IPython.core.display.Markdown object>"
      ]
     },
     "metadata": {},
     "output_type": "display_data"
    },
    {
     "data": {
      "text/markdown": [
       "## Map ids into one based on bbox overlap and id start/stop distance"
      ],
      "text/plain": [
       "<IPython.core.display.Markdown object>"
      ]
     },
     "metadata": {},
     "output_type": "display_data"
    },
    {
     "data": {
      "text/markdown": [
       "### Total ids after mapping: 26"
      ],
      "text/plain": [
       "<IPython.core.display.Markdown object>"
      ]
     },
     "metadata": {},
     "output_type": "display_data"
    },
    {
     "data": {
      "text/markdown": [
       "## Assign new ids to final set of postprocessed ids"
      ],
      "text/plain": [
       "<IPython.core.display.Markdown object>"
      ]
     },
     "metadata": {},
     "output_type": "display_data"
    },
    {
     "data": {
      "text/markdown": [
       "## Created ID Map for session: 1-05410B, session:5-classinsight-cmu_05410B_ghc_4211_201902181500-front from 1077 to 26 ids"
      ],
      "text/plain": [
       "<IPython.core.display.Markdown object>"
      ]
     },
     "metadata": {},
     "output_type": "display_data"
    },
    {
     "data": {
      "text/markdown": [
       "# 1-05410B, session:6-classinsight-cmu_05410B_ghc_4211_201902201512-front"
      ],
      "text/plain": [
       "<IPython.core.display.Markdown object>"
      ]
     },
     "metadata": {},
     "output_type": "display_data"
    },
    {
     "data": {
      "text/markdown": [
       "## Raw tracking shape:(23890, 890)"
      ],
      "text/plain": [
       "<IPython.core.display.Markdown object>"
      ]
     },
     "metadata": {},
     "output_type": "display_data"
    },
    {
     "data": {
      "text/markdown": [
       "## Filter non-persistentids"
      ],
      "text/plain": [
       "<IPython.core.display.Markdown object>"
      ]
     },
     "metadata": {},
     "output_type": "display_data"
    },
    {
     "data": {
      "text/markdown": [
       "### Total ids before filtering: 890"
      ],
      "text/plain": [
       "<IPython.core.display.Markdown object>"
      ]
     },
     "metadata": {},
     "output_type": "display_data"
    },
    {
     "data": {
      "text/markdown": [
       "### Total ids after filtering: 39"
      ],
      "text/plain": [
       "<IPython.core.display.Markdown object>"
      ]
     },
     "metadata": {},
     "output_type": "display_data"
    },
    {
     "data": {
      "text/markdown": [
       "## Map ids into one based on bbox overlap and id start/stop distance"
      ],
      "text/plain": [
       "<IPython.core.display.Markdown object>"
      ]
     },
     "metadata": {},
     "output_type": "display_data"
    },
    {
     "data": {
      "text/markdown": [
       "### Total ids after mapping: 29"
      ],
      "text/plain": [
       "<IPython.core.display.Markdown object>"
      ]
     },
     "metadata": {},
     "output_type": "display_data"
    },
    {
     "data": {
      "text/markdown": [
       "## Assign new ids to final set of postprocessed ids"
      ],
      "text/plain": [
       "<IPython.core.display.Markdown object>"
      ]
     },
     "metadata": {},
     "output_type": "display_data"
    },
    {
     "data": {
      "text/markdown": [
       "## Created ID Map for session: 1-05410B, session:6-classinsight-cmu_05410B_ghc_4211_201902201512-front from 890 to 29 ids"
      ],
      "text/plain": [
       "<IPython.core.display.Markdown object>"
      ]
     },
     "metadata": {},
     "output_type": "display_data"
    },
    {
     "data": {
      "text/markdown": [
       "# 1-05410B, session:7-classinsight-cmu_05410B_ghc_4211_201902251500-front"
      ],
      "text/plain": [
       "<IPython.core.display.Markdown object>"
      ]
     },
     "metadata": {},
     "output_type": "display_data"
    },
    {
     "data": {
      "text/markdown": [
       "## Raw tracking shape:(23869, 6089)"
      ],
      "text/plain": [
       "<IPython.core.display.Markdown object>"
      ]
     },
     "metadata": {},
     "output_type": "display_data"
    },
    {
     "data": {
      "text/markdown": [
       "## Filter non-persistentids"
      ],
      "text/plain": [
       "<IPython.core.display.Markdown object>"
      ]
     },
     "metadata": {},
     "output_type": "display_data"
    },
    {
     "data": {
      "text/markdown": [
       "### Total ids before filtering: 6089"
      ],
      "text/plain": [
       "<IPython.core.display.Markdown object>"
      ]
     },
     "metadata": {},
     "output_type": "display_data"
    },
    {
     "data": {
      "text/markdown": [
       "### Total ids after filtering: 206"
      ],
      "text/plain": [
       "<IPython.core.display.Markdown object>"
      ]
     },
     "metadata": {},
     "output_type": "display_data"
    },
    {
     "data": {
      "text/markdown": [
       "## Map ids into one based on bbox overlap and id start/stop distance"
      ],
      "text/plain": [
       "<IPython.core.display.Markdown object>"
      ]
     },
     "metadata": {},
     "output_type": "display_data"
    },
    {
     "data": {
      "text/markdown": [
       "### Total ids after mapping: 143"
      ],
      "text/plain": [
       "<IPython.core.display.Markdown object>"
      ]
     },
     "metadata": {},
     "output_type": "display_data"
    },
    {
     "data": {
      "text/markdown": [
       "## Assign new ids to final set of postprocessed ids"
      ],
      "text/plain": [
       "<IPython.core.display.Markdown object>"
      ]
     },
     "metadata": {},
     "output_type": "display_data"
    },
    {
     "data": {
      "text/markdown": [
       "## Created ID Map for session: 1-05410B, session:7-classinsight-cmu_05410B_ghc_4211_201902251500-front from 6089 to 143 ids"
      ],
      "text/plain": [
       "<IPython.core.display.Markdown object>"
      ]
     },
     "metadata": {},
     "output_type": "display_data"
    },
    {
     "data": {
      "text/markdown": [
       "# 1-05410B, session:8-classinsight-cmu_05410B_ghc_4211_201902271500-front"
      ],
      "text/plain": [
       "<IPython.core.display.Markdown object>"
      ]
     },
     "metadata": {},
     "output_type": "display_data"
    },
    {
     "data": {
      "text/markdown": [
       "## Raw tracking shape:(491, 4)"
      ],
      "text/plain": [
       "<IPython.core.display.Markdown object>"
      ]
     },
     "metadata": {},
     "output_type": "display_data"
    },
    {
     "data": {
      "text/markdown": [
       "## Filter non-persistentids"
      ],
      "text/plain": [
       "<IPython.core.display.Markdown object>"
      ]
     },
     "metadata": {},
     "output_type": "display_data"
    },
    {
     "data": {
      "text/markdown": [
       "### Total ids before filtering: 4"
      ],
      "text/plain": [
       "<IPython.core.display.Markdown object>"
      ]
     },
     "metadata": {},
     "output_type": "display_data"
    },
    {
     "data": {
      "text/markdown": [
       "### Total ids after filtering: 4"
      ],
      "text/plain": [
       "<IPython.core.display.Markdown object>"
      ]
     },
     "metadata": {},
     "output_type": "display_data"
    },
    {
     "data": {
      "text/markdown": [
       "## Map ids into one based on bbox overlap and id start/stop distance"
      ],
      "text/plain": [
       "<IPython.core.display.Markdown object>"
      ]
     },
     "metadata": {},
     "output_type": "display_data"
    },
    {
     "data": {
      "text/markdown": [
       "### Total ids after mapping: 4"
      ],
      "text/plain": [
       "<IPython.core.display.Markdown object>"
      ]
     },
     "metadata": {},
     "output_type": "display_data"
    },
    {
     "data": {
      "text/markdown": [
       "## Assign new ids to final set of postprocessed ids"
      ],
      "text/plain": [
       "<IPython.core.display.Markdown object>"
      ]
     },
     "metadata": {},
     "output_type": "display_data"
    },
    {
     "data": {
      "text/markdown": [
       "## Created ID Map for session: 1-05410B, session:8-classinsight-cmu_05410B_ghc_4211_201902271500-front from 4 to 4 ids"
      ],
      "text/plain": [
       "<IPython.core.display.Markdown object>"
      ]
     },
     "metadata": {},
     "output_type": "display_data"
    },
    {
     "data": {
      "text/markdown": [
       "# 1-05410B, session:9-classinsight-cmu_05410B_ghc_4211_201903041500-front"
      ],
      "text/plain": [
       "<IPython.core.display.Markdown object>"
      ]
     },
     "metadata": {},
     "output_type": "display_data"
    },
    {
     "data": {
      "text/markdown": [
       "## Raw tracking shape:(21911, 4938)"
      ],
      "text/plain": [
       "<IPython.core.display.Markdown object>"
      ]
     },
     "metadata": {},
     "output_type": "display_data"
    },
    {
     "data": {
      "text/markdown": [
       "## Filter non-persistentids"
      ],
      "text/plain": [
       "<IPython.core.display.Markdown object>"
      ]
     },
     "metadata": {},
     "output_type": "display_data"
    },
    {
     "data": {
      "text/markdown": [
       "### Total ids before filtering: 4938"
      ],
      "text/plain": [
       "<IPython.core.display.Markdown object>"
      ]
     },
     "metadata": {},
     "output_type": "display_data"
    },
    {
     "data": {
      "text/markdown": [
       "### Total ids after filtering: 147"
      ],
      "text/plain": [
       "<IPython.core.display.Markdown object>"
      ]
     },
     "metadata": {},
     "output_type": "display_data"
    },
    {
     "data": {
      "text/markdown": [
       "## Map ids into one based on bbox overlap and id start/stop distance"
      ],
      "text/plain": [
       "<IPython.core.display.Markdown object>"
      ]
     },
     "metadata": {},
     "output_type": "display_data"
    },
    {
     "data": {
      "text/markdown": [
       "### Total ids after mapping: 68"
      ],
      "text/plain": [
       "<IPython.core.display.Markdown object>"
      ]
     },
     "metadata": {},
     "output_type": "display_data"
    },
    {
     "data": {
      "text/markdown": [
       "## Assign new ids to final set of postprocessed ids"
      ],
      "text/plain": [
       "<IPython.core.display.Markdown object>"
      ]
     },
     "metadata": {},
     "output_type": "display_data"
    },
    {
     "data": {
      "text/markdown": [
       "## Created ID Map for session: 1-05410B, session:9-classinsight-cmu_05410B_ghc_4211_201903041500-front from 4938 to 68 ids"
      ],
      "text/plain": [
       "<IPython.core.display.Markdown object>"
      ]
     },
     "metadata": {},
     "output_type": "display_data"
    },
    {
     "data": {
      "text/markdown": [
       "# 1-05410B, session:10-classinsight-cmu_05410B_ghc_4211_201903111500-front"
      ],
      "text/plain": [
       "<IPython.core.display.Markdown object>"
      ]
     },
     "metadata": {},
     "output_type": "display_data"
    },
    {
     "data": {
      "text/markdown": [
       "## Raw tracking shape:(5789, 61)"
      ],
      "text/plain": [
       "<IPython.core.display.Markdown object>"
      ]
     },
     "metadata": {},
     "output_type": "display_data"
    },
    {
     "data": {
      "text/markdown": [
       "## Filter non-persistentids"
      ],
      "text/plain": [
       "<IPython.core.display.Markdown object>"
      ]
     },
     "metadata": {},
     "output_type": "display_data"
    },
    {
     "data": {
      "text/markdown": [
       "### Total ids before filtering: 61"
      ],
      "text/plain": [
       "<IPython.core.display.Markdown object>"
      ]
     },
     "metadata": {},
     "output_type": "display_data"
    },
    {
     "data": {
      "text/markdown": [
       "### Total ids after filtering: 0"
      ],
      "text/plain": [
       "<IPython.core.display.Markdown object>"
      ]
     },
     "metadata": {},
     "output_type": "display_data"
    },
    {
     "data": {
      "text/markdown": [
       "## Map ids into one based on bbox overlap and id start/stop distance"
      ],
      "text/plain": [
       "<IPython.core.display.Markdown object>"
      ]
     },
     "metadata": {},
     "output_type": "display_data"
    },
    {
     "data": {
      "text/markdown": [
       "### Total ids after mapping: 0"
      ],
      "text/plain": [
       "<IPython.core.display.Markdown object>"
      ]
     },
     "metadata": {},
     "output_type": "display_data"
    },
    {
     "data": {
      "text/markdown": [
       "## Assign new ids to final set of postprocessed ids"
      ],
      "text/plain": [
       "<IPython.core.display.Markdown object>"
      ]
     },
     "metadata": {},
     "output_type": "display_data"
    },
    {
     "data": {
      "text/markdown": [
       "## Created ID Map for session: 1-05410B, session:10-classinsight-cmu_05410B_ghc_4211_201903111500-front from 61 to 0 ids"
      ],
      "text/plain": [
       "<IPython.core.display.Markdown object>"
      ]
     },
     "metadata": {},
     "output_type": "display_data"
    },
    {
     "data": {
      "text/markdown": [
       "# 1-05410B, session:11-classinsight-cmu_05410B_ghc_4211_201903131500-front"
      ],
      "text/plain": [
       "<IPython.core.display.Markdown object>"
      ]
     },
     "metadata": {},
     "output_type": "display_data"
    },
    {
     "data": {
      "text/markdown": [
       "## Raw tracking shape:(22063, 51)"
      ],
      "text/plain": [
       "<IPython.core.display.Markdown object>"
      ]
     },
     "metadata": {},
     "output_type": "display_data"
    },
    {
     "data": {
      "text/markdown": [
       "## Filter non-persistentids"
      ],
      "text/plain": [
       "<IPython.core.display.Markdown object>"
      ]
     },
     "metadata": {},
     "output_type": "display_data"
    },
    {
     "data": {
      "text/markdown": [
       "### Total ids before filtering: 51"
      ],
      "text/plain": [
       "<IPython.core.display.Markdown object>"
      ]
     },
     "metadata": {},
     "output_type": "display_data"
    },
    {
     "data": {
      "text/markdown": [
       "### Total ids after filtering: 1"
      ],
      "text/plain": [
       "<IPython.core.display.Markdown object>"
      ]
     },
     "metadata": {},
     "output_type": "display_data"
    },
    {
     "data": {
      "text/markdown": [
       "## Map ids into one based on bbox overlap and id start/stop distance"
      ],
      "text/plain": [
       "<IPython.core.display.Markdown object>"
      ]
     },
     "metadata": {},
     "output_type": "display_data"
    },
    {
     "data": {
      "text/markdown": [
       "### Total ids after mapping: 1"
      ],
      "text/plain": [
       "<IPython.core.display.Markdown object>"
      ]
     },
     "metadata": {},
     "output_type": "display_data"
    },
    {
     "data": {
      "text/markdown": [
       "## Assign new ids to final set of postprocessed ids"
      ],
      "text/plain": [
       "<IPython.core.display.Markdown object>"
      ]
     },
     "metadata": {},
     "output_type": "display_data"
    },
    {
     "data": {
      "text/markdown": [
       "## Created ID Map for session: 1-05410B, session:11-classinsight-cmu_05410B_ghc_4211_201903131500-front from 51 to 1 ids"
      ],
      "text/plain": [
       "<IPython.core.display.Markdown object>"
      ]
     },
     "metadata": {},
     "output_type": "display_data"
    },
    {
     "data": {
      "text/markdown": [
       "## FILE EXISTS: ID Map for session: 1-05410B, session:12-classinsight-cmu_05410B_ghc_4211_201903181500-front"
      ],
      "text/plain": [
       "<IPython.core.display.Markdown object>"
      ]
     },
     "metadata": {},
     "output_type": "display_data"
    },
    {
     "data": {
      "text/markdown": [
       "# 1-05410B, session:13-classinsight-cmu_05410B_ghc_4211_201903201500-front"
      ],
      "text/plain": [
       "<IPython.core.display.Markdown object>"
      ]
     },
     "metadata": {},
     "output_type": "display_data"
    },
    {
     "data": {
      "text/markdown": [
       "## Raw tracking shape:(5808, 109)"
      ],
      "text/plain": [
       "<IPython.core.display.Markdown object>"
      ]
     },
     "metadata": {},
     "output_type": "display_data"
    },
    {
     "data": {
      "text/markdown": [
       "## Filter non-persistentids"
      ],
      "text/plain": [
       "<IPython.core.display.Markdown object>"
      ]
     },
     "metadata": {},
     "output_type": "display_data"
    },
    {
     "data": {
      "text/markdown": [
       "### Total ids before filtering: 109"
      ],
      "text/plain": [
       "<IPython.core.display.Markdown object>"
      ]
     },
     "metadata": {},
     "output_type": "display_data"
    },
    {
     "data": {
      "text/markdown": [
       "### Total ids after filtering: 6"
      ],
      "text/plain": [
       "<IPython.core.display.Markdown object>"
      ]
     },
     "metadata": {},
     "output_type": "display_data"
    },
    {
     "data": {
      "text/markdown": [
       "## Map ids into one based on bbox overlap and id start/stop distance"
      ],
      "text/plain": [
       "<IPython.core.display.Markdown object>"
      ]
     },
     "metadata": {},
     "output_type": "display_data"
    },
    {
     "data": {
      "text/markdown": [
       "### Total ids after mapping: 5"
      ],
      "text/plain": [
       "<IPython.core.display.Markdown object>"
      ]
     },
     "metadata": {},
     "output_type": "display_data"
    },
    {
     "data": {
      "text/markdown": [
       "## Assign new ids to final set of postprocessed ids"
      ],
      "text/plain": [
       "<IPython.core.display.Markdown object>"
      ]
     },
     "metadata": {},
     "output_type": "display_data"
    },
    {
     "data": {
      "text/markdown": [
       "## Created ID Map for session: 1-05410B, session:13-classinsight-cmu_05410B_ghc_4211_201903201500-front from 109 to 5 ids"
      ],
      "text/plain": [
       "<IPython.core.display.Markdown object>"
      ]
     },
     "metadata": {},
     "output_type": "display_data"
    },
    {
     "data": {
      "text/markdown": [
       "# 1-05410B, session:14-classinsight-cmu_05410B_ghc_4211_201903271500-front"
      ],
      "text/plain": [
       "<IPython.core.display.Markdown object>"
      ]
     },
     "metadata": {},
     "output_type": "display_data"
    },
    {
     "data": {
      "text/markdown": [
       "## Raw tracking shape:(6197, 34)"
      ],
      "text/plain": [
       "<IPython.core.display.Markdown object>"
      ]
     },
     "metadata": {},
     "output_type": "display_data"
    },
    {
     "data": {
      "text/markdown": [
       "## Filter non-persistentids"
      ],
      "text/plain": [
       "<IPython.core.display.Markdown object>"
      ]
     },
     "metadata": {},
     "output_type": "display_data"
    },
    {
     "data": {
      "text/markdown": [
       "### Total ids before filtering: 34"
      ],
      "text/plain": [
       "<IPython.core.display.Markdown object>"
      ]
     },
     "metadata": {},
     "output_type": "display_data"
    },
    {
     "data": {
      "text/markdown": [
       "### Total ids after filtering: 0"
      ],
      "text/plain": [
       "<IPython.core.display.Markdown object>"
      ]
     },
     "metadata": {},
     "output_type": "display_data"
    },
    {
     "data": {
      "text/markdown": [
       "## Map ids into one based on bbox overlap and id start/stop distance"
      ],
      "text/plain": [
       "<IPython.core.display.Markdown object>"
      ]
     },
     "metadata": {},
     "output_type": "display_data"
    },
    {
     "data": {
      "text/markdown": [
       "### Total ids after mapping: 0"
      ],
      "text/plain": [
       "<IPython.core.display.Markdown object>"
      ]
     },
     "metadata": {},
     "output_type": "display_data"
    },
    {
     "data": {
      "text/markdown": [
       "## Assign new ids to final set of postprocessed ids"
      ],
      "text/plain": [
       "<IPython.core.display.Markdown object>"
      ]
     },
     "metadata": {},
     "output_type": "display_data"
    },
    {
     "data": {
      "text/markdown": [
       "## Created ID Map for session: 1-05410B, session:14-classinsight-cmu_05410B_ghc_4211_201903271500-front from 34 to 0 ids"
      ],
      "text/plain": [
       "<IPython.core.display.Markdown object>"
      ]
     },
     "metadata": {},
     "output_type": "display_data"
    },
    {
     "data": {
      "text/markdown": [
       "# 1-05410B, session:15-classinsight-cmu_05410B_ghc_4211_201904031500-front"
      ],
      "text/plain": [
       "<IPython.core.display.Markdown object>"
      ]
     },
     "metadata": {},
     "output_type": "display_data"
    },
    {
     "data": {
      "text/markdown": [
       "## Raw tracking shape:(21148, 2)"
      ],
      "text/plain": [
       "<IPython.core.display.Markdown object>"
      ]
     },
     "metadata": {},
     "output_type": "display_data"
    },
    {
     "data": {
      "text/markdown": [
       "## Filter non-persistentids"
      ],
      "text/plain": [
       "<IPython.core.display.Markdown object>"
      ]
     },
     "metadata": {},
     "output_type": "display_data"
    },
    {
     "data": {
      "text/markdown": [
       "### Total ids before filtering: 2"
      ],
      "text/plain": [
       "<IPython.core.display.Markdown object>"
      ]
     },
     "metadata": {},
     "output_type": "display_data"
    },
    {
     "data": {
      "text/markdown": [
       "### Total ids after filtering: 2"
      ],
      "text/plain": [
       "<IPython.core.display.Markdown object>"
      ]
     },
     "metadata": {},
     "output_type": "display_data"
    },
    {
     "data": {
      "text/markdown": [
       "## Map ids into one based on bbox overlap and id start/stop distance"
      ],
      "text/plain": [
       "<IPython.core.display.Markdown object>"
      ]
     },
     "metadata": {},
     "output_type": "display_data"
    },
    {
     "data": {
      "text/markdown": [
       "### Total ids after mapping: 2"
      ],
      "text/plain": [
       "<IPython.core.display.Markdown object>"
      ]
     },
     "metadata": {},
     "output_type": "display_data"
    },
    {
     "data": {
      "text/markdown": [
       "## Assign new ids to final set of postprocessed ids"
      ],
      "text/plain": [
       "<IPython.core.display.Markdown object>"
      ]
     },
     "metadata": {},
     "output_type": "display_data"
    },
    {
     "data": {
      "text/markdown": [
       "## Created ID Map for session: 1-05410B, session:15-classinsight-cmu_05410B_ghc_4211_201904031500-front from 2 to 2 ids"
      ],
      "text/plain": [
       "<IPython.core.display.Markdown object>"
      ]
     },
     "metadata": {},
     "output_type": "display_data"
    },
    {
     "data": {
      "text/markdown": [
       "## FILE EXISTS: ID Map for session: 1-05410B, session:16-classinsight-cmu_05410B_ghc_4211_201904081500-front"
      ],
      "text/plain": [
       "<IPython.core.display.Markdown object>"
      ]
     },
     "metadata": {},
     "output_type": "display_data"
    },
    {
     "data": {
      "text/markdown": [
       "# 1-05410B, session:17-classinsight-cmu_05410B_ghc_4211_201904101500-front"
      ],
      "text/plain": [
       "<IPython.core.display.Markdown object>"
      ]
     },
     "metadata": {},
     "output_type": "display_data"
    },
    {
     "data": {
      "text/markdown": [
       "## Raw tracking shape:(24002, 3)"
      ],
      "text/plain": [
       "<IPython.core.display.Markdown object>"
      ]
     },
     "metadata": {},
     "output_type": "display_data"
    },
    {
     "data": {
      "text/markdown": [
       "## Filter non-persistentids"
      ],
      "text/plain": [
       "<IPython.core.display.Markdown object>"
      ]
     },
     "metadata": {},
     "output_type": "display_data"
    },
    {
     "data": {
      "text/markdown": [
       "### Total ids before filtering: 3"
      ],
      "text/plain": [
       "<IPython.core.display.Markdown object>"
      ]
     },
     "metadata": {},
     "output_type": "display_data"
    },
    {
     "data": {
      "text/markdown": [
       "### Total ids after filtering: 1"
      ],
      "text/plain": [
       "<IPython.core.display.Markdown object>"
      ]
     },
     "metadata": {},
     "output_type": "display_data"
    },
    {
     "data": {
      "text/markdown": [
       "## Map ids into one based on bbox overlap and id start/stop distance"
      ],
      "text/plain": [
       "<IPython.core.display.Markdown object>"
      ]
     },
     "metadata": {},
     "output_type": "display_data"
    },
    {
     "data": {
      "text/markdown": [
       "### Total ids after mapping: 1"
      ],
      "text/plain": [
       "<IPython.core.display.Markdown object>"
      ]
     },
     "metadata": {},
     "output_type": "display_data"
    },
    {
     "data": {
      "text/markdown": [
       "## Assign new ids to final set of postprocessed ids"
      ],
      "text/plain": [
       "<IPython.core.display.Markdown object>"
      ]
     },
     "metadata": {},
     "output_type": "display_data"
    },
    {
     "data": {
      "text/markdown": [
       "## Created ID Map for session: 1-05410B, session:17-classinsight-cmu_05410B_ghc_4211_201904101500-front from 3 to 1 ids"
      ],
      "text/plain": [
       "<IPython.core.display.Markdown object>"
      ]
     },
     "metadata": {},
     "output_type": "display_data"
    },
    {
     "data": {
      "text/markdown": [
       "## FILE EXISTS: ID Map for session: 1-05410B, session:18-classinsight-cmu_05410B_ghc_4211_201904151500-front"
      ],
      "text/plain": [
       "<IPython.core.display.Markdown object>"
      ]
     },
     "metadata": {},
     "output_type": "display_data"
    },
    {
     "data": {
      "text/markdown": [
       "# 1-05410B, session:19-classinsight-cmu_05410B_ghc_4211_201904171500-front"
      ],
      "text/plain": [
       "<IPython.core.display.Markdown object>"
      ]
     },
     "metadata": {},
     "output_type": "display_data"
    },
    {
     "data": {
      "text/markdown": [
       "## Raw tracking shape:(23998, 0)"
      ],
      "text/plain": [
       "<IPython.core.display.Markdown object>"
      ]
     },
     "metadata": {},
     "output_type": "display_data"
    },
    {
     "data": {
      "text/markdown": [
       "## Filter non-persistentids"
      ],
      "text/plain": [
       "<IPython.core.display.Markdown object>"
      ]
     },
     "metadata": {},
     "output_type": "display_data"
    },
    {
     "data": {
      "text/markdown": [
       "### Total ids before filtering: 0"
      ],
      "text/plain": [
       "<IPython.core.display.Markdown object>"
      ]
     },
     "metadata": {},
     "output_type": "display_data"
    },
    {
     "data": {
      "text/markdown": [
       "### Total ids after filtering: 0"
      ],
      "text/plain": [
       "<IPython.core.display.Markdown object>"
      ]
     },
     "metadata": {},
     "output_type": "display_data"
    },
    {
     "data": {
      "text/markdown": [
       "## Map ids into one based on bbox overlap and id start/stop distance"
      ],
      "text/plain": [
       "<IPython.core.display.Markdown object>"
      ]
     },
     "metadata": {},
     "output_type": "display_data"
    },
    {
     "data": {
      "text/markdown": [
       "### Total ids after mapping: 0"
      ],
      "text/plain": [
       "<IPython.core.display.Markdown object>"
      ]
     },
     "metadata": {},
     "output_type": "display_data"
    },
    {
     "data": {
      "text/markdown": [
       "## Assign new ids to final set of postprocessed ids"
      ],
      "text/plain": [
       "<IPython.core.display.Markdown object>"
      ]
     },
     "metadata": {},
     "output_type": "display_data"
    },
    {
     "data": {
      "text/markdown": [
       "## Created ID Map for session: 1-05410B, session:19-classinsight-cmu_05410B_ghc_4211_201904171500-front from 0 to 0 ids"
      ],
      "text/plain": [
       "<IPython.core.display.Markdown object>"
      ]
     },
     "metadata": {},
     "output_type": "display_data"
    },
    {
     "data": {
      "text/markdown": [
       "## FILE EXISTS: ID Map for session: 1-05410B, session:20-classinsight-cmu_05410B_ghc_4211_201904221500-front"
      ],
      "text/plain": [
       "<IPython.core.display.Markdown object>"
      ]
     },
     "metadata": {},
     "output_type": "display_data"
    },
    {
     "data": {
      "text/markdown": [
       "# 1-05410B, session:21-classinsight-cmu_05410B_ghc_4211_201901211500-front"
      ],
      "text/plain": [
       "<IPython.core.display.Markdown object>"
      ]
     },
     "metadata": {},
     "output_type": "display_data"
    },
    {
     "data": {
      "text/markdown": [
       "## Raw tracking shape:(23971, 130)"
      ],
      "text/plain": [
       "<IPython.core.display.Markdown object>"
      ]
     },
     "metadata": {},
     "output_type": "display_data"
    },
    {
     "data": {
      "text/markdown": [
       "## Filter non-persistentids"
      ],
      "text/plain": [
       "<IPython.core.display.Markdown object>"
      ]
     },
     "metadata": {},
     "output_type": "display_data"
    },
    {
     "data": {
      "text/markdown": [
       "### Total ids before filtering: 130"
      ],
      "text/plain": [
       "<IPython.core.display.Markdown object>"
      ]
     },
     "metadata": {},
     "output_type": "display_data"
    },
    {
     "data": {
      "text/markdown": [
       "### Total ids after filtering: 13"
      ],
      "text/plain": [
       "<IPython.core.display.Markdown object>"
      ]
     },
     "metadata": {},
     "output_type": "display_data"
    },
    {
     "data": {
      "text/markdown": [
       "## Map ids into one based on bbox overlap and id start/stop distance"
      ],
      "text/plain": [
       "<IPython.core.display.Markdown object>"
      ]
     },
     "metadata": {},
     "output_type": "display_data"
    },
    {
     "data": {
      "text/markdown": [
       "### Total ids after mapping: 11"
      ],
      "text/plain": [
       "<IPython.core.display.Markdown object>"
      ]
     },
     "metadata": {},
     "output_type": "display_data"
    },
    {
     "data": {
      "text/markdown": [
       "## Assign new ids to final set of postprocessed ids"
      ],
      "text/plain": [
       "<IPython.core.display.Markdown object>"
      ]
     },
     "metadata": {},
     "output_type": "display_data"
    },
    {
     "data": {
      "text/markdown": [
       "## Created ID Map for session: 1-05410B, session:21-classinsight-cmu_05410B_ghc_4211_201901211500-front from 130 to 11 ids"
      ],
      "text/plain": [
       "<IPython.core.display.Markdown object>"
      ]
     },
     "metadata": {},
     "output_type": "display_data"
    },
    {
     "data": {
      "text/markdown": [
       "# 1-05410B, session:22-classinsight-cmu_05410B_ghc_4211_201901231500-front"
      ],
      "text/plain": [
       "<IPython.core.display.Markdown object>"
      ]
     },
     "metadata": {},
     "output_type": "display_data"
    },
    {
     "data": {
      "text/markdown": [
       "## Raw tracking shape:(23924, 233)"
      ],
      "text/plain": [
       "<IPython.core.display.Markdown object>"
      ]
     },
     "metadata": {},
     "output_type": "display_data"
    },
    {
     "data": {
      "text/markdown": [
       "## Filter non-persistentids"
      ],
      "text/plain": [
       "<IPython.core.display.Markdown object>"
      ]
     },
     "metadata": {},
     "output_type": "display_data"
    },
    {
     "data": {
      "text/markdown": [
       "### Total ids before filtering: 233"
      ],
      "text/plain": [
       "<IPython.core.display.Markdown object>"
      ]
     },
     "metadata": {},
     "output_type": "display_data"
    },
    {
     "data": {
      "text/markdown": [
       "### Total ids after filtering: 18"
      ],
      "text/plain": [
       "<IPython.core.display.Markdown object>"
      ]
     },
     "metadata": {},
     "output_type": "display_data"
    },
    {
     "data": {
      "text/markdown": [
       "## Map ids into one based on bbox overlap and id start/stop distance"
      ],
      "text/plain": [
       "<IPython.core.display.Markdown object>"
      ]
     },
     "metadata": {},
     "output_type": "display_data"
    },
    {
     "data": {
      "text/markdown": [
       "### Total ids after mapping: 12"
      ],
      "text/plain": [
       "<IPython.core.display.Markdown object>"
      ]
     },
     "metadata": {},
     "output_type": "display_data"
    },
    {
     "data": {
      "text/markdown": [
       "## Assign new ids to final set of postprocessed ids"
      ],
      "text/plain": [
       "<IPython.core.display.Markdown object>"
      ]
     },
     "metadata": {},
     "output_type": "display_data"
    },
    {
     "data": {
      "text/markdown": [
       "## Created ID Map for session: 1-05410B, session:22-classinsight-cmu_05410B_ghc_4211_201901231500-front from 233 to 12 ids"
      ],
      "text/plain": [
       "<IPython.core.display.Markdown object>"
      ]
     },
     "metadata": {},
     "output_type": "display_data"
    },
    {
     "data": {
      "text/markdown": [
       "## FILE EXISTS: ID Map for session: 1-05410B, session:23-classinsight-cmu_05410B_ghc_4211_201901281500-front"
      ],
      "text/plain": [
       "<IPython.core.display.Markdown object>"
      ]
     },
     "metadata": {},
     "output_type": "display_data"
    },
    {
     "data": {
      "text/markdown": [
       "# 1-05410B, session:24-classinsight-cmu_05410B_ghc_4211_201904011500-front"
      ],
      "text/plain": [
       "<IPython.core.display.Markdown object>"
      ]
     },
     "metadata": {},
     "output_type": "display_data"
    },
    {
     "data": {
      "text/markdown": [
       "## Raw tracking shape:(5233, 257)"
      ],
      "text/plain": [
       "<IPython.core.display.Markdown object>"
      ]
     },
     "metadata": {},
     "output_type": "display_data"
    },
    {
     "data": {
      "text/markdown": [
       "## Filter non-persistentids"
      ],
      "text/plain": [
       "<IPython.core.display.Markdown object>"
      ]
     },
     "metadata": {},
     "output_type": "display_data"
    },
    {
     "data": {
      "text/markdown": [
       "### Total ids before filtering: 257"
      ],
      "text/plain": [
       "<IPython.core.display.Markdown object>"
      ]
     },
     "metadata": {},
     "output_type": "display_data"
    },
    {
     "data": {
      "text/markdown": [
       "### Total ids after filtering: 21"
      ],
      "text/plain": [
       "<IPython.core.display.Markdown object>"
      ]
     },
     "metadata": {},
     "output_type": "display_data"
    },
    {
     "data": {
      "text/markdown": [
       "## Map ids into one based on bbox overlap and id start/stop distance"
      ],
      "text/plain": [
       "<IPython.core.display.Markdown object>"
      ]
     },
     "metadata": {},
     "output_type": "display_data"
    },
    {
     "data": {
      "text/markdown": [
       "### Total ids after mapping: 18"
      ],
      "text/plain": [
       "<IPython.core.display.Markdown object>"
      ]
     },
     "metadata": {},
     "output_type": "display_data"
    },
    {
     "data": {
      "text/markdown": [
       "## Assign new ids to final set of postprocessed ids"
      ],
      "text/plain": [
       "<IPython.core.display.Markdown object>"
      ]
     },
     "metadata": {},
     "output_type": "display_data"
    },
    {
     "data": {
      "text/markdown": [
       "## Created ID Map for session: 1-05410B, session:24-classinsight-cmu_05410B_ghc_4211_201904011500-front from 257 to 18 ids"
      ],
      "text/plain": [
       "<IPython.core.display.Markdown object>"
      ]
     },
     "metadata": {},
     "output_type": "display_data"
    },
    {
     "data": {
      "text/markdown": [
       "# 1-05410B, session:25-classinsight-cmu_05410B_ghc_4211_201904241500-front"
      ],
      "text/plain": [
       "<IPython.core.display.Markdown object>"
      ]
     },
     "metadata": {},
     "output_type": "display_data"
    },
    {
     "data": {
      "text/markdown": [
       "## Raw tracking shape:(13348, 0)"
      ],
      "text/plain": [
       "<IPython.core.display.Markdown object>"
      ]
     },
     "metadata": {},
     "output_type": "display_data"
    },
    {
     "data": {
      "text/markdown": [
       "## Filter non-persistentids"
      ],
      "text/plain": [
       "<IPython.core.display.Markdown object>"
      ]
     },
     "metadata": {},
     "output_type": "display_data"
    },
    {
     "data": {
      "text/markdown": [
       "### Total ids before filtering: 0"
      ],
      "text/plain": [
       "<IPython.core.display.Markdown object>"
      ]
     },
     "metadata": {},
     "output_type": "display_data"
    },
    {
     "data": {
      "text/markdown": [
       "### Total ids after filtering: 0"
      ],
      "text/plain": [
       "<IPython.core.display.Markdown object>"
      ]
     },
     "metadata": {},
     "output_type": "display_data"
    },
    {
     "data": {
      "text/markdown": [
       "## Map ids into one based on bbox overlap and id start/stop distance"
      ],
      "text/plain": [
       "<IPython.core.display.Markdown object>"
      ]
     },
     "metadata": {},
     "output_type": "display_data"
    },
    {
     "data": {
      "text/markdown": [
       "### Total ids after mapping: 0"
      ],
      "text/plain": [
       "<IPython.core.display.Markdown object>"
      ]
     },
     "metadata": {},
     "output_type": "display_data"
    },
    {
     "data": {
      "text/markdown": [
       "## Assign new ids to final set of postprocessed ids"
      ],
      "text/plain": [
       "<IPython.core.display.Markdown object>"
      ]
     },
     "metadata": {},
     "output_type": "display_data"
    },
    {
     "data": {
      "text/markdown": [
       "## Created ID Map for session: 1-05410B, session:25-classinsight-cmu_05410B_ghc_4211_201904241500-front from 0 to 0 ids"
      ],
      "text/plain": [
       "<IPython.core.display.Markdown object>"
      ]
     },
     "metadata": {},
     "output_type": "display_data"
    },
    {
     "data": {
      "text/markdown": [
       "# 1-05410B, session:26-classinsight-cmu_05410B_ghc_4211_201904291500-front"
      ],
      "text/plain": [
       "<IPython.core.display.Markdown object>"
      ]
     },
     "metadata": {},
     "output_type": "display_data"
    },
    {
     "data": {
      "text/markdown": [
       "## Raw tracking shape:(3298, 0)"
      ],
      "text/plain": [
       "<IPython.core.display.Markdown object>"
      ]
     },
     "metadata": {},
     "output_type": "display_data"
    },
    {
     "data": {
      "text/markdown": [
       "## Filter non-persistentids"
      ],
      "text/plain": [
       "<IPython.core.display.Markdown object>"
      ]
     },
     "metadata": {},
     "output_type": "display_data"
    },
    {
     "data": {
      "text/markdown": [
       "### Total ids before filtering: 0"
      ],
      "text/plain": [
       "<IPython.core.display.Markdown object>"
      ]
     },
     "metadata": {},
     "output_type": "display_data"
    },
    {
     "data": {
      "text/markdown": [
       "### Total ids after filtering: 0"
      ],
      "text/plain": [
       "<IPython.core.display.Markdown object>"
      ]
     },
     "metadata": {},
     "output_type": "display_data"
    },
    {
     "data": {
      "text/markdown": [
       "## Map ids into one based on bbox overlap and id start/stop distance"
      ],
      "text/plain": [
       "<IPython.core.display.Markdown object>"
      ]
     },
     "metadata": {},
     "output_type": "display_data"
    },
    {
     "data": {
      "text/markdown": [
       "### Total ids after mapping: 0"
      ],
      "text/plain": [
       "<IPython.core.display.Markdown object>"
      ]
     },
     "metadata": {},
     "output_type": "display_data"
    },
    {
     "data": {
      "text/markdown": [
       "## Assign new ids to final set of postprocessed ids"
      ],
      "text/plain": [
       "<IPython.core.display.Markdown object>"
      ]
     },
     "metadata": {},
     "output_type": "display_data"
    },
    {
     "data": {
      "text/markdown": [
       "## Created ID Map for session: 1-05410B, session:26-classinsight-cmu_05410B_ghc_4211_201904291500-front from 0 to 0 ids"
      ],
      "text/plain": [
       "<IPython.core.display.Markdown object>"
      ]
     },
     "metadata": {},
     "output_type": "display_data"
    },
    {
     "data": {
      "text/markdown": [
       "# 1-05410B, session:27-classinsight-cmu_05410B_ghc_4211_201905011500-front"
      ],
      "text/plain": [
       "<IPython.core.display.Markdown object>"
      ]
     },
     "metadata": {},
     "output_type": "display_data"
    },
    {
     "data": {
      "text/markdown": [
       "## Raw tracking shape:(24001, 197)"
      ],
      "text/plain": [
       "<IPython.core.display.Markdown object>"
      ]
     },
     "metadata": {},
     "output_type": "display_data"
    },
    {
     "data": {
      "text/markdown": [
       "## Filter non-persistentids"
      ],
      "text/plain": [
       "<IPython.core.display.Markdown object>"
      ]
     },
     "metadata": {},
     "output_type": "display_data"
    },
    {
     "data": {
      "text/markdown": [
       "### Total ids before filtering: 197"
      ],
      "text/plain": [
       "<IPython.core.display.Markdown object>"
      ]
     },
     "metadata": {},
     "output_type": "display_data"
    },
    {
     "data": {
      "text/markdown": [
       "### Total ids after filtering: 6"
      ],
      "text/plain": [
       "<IPython.core.display.Markdown object>"
      ]
     },
     "metadata": {},
     "output_type": "display_data"
    },
    {
     "data": {
      "text/markdown": [
       "## Map ids into one based on bbox overlap and id start/stop distance"
      ],
      "text/plain": [
       "<IPython.core.display.Markdown object>"
      ]
     },
     "metadata": {},
     "output_type": "display_data"
    },
    {
     "data": {
      "text/markdown": [
       "### Total ids after mapping: 6"
      ],
      "text/plain": [
       "<IPython.core.display.Markdown object>"
      ]
     },
     "metadata": {},
     "output_type": "display_data"
    },
    {
     "data": {
      "text/markdown": [
       "## Assign new ids to final set of postprocessed ids"
      ],
      "text/plain": [
       "<IPython.core.display.Markdown object>"
      ]
     },
     "metadata": {},
     "output_type": "display_data"
    },
    {
     "data": {
      "text/markdown": [
       "## Created ID Map for session: 1-05410B, session:27-classinsight-cmu_05410B_ghc_4211_201905011500-front from 197 to 6 ids"
      ],
      "text/plain": [
       "<IPython.core.display.Markdown object>"
      ]
     },
     "metadata": {},
     "output_type": "display_data"
    },
    {
     "data": {
      "text/markdown": [
       "## FILE EXISTS: ID Map for session: 2-17214C, session:0-classinsight-cmu_17214C_ph_225b_201903201130-front"
      ],
      "text/plain": [
       "<IPython.core.display.Markdown object>"
      ]
     },
     "metadata": {},
     "output_type": "display_data"
    },
    {
     "data": {
      "text/markdown": [
       "## FILE EXISTS: ID Map for session: 2-17214C, session:1-classinsight-cmu_17214C_ph_225b_201904031130-front"
      ],
      "text/plain": [
       "<IPython.core.display.Markdown object>"
      ]
     },
     "metadata": {},
     "output_type": "display_data"
    },
    {
     "data": {
      "text/markdown": [
       "## FILE EXISTS: ID Map for session: 2-17214C, session:2-classinsight-cmu_17214C_ph_225b_201904101130-front"
      ],
      "text/plain": [
       "<IPython.core.display.Markdown object>"
      ]
     },
     "metadata": {},
     "output_type": "display_data"
    },
    {
     "data": {
      "text/markdown": [
       "## FILE EXISTS: ID Map for session: 2-17214C, session:3-classinsight-cmu_17214C_ph_225b_201904171130-front"
      ],
      "text/plain": [
       "<IPython.core.display.Markdown object>"
      ]
     },
     "metadata": {},
     "output_type": "display_data"
    },
    {
     "data": {
      "text/markdown": [
       "## FILE EXISTS: ID Map for session: 2-17214C, session:4-classinsight-cmu_17214C_ph_225b_201904241130-front"
      ],
      "text/plain": [
       "<IPython.core.display.Markdown object>"
      ]
     },
     "metadata": {},
     "output_type": "display_data"
    },
    {
     "data": {
      "text/markdown": [
       "## FILE EXISTS: ID Map for session: 2-17214C, session:5-classinsight-cmu_17214C_ph_225b_201905011130-front"
      ],
      "text/plain": [
       "<IPython.core.display.Markdown object>"
      ]
     },
     "metadata": {},
     "output_type": "display_data"
    },
    {
     "data": {
      "text/markdown": [
       "# 3-17214B, session:0-classinsight-cmu_17214B_ph_a21_201901301030-front"
      ],
      "text/plain": [
       "<IPython.core.display.Markdown object>"
      ]
     },
     "metadata": {},
     "output_type": "display_data"
    },
    {
     "data": {
      "text/markdown": [
       "## Raw tracking shape:(7476, 0)"
      ],
      "text/plain": [
       "<IPython.core.display.Markdown object>"
      ]
     },
     "metadata": {},
     "output_type": "display_data"
    },
    {
     "data": {
      "text/markdown": [
       "## Filter non-persistentids"
      ],
      "text/plain": [
       "<IPython.core.display.Markdown object>"
      ]
     },
     "metadata": {},
     "output_type": "display_data"
    },
    {
     "data": {
      "text/markdown": [
       "### Total ids before filtering: 0"
      ],
      "text/plain": [
       "<IPython.core.display.Markdown object>"
      ]
     },
     "metadata": {},
     "output_type": "display_data"
    },
    {
     "data": {
      "text/markdown": [
       "### Total ids after filtering: 0"
      ],
      "text/plain": [
       "<IPython.core.display.Markdown object>"
      ]
     },
     "metadata": {},
     "output_type": "display_data"
    },
    {
     "data": {
      "text/markdown": [
       "## Map ids into one based on bbox overlap and id start/stop distance"
      ],
      "text/plain": [
       "<IPython.core.display.Markdown object>"
      ]
     },
     "metadata": {},
     "output_type": "display_data"
    },
    {
     "data": {
      "text/markdown": [
       "### Total ids after mapping: 0"
      ],
      "text/plain": [
       "<IPython.core.display.Markdown object>"
      ]
     },
     "metadata": {},
     "output_type": "display_data"
    },
    {
     "data": {
      "text/markdown": [
       "## Assign new ids to final set of postprocessed ids"
      ],
      "text/plain": [
       "<IPython.core.display.Markdown object>"
      ]
     },
     "metadata": {},
     "output_type": "display_data"
    },
    {
     "data": {
      "text/markdown": [
       "## Created ID Map for session: 3-17214B, session:0-classinsight-cmu_17214B_ph_a21_201901301030-front from 0 to 0 ids"
      ],
      "text/plain": [
       "<IPython.core.display.Markdown object>"
      ]
     },
     "metadata": {},
     "output_type": "display_data"
    },
    {
     "data": {
      "text/markdown": [
       "## FILE EXISTS: ID Map for session: 3-17214B, session:1-classinsight-cmu_17214B_ph_a21_201902271030-front"
      ],
      "text/plain": [
       "<IPython.core.display.Markdown object>"
      ]
     },
     "metadata": {},
     "output_type": "display_data"
    },
    {
     "data": {
      "text/markdown": [
       "## FILE EXISTS: ID Map for session: 3-17214B, session:2-classinsight-cmu_17214B_ph_a21_201903061030-front"
      ],
      "text/plain": [
       "<IPython.core.display.Markdown object>"
      ]
     },
     "metadata": {},
     "output_type": "display_data"
    },
    {
     "data": {
      "text/markdown": [
       "# 3-17214B, session:3-classinsight-cmu_17214B_ph_a21_201903131030-front"
      ],
      "text/plain": [
       "<IPython.core.display.Markdown object>"
      ]
     },
     "metadata": {},
     "output_type": "display_data"
    },
    {
     "data": {
      "text/markdown": [
       "## Raw tracking shape:(5472, 0)"
      ],
      "text/plain": [
       "<IPython.core.display.Markdown object>"
      ]
     },
     "metadata": {},
     "output_type": "display_data"
    },
    {
     "data": {
      "text/markdown": [
       "## Filter non-persistentids"
      ],
      "text/plain": [
       "<IPython.core.display.Markdown object>"
      ]
     },
     "metadata": {},
     "output_type": "display_data"
    },
    {
     "data": {
      "text/markdown": [
       "### Total ids before filtering: 0"
      ],
      "text/plain": [
       "<IPython.core.display.Markdown object>"
      ]
     },
     "metadata": {},
     "output_type": "display_data"
    },
    {
     "data": {
      "text/markdown": [
       "### Total ids after filtering: 0"
      ],
      "text/plain": [
       "<IPython.core.display.Markdown object>"
      ]
     },
     "metadata": {},
     "output_type": "display_data"
    },
    {
     "data": {
      "text/markdown": [
       "## Map ids into one based on bbox overlap and id start/stop distance"
      ],
      "text/plain": [
       "<IPython.core.display.Markdown object>"
      ]
     },
     "metadata": {},
     "output_type": "display_data"
    },
    {
     "data": {
      "text/markdown": [
       "### Total ids after mapping: 0"
      ],
      "text/plain": [
       "<IPython.core.display.Markdown object>"
      ]
     },
     "metadata": {},
     "output_type": "display_data"
    },
    {
     "data": {
      "text/markdown": [
       "## Assign new ids to final set of postprocessed ids"
      ],
      "text/plain": [
       "<IPython.core.display.Markdown object>"
      ]
     },
     "metadata": {},
     "output_type": "display_data"
    },
    {
     "data": {
      "text/markdown": [
       "## Created ID Map for session: 3-17214B, session:3-classinsight-cmu_17214B_ph_a21_201903131030-front from 0 to 0 ids"
      ],
      "text/plain": [
       "<IPython.core.display.Markdown object>"
      ]
     },
     "metadata": {},
     "output_type": "display_data"
    },
    {
     "data": {
      "text/markdown": [
       "# 3-17214B, session:4-classinsight-cmu_17214B_ph_a21_201903201030-front"
      ],
      "text/plain": [
       "<IPython.core.display.Markdown object>"
      ]
     },
     "metadata": {},
     "output_type": "display_data"
    },
    {
     "data": {
      "text/markdown": [
       "## Raw tracking shape:(5480, 561)"
      ],
      "text/plain": [
       "<IPython.core.display.Markdown object>"
      ]
     },
     "metadata": {},
     "output_type": "display_data"
    },
    {
     "data": {
      "text/markdown": [
       "## Filter non-persistentids"
      ],
      "text/plain": [
       "<IPython.core.display.Markdown object>"
      ]
     },
     "metadata": {},
     "output_type": "display_data"
    },
    {
     "data": {
      "text/markdown": [
       "### Total ids before filtering: 561"
      ],
      "text/plain": [
       "<IPython.core.display.Markdown object>"
      ]
     },
     "metadata": {},
     "output_type": "display_data"
    },
    {
     "data": {
      "text/markdown": [
       "### Total ids after filtering: 23"
      ],
      "text/plain": [
       "<IPython.core.display.Markdown object>"
      ]
     },
     "metadata": {},
     "output_type": "display_data"
    },
    {
     "data": {
      "text/markdown": [
       "## Map ids into one based on bbox overlap and id start/stop distance"
      ],
      "text/plain": [
       "<IPython.core.display.Markdown object>"
      ]
     },
     "metadata": {},
     "output_type": "display_data"
    },
    {
     "data": {
      "text/markdown": [
       "### Total ids after mapping: 20"
      ],
      "text/plain": [
       "<IPython.core.display.Markdown object>"
      ]
     },
     "metadata": {},
     "output_type": "display_data"
    },
    {
     "data": {
      "text/markdown": [
       "## Assign new ids to final set of postprocessed ids"
      ],
      "text/plain": [
       "<IPython.core.display.Markdown object>"
      ]
     },
     "metadata": {},
     "output_type": "display_data"
    },
    {
     "data": {
      "text/markdown": [
       "## Created ID Map for session: 3-17214B, session:4-classinsight-cmu_17214B_ph_a21_201903201030-front from 561 to 20 ids"
      ],
      "text/plain": [
       "<IPython.core.display.Markdown object>"
      ]
     },
     "metadata": {},
     "output_type": "display_data"
    },
    {
     "data": {
      "text/markdown": [
       "## FILE EXISTS: ID Map for session: 3-17214B, session:5-classinsight-cmu_17214B_ph_a21_201904031030-front"
      ],
      "text/plain": [
       "<IPython.core.display.Markdown object>"
      ]
     },
     "metadata": {},
     "output_type": "display_data"
    },
    {
     "data": {
      "text/markdown": [
       "## FILE EXISTS: ID Map for session: 3-17214B, session:6-classinsight-cmu_17214B_ph_a21_201904101030-front"
      ],
      "text/plain": [
       "<IPython.core.display.Markdown object>"
      ]
     },
     "metadata": {},
     "output_type": "display_data"
    },
    {
     "data": {
      "text/markdown": [
       "# 3-17214B, session:7-classinsight-cmu_17214B_ph_a21_201904171030-front"
      ],
      "text/plain": [
       "<IPython.core.display.Markdown object>"
      ]
     },
     "metadata": {},
     "output_type": "display_data"
    },
    {
     "data": {
      "text/markdown": [
       "## Raw tracking shape:(9300, 413)"
      ],
      "text/plain": [
       "<IPython.core.display.Markdown object>"
      ]
     },
     "metadata": {},
     "output_type": "display_data"
    },
    {
     "data": {
      "text/markdown": [
       "## Filter non-persistentids"
      ],
      "text/plain": [
       "<IPython.core.display.Markdown object>"
      ]
     },
     "metadata": {},
     "output_type": "display_data"
    },
    {
     "data": {
      "text/markdown": [
       "### Total ids before filtering: 413"
      ],
      "text/plain": [
       "<IPython.core.display.Markdown object>"
      ]
     },
     "metadata": {},
     "output_type": "display_data"
    },
    {
     "data": {
      "text/markdown": [
       "### Total ids after filtering: 19"
      ],
      "text/plain": [
       "<IPython.core.display.Markdown object>"
      ]
     },
     "metadata": {},
     "output_type": "display_data"
    },
    {
     "data": {
      "text/markdown": [
       "## Map ids into one based on bbox overlap and id start/stop distance"
      ],
      "text/plain": [
       "<IPython.core.display.Markdown object>"
      ]
     },
     "metadata": {},
     "output_type": "display_data"
    },
    {
     "data": {
      "text/markdown": [
       "### Total ids after mapping: 13"
      ],
      "text/plain": [
       "<IPython.core.display.Markdown object>"
      ]
     },
     "metadata": {},
     "output_type": "display_data"
    },
    {
     "data": {
      "text/markdown": [
       "## Assign new ids to final set of postprocessed ids"
      ],
      "text/plain": [
       "<IPython.core.display.Markdown object>"
      ]
     },
     "metadata": {},
     "output_type": "display_data"
    },
    {
     "data": {
      "text/markdown": [
       "## Created ID Map for session: 3-17214B, session:7-classinsight-cmu_17214B_ph_a21_201904171030-front from 413 to 13 ids"
      ],
      "text/plain": [
       "<IPython.core.display.Markdown object>"
      ]
     },
     "metadata": {},
     "output_type": "display_data"
    },
    {
     "data": {
      "text/markdown": [
       "# 3-17214B, session:8-classinsight-cmu_17214B_ph_a21_201902131045-front"
      ],
      "text/plain": [
       "<IPython.core.display.Markdown object>"
      ]
     },
     "metadata": {},
     "output_type": "display_data"
    },
    {
     "data": {
      "text/markdown": [
       "## Raw tracking shape:(5279, 397)"
      ],
      "text/plain": [
       "<IPython.core.display.Markdown object>"
      ]
     },
     "metadata": {},
     "output_type": "display_data"
    },
    {
     "data": {
      "text/markdown": [
       "## Filter non-persistentids"
      ],
      "text/plain": [
       "<IPython.core.display.Markdown object>"
      ]
     },
     "metadata": {},
     "output_type": "display_data"
    },
    {
     "data": {
      "text/markdown": [
       "### Total ids before filtering: 397"
      ],
      "text/plain": [
       "<IPython.core.display.Markdown object>"
      ]
     },
     "metadata": {},
     "output_type": "display_data"
    },
    {
     "data": {
      "text/markdown": [
       "### Total ids after filtering: 18"
      ],
      "text/plain": [
       "<IPython.core.display.Markdown object>"
      ]
     },
     "metadata": {},
     "output_type": "display_data"
    },
    {
     "data": {
      "text/markdown": [
       "## Map ids into one based on bbox overlap and id start/stop distance"
      ],
      "text/plain": [
       "<IPython.core.display.Markdown object>"
      ]
     },
     "metadata": {},
     "output_type": "display_data"
    },
    {
     "data": {
      "text/markdown": [
       "### Total ids after mapping: 12"
      ],
      "text/plain": [
       "<IPython.core.display.Markdown object>"
      ]
     },
     "metadata": {},
     "output_type": "display_data"
    },
    {
     "data": {
      "text/markdown": [
       "## Assign new ids to final set of postprocessed ids"
      ],
      "text/plain": [
       "<IPython.core.display.Markdown object>"
      ]
     },
     "metadata": {},
     "output_type": "display_data"
    },
    {
     "data": {
      "text/markdown": [
       "## Created ID Map for session: 3-17214B, session:8-classinsight-cmu_17214B_ph_a21_201902131045-front from 397 to 12 ids"
      ],
      "text/plain": [
       "<IPython.core.display.Markdown object>"
      ]
     },
     "metadata": {},
     "output_type": "display_data"
    },
    {
     "data": {
      "text/markdown": [
       "## FILE EXISTS: ID Map for session: 3-17214B, session:9-classinsight-cmu_17214B_ph_a21_201904241030-front"
      ],
      "text/plain": [
       "<IPython.core.display.Markdown object>"
      ]
     },
     "metadata": {},
     "output_type": "display_data"
    },
    {
     "data": {
      "text/markdown": [
       "# 3-17214B, session:10-classinsight-cmu_17214B_ph_a21_201905011030-front"
      ],
      "text/plain": [
       "<IPython.core.display.Markdown object>"
      ]
     },
     "metadata": {},
     "output_type": "display_data"
    },
    {
     "data": {
      "text/markdown": [
       "## Raw tracking shape:(14999, 1274)"
      ],
      "text/plain": [
       "<IPython.core.display.Markdown object>"
      ]
     },
     "metadata": {},
     "output_type": "display_data"
    },
    {
     "data": {
      "text/markdown": [
       "## Filter non-persistentids"
      ],
      "text/plain": [
       "<IPython.core.display.Markdown object>"
      ]
     },
     "metadata": {},
     "output_type": "display_data"
    },
    {
     "data": {
      "text/markdown": [
       "### Total ids before filtering: 1274"
      ],
      "text/plain": [
       "<IPython.core.display.Markdown object>"
      ]
     },
     "metadata": {},
     "output_type": "display_data"
    },
    {
     "data": {
      "text/markdown": [
       "### Total ids after filtering: 38"
      ],
      "text/plain": [
       "<IPython.core.display.Markdown object>"
      ]
     },
     "metadata": {},
     "output_type": "display_data"
    },
    {
     "data": {
      "text/markdown": [
       "## Map ids into one based on bbox overlap and id start/stop distance"
      ],
      "text/plain": [
       "<IPython.core.display.Markdown object>"
      ]
     },
     "metadata": {},
     "output_type": "display_data"
    },
    {
     "data": {
      "text/markdown": [
       "### Total ids after mapping: 21"
      ],
      "text/plain": [
       "<IPython.core.display.Markdown object>"
      ]
     },
     "metadata": {},
     "output_type": "display_data"
    },
    {
     "data": {
      "text/markdown": [
       "## Assign new ids to final set of postprocessed ids"
      ],
      "text/plain": [
       "<IPython.core.display.Markdown object>"
      ]
     },
     "metadata": {},
     "output_type": "display_data"
    },
    {
     "data": {
      "text/markdown": [
       "## Created ID Map for session: 3-17214B, session:10-classinsight-cmu_17214B_ph_a21_201905011030-front from 1274 to 21 ids"
      ],
      "text/plain": [
       "<IPython.core.display.Markdown object>"
      ]
     },
     "metadata": {},
     "output_type": "display_data"
    },
    {
     "data": {
      "text/markdown": [
       "# 4-05681A, session:0-classinsight-cmu_05681A_ghc_4301_201901301630-front"
      ],
      "text/plain": [
       "<IPython.core.display.Markdown object>"
      ]
     },
     "metadata": {},
     "output_type": "display_data"
    },
    {
     "data": {
      "text/markdown": [
       "## Raw tracking shape:(16480, 0)"
      ],
      "text/plain": [
       "<IPython.core.display.Markdown object>"
      ]
     },
     "metadata": {},
     "output_type": "display_data"
    },
    {
     "data": {
      "text/markdown": [
       "## Filter non-persistentids"
      ],
      "text/plain": [
       "<IPython.core.display.Markdown object>"
      ]
     },
     "metadata": {},
     "output_type": "display_data"
    },
    {
     "data": {
      "text/markdown": [
       "### Total ids before filtering: 0"
      ],
      "text/plain": [
       "<IPython.core.display.Markdown object>"
      ]
     },
     "metadata": {},
     "output_type": "display_data"
    },
    {
     "data": {
      "text/markdown": [
       "### Total ids after filtering: 0"
      ],
      "text/plain": [
       "<IPython.core.display.Markdown object>"
      ]
     },
     "metadata": {},
     "output_type": "display_data"
    },
    {
     "data": {
      "text/markdown": [
       "## Map ids into one based on bbox overlap and id start/stop distance"
      ],
      "text/plain": [
       "<IPython.core.display.Markdown object>"
      ]
     },
     "metadata": {},
     "output_type": "display_data"
    },
    {
     "data": {
      "text/markdown": [
       "### Total ids after mapping: 0"
      ],
      "text/plain": [
       "<IPython.core.display.Markdown object>"
      ]
     },
     "metadata": {},
     "output_type": "display_data"
    },
    {
     "data": {
      "text/markdown": [
       "## Assign new ids to final set of postprocessed ids"
      ],
      "text/plain": [
       "<IPython.core.display.Markdown object>"
      ]
     },
     "metadata": {},
     "output_type": "display_data"
    },
    {
     "data": {
      "text/markdown": [
       "## Created ID Map for session: 4-05681A, session:0-classinsight-cmu_05681A_ghc_4301_201901301630-front from 0 to 0 ids"
      ],
      "text/plain": [
       "<IPython.core.display.Markdown object>"
      ]
     },
     "metadata": {},
     "output_type": "display_data"
    },
    {
     "data": {
      "text/markdown": [
       "# 4-05681A, session:1-classinsight-cmu_05681A_ghc_4301_201902061630-front"
      ],
      "text/plain": [
       "<IPython.core.display.Markdown object>"
      ]
     },
     "metadata": {},
     "output_type": "display_data"
    },
    {
     "data": {
      "text/markdown": [
       "## Raw tracking shape:(16467, 6406)"
      ],
      "text/plain": [
       "<IPython.core.display.Markdown object>"
      ]
     },
     "metadata": {},
     "output_type": "display_data"
    },
    {
     "data": {
      "text/markdown": [
       "## Filter non-persistentids"
      ],
      "text/plain": [
       "<IPython.core.display.Markdown object>"
      ]
     },
     "metadata": {},
     "output_type": "display_data"
    },
    {
     "data": {
      "text/markdown": [
       "### Total ids before filtering: 6406"
      ],
      "text/plain": [
       "<IPython.core.display.Markdown object>"
      ]
     },
     "metadata": {},
     "output_type": "display_data"
    },
    {
     "data": {
      "text/markdown": [
       "### Total ids after filtering: 206"
      ],
      "text/plain": [
       "<IPython.core.display.Markdown object>"
      ]
     },
     "metadata": {},
     "output_type": "display_data"
    },
    {
     "data": {
      "text/markdown": [
       "## Map ids into one based on bbox overlap and id start/stop distance"
      ],
      "text/plain": [
       "<IPython.core.display.Markdown object>"
      ]
     },
     "metadata": {},
     "output_type": "display_data"
    },
    {
     "data": {
      "text/markdown": [
       "### Total ids after mapping: 110"
      ],
      "text/plain": [
       "<IPython.core.display.Markdown object>"
      ]
     },
     "metadata": {},
     "output_type": "display_data"
    },
    {
     "data": {
      "text/markdown": [
       "## Assign new ids to final set of postprocessed ids"
      ],
      "text/plain": [
       "<IPython.core.display.Markdown object>"
      ]
     },
     "metadata": {},
     "output_type": "display_data"
    },
    {
     "data": {
      "text/markdown": [
       "## Created ID Map for session: 4-05681A, session:1-classinsight-cmu_05681A_ghc_4301_201902061630-front from 6406 to 110 ids"
      ],
      "text/plain": [
       "<IPython.core.display.Markdown object>"
      ]
     },
     "metadata": {},
     "output_type": "display_data"
    },
    {
     "data": {
      "text/markdown": [
       "# 4-05681A, session:2-classinsight-cmu_05681A_ghc_4301_201902131633-front"
      ],
      "text/plain": [
       "<IPython.core.display.Markdown object>"
      ]
     },
     "metadata": {},
     "output_type": "display_data"
    },
    {
     "data": {
      "text/markdown": [
       "## Raw tracking shape:(5287, 2012)"
      ],
      "text/plain": [
       "<IPython.core.display.Markdown object>"
      ]
     },
     "metadata": {},
     "output_type": "display_data"
    },
    {
     "data": {
      "text/markdown": [
       "## Filter non-persistentids"
      ],
      "text/plain": [
       "<IPython.core.display.Markdown object>"
      ]
     },
     "metadata": {},
     "output_type": "display_data"
    },
    {
     "data": {
      "text/markdown": [
       "### Total ids before filtering: 2012"
      ],
      "text/plain": [
       "<IPython.core.display.Markdown object>"
      ]
     },
     "metadata": {},
     "output_type": "display_data"
    },
    {
     "data": {
      "text/markdown": [
       "### Total ids after filtering: 72"
      ],
      "text/plain": [
       "<IPython.core.display.Markdown object>"
      ]
     },
     "metadata": {},
     "output_type": "display_data"
    },
    {
     "data": {
      "text/markdown": [
       "## Map ids into one based on bbox overlap and id start/stop distance"
      ],
      "text/plain": [
       "<IPython.core.display.Markdown object>"
      ]
     },
     "metadata": {},
     "output_type": "display_data"
    },
    {
     "data": {
      "text/markdown": [
       "### Total ids after mapping: 44"
      ],
      "text/plain": [
       "<IPython.core.display.Markdown object>"
      ]
     },
     "metadata": {},
     "output_type": "display_data"
    },
    {
     "data": {
      "text/markdown": [
       "## Assign new ids to final set of postprocessed ids"
      ],
      "text/plain": [
       "<IPython.core.display.Markdown object>"
      ]
     },
     "metadata": {},
     "output_type": "display_data"
    },
    {
     "data": {
      "text/markdown": [
       "## Created ID Map for session: 4-05681A, session:2-classinsight-cmu_05681A_ghc_4301_201902131633-front from 2012 to 44 ids"
      ],
      "text/plain": [
       "<IPython.core.display.Markdown object>"
      ]
     },
     "metadata": {},
     "output_type": "display_data"
    },
    {
     "data": {
      "text/markdown": [
       "## FILE EXISTS: ID Map for session: 4-05681A, session:3-classinsight-cmu_05681A_ghc_4301_201902201630-front"
      ],
      "text/plain": [
       "<IPython.core.display.Markdown object>"
      ]
     },
     "metadata": {},
     "output_type": "display_data"
    },
    {
     "data": {
      "text/markdown": [
       "# 4-05681A, session:4-classinsight-cmu_05681A_ghc_4301_201902271630-front"
      ],
      "text/plain": [
       "<IPython.core.display.Markdown object>"
      ]
     },
     "metadata": {},
     "output_type": "display_data"
    },
    {
     "data": {
      "text/markdown": [
       "## Raw tracking shape:(259, 145)"
      ],
      "text/plain": [
       "<IPython.core.display.Markdown object>"
      ]
     },
     "metadata": {},
     "output_type": "display_data"
    },
    {
     "data": {
      "text/markdown": [
       "## Filter non-persistentids"
      ],
      "text/plain": [
       "<IPython.core.display.Markdown object>"
      ]
     },
     "metadata": {},
     "output_type": "display_data"
    },
    {
     "data": {
      "text/markdown": [
       "### Total ids before filtering: 145"
      ],
      "text/plain": [
       "<IPython.core.display.Markdown object>"
      ]
     },
     "metadata": {},
     "output_type": "display_data"
    },
    {
     "data": {
      "text/markdown": [
       "### Total ids after filtering: 0"
      ],
      "text/plain": [
       "<IPython.core.display.Markdown object>"
      ]
     },
     "metadata": {},
     "output_type": "display_data"
    },
    {
     "data": {
      "text/markdown": [
       "## Map ids into one based on bbox overlap and id start/stop distance"
      ],
      "text/plain": [
       "<IPython.core.display.Markdown object>"
      ]
     },
     "metadata": {},
     "output_type": "display_data"
    },
    {
     "data": {
      "text/markdown": [
       "### Total ids after mapping: 0"
      ],
      "text/plain": [
       "<IPython.core.display.Markdown object>"
      ]
     },
     "metadata": {},
     "output_type": "display_data"
    },
    {
     "data": {
      "text/markdown": [
       "## Assign new ids to final set of postprocessed ids"
      ],
      "text/plain": [
       "<IPython.core.display.Markdown object>"
      ]
     },
     "metadata": {},
     "output_type": "display_data"
    },
    {
     "data": {
      "text/markdown": [
       "## Created ID Map for session: 4-05681A, session:4-classinsight-cmu_05681A_ghc_4301_201902271630-front from 145 to 0 ids"
      ],
      "text/plain": [
       "<IPython.core.display.Markdown object>"
      ]
     },
     "metadata": {},
     "output_type": "display_data"
    },
    {
     "data": {
      "text/markdown": [
       "# 4-05681A, session:5-classinsight-cmu_05681A_ghc_4301_201902271718-front"
      ],
      "text/plain": [
       "<IPython.core.display.Markdown object>"
      ]
     },
     "metadata": {},
     "output_type": "display_data"
    },
    {
     "data": {
      "text/markdown": [
       "## Raw tracking shape:(17968, 3000)"
      ],
      "text/plain": [
       "<IPython.core.display.Markdown object>"
      ]
     },
     "metadata": {},
     "output_type": "display_data"
    },
    {
     "data": {
      "text/markdown": [
       "## Filter non-persistentids"
      ],
      "text/plain": [
       "<IPython.core.display.Markdown object>"
      ]
     },
     "metadata": {},
     "output_type": "display_data"
    },
    {
     "data": {
      "text/markdown": [
       "### Total ids before filtering: 3000"
      ],
      "text/plain": [
       "<IPython.core.display.Markdown object>"
      ]
     },
     "metadata": {},
     "output_type": "display_data"
    },
    {
     "data": {
      "text/markdown": [
       "### Total ids after filtering: 95"
      ],
      "text/plain": [
       "<IPython.core.display.Markdown object>"
      ]
     },
     "metadata": {},
     "output_type": "display_data"
    },
    {
     "data": {
      "text/markdown": [
       "## Map ids into one based on bbox overlap and id start/stop distance"
      ],
      "text/plain": [
       "<IPython.core.display.Markdown object>"
      ]
     },
     "metadata": {},
     "output_type": "display_data"
    },
    {
     "data": {
      "text/markdown": [
       "### Total ids after mapping: 46"
      ],
      "text/plain": [
       "<IPython.core.display.Markdown object>"
      ]
     },
     "metadata": {},
     "output_type": "display_data"
    },
    {
     "data": {
      "text/markdown": [
       "## Assign new ids to final set of postprocessed ids"
      ],
      "text/plain": [
       "<IPython.core.display.Markdown object>"
      ]
     },
     "metadata": {},
     "output_type": "display_data"
    },
    {
     "data": {
      "text/markdown": [
       "## Created ID Map for session: 4-05681A, session:5-classinsight-cmu_05681A_ghc_4301_201902271718-front from 3000 to 46 ids"
      ],
      "text/plain": [
       "<IPython.core.display.Markdown object>"
      ]
     },
     "metadata": {},
     "output_type": "display_data"
    },
    {
     "data": {
      "text/markdown": [
       "# 4-05681A, session:6-classinsight-cmu_05681A_ghc_4301_201903131630-front"
      ],
      "text/plain": [
       "<IPython.core.display.Markdown object>"
      ]
     },
     "metadata": {},
     "output_type": "display_data"
    },
    {
     "data": {
      "text/markdown": [
       "## Raw tracking shape:(31251, 0)"
      ],
      "text/plain": [
       "<IPython.core.display.Markdown object>"
      ]
     },
     "metadata": {},
     "output_type": "display_data"
    },
    {
     "data": {
      "text/markdown": [
       "## Filter non-persistentids"
      ],
      "text/plain": [
       "<IPython.core.display.Markdown object>"
      ]
     },
     "metadata": {},
     "output_type": "display_data"
    },
    {
     "data": {
      "text/markdown": [
       "### Total ids before filtering: 0"
      ],
      "text/plain": [
       "<IPython.core.display.Markdown object>"
      ]
     },
     "metadata": {},
     "output_type": "display_data"
    },
    {
     "data": {
      "text/markdown": [
       "### Total ids after filtering: 0"
      ],
      "text/plain": [
       "<IPython.core.display.Markdown object>"
      ]
     },
     "metadata": {},
     "output_type": "display_data"
    },
    {
     "data": {
      "text/markdown": [
       "## Map ids into one based on bbox overlap and id start/stop distance"
      ],
      "text/plain": [
       "<IPython.core.display.Markdown object>"
      ]
     },
     "metadata": {},
     "output_type": "display_data"
    },
    {
     "data": {
      "text/markdown": [
       "### Total ids after mapping: 0"
      ],
      "text/plain": [
       "<IPython.core.display.Markdown object>"
      ]
     },
     "metadata": {},
     "output_type": "display_data"
    },
    {
     "data": {
      "text/markdown": [
       "## Assign new ids to final set of postprocessed ids"
      ],
      "text/plain": [
       "<IPython.core.display.Markdown object>"
      ]
     },
     "metadata": {},
     "output_type": "display_data"
    },
    {
     "data": {
      "text/markdown": [
       "## Created ID Map for session: 4-05681A, session:6-classinsight-cmu_05681A_ghc_4301_201903131630-front from 0 to 0 ids"
      ],
      "text/plain": [
       "<IPython.core.display.Markdown object>"
      ]
     },
     "metadata": {},
     "output_type": "display_data"
    },
    {
     "data": {
      "text/markdown": [
       "# 4-05681A, session:7-classinsight-cmu_05681A_ghc_4301_201903201630-front"
      ],
      "text/plain": [
       "<IPython.core.display.Markdown object>"
      ]
     },
     "metadata": {},
     "output_type": "display_data"
    },
    {
     "data": {
      "text/markdown": [
       "## Raw tracking shape:(32909, 37)"
      ],
      "text/plain": [
       "<IPython.core.display.Markdown object>"
      ]
     },
     "metadata": {},
     "output_type": "display_data"
    },
    {
     "data": {
      "text/markdown": [
       "## Filter non-persistentids"
      ],
      "text/plain": [
       "<IPython.core.display.Markdown object>"
      ]
     },
     "metadata": {},
     "output_type": "display_data"
    },
    {
     "data": {
      "text/markdown": [
       "### Total ids before filtering: 37"
      ],
      "text/plain": [
       "<IPython.core.display.Markdown object>"
      ]
     },
     "metadata": {},
     "output_type": "display_data"
    },
    {
     "data": {
      "text/markdown": [
       "### Total ids after filtering: 0"
      ],
      "text/plain": [
       "<IPython.core.display.Markdown object>"
      ]
     },
     "metadata": {},
     "output_type": "display_data"
    },
    {
     "data": {
      "text/markdown": [
       "## Map ids into one based on bbox overlap and id start/stop distance"
      ],
      "text/plain": [
       "<IPython.core.display.Markdown object>"
      ]
     },
     "metadata": {},
     "output_type": "display_data"
    },
    {
     "data": {
      "text/markdown": [
       "### Total ids after mapping: 0"
      ],
      "text/plain": [
       "<IPython.core.display.Markdown object>"
      ]
     },
     "metadata": {},
     "output_type": "display_data"
    },
    {
     "data": {
      "text/markdown": [
       "## Assign new ids to final set of postprocessed ids"
      ],
      "text/plain": [
       "<IPython.core.display.Markdown object>"
      ]
     },
     "metadata": {},
     "output_type": "display_data"
    },
    {
     "data": {
      "text/markdown": [
       "## Created ID Map for session: 4-05681A, session:7-classinsight-cmu_05681A_ghc_4301_201903201630-front from 37 to 0 ids"
      ],
      "text/plain": [
       "<IPython.core.display.Markdown object>"
      ]
     },
     "metadata": {},
     "output_type": "display_data"
    },
    {
     "data": {
      "text/markdown": [
       "# 4-05681A, session:8-classinsight-cmu_05681A_ghc_4301_201903271630-front"
      ],
      "text/plain": [
       "<IPython.core.display.Markdown object>"
      ]
     },
     "metadata": {},
     "output_type": "display_data"
    },
    {
     "data": {
      "text/markdown": [
       "## Raw tracking shape:(3656, 737)"
      ],
      "text/plain": [
       "<IPython.core.display.Markdown object>"
      ]
     },
     "metadata": {},
     "output_type": "display_data"
    },
    {
     "data": {
      "text/markdown": [
       "## Filter non-persistentids"
      ],
      "text/plain": [
       "<IPython.core.display.Markdown object>"
      ]
     },
     "metadata": {},
     "output_type": "display_data"
    },
    {
     "data": {
      "text/markdown": [
       "### Total ids before filtering: 737"
      ],
      "text/plain": [
       "<IPython.core.display.Markdown object>"
      ]
     },
     "metadata": {},
     "output_type": "display_data"
    },
    {
     "data": {
      "text/markdown": [
       "### Total ids after filtering: 41"
      ],
      "text/plain": [
       "<IPython.core.display.Markdown object>"
      ]
     },
     "metadata": {},
     "output_type": "display_data"
    },
    {
     "data": {
      "text/markdown": [
       "## Map ids into one based on bbox overlap and id start/stop distance"
      ],
      "text/plain": [
       "<IPython.core.display.Markdown object>"
      ]
     },
     "metadata": {},
     "output_type": "display_data"
    },
    {
     "data": {
      "text/markdown": [
       "### Total ids after mapping: 28"
      ],
      "text/plain": [
       "<IPython.core.display.Markdown object>"
      ]
     },
     "metadata": {},
     "output_type": "display_data"
    },
    {
     "data": {
      "text/markdown": [
       "## Assign new ids to final set of postprocessed ids"
      ],
      "text/plain": [
       "<IPython.core.display.Markdown object>"
      ]
     },
     "metadata": {},
     "output_type": "display_data"
    },
    {
     "data": {
      "text/markdown": [
       "## Created ID Map for session: 4-05681A, session:8-classinsight-cmu_05681A_ghc_4301_201903271630-front from 737 to 28 ids"
      ],
      "text/plain": [
       "<IPython.core.display.Markdown object>"
      ]
     },
     "metadata": {},
     "output_type": "display_data"
    },
    {
     "data": {
      "text/markdown": [
       "# 4-05681A, session:9-classinsight-cmu_05681A_ghc_4301_201904031630-front"
      ],
      "text/plain": [
       "<IPython.core.display.Markdown object>"
      ]
     },
     "metadata": {},
     "output_type": "display_data"
    },
    {
     "data": {
      "text/markdown": [
       "## Raw tracking shape:(32997, 6556)"
      ],
      "text/plain": [
       "<IPython.core.display.Markdown object>"
      ]
     },
     "metadata": {},
     "output_type": "display_data"
    },
    {
     "data": {
      "text/markdown": [
       "## Filter non-persistentids"
      ],
      "text/plain": [
       "<IPython.core.display.Markdown object>"
      ]
     },
     "metadata": {},
     "output_type": "display_data"
    },
    {
     "data": {
      "text/markdown": [
       "### Total ids before filtering: 6556"
      ],
      "text/plain": [
       "<IPython.core.display.Markdown object>"
      ]
     },
     "metadata": {},
     "output_type": "display_data"
    },
    {
     "data": {
      "text/markdown": [
       "### Total ids after filtering: 258"
      ],
      "text/plain": [
       "<IPython.core.display.Markdown object>"
      ]
     },
     "metadata": {},
     "output_type": "display_data"
    },
    {
     "data": {
      "text/markdown": [
       "## Map ids into one based on bbox overlap and id start/stop distance"
      ],
      "text/plain": [
       "<IPython.core.display.Markdown object>"
      ]
     },
     "metadata": {},
     "output_type": "display_data"
    },
    {
     "data": {
      "text/markdown": [
       "### Total ids after mapping: 117"
      ],
      "text/plain": [
       "<IPython.core.display.Markdown object>"
      ]
     },
     "metadata": {},
     "output_type": "display_data"
    },
    {
     "data": {
      "text/markdown": [
       "## Assign new ids to final set of postprocessed ids"
      ],
      "text/plain": [
       "<IPython.core.display.Markdown object>"
      ]
     },
     "metadata": {},
     "output_type": "display_data"
    },
    {
     "data": {
      "text/markdown": [
       "## Created ID Map for session: 4-05681A, session:9-classinsight-cmu_05681A_ghc_4301_201904031630-front from 6556 to 117 ids"
      ],
      "text/plain": [
       "<IPython.core.display.Markdown object>"
      ]
     },
     "metadata": {},
     "output_type": "display_data"
    },
    {
     "data": {
      "text/markdown": [
       "## FILE EXISTS: ID Map for session: 4-05681A, session:10-classinsight-cmu_05681A_ghc_4301_201904101630-front"
      ],
      "text/plain": [
       "<IPython.core.display.Markdown object>"
      ]
     },
     "metadata": {},
     "output_type": "display_data"
    },
    {
     "data": {
      "text/markdown": [
       "## FILE EXISTS: ID Map for session: 4-05681A, session:11-classinsight-cmu_05681A_ghc_4301_201904171630-front"
      ],
      "text/plain": [
       "<IPython.core.display.Markdown object>"
      ]
     },
     "metadata": {},
     "output_type": "display_data"
    },
    {
     "data": {
      "text/markdown": [
       "# 4-05681A, session:12-classinsight-cmu_05681A_ghc_4301_201901231630-front"
      ],
      "text/plain": [
       "<IPython.core.display.Markdown object>"
      ]
     },
     "metadata": {},
     "output_type": "display_data"
    },
    {
     "data": {
      "text/markdown": [
       "## Raw tracking shape:(32988, 6895)"
      ],
      "text/plain": [
       "<IPython.core.display.Markdown object>"
      ]
     },
     "metadata": {},
     "output_type": "display_data"
    },
    {
     "data": {
      "text/markdown": [
       "## Filter non-persistentids"
      ],
      "text/plain": [
       "<IPython.core.display.Markdown object>"
      ]
     },
     "metadata": {},
     "output_type": "display_data"
    },
    {
     "data": {
      "text/markdown": [
       "### Total ids before filtering: 6895"
      ],
      "text/plain": [
       "<IPython.core.display.Markdown object>"
      ]
     },
     "metadata": {},
     "output_type": "display_data"
    },
    {
     "data": {
      "text/markdown": [
       "### Total ids after filtering: 257"
      ],
      "text/plain": [
       "<IPython.core.display.Markdown object>"
      ]
     },
     "metadata": {},
     "output_type": "display_data"
    },
    {
     "data": {
      "text/markdown": [
       "## Map ids into one based on bbox overlap and id start/stop distance"
      ],
      "text/plain": [
       "<IPython.core.display.Markdown object>"
      ]
     },
     "metadata": {},
     "output_type": "display_data"
    },
    {
     "data": {
      "text/markdown": [
       "### Total ids after mapping: 92"
      ],
      "text/plain": [
       "<IPython.core.display.Markdown object>"
      ]
     },
     "metadata": {},
     "output_type": "display_data"
    },
    {
     "data": {
      "text/markdown": [
       "## Assign new ids to final set of postprocessed ids"
      ],
      "text/plain": [
       "<IPython.core.display.Markdown object>"
      ]
     },
     "metadata": {},
     "output_type": "display_data"
    },
    {
     "data": {
      "text/markdown": [
       "## Created ID Map for session: 4-05681A, session:12-classinsight-cmu_05681A_ghc_4301_201901231630-front from 6895 to 92 ids"
      ],
      "text/plain": [
       "<IPython.core.display.Markdown object>"
      ]
     },
     "metadata": {},
     "output_type": "display_data"
    },
    {
     "data": {
      "text/markdown": [
       "# 4-05681A, session:13-classinsight-cmu_05681A_ghc_4301_201904241630-front"
      ],
      "text/plain": [
       "<IPython.core.display.Markdown object>"
      ]
     },
     "metadata": {},
     "output_type": "display_data"
    },
    {
     "data": {
      "text/markdown": [
       "## Raw tracking shape:(31199, 4285)"
      ],
      "text/plain": [
       "<IPython.core.display.Markdown object>"
      ]
     },
     "metadata": {},
     "output_type": "display_data"
    },
    {
     "data": {
      "text/markdown": [
       "## Filter non-persistentids"
      ],
      "text/plain": [
       "<IPython.core.display.Markdown object>"
      ]
     },
     "metadata": {},
     "output_type": "display_data"
    },
    {
     "data": {
      "text/markdown": [
       "### Total ids before filtering: 4285"
      ],
      "text/plain": [
       "<IPython.core.display.Markdown object>"
      ]
     },
     "metadata": {},
     "output_type": "display_data"
    },
    {
     "data": {
      "text/markdown": [
       "### Total ids after filtering: 236"
      ],
      "text/plain": [
       "<IPython.core.display.Markdown object>"
      ]
     },
     "metadata": {},
     "output_type": "display_data"
    },
    {
     "data": {
      "text/markdown": [
       "## Map ids into one based on bbox overlap and id start/stop distance"
      ],
      "text/plain": [
       "<IPython.core.display.Markdown object>"
      ]
     },
     "metadata": {},
     "output_type": "display_data"
    },
    {
     "data": {
      "text/markdown": [
       "### Total ids after mapping: 103"
      ],
      "text/plain": [
       "<IPython.core.display.Markdown object>"
      ]
     },
     "metadata": {},
     "output_type": "display_data"
    },
    {
     "data": {
      "text/markdown": [
       "## Assign new ids to final set of postprocessed ids"
      ],
      "text/plain": [
       "<IPython.core.display.Markdown object>"
      ]
     },
     "metadata": {},
     "output_type": "display_data"
    },
    {
     "data": {
      "text/markdown": [
       "## Created ID Map for session: 4-05681A, session:13-classinsight-cmu_05681A_ghc_4301_201904241630-front from 4285 to 103 ids"
      ],
      "text/plain": [
       "<IPython.core.display.Markdown object>"
      ]
     },
     "metadata": {},
     "output_type": "display_data"
    },
    {
     "data": {
      "text/markdown": [
       "# 4-05681A, session:14-classinsight-cmu_05681A_ghc_4301_201905011630-front"
      ],
      "text/plain": [
       "<IPython.core.display.Markdown object>"
      ]
     },
     "metadata": {},
     "output_type": "display_data"
    },
    {
     "data": {
      "text/markdown": [
       "## Raw tracking shape:(32998, 3793)"
      ],
      "text/plain": [
       "<IPython.core.display.Markdown object>"
      ]
     },
     "metadata": {},
     "output_type": "display_data"
    },
    {
     "data": {
      "text/markdown": [
       "## Filter non-persistentids"
      ],
      "text/plain": [
       "<IPython.core.display.Markdown object>"
      ]
     },
     "metadata": {},
     "output_type": "display_data"
    },
    {
     "data": {
      "text/markdown": [
       "### Total ids before filtering: 3793"
      ],
      "text/plain": [
       "<IPython.core.display.Markdown object>"
      ]
     },
     "metadata": {},
     "output_type": "display_data"
    },
    {
     "data": {
      "text/markdown": [
       "### Total ids after filtering: 226"
      ],
      "text/plain": [
       "<IPython.core.display.Markdown object>"
      ]
     },
     "metadata": {},
     "output_type": "display_data"
    },
    {
     "data": {
      "text/markdown": [
       "## Map ids into one based on bbox overlap and id start/stop distance"
      ],
      "text/plain": [
       "<IPython.core.display.Markdown object>"
      ]
     },
     "metadata": {},
     "output_type": "display_data"
    },
    {
     "data": {
      "text/markdown": [
       "### Total ids after mapping: 107"
      ],
      "text/plain": [
       "<IPython.core.display.Markdown object>"
      ]
     },
     "metadata": {},
     "output_type": "display_data"
    },
    {
     "data": {
      "text/markdown": [
       "## Assign new ids to final set of postprocessed ids"
      ],
      "text/plain": [
       "<IPython.core.display.Markdown object>"
      ]
     },
     "metadata": {},
     "output_type": "display_data"
    },
    {
     "data": {
      "text/markdown": [
       "## Created ID Map for session: 4-05681A, session:14-classinsight-cmu_05681A_ghc_4301_201905011630-front from 3793 to 107 ids"
      ],
      "text/plain": [
       "<IPython.core.display.Markdown object>"
      ]
     },
     "metadata": {},
     "output_type": "display_data"
    },
    {
     "data": {
      "text/markdown": [
       "# 5-24352A, session:0-classinsight-cmu_24352A_ghc_4211_201902121330-front"
      ],
      "text/plain": [
       "<IPython.core.display.Markdown object>"
      ]
     },
     "metadata": {},
     "output_type": "display_data"
    },
    {
     "data": {
      "text/markdown": [
       "## Raw tracking shape:(14974, 4156)"
      ],
      "text/plain": [
       "<IPython.core.display.Markdown object>"
      ]
     },
     "metadata": {},
     "output_type": "display_data"
    },
    {
     "data": {
      "text/markdown": [
       "## Filter non-persistentids"
      ],
      "text/plain": [
       "<IPython.core.display.Markdown object>"
      ]
     },
     "metadata": {},
     "output_type": "display_data"
    },
    {
     "data": {
      "text/markdown": [
       "### Total ids before filtering: 4156"
      ],
      "text/plain": [
       "<IPython.core.display.Markdown object>"
      ]
     },
     "metadata": {},
     "output_type": "display_data"
    },
    {
     "data": {
      "text/markdown": [
       "### Total ids after filtering: 99"
      ],
      "text/plain": [
       "<IPython.core.display.Markdown object>"
      ]
     },
     "metadata": {},
     "output_type": "display_data"
    },
    {
     "data": {
      "text/markdown": [
       "## Map ids into one based on bbox overlap and id start/stop distance"
      ],
      "text/plain": [
       "<IPython.core.display.Markdown object>"
      ]
     },
     "metadata": {},
     "output_type": "display_data"
    },
    {
     "data": {
      "text/markdown": [
       "### Total ids after mapping: 51"
      ],
      "text/plain": [
       "<IPython.core.display.Markdown object>"
      ]
     },
     "metadata": {},
     "output_type": "display_data"
    },
    {
     "data": {
      "text/markdown": [
       "## Assign new ids to final set of postprocessed ids"
      ],
      "text/plain": [
       "<IPython.core.display.Markdown object>"
      ]
     },
     "metadata": {},
     "output_type": "display_data"
    },
    {
     "data": {
      "text/markdown": [
       "## Created ID Map for session: 5-24352A, session:0-classinsight-cmu_24352A_ghc_4211_201902121330-front from 4156 to 51 ids"
      ],
      "text/plain": [
       "<IPython.core.display.Markdown object>"
      ]
     },
     "metadata": {},
     "output_type": "display_data"
    },
    {
     "data": {
      "text/markdown": [
       "# 5-24352A, session:1-classinsight-cmu_24352A_ghc_4211_201902191330-front"
      ],
      "text/plain": [
       "<IPython.core.display.Markdown object>"
      ]
     },
     "metadata": {},
     "output_type": "display_data"
    },
    {
     "data": {
      "text/markdown": [
       "## Raw tracking shape:(9514, 576)"
      ],
      "text/plain": [
       "<IPython.core.display.Markdown object>"
      ]
     },
     "metadata": {},
     "output_type": "display_data"
    },
    {
     "data": {
      "text/markdown": [
       "## Filter non-persistentids"
      ],
      "text/plain": [
       "<IPython.core.display.Markdown object>"
      ]
     },
     "metadata": {},
     "output_type": "display_data"
    },
    {
     "data": {
      "text/markdown": [
       "### Total ids before filtering: 576"
      ],
      "text/plain": [
       "<IPython.core.display.Markdown object>"
      ]
     },
     "metadata": {},
     "output_type": "display_data"
    },
    {
     "data": {
      "text/markdown": [
       "### Total ids after filtering: 34"
      ],
      "text/plain": [
       "<IPython.core.display.Markdown object>"
      ]
     },
     "metadata": {},
     "output_type": "display_data"
    },
    {
     "data": {
      "text/markdown": [
       "## Map ids into one based on bbox overlap and id start/stop distance"
      ],
      "text/plain": [
       "<IPython.core.display.Markdown object>"
      ]
     },
     "metadata": {},
     "output_type": "display_data"
    },
    {
     "data": {
      "text/markdown": [
       "### Total ids after mapping: 23"
      ],
      "text/plain": [
       "<IPython.core.display.Markdown object>"
      ]
     },
     "metadata": {},
     "output_type": "display_data"
    },
    {
     "data": {
      "text/markdown": [
       "## Assign new ids to final set of postprocessed ids"
      ],
      "text/plain": [
       "<IPython.core.display.Markdown object>"
      ]
     },
     "metadata": {},
     "output_type": "display_data"
    },
    {
     "data": {
      "text/markdown": [
       "## Created ID Map for session: 5-24352A, session:1-classinsight-cmu_24352A_ghc_4211_201902191330-front from 576 to 23 ids"
      ],
      "text/plain": [
       "<IPython.core.display.Markdown object>"
      ]
     },
     "metadata": {},
     "output_type": "display_data"
    },
    {
     "data": {
      "text/markdown": [
       "# 6-24352C, session:0-classinsight-cmu_24352C_ghc_4211_201901291530-front"
      ],
      "text/plain": [
       "<IPython.core.display.Markdown object>"
      ]
     },
     "metadata": {},
     "output_type": "display_data"
    },
    {
     "data": {
      "text/markdown": [
       "## Raw tracking shape:(5297, 1000)"
      ],
      "text/plain": [
       "<IPython.core.display.Markdown object>"
      ]
     },
     "metadata": {},
     "output_type": "display_data"
    },
    {
     "data": {
      "text/markdown": [
       "## Filter non-persistentids"
      ],
      "text/plain": [
       "<IPython.core.display.Markdown object>"
      ]
     },
     "metadata": {},
     "output_type": "display_data"
    },
    {
     "data": {
      "text/markdown": [
       "### Total ids before filtering: 1000"
      ],
      "text/plain": [
       "<IPython.core.display.Markdown object>"
      ]
     },
     "metadata": {},
     "output_type": "display_data"
    },
    {
     "data": {
      "text/markdown": [
       "### Total ids after filtering: 42"
      ],
      "text/plain": [
       "<IPython.core.display.Markdown object>"
      ]
     },
     "metadata": {},
     "output_type": "display_data"
    },
    {
     "data": {
      "text/markdown": [
       "## Map ids into one based on bbox overlap and id start/stop distance"
      ],
      "text/plain": [
       "<IPython.core.display.Markdown object>"
      ]
     },
     "metadata": {},
     "output_type": "display_data"
    },
    {
     "data": {
      "text/markdown": [
       "### Total ids after mapping: 24"
      ],
      "text/plain": [
       "<IPython.core.display.Markdown object>"
      ]
     },
     "metadata": {},
     "output_type": "display_data"
    },
    {
     "data": {
      "text/markdown": [
       "## Assign new ids to final set of postprocessed ids"
      ],
      "text/plain": [
       "<IPython.core.display.Markdown object>"
      ]
     },
     "metadata": {},
     "output_type": "display_data"
    },
    {
     "data": {
      "text/markdown": [
       "## Created ID Map for session: 6-24352C, session:0-classinsight-cmu_24352C_ghc_4211_201901291530-front from 1000 to 24 ids"
      ],
      "text/plain": [
       "<IPython.core.display.Markdown object>"
      ]
     },
     "metadata": {},
     "output_type": "display_data"
    },
    {
     "data": {
      "text/markdown": [
       "# 6-24352C, session:1-classinsight-cmu_24352C_ghc_4211_201902051530-front"
      ],
      "text/plain": [
       "<IPython.core.display.Markdown object>"
      ]
     },
     "metadata": {},
     "output_type": "display_data"
    },
    {
     "data": {
      "text/markdown": [
       "## Raw tracking shape:(7375, 313)"
      ],
      "text/plain": [
       "<IPython.core.display.Markdown object>"
      ]
     },
     "metadata": {},
     "output_type": "display_data"
    },
    {
     "data": {
      "text/markdown": [
       "## Filter non-persistentids"
      ],
      "text/plain": [
       "<IPython.core.display.Markdown object>"
      ]
     },
     "metadata": {},
     "output_type": "display_data"
    },
    {
     "data": {
      "text/markdown": [
       "### Total ids before filtering: 313"
      ],
      "text/plain": [
       "<IPython.core.display.Markdown object>"
      ]
     },
     "metadata": {},
     "output_type": "display_data"
    },
    {
     "data": {
      "text/markdown": [
       "### Total ids after filtering: 49"
      ],
      "text/plain": [
       "<IPython.core.display.Markdown object>"
      ]
     },
     "metadata": {},
     "output_type": "display_data"
    },
    {
     "data": {
      "text/markdown": [
       "## Map ids into one based on bbox overlap and id start/stop distance"
      ],
      "text/plain": [
       "<IPython.core.display.Markdown object>"
      ]
     },
     "metadata": {},
     "output_type": "display_data"
    },
    {
     "data": {
      "text/markdown": [
       "### Total ids after mapping: 29"
      ],
      "text/plain": [
       "<IPython.core.display.Markdown object>"
      ]
     },
     "metadata": {},
     "output_type": "display_data"
    },
    {
     "data": {
      "text/markdown": [
       "## Assign new ids to final set of postprocessed ids"
      ],
      "text/plain": [
       "<IPython.core.display.Markdown object>"
      ]
     },
     "metadata": {},
     "output_type": "display_data"
    },
    {
     "data": {
      "text/markdown": [
       "## Created ID Map for session: 6-24352C, session:1-classinsight-cmu_24352C_ghc_4211_201902051530-front from 313 to 29 ids"
      ],
      "text/plain": [
       "<IPython.core.display.Markdown object>"
      ]
     },
     "metadata": {},
     "output_type": "display_data"
    },
    {
     "data": {
      "text/markdown": [
       "# 6-24352C, session:2-classinsight-cmu_24352C_ghc_4211_201902121530-front"
      ],
      "text/plain": [
       "<IPython.core.display.Markdown object>"
      ]
     },
     "metadata": {},
     "output_type": "display_data"
    },
    {
     "data": {
      "text/markdown": [
       "## Raw tracking shape:(5277, 643)"
      ],
      "text/plain": [
       "<IPython.core.display.Markdown object>"
      ]
     },
     "metadata": {},
     "output_type": "display_data"
    },
    {
     "data": {
      "text/markdown": [
       "## Filter non-persistentids"
      ],
      "text/plain": [
       "<IPython.core.display.Markdown object>"
      ]
     },
     "metadata": {},
     "output_type": "display_data"
    },
    {
     "data": {
      "text/markdown": [
       "### Total ids before filtering: 643"
      ],
      "text/plain": [
       "<IPython.core.display.Markdown object>"
      ]
     },
     "metadata": {},
     "output_type": "display_data"
    },
    {
     "data": {
      "text/markdown": [
       "### Total ids after filtering: 38"
      ],
      "text/plain": [
       "<IPython.core.display.Markdown object>"
      ]
     },
     "metadata": {},
     "output_type": "display_data"
    },
    {
     "data": {
      "text/markdown": [
       "## Map ids into one based on bbox overlap and id start/stop distance"
      ],
      "text/plain": [
       "<IPython.core.display.Markdown object>"
      ]
     },
     "metadata": {},
     "output_type": "display_data"
    },
    {
     "data": {
      "text/markdown": [
       "### Total ids after mapping: 24"
      ],
      "text/plain": [
       "<IPython.core.display.Markdown object>"
      ]
     },
     "metadata": {},
     "output_type": "display_data"
    },
    {
     "data": {
      "text/markdown": [
       "## Assign new ids to final set of postprocessed ids"
      ],
      "text/plain": [
       "<IPython.core.display.Markdown object>"
      ]
     },
     "metadata": {},
     "output_type": "display_data"
    },
    {
     "data": {
      "text/markdown": [
       "## Created ID Map for session: 6-24352C, session:2-classinsight-cmu_24352C_ghc_4211_201902121530-front from 643 to 24 ids"
      ],
      "text/plain": [
       "<IPython.core.display.Markdown object>"
      ]
     },
     "metadata": {},
     "output_type": "display_data"
    },
    {
     "data": {
      "text/markdown": [
       "# 6-24352C, session:3-classinsight-cmu_24352C_ghc_4211_201902191530-front"
      ],
      "text/plain": [
       "<IPython.core.display.Markdown object>"
      ]
     },
     "metadata": {},
     "output_type": "display_data"
    },
    {
     "data": {
      "text/markdown": [
       "## Raw tracking shape:(14958, 596)"
      ],
      "text/plain": [
       "<IPython.core.display.Markdown object>"
      ]
     },
     "metadata": {},
     "output_type": "display_data"
    },
    {
     "data": {
      "text/markdown": [
       "## Filter non-persistentids"
      ],
      "text/plain": [
       "<IPython.core.display.Markdown object>"
      ]
     },
     "metadata": {},
     "output_type": "display_data"
    },
    {
     "data": {
      "text/markdown": [
       "### Total ids before filtering: 596"
      ],
      "text/plain": [
       "<IPython.core.display.Markdown object>"
      ]
     },
     "metadata": {},
     "output_type": "display_data"
    },
    {
     "data": {
      "text/markdown": [
       "### Total ids after filtering: 45"
      ],
      "text/plain": [
       "<IPython.core.display.Markdown object>"
      ]
     },
     "metadata": {},
     "output_type": "display_data"
    },
    {
     "data": {
      "text/markdown": [
       "## Map ids into one based on bbox overlap and id start/stop distance"
      ],
      "text/plain": [
       "<IPython.core.display.Markdown object>"
      ]
     },
     "metadata": {},
     "output_type": "display_data"
    },
    {
     "data": {
      "text/markdown": [
       "### Total ids after mapping: 26"
      ],
      "text/plain": [
       "<IPython.core.display.Markdown object>"
      ]
     },
     "metadata": {},
     "output_type": "display_data"
    },
    {
     "data": {
      "text/markdown": [
       "## Assign new ids to final set of postprocessed ids"
      ],
      "text/plain": [
       "<IPython.core.display.Markdown object>"
      ]
     },
     "metadata": {},
     "output_type": "display_data"
    },
    {
     "data": {
      "text/markdown": [
       "## Created ID Map for session: 6-24352C, session:3-classinsight-cmu_24352C_ghc_4211_201902191530-front from 596 to 26 ids"
      ],
      "text/plain": [
       "<IPython.core.display.Markdown object>"
      ]
     },
     "metadata": {},
     "output_type": "display_data"
    },
    {
     "data": {
      "text/markdown": [
       "# 6-24352C, session:4-classinsight-cmu_24352C_ghc_4211_201902261530-front"
      ],
      "text/plain": [
       "<IPython.core.display.Markdown object>"
      ]
     },
     "metadata": {},
     "output_type": "display_data"
    },
    {
     "data": {
      "text/markdown": [
       "## Raw tracking shape:(1443, 99)"
      ],
      "text/plain": [
       "<IPython.core.display.Markdown object>"
      ]
     },
     "metadata": {},
     "output_type": "display_data"
    },
    {
     "data": {
      "text/markdown": [
       "## Filter non-persistentids"
      ],
      "text/plain": [
       "<IPython.core.display.Markdown object>"
      ]
     },
     "metadata": {},
     "output_type": "display_data"
    },
    {
     "data": {
      "text/markdown": [
       "### Total ids before filtering: 99"
      ],
      "text/plain": [
       "<IPython.core.display.Markdown object>"
      ]
     },
     "metadata": {},
     "output_type": "display_data"
    },
    {
     "data": {
      "text/markdown": [
       "### Total ids after filtering: 21"
      ],
      "text/plain": [
       "<IPython.core.display.Markdown object>"
      ]
     },
     "metadata": {},
     "output_type": "display_data"
    },
    {
     "data": {
      "text/markdown": [
       "## Map ids into one based on bbox overlap and id start/stop distance"
      ],
      "text/plain": [
       "<IPython.core.display.Markdown object>"
      ]
     },
     "metadata": {},
     "output_type": "display_data"
    },
    {
     "data": {
      "text/markdown": [
       "### Total ids after mapping: 18"
      ],
      "text/plain": [
       "<IPython.core.display.Markdown object>"
      ]
     },
     "metadata": {},
     "output_type": "display_data"
    },
    {
     "data": {
      "text/markdown": [
       "## Assign new ids to final set of postprocessed ids"
      ],
      "text/plain": [
       "<IPython.core.display.Markdown object>"
      ]
     },
     "metadata": {},
     "output_type": "display_data"
    },
    {
     "data": {
      "text/markdown": [
       "## Created ID Map for session: 6-24352C, session:4-classinsight-cmu_24352C_ghc_4211_201902261530-front from 99 to 18 ids"
      ],
      "text/plain": [
       "<IPython.core.display.Markdown object>"
      ]
     },
     "metadata": {},
     "output_type": "display_data"
    },
    {
     "data": {
      "text/markdown": [
       "# 7-86375A, session:0-classinsight-cmu_86375A_ghc_4101_201910071325-front"
      ],
      "text/plain": [
       "<IPython.core.display.Markdown object>"
      ]
     },
     "metadata": {},
     "output_type": "display_data"
    },
    {
     "data": {
      "text/markdown": [
       "## Raw tracking shape:(7200, 223)"
      ],
      "text/plain": [
       "<IPython.core.display.Markdown object>"
      ]
     },
     "metadata": {},
     "output_type": "display_data"
    },
    {
     "data": {
      "text/markdown": [
       "## Filter non-persistentids"
      ],
      "text/plain": [
       "<IPython.core.display.Markdown object>"
      ]
     },
     "metadata": {},
     "output_type": "display_data"
    },
    {
     "data": {
      "text/markdown": [
       "### Total ids before filtering: 223"
      ],
      "text/plain": [
       "<IPython.core.display.Markdown object>"
      ]
     },
     "metadata": {},
     "output_type": "display_data"
    },
    {
     "data": {
      "text/markdown": [
       "### Total ids after filtering: 27"
      ],
      "text/plain": [
       "<IPython.core.display.Markdown object>"
      ]
     },
     "metadata": {},
     "output_type": "display_data"
    },
    {
     "data": {
      "text/markdown": [
       "## Map ids into one based on bbox overlap and id start/stop distance"
      ],
      "text/plain": [
       "<IPython.core.display.Markdown object>"
      ]
     },
     "metadata": {},
     "output_type": "display_data"
    },
    {
     "data": {
      "text/markdown": [
       "### Total ids after mapping: 23"
      ],
      "text/plain": [
       "<IPython.core.display.Markdown object>"
      ]
     },
     "metadata": {},
     "output_type": "display_data"
    },
    {
     "data": {
      "text/markdown": [
       "## Assign new ids to final set of postprocessed ids"
      ],
      "text/plain": [
       "<IPython.core.display.Markdown object>"
      ]
     },
     "metadata": {},
     "output_type": "display_data"
    },
    {
     "data": {
      "text/markdown": [
       "## Created ID Map for session: 7-86375A, session:0-classinsight-cmu_86375A_ghc_4101_201910071325-front from 223 to 23 ids"
      ],
      "text/plain": [
       "<IPython.core.display.Markdown object>"
      ]
     },
     "metadata": {},
     "output_type": "display_data"
    },
    {
     "data": {
      "text/markdown": [
       "# 7-86375A, session:1-classinsight-cmu_86375A_ghc_4101_201910141328-front"
      ],
      "text/plain": [
       "<IPython.core.display.Markdown object>"
      ]
     },
     "metadata": {},
     "output_type": "display_data"
    },
    {
     "data": {
      "text/markdown": [
       "## Raw tracking shape:(18336, 441)"
      ],
      "text/plain": [
       "<IPython.core.display.Markdown object>"
      ]
     },
     "metadata": {},
     "output_type": "display_data"
    },
    {
     "data": {
      "text/markdown": [
       "## Filter non-persistentids"
      ],
      "text/plain": [
       "<IPython.core.display.Markdown object>"
      ]
     },
     "metadata": {},
     "output_type": "display_data"
    },
    {
     "data": {
      "text/markdown": [
       "### Total ids before filtering: 441"
      ],
      "text/plain": [
       "<IPython.core.display.Markdown object>"
      ]
     },
     "metadata": {},
     "output_type": "display_data"
    },
    {
     "data": {
      "text/markdown": [
       "### Total ids after filtering: 35"
      ],
      "text/plain": [
       "<IPython.core.display.Markdown object>"
      ]
     },
     "metadata": {},
     "output_type": "display_data"
    },
    {
     "data": {
      "text/markdown": [
       "## Map ids into one based on bbox overlap and id start/stop distance"
      ],
      "text/plain": [
       "<IPython.core.display.Markdown object>"
      ]
     },
     "metadata": {},
     "output_type": "display_data"
    },
    {
     "data": {
      "text/markdown": [
       "### Total ids after mapping: 29"
      ],
      "text/plain": [
       "<IPython.core.display.Markdown object>"
      ]
     },
     "metadata": {},
     "output_type": "display_data"
    },
    {
     "data": {
      "text/markdown": [
       "## Assign new ids to final set of postprocessed ids"
      ],
      "text/plain": [
       "<IPython.core.display.Markdown object>"
      ]
     },
     "metadata": {},
     "output_type": "display_data"
    },
    {
     "data": {
      "text/markdown": [
       "## Created ID Map for session: 7-86375A, session:1-classinsight-cmu_86375A_ghc_4101_201910141328-front from 441 to 29 ids"
      ],
      "text/plain": [
       "<IPython.core.display.Markdown object>"
      ]
     },
     "metadata": {},
     "output_type": "display_data"
    }
   ],
   "source": [
    "\n",
    "for course_idx, course in enumerate(frame_file_data):\n",
    "    for session_idx, session_id in enumerate(frame_file_data[course]):\n",
    "        session_preprocessed_id_map_file = f\"{postprocessed_id_map_data_dir}/{session_id}.pb\"\n",
    "        if not os.path.exists(session_preprocessed_id_map_file):\n",
    "            session_tracking_cache_file = f\"{track_analysis_session_data}/{session_id}.pb\"\n",
    "            session_frame_dir = f'/mnt/ci-nas-cache/edulyzeV2/pose_face_gaze_emb_fixed_face/{course}/{session_id}'\n",
    "            if not os.path.exists(session_tracking_cache_file):\n",
    "                printm(f\"## Tracking file does not exists for session {session_id}, skipping id-matching...\")\n",
    "                continue\n",
    "            \n",
    "            df_tracking = pickle.load(open(session_tracking_cache_file,\"rb\")).transpose()\n",
    "            printm(f'# {course_idx}-{course}, session:{session_idx}-{session_id}')\n",
    "            printm(f'## Raw tracking shape:{df_tracking.shape}')\n",
    "            \n",
    "            \n",
    "            # Find other IDs that start/end within 900 frames\n",
    "            printm(f'## Filter non-persistentids')\n",
    "            MIN_ID_FRAMES = 900 # number of frames an id needs to be a persistent id\n",
    "            col_start_stop_idxs = []\n",
    "            for col in df_tracking.columns:\n",
    "                one_idxs = df_tracking.index[np.where(df_tracking[col]==1)[0]].values\n",
    "                col_start_stop_idxs.append([col, one_idxs.min(), one_idxs.max()])\n",
    "            df_id_start_stop = pd.DataFrame(col_start_stop_idxs, columns=['id','min_idx','max_idx'])\n",
    "            df_id_start_stop['total_idxs'] = df_id_start_stop['max_idx']-df_id_start_stop['min_idx']\n",
    "            nonpersistent_ids_removed = df_id_start_stop[df_id_start_stop.total_idxs<=MIN_ID_FRAMES]['id'].values\n",
    "            printm(f'### Total ids before filtering: {df_id_start_stop.shape[0]}')\n",
    "            df_id_start_stop = df_id_start_stop[df_id_start_stop.total_idxs>MIN_ID_FRAMES].reset_index(drop=True)\n",
    "            printm(f'### Total ids after filtering: {df_id_start_stop.shape[0]}')\n",
    "            \n",
    "\n",
    "\n",
    "\n",
    "            printm(f'## Map ids into one based on bbox overlap and id start/stop distance')\n",
    "            MAX_ID_DISTANCE = 900\n",
    "            MAX_BBOX_OVERLAP = 0.4\n",
    "            \n",
    "            potential_id_maps = {}\n",
    "            num_possible_maps = 0 \n",
    "            for row_idx, row in df_id_start_stop.iterrows():\n",
    "                row_maxidx = row['max_idx']\n",
    "                \n",
    "                # get polygon for given id\n",
    "                id_max_frame = row_maxidx\n",
    "                id_frame_data = pickle.load(open(f\"{session_frame_dir}/{id_max_frame}.pb\",\"rb\"))[1]\n",
    "                id_frame_data = [xr for xr in id_frame_data if (xr['track_id']==row['id'])][0]\n",
    "                id_bb = id_frame_data['bbox'][:4].astype(int)\n",
    "                X_TL1, Y_TL1, X_BR1, Y_BR1 = id_bb\n",
    "                p1, p2, p3, p4  = map(Point, [[X_TL1,Y_TL1], [X_TL1,Y_BR1], [X_BR1,Y_BR1],[X_BR1, Y_TL1]]) \n",
    "                id_polygon = Polygon(p1, p2, p3, p4)\n",
    "                \n",
    "                potential_id_matches = df_id_start_stop[(df_id_start_stop.min_idx<=row_maxidx+MAX_ID_DISTANCE) & (df_id_start_stop.min_idx>row_maxidx-MAX_ID_DISTANCE)].id.values\n",
    "                successful_matches = []\n",
    "                \n",
    "                if len(potential_id_matches)>0:\n",
    "                    num_possible_maps+=1\n",
    "                    # print('\\n',row['id'], potential_id_matches, row['min_idx'],row['max_idx'],row['total_idxs'])\n",
    "                    for matched_id in potential_id_matches:\n",
    "                        matched_id_min_frame = df_id_start_stop[df_id_start_stop.id==matched_id].min_idx.values[0]\n",
    "                        matched_id_frame_data = pickle.load(open(f\"{session_frame_dir}/{matched_id_min_frame}.pb\",\"rb\"))[1]\n",
    "                        matched_id_frame_data = [xr for xr in matched_id_frame_data if (xr['track_id']==matched_id)][0]\n",
    "                        matched_id_bb = matched_id_frame_data['bbox'][:4].astype(int)\n",
    "                        X_TL2, Y_TL2, X_BR2, Y_BR2 = matched_id_bb\n",
    "                        \n",
    "                        p1, p2, p3, p4  = map(Point, [[X_TL2,Y_TL2], [X_TL2,Y_BR2], [X_BR2,Y_BR2],[X_BR2, Y_TL2]]) \n",
    "                        matched_id_polygon = Polygon(p1, p2, p3, p4)\n",
    "                        \n",
    "                        #find intersection of two polygons\n",
    "                        # check if intersection exists\n",
    "                        if id_polygon.encloses_point(matched_id_polygon.centroid) & matched_id_polygon.encloses_point(id_polygon.centroid):\n",
    "                            X_TL_in, X_BR_in = sorted([X_TL1,X_TL2, X_BR1, X_BR2])[1:3]\n",
    "                            Y_TL_in, Y_BR_in = sorted([Y_TL1,Y_TL2, Y_BR1, Y_BR2])[1:3]\n",
    "                            p1, p2, p3, p4  = map(Point, [[X_TL_in,Y_TL_in], [X_TL_in,Y_BR_in], [X_BR_in,Y_BR_in],[X_BR_in, Y_TL_in]]) \n",
    "                            intersection = Polygon(p1, p2, p3, p4)            \n",
    "            \n",
    "                            #find polygon overlap\n",
    "                            area_intersection = np.abs(intersection.area)\n",
    "                            area_union = np.abs(id_polygon.area) + np.abs(matched_id_polygon.area) - area_intersection\n",
    "                            overlap_fraction  = (area_intersection/area_union).evalf()\n",
    "                        else:\n",
    "                            overlap_fraction=0.            \n",
    "                        if overlap_fraction > MAX_BBOX_OVERLAP:\n",
    "                            successful_matches.append((matched_id, overlap_fraction))\n",
    "                        \n",
    "                        # print('\\tMatching Id: ', matched_id,':', 'frame:',matched_id_min_frame,'overlap_fraction:', overlap_fraction)\n",
    "                if len(successful_matches) > 0:\n",
    "                    successful_matched_id = sorted(successful_matches, key=lambda x: x[1])[-1][0]\n",
    "                    # print(row['id'], '-->Successful match to-->',successful_matched_id)\n",
    "                    if row['id'] in potential_id_maps.keys():\n",
    "                        potential_id_maps[successful_matched_id] = potential_id_maps[row['id']]\n",
    "                    else:\n",
    "                        potential_id_maps[successful_matched_id] = row['id']\n",
    "            \n",
    "            matched_ids  = list(potential_id_maps.keys())\n",
    "            df_id_start_stop =  df_id_start_stop[~df_id_start_stop['id'].isin(matched_ids)].sort_values(by='id').reset_index(drop=True)\n",
    "            printm(f'### Total ids after mapping: {df_id_start_stop.shape[0]}')\n",
    "            \n",
    "            printm(f'## Assign new ids to final set of postprocessed ids')\n",
    "            new_to_old_id_map = df_id_start_stop['id'].to_dict()\n",
    "            old_to_new_id_map = {v: k for k, v in new_to_old_id_map.items()}\n",
    "            \n",
    "            for matched_id in matched_ids:\n",
    "                old_to_new_id_map[matched_id] = old_to_new_id_map[potential_id_maps[matched_id]]\n",
    "            \n",
    "            for removed_id in nonpersistent_ids_removed:\n",
    "                old_to_new_id_map[removed_id] = 10000\n",
    "            \n",
    "            pickle.dump(old_to_new_id_map, open(session_preprocessed_id_map_file,\"wb\"))\n",
    "            printm(f\"## Created ID Map for session: {course_idx}-{course}, session:{session_idx}-{session_id} from {len(old_to_new_id_map.keys())} to {df_id_start_stop.shape[0]} ids\")\n",
    "        else:\n",
    "            printm(f\"## FILE EXISTS: ID Map for session: {course_idx}-{course}, session:{session_idx}-{session_id}\")\n",
    "            \n",
    "        \n",
    "        "
   ]
  },
  {
   "cell_type": "markdown",
   "id": "31b868a4-bed1-4ff4-9fb2-5b776f5eeba1",
   "metadata": {},
   "source": [
    "# Create Visualization from each session to collect id ground truth\n"
   ]
  },
  {
   "cell_type": "code",
   "execution_count": 6,
   "id": "8cceb498-d9d4-40fd-8f37-afdd603ecd16",
   "metadata": {},
   "outputs": [
    {
     "data": {
      "text/plain": [
       "'/mnt/ci-nas-cache/edulyzeV2/pose_face_gaze_emb_fixed_face/05748A/classinsight-cmu_05748A_ghc_4101_201902141630-front'"
      ]
     },
     "execution_count": 6,
     "metadata": {},
     "output_type": "execute_result"
    }
   ],
   "source": [
    "sample_course = '05748A'\n",
    "sample_session_id = 'classinsight-cmu_05748A_ghc_4101_201902141630-front'\n",
    "session_tracking_cache_file = f\"{track_analysis_session_data}/{sample_session_id}.pb\"\n",
    "session_preprocessed_id_map_file = f\"{postprocessed_id_map_data_dir}/{sample_session_id}.pb\"\n",
    "session_frame_dir = f'{base_dir}/{sample_course}/{sample_session_id}'\n",
    "session_video_file = f'/mnt/ci-nas-classes/classinsight/2019S/video_backup/{sample_session_id.split(\"-front\")[0]}/{sample_session_id}.avi'\n",
    "session_frame_dir\n"
   ]
  },
  {
   "cell_type": "code",
   "execution_count": 7,
   "id": "991ea750-f727-4e12-b43e-4b2c8c90988e",
   "metadata": {},
   "outputs": [],
   "source": [
    "df_tracking_new = pickle.load(open(session_tracking_cache_file,\"rb\")).transpose()\n",
    "old_to_new_id_map = pickle.load(open(session_preprocessed_id_map_file,\"rb\"))\n",
    "total_idxs = df_tracking_new.index.max()\n",
    "for old_id in old_to_new_id_map:\n",
    "    new_id = old_to_new_id_map[old_id]\n",
    "    if not new_id==10000:\n",
    "        new_id_col = f'N{new_id}'\n",
    "        if new_id_col not in df_tracking_new:\n",
    "            df_tracking_new[new_id_col] = None\n",
    "        df_tracking_new[new_id_col] =  df_tracking_new[old_id].where(~df_tracking_new[old_id].isnull(), df_tracking_new[old_id])\n",
    "    df_tracking_new = df_tracking_new.drop(old_id, axis=1)\n"
   ]
  },
  {
   "cell_type": "code",
   "execution_count": 8,
   "id": "acc2c11b-ce74-408e-8fd6-a4d49f30e193",
   "metadata": {},
   "outputs": [
    {
     "data": {
      "text/plain": [
       "(22553, 37)"
      ]
     },
     "execution_count": 8,
     "metadata": {},
     "output_type": "execute_result"
    }
   ],
   "source": [
    "df_tracking_new.shape\n"
   ]
  },
  {
   "cell_type": "code",
   "execution_count": 9,
   "id": "2e4832bc-e694-4b5e-a4be-65f3598fe007",
   "metadata": {},
   "outputs": [
    {
     "data": {
      "text/plain": [
       "67656"
      ]
     },
     "execution_count": 9,
     "metadata": {},
     "output_type": "execute_result"
    }
   ],
   "source": [
    "total_idxs\n"
   ]
  },
  {
   "cell_type": "code",
   "execution_count": 10,
   "id": "057a8a6d-c934-40b3-a712-e7c2e3879010",
   "metadata": {},
   "outputs": [],
   "source": [
    "# old_to_new_id_map\n"
   ]
  },
  {
   "cell_type": "code",
   "execution_count": 11,
   "id": "61cd8987-5e21-4a63-93ad-da3b7e1556df",
   "metadata": {
    "scrolled": true
   },
   "outputs": [
    {
     "data": {
      "text/html": [
       "<div>\n",
       "<style scoped>\n",
       "    .dataframe tbody tr th:only-of-type {\n",
       "        vertical-align: middle;\n",
       "    }\n",
       "\n",
       "    .dataframe tbody tr th {\n",
       "        vertical-align: top;\n",
       "    }\n",
       "\n",
       "    .dataframe thead th {\n",
       "        text-align: right;\n",
       "    }\n",
       "</style>\n",
       "<table border=\"1\" class=\"dataframe\">\n",
       "  <thead>\n",
       "    <tr style=\"text-align: right;\">\n",
       "      <th></th>\n",
       "      <th>id</th>\n",
       "      <th>min_idx</th>\n",
       "      <th>max_idx</th>\n",
       "      <th>total_idxs</th>\n",
       "    </tr>\n",
       "  </thead>\n",
       "  <tbody>\n",
       "    <tr>\n",
       "      <th>0</th>\n",
       "      <td>0</td>\n",
       "      <td>0</td>\n",
       "      <td>67656</td>\n",
       "      <td>67656</td>\n",
       "    </tr>\n",
       "    <tr>\n",
       "      <th>1</th>\n",
       "      <td>1</td>\n",
       "      <td>0</td>\n",
       "      <td>67656</td>\n",
       "      <td>67656</td>\n",
       "    </tr>\n",
       "    <tr>\n",
       "      <th>2</th>\n",
       "      <td>2</td>\n",
       "      <td>60147</td>\n",
       "      <td>62745</td>\n",
       "      <td>2598</td>\n",
       "    </tr>\n",
       "    <tr>\n",
       "      <th>3</th>\n",
       "      <td>3</td>\n",
       "      <td>14067</td>\n",
       "      <td>53865</td>\n",
       "      <td>39798</td>\n",
       "    </tr>\n",
       "    <tr>\n",
       "      <th>4</th>\n",
       "      <td>4</td>\n",
       "      <td>0</td>\n",
       "      <td>67656</td>\n",
       "      <td>67656</td>\n",
       "    </tr>\n",
       "    <tr>\n",
       "      <th>5</th>\n",
       "      <td>5</td>\n",
       "      <td>0</td>\n",
       "      <td>67656</td>\n",
       "      <td>67656</td>\n",
       "    </tr>\n",
       "    <tr>\n",
       "      <th>6</th>\n",
       "      <td>6</td>\n",
       "      <td>40623</td>\n",
       "      <td>67656</td>\n",
       "      <td>27033</td>\n",
       "    </tr>\n",
       "    <tr>\n",
       "      <th>7</th>\n",
       "      <td>7</td>\n",
       "      <td>0</td>\n",
       "      <td>52224</td>\n",
       "      <td>52224</td>\n",
       "    </tr>\n",
       "    <tr>\n",
       "      <th>8</th>\n",
       "      <td>8</td>\n",
       "      <td>2583</td>\n",
       "      <td>67656</td>\n",
       "      <td>65073</td>\n",
       "    </tr>\n",
       "    <tr>\n",
       "      <th>9</th>\n",
       "      <td>9</td>\n",
       "      <td>62148</td>\n",
       "      <td>67656</td>\n",
       "      <td>5508</td>\n",
       "    </tr>\n",
       "    <tr>\n",
       "      <th>10</th>\n",
       "      <td>10</td>\n",
       "      <td>849</td>\n",
       "      <td>67656</td>\n",
       "      <td>66807</td>\n",
       "    </tr>\n",
       "    <tr>\n",
       "      <th>11</th>\n",
       "      <td>11</td>\n",
       "      <td>1221</td>\n",
       "      <td>3696</td>\n",
       "      <td>2475</td>\n",
       "    </tr>\n",
       "    <tr>\n",
       "      <th>12</th>\n",
       "      <td>12</td>\n",
       "      <td>1269</td>\n",
       "      <td>64197</td>\n",
       "      <td>62928</td>\n",
       "    </tr>\n",
       "    <tr>\n",
       "      <th>13</th>\n",
       "      <td>13</td>\n",
       "      <td>1866</td>\n",
       "      <td>2877</td>\n",
       "      <td>1011</td>\n",
       "    </tr>\n",
       "    <tr>\n",
       "      <th>14</th>\n",
       "      <td>14</td>\n",
       "      <td>3660</td>\n",
       "      <td>67656</td>\n",
       "      <td>63996</td>\n",
       "    </tr>\n",
       "    <tr>\n",
       "      <th>15</th>\n",
       "      <td>15</td>\n",
       "      <td>4029</td>\n",
       "      <td>6309</td>\n",
       "      <td>2280</td>\n",
       "    </tr>\n",
       "    <tr>\n",
       "      <th>16</th>\n",
       "      <td>16</td>\n",
       "      <td>4086</td>\n",
       "      <td>52962</td>\n",
       "      <td>48876</td>\n",
       "    </tr>\n",
       "    <tr>\n",
       "      <th>17</th>\n",
       "      <td>17</td>\n",
       "      <td>10725</td>\n",
       "      <td>67656</td>\n",
       "      <td>56931</td>\n",
       "    </tr>\n",
       "    <tr>\n",
       "      <th>18</th>\n",
       "      <td>18</td>\n",
       "      <td>62487</td>\n",
       "      <td>67656</td>\n",
       "      <td>5169</td>\n",
       "    </tr>\n",
       "    <tr>\n",
       "      <th>19</th>\n",
       "      <td>19</td>\n",
       "      <td>12006</td>\n",
       "      <td>13338</td>\n",
       "      <td>1332</td>\n",
       "    </tr>\n",
       "    <tr>\n",
       "      <th>20</th>\n",
       "      <td>20</td>\n",
       "      <td>14847</td>\n",
       "      <td>33981</td>\n",
       "      <td>19134</td>\n",
       "    </tr>\n",
       "    <tr>\n",
       "      <th>21</th>\n",
       "      <td>21</td>\n",
       "      <td>19437</td>\n",
       "      <td>20400</td>\n",
       "      <td>963</td>\n",
       "    </tr>\n",
       "    <tr>\n",
       "      <th>22</th>\n",
       "      <td>22</td>\n",
       "      <td>22236</td>\n",
       "      <td>24003</td>\n",
       "      <td>1767</td>\n",
       "    </tr>\n",
       "    <tr>\n",
       "      <th>23</th>\n",
       "      <td>23</td>\n",
       "      <td>25434</td>\n",
       "      <td>26484</td>\n",
       "      <td>1050</td>\n",
       "    </tr>\n",
       "    <tr>\n",
       "      <th>24</th>\n",
       "      <td>24</td>\n",
       "      <td>27840</td>\n",
       "      <td>32541</td>\n",
       "      <td>4701</td>\n",
       "    </tr>\n",
       "    <tr>\n",
       "      <th>25</th>\n",
       "      <td>25</td>\n",
       "      <td>32835</td>\n",
       "      <td>38169</td>\n",
       "      <td>5334</td>\n",
       "    </tr>\n",
       "    <tr>\n",
       "      <th>26</th>\n",
       "      <td>26</td>\n",
       "      <td>34038</td>\n",
       "      <td>52203</td>\n",
       "      <td>18165</td>\n",
       "    </tr>\n",
       "    <tr>\n",
       "      <th>27</th>\n",
       "      <td>27</td>\n",
       "      <td>38238</td>\n",
       "      <td>39483</td>\n",
       "      <td>1245</td>\n",
       "    </tr>\n",
       "    <tr>\n",
       "      <th>28</th>\n",
       "      <td>28</td>\n",
       "      <td>39513</td>\n",
       "      <td>40479</td>\n",
       "      <td>966</td>\n",
       "    </tr>\n",
       "    <tr>\n",
       "      <th>29</th>\n",
       "      <td>29</td>\n",
       "      <td>42906</td>\n",
       "      <td>46632</td>\n",
       "      <td>3726</td>\n",
       "    </tr>\n",
       "    <tr>\n",
       "      <th>30</th>\n",
       "      <td>30</td>\n",
       "      <td>47853</td>\n",
       "      <td>48918</td>\n",
       "      <td>1065</td>\n",
       "    </tr>\n",
       "    <tr>\n",
       "      <th>31</th>\n",
       "      <td>31</td>\n",
       "      <td>51909</td>\n",
       "      <td>52881</td>\n",
       "      <td>972</td>\n",
       "    </tr>\n",
       "    <tr>\n",
       "      <th>32</th>\n",
       "      <td>32</td>\n",
       "      <td>64866</td>\n",
       "      <td>66210</td>\n",
       "      <td>1344</td>\n",
       "    </tr>\n",
       "    <tr>\n",
       "      <th>33</th>\n",
       "      <td>33</td>\n",
       "      <td>61374</td>\n",
       "      <td>65496</td>\n",
       "      <td>4122</td>\n",
       "    </tr>\n",
       "    <tr>\n",
       "      <th>34</th>\n",
       "      <td>34</td>\n",
       "      <td>57930</td>\n",
       "      <td>60069</td>\n",
       "      <td>2139</td>\n",
       "    </tr>\n",
       "    <tr>\n",
       "      <th>35</th>\n",
       "      <td>35</td>\n",
       "      <td>64218</td>\n",
       "      <td>67656</td>\n",
       "      <td>3438</td>\n",
       "    </tr>\n",
       "    <tr>\n",
       "      <th>36</th>\n",
       "      <td>36</td>\n",
       "      <td>65130</td>\n",
       "      <td>67656</td>\n",
       "      <td>2526</td>\n",
       "    </tr>\n",
       "  </tbody>\n",
       "</table>\n",
       "</div>"
      ],
      "text/plain": [
       "    id  min_idx  max_idx  total_idxs\n",
       "0    0        0    67656       67656\n",
       "1    1        0    67656       67656\n",
       "2    2    60147    62745        2598\n",
       "3    3    14067    53865       39798\n",
       "4    4        0    67656       67656\n",
       "5    5        0    67656       67656\n",
       "6    6    40623    67656       27033\n",
       "7    7        0    52224       52224\n",
       "8    8     2583    67656       65073\n",
       "9    9    62148    67656        5508\n",
       "10  10      849    67656       66807\n",
       "11  11     1221     3696        2475\n",
       "12  12     1269    64197       62928\n",
       "13  13     1866     2877        1011\n",
       "14  14     3660    67656       63996\n",
       "15  15     4029     6309        2280\n",
       "16  16     4086    52962       48876\n",
       "17  17    10725    67656       56931\n",
       "18  18    62487    67656        5169\n",
       "19  19    12006    13338        1332\n",
       "20  20    14847    33981       19134\n",
       "21  21    19437    20400         963\n",
       "22  22    22236    24003        1767\n",
       "23  23    25434    26484        1050\n",
       "24  24    27840    32541        4701\n",
       "25  25    32835    38169        5334\n",
       "26  26    34038    52203       18165\n",
       "27  27    38238    39483        1245\n",
       "28  28    39513    40479         966\n",
       "29  29    42906    46632        3726\n",
       "30  30    47853    48918        1065\n",
       "31  31    51909    52881         972\n",
       "32  32    64866    66210        1344\n",
       "33  33    61374    65496        4122\n",
       "34  34    57930    60069        2139\n",
       "35  35    64218    67656        3438\n",
       "36  36    65130    67656        2526"
      ]
     },
     "execution_count": 11,
     "metadata": {},
     "output_type": "execute_result"
    }
   ],
   "source": [
    "col_start_stop_idxs = []\n",
    "for col in df_tracking_new.columns:\n",
    "    one_idxs = df_tracking_new.index[np.where(df_tracking_new[col]==1)[0]].values\n",
    "    col_start_stop_idxs.append([col, one_idxs.min(), one_idxs.max()])\n",
    "df_id_start_stop = pd.DataFrame(col_start_stop_idxs, columns=['id','min_idx','max_idx'])\n",
    "df_id_start_stop['total_idxs'] = df_id_start_stop['max_idx']-df_id_start_stop['min_idx']\n",
    "df_id_start_stop['id'] = df_id_start_stop['id'].apply(lambda x: int(x[1:]))\n",
    "df_id_start_stop\n"
   ]
  },
  {
   "cell_type": "code",
   "execution_count": 12,
   "id": "0837a3d1-1c7c-40b1-905a-13835c22b3d1",
   "metadata": {},
   "outputs": [
    {
     "data": {
      "image/png": "[encoded data removed]",
      "text/plain": [
       "<Figure size 2000x1500 with 1 Axes>"
      ]
     },
     "metadata": {},
     "output_type": "display_data"
    }
   ],
   "source": [
    "_ = plt.figure(figsize=(20,15))\n",
    "for row_idx, row in df_id_start_stop.iterrows():\n",
    "    plt.axhline(y=row_idx, xmin=row['min_idx']/total_idxs,xmax=row['max_idx']/total_idxs)\n",
    "plt.yticks(range(df_id_start_stop.shape[0]), range(df_id_start_stop.shape[0]))\n",
    "plt.grid() \n"
   ]
  },
  {
   "cell_type": "code",
   "execution_count": 14,
   "id": "258326ec-f91d-4685-a622-73fd28f10161",
   "metadata": {
    "scrolled": true
   },
   "outputs": [
    {
     "name": "stdout",
     "output_type": "stream",
     "text": [
      "List: segments\n"
     ]
    },
    {
     "data": {
      "text/html": [
       "<pre style=\"white-space:pre;overflow-x:auto;line-height:normal;font-family:Menlo,'DejaVu Sans Mono',consolas,'Courier New',monospace\"><span style=\"font-weight: bold\">[</span>\n",
       "    <span style=\"font-weight: bold\">(</span>\n",
       "        <span style=\"color: #008080; text-decoration-color: #008080; font-weight: bold\">19868.5</span>,\n",
       "        <span style=\"color: #008080; text-decoration-color: #008080; font-weight: bold\">19968.5</span>,\n",
       "        <span style=\"font-weight: bold\">[</span><span style=\"color: #008080; text-decoration-color: #008080; font-weight: bold\">0</span>, <span style=\"color: #008080; text-decoration-color: #008080; font-weight: bold\">1</span>, <span style=\"color: #008080; text-decoration-color: #008080; font-weight: bold\">3</span>, <span style=\"color: #008080; text-decoration-color: #008080; font-weight: bold\">4</span>, <span style=\"color: #008080; text-decoration-color: #008080; font-weight: bold\">5</span>, <span style=\"color: #008080; text-decoration-color: #008080; font-weight: bold\">7</span>, <span style=\"color: #008080; text-decoration-color: #008080; font-weight: bold\">8</span>, <span style=\"color: #008080; text-decoration-color: #008080; font-weight: bold\">10</span>, <span style=\"color: #008080; text-decoration-color: #008080; font-weight: bold\">12</span>, <span style=\"color: #008080; text-decoration-color: #008080; font-weight: bold\">14</span>, <span style=\"color: #008080; text-decoration-color: #008080; font-weight: bold\">16</span>, <span style=\"color: #008080; text-decoration-color: #008080; font-weight: bold\">17</span>, <span style=\"color: #008080; text-decoration-color: #008080; font-weight: bold\">20</span>, <span style=\"color: #008080; text-decoration-color: #008080; font-weight: bold\">21</span><span style=\"font-weight: bold\">]</span>,\n",
       "        <span style=\"font-weight: bold\">[</span>\n",
       "            <span style=\"color: #008080; text-decoration-color: #008080; font-weight: bold\">19869</span>,\n",
       "            <span style=\"color: #008080; text-decoration-color: #008080; font-weight: bold\">19872</span>,\n",
       "            <span style=\"color: #008080; text-decoration-color: #008080; font-weight: bold\">19875</span>,\n",
       "            <span style=\"color: #008080; text-decoration-color: #008080; font-weight: bold\">19878</span>,\n",
       "            <span style=\"color: #008080; text-decoration-color: #008080; font-weight: bold\">19881</span>,\n",
       "            <span style=\"color: #008080; text-decoration-color: #008080; font-weight: bold\">19884</span>,\n",
       "            <span style=\"color: #008080; text-decoration-color: #008080; font-weight: bold\">19887</span>,\n",
       "            <span style=\"color: #008080; text-decoration-color: #008080; font-weight: bold\">19890</span>,\n",
       "            <span style=\"color: #008080; text-decoration-color: #008080; font-weight: bold\">19893</span>,\n",
       "            <span style=\"color: #008080; text-decoration-color: #008080; font-weight: bold\">19896</span>,\n",
       "            <span style=\"color: #008080; text-decoration-color: #008080; font-weight: bold\">19899</span>,\n",
       "            <span style=\"color: #008080; text-decoration-color: #008080; font-weight: bold\">19902</span>,\n",
       "            <span style=\"color: #008080; text-decoration-color: #008080; font-weight: bold\">19905</span>,\n",
       "            <span style=\"color: #008080; text-decoration-color: #008080; font-weight: bold\">19908</span>,\n",
       "            <span style=\"color: #008080; text-decoration-color: #008080; font-weight: bold\">19911</span>,\n",
       "            <span style=\"color: #008080; text-decoration-color: #008080; font-weight: bold\">19914</span>,\n",
       "            <span style=\"color: #008080; text-decoration-color: #008080; font-weight: bold\">19917</span>,\n",
       "            <span style=\"color: #008080; text-decoration-color: #008080; font-weight: bold\">19920</span>,\n",
       "            <span style=\"color: #008080; text-decoration-color: #008080; font-weight: bold\">19923</span>,\n",
       "            <span style=\"color: #008080; text-decoration-color: #008080; font-weight: bold\">19926</span>,\n",
       "            <span style=\"color: #008080; text-decoration-color: #008080; font-weight: bold\">19929</span>,\n",
       "            <span style=\"color: #008080; text-decoration-color: #008080; font-weight: bold\">19932</span>,\n",
       "            <span style=\"color: #008080; text-decoration-color: #008080; font-weight: bold\">19935</span>,\n",
       "            <span style=\"color: #008080; text-decoration-color: #008080; font-weight: bold\">19938</span>,\n",
       "            <span style=\"color: #008080; text-decoration-color: #008080; font-weight: bold\">19941</span>,\n",
       "            <span style=\"color: #008080; text-decoration-color: #008080; font-weight: bold\">19944</span>,\n",
       "            <span style=\"color: #008080; text-decoration-color: #008080; font-weight: bold\">19947</span>,\n",
       "            <span style=\"color: #008080; text-decoration-color: #008080; font-weight: bold\">19950</span>,\n",
       "            <span style=\"color: #008080; text-decoration-color: #008080; font-weight: bold\">19953</span>,\n",
       "            <span style=\"color: #008080; text-decoration-color: #008080; font-weight: bold\">19956</span>,\n",
       "            <span style=\"color: #008080; text-decoration-color: #008080; font-weight: bold\">19959</span>,\n",
       "            <span style=\"color: #008080; text-decoration-color: #008080; font-weight: bold\">19962</span>,\n",
       "            <span style=\"color: #008080; text-decoration-color: #008080; font-weight: bold\">19965</span>,\n",
       "            <span style=\"color: #008080; text-decoration-color: #008080; font-weight: bold\">19968</span>\n",
       "        <span style=\"font-weight: bold\">]</span>\n",
       "    <span style=\"font-weight: bold\">)</span>,\n",
       "    <span style=\"font-weight: bold\">(</span>\n",
       "        <span style=\"color: #008080; text-decoration-color: #008080; font-weight: bold\">39946.0</span>,\n",
       "        <span style=\"color: #008080; text-decoration-color: #008080; font-weight: bold\">40046.0</span>,\n",
       "        <span style=\"font-weight: bold\">[</span><span style=\"color: #008080; text-decoration-color: #008080; font-weight: bold\">26</span>, <span style=\"color: #008080; text-decoration-color: #008080; font-weight: bold\">28</span><span style=\"font-weight: bold\">]</span>,\n",
       "        <span style=\"font-weight: bold\">[</span>\n",
       "            <span style=\"color: #008080; text-decoration-color: #008080; font-weight: bold\">39948</span>,\n",
       "            <span style=\"color: #008080; text-decoration-color: #008080; font-weight: bold\">39951</span>,\n",
       "            <span style=\"color: #008080; text-decoration-color: #008080; font-weight: bold\">39954</span>,\n",
       "            <span style=\"color: #008080; text-decoration-color: #008080; font-weight: bold\">39957</span>,\n",
       "            <span style=\"color: #008080; text-decoration-color: #008080; font-weight: bold\">39960</span>,\n",
       "            <span style=\"color: #008080; text-decoration-color: #008080; font-weight: bold\">39963</span>,\n",
       "            <span style=\"color: #008080; text-decoration-color: #008080; font-weight: bold\">39966</span>,\n",
       "            <span style=\"color: #008080; text-decoration-color: #008080; font-weight: bold\">39969</span>,\n",
       "            <span style=\"color: #008080; text-decoration-color: #008080; font-weight: bold\">39972</span>,\n",
       "            <span style=\"color: #008080; text-decoration-color: #008080; font-weight: bold\">39975</span>,\n",
       "            <span style=\"color: #008080; text-decoration-color: #008080; font-weight: bold\">39978</span>,\n",
       "            <span style=\"color: #008080; text-decoration-color: #008080; font-weight: bold\">39981</span>,\n",
       "            <span style=\"color: #008080; text-decoration-color: #008080; font-weight: bold\">39984</span>,\n",
       "            <span style=\"color: #008080; text-decoration-color: #008080; font-weight: bold\">39987</span>,\n",
       "            <span style=\"color: #008080; text-decoration-color: #008080; font-weight: bold\">39990</span>,\n",
       "            <span style=\"color: #008080; text-decoration-color: #008080; font-weight: bold\">39993</span>,\n",
       "            <span style=\"color: #008080; text-decoration-color: #008080; font-weight: bold\">39996</span>,\n",
       "            <span style=\"color: #008080; text-decoration-color: #008080; font-weight: bold\">39999</span>,\n",
       "            <span style=\"color: #008080; text-decoration-color: #008080; font-weight: bold\">40002</span>,\n",
       "            <span style=\"color: #008080; text-decoration-color: #008080; font-weight: bold\">40005</span>,\n",
       "            <span style=\"color: #008080; text-decoration-color: #008080; font-weight: bold\">40008</span>,\n",
       "            <span style=\"color: #008080; text-decoration-color: #008080; font-weight: bold\">40011</span>,\n",
       "            <span style=\"color: #008080; text-decoration-color: #008080; font-weight: bold\">40014</span>,\n",
       "            <span style=\"color: #008080; text-decoration-color: #008080; font-weight: bold\">40017</span>,\n",
       "            <span style=\"color: #008080; text-decoration-color: #008080; font-weight: bold\">40020</span>,\n",
       "            <span style=\"color: #008080; text-decoration-color: #008080; font-weight: bold\">40023</span>,\n",
       "            <span style=\"color: #008080; text-decoration-color: #008080; font-weight: bold\">40026</span>,\n",
       "            <span style=\"color: #008080; text-decoration-color: #008080; font-weight: bold\">40029</span>,\n",
       "            <span style=\"color: #008080; text-decoration-color: #008080; font-weight: bold\">40032</span>,\n",
       "            <span style=\"color: #008080; text-decoration-color: #008080; font-weight: bold\">40035</span>,\n",
       "            <span style=\"color: #008080; text-decoration-color: #008080; font-weight: bold\">40038</span>,\n",
       "            <span style=\"color: #008080; text-decoration-color: #008080; font-weight: bold\">40041</span>,\n",
       "            <span style=\"color: #008080; text-decoration-color: #008080; font-weight: bold\">40044</span>\n",
       "        <span style=\"font-weight: bold\">]</span>\n",
       "    <span style=\"font-weight: bold\">)</span>,\n",
       "    <span style=\"font-weight: bold\">(</span>\n",
       "        <span style=\"color: #008080; text-decoration-color: #008080; font-weight: bold\">52345.0</span>,\n",
       "        <span style=\"color: #008080; text-decoration-color: #008080; font-weight: bold\">52445.0</span>,\n",
       "        <span style=\"font-weight: bold\">[</span><span style=\"color: #008080; text-decoration-color: #008080; font-weight: bold\">6</span>, <span style=\"color: #008080; text-decoration-color: #008080; font-weight: bold\">31</span><span style=\"font-weight: bold\">]</span>,\n",
       "        <span style=\"font-weight: bold\">[</span>\n",
       "            <span style=\"color: #008080; text-decoration-color: #008080; font-weight: bold\">52347</span>,\n",
       "            <span style=\"color: #008080; text-decoration-color: #008080; font-weight: bold\">52350</span>,\n",
       "            <span style=\"color: #008080; text-decoration-color: #008080; font-weight: bold\">52353</span>,\n",
       "            <span style=\"color: #008080; text-decoration-color: #008080; font-weight: bold\">52356</span>,\n",
       "            <span style=\"color: #008080; text-decoration-color: #008080; font-weight: bold\">52359</span>,\n",
       "            <span style=\"color: #008080; text-decoration-color: #008080; font-weight: bold\">52362</span>,\n",
       "            <span style=\"color: #008080; text-decoration-color: #008080; font-weight: bold\">52365</span>,\n",
       "            <span style=\"color: #008080; text-decoration-color: #008080; font-weight: bold\">52368</span>,\n",
       "            <span style=\"color: #008080; text-decoration-color: #008080; font-weight: bold\">52371</span>,\n",
       "            <span style=\"color: #008080; text-decoration-color: #008080; font-weight: bold\">52374</span>,\n",
       "            <span style=\"color: #008080; text-decoration-color: #008080; font-weight: bold\">52377</span>,\n",
       "            <span style=\"color: #008080; text-decoration-color: #008080; font-weight: bold\">52380</span>,\n",
       "            <span style=\"color: #008080; text-decoration-color: #008080; font-weight: bold\">52383</span>,\n",
       "            <span style=\"color: #008080; text-decoration-color: #008080; font-weight: bold\">52386</span>,\n",
       "            <span style=\"color: #008080; text-decoration-color: #008080; font-weight: bold\">52389</span>,\n",
       "            <span style=\"color: #008080; text-decoration-color: #008080; font-weight: bold\">52392</span>,\n",
       "            <span style=\"color: #008080; text-decoration-color: #008080; font-weight: bold\">52395</span>,\n",
       "            <span style=\"color: #008080; text-decoration-color: #008080; font-weight: bold\">52398</span>,\n",
       "            <span style=\"color: #008080; text-decoration-color: #008080; font-weight: bold\">52401</span>,\n",
       "            <span style=\"color: #008080; text-decoration-color: #008080; font-weight: bold\">52404</span>,\n",
       "            <span style=\"color: #008080; text-decoration-color: #008080; font-weight: bold\">52407</span>,\n",
       "            <span style=\"color: #008080; text-decoration-color: #008080; font-weight: bold\">52410</span>,\n",
       "            <span style=\"color: #008080; text-decoration-color: #008080; font-weight: bold\">52413</span>,\n",
       "            <span style=\"color: #008080; text-decoration-color: #008080; font-weight: bold\">52416</span>,\n",
       "            <span style=\"color: #008080; text-decoration-color: #008080; font-weight: bold\">52419</span>,\n",
       "            <span style=\"color: #008080; text-decoration-color: #008080; font-weight: bold\">52422</span>,\n",
       "            <span style=\"color: #008080; text-decoration-color: #008080; font-weight: bold\">52425</span>,\n",
       "            <span style=\"color: #008080; text-decoration-color: #008080; font-weight: bold\">52428</span>,\n",
       "            <span style=\"color: #008080; text-decoration-color: #008080; font-weight: bold\">52431</span>,\n",
       "            <span style=\"color: #008080; text-decoration-color: #008080; font-weight: bold\">52434</span>,\n",
       "            <span style=\"color: #008080; text-decoration-color: #008080; font-weight: bold\">52437</span>,\n",
       "            <span style=\"color: #008080; text-decoration-color: #008080; font-weight: bold\">52440</span>,\n",
       "            <span style=\"color: #008080; text-decoration-color: #008080; font-weight: bold\">52443</span>\n",
       "        <span style=\"font-weight: bold\">]</span>\n",
       "    <span style=\"font-weight: bold\">)</span>,\n",
       "    <span style=\"font-weight: bold\">(</span>\n",
       "        <span style=\"color: #008080; text-decoration-color: #008080; font-weight: bold\">2321.5</span>,\n",
       "        <span style=\"color: #008080; text-decoration-color: #008080; font-weight: bold\">2421.5</span>,\n",
       "        <span style=\"font-weight: bold\">[</span><span style=\"color: #008080; text-decoration-color: #008080; font-weight: bold\">11</span>, <span style=\"color: #008080; text-decoration-color: #008080; font-weight: bold\">13</span><span style=\"font-weight: bold\">]</span>,\n",
       "        <span style=\"font-weight: bold\">[</span>\n",
       "            <span style=\"color: #008080; text-decoration-color: #008080; font-weight: bold\">2322</span>,\n",
       "            <span style=\"color: #008080; text-decoration-color: #008080; font-weight: bold\">2325</span>,\n",
       "            <span style=\"color: #008080; text-decoration-color: #008080; font-weight: bold\">2328</span>,\n",
       "            <span style=\"color: #008080; text-decoration-color: #008080; font-weight: bold\">2331</span>,\n",
       "            <span style=\"color: #008080; text-decoration-color: #008080; font-weight: bold\">2334</span>,\n",
       "            <span style=\"color: #008080; text-decoration-color: #008080; font-weight: bold\">2337</span>,\n",
       "            <span style=\"color: #008080; text-decoration-color: #008080; font-weight: bold\">2340</span>,\n",
       "            <span style=\"color: #008080; text-decoration-color: #008080; font-weight: bold\">2343</span>,\n",
       "            <span style=\"color: #008080; text-decoration-color: #008080; font-weight: bold\">2346</span>,\n",
       "            <span style=\"color: #008080; text-decoration-color: #008080; font-weight: bold\">2349</span>,\n",
       "            <span style=\"color: #008080; text-decoration-color: #008080; font-weight: bold\">2352</span>,\n",
       "            <span style=\"color: #008080; text-decoration-color: #008080; font-weight: bold\">2355</span>,\n",
       "            <span style=\"color: #008080; text-decoration-color: #008080; font-weight: bold\">2358</span>,\n",
       "            <span style=\"color: #008080; text-decoration-color: #008080; font-weight: bold\">2361</span>,\n",
       "            <span style=\"color: #008080; text-decoration-color: #008080; font-weight: bold\">2364</span>,\n",
       "            <span style=\"color: #008080; text-decoration-color: #008080; font-weight: bold\">2367</span>,\n",
       "            <span style=\"color: #008080; text-decoration-color: #008080; font-weight: bold\">2370</span>,\n",
       "            <span style=\"color: #008080; text-decoration-color: #008080; font-weight: bold\">2373</span>,\n",
       "            <span style=\"color: #008080; text-decoration-color: #008080; font-weight: bold\">2376</span>,\n",
       "            <span style=\"color: #008080; text-decoration-color: #008080; font-weight: bold\">2379</span>,\n",
       "            <span style=\"color: #008080; text-decoration-color: #008080; font-weight: bold\">2382</span>,\n",
       "            <span style=\"color: #008080; text-decoration-color: #008080; font-weight: bold\">2385</span>,\n",
       "            <span style=\"color: #008080; text-decoration-color: #008080; font-weight: bold\">2388</span>,\n",
       "            <span style=\"color: #008080; text-decoration-color: #008080; font-weight: bold\">2391</span>,\n",
       "            <span style=\"color: #008080; text-decoration-color: #008080; font-weight: bold\">2394</span>,\n",
       "            <span style=\"color: #008080; text-decoration-color: #008080; font-weight: bold\">2397</span>,\n",
       "            <span style=\"color: #008080; text-decoration-color: #008080; font-weight: bold\">2400</span>,\n",
       "            <span style=\"color: #008080; text-decoration-color: #008080; font-weight: bold\">2403</span>,\n",
       "            <span style=\"color: #008080; text-decoration-color: #008080; font-weight: bold\">2406</span>,\n",
       "            <span style=\"color: #008080; text-decoration-color: #008080; font-weight: bold\">2409</span>,\n",
       "            <span style=\"color: #008080; text-decoration-color: #008080; font-weight: bold\">2412</span>,\n",
       "            <span style=\"color: #008080; text-decoration-color: #008080; font-weight: bold\">2415</span>,\n",
       "            <span style=\"color: #008080; text-decoration-color: #008080; font-weight: bold\">2418</span>,\n",
       "            <span style=\"color: #008080; text-decoration-color: #008080; font-weight: bold\">2421</span>\n",
       "        <span style=\"font-weight: bold\">]</span>\n",
       "    <span style=\"font-weight: bold\">)</span>,\n",
       "    <span style=\"font-weight: bold\">(</span>\n",
       "        <span style=\"color: #008080; text-decoration-color: #008080; font-weight: bold\">25909.0</span>,\n",
       "        <span style=\"color: #008080; text-decoration-color: #008080; font-weight: bold\">26009.0</span>,\n",
       "        <span style=\"font-weight: bold\">[</span><span style=\"color: #008080; text-decoration-color: #008080; font-weight: bold\">23</span><span style=\"font-weight: bold\">]</span>,\n",
       "        <span style=\"font-weight: bold\">[</span>\n",
       "            <span style=\"color: #008080; text-decoration-color: #008080; font-weight: bold\">25911</span>,\n",
       "            <span style=\"color: #008080; text-decoration-color: #008080; font-weight: bold\">25914</span>,\n",
       "            <span style=\"color: #008080; text-decoration-color: #008080; font-weight: bold\">25917</span>,\n",
       "            <span style=\"color: #008080; text-decoration-color: #008080; font-weight: bold\">25920</span>,\n",
       "            <span style=\"color: #008080; text-decoration-color: #008080; font-weight: bold\">25923</span>,\n",
       "            <span style=\"color: #008080; text-decoration-color: #008080; font-weight: bold\">25926</span>,\n",
       "            <span style=\"color: #008080; text-decoration-color: #008080; font-weight: bold\">25929</span>,\n",
       "            <span style=\"color: #008080; text-decoration-color: #008080; font-weight: bold\">25932</span>,\n",
       "            <span style=\"color: #008080; text-decoration-color: #008080; font-weight: bold\">25935</span>,\n",
       "            <span style=\"color: #008080; text-decoration-color: #008080; font-weight: bold\">25938</span>,\n",
       "            <span style=\"color: #008080; text-decoration-color: #008080; font-weight: bold\">25941</span>,\n",
       "            <span style=\"color: #008080; text-decoration-color: #008080; font-weight: bold\">25944</span>,\n",
       "            <span style=\"color: #008080; text-decoration-color: #008080; font-weight: bold\">25947</span>,\n",
       "            <span style=\"color: #008080; text-decoration-color: #008080; font-weight: bold\">25950</span>,\n",
       "            <span style=\"color: #008080; text-decoration-color: #008080; font-weight: bold\">25953</span>,\n",
       "            <span style=\"color: #008080; text-decoration-color: #008080; font-weight: bold\">25956</span>,\n",
       "            <span style=\"color: #008080; text-decoration-color: #008080; font-weight: bold\">25959</span>,\n",
       "            <span style=\"color: #008080; text-decoration-color: #008080; font-weight: bold\">25962</span>,\n",
       "            <span style=\"color: #008080; text-decoration-color: #008080; font-weight: bold\">25965</span>,\n",
       "            <span style=\"color: #008080; text-decoration-color: #008080; font-weight: bold\">25968</span>,\n",
       "            <span style=\"color: #008080; text-decoration-color: #008080; font-weight: bold\">25971</span>,\n",
       "            <span style=\"color: #008080; text-decoration-color: #008080; font-weight: bold\">25974</span>,\n",
       "            <span style=\"color: #008080; text-decoration-color: #008080; font-weight: bold\">25977</span>,\n",
       "            <span style=\"color: #008080; text-decoration-color: #008080; font-weight: bold\">25980</span>,\n",
       "            <span style=\"color: #008080; text-decoration-color: #008080; font-weight: bold\">25983</span>,\n",
       "            <span style=\"color: #008080; text-decoration-color: #008080; font-weight: bold\">25986</span>,\n",
       "            <span style=\"color: #008080; text-decoration-color: #008080; font-weight: bold\">25989</span>,\n",
       "            <span style=\"color: #008080; text-decoration-color: #008080; font-weight: bold\">25992</span>,\n",
       "            <span style=\"color: #008080; text-decoration-color: #008080; font-weight: bold\">25995</span>,\n",
       "            <span style=\"color: #008080; text-decoration-color: #008080; font-weight: bold\">25998</span>,\n",
       "            <span style=\"color: #008080; text-decoration-color: #008080; font-weight: bold\">26001</span>,\n",
       "            <span style=\"color: #008080; text-decoration-color: #008080; font-weight: bold\">26004</span>,\n",
       "            <span style=\"color: #008080; text-decoration-color: #008080; font-weight: bold\">26007</span>\n",
       "        <span style=\"font-weight: bold\">]</span>\n",
       "    <span style=\"font-weight: bold\">)</span>,\n",
       "    <span style=\"font-weight: bold\">(</span>\n",
       "        <span style=\"color: #008080; text-decoration-color: #008080; font-weight: bold\">48335.5</span>,\n",
       "        <span style=\"color: #008080; text-decoration-color: #008080; font-weight: bold\">48435.5</span>,\n",
       "        <span style=\"font-weight: bold\">[</span><span style=\"color: #008080; text-decoration-color: #008080; font-weight: bold\">30</span><span style=\"font-weight: bold\">]</span>,\n",
       "        <span style=\"font-weight: bold\">[</span>\n",
       "            <span style=\"color: #008080; text-decoration-color: #008080; font-weight: bold\">48336</span>,\n",
       "            <span style=\"color: #008080; text-decoration-color: #008080; font-weight: bold\">48339</span>,\n",
       "            <span style=\"color: #008080; text-decoration-color: #008080; font-weight: bold\">48342</span>,\n",
       "            <span style=\"color: #008080; text-decoration-color: #008080; font-weight: bold\">48345</span>,\n",
       "            <span style=\"color: #008080; text-decoration-color: #008080; font-weight: bold\">48348</span>,\n",
       "            <span style=\"color: #008080; text-decoration-color: #008080; font-weight: bold\">48351</span>,\n",
       "            <span style=\"color: #008080; text-decoration-color: #008080; font-weight: bold\">48354</span>,\n",
       "            <span style=\"color: #008080; text-decoration-color: #008080; font-weight: bold\">48357</span>,\n",
       "            <span style=\"color: #008080; text-decoration-color: #008080; font-weight: bold\">48360</span>,\n",
       "            <span style=\"color: #008080; text-decoration-color: #008080; font-weight: bold\">48363</span>,\n",
       "            <span style=\"color: #008080; text-decoration-color: #008080; font-weight: bold\">48366</span>,\n",
       "            <span style=\"color: #008080; text-decoration-color: #008080; font-weight: bold\">48369</span>,\n",
       "            <span style=\"color: #008080; text-decoration-color: #008080; font-weight: bold\">48372</span>,\n",
       "            <span style=\"color: #008080; text-decoration-color: #008080; font-weight: bold\">48375</span>,\n",
       "            <span style=\"color: #008080; text-decoration-color: #008080; font-weight: bold\">48378</span>,\n",
       "            <span style=\"color: #008080; text-decoration-color: #008080; font-weight: bold\">48381</span>,\n",
       "            <span style=\"color: #008080; text-decoration-color: #008080; font-weight: bold\">48384</span>,\n",
       "            <span style=\"color: #008080; text-decoration-color: #008080; font-weight: bold\">48387</span>,\n",
       "            <span style=\"color: #008080; text-decoration-color: #008080; font-weight: bold\">48390</span>,\n",
       "            <span style=\"color: #008080; text-decoration-color: #008080; font-weight: bold\">48393</span>,\n",
       "            <span style=\"color: #008080; text-decoration-color: #008080; font-weight: bold\">48396</span>,\n",
       "            <span style=\"color: #008080; text-decoration-color: #008080; font-weight: bold\">48399</span>,\n",
       "            <span style=\"color: #008080; text-decoration-color: #008080; font-weight: bold\">48402</span>,\n",
       "            <span style=\"color: #008080; text-decoration-color: #008080; font-weight: bold\">48405</span>,\n",
       "            <span style=\"color: #008080; text-decoration-color: #008080; font-weight: bold\">48408</span>,\n",
       "            <span style=\"color: #008080; text-decoration-color: #008080; font-weight: bold\">48411</span>,\n",
       "            <span style=\"color: #008080; text-decoration-color: #008080; font-weight: bold\">48414</span>,\n",
       "            <span style=\"color: #008080; text-decoration-color: #008080; font-weight: bold\">48417</span>,\n",
       "            <span style=\"color: #008080; text-decoration-color: #008080; font-weight: bold\">48420</span>,\n",
       "            <span style=\"color: #008080; text-decoration-color: #008080; font-weight: bold\">48423</span>,\n",
       "            <span style=\"color: #008080; text-decoration-color: #008080; font-weight: bold\">48426</span>,\n",
       "            <span style=\"color: #008080; text-decoration-color: #008080; font-weight: bold\">48429</span>,\n",
       "            <span style=\"color: #008080; text-decoration-color: #008080; font-weight: bold\">48432</span>,\n",
       "            <span style=\"color: #008080; text-decoration-color: #008080; font-weight: bold\">48435</span>\n",
       "        <span style=\"font-weight: bold\">]</span>\n",
       "    <span style=\"font-weight: bold\">)</span>,\n",
       "    <span style=\"font-weight: bold\">(</span>\n",
       "        <span style=\"color: #008080; text-decoration-color: #008080; font-weight: bold\">38810.5</span>,\n",
       "        <span style=\"color: #008080; text-decoration-color: #008080; font-weight: bold\">38910.5</span>,\n",
       "        <span style=\"font-weight: bold\">[</span><span style=\"color: #008080; text-decoration-color: #008080; font-weight: bold\">27</span><span style=\"font-weight: bold\">]</span>,\n",
       "        <span style=\"font-weight: bold\">[</span>\n",
       "            <span style=\"color: #008080; text-decoration-color: #008080; font-weight: bold\">38811</span>,\n",
       "            <span style=\"color: #008080; text-decoration-color: #008080; font-weight: bold\">38814</span>,\n",
       "            <span style=\"color: #008080; text-decoration-color: #008080; font-weight: bold\">38817</span>,\n",
       "            <span style=\"color: #008080; text-decoration-color: #008080; font-weight: bold\">38820</span>,\n",
       "            <span style=\"color: #008080; text-decoration-color: #008080; font-weight: bold\">38823</span>,\n",
       "            <span style=\"color: #008080; text-decoration-color: #008080; font-weight: bold\">38826</span>,\n",
       "            <span style=\"color: #008080; text-decoration-color: #008080; font-weight: bold\">38829</span>,\n",
       "            <span style=\"color: #008080; text-decoration-color: #008080; font-weight: bold\">38832</span>,\n",
       "            <span style=\"color: #008080; text-decoration-color: #008080; font-weight: bold\">38835</span>,\n",
       "            <span style=\"color: #008080; text-decoration-color: #008080; font-weight: bold\">38838</span>,\n",
       "            <span style=\"color: #008080; text-decoration-color: #008080; font-weight: bold\">38841</span>,\n",
       "            <span style=\"color: #008080; text-decoration-color: #008080; font-weight: bold\">38844</span>,\n",
       "            <span style=\"color: #008080; text-decoration-color: #008080; font-weight: bold\">38847</span>,\n",
       "            <span style=\"color: #008080; text-decoration-color: #008080; font-weight: bold\">38850</span>,\n",
       "            <span style=\"color: #008080; text-decoration-color: #008080; font-weight: bold\">38853</span>,\n",
       "            <span style=\"color: #008080; text-decoration-color: #008080; font-weight: bold\">38856</span>,\n",
       "            <span style=\"color: #008080; text-decoration-color: #008080; font-weight: bold\">38859</span>,\n",
       "            <span style=\"color: #008080; text-decoration-color: #008080; font-weight: bold\">38862</span>,\n",
       "            <span style=\"color: #008080; text-decoration-color: #008080; font-weight: bold\">38865</span>,\n",
       "            <span style=\"color: #008080; text-decoration-color: #008080; font-weight: bold\">38868</span>,\n",
       "            <span style=\"color: #008080; text-decoration-color: #008080; font-weight: bold\">38871</span>,\n",
       "            <span style=\"color: #008080; text-decoration-color: #008080; font-weight: bold\">38874</span>,\n",
       "            <span style=\"color: #008080; text-decoration-color: #008080; font-weight: bold\">38877</span>,\n",
       "            <span style=\"color: #008080; text-decoration-color: #008080; font-weight: bold\">38880</span>,\n",
       "            <span style=\"color: #008080; text-decoration-color: #008080; font-weight: bold\">38883</span>,\n",
       "            <span style=\"color: #008080; text-decoration-color: #008080; font-weight: bold\">38886</span>,\n",
       "            <span style=\"color: #008080; text-decoration-color: #008080; font-weight: bold\">38889</span>,\n",
       "            <span style=\"color: #008080; text-decoration-color: #008080; font-weight: bold\">38892</span>,\n",
       "            <span style=\"color: #008080; text-decoration-color: #008080; font-weight: bold\">38895</span>,\n",
       "            <span style=\"color: #008080; text-decoration-color: #008080; font-weight: bold\">38898</span>,\n",
       "            <span style=\"color: #008080; text-decoration-color: #008080; font-weight: bold\">38901</span>,\n",
       "            <span style=\"color: #008080; text-decoration-color: #008080; font-weight: bold\">38904</span>,\n",
       "            <span style=\"color: #008080; text-decoration-color: #008080; font-weight: bold\">38907</span>,\n",
       "            <span style=\"color: #008080; text-decoration-color: #008080; font-weight: bold\">38910</span>\n",
       "        <span style=\"font-weight: bold\">]</span>\n",
       "    <span style=\"font-weight: bold\">)</span>,\n",
       "    <span style=\"font-weight: bold\">(</span>\n",
       "        <span style=\"color: #008080; text-decoration-color: #008080; font-weight: bold\">12622.0</span>,\n",
       "        <span style=\"color: #008080; text-decoration-color: #008080; font-weight: bold\">12722.0</span>,\n",
       "        <span style=\"font-weight: bold\">[</span><span style=\"color: #008080; text-decoration-color: #008080; font-weight: bold\">19</span><span style=\"font-weight: bold\">]</span>,\n",
       "        <span style=\"font-weight: bold\">[</span>\n",
       "            <span style=\"color: #008080; text-decoration-color: #008080; font-weight: bold\">12624</span>,\n",
       "            <span style=\"color: #008080; text-decoration-color: #008080; font-weight: bold\">12627</span>,\n",
       "            <span style=\"color: #008080; text-decoration-color: #008080; font-weight: bold\">12630</span>,\n",
       "            <span style=\"color: #008080; text-decoration-color: #008080; font-weight: bold\">12633</span>,\n",
       "            <span style=\"color: #008080; text-decoration-color: #008080; font-weight: bold\">12636</span>,\n",
       "            <span style=\"color: #008080; text-decoration-color: #008080; font-weight: bold\">12639</span>,\n",
       "            <span style=\"color: #008080; text-decoration-color: #008080; font-weight: bold\">12642</span>,\n",
       "            <span style=\"color: #008080; text-decoration-color: #008080; font-weight: bold\">12645</span>,\n",
       "            <span style=\"color: #008080; text-decoration-color: #008080; font-weight: bold\">12648</span>,\n",
       "            <span style=\"color: #008080; text-decoration-color: #008080; font-weight: bold\">12651</span>,\n",
       "            <span style=\"color: #008080; text-decoration-color: #008080; font-weight: bold\">12654</span>,\n",
       "            <span style=\"color: #008080; text-decoration-color: #008080; font-weight: bold\">12657</span>,\n",
       "            <span style=\"color: #008080; text-decoration-color: #008080; font-weight: bold\">12660</span>,\n",
       "            <span style=\"color: #008080; text-decoration-color: #008080; font-weight: bold\">12663</span>,\n",
       "            <span style=\"color: #008080; text-decoration-color: #008080; font-weight: bold\">12666</span>,\n",
       "            <span style=\"color: #008080; text-decoration-color: #008080; font-weight: bold\">12669</span>,\n",
       "            <span style=\"color: #008080; text-decoration-color: #008080; font-weight: bold\">12672</span>,\n",
       "            <span style=\"color: #008080; text-decoration-color: #008080; font-weight: bold\">12675</span>,\n",
       "            <span style=\"color: #008080; text-decoration-color: #008080; font-weight: bold\">12678</span>,\n",
       "            <span style=\"color: #008080; text-decoration-color: #008080; font-weight: bold\">12681</span>,\n",
       "            <span style=\"color: #008080; text-decoration-color: #008080; font-weight: bold\">12684</span>,\n",
       "            <span style=\"color: #008080; text-decoration-color: #008080; font-weight: bold\">12687</span>,\n",
       "            <span style=\"color: #008080; text-decoration-color: #008080; font-weight: bold\">12690</span>,\n",
       "            <span style=\"color: #008080; text-decoration-color: #008080; font-weight: bold\">12693</span>,\n",
       "            <span style=\"color: #008080; text-decoration-color: #008080; font-weight: bold\">12696</span>,\n",
       "            <span style=\"color: #008080; text-decoration-color: #008080; font-weight: bold\">12699</span>,\n",
       "            <span style=\"color: #008080; text-decoration-color: #008080; font-weight: bold\">12702</span>,\n",
       "            <span style=\"color: #008080; text-decoration-color: #008080; font-weight: bold\">12705</span>,\n",
       "            <span style=\"color: #008080; text-decoration-color: #008080; font-weight: bold\">12708</span>,\n",
       "            <span style=\"color: #008080; text-decoration-color: #008080; font-weight: bold\">12711</span>,\n",
       "            <span style=\"color: #008080; text-decoration-color: #008080; font-weight: bold\">12714</span>,\n",
       "            <span style=\"color: #008080; text-decoration-color: #008080; font-weight: bold\">12717</span>,\n",
       "            <span style=\"color: #008080; text-decoration-color: #008080; font-weight: bold\">12720</span>\n",
       "        <span style=\"font-weight: bold\">]</span>\n",
       "    <span style=\"font-weight: bold\">)</span>,\n",
       "    <span style=\"font-weight: bold\">(</span>\n",
       "        <span style=\"color: #008080; text-decoration-color: #008080; font-weight: bold\">65488.0</span>,\n",
       "        <span style=\"color: #008080; text-decoration-color: #008080; font-weight: bold\">65588.0</span>,\n",
       "        <span style=\"font-weight: bold\">[</span><span style=\"color: #008080; text-decoration-color: #008080; font-weight: bold\">9</span>, <span style=\"color: #008080; text-decoration-color: #008080; font-weight: bold\">18</span>, <span style=\"color: #008080; text-decoration-color: #008080; font-weight: bold\">32</span>, <span style=\"color: #008080; text-decoration-color: #008080; font-weight: bold\">35</span>, <span style=\"color: #008080; text-decoration-color: #008080; font-weight: bold\">36</span><span style=\"font-weight: bold\">]</span>,\n",
       "        <span style=\"font-weight: bold\">[</span>\n",
       "            <span style=\"color: #008080; text-decoration-color: #008080; font-weight: bold\">65490</span>,\n",
       "            <span style=\"color: #008080; text-decoration-color: #008080; font-weight: bold\">65493</span>,\n",
       "            <span style=\"color: #008080; text-decoration-color: #008080; font-weight: bold\">65496</span>,\n",
       "            <span style=\"color: #008080; text-decoration-color: #008080; font-weight: bold\">65499</span>,\n",
       "            <span style=\"color: #008080; text-decoration-color: #008080; font-weight: bold\">65502</span>,\n",
       "            <span style=\"color: #008080; text-decoration-color: #008080; font-weight: bold\">65505</span>,\n",
       "            <span style=\"color: #008080; text-decoration-color: #008080; font-weight: bold\">65508</span>,\n",
       "            <span style=\"color: #008080; text-decoration-color: #008080; font-weight: bold\">65511</span>,\n",
       "            <span style=\"color: #008080; text-decoration-color: #008080; font-weight: bold\">65514</span>,\n",
       "            <span style=\"color: #008080; text-decoration-color: #008080; font-weight: bold\">65517</span>,\n",
       "            <span style=\"color: #008080; text-decoration-color: #008080; font-weight: bold\">65520</span>,\n",
       "            <span style=\"color: #008080; text-decoration-color: #008080; font-weight: bold\">65523</span>,\n",
       "            <span style=\"color: #008080; text-decoration-color: #008080; font-weight: bold\">65526</span>,\n",
       "            <span style=\"color: #008080; text-decoration-color: #008080; font-weight: bold\">65529</span>,\n",
       "            <span style=\"color: #008080; text-decoration-color: #008080; font-weight: bold\">65532</span>,\n",
       "            <span style=\"color: #008080; text-decoration-color: #008080; font-weight: bold\">65535</span>,\n",
       "            <span style=\"color: #008080; text-decoration-color: #008080; font-weight: bold\">65538</span>,\n",
       "            <span style=\"color: #008080; text-decoration-color: #008080; font-weight: bold\">65541</span>,\n",
       "            <span style=\"color: #008080; text-decoration-color: #008080; font-weight: bold\">65544</span>,\n",
       "            <span style=\"color: #008080; text-decoration-color: #008080; font-weight: bold\">65547</span>,\n",
       "            <span style=\"color: #008080; text-decoration-color: #008080; font-weight: bold\">65550</span>,\n",
       "            <span style=\"color: #008080; text-decoration-color: #008080; font-weight: bold\">65553</span>,\n",
       "            <span style=\"color: #008080; text-decoration-color: #008080; font-weight: bold\">65556</span>,\n",
       "            <span style=\"color: #008080; text-decoration-color: #008080; font-weight: bold\">65559</span>,\n",
       "            <span style=\"color: #008080; text-decoration-color: #008080; font-weight: bold\">65562</span>,\n",
       "            <span style=\"color: #008080; text-decoration-color: #008080; font-weight: bold\">65565</span>,\n",
       "            <span style=\"color: #008080; text-decoration-color: #008080; font-weight: bold\">65568</span>,\n",
       "            <span style=\"color: #008080; text-decoration-color: #008080; font-weight: bold\">65571</span>,\n",
       "            <span style=\"color: #008080; text-decoration-color: #008080; font-weight: bold\">65574</span>,\n",
       "            <span style=\"color: #008080; text-decoration-color: #008080; font-weight: bold\">65577</span>,\n",
       "            <span style=\"color: #008080; text-decoration-color: #008080; font-weight: bold\">65580</span>,\n",
       "            <span style=\"color: #008080; text-decoration-color: #008080; font-weight: bold\">65583</span>,\n",
       "            <span style=\"color: #008080; text-decoration-color: #008080; font-weight: bold\">65586</span>\n",
       "        <span style=\"font-weight: bold\">]</span>\n",
       "    <span style=\"font-weight: bold\">)</span>,\n",
       "    <span style=\"font-weight: bold\">(</span>\n",
       "        <span style=\"color: #008080; text-decoration-color: #008080; font-weight: bold\">23069.5</span>,\n",
       "        <span style=\"color: #008080; text-decoration-color: #008080; font-weight: bold\">23169.5</span>,\n",
       "        <span style=\"font-weight: bold\">[</span><span style=\"color: #008080; text-decoration-color: #008080; font-weight: bold\">22</span><span style=\"font-weight: bold\">]</span>,\n",
       "        <span style=\"font-weight: bold\">[</span>\n",
       "            <span style=\"color: #008080; text-decoration-color: #008080; font-weight: bold\">23070</span>,\n",
       "            <span style=\"color: #008080; text-decoration-color: #008080; font-weight: bold\">23073</span>,\n",
       "            <span style=\"color: #008080; text-decoration-color: #008080; font-weight: bold\">23076</span>,\n",
       "            <span style=\"color: #008080; text-decoration-color: #008080; font-weight: bold\">23079</span>,\n",
       "            <span style=\"color: #008080; text-decoration-color: #008080; font-weight: bold\">23082</span>,\n",
       "            <span style=\"color: #008080; text-decoration-color: #008080; font-weight: bold\">23085</span>,\n",
       "            <span style=\"color: #008080; text-decoration-color: #008080; font-weight: bold\">23088</span>,\n",
       "            <span style=\"color: #008080; text-decoration-color: #008080; font-weight: bold\">23091</span>,\n",
       "            <span style=\"color: #008080; text-decoration-color: #008080; font-weight: bold\">23094</span>,\n",
       "            <span style=\"color: #008080; text-decoration-color: #008080; font-weight: bold\">23097</span>,\n",
       "            <span style=\"color: #008080; text-decoration-color: #008080; font-weight: bold\">23100</span>,\n",
       "            <span style=\"color: #008080; text-decoration-color: #008080; font-weight: bold\">23103</span>,\n",
       "            <span style=\"color: #008080; text-decoration-color: #008080; font-weight: bold\">23106</span>,\n",
       "            <span style=\"color: #008080; text-decoration-color: #008080; font-weight: bold\">23109</span>,\n",
       "            <span style=\"color: #008080; text-decoration-color: #008080; font-weight: bold\">23112</span>,\n",
       "            <span style=\"color: #008080; text-decoration-color: #008080; font-weight: bold\">23115</span>,\n",
       "            <span style=\"color: #008080; text-decoration-color: #008080; font-weight: bold\">23118</span>,\n",
       "            <span style=\"color: #008080; text-decoration-color: #008080; font-weight: bold\">23121</span>,\n",
       "            <span style=\"color: #008080; text-decoration-color: #008080; font-weight: bold\">23124</span>,\n",
       "            <span style=\"color: #008080; text-decoration-color: #008080; font-weight: bold\">23127</span>,\n",
       "            <span style=\"color: #008080; text-decoration-color: #008080; font-weight: bold\">23130</span>,\n",
       "            <span style=\"color: #008080; text-decoration-color: #008080; font-weight: bold\">23133</span>,\n",
       "            <span style=\"color: #008080; text-decoration-color: #008080; font-weight: bold\">23136</span>,\n",
       "            <span style=\"color: #008080; text-decoration-color: #008080; font-weight: bold\">23139</span>,\n",
       "            <span style=\"color: #008080; text-decoration-color: #008080; font-weight: bold\">23142</span>,\n",
       "            <span style=\"color: #008080; text-decoration-color: #008080; font-weight: bold\">23145</span>,\n",
       "            <span style=\"color: #008080; text-decoration-color: #008080; font-weight: bold\">23148</span>,\n",
       "            <span style=\"color: #008080; text-decoration-color: #008080; font-weight: bold\">23151</span>,\n",
       "            <span style=\"color: #008080; text-decoration-color: #008080; font-weight: bold\">23154</span>,\n",
       "            <span style=\"color: #008080; text-decoration-color: #008080; font-weight: bold\">23157</span>,\n",
       "            <span style=\"color: #008080; text-decoration-color: #008080; font-weight: bold\">23160</span>,\n",
       "            <span style=\"color: #008080; text-decoration-color: #008080; font-weight: bold\">23163</span>,\n",
       "            <span style=\"color: #008080; text-decoration-color: #008080; font-weight: bold\">23166</span>,\n",
       "            <span style=\"color: #008080; text-decoration-color: #008080; font-weight: bold\">23169</span>\n",
       "        <span style=\"font-weight: bold\">]</span>\n",
       "    <span style=\"font-weight: bold\">)</span>,\n",
       "    <span style=\"font-weight: bold\">(</span>\n",
       "        <span style=\"color: #008080; text-decoration-color: #008080; font-weight: bold\">58949.5</span>,\n",
       "        <span style=\"color: #008080; text-decoration-color: #008080; font-weight: bold\">59049.5</span>,\n",
       "        <span style=\"font-weight: bold\">[</span><span style=\"color: #008080; text-decoration-color: #008080; font-weight: bold\">34</span><span style=\"font-weight: bold\">]</span>,\n",
       "        <span style=\"font-weight: bold\">[</span>\n",
       "            <span style=\"color: #008080; text-decoration-color: #008080; font-weight: bold\">58950</span>,\n",
       "            <span style=\"color: #008080; text-decoration-color: #008080; font-weight: bold\">58953</span>,\n",
       "            <span style=\"color: #008080; text-decoration-color: #008080; font-weight: bold\">58956</span>,\n",
       "            <span style=\"color: #008080; text-decoration-color: #008080; font-weight: bold\">58959</span>,\n",
       "            <span style=\"color: #008080; text-decoration-color: #008080; font-weight: bold\">58962</span>,\n",
       "            <span style=\"color: #008080; text-decoration-color: #008080; font-weight: bold\">58965</span>,\n",
       "            <span style=\"color: #008080; text-decoration-color: #008080; font-weight: bold\">58968</span>,\n",
       "            <span style=\"color: #008080; text-decoration-color: #008080; font-weight: bold\">58971</span>,\n",
       "            <span style=\"color: #008080; text-decoration-color: #008080; font-weight: bold\">58974</span>,\n",
       "            <span style=\"color: #008080; text-decoration-color: #008080; font-weight: bold\">58977</span>,\n",
       "            <span style=\"color: #008080; text-decoration-color: #008080; font-weight: bold\">58980</span>,\n",
       "            <span style=\"color: #008080; text-decoration-color: #008080; font-weight: bold\">58983</span>,\n",
       "            <span style=\"color: #008080; text-decoration-color: #008080; font-weight: bold\">58986</span>,\n",
       "            <span style=\"color: #008080; text-decoration-color: #008080; font-weight: bold\">58989</span>,\n",
       "            <span style=\"color: #008080; text-decoration-color: #008080; font-weight: bold\">58992</span>,\n",
       "            <span style=\"color: #008080; text-decoration-color: #008080; font-weight: bold\">58995</span>,\n",
       "            <span style=\"color: #008080; text-decoration-color: #008080; font-weight: bold\">58998</span>,\n",
       "            <span style=\"color: #008080; text-decoration-color: #008080; font-weight: bold\">59001</span>,\n",
       "            <span style=\"color: #008080; text-decoration-color: #008080; font-weight: bold\">59004</span>,\n",
       "            <span style=\"color: #008080; text-decoration-color: #008080; font-weight: bold\">59007</span>,\n",
       "            <span style=\"color: #008080; text-decoration-color: #008080; font-weight: bold\">59010</span>,\n",
       "            <span style=\"color: #008080; text-decoration-color: #008080; font-weight: bold\">59013</span>,\n",
       "            <span style=\"color: #008080; text-decoration-color: #008080; font-weight: bold\">59016</span>,\n",
       "            <span style=\"color: #008080; text-decoration-color: #008080; font-weight: bold\">59019</span>,\n",
       "            <span style=\"color: #008080; text-decoration-color: #008080; font-weight: bold\">59022</span>,\n",
       "            <span style=\"color: #008080; text-decoration-color: #008080; font-weight: bold\">59025</span>,\n",
       "            <span style=\"color: #008080; text-decoration-color: #008080; font-weight: bold\">59028</span>,\n",
       "            <span style=\"color: #008080; text-decoration-color: #008080; font-weight: bold\">59031</span>,\n",
       "            <span style=\"color: #008080; text-decoration-color: #008080; font-weight: bold\">59034</span>,\n",
       "            <span style=\"color: #008080; text-decoration-color: #008080; font-weight: bold\">59037</span>,\n",
       "            <span style=\"color: #008080; text-decoration-color: #008080; font-weight: bold\">59040</span>,\n",
       "            <span style=\"color: #008080; text-decoration-color: #008080; font-weight: bold\">59043</span>,\n",
       "            <span style=\"color: #008080; text-decoration-color: #008080; font-weight: bold\">59046</span>,\n",
       "            <span style=\"color: #008080; text-decoration-color: #008080; font-weight: bold\">59049</span>\n",
       "        <span style=\"font-weight: bold\">]</span>\n",
       "    <span style=\"font-weight: bold\">)</span>,\n",
       "    <span style=\"font-weight: bold\">(</span>\n",
       "        <span style=\"color: #008080; text-decoration-color: #008080; font-weight: bold\">5119.0</span>,\n",
       "        <span style=\"color: #008080; text-decoration-color: #008080; font-weight: bold\">5219.0</span>,\n",
       "        <span style=\"font-weight: bold\">[</span><span style=\"color: #008080; text-decoration-color: #008080; font-weight: bold\">15</span><span style=\"font-weight: bold\">]</span>,\n",
       "        <span style=\"font-weight: bold\">[</span>\n",
       "            <span style=\"color: #008080; text-decoration-color: #008080; font-weight: bold\">5121</span>,\n",
       "            <span style=\"color: #008080; text-decoration-color: #008080; font-weight: bold\">5124</span>,\n",
       "            <span style=\"color: #008080; text-decoration-color: #008080; font-weight: bold\">5127</span>,\n",
       "            <span style=\"color: #008080; text-decoration-color: #008080; font-weight: bold\">5130</span>,\n",
       "            <span style=\"color: #008080; text-decoration-color: #008080; font-weight: bold\">5133</span>,\n",
       "            <span style=\"color: #008080; text-decoration-color: #008080; font-weight: bold\">5136</span>,\n",
       "            <span style=\"color: #008080; text-decoration-color: #008080; font-weight: bold\">5139</span>,\n",
       "            <span style=\"color: #008080; text-decoration-color: #008080; font-weight: bold\">5142</span>,\n",
       "            <span style=\"color: #008080; text-decoration-color: #008080; font-weight: bold\">5145</span>,\n",
       "            <span style=\"color: #008080; text-decoration-color: #008080; font-weight: bold\">5148</span>,\n",
       "            <span style=\"color: #008080; text-decoration-color: #008080; font-weight: bold\">5151</span>,\n",
       "            <span style=\"color: #008080; text-decoration-color: #008080; font-weight: bold\">5154</span>,\n",
       "            <span style=\"color: #008080; text-decoration-color: #008080; font-weight: bold\">5157</span>,\n",
       "            <span style=\"color: #008080; text-decoration-color: #008080; font-weight: bold\">5160</span>,\n",
       "            <span style=\"color: #008080; text-decoration-color: #008080; font-weight: bold\">5163</span>,\n",
       "            <span style=\"color: #008080; text-decoration-color: #008080; font-weight: bold\">5166</span>,\n",
       "            <span style=\"color: #008080; text-decoration-color: #008080; font-weight: bold\">5169</span>,\n",
       "            <span style=\"color: #008080; text-decoration-color: #008080; font-weight: bold\">5172</span>,\n",
       "            <span style=\"color: #008080; text-decoration-color: #008080; font-weight: bold\">5175</span>,\n",
       "            <span style=\"color: #008080; text-decoration-color: #008080; font-weight: bold\">5178</span>,\n",
       "            <span style=\"color: #008080; text-decoration-color: #008080; font-weight: bold\">5181</span>,\n",
       "            <span style=\"color: #008080; text-decoration-color: #008080; font-weight: bold\">5184</span>,\n",
       "            <span style=\"color: #008080; text-decoration-color: #008080; font-weight: bold\">5187</span>,\n",
       "            <span style=\"color: #008080; text-decoration-color: #008080; font-weight: bold\">5190</span>,\n",
       "            <span style=\"color: #008080; text-decoration-color: #008080; font-weight: bold\">5193</span>,\n",
       "            <span style=\"color: #008080; text-decoration-color: #008080; font-weight: bold\">5196</span>,\n",
       "            <span style=\"color: #008080; text-decoration-color: #008080; font-weight: bold\">5199</span>,\n",
       "            <span style=\"color: #008080; text-decoration-color: #008080; font-weight: bold\">5202</span>,\n",
       "            <span style=\"color: #008080; text-decoration-color: #008080; font-weight: bold\">5205</span>,\n",
       "            <span style=\"color: #008080; text-decoration-color: #008080; font-weight: bold\">5208</span>,\n",
       "            <span style=\"color: #008080; text-decoration-color: #008080; font-weight: bold\">5211</span>,\n",
       "            <span style=\"color: #008080; text-decoration-color: #008080; font-weight: bold\">5214</span>,\n",
       "            <span style=\"color: #008080; text-decoration-color: #008080; font-weight: bold\">5217</span>\n",
       "        <span style=\"font-weight: bold\">]</span>\n",
       "    <span style=\"font-weight: bold\">)</span>,\n",
       "    <span style=\"font-weight: bold\">(</span>\n",
       "        <span style=\"color: #008080; text-decoration-color: #008080; font-weight: bold\">61396.0</span>,\n",
       "        <span style=\"color: #008080; text-decoration-color: #008080; font-weight: bold\">61496.0</span>,\n",
       "        <span style=\"font-weight: bold\">[</span><span style=\"color: #008080; text-decoration-color: #008080; font-weight: bold\">2</span>, <span style=\"color: #008080; text-decoration-color: #008080; font-weight: bold\">33</span><span style=\"font-weight: bold\">]</span>,\n",
       "        <span style=\"font-weight: bold\">[</span>\n",
       "            <span style=\"color: #008080; text-decoration-color: #008080; font-weight: bold\">61398</span>,\n",
       "            <span style=\"color: #008080; text-decoration-color: #008080; font-weight: bold\">61401</span>,\n",
       "            <span style=\"color: #008080; text-decoration-color: #008080; font-weight: bold\">61404</span>,\n",
       "            <span style=\"color: #008080; text-decoration-color: #008080; font-weight: bold\">61407</span>,\n",
       "            <span style=\"color: #008080; text-decoration-color: #008080; font-weight: bold\">61410</span>,\n",
       "            <span style=\"color: #008080; text-decoration-color: #008080; font-weight: bold\">61413</span>,\n",
       "            <span style=\"color: #008080; text-decoration-color: #008080; font-weight: bold\">61416</span>,\n",
       "            <span style=\"color: #008080; text-decoration-color: #008080; font-weight: bold\">61419</span>,\n",
       "            <span style=\"color: #008080; text-decoration-color: #008080; font-weight: bold\">61422</span>,\n",
       "            <span style=\"color: #008080; text-decoration-color: #008080; font-weight: bold\">61425</span>,\n",
       "            <span style=\"color: #008080; text-decoration-color: #008080; font-weight: bold\">61428</span>,\n",
       "            <span style=\"color: #008080; text-decoration-color: #008080; font-weight: bold\">61431</span>,\n",
       "            <span style=\"color: #008080; text-decoration-color: #008080; font-weight: bold\">61434</span>,\n",
       "            <span style=\"color: #008080; text-decoration-color: #008080; font-weight: bold\">61437</span>,\n",
       "            <span style=\"color: #008080; text-decoration-color: #008080; font-weight: bold\">61440</span>,\n",
       "            <span style=\"color: #008080; text-decoration-color: #008080; font-weight: bold\">61443</span>,\n",
       "            <span style=\"color: #008080; text-decoration-color: #008080; font-weight: bold\">61446</span>,\n",
       "            <span style=\"color: #008080; text-decoration-color: #008080; font-weight: bold\">61449</span>,\n",
       "            <span style=\"color: #008080; text-decoration-color: #008080; font-weight: bold\">61452</span>,\n",
       "            <span style=\"color: #008080; text-decoration-color: #008080; font-weight: bold\">61455</span>,\n",
       "            <span style=\"color: #008080; text-decoration-color: #008080; font-weight: bold\">61458</span>,\n",
       "            <span style=\"color: #008080; text-decoration-color: #008080; font-weight: bold\">61461</span>,\n",
       "            <span style=\"color: #008080; text-decoration-color: #008080; font-weight: bold\">61464</span>,\n",
       "            <span style=\"color: #008080; text-decoration-color: #008080; font-weight: bold\">61467</span>,\n",
       "            <span style=\"color: #008080; text-decoration-color: #008080; font-weight: bold\">61470</span>,\n",
       "            <span style=\"color: #008080; text-decoration-color: #008080; font-weight: bold\">61473</span>,\n",
       "            <span style=\"color: #008080; text-decoration-color: #008080; font-weight: bold\">61476</span>,\n",
       "            <span style=\"color: #008080; text-decoration-color: #008080; font-weight: bold\">61479</span>,\n",
       "            <span style=\"color: #008080; text-decoration-color: #008080; font-weight: bold\">61482</span>,\n",
       "            <span style=\"color: #008080; text-decoration-color: #008080; font-weight: bold\">61485</span>,\n",
       "            <span style=\"color: #008080; text-decoration-color: #008080; font-weight: bold\">61488</span>,\n",
       "            <span style=\"color: #008080; text-decoration-color: #008080; font-weight: bold\">61491</span>,\n",
       "            <span style=\"color: #008080; text-decoration-color: #008080; font-weight: bold\">61494</span>\n",
       "        <span style=\"font-weight: bold\">]</span>\n",
       "    <span style=\"font-weight: bold\">)</span>,\n",
       "    <span style=\"font-weight: bold\">(</span>\n",
       "        <span style=\"color: #008080; text-decoration-color: #008080; font-weight: bold\">44719.0</span>,\n",
       "        <span style=\"color: #008080; text-decoration-color: #008080; font-weight: bold\">44819.0</span>,\n",
       "        <span style=\"font-weight: bold\">[</span><span style=\"color: #008080; text-decoration-color: #008080; font-weight: bold\">29</span><span style=\"font-weight: bold\">]</span>,\n",
       "        <span style=\"font-weight: bold\">[</span>\n",
       "            <span style=\"color: #008080; text-decoration-color: #008080; font-weight: bold\">44721</span>,\n",
       "            <span style=\"color: #008080; text-decoration-color: #008080; font-weight: bold\">44724</span>,\n",
       "            <span style=\"color: #008080; text-decoration-color: #008080; font-weight: bold\">44727</span>,\n",
       "            <span style=\"color: #008080; text-decoration-color: #008080; font-weight: bold\">44730</span>,\n",
       "            <span style=\"color: #008080; text-decoration-color: #008080; font-weight: bold\">44733</span>,\n",
       "            <span style=\"color: #008080; text-decoration-color: #008080; font-weight: bold\">44736</span>,\n",
       "            <span style=\"color: #008080; text-decoration-color: #008080; font-weight: bold\">44739</span>,\n",
       "            <span style=\"color: #008080; text-decoration-color: #008080; font-weight: bold\">44742</span>,\n",
       "            <span style=\"color: #008080; text-decoration-color: #008080; font-weight: bold\">44745</span>,\n",
       "            <span style=\"color: #008080; text-decoration-color: #008080; font-weight: bold\">44748</span>,\n",
       "            <span style=\"color: #008080; text-decoration-color: #008080; font-weight: bold\">44751</span>,\n",
       "            <span style=\"color: #008080; text-decoration-color: #008080; font-weight: bold\">44754</span>,\n",
       "            <span style=\"color: #008080; text-decoration-color: #008080; font-weight: bold\">44757</span>,\n",
       "            <span style=\"color: #008080; text-decoration-color: #008080; font-weight: bold\">44760</span>,\n",
       "            <span style=\"color: #008080; text-decoration-color: #008080; font-weight: bold\">44763</span>,\n",
       "            <span style=\"color: #008080; text-decoration-color: #008080; font-weight: bold\">44766</span>,\n",
       "            <span style=\"color: #008080; text-decoration-color: #008080; font-weight: bold\">44769</span>,\n",
       "            <span style=\"color: #008080; text-decoration-color: #008080; font-weight: bold\">44772</span>,\n",
       "            <span style=\"color: #008080; text-decoration-color: #008080; font-weight: bold\">44775</span>,\n",
       "            <span style=\"color: #008080; text-decoration-color: #008080; font-weight: bold\">44778</span>,\n",
       "            <span style=\"color: #008080; text-decoration-color: #008080; font-weight: bold\">44781</span>,\n",
       "            <span style=\"color: #008080; text-decoration-color: #008080; font-weight: bold\">44784</span>,\n",
       "            <span style=\"color: #008080; text-decoration-color: #008080; font-weight: bold\">44787</span>,\n",
       "            <span style=\"color: #008080; text-decoration-color: #008080; font-weight: bold\">44790</span>,\n",
       "            <span style=\"color: #008080; text-decoration-color: #008080; font-weight: bold\">44793</span>,\n",
       "            <span style=\"color: #008080; text-decoration-color: #008080; font-weight: bold\">44796</span>,\n",
       "            <span style=\"color: #008080; text-decoration-color: #008080; font-weight: bold\">44799</span>,\n",
       "            <span style=\"color: #008080; text-decoration-color: #008080; font-weight: bold\">44802</span>,\n",
       "            <span style=\"color: #008080; text-decoration-color: #008080; font-weight: bold\">44805</span>,\n",
       "            <span style=\"color: #008080; text-decoration-color: #008080; font-weight: bold\">44808</span>,\n",
       "            <span style=\"color: #008080; text-decoration-color: #008080; font-weight: bold\">44811</span>,\n",
       "            <span style=\"color: #008080; text-decoration-color: #008080; font-weight: bold\">44814</span>,\n",
       "            <span style=\"color: #008080; text-decoration-color: #008080; font-weight: bold\">44817</span>\n",
       "        <span style=\"font-weight: bold\">]</span>\n",
       "    <span style=\"font-weight: bold\">)</span>,\n",
       "    <span style=\"font-weight: bold\">(</span>\n",
       "        <span style=\"color: #008080; text-decoration-color: #008080; font-weight: bold\">30140.5</span>,\n",
       "        <span style=\"color: #008080; text-decoration-color: #008080; font-weight: bold\">30240.5</span>,\n",
       "        <span style=\"font-weight: bold\">[</span><span style=\"color: #008080; text-decoration-color: #008080; font-weight: bold\">24</span><span style=\"font-weight: bold\">]</span>,\n",
       "        <span style=\"font-weight: bold\">[</span>\n",
       "            <span style=\"color: #008080; text-decoration-color: #008080; font-weight: bold\">30141</span>,\n",
       "            <span style=\"color: #008080; text-decoration-color: #008080; font-weight: bold\">30144</span>,\n",
       "            <span style=\"color: #008080; text-decoration-color: #008080; font-weight: bold\">30147</span>,\n",
       "            <span style=\"color: #008080; text-decoration-color: #008080; font-weight: bold\">30150</span>,\n",
       "            <span style=\"color: #008080; text-decoration-color: #008080; font-weight: bold\">30153</span>,\n",
       "            <span style=\"color: #008080; text-decoration-color: #008080; font-weight: bold\">30156</span>,\n",
       "            <span style=\"color: #008080; text-decoration-color: #008080; font-weight: bold\">30159</span>,\n",
       "            <span style=\"color: #008080; text-decoration-color: #008080; font-weight: bold\">30162</span>,\n",
       "            <span style=\"color: #008080; text-decoration-color: #008080; font-weight: bold\">30165</span>,\n",
       "            <span style=\"color: #008080; text-decoration-color: #008080; font-weight: bold\">30168</span>,\n",
       "            <span style=\"color: #008080; text-decoration-color: #008080; font-weight: bold\">30171</span>,\n",
       "            <span style=\"color: #008080; text-decoration-color: #008080; font-weight: bold\">30174</span>,\n",
       "            <span style=\"color: #008080; text-decoration-color: #008080; font-weight: bold\">30177</span>,\n",
       "            <span style=\"color: #008080; text-decoration-color: #008080; font-weight: bold\">30180</span>,\n",
       "            <span style=\"color: #008080; text-decoration-color: #008080; font-weight: bold\">30183</span>,\n",
       "            <span style=\"color: #008080; text-decoration-color: #008080; font-weight: bold\">30186</span>,\n",
       "            <span style=\"color: #008080; text-decoration-color: #008080; font-weight: bold\">30189</span>,\n",
       "            <span style=\"color: #008080; text-decoration-color: #008080; font-weight: bold\">30192</span>,\n",
       "            <span style=\"color: #008080; text-decoration-color: #008080; font-weight: bold\">30195</span>,\n",
       "            <span style=\"color: #008080; text-decoration-color: #008080; font-weight: bold\">30198</span>,\n",
       "            <span style=\"color: #008080; text-decoration-color: #008080; font-weight: bold\">30201</span>,\n",
       "            <span style=\"color: #008080; text-decoration-color: #008080; font-weight: bold\">30204</span>,\n",
       "            <span style=\"color: #008080; text-decoration-color: #008080; font-weight: bold\">30207</span>,\n",
       "            <span style=\"color: #008080; text-decoration-color: #008080; font-weight: bold\">30210</span>,\n",
       "            <span style=\"color: #008080; text-decoration-color: #008080; font-weight: bold\">30213</span>,\n",
       "            <span style=\"color: #008080; text-decoration-color: #008080; font-weight: bold\">30216</span>,\n",
       "            <span style=\"color: #008080; text-decoration-color: #008080; font-weight: bold\">30219</span>,\n",
       "            <span style=\"color: #008080; text-decoration-color: #008080; font-weight: bold\">30222</span>,\n",
       "            <span style=\"color: #008080; text-decoration-color: #008080; font-weight: bold\">30225</span>,\n",
       "            <span style=\"color: #008080; text-decoration-color: #008080; font-weight: bold\">30228</span>,\n",
       "            <span style=\"color: #008080; text-decoration-color: #008080; font-weight: bold\">30231</span>,\n",
       "            <span style=\"color: #008080; text-decoration-color: #008080; font-weight: bold\">30234</span>,\n",
       "            <span style=\"color: #008080; text-decoration-color: #008080; font-weight: bold\">30237</span>,\n",
       "            <span style=\"color: #008080; text-decoration-color: #008080; font-weight: bold\">30240</span>\n",
       "        <span style=\"font-weight: bold\">]</span>\n",
       "    <span style=\"font-weight: bold\">)</span>,\n",
       "    <span style=\"font-weight: bold\">(</span>\n",
       "        <span style=\"color: #008080; text-decoration-color: #008080; font-weight: bold\">35452.0</span>,\n",
       "        <span style=\"color: #008080; text-decoration-color: #008080; font-weight: bold\">35552.0</span>,\n",
       "        <span style=\"font-weight: bold\">[</span><span style=\"color: #008080; text-decoration-color: #008080; font-weight: bold\">25</span><span style=\"font-weight: bold\">]</span>,\n",
       "        <span style=\"font-weight: bold\">[</span>\n",
       "            <span style=\"color: #008080; text-decoration-color: #008080; font-weight: bold\">35454</span>,\n",
       "            <span style=\"color: #008080; text-decoration-color: #008080; font-weight: bold\">35457</span>,\n",
       "            <span style=\"color: #008080; text-decoration-color: #008080; font-weight: bold\">35460</span>,\n",
       "            <span style=\"color: #008080; text-decoration-color: #008080; font-weight: bold\">35463</span>,\n",
       "            <span style=\"color: #008080; text-decoration-color: #008080; font-weight: bold\">35466</span>,\n",
       "            <span style=\"color: #008080; text-decoration-color: #008080; font-weight: bold\">35469</span>,\n",
       "            <span style=\"color: #008080; text-decoration-color: #008080; font-weight: bold\">35472</span>,\n",
       "            <span style=\"color: #008080; text-decoration-color: #008080; font-weight: bold\">35475</span>,\n",
       "            <span style=\"color: #008080; text-decoration-color: #008080; font-weight: bold\">35478</span>,\n",
       "            <span style=\"color: #008080; text-decoration-color: #008080; font-weight: bold\">35481</span>,\n",
       "            <span style=\"color: #008080; text-decoration-color: #008080; font-weight: bold\">35484</span>,\n",
       "            <span style=\"color: #008080; text-decoration-color: #008080; font-weight: bold\">35487</span>,\n",
       "            <span style=\"color: #008080; text-decoration-color: #008080; font-weight: bold\">35490</span>,\n",
       "            <span style=\"color: #008080; text-decoration-color: #008080; font-weight: bold\">35493</span>,\n",
       "            <span style=\"color: #008080; text-decoration-color: #008080; font-weight: bold\">35496</span>,\n",
       "            <span style=\"color: #008080; text-decoration-color: #008080; font-weight: bold\">35499</span>,\n",
       "            <span style=\"color: #008080; text-decoration-color: #008080; font-weight: bold\">35502</span>,\n",
       "            <span style=\"color: #008080; text-decoration-color: #008080; font-weight: bold\">35505</span>,\n",
       "            <span style=\"color: #008080; text-decoration-color: #008080; font-weight: bold\">35508</span>,\n",
       "            <span style=\"color: #008080; text-decoration-color: #008080; font-weight: bold\">35511</span>,\n",
       "            <span style=\"color: #008080; text-decoration-color: #008080; font-weight: bold\">35514</span>,\n",
       "            <span style=\"color: #008080; text-decoration-color: #008080; font-weight: bold\">35517</span>,\n",
       "            <span style=\"color: #008080; text-decoration-color: #008080; font-weight: bold\">35520</span>,\n",
       "            <span style=\"color: #008080; text-decoration-color: #008080; font-weight: bold\">35523</span>,\n",
       "            <span style=\"color: #008080; text-decoration-color: #008080; font-weight: bold\">35526</span>,\n",
       "            <span style=\"color: #008080; text-decoration-color: #008080; font-weight: bold\">35529</span>,\n",
       "            <span style=\"color: #008080; text-decoration-color: #008080; font-weight: bold\">35532</span>,\n",
       "            <span style=\"color: #008080; text-decoration-color: #008080; font-weight: bold\">35535</span>,\n",
       "            <span style=\"color: #008080; text-decoration-color: #008080; font-weight: bold\">35538</span>,\n",
       "            <span style=\"color: #008080; text-decoration-color: #008080; font-weight: bold\">35541</span>,\n",
       "            <span style=\"color: #008080; text-decoration-color: #008080; font-weight: bold\">35544</span>,\n",
       "            <span style=\"color: #008080; text-decoration-color: #008080; font-weight: bold\">35547</span>,\n",
       "            <span style=\"color: #008080; text-decoration-color: #008080; font-weight: bold\">35550</span>\n",
       "        <span style=\"font-weight: bold\">]</span>\n",
       "    <span style=\"font-weight: bold\">)</span>\n",
       "<span style=\"font-weight: bold\">]</span>\n",
       "</pre>\n"
      ],
      "text/plain": [
       "\u001b[1m[\u001b[0m\n",
       "    \u001b[1m(\u001b[0m\n",
       "        \u001b[1;36m19868.5\u001b[0m,\n",
       "        \u001b[1;36m19968.5\u001b[0m,\n",
       "        \u001b[1m[\u001b[0m\u001b[1;36m0\u001b[0m, \u001b[1;36m1\u001b[0m, \u001b[1;36m3\u001b[0m, \u001b[1;36m4\u001b[0m, \u001b[1;36m5\u001b[0m, \u001b[1;36m7\u001b[0m, \u001b[1;36m8\u001b[0m, \u001b[1;36m10\u001b[0m, \u001b[1;36m12\u001b[0m, \u001b[1;36m14\u001b[0m, \u001b[1;36m16\u001b[0m, \u001b[1;36m17\u001b[0m, \u001b[1;36m20\u001b[0m, \u001b[1;36m21\u001b[0m\u001b[1m]\u001b[0m,\n",
       "        \u001b[1m[\u001b[0m\n",
       "            \u001b[1;36m19869\u001b[0m,\n",
       "            \u001b[1;36m19872\u001b[0m,\n",
       "            \u001b[1;36m19875\u001b[0m,\n",
       "            \u001b[1;36m19878\u001b[0m,\n",
       "            \u001b[1;36m19881\u001b[0m,\n",
       "            \u001b[1;36m19884\u001b[0m,\n",
       "            \u001b[1;36m19887\u001b[0m,\n",
       "            \u001b[1;36m19890\u001b[0m,\n",
       "            \u001b[1;36m19893\u001b[0m,\n",
       "            \u001b[1;36m19896\u001b[0m,\n",
       "            \u001b[1;36m19899\u001b[0m,\n",
       "            \u001b[1;36m19902\u001b[0m,\n",
       "            \u001b[1;36m19905\u001b[0m,\n",
       "            \u001b[1;36m19908\u001b[0m,\n",
       "            \u001b[1;36m19911\u001b[0m,\n",
       "            \u001b[1;36m19914\u001b[0m,\n",
       "            \u001b[1;36m19917\u001b[0m,\n",
       "            \u001b[1;36m19920\u001b[0m,\n",
       "            \u001b[1;36m19923\u001b[0m,\n",
       "            \u001b[1;36m19926\u001b[0m,\n",
       "            \u001b[1;36m19929\u001b[0m,\n",
       "            \u001b[1;36m19932\u001b[0m,\n",
       "            \u001b[1;36m19935\u001b[0m,\n",
       "            \u001b[1;36m19938\u001b[0m,\n",
       "            \u001b[1;36m19941\u001b[0m,\n",
       "            \u001b[1;36m19944\u001b[0m,\n",
       "            \u001b[1;36m19947\u001b[0m,\n",
       "            \u001b[1;36m19950\u001b[0m,\n",
       "            \u001b[1;36m19953\u001b[0m,\n",
       "            \u001b[1;36m19956\u001b[0m,\n",
       "            \u001b[1;36m19959\u001b[0m,\n",
       "            \u001b[1;36m19962\u001b[0m,\n",
       "            \u001b[1;36m19965\u001b[0m,\n",
       "            \u001b[1;36m19968\u001b[0m\n",
       "        \u001b[1m]\u001b[0m\n",
       "    \u001b[1m)\u001b[0m,\n",
       "    \u001b[1m(\u001b[0m\n",
       "        \u001b[1;36m39946.0\u001b[0m,\n",
       "        \u001b[1;36m40046.0\u001b[0m,\n",
       "        \u001b[1m[\u001b[0m\u001b[1;36m26\u001b[0m, \u001b[1;36m28\u001b[0m\u001b[1m]\u001b[0m,\n",
       "        \u001b[1m[\u001b[0m\n",
       "            \u001b[1;36m39948\u001b[0m,\n",
       "            \u001b[1;36m39951\u001b[0m,\n",
       "            \u001b[1;36m39954\u001b[0m,\n",
       "            \u001b[1;36m39957\u001b[0m,\n",
       "            \u001b[1;36m39960\u001b[0m,\n",
       "            \u001b[1;36m39963\u001b[0m,\n",
       "            \u001b[1;36m39966\u001b[0m,\n",
       "            \u001b[1;36m39969\u001b[0m,\n",
       "            \u001b[1;36m39972\u001b[0m,\n",
       "            \u001b[1;36m39975\u001b[0m,\n",
       "            \u001b[1;36m39978\u001b[0m,\n",
       "            \u001b[1;36m39981\u001b[0m,\n",
       "            \u001b[1;36m39984\u001b[0m,\n",
       "            \u001b[1;36m39987\u001b[0m,\n",
       "            \u001b[1;36m39990\u001b[0m,\n",
       "            \u001b[1;36m39993\u001b[0m,\n",
       "            \u001b[1;36m39996\u001b[0m,\n",
       "            \u001b[1;36m39999\u001b[0m,\n",
       "            \u001b[1;36m40002\u001b[0m,\n",
       "            \u001b[1;36m40005\u001b[0m,\n",
       "            \u001b[1;36m40008\u001b[0m,\n",
       "            \u001b[1;36m40011\u001b[0m,\n",
       "            \u001b[1;36m40014\u001b[0m,\n",
       "            \u001b[1;36m40017\u001b[0m,\n",
       "            \u001b[1;36m40020\u001b[0m,\n",
       "            \u001b[1;36m40023\u001b[0m,\n",
       "            \u001b[1;36m40026\u001b[0m,\n",
       "            \u001b[1;36m40029\u001b[0m,\n",
       "            \u001b[1;36m40032\u001b[0m,\n",
       "            \u001b[1;36m40035\u001b[0m,\n",
       "            \u001b[1;36m40038\u001b[0m,\n",
       "            \u001b[1;36m40041\u001b[0m,\n",
       "            \u001b[1;36m40044\u001b[0m\n",
       "        \u001b[1m]\u001b[0m\n",
       "    \u001b[1m)\u001b[0m,\n",
       "    \u001b[1m(\u001b[0m\n",
       "        \u001b[1;36m52345.0\u001b[0m,\n",
       "        \u001b[1;36m52445.0\u001b[0m,\n",
       "        \u001b[1m[\u001b[0m\u001b[1;36m6\u001b[0m, \u001b[1;36m31\u001b[0m\u001b[1m]\u001b[0m,\n",
       "        \u001b[1m[\u001b[0m\n",
       "            \u001b[1;36m52347\u001b[0m,\n",
       "            \u001b[1;36m52350\u001b[0m,\n",
       "            \u001b[1;36m52353\u001b[0m,\n",
       "            \u001b[1;36m52356\u001b[0m,\n",
       "            \u001b[1;36m52359\u001b[0m,\n",
       "            \u001b[1;36m52362\u001b[0m,\n",
       "            \u001b[1;36m52365\u001b[0m,\n",
       "            \u001b[1;36m52368\u001b[0m,\n",
       "            \u001b[1;36m52371\u001b[0m,\n",
       "            \u001b[1;36m52374\u001b[0m,\n",
       "            \u001b[1;36m52377\u001b[0m,\n",
       "            \u001b[1;36m52380\u001b[0m,\n",
       "            \u001b[1;36m52383\u001b[0m,\n",
       "            \u001b[1;36m52386\u001b[0m,\n",
       "            \u001b[1;36m52389\u001b[0m,\n",
       "            \u001b[1;36m52392\u001b[0m,\n",
       "            \u001b[1;36m52395\u001b[0m,\n",
       "            \u001b[1;36m52398\u001b[0m,\n",
       "            \u001b[1;36m52401\u001b[0m,\n",
       "            \u001b[1;36m52404\u001b[0m,\n",
       "            \u001b[1;36m52407\u001b[0m,\n",
       "            \u001b[1;36m52410\u001b[0m,\n",
       "            \u001b[1;36m52413\u001b[0m,\n",
       "            \u001b[1;36m52416\u001b[0m,\n",
       "            \u001b[1;36m52419\u001b[0m,\n",
       "            \u001b[1;36m52422\u001b[0m,\n",
       "            \u001b[1;36m52425\u001b[0m,\n",
       "            \u001b[1;36m52428\u001b[0m,\n",
       "            \u001b[1;36m52431\u001b[0m,\n",
       "            \u001b[1;36m52434\u001b[0m,\n",
       "            \u001b[1;36m52437\u001b[0m,\n",
       "            \u001b[1;36m52440\u001b[0m,\n",
       "            \u001b[1;36m52443\u001b[0m\n",
       "        \u001b[1m]\u001b[0m\n",
       "    \u001b[1m)\u001b[0m,\n",
       "    \u001b[1m(\u001b[0m\n",
       "        \u001b[1;36m2321.5\u001b[0m,\n",
       "        \u001b[1;36m2421.5\u001b[0m,\n",
       "        \u001b[1m[\u001b[0m\u001b[1;36m11\u001b[0m, \u001b[1;36m13\u001b[0m\u001b[1m]\u001b[0m,\n",
       "        \u001b[1m[\u001b[0m\n",
       "            \u001b[1;36m2322\u001b[0m,\n",
       "            \u001b[1;36m2325\u001b[0m,\n",
       "            \u001b[1;36m2328\u001b[0m,\n",
       "            \u001b[1;36m2331\u001b[0m,\n",
       "            \u001b[1;36m2334\u001b[0m,\n",
       "            \u001b[1;36m2337\u001b[0m,\n",
       "            \u001b[1;36m2340\u001b[0m,\n",
       "            \u001b[1;36m2343\u001b[0m,\n",
       "            \u001b[1;36m2346\u001b[0m,\n",
       "            \u001b[1;36m2349\u001b[0m,\n",
       "            \u001b[1;36m2352\u001b[0m,\n",
       "            \u001b[1;36m2355\u001b[0m,\n",
       "            \u001b[1;36m2358\u001b[0m,\n",
       "            \u001b[1;36m2361\u001b[0m,\n",
       "            \u001b[1;36m2364\u001b[0m,\n",
       "            \u001b[1;36m2367\u001b[0m,\n",
       "            \u001b[1;36m2370\u001b[0m,\n",
       "            \u001b[1;36m2373\u001b[0m,\n",
       "            \u001b[1;36m2376\u001b[0m,\n",
       "            \u001b[1;36m2379\u001b[0m,\n",
       "            \u001b[1;36m2382\u001b[0m,\n",
       "            \u001b[1;36m2385\u001b[0m,\n",
       "            \u001b[1;36m2388\u001b[0m,\n",
       "            \u001b[1;36m2391\u001b[0m,\n",
       "            \u001b[1;36m2394\u001b[0m,\n",
       "            \u001b[1;36m2397\u001b[0m,\n",
       "            \u001b[1;36m2400\u001b[0m,\n",
       "            \u001b[1;36m2403\u001b[0m,\n",
       "            \u001b[1;36m2406\u001b[0m,\n",
       "            \u001b[1;36m2409\u001b[0m,\n",
       "            \u001b[1;36m2412\u001b[0m,\n",
       "            \u001b[1;36m2415\u001b[0m,\n",
       "            \u001b[1;36m2418\u001b[0m,\n",
       "            \u001b[1;36m2421\u001b[0m\n",
       "        \u001b[1m]\u001b[0m\n",
       "    \u001b[1m)\u001b[0m,\n",
       "    \u001b[1m(\u001b[0m\n",
       "        \u001b[1;36m25909.0\u001b[0m,\n",
       "        \u001b[1;36m26009.0\u001b[0m,\n",
       "        \u001b[1m[\u001b[0m\u001b[1;36m23\u001b[0m\u001b[1m]\u001b[0m,\n",
       "        \u001b[1m[\u001b[0m\n",
       "            \u001b[1;36m25911\u001b[0m,\n",
       "            \u001b[1;36m25914\u001b[0m,\n",
       "            \u001b[1;36m25917\u001b[0m,\n",
       "            \u001b[1;36m25920\u001b[0m,\n",
       "            \u001b[1;36m25923\u001b[0m,\n",
       "            \u001b[1;36m25926\u001b[0m,\n",
       "            \u001b[1;36m25929\u001b[0m,\n",
       "            \u001b[1;36m25932\u001b[0m,\n",
       "            \u001b[1;36m25935\u001b[0m,\n",
       "            \u001b[1;36m25938\u001b[0m,\n",
       "            \u001b[1;36m25941\u001b[0m,\n",
       "            \u001b[1;36m25944\u001b[0m,\n",
       "            \u001b[1;36m25947\u001b[0m,\n",
       "            \u001b[1;36m25950\u001b[0m,\n",
       "            \u001b[1;36m25953\u001b[0m,\n",
       "            \u001b[1;36m25956\u001b[0m,\n",
       "            \u001b[1;36m25959\u001b[0m,\n",
       "            \u001b[1;36m25962\u001b[0m,\n",
       "            \u001b[1;36m25965\u001b[0m,\n",
       "            \u001b[1;36m25968\u001b[0m,\n",
       "            \u001b[1;36m25971\u001b[0m,\n",
       "            \u001b[1;36m25974\u001b[0m,\n",
       "            \u001b[1;36m25977\u001b[0m,\n",
       "            \u001b[1;36m25980\u001b[0m,\n",
       "            \u001b[1;36m25983\u001b[0m,\n",
       "            \u001b[1;36m25986\u001b[0m,\n",
       "            \u001b[1;36m25989\u001b[0m,\n",
       "            \u001b[1;36m25992\u001b[0m,\n",
       "            \u001b[1;36m25995\u001b[0m,\n",
       "            \u001b[1;36m25998\u001b[0m,\n",
       "            \u001b[1;36m26001\u001b[0m,\n",
       "            \u001b[1;36m26004\u001b[0m,\n",
       "            \u001b[1;36m26007\u001b[0m\n",
       "        \u001b[1m]\u001b[0m\n",
       "    \u001b[1m)\u001b[0m,\n",
       "    \u001b[1m(\u001b[0m\n",
       "        \u001b[1;36m48335.5\u001b[0m,\n",
       "        \u001b[1;36m48435.5\u001b[0m,\n",
       "        \u001b[1m[\u001b[0m\u001b[1;36m30\u001b[0m\u001b[1m]\u001b[0m,\n",
       "        \u001b[1m[\u001b[0m\n",
       "            \u001b[1;36m48336\u001b[0m,\n",
       "            \u001b[1;36m48339\u001b[0m,\n",
       "            \u001b[1;36m48342\u001b[0m,\n",
       "            \u001b[1;36m48345\u001b[0m,\n",
       "            \u001b[1;36m48348\u001b[0m,\n",
       "            \u001b[1;36m48351\u001b[0m,\n",
       "            \u001b[1;36m48354\u001b[0m,\n",
       "            \u001b[1;36m48357\u001b[0m,\n",
       "            \u001b[1;36m48360\u001b[0m,\n",
       "            \u001b[1;36m48363\u001b[0m,\n",
       "            \u001b[1;36m48366\u001b[0m,\n",
       "            \u001b[1;36m48369\u001b[0m,\n",
       "            \u001b[1;36m48372\u001b[0m,\n",
       "            \u001b[1;36m48375\u001b[0m,\n",
       "            \u001b[1;36m48378\u001b[0m,\n",
       "            \u001b[1;36m48381\u001b[0m,\n",
       "            \u001b[1;36m48384\u001b[0m,\n",
       "            \u001b[1;36m48387\u001b[0m,\n",
       "            \u001b[1;36m48390\u001b[0m,\n",
       "            \u001b[1;36m48393\u001b[0m,\n",
       "            \u001b[1;36m48396\u001b[0m,\n",
       "            \u001b[1;36m48399\u001b[0m,\n",
       "            \u001b[1;36m48402\u001b[0m,\n",
       "            \u001b[1;36m48405\u001b[0m,\n",
       "            \u001b[1;36m48408\u001b[0m,\n",
       "            \u001b[1;36m48411\u001b[0m,\n",
       "            \u001b[1;36m48414\u001b[0m,\n",
       "            \u001b[1;36m48417\u001b[0m,\n",
       "            \u001b[1;36m48420\u001b[0m,\n",
       "            \u001b[1;36m48423\u001b[0m,\n",
       "            \u001b[1;36m48426\u001b[0m,\n",
       "            \u001b[1;36m48429\u001b[0m,\n",
       "            \u001b[1;36m48432\u001b[0m,\n",
       "            \u001b[1;36m48435\u001b[0m\n",
       "        \u001b[1m]\u001b[0m\n",
       "    \u001b[1m)\u001b[0m,\n",
       "    \u001b[1m(\u001b[0m\n",
       "        \u001b[1;36m38810.5\u001b[0m,\n",
       "        \u001b[1;36m38910.5\u001b[0m,\n",
       "        \u001b[1m[\u001b[0m\u001b[1;36m27\u001b[0m\u001b[1m]\u001b[0m,\n",
       "        \u001b[1m[\u001b[0m\n",
       "            \u001b[1;36m38811\u001b[0m,\n",
       "            \u001b[1;36m38814\u001b[0m,\n",
       "            \u001b[1;36m38817\u001b[0m,\n",
       "            \u001b[1;36m38820\u001b[0m,\n",
       "            \u001b[1;36m38823\u001b[0m,\n",
       "            \u001b[1;36m38826\u001b[0m,\n",
       "            \u001b[1;36m38829\u001b[0m,\n",
       "            \u001b[1;36m38832\u001b[0m,\n",
       "            \u001b[1;36m38835\u001b[0m,\n",
       "            \u001b[1;36m38838\u001b[0m,\n",
       "            \u001b[1;36m38841\u001b[0m,\n",
       "            \u001b[1;36m38844\u001b[0m,\n",
       "            \u001b[1;36m38847\u001b[0m,\n",
       "            \u001b[1;36m38850\u001b[0m,\n",
       "            \u001b[1;36m38853\u001b[0m,\n",
       "            \u001b[1;36m38856\u001b[0m,\n",
       "            \u001b[1;36m38859\u001b[0m,\n",
       "            \u001b[1;36m38862\u001b[0m,\n",
       "            \u001b[1;36m38865\u001b[0m,\n",
       "            \u001b[1;36m38868\u001b[0m,\n",
       "            \u001b[1;36m38871\u001b[0m,\n",
       "            \u001b[1;36m38874\u001b[0m,\n",
       "            \u001b[1;36m38877\u001b[0m,\n",
       "            \u001b[1;36m38880\u001b[0m,\n",
       "            \u001b[1;36m38883\u001b[0m,\n",
       "            \u001b[1;36m38886\u001b[0m,\n",
       "            \u001b[1;36m38889\u001b[0m,\n",
       "            \u001b[1;36m38892\u001b[0m,\n",
       "            \u001b[1;36m38895\u001b[0m,\n",
       "            \u001b[1;36m38898\u001b[0m,\n",
       "            \u001b[1;36m38901\u001b[0m,\n",
       "            \u001b[1;36m38904\u001b[0m,\n",
       "            \u001b[1;36m38907\u001b[0m,\n",
       "            \u001b[1;36m38910\u001b[0m\n",
       "        \u001b[1m]\u001b[0m\n",
       "    \u001b[1m)\u001b[0m,\n",
       "    \u001b[1m(\u001b[0m\n",
       "        \u001b[1;36m12622.0\u001b[0m,\n",
       "        \u001b[1;36m12722.0\u001b[0m,\n",
       "        \u001b[1m[\u001b[0m\u001b[1;36m19\u001b[0m\u001b[1m]\u001b[0m,\n",
       "        \u001b[1m[\u001b[0m\n",
       "            \u001b[1;36m12624\u001b[0m,\n",
       "            \u001b[1;36m12627\u001b[0m,\n",
       "            \u001b[1;36m12630\u001b[0m,\n",
       "            \u001b[1;36m12633\u001b[0m,\n",
       "            \u001b[1;36m12636\u001b[0m,\n",
       "            \u001b[1;36m12639\u001b[0m,\n",
       "            \u001b[1;36m12642\u001b[0m,\n",
       "            \u001b[1;36m12645\u001b[0m,\n",
       "            \u001b[1;36m12648\u001b[0m,\n",
       "            \u001b[1;36m12651\u001b[0m,\n",
       "            \u001b[1;36m12654\u001b[0m,\n",
       "            \u001b[1;36m12657\u001b[0m,\n",
       "            \u001b[1;36m12660\u001b[0m,\n",
       "            \u001b[1;36m12663\u001b[0m,\n",
       "            \u001b[1;36m12666\u001b[0m,\n",
       "            \u001b[1;36m12669\u001b[0m,\n",
       "            \u001b[1;36m12672\u001b[0m,\n",
       "            \u001b[1;36m12675\u001b[0m,\n",
       "            \u001b[1;36m12678\u001b[0m,\n",
       "            \u001b[1;36m12681\u001b[0m,\n",
       "            \u001b[1;36m12684\u001b[0m,\n",
       "            \u001b[1;36m12687\u001b[0m,\n",
       "            \u001b[1;36m12690\u001b[0m,\n",
       "            \u001b[1;36m12693\u001b[0m,\n",
       "            \u001b[1;36m12696\u001b[0m,\n",
       "            \u001b[1;36m12699\u001b[0m,\n",
       "            \u001b[1;36m12702\u001b[0m,\n",
       "            \u001b[1;36m12705\u001b[0m,\n",
       "            \u001b[1;36m12708\u001b[0m,\n",
       "            \u001b[1;36m12711\u001b[0m,\n",
       "            \u001b[1;36m12714\u001b[0m,\n",
       "            \u001b[1;36m12717\u001b[0m,\n",
       "            \u001b[1;36m12720\u001b[0m\n",
       "        \u001b[1m]\u001b[0m\n",
       "    \u001b[1m)\u001b[0m,\n",
       "    \u001b[1m(\u001b[0m\n",
       "        \u001b[1;36m65488.0\u001b[0m,\n",
       "        \u001b[1;36m65588.0\u001b[0m,\n",
       "        \u001b[1m[\u001b[0m\u001b[1;36m9\u001b[0m, \u001b[1;36m18\u001b[0m, \u001b[1;36m32\u001b[0m, \u001b[1;36m35\u001b[0m, \u001b[1;36m36\u001b[0m\u001b[1m]\u001b[0m,\n",
       "        \u001b[1m[\u001b[0m\n",
       "            \u001b[1;36m65490\u001b[0m,\n",
       "            \u001b[1;36m65493\u001b[0m,\n",
       "            \u001b[1;36m65496\u001b[0m,\n",
       "            \u001b[1;36m65499\u001b[0m,\n",
       "            \u001b[1;36m65502\u001b[0m,\n",
       "            \u001b[1;36m65505\u001b[0m,\n",
       "            \u001b[1;36m65508\u001b[0m,\n",
       "            \u001b[1;36m65511\u001b[0m,\n",
       "            \u001b[1;36m65514\u001b[0m,\n",
       "            \u001b[1;36m65517\u001b[0m,\n",
       "            \u001b[1;36m65520\u001b[0m,\n",
       "            \u001b[1;36m65523\u001b[0m,\n",
       "            \u001b[1;36m65526\u001b[0m,\n",
       "            \u001b[1;36m65529\u001b[0m,\n",
       "            \u001b[1;36m65532\u001b[0m,\n",
       "            \u001b[1;36m65535\u001b[0m,\n",
       "            \u001b[1;36m65538\u001b[0m,\n",
       "            \u001b[1;36m65541\u001b[0m,\n",
       "            \u001b[1;36m65544\u001b[0m,\n",
       "            \u001b[1;36m65547\u001b[0m,\n",
       "            \u001b[1;36m65550\u001b[0m,\n",
       "            \u001b[1;36m65553\u001b[0m,\n",
       "            \u001b[1;36m65556\u001b[0m,\n",
       "            \u001b[1;36m65559\u001b[0m,\n",
       "            \u001b[1;36m65562\u001b[0m,\n",
       "            \u001b[1;36m65565\u001b[0m,\n",
       "            \u001b[1;36m65568\u001b[0m,\n",
       "            \u001b[1;36m65571\u001b[0m,\n",
       "            \u001b[1;36m65574\u001b[0m,\n",
       "            \u001b[1;36m65577\u001b[0m,\n",
       "            \u001b[1;36m65580\u001b[0m,\n",
       "            \u001b[1;36m65583\u001b[0m,\n",
       "            \u001b[1;36m65586\u001b[0m\n",
       "        \u001b[1m]\u001b[0m\n",
       "    \u001b[1m)\u001b[0m,\n",
       "    \u001b[1m(\u001b[0m\n",
       "        \u001b[1;36m23069.5\u001b[0m,\n",
       "        \u001b[1;36m23169.5\u001b[0m,\n",
       "        \u001b[1m[\u001b[0m\u001b[1;36m22\u001b[0m\u001b[1m]\u001b[0m,\n",
       "        \u001b[1m[\u001b[0m\n",
       "            \u001b[1;36m23070\u001b[0m,\n",
       "            \u001b[1;36m23073\u001b[0m,\n",
       "            \u001b[1;36m23076\u001b[0m,\n",
       "            \u001b[1;36m23079\u001b[0m,\n",
       "            \u001b[1;36m23082\u001b[0m,\n",
       "            \u001b[1;36m23085\u001b[0m,\n",
       "            \u001b[1;36m23088\u001b[0m,\n",
       "            \u001b[1;36m23091\u001b[0m,\n",
       "            \u001b[1;36m23094\u001b[0m,\n",
       "            \u001b[1;36m23097\u001b[0m,\n",
       "            \u001b[1;36m23100\u001b[0m,\n",
       "            \u001b[1;36m23103\u001b[0m,\n",
       "            \u001b[1;36m23106\u001b[0m,\n",
       "            \u001b[1;36m23109\u001b[0m,\n",
       "            \u001b[1;36m23112\u001b[0m,\n",
       "            \u001b[1;36m23115\u001b[0m,\n",
       "            \u001b[1;36m23118\u001b[0m,\n",
       "            \u001b[1;36m23121\u001b[0m,\n",
       "            \u001b[1;36m23124\u001b[0m,\n",
       "            \u001b[1;36m23127\u001b[0m,\n",
       "            \u001b[1;36m23130\u001b[0m,\n",
       "            \u001b[1;36m23133\u001b[0m,\n",
       "            \u001b[1;36m23136\u001b[0m,\n",
       "            \u001b[1;36m23139\u001b[0m,\n",
       "            \u001b[1;36m23142\u001b[0m,\n",
       "            \u001b[1;36m23145\u001b[0m,\n",
       "            \u001b[1;36m23148\u001b[0m,\n",
       "            \u001b[1;36m23151\u001b[0m,\n",
       "            \u001b[1;36m23154\u001b[0m,\n",
       "            \u001b[1;36m23157\u001b[0m,\n",
       "            \u001b[1;36m23160\u001b[0m,\n",
       "            \u001b[1;36m23163\u001b[0m,\n",
       "            \u001b[1;36m23166\u001b[0m,\n",
       "            \u001b[1;36m23169\u001b[0m\n",
       "        \u001b[1m]\u001b[0m\n",
       "    \u001b[1m)\u001b[0m,\n",
       "    \u001b[1m(\u001b[0m\n",
       "        \u001b[1;36m58949.5\u001b[0m,\n",
       "        \u001b[1;36m59049.5\u001b[0m,\n",
       "        \u001b[1m[\u001b[0m\u001b[1;36m34\u001b[0m\u001b[1m]\u001b[0m,\n",
       "        \u001b[1m[\u001b[0m\n",
       "            \u001b[1;36m58950\u001b[0m,\n",
       "            \u001b[1;36m58953\u001b[0m,\n",
       "            \u001b[1;36m58956\u001b[0m,\n",
       "            \u001b[1;36m58959\u001b[0m,\n",
       "            \u001b[1;36m58962\u001b[0m,\n",
       "            \u001b[1;36m58965\u001b[0m,\n",
       "            \u001b[1;36m58968\u001b[0m,\n",
       "            \u001b[1;36m58971\u001b[0m,\n",
       "            \u001b[1;36m58974\u001b[0m,\n",
       "            \u001b[1;36m58977\u001b[0m,\n",
       "            \u001b[1;36m58980\u001b[0m,\n",
       "            \u001b[1;36m58983\u001b[0m,\n",
       "            \u001b[1;36m58986\u001b[0m,\n",
       "            \u001b[1;36m58989\u001b[0m,\n",
       "            \u001b[1;36m58992\u001b[0m,\n",
       "            \u001b[1;36m58995\u001b[0m,\n",
       "            \u001b[1;36m58998\u001b[0m,\n",
       "            \u001b[1;36m59001\u001b[0m,\n",
       "            \u001b[1;36m59004\u001b[0m,\n",
       "            \u001b[1;36m59007\u001b[0m,\n",
       "            \u001b[1;36m59010\u001b[0m,\n",
       "            \u001b[1;36m59013\u001b[0m,\n",
       "            \u001b[1;36m59016\u001b[0m,\n",
       "            \u001b[1;36m59019\u001b[0m,\n",
       "            \u001b[1;36m59022\u001b[0m,\n",
       "            \u001b[1;36m59025\u001b[0m,\n",
       "            \u001b[1;36m59028\u001b[0m,\n",
       "            \u001b[1;36m59031\u001b[0m,\n",
       "            \u001b[1;36m59034\u001b[0m,\n",
       "            \u001b[1;36m59037\u001b[0m,\n",
       "            \u001b[1;36m59040\u001b[0m,\n",
       "            \u001b[1;36m59043\u001b[0m,\n",
       "            \u001b[1;36m59046\u001b[0m,\n",
       "            \u001b[1;36m59049\u001b[0m\n",
       "        \u001b[1m]\u001b[0m\n",
       "    \u001b[1m)\u001b[0m,\n",
       "    \u001b[1m(\u001b[0m\n",
       "        \u001b[1;36m5119.0\u001b[0m,\n",
       "        \u001b[1;36m5219.0\u001b[0m,\n",
       "        \u001b[1m[\u001b[0m\u001b[1;36m15\u001b[0m\u001b[1m]\u001b[0m,\n",
       "        \u001b[1m[\u001b[0m\n",
       "            \u001b[1;36m5121\u001b[0m,\n",
       "            \u001b[1;36m5124\u001b[0m,\n",
       "            \u001b[1;36m5127\u001b[0m,\n",
       "            \u001b[1;36m5130\u001b[0m,\n",
       "            \u001b[1;36m5133\u001b[0m,\n",
       "            \u001b[1;36m5136\u001b[0m,\n",
       "            \u001b[1;36m5139\u001b[0m,\n",
       "            \u001b[1;36m5142\u001b[0m,\n",
       "            \u001b[1;36m5145\u001b[0m,\n",
       "            \u001b[1;36m5148\u001b[0m,\n",
       "            \u001b[1;36m5151\u001b[0m,\n",
       "            \u001b[1;36m5154\u001b[0m,\n",
       "            \u001b[1;36m5157\u001b[0m,\n",
       "            \u001b[1;36m5160\u001b[0m,\n",
       "            \u001b[1;36m5163\u001b[0m,\n",
       "            \u001b[1;36m5166\u001b[0m,\n",
       "            \u001b[1;36m5169\u001b[0m,\n",
       "            \u001b[1;36m5172\u001b[0m,\n",
       "            \u001b[1;36m5175\u001b[0m,\n",
       "            \u001b[1;36m5178\u001b[0m,\n",
       "            \u001b[1;36m5181\u001b[0m,\n",
       "            \u001b[1;36m5184\u001b[0m,\n",
       "            \u001b[1;36m5187\u001b[0m,\n",
       "            \u001b[1;36m5190\u001b[0m,\n",
       "            \u001b[1;36m5193\u001b[0m,\n",
       "            \u001b[1;36m5196\u001b[0m,\n",
       "            \u001b[1;36m5199\u001b[0m,\n",
       "            \u001b[1;36m5202\u001b[0m,\n",
       "            \u001b[1;36m5205\u001b[0m,\n",
       "            \u001b[1;36m5208\u001b[0m,\n",
       "            \u001b[1;36m5211\u001b[0m,\n",
       "            \u001b[1;36m5214\u001b[0m,\n",
       "            \u001b[1;36m5217\u001b[0m\n",
       "        \u001b[1m]\u001b[0m\n",
       "    \u001b[1m)\u001b[0m,\n",
       "    \u001b[1m(\u001b[0m\n",
       "        \u001b[1;36m61396.0\u001b[0m,\n",
       "        \u001b[1;36m61496.0\u001b[0m,\n",
       "        \u001b[1m[\u001b[0m\u001b[1;36m2\u001b[0m, \u001b[1;36m33\u001b[0m\u001b[1m]\u001b[0m,\n",
       "        \u001b[1m[\u001b[0m\n",
       "            \u001b[1;36m61398\u001b[0m,\n",
       "            \u001b[1;36m61401\u001b[0m,\n",
       "            \u001b[1;36m61404\u001b[0m,\n",
       "            \u001b[1;36m61407\u001b[0m,\n",
       "            \u001b[1;36m61410\u001b[0m,\n",
       "            \u001b[1;36m61413\u001b[0m,\n",
       "            \u001b[1;36m61416\u001b[0m,\n",
       "            \u001b[1;36m61419\u001b[0m,\n",
       "            \u001b[1;36m61422\u001b[0m,\n",
       "            \u001b[1;36m61425\u001b[0m,\n",
       "            \u001b[1;36m61428\u001b[0m,\n",
       "            \u001b[1;36m61431\u001b[0m,\n",
       "            \u001b[1;36m61434\u001b[0m,\n",
       "            \u001b[1;36m61437\u001b[0m,\n",
       "            \u001b[1;36m61440\u001b[0m,\n",
       "            \u001b[1;36m61443\u001b[0m,\n",
       "            \u001b[1;36m61446\u001b[0m,\n",
       "            \u001b[1;36m61449\u001b[0m,\n",
       "            \u001b[1;36m61452\u001b[0m,\n",
       "            \u001b[1;36m61455\u001b[0m,\n",
       "            \u001b[1;36m61458\u001b[0m,\n",
       "            \u001b[1;36m61461\u001b[0m,\n",
       "            \u001b[1;36m61464\u001b[0m,\n",
       "            \u001b[1;36m61467\u001b[0m,\n",
       "            \u001b[1;36m61470\u001b[0m,\n",
       "            \u001b[1;36m61473\u001b[0m,\n",
       "            \u001b[1;36m61476\u001b[0m,\n",
       "            \u001b[1;36m61479\u001b[0m,\n",
       "            \u001b[1;36m61482\u001b[0m,\n",
       "            \u001b[1;36m61485\u001b[0m,\n",
       "            \u001b[1;36m61488\u001b[0m,\n",
       "            \u001b[1;36m61491\u001b[0m,\n",
       "            \u001b[1;36m61494\u001b[0m\n",
       "        \u001b[1m]\u001b[0m\n",
       "    \u001b[1m)\u001b[0m,\n",
       "    \u001b[1m(\u001b[0m\n",
       "        \u001b[1;36m44719.0\u001b[0m,\n",
       "        \u001b[1;36m44819.0\u001b[0m,\n",
       "        \u001b[1m[\u001b[0m\u001b[1;36m29\u001b[0m\u001b[1m]\u001b[0m,\n",
       "        \u001b[1m[\u001b[0m\n",
       "            \u001b[1;36m44721\u001b[0m,\n",
       "            \u001b[1;36m44724\u001b[0m,\n",
       "            \u001b[1;36m44727\u001b[0m,\n",
       "            \u001b[1;36m44730\u001b[0m,\n",
       "            \u001b[1;36m44733\u001b[0m,\n",
       "            \u001b[1;36m44736\u001b[0m,\n",
       "            \u001b[1;36m44739\u001b[0m,\n",
       "            \u001b[1;36m44742\u001b[0m,\n",
       "            \u001b[1;36m44745\u001b[0m,\n",
       "            \u001b[1;36m44748\u001b[0m,\n",
       "            \u001b[1;36m44751\u001b[0m,\n",
       "            \u001b[1;36m44754\u001b[0m,\n",
       "            \u001b[1;36m44757\u001b[0m,\n",
       "            \u001b[1;36m44760\u001b[0m,\n",
       "            \u001b[1;36m44763\u001b[0m,\n",
       "            \u001b[1;36m44766\u001b[0m,\n",
       "            \u001b[1;36m44769\u001b[0m,\n",
       "            \u001b[1;36m44772\u001b[0m,\n",
       "            \u001b[1;36m44775\u001b[0m,\n",
       "            \u001b[1;36m44778\u001b[0m,\n",
       "            \u001b[1;36m44781\u001b[0m,\n",
       "            \u001b[1;36m44784\u001b[0m,\n",
       "            \u001b[1;36m44787\u001b[0m,\n",
       "            \u001b[1;36m44790\u001b[0m,\n",
       "            \u001b[1;36m44793\u001b[0m,\n",
       "            \u001b[1;36m44796\u001b[0m,\n",
       "            \u001b[1;36m44799\u001b[0m,\n",
       "            \u001b[1;36m44802\u001b[0m,\n",
       "            \u001b[1;36m44805\u001b[0m,\n",
       "            \u001b[1;36m44808\u001b[0m,\n",
       "            \u001b[1;36m44811\u001b[0m,\n",
       "            \u001b[1;36m44814\u001b[0m,\n",
       "            \u001b[1;36m44817\u001b[0m\n",
       "        \u001b[1m]\u001b[0m\n",
       "    \u001b[1m)\u001b[0m,\n",
       "    \u001b[1m(\u001b[0m\n",
       "        \u001b[1;36m30140.5\u001b[0m,\n",
       "        \u001b[1;36m30240.5\u001b[0m,\n",
       "        \u001b[1m[\u001b[0m\u001b[1;36m24\u001b[0m\u001b[1m]\u001b[0m,\n",
       "        \u001b[1m[\u001b[0m\n",
       "            \u001b[1;36m30141\u001b[0m,\n",
       "            \u001b[1;36m30144\u001b[0m,\n",
       "            \u001b[1;36m30147\u001b[0m,\n",
       "            \u001b[1;36m30150\u001b[0m,\n",
       "            \u001b[1;36m30153\u001b[0m,\n",
       "            \u001b[1;36m30156\u001b[0m,\n",
       "            \u001b[1;36m30159\u001b[0m,\n",
       "            \u001b[1;36m30162\u001b[0m,\n",
       "            \u001b[1;36m30165\u001b[0m,\n",
       "            \u001b[1;36m30168\u001b[0m,\n",
       "            \u001b[1;36m30171\u001b[0m,\n",
       "            \u001b[1;36m30174\u001b[0m,\n",
       "            \u001b[1;36m30177\u001b[0m,\n",
       "            \u001b[1;36m30180\u001b[0m,\n",
       "            \u001b[1;36m30183\u001b[0m,\n",
       "            \u001b[1;36m30186\u001b[0m,\n",
       "            \u001b[1;36m30189\u001b[0m,\n",
       "            \u001b[1;36m30192\u001b[0m,\n",
       "            \u001b[1;36m30195\u001b[0m,\n",
       "            \u001b[1;36m30198\u001b[0m,\n",
       "            \u001b[1;36m30201\u001b[0m,\n",
       "            \u001b[1;36m30204\u001b[0m,\n",
       "            \u001b[1;36m30207\u001b[0m,\n",
       "            \u001b[1;36m30210\u001b[0m,\n",
       "            \u001b[1;36m30213\u001b[0m,\n",
       "            \u001b[1;36m30216\u001b[0m,\n",
       "            \u001b[1;36m30219\u001b[0m,\n",
       "            \u001b[1;36m30222\u001b[0m,\n",
       "            \u001b[1;36m30225\u001b[0m,\n",
       "            \u001b[1;36m30228\u001b[0m,\n",
       "            \u001b[1;36m30231\u001b[0m,\n",
       "            \u001b[1;36m30234\u001b[0m,\n",
       "            \u001b[1;36m30237\u001b[0m,\n",
       "            \u001b[1;36m30240\u001b[0m\n",
       "        \u001b[1m]\u001b[0m\n",
       "    \u001b[1m)\u001b[0m,\n",
       "    \u001b[1m(\u001b[0m\n",
       "        \u001b[1;36m35452.0\u001b[0m,\n",
       "        \u001b[1;36m35552.0\u001b[0m,\n",
       "        \u001b[1m[\u001b[0m\u001b[1;36m25\u001b[0m\u001b[1m]\u001b[0m,\n",
       "        \u001b[1m[\u001b[0m\n",
       "            \u001b[1;36m35454\u001b[0m,\n",
       "            \u001b[1;36m35457\u001b[0m,\n",
       "            \u001b[1;36m35460\u001b[0m,\n",
       "            \u001b[1;36m35463\u001b[0m,\n",
       "            \u001b[1;36m35466\u001b[0m,\n",
       "            \u001b[1;36m35469\u001b[0m,\n",
       "            \u001b[1;36m35472\u001b[0m,\n",
       "            \u001b[1;36m35475\u001b[0m,\n",
       "            \u001b[1;36m35478\u001b[0m,\n",
       "            \u001b[1;36m35481\u001b[0m,\n",
       "            \u001b[1;36m35484\u001b[0m,\n",
       "            \u001b[1;36m35487\u001b[0m,\n",
       "            \u001b[1;36m35490\u001b[0m,\n",
       "            \u001b[1;36m35493\u001b[0m,\n",
       "            \u001b[1;36m35496\u001b[0m,\n",
       "            \u001b[1;36m35499\u001b[0m,\n",
       "            \u001b[1;36m35502\u001b[0m,\n",
       "            \u001b[1;36m35505\u001b[0m,\n",
       "            \u001b[1;36m35508\u001b[0m,\n",
       "            \u001b[1;36m35511\u001b[0m,\n",
       "            \u001b[1;36m35514\u001b[0m,\n",
       "            \u001b[1;36m35517\u001b[0m,\n",
       "            \u001b[1;36m35520\u001b[0m,\n",
       "            \u001b[1;36m35523\u001b[0m,\n",
       "            \u001b[1;36m35526\u001b[0m,\n",
       "            \u001b[1;36m35529\u001b[0m,\n",
       "            \u001b[1;36m35532\u001b[0m,\n",
       "            \u001b[1;36m35535\u001b[0m,\n",
       "            \u001b[1;36m35538\u001b[0m,\n",
       "            \u001b[1;36m35541\u001b[0m,\n",
       "            \u001b[1;36m35544\u001b[0m,\n",
       "            \u001b[1;36m35547\u001b[0m,\n",
       "            \u001b[1;36m35550\u001b[0m\n",
       "        \u001b[1m]\u001b[0m\n",
       "    \u001b[1m)\u001b[0m\n",
       "\u001b[1m]\u001b[0m\n"
      ]
     },
     "metadata": {},
     "output_type": "display_data"
    }
   ],
   "source": [
    "session_frames = df_tracking_new.index.values.tolist()\n",
    "session_ids_covered = []\n",
    "selected_frames = []\n",
    "segments = []\n",
    "segment_half_size = 50\n",
    "for row_idx, row in df_id_start_stop.sort_values(by='total_idxs').iterrows():\n",
    "    id_start, id_stop = row['min_idx'],row['max_idx']\n",
    "    seg_mid = (id_start+id_stop)/2\n",
    "    seg_start, seg_end = max(seg_mid-segment_half_size, 0), min(seg_mid+segment_half_size, total_idxs)\n",
    "    is_id_covered = df_id_start_stop.apply(lambda row: (seg_end<=row['max_idx']) & (seg_start>=row['min_idx']),axis=1)\n",
    "    seg_ids_covered = df_id_start_stop[is_id_covered]['id']\n",
    "    new_ids_covered = [xr for xr in seg_ids_covered if xr not in session_ids_covered]\n",
    "    if len(new_ids_covered)>0:        \n",
    "        segment_frames = [xr for xr in session_frames if ((xr>=seg_start) and (xr<=seg_end))]\n",
    "        selected_frames+=segment_frames\n",
    "        segments.append((seg_start, seg_end, new_ids_covered, segment_frames))\n",
    "        session_ids_covered+=new_ids_covered\n",
    "\n",
    "sprint(segments)\n",
    "    \n",
    "    \n"
   ]
  },
  {
   "cell_type": "code",
   "execution_count": 59,
   "id": "b4d57418-1864-4e35-809b-da2421820246",
   "metadata": {
    "scrolled": true
   },
   "outputs": [
    {
     "name": "stderr",
     "output_type": "stream",
     "text": [
      "[h264 @ 0x1ab7847c0] error while decoding MB 126 36, bytestream -5\n",
      "[h264 @ 0xdc512c0] error while decoding MB 126 36, bytestream -5\n",
      "[h264 @ 0x1b2d0b200] error while decoding MB 65 27, bytestream -9\n",
      "[h264 @ 0xc89f280] error while decoding MB 90 53, bytestream -9\n",
      "[h264 @ 0xdc512c0] error while decoding MB 126 36, bytestream -5\n",
      "[h264 @ 0x1b2d0b200] error while decoding MB 65 27, bytestream -9\n",
      "[h264 @ 0xc89f280] error while decoding MB 90 53, bytestream -9\n"
     ]
    },
    {
     "name": "stdout",
     "output_type": "stream",
     "text": [
      "Looped 0 images\n"
     ]
    },
    {
     "name": "stderr",
     "output_type": "stream",
     "text": [
      "[h264 @ 0xe5dc400] error while decoding MB 71 30, bytestream -25\n",
      "[h264 @ 0xc89f280] error while decoding MB 165 17, bytestream -8\n",
      "[h264 @ 0xe5dc400] error while decoding MB 95 58, bytestream -5\n",
      "[h264 @ 0x1b2d0b200] error while decoding MB 91 59, bytestream -7\n",
      "[h264 @ 0x19e6eae80] error while decoding MB 90 33, bytestream -17\n",
      "[h264 @ 0x18dff8280] error while decoding MB 159 18, bytestream -5\n",
      "[h264 @ 0xc89f280] error while decoding MB 183 8, bytestream -5\n",
      "[h264 @ 0xd86efc0] error while decoding MB 202 78, bytestream -9\n",
      "[h264 @ 0x18ad04780] left block unavailable for requested intra4x4 mode -1\n",
      "[h264 @ 0x18ad04780] error while decoding MB 0 61, bytestream 358176\n",
      "[h264 @ 0x192843780] error while decoding MB 166 124, bytestream -5\n",
      "[h264 @ 0x18dff8280] error while decoding MB 46 54, bytestream -9\n",
      "[h264 @ 0x1b2d0b200] error while decoding MB 194 101, bytestream -5\n",
      "[h264 @ 0x192861c80] error while decoding MB 182 10, bytestream -7\n",
      "[h264 @ 0xc89f280] error while decoding MB 90 73, bytestream -9\n",
      "[h264 @ 0x1aa7b2680] error while decoding MB 206 49, bytestream -7\n",
      "[h264 @ 0x1aa7b2680] error while decoding MB 199 60, bytestream -5\n",
      "[h264 @ 0x19d5e7280] cabac decode of qscale diff failed at 44 57\n",
      "[h264 @ 0x19d5e7280] error while decoding MB 44 57, bytestream 62825\n",
      "[h264 @ 0x1aa5d2840] left block unavailable for requested intra mode\n",
      "[h264 @ 0x1aa5d2840] error while decoding MB 0 25, bytestream 472385\n",
      "[h264 @ 0x192861c80] cabac decode of qscale diff failed at 59 29\n",
      "[h264 @ 0x192861c80] error while decoding MB 59 29, bytestream 370930\n",
      "[h264 @ 0x18dff8280] left block unavailable for requested intra mode\n",
      "[h264 @ 0x18dff8280] error while decoding MB 0 121, bytestream 67780\n"
     ]
    },
    {
     "name": "stdout",
     "output_type": "stream",
     "text": [
      "Looped 10000 images\n"
     ]
    },
    {
     "name": "stderr",
     "output_type": "stream",
     "text": [
      "[h264 @ 0x1aa5d2840] error while decoding MB 207 105, bytestream -11\n",
      "[h264 @ 0xc89f280] left block unavailable for requested intra4x4 mode -1\n",
      "[h264 @ 0xc89f280] error while decoding MB 0 32, bytestream 460170\n",
      "[h264 @ 0x1b2d0b200] cabac decode of qscale diff failed at 12 31\n",
      "[h264 @ 0x1b2d0b200] error while decoding MB 12 31, bytestream 276481\n",
      "[h264 @ 0xdc512c0] error while decoding MB 20 133, bytestream -9\n",
      "[h264 @ 0x192843780] error while decoding MB 201 80, bytestream -5\n",
      "[h264 @ 0xc8c6680] error while decoding MB 149 24, bytestream -5\n",
      "[h264 @ 0xd86efc0] left block unavailable for requested intra4x4 mode -1\n",
      "[h264 @ 0xd86efc0] error while decoding MB 0 35, bytestream 394977\n",
      "[h264 @ 0x1b2d0b200] cabac decode of qscale diff failed at 219 27\n",
      "[h264 @ 0x1b2d0b200] error while decoding MB 219 27, bytestream 381809\n",
      "[h264 @ 0x192861c80] error while decoding MB 215 28, bytestream -5\n",
      "[h264 @ 0x192843780] left block unavailable for requested intra mode\n",
      "[h264 @ 0x192843780] error while decoding MB 0 25, bytestream 522964\n",
      "[h264 @ 0xc98f4c0] error while decoding MB 193 118, bytestream -5\n"
     ]
    },
    {
     "name": "stdout",
     "output_type": "stream",
     "text": [
      "Looped 20000 images\n"
     ]
    },
    {
     "name": "stderr",
     "output_type": "stream",
     "text": [
      "[h264 @ 0x192843780] cabac decode of qscale diff failed at 105 32\n",
      "[h264 @ 0x192843780] error while decoding MB 105 32, bytestream 306418\n",
      "[h264 @ 0xdc512c0] error while decoding MB 88 95, bytestream -5\n",
      "[h264 @ 0x192861c80] cabac decode of qscale diff failed at 153 27\n",
      "[h264 @ 0x192861c80] error while decoding MB 153 27, bytestream 423813\n",
      "[h264 @ 0x19e6eae80] error while decoding MB 53 64, bytestream -7\n",
      "[h264 @ 0x1b2d0b200] cabac decode of qscale diff failed at 127 39\n",
      "[h264 @ 0x1b2d0b200] error while decoding MB 127 39, bytestream 278642\n",
      "[h264 @ 0xdc512c0] left block unavailable for requested intra mode\n",
      "[h264 @ 0xdc512c0] error while decoding MB 0 28, bytestream 471725\n",
      "[h264 @ 0x1aa7b2680] error while decoding MB 196 98, bytestream -7\n",
      "[h264 @ 0x17eaaa640] left block unavailable for requested intra4x4 mode -1\n",
      "[h264 @ 0x17eaaa640] error while decoding MB 0 30, bytestream 495453\n",
      "[h264 @ 0x1aa7b2680] error while decoding MB 24 86, bytestream -5\n",
      "[h264 @ 0x18ad04780] cabac decode of qscale diff failed at 227 43\n",
      "[h264 @ 0x18ad04780] error while decoding MB 227 43, bytestream 433750\n",
      "[h264 @ 0xc98f4c0] cabac decode of qscale diff failed at 208 23\n",
      "[h264 @ 0xc98f4c0] error while decoding MB 208 23, bytestream 522738\n",
      "[h264 @ 0xdc512c0] error while decoding MB 144 32, bytestream -5\n",
      "[h264 @ 0x19e6eae80] cabac decode of qscale diff failed at 82 46\n",
      "[h264 @ 0x19e6eae80] error while decoding MB 82 46, bytestream 307314\n",
      "[h264 @ 0x19e6eae80] error while decoding MB 36 63, bytestream -7\n"
     ]
    },
    {
     "name": "stdout",
     "output_type": "stream",
     "text": [
      "Looped 30000 images\n"
     ]
    },
    {
     "name": "stderr",
     "output_type": "stream",
     "text": [
      "[h264 @ 0x1b2d0b200] cabac decode of qscale diff failed at 44 46\n",
      "[h264 @ 0x1b2d0b200] error while decoding MB 44 46, bytestream 304272\n",
      "[h264 @ 0x18dff8280] error while decoding MB 46 71, bytestream -5\n",
      "[h264 @ 0x19e6eae80] error while decoding MB 198 9, bytestream -5\n",
      "[h264 @ 0x1aa5d2840] error while decoding MB 36 71, bytestream -5\n",
      "[h264 @ 0x18dff8280] left block unavailable for requested intra mode\n",
      "[h264 @ 0x18dff8280] error while decoding MB 0 42, bytestream 390394\n",
      "[h264 @ 0x19d5e7280] cabac decode of qscale diff failed at 25 32\n",
      "[h264 @ 0x19d5e7280] error while decoding MB 25 32, bytestream 349913\n",
      "[h264 @ 0xc8c6680] error while decoding MB 117 76, bytestream -5\n",
      "[h264 @ 0x192861c80] cabac decode of qscale diff failed at 219 31\n",
      "[h264 @ 0x192861c80] error while decoding MB 219 31, bytestream 308676\n",
      "[h264 @ 0xc8c6680] cabac decode of qscale diff failed at 115 36\n",
      "[h264 @ 0xc8c6680] error while decoding MB 115 36, bytestream 434230\n",
      "[h264 @ 0x18dff8280] cabac decode of qscale diff failed at 68 36\n",
      "[h264 @ 0x18dff8280] error while decoding MB 68 36, bytestream 334219\n",
      "[h264 @ 0xdc512c0] error while decoding MB 217 17, bytestream -9\n",
      "[h264 @ 0x18ad04780] left block unavailable for requested intra4x4 mode -1\n",
      "[h264 @ 0x18ad04780] error while decoding MB 0 39, bytestream 262826\n",
      "[h264 @ 0xc89f280] cabac decode of qscale diff failed at 146 65\n",
      "[h264 @ 0xc89f280] error while decoding MB 146 65, bytestream 212509\n",
      "[h264 @ 0xc98f4c0] error while decoding MB 81 34, bytestream -19\n",
      "[h264 @ 0x192861c80] left block unavailable for requested intra mode\n",
      "[h264 @ 0x192861c80] error while decoding MB 0 71, bytestream 301594\n",
      "[h264 @ 0xdc512c0] error while decoding MB 75 53, bytestream -9\n",
      "[h264 @ 0xc98f4c0] left block unavailable for requested intra mode\n",
      "[h264 @ 0xc98f4c0] error while decoding MB 0 37, bytestream 453348\n"
     ]
    },
    {
     "name": "stdout",
     "output_type": "stream",
     "text": [
      "Looped 40000 images\n"
     ]
    },
    {
     "name": "stderr",
     "output_type": "stream",
     "text": [
      "[h264 @ 0x1aa7b2680] error while decoding MB 87 36, bytestream -5\n",
      "[h264 @ 0x18ad04780] left block unavailable for requested intra mode\n",
      "[h264 @ 0x18ad04780] error while decoding MB 0 78, bytestream 247730\n",
      "[h264 @ 0x192843780] error while decoding MB 51 130, bytestream -5\n",
      "[h264 @ 0xd86efc0] error while decoding MB 3 93, bytestream -34\n",
      "[h264 @ 0x1aa7b2680] error while decoding MB 201 123, bytestream -5\n",
      "[h264 @ 0xd86efc0] error while decoding MB 46 49, bytestream -19\n",
      "[h264 @ 0xc89f280] cabac decode of qscale diff failed at 226 62\n",
      "[h264 @ 0xc89f280] error while decoding MB 226 62, bytestream 325152\n",
      "[h264 @ 0xc89f280] error while decoding MB 195 116, bytestream -5\n",
      "[h264 @ 0xc98f4c0] error while decoding MB 198 99, bytestream -7\n",
      "[h264 @ 0xdc512c0] error while decoding MB 203 56, bytestream -5\n",
      "[h264 @ 0xe5dc400] error while decoding MB 218 131, bytestream -12\n",
      "[h264 @ 0x19d5e7280] error while decoding MB 203 114, bytestream -5\n",
      "[h264 @ 0x1aa5d2840] error while decoding MB 190 51, bytestream -9\n",
      "[h264 @ 0xd86efc0] left block unavailable for requested intra mode\n",
      "[h264 @ 0xd86efc0] error while decoding MB 0 26, bytestream 534162\n"
     ]
    },
    {
     "name": "stdout",
     "output_type": "stream",
     "text": [
      "Looped 50000 images\n"
     ]
    },
    {
     "name": "stderr",
     "output_type": "stream",
     "text": [
      "[h264 @ 0xe5dc400] cabac decode of qscale diff failed at 203 34\n",
      "[h264 @ 0xe5dc400] error while decoding MB 203 34, bytestream 232642\n",
      "[h264 @ 0x17eaaa640] error while decoding MB 120 85, bytestream -5\n",
      "[h264 @ 0x19e6eae80] left block unavailable for requested intra mode\n",
      "[h264 @ 0x19e6eae80] error while decoding MB 0 123, bytestream 36075\n",
      "[h264 @ 0x1aa7b2680] error while decoding MB 203 34, bytestream -15\n",
      "[h264 @ 0xd86efc0] error while decoding MB 10 87, bytestream -5\n"
     ]
    },
    {
     "name": "stdout",
     "output_type": "stream",
     "text": [
      "Looped 60000 images\n"
     ]
    },
    {
     "name": "stderr",
     "output_type": "stream",
     "text": [
      "[h264 @ 0x1aa5d2840] cabac decode of qscale diff failed at 182 38\n",
      "[h264 @ 0x1aa5d2840] error while decoding MB 182 38, bytestream 366798\n",
      "[h264 @ 0x19e6eae80] error while decoding MB 68 57, bytestream -9\n",
      "[h264 @ 0xc8c6680] error while decoding MB 196 46, bytestream -9\n",
      "[h264 @ 0xd86efc0] cabac decode of qscale diff failed at 229 24\n",
      "[h264 @ 0xd86efc0] error while decoding MB 229 24, bytestream 316154\n",
      "[h264 @ 0x1aa7b2680] cabac decode of qscale diff failed at 80 95\n",
      "[h264 @ 0x1aa7b2680] error while decoding MB 80 95, bytestream 96365\n",
      "[h264 @ 0xd86efc0] error while decoding MB 27 64, bytestream -9\n"
     ]
    },
    {
     "name": "stdout",
     "output_type": "stream",
     "text": [
      "Looped 70000 images\n"
     ]
    }
   ],
   "source": [
    "# for given frame ranges get video frames and tracking results\n",
    "all_frames = mmcv.VideoReader(session_video_file)\n",
    "\n",
    "required_frame_ids = np.unique(sorted(selected_frames))\n",
    "frame_data_dict = {}\n",
    "\n",
    "for frame_idx, frame_img in enumerate(all_frames):\n",
    "    if (frame_idx in required_frame_ids) & (frame_idx%3==0):\n",
    "        frame_data_dict[frame_idx] = frame_img\n",
    "    if frame_idx%10000==0:\n",
    "        print(f\"Looped {frame_idx} images\")\n",
    "        \n",
    "\n"
   ]
  },
  {
   "cell_type": "code",
   "execution_count": 1,
   "id": "b3ae4995-3301-4ce1-803a-b6873775c8bc",
   "metadata": {},
   "outputs": [],
   "source": [
    "SOURCE_ROOT = '/home/prasoon/video_analysis/edusenseV2compute/compute/videoV3'\n",
    "run_config = {\n",
    "    'track_config':f'{SOURCE_ROOT}/configs/mmlab/ocsort_yolox_x_crowdhuman_mot17-private-half.py',\n",
    "    'track_checkpoint':f'{SOURCE_ROOT}/models/mmlab/ocsort_yolox_x_crowdhuman_mot17-private-half_20220813_101618-fe150582.pth',\n",
    "    'device':'cuda:1',\n",
    "}\n"
   ]
  },
  {
   "cell_type": "code",
   "execution_count": 61,
   "id": "85fe4935-5078-41ca-b37a-29bfe7ab8971",
   "metadata": {},
   "outputs": [
    {
     "data": {
      "text/plain": [
       "535"
      ]
     },
     "execution_count": 61,
     "metadata": {},
     "output_type": "execute_result"
    }
   ],
   "source": [
    "len(frame_data_dict.keys())\n"
   ]
  },
  {
   "cell_type": "code",
   "execution_count": 62,
   "id": "b9786394-0bf9-4640-86ba-4fdedd2d9e00",
   "metadata": {},
   "outputs": [],
   "source": [
    "session_id_viz_dir = f'{id_viz_cache_root}/{sample_session_id}'\n",
    "os.makedirs(session_id_viz_dir, exist_ok=True)\n"
   ]
  },
  {
   "cell_type": "code",
   "execution_count": 63,
   "id": "fa1cde26-0a73-4660-86a8-4c0a6df4cb89",
   "metadata": {
    "scrolled": true
   },
   "outputs": [
    {
     "data": {
      "text/markdown": [
       "# Deleting Previous Model"
      ],
      "text/plain": [
       "<IPython.core.display.Markdown object>"
      ]
     },
     "metadata": {},
     "output_type": "display_data"
    },
    {
     "name": "stderr",
     "output_type": "stream",
     "text": [
      "2023-08-11 16:16:16,104 - mmdet - INFO - image shape: height=800, width=1440 in YOLOX.__init__\n",
      "2023-08-11 16:16:16,263 - mmtrack - INFO - initialize YOLOX with init_cfg {'type': 'Pretrained', 'checkpoint': 'https://download.openmmlab.com/mmdetection/v2.0/yolox/yolox_x_8x8_300e_coco/yolox_x_8x8_300e_coco_20211126_140254-1ef88d67.pth'}\n",
      "2023-08-11 16:16:16,264 - mmcv - INFO - load model from: https://download.openmmlab.com/mmdetection/v2.0/yolox/yolox_x_8x8_300e_coco/yolox_x_8x8_300e_coco_20211126_140254-1ef88d67.pth\n",
      "2023-08-11 16:16:16,264 - mmcv - INFO - load checkpoint from http path: https://download.openmmlab.com/mmdetection/v2.0/yolox/yolox_x_8x8_300e_coco/yolox_x_8x8_300e_coco_20211126_140254-1ef88d67.pth\n",
      "2023-08-11 16:16:18,331 - mmcv - WARNING - The model and loaded state dict do not match exactly\n",
      "\n",
      "size mismatch for bbox_head.multi_level_conv_cls.0.weight: copying a param with shape torch.Size([80, 320, 1, 1]) from checkpoint, the shape in current model is torch.Size([1, 320, 1, 1]).\n",
      "size mismatch for bbox_head.multi_level_conv_cls.0.bias: copying a param with shape torch.Size([80]) from checkpoint, the shape in current model is torch.Size([1]).\n",
      "size mismatch for bbox_head.multi_level_conv_cls.1.weight: copying a param with shape torch.Size([80, 320, 1, 1]) from checkpoint, the shape in current model is torch.Size([1, 320, 1, 1]).\n",
      "size mismatch for bbox_head.multi_level_conv_cls.1.bias: copying a param with shape torch.Size([80]) from checkpoint, the shape in current model is torch.Size([1]).\n",
      "size mismatch for bbox_head.multi_level_conv_cls.2.weight: copying a param with shape torch.Size([80, 320, 1, 1]) from checkpoint, the shape in current model is torch.Size([1, 320, 1, 1]).\n",
      "size mismatch for bbox_head.multi_level_conv_cls.2.bias: copying a param with shape torch.Size([80]) from checkpoint, the shape in current model is torch.Size([1]).\n"
     ]
    },
    {
     "name": "stdout",
     "output_type": "stream",
     "text": [
      "load checkpoint from local path: /home/prasoon/video_analysis/edusenseV2compute/compute/videoV3/models/mmlab/ocsort_yolox_x_crowdhuman_mot17-private-half_20220813_101618-fe150582.pth\n",
      "The model and loaded state dict do not match exactly\n",
      "\n",
      "unexpected key in source state_dict: ema_detector_backbone_stem_conv_conv_weight, ema_detector_backbone_stem_conv_bn_weight, ema_detector_backbone_stem_conv_bn_bias, ema_detector_backbone_stem_conv_bn_running_mean, ema_detector_backbone_stem_conv_bn_running_var, ema_detector_backbone_stem_conv_bn_num_batches_tracked, ema_detector_backbone_stage1_0_conv_weight, ema_detector_backbone_stage1_0_bn_weight, ema_detector_backbone_stage1_0_bn_bias, ema_detector_backbone_stage1_0_bn_running_mean, ema_detector_backbone_stage1_0_bn_running_var, ema_detector_backbone_stage1_0_bn_num_batches_tracked, ema_detector_backbone_stage1_1_main_conv_conv_weight, ema_detector_backbone_stage1_1_main_conv_bn_weight, ema_detector_backbone_stage1_1_main_conv_bn_bias, ema_detector_backbone_stage1_1_main_conv_bn_running_mean, ema_detector_backbone_stage1_1_main_conv_bn_running_var, ema_detector_backbone_stage1_1_main_conv_bn_num_batches_tracked, ema_detector_backbone_stage1_1_short_conv_conv_weight, ema_detector_backbone_stage1_1_short_conv_bn_weight, ema_detector_backbone_stage1_1_short_conv_bn_bias, ema_detector_backbone_stage1_1_short_conv_bn_running_mean, ema_detector_backbone_stage1_1_short_conv_bn_running_var, ema_detector_backbone_stage1_1_short_conv_bn_num_batches_tracked, ema_detector_backbone_stage1_1_final_conv_conv_weight, ema_detector_backbone_stage1_1_final_conv_bn_weight, ema_detector_backbone_stage1_1_final_conv_bn_bias, ema_detector_backbone_stage1_1_final_conv_bn_running_mean, ema_detector_backbone_stage1_1_final_conv_bn_running_var, ema_detector_backbone_stage1_1_final_conv_bn_num_batches_tracked, ema_detector_backbone_stage1_1_blocks_0_conv1_conv_weight, ema_detector_backbone_stage1_1_blocks_0_conv1_bn_weight, ema_detector_backbone_stage1_1_blocks_0_conv1_bn_bias, ema_detector_backbone_stage1_1_blocks_0_conv1_bn_running_mean, ema_detector_backbone_stage1_1_blocks_0_conv1_bn_running_var, ema_detector_backbone_stage1_1_blocks_0_conv1_bn_num_batches_tracked, ema_detector_backbone_stage1_1_blocks_0_conv2_conv_weight, ema_detector_backbone_stage1_1_blocks_0_conv2_bn_weight, ema_detector_backbone_stage1_1_blocks_0_conv2_bn_bias, ema_detector_backbone_stage1_1_blocks_0_conv2_bn_running_mean, ema_detector_backbone_stage1_1_blocks_0_conv2_bn_running_var, ema_detector_backbone_stage1_1_blocks_0_conv2_bn_num_batches_tracked, ema_detector_backbone_stage1_1_blocks_1_conv1_conv_weight, ema_detector_backbone_stage1_1_blocks_1_conv1_bn_weight, ema_detector_backbone_stage1_1_blocks_1_conv1_bn_bias, ema_detector_backbone_stage1_1_blocks_1_conv1_bn_running_mean, ema_detector_backbone_stage1_1_blocks_1_conv1_bn_running_var, ema_detector_backbone_stage1_1_blocks_1_conv1_bn_num_batches_tracked, ema_detector_backbone_stage1_1_blocks_1_conv2_conv_weight, ema_detector_backbone_stage1_1_blocks_1_conv2_bn_weight, ema_detector_backbone_stage1_1_blocks_1_conv2_bn_bias, ema_detector_backbone_stage1_1_blocks_1_conv2_bn_running_mean, ema_detector_backbone_stage1_1_blocks_1_conv2_bn_running_var, ema_detector_backbone_stage1_1_blocks_1_conv2_bn_num_batches_tracked, ema_detector_backbone_stage1_1_blocks_2_conv1_conv_weight, ema_detector_backbone_stage1_1_blocks_2_conv1_bn_weight, ema_detector_backbone_stage1_1_blocks_2_conv1_bn_bias, ema_detector_backbone_stage1_1_blocks_2_conv1_bn_running_mean, ema_detector_backbone_stage1_1_blocks_2_conv1_bn_running_var, ema_detector_backbone_stage1_1_blocks_2_conv1_bn_num_batches_tracked, ema_detector_backbone_stage1_1_blocks_2_conv2_conv_weight, ema_detector_backbone_stage1_1_blocks_2_conv2_bn_weight, ema_detector_backbone_stage1_1_blocks_2_conv2_bn_bias, ema_detector_backbone_stage1_1_blocks_2_conv2_bn_running_mean, ema_detector_backbone_stage1_1_blocks_2_conv2_bn_running_var, ema_detector_backbone_stage1_1_blocks_2_conv2_bn_num_batches_tracked, ema_detector_backbone_stage1_1_blocks_3_conv1_conv_weight, ema_detector_backbone_stage1_1_blocks_3_conv1_bn_weight, ema_detector_backbone_stage1_1_blocks_3_conv1_bn_bias, ema_detector_backbone_stage1_1_blocks_3_conv1_bn_running_mean, ema_detector_backbone_stage1_1_blocks_3_conv1_bn_running_var, ema_detector_backbone_stage1_1_blocks_3_conv1_bn_num_batches_tracked, ema_detector_backbone_stage1_1_blocks_3_conv2_conv_weight, ema_detector_backbone_stage1_1_blocks_3_conv2_bn_weight, ema_detector_backbone_stage1_1_blocks_3_conv2_bn_bias, ema_detector_backbone_stage1_1_blocks_3_conv2_bn_running_mean, ema_detector_backbone_stage1_1_blocks_3_conv2_bn_running_var, ema_detector_backbone_stage1_1_blocks_3_conv2_bn_num_batches_tracked, ema_detector_backbone_stage2_0_conv_weight, ema_detector_backbone_stage2_0_bn_weight, ema_detector_backbone_stage2_0_bn_bias, ema_detector_backbone_stage2_0_bn_running_mean, ema_detector_backbone_stage2_0_bn_running_var, ema_detector_backbone_stage2_0_bn_num_batches_tracked, ema_detector_backbone_stage2_1_main_conv_conv_weight, ema_detector_backbone_stage2_1_main_conv_bn_weight, ema_detector_backbone_stage2_1_main_conv_bn_bias, ema_detector_backbone_stage2_1_main_conv_bn_running_mean, ema_detector_backbone_stage2_1_main_conv_bn_running_var, ema_detector_backbone_stage2_1_main_conv_bn_num_batches_tracked, ema_detector_backbone_stage2_1_short_conv_conv_weight, ema_detector_backbone_stage2_1_short_conv_bn_weight, ema_detector_backbone_stage2_1_short_conv_bn_bias, ema_detector_backbone_stage2_1_short_conv_bn_running_mean, ema_detector_backbone_stage2_1_short_conv_bn_running_var, ema_detector_backbone_stage2_1_short_conv_bn_num_batches_tracked, ema_detector_backbone_stage2_1_final_conv_conv_weight, ema_detector_backbone_stage2_1_final_conv_bn_weight, ema_detector_backbone_stage2_1_final_conv_bn_bias, ema_detector_backbone_stage2_1_final_conv_bn_running_mean, ema_detector_backbone_stage2_1_final_conv_bn_running_var, ema_detector_backbone_stage2_1_final_conv_bn_num_batches_tracked, ema_detector_backbone_stage2_1_blocks_0_conv1_conv_weight, ema_detector_backbone_stage2_1_blocks_0_conv1_bn_weight, ema_detector_backbone_stage2_1_blocks_0_conv1_bn_bias, ema_detector_backbone_stage2_1_blocks_0_conv1_bn_running_mean, ema_detector_backbone_stage2_1_blocks_0_conv1_bn_running_var, ema_detector_backbone_stage2_1_blocks_0_conv1_bn_num_batches_tracked, ema_detector_backbone_stage2_1_blocks_0_conv2_conv_weight, ema_detector_backbone_stage2_1_blocks_0_conv2_bn_weight, ema_detector_backbone_stage2_1_blocks_0_conv2_bn_bias, ema_detector_backbone_stage2_1_blocks_0_conv2_bn_running_mean, ema_detector_backbone_stage2_1_blocks_0_conv2_bn_running_var, ema_detector_backbone_stage2_1_blocks_0_conv2_bn_num_batches_tracked, ema_detector_backbone_stage2_1_blocks_1_conv1_conv_weight, ema_detector_backbone_stage2_1_blocks_1_conv1_bn_weight, ema_detector_backbone_stage2_1_blocks_1_conv1_bn_bias, ema_detector_backbone_stage2_1_blocks_1_conv1_bn_running_mean, ema_detector_backbone_stage2_1_blocks_1_conv1_bn_running_var, ema_detector_backbone_stage2_1_blocks_1_conv1_bn_num_batches_tracked, ema_detector_backbone_stage2_1_blocks_1_conv2_conv_weight, ema_detector_backbone_stage2_1_blocks_1_conv2_bn_weight, ema_detector_backbone_stage2_1_blocks_1_conv2_bn_bias, ema_detector_backbone_stage2_1_blocks_1_conv2_bn_running_mean, ema_detector_backbone_stage2_1_blocks_1_conv2_bn_running_var, ema_detector_backbone_stage2_1_blocks_1_conv2_bn_num_batches_tracked, ema_detector_backbone_stage2_1_blocks_2_conv1_conv_weight, ema_detector_backbone_stage2_1_blocks_2_conv1_bn_weight, ema_detector_backbone_stage2_1_blocks_2_conv1_bn_bias, ema_detector_backbone_stage2_1_blocks_2_conv1_bn_running_mean, ema_detector_backbone_stage2_1_blocks_2_conv1_bn_running_var, ema_detector_backbone_stage2_1_blocks_2_conv1_bn_num_batches_tracked, ema_detector_backbone_stage2_1_blocks_2_conv2_conv_weight, ema_detector_backbone_stage2_1_blocks_2_conv2_bn_weight, ema_detector_backbone_stage2_1_blocks_2_conv2_bn_bias, ema_detector_backbone_stage2_1_blocks_2_conv2_bn_running_mean, ema_detector_backbone_stage2_1_blocks_2_conv2_bn_running_var, ema_detector_backbone_stage2_1_blocks_2_conv2_bn_num_batches_tracked, ema_detector_backbone_stage2_1_blocks_3_conv1_conv_weight, ema_detector_backbone_stage2_1_blocks_3_conv1_bn_weight, ema_detector_backbone_stage2_1_blocks_3_conv1_bn_bias, ema_detector_backbone_stage2_1_blocks_3_conv1_bn_running_mean, ema_detector_backbone_stage2_1_blocks_3_conv1_bn_running_var, ema_detector_backbone_stage2_1_blocks_3_conv1_bn_num_batches_tracked, ema_detector_backbone_stage2_1_blocks_3_conv2_conv_weight, ema_detector_backbone_stage2_1_blocks_3_conv2_bn_weight, ema_detector_backbone_stage2_1_blocks_3_conv2_bn_bias, ema_detector_backbone_stage2_1_blocks_3_conv2_bn_running_mean, ema_detector_backbone_stage2_1_blocks_3_conv2_bn_running_var, ema_detector_backbone_stage2_1_blocks_3_conv2_bn_num_batches_tracked, ema_detector_backbone_stage2_1_blocks_4_conv1_conv_weight, ema_detector_backbone_stage2_1_blocks_4_conv1_bn_weight, ema_detector_backbone_stage2_1_blocks_4_conv1_bn_bias, ema_detector_backbone_stage2_1_blocks_4_conv1_bn_running_mean, ema_detector_backbone_stage2_1_blocks_4_conv1_bn_running_var, ema_detector_backbone_stage2_1_blocks_4_conv1_bn_num_batches_tracked, ema_detector_backbone_stage2_1_blocks_4_conv2_conv_weight, ema_detector_backbone_stage2_1_blocks_4_conv2_bn_weight, ema_detector_backbone_stage2_1_blocks_4_conv2_bn_bias, ema_detector_backbone_stage2_1_blocks_4_conv2_bn_running_mean, ema_detector_backbone_stage2_1_blocks_4_conv2_bn_running_var, ema_detector_backbone_stage2_1_blocks_4_conv2_bn_num_batches_tracked, ema_detector_backbone_stage2_1_blocks_5_conv1_conv_weight, ema_detector_backbone_stage2_1_blocks_5_conv1_bn_weight, ema_detector_backbone_stage2_1_blocks_5_conv1_bn_bias, ema_detector_backbone_stage2_1_blocks_5_conv1_bn_running_mean, ema_detector_backbone_stage2_1_blocks_5_conv1_bn_running_var, ema_detector_backbone_stage2_1_blocks_5_conv1_bn_num_batches_tracked, ema_detector_backbone_stage2_1_blocks_5_conv2_conv_weight, ema_detector_backbone_stage2_1_blocks_5_conv2_bn_weight, ema_detector_backbone_stage2_1_blocks_5_conv2_bn_bias, ema_detector_backbone_stage2_1_blocks_5_conv2_bn_running_mean, ema_detector_backbone_stage2_1_blocks_5_conv2_bn_running_var, ema_detector_backbone_stage2_1_blocks_5_conv2_bn_num_batches_tracked, ema_detector_backbone_stage2_1_blocks_6_conv1_conv_weight, ema_detector_backbone_stage2_1_blocks_6_conv1_bn_weight, ema_detector_backbone_stage2_1_blocks_6_conv1_bn_bias, ema_detector_backbone_stage2_1_blocks_6_conv1_bn_running_mean, ema_detector_backbone_stage2_1_blocks_6_conv1_bn_running_var, ema_detector_backbone_stage2_1_blocks_6_conv1_bn_num_batches_tracked, ema_detector_backbone_stage2_1_blocks_6_conv2_conv_weight, ema_detector_backbone_stage2_1_blocks_6_conv2_bn_weight, ema_detector_backbone_stage2_1_blocks_6_conv2_bn_bias, ema_detector_backbone_stage2_1_blocks_6_conv2_bn_running_mean, ema_detector_backbone_stage2_1_blocks_6_conv2_bn_running_var, ema_detector_backbone_stage2_1_blocks_6_conv2_bn_num_batches_tracked, ema_detector_backbone_stage2_1_blocks_7_conv1_conv_weight, ema_detector_backbone_stage2_1_blocks_7_conv1_bn_weight, ema_detector_backbone_stage2_1_blocks_7_conv1_bn_bias, ema_detector_backbone_stage2_1_blocks_7_conv1_bn_running_mean, ema_detector_backbone_stage2_1_blocks_7_conv1_bn_running_var, ema_detector_backbone_stage2_1_blocks_7_conv1_bn_num_batches_tracked, ema_detector_backbone_stage2_1_blocks_7_conv2_conv_weight, ema_detector_backbone_stage2_1_blocks_7_conv2_bn_weight, ema_detector_backbone_stage2_1_blocks_7_conv2_bn_bias, ema_detector_backbone_stage2_1_blocks_7_conv2_bn_running_mean, ema_detector_backbone_stage2_1_blocks_7_conv2_bn_running_var, ema_detector_backbone_stage2_1_blocks_7_conv2_bn_num_batches_tracked, ema_detector_backbone_stage2_1_blocks_8_conv1_conv_weight, ema_detector_backbone_stage2_1_blocks_8_conv1_bn_weight, ema_detector_backbone_stage2_1_blocks_8_conv1_bn_bias, ema_detector_backbone_stage2_1_blocks_8_conv1_bn_running_mean, ema_detector_backbone_stage2_1_blocks_8_conv1_bn_running_var, ema_detector_backbone_stage2_1_blocks_8_conv1_bn_num_batches_tracked, ema_detector_backbone_stage2_1_blocks_8_conv2_conv_weight, ema_detector_backbone_stage2_1_blocks_8_conv2_bn_weight, ema_detector_backbone_stage2_1_blocks_8_conv2_bn_bias, ema_detector_backbone_stage2_1_blocks_8_conv2_bn_running_mean, ema_detector_backbone_stage2_1_blocks_8_conv2_bn_running_var, ema_detector_backbone_stage2_1_blocks_8_conv2_bn_num_batches_tracked, ema_detector_backbone_stage2_1_blocks_9_conv1_conv_weight, ema_detector_backbone_stage2_1_blocks_9_conv1_bn_weight, ema_detector_backbone_stage2_1_blocks_9_conv1_bn_bias, ema_detector_backbone_stage2_1_blocks_9_conv1_bn_running_mean, ema_detector_backbone_stage2_1_blocks_9_conv1_bn_running_var, ema_detector_backbone_stage2_1_blocks_9_conv1_bn_num_batches_tracked, ema_detector_backbone_stage2_1_blocks_9_conv2_conv_weight, ema_detector_backbone_stage2_1_blocks_9_conv2_bn_weight, ema_detector_backbone_stage2_1_blocks_9_conv2_bn_bias, ema_detector_backbone_stage2_1_blocks_9_conv2_bn_running_mean, ema_detector_backbone_stage2_1_blocks_9_conv2_bn_running_var, ema_detector_backbone_stage2_1_blocks_9_conv2_bn_num_batches_tracked, ema_detector_backbone_stage2_1_blocks_10_conv1_conv_weight, ema_detector_backbone_stage2_1_blocks_10_conv1_bn_weight, ema_detector_backbone_stage2_1_blocks_10_conv1_bn_bias, ema_detector_backbone_stage2_1_blocks_10_conv1_bn_running_mean, ema_detector_backbone_stage2_1_blocks_10_conv1_bn_running_var, ema_detector_backbone_stage2_1_blocks_10_conv1_bn_num_batches_tracked, ema_detector_backbone_stage2_1_blocks_10_conv2_conv_weight, ema_detector_backbone_stage2_1_blocks_10_conv2_bn_weight, ema_detector_backbone_stage2_1_blocks_10_conv2_bn_bias, ema_detector_backbone_stage2_1_blocks_10_conv2_bn_running_mean, ema_detector_backbone_stage2_1_blocks_10_conv2_bn_running_var, ema_detector_backbone_stage2_1_blocks_10_conv2_bn_num_batches_tracked, ema_detector_backbone_stage2_1_blocks_11_conv1_conv_weight, ema_detector_backbone_stage2_1_blocks_11_conv1_bn_weight, ema_detector_backbone_stage2_1_blocks_11_conv1_bn_bias, ema_detector_backbone_stage2_1_blocks_11_conv1_bn_running_mean, ema_detector_backbone_stage2_1_blocks_11_conv1_bn_running_var, ema_detector_backbone_stage2_1_blocks_11_conv1_bn_num_batches_tracked, ema_detector_backbone_stage2_1_blocks_11_conv2_conv_weight, ema_detector_backbone_stage2_1_blocks_11_conv2_bn_weight, ema_detector_backbone_stage2_1_blocks_11_conv2_bn_bias, ema_detector_backbone_stage2_1_blocks_11_conv2_bn_running_mean, ema_detector_backbone_stage2_1_blocks_11_conv2_bn_running_var, ema_detector_backbone_stage2_1_blocks_11_conv2_bn_num_batches_tracked, ema_detector_backbone_stage3_0_conv_weight, ema_detector_backbone_stage3_0_bn_weight, ema_detector_backbone_stage3_0_bn_bias, ema_detector_backbone_stage3_0_bn_running_mean, ema_detector_backbone_stage3_0_bn_running_var, ema_detector_backbone_stage3_0_bn_num_batches_tracked, ema_detector_backbone_stage3_1_main_conv_conv_weight, ema_detector_backbone_stage3_1_main_conv_bn_weight, ema_detector_backbone_stage3_1_main_conv_bn_bias, ema_detector_backbone_stage3_1_main_conv_bn_running_mean, ema_detector_backbone_stage3_1_main_conv_bn_running_var, ema_detector_backbone_stage3_1_main_conv_bn_num_batches_tracked, ema_detector_backbone_stage3_1_short_conv_conv_weight, ema_detector_backbone_stage3_1_short_conv_bn_weight, ema_detector_backbone_stage3_1_short_conv_bn_bias, ema_detector_backbone_stage3_1_short_conv_bn_running_mean, ema_detector_backbone_stage3_1_short_conv_bn_running_var, ema_detector_backbone_stage3_1_short_conv_bn_num_batches_tracked, ema_detector_backbone_stage3_1_final_conv_conv_weight, ema_detector_backbone_stage3_1_final_conv_bn_weight, ema_detector_backbone_stage3_1_final_conv_bn_bias, ema_detector_backbone_stage3_1_final_conv_bn_running_mean, ema_detector_backbone_stage3_1_final_conv_bn_running_var, ema_detector_backbone_stage3_1_final_conv_bn_num_batches_tracked, ema_detector_backbone_stage3_1_blocks_0_conv1_conv_weight, ema_detector_backbone_stage3_1_blocks_0_conv1_bn_weight, ema_detector_backbone_stage3_1_blocks_0_conv1_bn_bias, ema_detector_backbone_stage3_1_blocks_0_conv1_bn_running_mean, ema_detector_backbone_stage3_1_blocks_0_conv1_bn_running_var, ema_detector_backbone_stage3_1_blocks_0_conv1_bn_num_batches_tracked, ema_detector_backbone_stage3_1_blocks_0_conv2_conv_weight, ema_detector_backbone_stage3_1_blocks_0_conv2_bn_weight, ema_detector_backbone_stage3_1_blocks_0_conv2_bn_bias, ema_detector_backbone_stage3_1_blocks_0_conv2_bn_running_mean, ema_detector_backbone_stage3_1_blocks_0_conv2_bn_running_var, ema_detector_backbone_stage3_1_blocks_0_conv2_bn_num_batches_tracked, ema_detector_backbone_stage3_1_blocks_1_conv1_conv_weight, ema_detector_backbone_stage3_1_blocks_1_conv1_bn_weight, ema_detector_backbone_stage3_1_blocks_1_conv1_bn_bias, ema_detector_backbone_stage3_1_blocks_1_conv1_bn_running_mean, ema_detector_backbone_stage3_1_blocks_1_conv1_bn_running_var, ema_detector_backbone_stage3_1_blocks_1_conv1_bn_num_batches_tracked, ema_detector_backbone_stage3_1_blocks_1_conv2_conv_weight, ema_detector_backbone_stage3_1_blocks_1_conv2_bn_weight, ema_detector_backbone_stage3_1_blocks_1_conv2_bn_bias, ema_detector_backbone_stage3_1_blocks_1_conv2_bn_running_mean, ema_detector_backbone_stage3_1_blocks_1_conv2_bn_running_var, ema_detector_backbone_stage3_1_blocks_1_conv2_bn_num_batches_tracked, ema_detector_backbone_stage3_1_blocks_2_conv1_conv_weight, ema_detector_backbone_stage3_1_blocks_2_conv1_bn_weight, ema_detector_backbone_stage3_1_blocks_2_conv1_bn_bias, ema_detector_backbone_stage3_1_blocks_2_conv1_bn_running_mean, ema_detector_backbone_stage3_1_blocks_2_conv1_bn_running_var, ema_detector_backbone_stage3_1_blocks_2_conv1_bn_num_batches_tracked, ema_detector_backbone_stage3_1_blocks_2_conv2_conv_weight, ema_detector_backbone_stage3_1_blocks_2_conv2_bn_weight, ema_detector_backbone_stage3_1_blocks_2_conv2_bn_bias, ema_detector_backbone_stage3_1_blocks_2_conv2_bn_running_mean, ema_detector_backbone_stage3_1_blocks_2_conv2_bn_running_var, ema_detector_backbone_stage3_1_blocks_2_conv2_bn_num_batches_tracked, ema_detector_backbone_stage3_1_blocks_3_conv1_conv_weight, ema_detector_backbone_stage3_1_blocks_3_conv1_bn_weight, ema_detector_backbone_stage3_1_blocks_3_conv1_bn_bias, ema_detector_backbone_stage3_1_blocks_3_conv1_bn_running_mean, ema_detector_backbone_stage3_1_blocks_3_conv1_bn_running_var, ema_detector_backbone_stage3_1_blocks_3_conv1_bn_num_batches_tracked, ema_detector_backbone_stage3_1_blocks_3_conv2_conv_weight, ema_detector_backbone_stage3_1_blocks_3_conv2_bn_weight, ema_detector_backbone_stage3_1_blocks_3_conv2_bn_bias, ema_detector_backbone_stage3_1_blocks_3_conv2_bn_running_mean, ema_detector_backbone_stage3_1_blocks_3_conv2_bn_running_var, ema_detector_backbone_stage3_1_blocks_3_conv2_bn_num_batches_tracked, ema_detector_backbone_stage3_1_blocks_4_conv1_conv_weight, ema_detector_backbone_stage3_1_blocks_4_conv1_bn_weight, ema_detector_backbone_stage3_1_blocks_4_conv1_bn_bias, ema_detector_backbone_stage3_1_blocks_4_conv1_bn_running_mean, ema_detector_backbone_stage3_1_blocks_4_conv1_bn_running_var, ema_detector_backbone_stage3_1_blocks_4_conv1_bn_num_batches_tracked, ema_detector_backbone_stage3_1_blocks_4_conv2_conv_weight, ema_detector_backbone_stage3_1_blocks_4_conv2_bn_weight, ema_detector_backbone_stage3_1_blocks_4_conv2_bn_bias, ema_detector_backbone_stage3_1_blocks_4_conv2_bn_running_mean, ema_detector_backbone_stage3_1_blocks_4_conv2_bn_running_var, ema_detector_backbone_stage3_1_blocks_4_conv2_bn_num_batches_tracked, ema_detector_backbone_stage3_1_blocks_5_conv1_conv_weight, ema_detector_backbone_stage3_1_blocks_5_conv1_bn_weight, ema_detector_backbone_stage3_1_blocks_5_conv1_bn_bias, ema_detector_backbone_stage3_1_blocks_5_conv1_bn_running_mean, ema_detector_backbone_stage3_1_blocks_5_conv1_bn_running_var, ema_detector_backbone_stage3_1_blocks_5_conv1_bn_num_batches_tracked, ema_detector_backbone_stage3_1_blocks_5_conv2_conv_weight, ema_detector_backbone_stage3_1_blocks_5_conv2_bn_weight, ema_detector_backbone_stage3_1_blocks_5_conv2_bn_bias, ema_detector_backbone_stage3_1_blocks_5_conv2_bn_running_mean, ema_detector_backbone_stage3_1_blocks_5_conv2_bn_running_var, ema_detector_backbone_stage3_1_blocks_5_conv2_bn_num_batches_tracked, ema_detector_backbone_stage3_1_blocks_6_conv1_conv_weight, ema_detector_backbone_stage3_1_blocks_6_conv1_bn_weight, ema_detector_backbone_stage3_1_blocks_6_conv1_bn_bias, ema_detector_backbone_stage3_1_blocks_6_conv1_bn_running_mean, ema_detector_backbone_stage3_1_blocks_6_conv1_bn_running_var, ema_detector_backbone_stage3_1_blocks_6_conv1_bn_num_batches_tracked, ema_detector_backbone_stage3_1_blocks_6_conv2_conv_weight, ema_detector_backbone_stage3_1_blocks_6_conv2_bn_weight, ema_detector_backbone_stage3_1_blocks_6_conv2_bn_bias, ema_detector_backbone_stage3_1_blocks_6_conv2_bn_running_mean, ema_detector_backbone_stage3_1_blocks_6_conv2_bn_running_var, ema_detector_backbone_stage3_1_blocks_6_conv2_bn_num_batches_tracked, ema_detector_backbone_stage3_1_blocks_7_conv1_conv_weight, ema_detector_backbone_stage3_1_blocks_7_conv1_bn_weight, ema_detector_backbone_stage3_1_blocks_7_conv1_bn_bias, ema_detector_backbone_stage3_1_blocks_7_conv1_bn_running_mean, ema_detector_backbone_stage3_1_blocks_7_conv1_bn_running_var, ema_detector_backbone_stage3_1_blocks_7_conv1_bn_num_batches_tracked, ema_detector_backbone_stage3_1_blocks_7_conv2_conv_weight, ema_detector_backbone_stage3_1_blocks_7_conv2_bn_weight, ema_detector_backbone_stage3_1_blocks_7_conv2_bn_bias, ema_detector_backbone_stage3_1_blocks_7_conv2_bn_running_mean, ema_detector_backbone_stage3_1_blocks_7_conv2_bn_running_var, ema_detector_backbone_stage3_1_blocks_7_conv2_bn_num_batches_tracked, ema_detector_backbone_stage3_1_blocks_8_conv1_conv_weight, ema_detector_backbone_stage3_1_blocks_8_conv1_bn_weight, ema_detector_backbone_stage3_1_blocks_8_conv1_bn_bias, ema_detector_backbone_stage3_1_blocks_8_conv1_bn_running_mean, ema_detector_backbone_stage3_1_blocks_8_conv1_bn_running_var, ema_detector_backbone_stage3_1_blocks_8_conv1_bn_num_batches_tracked, ema_detector_backbone_stage3_1_blocks_8_conv2_conv_weight, ema_detector_backbone_stage3_1_blocks_8_conv2_bn_weight, ema_detector_backbone_stage3_1_blocks_8_conv2_bn_bias, ema_detector_backbone_stage3_1_blocks_8_conv2_bn_running_mean, ema_detector_backbone_stage3_1_blocks_8_conv2_bn_running_var, ema_detector_backbone_stage3_1_blocks_8_conv2_bn_num_batches_tracked, ema_detector_backbone_stage3_1_blocks_9_conv1_conv_weight, ema_detector_backbone_stage3_1_blocks_9_conv1_bn_weight, ema_detector_backbone_stage3_1_blocks_9_conv1_bn_bias, ema_detector_backbone_stage3_1_blocks_9_conv1_bn_running_mean, ema_detector_backbone_stage3_1_blocks_9_conv1_bn_running_var, ema_detector_backbone_stage3_1_blocks_9_conv1_bn_num_batches_tracked, ema_detector_backbone_stage3_1_blocks_9_conv2_conv_weight, ema_detector_backbone_stage3_1_blocks_9_conv2_bn_weight, ema_detector_backbone_stage3_1_blocks_9_conv2_bn_bias, ema_detector_backbone_stage3_1_blocks_9_conv2_bn_running_mean, ema_detector_backbone_stage3_1_blocks_9_conv2_bn_running_var, ema_detector_backbone_stage3_1_blocks_9_conv2_bn_num_batches_tracked, ema_detector_backbone_stage3_1_blocks_10_conv1_conv_weight, ema_detector_backbone_stage3_1_blocks_10_conv1_bn_weight, ema_detector_backbone_stage3_1_blocks_10_conv1_bn_bias, ema_detector_backbone_stage3_1_blocks_10_conv1_bn_running_mean, ema_detector_backbone_stage3_1_blocks_10_conv1_bn_running_var, ema_detector_backbone_stage3_1_blocks_10_conv1_bn_num_batches_tracked, ema_detector_backbone_stage3_1_blocks_10_conv2_conv_weight, ema_detector_backbone_stage3_1_blocks_10_conv2_bn_weight, ema_detector_backbone_stage3_1_blocks_10_conv2_bn_bias, ema_detector_backbone_stage3_1_blocks_10_conv2_bn_running_mean, ema_detector_backbone_stage3_1_blocks_10_conv2_bn_running_var, ema_detector_backbone_stage3_1_blocks_10_conv2_bn_num_batches_tracked, ema_detector_backbone_stage3_1_blocks_11_conv1_conv_weight, ema_detector_backbone_stage3_1_blocks_11_conv1_bn_weight, ema_detector_backbone_stage3_1_blocks_11_conv1_bn_bias, ema_detector_backbone_stage3_1_blocks_11_conv1_bn_running_mean, ema_detector_backbone_stage3_1_blocks_11_conv1_bn_running_var, ema_detector_backbone_stage3_1_blocks_11_conv1_bn_num_batches_tracked, ema_detector_backbone_stage3_1_blocks_11_conv2_conv_weight, ema_detector_backbone_stage3_1_blocks_11_conv2_bn_weight, ema_detector_backbone_stage3_1_blocks_11_conv2_bn_bias, ema_detector_backbone_stage3_1_blocks_11_conv2_bn_running_mean, ema_detector_backbone_stage3_1_blocks_11_conv2_bn_running_var, ema_detector_backbone_stage3_1_blocks_11_conv2_bn_num_batches_tracked, ema_detector_backbone_stage4_0_conv_weight, ema_detector_backbone_stage4_0_bn_weight, ema_detector_backbone_stage4_0_bn_bias, ema_detector_backbone_stage4_0_bn_running_mean, ema_detector_backbone_stage4_0_bn_running_var, ema_detector_backbone_stage4_0_bn_num_batches_tracked, ema_detector_backbone_stage4_1_conv1_conv_weight, ema_detector_backbone_stage4_1_conv1_bn_weight, ema_detector_backbone_stage4_1_conv1_bn_bias, ema_detector_backbone_stage4_1_conv1_bn_running_mean, ema_detector_backbone_stage4_1_conv1_bn_running_var, ema_detector_backbone_stage4_1_conv1_bn_num_batches_tracked, ema_detector_backbone_stage4_1_conv2_conv_weight, ema_detector_backbone_stage4_1_conv2_bn_weight, ema_detector_backbone_stage4_1_conv2_bn_bias, ema_detector_backbone_stage4_1_conv2_bn_running_mean, ema_detector_backbone_stage4_1_conv2_bn_running_var, ema_detector_backbone_stage4_1_conv2_bn_num_batches_tracked, ema_detector_backbone_stage4_2_main_conv_conv_weight, ema_detector_backbone_stage4_2_main_conv_bn_weight, ema_detector_backbone_stage4_2_main_conv_bn_bias, ema_detector_backbone_stage4_2_main_conv_bn_running_mean, ema_detector_backbone_stage4_2_main_conv_bn_running_var, ema_detector_backbone_stage4_2_main_conv_bn_num_batches_tracked, ema_detector_backbone_stage4_2_short_conv_conv_weight, ema_detector_backbone_stage4_2_short_conv_bn_weight, ema_detector_backbone_stage4_2_short_conv_bn_bias, ema_detector_backbone_stage4_2_short_conv_bn_running_mean, ema_detector_backbone_stage4_2_short_conv_bn_running_var, ema_detector_backbone_stage4_2_short_conv_bn_num_batches_tracked, ema_detector_backbone_stage4_2_final_conv_conv_weight, ema_detector_backbone_stage4_2_final_conv_bn_weight, ema_detector_backbone_stage4_2_final_conv_bn_bias, ema_detector_backbone_stage4_2_final_conv_bn_running_mean, ema_detector_backbone_stage4_2_final_conv_bn_running_var, ema_detector_backbone_stage4_2_final_conv_bn_num_batches_tracked, ema_detector_backbone_stage4_2_blocks_0_conv1_conv_weight, ema_detector_backbone_stage4_2_blocks_0_conv1_bn_weight, ema_detector_backbone_stage4_2_blocks_0_conv1_bn_bias, ema_detector_backbone_stage4_2_blocks_0_conv1_bn_running_mean, ema_detector_backbone_stage4_2_blocks_0_conv1_bn_running_var, ema_detector_backbone_stage4_2_blocks_0_conv1_bn_num_batches_tracked, ema_detector_backbone_stage4_2_blocks_0_conv2_conv_weight, ema_detector_backbone_stage4_2_blocks_0_conv2_bn_weight, ema_detector_backbone_stage4_2_blocks_0_conv2_bn_bias, ema_detector_backbone_stage4_2_blocks_0_conv2_bn_running_mean, ema_detector_backbone_stage4_2_blocks_0_conv2_bn_running_var, ema_detector_backbone_stage4_2_blocks_0_conv2_bn_num_batches_tracked, ema_detector_backbone_stage4_2_blocks_1_conv1_conv_weight, ema_detector_backbone_stage4_2_blocks_1_conv1_bn_weight, ema_detector_backbone_stage4_2_blocks_1_conv1_bn_bias, ema_detector_backbone_stage4_2_blocks_1_conv1_bn_running_mean, ema_detector_backbone_stage4_2_blocks_1_conv1_bn_running_var, ema_detector_backbone_stage4_2_blocks_1_conv1_bn_num_batches_tracked, ema_detector_backbone_stage4_2_blocks_1_conv2_conv_weight, ema_detector_backbone_stage4_2_blocks_1_conv2_bn_weight, ema_detector_backbone_stage4_2_blocks_1_conv2_bn_bias, ema_detector_backbone_stage4_2_blocks_1_conv2_bn_running_mean, ema_detector_backbone_stage4_2_blocks_1_conv2_bn_running_var, ema_detector_backbone_stage4_2_blocks_1_conv2_bn_num_batches_tracked, ema_detector_backbone_stage4_2_blocks_2_conv1_conv_weight, ema_detector_backbone_stage4_2_blocks_2_conv1_bn_weight, ema_detector_backbone_stage4_2_blocks_2_conv1_bn_bias, ema_detector_backbone_stage4_2_blocks_2_conv1_bn_running_mean, ema_detector_backbone_stage4_2_blocks_2_conv1_bn_running_var, ema_detector_backbone_stage4_2_blocks_2_conv1_bn_num_batches_tracked, ema_detector_backbone_stage4_2_blocks_2_conv2_conv_weight, ema_detector_backbone_stage4_2_blocks_2_conv2_bn_weight, ema_detector_backbone_stage4_2_blocks_2_conv2_bn_bias, ema_detector_backbone_stage4_2_blocks_2_conv2_bn_running_mean, ema_detector_backbone_stage4_2_blocks_2_conv2_bn_running_var, ema_detector_backbone_stage4_2_blocks_2_conv2_bn_num_batches_tracked, ema_detector_backbone_stage4_2_blocks_3_conv1_conv_weight, ema_detector_backbone_stage4_2_blocks_3_conv1_bn_weight, ema_detector_backbone_stage4_2_blocks_3_conv1_bn_bias, ema_detector_backbone_stage4_2_blocks_3_conv1_bn_running_mean, ema_detector_backbone_stage4_2_blocks_3_conv1_bn_running_var, ema_detector_backbone_stage4_2_blocks_3_conv1_bn_num_batches_tracked, ema_detector_backbone_stage4_2_blocks_3_conv2_conv_weight, ema_detector_backbone_stage4_2_blocks_3_conv2_bn_weight, ema_detector_backbone_stage4_2_blocks_3_conv2_bn_bias, ema_detector_backbone_stage4_2_blocks_3_conv2_bn_running_mean, ema_detector_backbone_stage4_2_blocks_3_conv2_bn_running_var, ema_detector_backbone_stage4_2_blocks_3_conv2_bn_num_batches_tracked, ema_detector_neck_reduce_layers_0_conv_weight, ema_detector_neck_reduce_layers_0_bn_weight, ema_detector_neck_reduce_layers_0_bn_bias, ema_detector_neck_reduce_layers_0_bn_running_mean, ema_detector_neck_reduce_layers_0_bn_running_var, ema_detector_neck_reduce_layers_0_bn_num_batches_tracked, ema_detector_neck_reduce_layers_1_conv_weight, ema_detector_neck_reduce_layers_1_bn_weight, ema_detector_neck_reduce_layers_1_bn_bias, ema_detector_neck_reduce_layers_1_bn_running_mean, ema_detector_neck_reduce_layers_1_bn_running_var, ema_detector_neck_reduce_layers_1_bn_num_batches_tracked, ema_detector_neck_top_down_blocks_0_main_conv_conv_weight, ema_detector_neck_top_down_blocks_0_main_conv_bn_weight, ema_detector_neck_top_down_blocks_0_main_conv_bn_bias, ema_detector_neck_top_down_blocks_0_main_conv_bn_running_mean, ema_detector_neck_top_down_blocks_0_main_conv_bn_running_var, ema_detector_neck_top_down_blocks_0_main_conv_bn_num_batches_tracked, ema_detector_neck_top_down_blocks_0_short_conv_conv_weight, ema_detector_neck_top_down_blocks_0_short_conv_bn_weight, ema_detector_neck_top_down_blocks_0_short_conv_bn_bias, ema_detector_neck_top_down_blocks_0_short_conv_bn_running_mean, ema_detector_neck_top_down_blocks_0_short_conv_bn_running_var, ema_detector_neck_top_down_blocks_0_short_conv_bn_num_batches_tracked, ema_detector_neck_top_down_blocks_0_final_conv_conv_weight, ema_detector_neck_top_down_blocks_0_final_conv_bn_weight, ema_detector_neck_top_down_blocks_0_final_conv_bn_bias, ema_detector_neck_top_down_blocks_0_final_conv_bn_running_mean, ema_detector_neck_top_down_blocks_0_final_conv_bn_running_var, ema_detector_neck_top_down_blocks_0_final_conv_bn_num_batches_tracked, ema_detector_neck_top_down_blocks_0_blocks_0_conv1_conv_weight, ema_detector_neck_top_down_blocks_0_blocks_0_conv1_bn_weight, ema_detector_neck_top_down_blocks_0_blocks_0_conv1_bn_bias, ema_detector_neck_top_down_blocks_0_blocks_0_conv1_bn_running_mean, ema_detector_neck_top_down_blocks_0_blocks_0_conv1_bn_running_var, ema_detector_neck_top_down_blocks_0_blocks_0_conv1_bn_num_batches_tracked, ema_detector_neck_top_down_blocks_0_blocks_0_conv2_conv_weight, ema_detector_neck_top_down_blocks_0_blocks_0_conv2_bn_weight, ema_detector_neck_top_down_blocks_0_blocks_0_conv2_bn_bias, ema_detector_neck_top_down_blocks_0_blocks_0_conv2_bn_running_mean, ema_detector_neck_top_down_blocks_0_blocks_0_conv2_bn_running_var, ema_detector_neck_top_down_blocks_0_blocks_0_conv2_bn_num_batches_tracked, ema_detector_neck_top_down_blocks_0_blocks_1_conv1_conv_weight, ema_detector_neck_top_down_blocks_0_blocks_1_conv1_bn_weight, ema_detector_neck_top_down_blocks_0_blocks_1_conv1_bn_bias, ema_detector_neck_top_down_blocks_0_blocks_1_conv1_bn_running_mean, ema_detector_neck_top_down_blocks_0_blocks_1_conv1_bn_running_var, ema_detector_neck_top_down_blocks_0_blocks_1_conv1_bn_num_batches_tracked, ema_detector_neck_top_down_blocks_0_blocks_1_conv2_conv_weight, ema_detector_neck_top_down_blocks_0_blocks_1_conv2_bn_weight, ema_detector_neck_top_down_blocks_0_blocks_1_conv2_bn_bias, ema_detector_neck_top_down_blocks_0_blocks_1_conv2_bn_running_mean, ema_detector_neck_top_down_blocks_0_blocks_1_conv2_bn_running_var, ema_detector_neck_top_down_blocks_0_blocks_1_conv2_bn_num_batches_tracked, ema_detector_neck_top_down_blocks_0_blocks_2_conv1_conv_weight, ema_detector_neck_top_down_blocks_0_blocks_2_conv1_bn_weight, ema_detector_neck_top_down_blocks_0_blocks_2_conv1_bn_bias, ema_detector_neck_top_down_blocks_0_blocks_2_conv1_bn_running_mean, ema_detector_neck_top_down_blocks_0_blocks_2_conv1_bn_running_var, ema_detector_neck_top_down_blocks_0_blocks_2_conv1_bn_num_batches_tracked, ema_detector_neck_top_down_blocks_0_blocks_2_conv2_conv_weight, ema_detector_neck_top_down_blocks_0_blocks_2_conv2_bn_weight, ema_detector_neck_top_down_blocks_0_blocks_2_conv2_bn_bias, ema_detector_neck_top_down_blocks_0_blocks_2_conv2_bn_running_mean, ema_detector_neck_top_down_blocks_0_blocks_2_conv2_bn_running_var, ema_detector_neck_top_down_blocks_0_blocks_2_conv2_bn_num_batches_tracked, ema_detector_neck_top_down_blocks_0_blocks_3_conv1_conv_weight, ema_detector_neck_top_down_blocks_0_blocks_3_conv1_bn_weight, ema_detector_neck_top_down_blocks_0_blocks_3_conv1_bn_bias, ema_detector_neck_top_down_blocks_0_blocks_3_conv1_bn_running_mean, ema_detector_neck_top_down_blocks_0_blocks_3_conv1_bn_running_var, ema_detector_neck_top_down_blocks_0_blocks_3_conv1_bn_num_batches_tracked, ema_detector_neck_top_down_blocks_0_blocks_3_conv2_conv_weight, ema_detector_neck_top_down_blocks_0_blocks_3_conv2_bn_weight, ema_detector_neck_top_down_blocks_0_blocks_3_conv2_bn_bias, ema_detector_neck_top_down_blocks_0_blocks_3_conv2_bn_running_mean, ema_detector_neck_top_down_blocks_0_blocks_3_conv2_bn_running_var, ema_detector_neck_top_down_blocks_0_blocks_3_conv2_bn_num_batches_tracked, ema_detector_neck_top_down_blocks_1_main_conv_conv_weight, ema_detector_neck_top_down_blocks_1_main_conv_bn_weight, ema_detector_neck_top_down_blocks_1_main_conv_bn_bias, ema_detector_neck_top_down_blocks_1_main_conv_bn_running_mean, ema_detector_neck_top_down_blocks_1_main_conv_bn_running_var, ema_detector_neck_top_down_blocks_1_main_conv_bn_num_batches_tracked, ema_detector_neck_top_down_blocks_1_short_conv_conv_weight, ema_detector_neck_top_down_blocks_1_short_conv_bn_weight, ema_detector_neck_top_down_blocks_1_short_conv_bn_bias, ema_detector_neck_top_down_blocks_1_short_conv_bn_running_mean, ema_detector_neck_top_down_blocks_1_short_conv_bn_running_var, ema_detector_neck_top_down_blocks_1_short_conv_bn_num_batches_tracked, ema_detector_neck_top_down_blocks_1_final_conv_conv_weight, ema_detector_neck_top_down_blocks_1_final_conv_bn_weight, ema_detector_neck_top_down_blocks_1_final_conv_bn_bias, ema_detector_neck_top_down_blocks_1_final_conv_bn_running_mean, ema_detector_neck_top_down_blocks_1_final_conv_bn_running_var, ema_detector_neck_top_down_blocks_1_final_conv_bn_num_batches_tracked, ema_detector_neck_top_down_blocks_1_blocks_0_conv1_conv_weight, ema_detector_neck_top_down_blocks_1_blocks_0_conv1_bn_weight, ema_detector_neck_top_down_blocks_1_blocks_0_conv1_bn_bias, ema_detector_neck_top_down_blocks_1_blocks_0_conv1_bn_running_mean, ema_detector_neck_top_down_blocks_1_blocks_0_conv1_bn_running_var, ema_detector_neck_top_down_blocks_1_blocks_0_conv1_bn_num_batches_tracked, ema_detector_neck_top_down_blocks_1_blocks_0_conv2_conv_weight, ema_detector_neck_top_down_blocks_1_blocks_0_conv2_bn_weight, ema_detector_neck_top_down_blocks_1_blocks_0_conv2_bn_bias, ema_detector_neck_top_down_blocks_1_blocks_0_conv2_bn_running_mean, ema_detector_neck_top_down_blocks_1_blocks_0_conv2_bn_running_var, ema_detector_neck_top_down_blocks_1_blocks_0_conv2_bn_num_batches_tracked, ema_detector_neck_top_down_blocks_1_blocks_1_conv1_conv_weight, ema_detector_neck_top_down_blocks_1_blocks_1_conv1_bn_weight, ema_detector_neck_top_down_blocks_1_blocks_1_conv1_bn_bias, ema_detector_neck_top_down_blocks_1_blocks_1_conv1_bn_running_mean, ema_detector_neck_top_down_blocks_1_blocks_1_conv1_bn_running_var, ema_detector_neck_top_down_blocks_1_blocks_1_conv1_bn_num_batches_tracked, ema_detector_neck_top_down_blocks_1_blocks_1_conv2_conv_weight, ema_detector_neck_top_down_blocks_1_blocks_1_conv2_bn_weight, ema_detector_neck_top_down_blocks_1_blocks_1_conv2_bn_bias, ema_detector_neck_top_down_blocks_1_blocks_1_conv2_bn_running_mean, ema_detector_neck_top_down_blocks_1_blocks_1_conv2_bn_running_var, ema_detector_neck_top_down_blocks_1_blocks_1_conv2_bn_num_batches_tracked, ema_detector_neck_top_down_blocks_1_blocks_2_conv1_conv_weight, ema_detector_neck_top_down_blocks_1_blocks_2_conv1_bn_weight, ema_detector_neck_top_down_blocks_1_blocks_2_conv1_bn_bias, ema_detector_neck_top_down_blocks_1_blocks_2_conv1_bn_running_mean, ema_detector_neck_top_down_blocks_1_blocks_2_conv1_bn_running_var, ema_detector_neck_top_down_blocks_1_blocks_2_conv1_bn_num_batches_tracked, ema_detector_neck_top_down_blocks_1_blocks_2_conv2_conv_weight, ema_detector_neck_top_down_blocks_1_blocks_2_conv2_bn_weight, ema_detector_neck_top_down_blocks_1_blocks_2_conv2_bn_bias, ema_detector_neck_top_down_blocks_1_blocks_2_conv2_bn_running_mean, ema_detector_neck_top_down_blocks_1_blocks_2_conv2_bn_running_var, ema_detector_neck_top_down_blocks_1_blocks_2_conv2_bn_num_batches_tracked, ema_detector_neck_top_down_blocks_1_blocks_3_conv1_conv_weight, ema_detector_neck_top_down_blocks_1_blocks_3_conv1_bn_weight, ema_detector_neck_top_down_blocks_1_blocks_3_conv1_bn_bias, ema_detector_neck_top_down_blocks_1_blocks_3_conv1_bn_running_mean, ema_detector_neck_top_down_blocks_1_blocks_3_conv1_bn_running_var, ema_detector_neck_top_down_blocks_1_blocks_3_conv1_bn_num_batches_tracked, ema_detector_neck_top_down_blocks_1_blocks_3_conv2_conv_weight, ema_detector_neck_top_down_blocks_1_blocks_3_conv2_bn_weight, ema_detector_neck_top_down_blocks_1_blocks_3_conv2_bn_bias, ema_detector_neck_top_down_blocks_1_blocks_3_conv2_bn_running_mean, ema_detector_neck_top_down_blocks_1_blocks_3_conv2_bn_running_var, ema_detector_neck_top_down_blocks_1_blocks_3_conv2_bn_num_batches_tracked, ema_detector_neck_downsamples_0_conv_weight, ema_detector_neck_downsamples_0_bn_weight, ema_detector_neck_downsamples_0_bn_bias, ema_detector_neck_downsamples_0_bn_running_mean, ema_detector_neck_downsamples_0_bn_running_var, ema_detector_neck_downsamples_0_bn_num_batches_tracked, ema_detector_neck_downsamples_1_conv_weight, ema_detector_neck_downsamples_1_bn_weight, ema_detector_neck_downsamples_1_bn_bias, ema_detector_neck_downsamples_1_bn_running_mean, ema_detector_neck_downsamples_1_bn_running_var, ema_detector_neck_downsamples_1_bn_num_batches_tracked, ema_detector_neck_bottom_up_blocks_0_main_conv_conv_weight, ema_detector_neck_bottom_up_blocks_0_main_conv_bn_weight, ema_detector_neck_bottom_up_blocks_0_main_conv_bn_bias, ema_detector_neck_bottom_up_blocks_0_main_conv_bn_running_mean, ema_detector_neck_bottom_up_blocks_0_main_conv_bn_running_var, ema_detector_neck_bottom_up_blocks_0_main_conv_bn_num_batches_tracked, ema_detector_neck_bottom_up_blocks_0_short_conv_conv_weight, ema_detector_neck_bottom_up_blocks_0_short_conv_bn_weight, ema_detector_neck_bottom_up_blocks_0_short_conv_bn_bias, ema_detector_neck_bottom_up_blocks_0_short_conv_bn_running_mean, ema_detector_neck_bottom_up_blocks_0_short_conv_bn_running_var, ema_detector_neck_bottom_up_blocks_0_short_conv_bn_num_batches_tracked, ema_detector_neck_bottom_up_blocks_0_final_conv_conv_weight, ema_detector_neck_bottom_up_blocks_0_final_conv_bn_weight, ema_detector_neck_bottom_up_blocks_0_final_conv_bn_bias, ema_detector_neck_bottom_up_blocks_0_final_conv_bn_running_mean, ema_detector_neck_bottom_up_blocks_0_final_conv_bn_running_var, ema_detector_neck_bottom_up_blocks_0_final_conv_bn_num_batches_tracked, ema_detector_neck_bottom_up_blocks_0_blocks_0_conv1_conv_weight, ema_detector_neck_bottom_up_blocks_0_blocks_0_conv1_bn_weight, ema_detector_neck_bottom_up_blocks_0_blocks_0_conv1_bn_bias, ema_detector_neck_bottom_up_blocks_0_blocks_0_conv1_bn_running_mean, ema_detector_neck_bottom_up_blocks_0_blocks_0_conv1_bn_running_var, ema_detector_neck_bottom_up_blocks_0_blocks_0_conv1_bn_num_batches_tracked, ema_detector_neck_bottom_up_blocks_0_blocks_0_conv2_conv_weight, ema_detector_neck_bottom_up_blocks_0_blocks_0_conv2_bn_weight, ema_detector_neck_bottom_up_blocks_0_blocks_0_conv2_bn_bias, ema_detector_neck_bottom_up_blocks_0_blocks_0_conv2_bn_running_mean, ema_detector_neck_bottom_up_blocks_0_blocks_0_conv2_bn_running_var, ema_detector_neck_bottom_up_blocks_0_blocks_0_conv2_bn_num_batches_tracked, ema_detector_neck_bottom_up_blocks_0_blocks_1_conv1_conv_weight, ema_detector_neck_bottom_up_blocks_0_blocks_1_conv1_bn_weight, ema_detector_neck_bottom_up_blocks_0_blocks_1_conv1_bn_bias, ema_detector_neck_bottom_up_blocks_0_blocks_1_conv1_bn_running_mean, ema_detector_neck_bottom_up_blocks_0_blocks_1_conv1_bn_running_var, ema_detector_neck_bottom_up_blocks_0_blocks_1_conv1_bn_num_batches_tracked, ema_detector_neck_bottom_up_blocks_0_blocks_1_conv2_conv_weight, ema_detector_neck_bottom_up_blocks_0_blocks_1_conv2_bn_weight, ema_detector_neck_bottom_up_blocks_0_blocks_1_conv2_bn_bias, ema_detector_neck_bottom_up_blocks_0_blocks_1_conv2_bn_running_mean, ema_detector_neck_bottom_up_blocks_0_blocks_1_conv2_bn_running_var, ema_detector_neck_bottom_up_blocks_0_blocks_1_conv2_bn_num_batches_tracked, ema_detector_neck_bottom_up_blocks_0_blocks_2_conv1_conv_weight, ema_detector_neck_bottom_up_blocks_0_blocks_2_conv1_bn_weight, ema_detector_neck_bottom_up_blocks_0_blocks_2_conv1_bn_bias, ema_detector_neck_bottom_up_blocks_0_blocks_2_conv1_bn_running_mean, ema_detector_neck_bottom_up_blocks_0_blocks_2_conv1_bn_running_var, ema_detector_neck_bottom_up_blocks_0_blocks_2_conv1_bn_num_batches_tracked, ema_detector_neck_bottom_up_blocks_0_blocks_2_conv2_conv_weight, ema_detector_neck_bottom_up_blocks_0_blocks_2_conv2_bn_weight, ema_detector_neck_bottom_up_blocks_0_blocks_2_conv2_bn_bias, ema_detector_neck_bottom_up_blocks_0_blocks_2_conv2_bn_running_mean, ema_detector_neck_bottom_up_blocks_0_blocks_2_conv2_bn_running_var, ema_detector_neck_bottom_up_blocks_0_blocks_2_conv2_bn_num_batches_tracked, ema_detector_neck_bottom_up_blocks_0_blocks_3_conv1_conv_weight, ema_detector_neck_bottom_up_blocks_0_blocks_3_conv1_bn_weight, ema_detector_neck_bottom_up_blocks_0_blocks_3_conv1_bn_bias, ema_detector_neck_bottom_up_blocks_0_blocks_3_conv1_bn_running_mean, ema_detector_neck_bottom_up_blocks_0_blocks_3_conv1_bn_running_var, ema_detector_neck_bottom_up_blocks_0_blocks_3_conv1_bn_num_batches_tracked, ema_detector_neck_bottom_up_blocks_0_blocks_3_conv2_conv_weight, ema_detector_neck_bottom_up_blocks_0_blocks_3_conv2_bn_weight, ema_detector_neck_bottom_up_blocks_0_blocks_3_conv2_bn_bias, ema_detector_neck_bottom_up_blocks_0_blocks_3_conv2_bn_running_mean, ema_detector_neck_bottom_up_blocks_0_blocks_3_conv2_bn_running_var, ema_detector_neck_bottom_up_blocks_0_blocks_3_conv2_bn_num_batches_tracked, ema_detector_neck_bottom_up_blocks_1_main_conv_conv_weight, ema_detector_neck_bottom_up_blocks_1_main_conv_bn_weight, ema_detector_neck_bottom_up_blocks_1_main_conv_bn_bias, ema_detector_neck_bottom_up_blocks_1_main_conv_bn_running_mean, ema_detector_neck_bottom_up_blocks_1_main_conv_bn_running_var, ema_detector_neck_bottom_up_blocks_1_main_conv_bn_num_batches_tracked, ema_detector_neck_bottom_up_blocks_1_short_conv_conv_weight, ema_detector_neck_bottom_up_blocks_1_short_conv_bn_weight, ema_detector_neck_bottom_up_blocks_1_short_conv_bn_bias, ema_detector_neck_bottom_up_blocks_1_short_conv_bn_running_mean, ema_detector_neck_bottom_up_blocks_1_short_conv_bn_running_var, ema_detector_neck_bottom_up_blocks_1_short_conv_bn_num_batches_tracked, ema_detector_neck_bottom_up_blocks_1_final_conv_conv_weight, ema_detector_neck_bottom_up_blocks_1_final_conv_bn_weight, ema_detector_neck_bottom_up_blocks_1_final_conv_bn_bias, ema_detector_neck_bottom_up_blocks_1_final_conv_bn_running_mean, ema_detector_neck_bottom_up_blocks_1_final_conv_bn_running_var, ema_detector_neck_bottom_up_blocks_1_final_conv_bn_num_batches_tracked, ema_detector_neck_bottom_up_blocks_1_blocks_0_conv1_conv_weight, ema_detector_neck_bottom_up_blocks_1_blocks_0_conv1_bn_weight, ema_detector_neck_bottom_up_blocks_1_blocks_0_conv1_bn_bias, ema_detector_neck_bottom_up_blocks_1_blocks_0_conv1_bn_running_mean, ema_detector_neck_bottom_up_blocks_1_blocks_0_conv1_bn_running_var, ema_detector_neck_bottom_up_blocks_1_blocks_0_conv1_bn_num_batches_tracked, ema_detector_neck_bottom_up_blocks_1_blocks_0_conv2_conv_weight, ema_detector_neck_bottom_up_blocks_1_blocks_0_conv2_bn_weight, ema_detector_neck_bottom_up_blocks_1_blocks_0_conv2_bn_bias, ema_detector_neck_bottom_up_blocks_1_blocks_0_conv2_bn_running_mean, ema_detector_neck_bottom_up_blocks_1_blocks_0_conv2_bn_running_var, ema_detector_neck_bottom_up_blocks_1_blocks_0_conv2_bn_num_batches_tracked, ema_detector_neck_bottom_up_blocks_1_blocks_1_conv1_conv_weight, ema_detector_neck_bottom_up_blocks_1_blocks_1_conv1_bn_weight, ema_detector_neck_bottom_up_blocks_1_blocks_1_conv1_bn_bias, ema_detector_neck_bottom_up_blocks_1_blocks_1_conv1_bn_running_mean, ema_detector_neck_bottom_up_blocks_1_blocks_1_conv1_bn_running_var, ema_detector_neck_bottom_up_blocks_1_blocks_1_conv1_bn_num_batches_tracked, ema_detector_neck_bottom_up_blocks_1_blocks_1_conv2_conv_weight, ema_detector_neck_bottom_up_blocks_1_blocks_1_conv2_bn_weight, ema_detector_neck_bottom_up_blocks_1_blocks_1_conv2_bn_bias, ema_detector_neck_bottom_up_blocks_1_blocks_1_conv2_bn_running_mean, ema_detector_neck_bottom_up_blocks_1_blocks_1_conv2_bn_running_var, ema_detector_neck_bottom_up_blocks_1_blocks_1_conv2_bn_num_batches_tracked, ema_detector_neck_bottom_up_blocks_1_blocks_2_conv1_conv_weight, ema_detector_neck_bottom_up_blocks_1_blocks_2_conv1_bn_weight, ema_detector_neck_bottom_up_blocks_1_blocks_2_conv1_bn_bias, ema_detector_neck_bottom_up_blocks_1_blocks_2_conv1_bn_running_mean, ema_detector_neck_bottom_up_blocks_1_blocks_2_conv1_bn_running_var, ema_detector_neck_bottom_up_blocks_1_blocks_2_conv1_bn_num_batches_tracked, ema_detector_neck_bottom_up_blocks_1_blocks_2_conv2_conv_weight, ema_detector_neck_bottom_up_blocks_1_blocks_2_conv2_bn_weight, ema_detector_neck_bottom_up_blocks_1_blocks_2_conv2_bn_bias, ema_detector_neck_bottom_up_blocks_1_blocks_2_conv2_bn_running_mean, ema_detector_neck_bottom_up_blocks_1_blocks_2_conv2_bn_running_var, ema_detector_neck_bottom_up_blocks_1_blocks_2_conv2_bn_num_batches_tracked, ema_detector_neck_bottom_up_blocks_1_blocks_3_conv1_conv_weight, ema_detector_neck_bottom_up_blocks_1_blocks_3_conv1_bn_weight, ema_detector_neck_bottom_up_blocks_1_blocks_3_conv1_bn_bias, ema_detector_neck_bottom_up_blocks_1_blocks_3_conv1_bn_running_mean, ema_detector_neck_bottom_up_blocks_1_blocks_3_conv1_bn_running_var, ema_detector_neck_bottom_up_blocks_1_blocks_3_conv1_bn_num_batches_tracked, ema_detector_neck_bottom_up_blocks_1_blocks_3_conv2_conv_weight, ema_detector_neck_bottom_up_blocks_1_blocks_3_conv2_bn_weight, ema_detector_neck_bottom_up_blocks_1_blocks_3_conv2_bn_bias, ema_detector_neck_bottom_up_blocks_1_blocks_3_conv2_bn_running_mean, ema_detector_neck_bottom_up_blocks_1_blocks_3_conv2_bn_running_var, ema_detector_neck_bottom_up_blocks_1_blocks_3_conv2_bn_num_batches_tracked, ema_detector_neck_out_convs_0_conv_weight, ema_detector_neck_out_convs_0_bn_weight, ema_detector_neck_out_convs_0_bn_bias, ema_detector_neck_out_convs_0_bn_running_mean, ema_detector_neck_out_convs_0_bn_running_var, ema_detector_neck_out_convs_0_bn_num_batches_tracked, ema_detector_neck_out_convs_1_conv_weight, ema_detector_neck_out_convs_1_bn_weight, ema_detector_neck_out_convs_1_bn_bias, ema_detector_neck_out_convs_1_bn_running_mean, ema_detector_neck_out_convs_1_bn_running_var, ema_detector_neck_out_convs_1_bn_num_batches_tracked, ema_detector_neck_out_convs_2_conv_weight, ema_detector_neck_out_convs_2_bn_weight, ema_detector_neck_out_convs_2_bn_bias, ema_detector_neck_out_convs_2_bn_running_mean, ema_detector_neck_out_convs_2_bn_running_var, ema_detector_neck_out_convs_2_bn_num_batches_tracked, ema_detector_bbox_head_multi_level_cls_convs_0_0_conv_weight, ema_detector_bbox_head_multi_level_cls_convs_0_0_bn_weight, ema_detector_bbox_head_multi_level_cls_convs_0_0_bn_bias, ema_detector_bbox_head_multi_level_cls_convs_0_0_bn_running_mean, ema_detector_bbox_head_multi_level_cls_convs_0_0_bn_running_var, ema_detector_bbox_head_multi_level_cls_convs_0_0_bn_num_batches_tracked, ema_detector_bbox_head_multi_level_cls_convs_0_1_conv_weight, ema_detector_bbox_head_multi_level_cls_convs_0_1_bn_weight, ema_detector_bbox_head_multi_level_cls_convs_0_1_bn_bias, ema_detector_bbox_head_multi_level_cls_convs_0_1_bn_running_mean, ema_detector_bbox_head_multi_level_cls_convs_0_1_bn_running_var, ema_detector_bbox_head_multi_level_cls_convs_0_1_bn_num_batches_tracked, ema_detector_bbox_head_multi_level_cls_convs_1_0_conv_weight, ema_detector_bbox_head_multi_level_cls_convs_1_0_bn_weight, ema_detector_bbox_head_multi_level_cls_convs_1_0_bn_bias, ema_detector_bbox_head_multi_level_cls_convs_1_0_bn_running_mean, ema_detector_bbox_head_multi_level_cls_convs_1_0_bn_running_var, ema_detector_bbox_head_multi_level_cls_convs_1_0_bn_num_batches_tracked, ema_detector_bbox_head_multi_level_cls_convs_1_1_conv_weight, ema_detector_bbox_head_multi_level_cls_convs_1_1_bn_weight, ema_detector_bbox_head_multi_level_cls_convs_1_1_bn_bias, ema_detector_bbox_head_multi_level_cls_convs_1_1_bn_running_mean, ema_detector_bbox_head_multi_level_cls_convs_1_1_bn_running_var, ema_detector_bbox_head_multi_level_cls_convs_1_1_bn_num_batches_tracked, ema_detector_bbox_head_multi_level_cls_convs_2_0_conv_weight, ema_detector_bbox_head_multi_level_cls_convs_2_0_bn_weight, ema_detector_bbox_head_multi_level_cls_convs_2_0_bn_bias, ema_detector_bbox_head_multi_level_cls_convs_2_0_bn_running_mean, ema_detector_bbox_head_multi_level_cls_convs_2_0_bn_running_var, ema_detector_bbox_head_multi_level_cls_convs_2_0_bn_num_batches_tracked, ema_detector_bbox_head_multi_level_cls_convs_2_1_conv_weight, ema_detector_bbox_head_multi_level_cls_convs_2_1_bn_weight, ema_detector_bbox_head_multi_level_cls_convs_2_1_bn_bias, ema_detector_bbox_head_multi_level_cls_convs_2_1_bn_running_mean, ema_detector_bbox_head_multi_level_cls_convs_2_1_bn_running_var, ema_detector_bbox_head_multi_level_cls_convs_2_1_bn_num_batches_tracked, ema_detector_bbox_head_multi_level_reg_convs_0_0_conv_weight, ema_detector_bbox_head_multi_level_reg_convs_0_0_bn_weight, ema_detector_bbox_head_multi_level_reg_convs_0_0_bn_bias, ema_detector_bbox_head_multi_level_reg_convs_0_0_bn_running_mean, ema_detector_bbox_head_multi_level_reg_convs_0_0_bn_running_var, ema_detector_bbox_head_multi_level_reg_convs_0_0_bn_num_batches_tracked, ema_detector_bbox_head_multi_level_reg_convs_0_1_conv_weight, ema_detector_bbox_head_multi_level_reg_convs_0_1_bn_weight, ema_detector_bbox_head_multi_level_reg_convs_0_1_bn_bias, ema_detector_bbox_head_multi_level_reg_convs_0_1_bn_running_mean, ema_detector_bbox_head_multi_level_reg_convs_0_1_bn_running_var, ema_detector_bbox_head_multi_level_reg_convs_0_1_bn_num_batches_tracked, ema_detector_bbox_head_multi_level_reg_convs_1_0_conv_weight, ema_detector_bbox_head_multi_level_reg_convs_1_0_bn_weight, ema_detector_bbox_head_multi_level_reg_convs_1_0_bn_bias, ema_detector_bbox_head_multi_level_reg_convs_1_0_bn_running_mean, ema_detector_bbox_head_multi_level_reg_convs_1_0_bn_running_var, ema_detector_bbox_head_multi_level_reg_convs_1_0_bn_num_batches_tracked, ema_detector_bbox_head_multi_level_reg_convs_1_1_conv_weight, ema_detector_bbox_head_multi_level_reg_convs_1_1_bn_weight, ema_detector_bbox_head_multi_level_reg_convs_1_1_bn_bias, ema_detector_bbox_head_multi_level_reg_convs_1_1_bn_running_mean, ema_detector_bbox_head_multi_level_reg_convs_1_1_bn_running_var, ema_detector_bbox_head_multi_level_reg_convs_1_1_bn_num_batches_tracked, ema_detector_bbox_head_multi_level_reg_convs_2_0_conv_weight, ema_detector_bbox_head_multi_level_reg_convs_2_0_bn_weight, ema_detector_bbox_head_multi_level_reg_convs_2_0_bn_bias, ema_detector_bbox_head_multi_level_reg_convs_2_0_bn_running_mean, ema_detector_bbox_head_multi_level_reg_convs_2_0_bn_running_var, ema_detector_bbox_head_multi_level_reg_convs_2_0_bn_num_batches_tracked, ema_detector_bbox_head_multi_level_reg_convs_2_1_conv_weight, ema_detector_bbox_head_multi_level_reg_convs_2_1_bn_weight, ema_detector_bbox_head_multi_level_reg_convs_2_1_bn_bias, ema_detector_bbox_head_multi_level_reg_convs_2_1_bn_running_mean, ema_detector_bbox_head_multi_level_reg_convs_2_1_bn_running_var, ema_detector_bbox_head_multi_level_reg_convs_2_1_bn_num_batches_tracked, ema_detector_bbox_head_multi_level_conv_cls_0_weight, ema_detector_bbox_head_multi_level_conv_cls_0_bias, ema_detector_bbox_head_multi_level_conv_cls_1_weight, ema_detector_bbox_head_multi_level_conv_cls_1_bias, ema_detector_bbox_head_multi_level_conv_cls_2_weight, ema_detector_bbox_head_multi_level_conv_cls_2_bias, ema_detector_bbox_head_multi_level_conv_reg_0_weight, ema_detector_bbox_head_multi_level_conv_reg_0_bias, ema_detector_bbox_head_multi_level_conv_reg_1_weight, ema_detector_bbox_head_multi_level_conv_reg_1_bias, ema_detector_bbox_head_multi_level_conv_reg_2_weight, ema_detector_bbox_head_multi_level_conv_reg_2_bias, ema_detector_bbox_head_multi_level_conv_obj_0_weight, ema_detector_bbox_head_multi_level_conv_obj_0_bias, ema_detector_bbox_head_multi_level_conv_obj_1_weight, ema_detector_bbox_head_multi_level_conv_obj_1_bias, ema_detector_bbox_head_multi_level_conv_obj_2_weight, ema_detector_bbox_head_multi_level_conv_obj_2_bias\n",
      "\n",
      "../cache/analysis_tracking/session_matching_info/classinsight-cmu_05748A_ghc_4101_201902141630-front/S0_19868_19968_0_1_3_4_5_7_8_10_12_14_16_17_20_21.mp4\n",
      "[>>>>>>>>>>>>>>>>>>>>>>>>>>>>>>>>>] 34/34, 6.5 task/s, elapsed: 5s, ETA:     0s\n",
      "Done for segment S0_19868_19968_0_1_3_4_5_7_8_10_12_14_16_17_20_21\n",
      "../cache/analysis_tracking/session_matching_info/classinsight-cmu_05748A_ghc_4101_201902141630-front/S1_39946_40046_26_28.mp4\n",
      "[>>>>>>>>>>>>>>>>>>>>>>>>>>>>>>>>>] 33/33, 6.5 task/s, elapsed: 5s, ETA:     0s\n",
      "Done for segment S1_39946_40046_26_28\n",
      "../cache/analysis_tracking/session_matching_info/classinsight-cmu_05748A_ghc_4101_201902141630-front/S2_52345_52445_6_31.mp4\n",
      "[>>>>>>>>>>>>>>>>>>>>>>>>>>>>>>>>>] 33/33, 6.5 task/s, elapsed: 5s, ETA:     0s\n",
      "Done for segment S2_52345_52445_6_31\n",
      "../cache/analysis_tracking/session_matching_info/classinsight-cmu_05748A_ghc_4101_201902141630-front/S3_2321_2421_11_13.mp4\n",
      "[>>>>>>>>>>>>>>>>>>>>>>>>>>>>>>>>>] 34/34, 6.6 task/s, elapsed: 5s, ETA:     0s\n",
      "Done for segment S3_2321_2421_11_13\n",
      "../cache/analysis_tracking/session_matching_info/classinsight-cmu_05748A_ghc_4101_201902141630-front/S4_25909_26009_23.mp4\n",
      "[>>>>>>>>>>>>>>>>>>>>>>>>>>>>>>>>>] 33/33, 6.5 task/s, elapsed: 5s, ETA:     0s\n",
      "Done for segment S4_25909_26009_23\n",
      "../cache/analysis_tracking/session_matching_info/classinsight-cmu_05748A_ghc_4101_201902141630-front/S5_48335_48435_30.mp4\n",
      "[>>>>>>>>>>>>>>>>>>>>>>>>>>>>>>>>>] 34/34, 6.5 task/s, elapsed: 5s, ETA:     0s\n",
      "Done for segment S5_48335_48435_30\n",
      "../cache/analysis_tracking/session_matching_info/classinsight-cmu_05748A_ghc_4101_201902141630-front/S6_38810_38910_27.mp4\n",
      "[>>>>>>>>>>>>>>>>>>>>>>>>>>>>>>>>>] 34/34, 6.6 task/s, elapsed: 5s, ETA:     0s\n",
      "Done for segment S6_38810_38910_27\n",
      "../cache/analysis_tracking/session_matching_info/classinsight-cmu_05748A_ghc_4101_201902141630-front/S7_12622_12722_19.mp4\n",
      "[>>>>>>>>>>>>>>>>>>>>>>>>>>>>>>>>>] 33/33, 6.8 task/s, elapsed: 5s, ETA:     0s\n",
      "Done for segment S7_12622_12722_19\n",
      "../cache/analysis_tracking/session_matching_info/classinsight-cmu_05748A_ghc_4101_201902141630-front/S8_65488_65588_9_18_32_35_36.mp4\n",
      "[>>>>>>>>>>>>>>>>>>>>>>>>>>>>>>>>>] 33/33, 6.7 task/s, elapsed: 5s, ETA:     0s\n",
      "Done for segment S8_65488_65588_9_18_32_35_36\n",
      "../cache/analysis_tracking/session_matching_info/classinsight-cmu_05748A_ghc_4101_201902141630-front/S9_23069_23169_22.mp4\n",
      "[>>>>>>>>>>>>>>>>>>>>>>>>>>>>>>>>>] 34/34, 6.8 task/s, elapsed: 5s, ETA:     0s\n",
      "Done for segment S9_23069_23169_22\n",
      "../cache/analysis_tracking/session_matching_info/classinsight-cmu_05748A_ghc_4101_201902141630-front/S10_58949_59049_34.mp4\n",
      "[>>>>>>>>>>>>>>>>>>>>>>>>>>>>>>>>>] 34/34, 6.5 task/s, elapsed: 5s, ETA:     0s\n",
      "Done for segment S10_58949_59049_34\n",
      "../cache/analysis_tracking/session_matching_info/classinsight-cmu_05748A_ghc_4101_201902141630-front/S11_5119_5219_15.mp4\n",
      "[>>>>>>>>>>>>>>>>>>>>>>>>>>>>>>>>>] 33/33, 6.6 task/s, elapsed: 5s, ETA:     0s\n",
      "Done for segment S11_5119_5219_15\n",
      "../cache/analysis_tracking/session_matching_info/classinsight-cmu_05748A_ghc_4101_201902141630-front/S12_61396_61496_2_33.mp4\n",
      "[>>>>>>>>>>>>>>>>>>>>>>>>>>>>>>>>>] 33/33, 6.5 task/s, elapsed: 5s, ETA:     0s\n",
      "Done for segment S12_61396_61496_2_33\n",
      "../cache/analysis_tracking/session_matching_info/classinsight-cmu_05748A_ghc_4101_201902141630-front/S13_44719_44819_29.mp4\n",
      "[>>>>>>>>>>>>>>>>>>>>>>>>>>>>>>>>>] 33/33, 6.6 task/s, elapsed: 5s, ETA:     0s\n",
      "Done for segment S13_44719_44819_29\n",
      "../cache/analysis_tracking/session_matching_info/classinsight-cmu_05748A_ghc_4101_201902141630-front/S14_30140_30240_24.mp4\n",
      "[>>>>>>>>>>>>>>>>>>>>>>>>>>>>>>>>>] 34/34, 6.4 task/s, elapsed: 5s, ETA:     0s\n",
      "Done for segment S14_30140_30240_24\n",
      "../cache/analysis_tracking/session_matching_info/classinsight-cmu_05748A_ghc_4101_201902141630-front/S15_35452_35552_25.mp4\n",
      "[>>>>>>>>>>>>>>>>>>>>>>>>>>>>>>>>>] 33/33, 6.4 task/s, elapsed: 5s, ETA:     0s\n",
      "Done for segment S15_35452_35552_25\n"
     ]
    }
   ],
   "source": [
    "if tracking_model:\n",
    "    printm(\"# Deleting Previous Model\")\n",
    "    del tracking_model\n",
    "tracking_model = init_tracking_model(run_config['track_config'],\n",
    "                                 run_config['track_checkpoint'],\n",
    "                                 device=run_config['device'])\n",
    "for seg_idx, (seg_start, seg_end, new_ids_covered, segment_frames) in enumerate(segments):\n",
    "    seg_video_id = f'S{seg_idx}_{int(seg_start)}_{int(seg_end)}_{\"_\".join(map(str,new_ids_covered))}'\n",
    "    match_cache_dir = f'{session_id_viz_dir}/{seg_video_id}'\n",
    "    match_video_file = f'{session_id_viz_dir}/{seg_video_id}.mp4'\n",
    "    if os.path.exists(match_video_file):\n",
    "        continue\n",
    "    print(match_video_file)\n",
    "    os.makedirs(match_cache_dir, exist_ok=True)\n",
    "    frame_num=0\n",
    "\n",
    "    for frame_idx in segment_frames:\n",
    "        frame_tracking_file = f\"{session_frame_dir}/{frame_idx}.pb\"\n",
    "        if os.path.exists(frame_tracking_file) and (frame_idx in frame_data_dict):\n",
    "            frame_file_out = os.path.join(match_cache_dir, f'{frame_num:06d}.jpg')\n",
    "            frame_num+=1\n",
    "            if os.path.exists(frame_file_out):\n",
    "                continue\n",
    "            frame_tracking_results = pickle.load(open(frame_tracking_file,\"rb\"))[1]\n",
    "            for person_idx in range(len(frame_tracking_results)):\n",
    "                old_id= int(frame_tracking_results[person_idx]['track_id'])\n",
    "                frame_tracking_results[person_idx]['track_id'] =old_to_new_id_map[old_id]\n",
    "            frame_img = deepcopy(frame_data_dict[frame_idx])\n",
    "            if len(frame_tracking_results)>0:\n",
    "                frame_tracking_results = {\n",
    "                    'track_bboxes':[np.array([[xr['track_id']]+xr['bbox'].tolist() for xr in frame_tracking_results])],\n",
    "                    'det_bboxes':[np.array([xr['bbox'].tolist() for xr in frame_tracking_results])]}\n",
    "                frame_track_img = tracking_model.show_result(\n",
    "                    frame_img,\n",
    "                    frame_tracking_results,\n",
    "                    thickness=5,\n",
    "                    font_scale=.5,\n",
    "                    score_thr=0.1,\n",
    "                    show=False,\n",
    "                    wait_time=int(1000. / 5),\n",
    "                    out_file=frame_file_out,\n",
    "                    backend='cv2')\n",
    "            else:\n",
    "                cv2.imwrite(frame_file_out,frame_img)\n",
    "    \n",
    "    #         break\n",
    "    # break\n",
    "    mmcv.frames2video(match_cache_dir, match_video_file, fps=5, fourcc='mp4v')\n",
    "    print(f\"Done for segment {seg_video_id}\")\n",
    "    # break\n",
    "    \n",
    "    "
   ]
  },
  {
   "cell_type": "code",
   "execution_count": 65,
   "id": "05dd4477-a054-4342-9611-4df6e66e6953",
   "metadata": {},
   "outputs": [
    {
     "data": {
      "text/plain": [
       "'/mnt/ci-nas-cache/edulyzeV2/cache_compute_4//analysis_tracking/session_matching_info'"
      ]
     },
     "execution_count": 65,
     "metadata": {},
     "output_type": "execute_result"
    }
   ],
   "source": [
    "id_viz_cache_root\n"
   ]
  },
  {
   "cell_type": "markdown",
   "id": "5a398454-cb03-480a-9d8a-2f151a034554",
   "metadata": {},
   "source": [
    "# Run visualization code on all sessions\n"
   ]
  },
  {
   "cell_type": "code",
   "execution_count": null,
   "id": "bc50dbb6-3652-4358-b63a-2bcd727dcebd",
   "metadata": {},
   "outputs": [
    {
     "data": {
      "text/markdown": [
       "# 0-05410A, session:0-classinsight-cmu_05410A_ghc_4301_201902181500-front"
      ],
      "text/plain": [
       "<IPython.core.display.Markdown object>"
      ]
     },
     "metadata": {},
     "output_type": "display_data"
    },
    {
     "data": {
      "text/markdown": [
       "## Get preprocessed tracking ids..."
      ],
      "text/plain": [
       "<IPython.core.display.Markdown object>"
      ]
     },
     "metadata": {},
     "output_type": "display_data"
    }
   ],
   "source": [
    "SOURCE_ROOT = '/home/prasoon/video_analysis/edusenseV2compute/compute/videoV3'\n",
    "run_config = {\n",
    "    'track_config':f'{SOURCE_ROOT}/configs/mmlab/ocsort_yolox_x_crowdhuman_mot17-private-half.py',\n",
    "    'track_checkpoint':f'{SOURCE_ROOT}/models/mmlab/ocsort_yolox_x_crowdhuman_mot17-private-half_20220813_101618-fe150582.pth',\n",
    "    'device':'cuda:1',\n",
    "}\n",
    "\n",
    "for course_idx, course in enumerate(frame_file_data):\n",
    "    for session_idx, session_id in enumerate(frame_file_data[course]):\n",
    "        session_id_viz_dir = f'{id_viz_cache_root}/{session_id}'\n",
    "        if not os.path.exists(session_id_viz_dir):\n",
    "            \n",
    "            session_tracking_cache_file = f\"{track_analysis_session_data}/{session_id}.pb\"\n",
    "            session_preprocessed_id_map_file = f\"{postprocessed_id_map_data_dir}/{session_id}.pb\"\n",
    "            session_frame_dir = f'/mnt/ci-nas-cache/edulyzeV2/pose_face_gaze_emb/{course}/{session_id}'\n",
    "            session_video_file = f'/mnt/ci-nas-classes/classinsight/2019S/video_backup/{session_id.split(\"-front\")[0]}/{session_id}.avi'\n",
    "            printm(f'# {course_idx}-{course}, session:{session_idx}-{session_id}')\n",
    "            printm(\"## Get preprocessed tracking ids...\")\n",
    "            \n",
    "            df_tracking_new = pickle.load(open(session_tracking_cache_file,\"rb\")).transpose()\n",
    "            old_to_new_id_map = pickle.load(open(session_preprocessed_id_map_file,\"rb\"))\n",
    "            total_idxs = df_tracking_new.index.max()\n",
    "            for old_id in old_to_new_id_map:\n",
    "                new_id = old_to_new_id_map[old_id]\n",
    "                if not new_id==10000:\n",
    "                    new_id_col = f'N{new_id}'\n",
    "                    if new_id_col not in df_tracking_new:\n",
    "                        df_tracking_new[new_id_col] = None\n",
    "                    df_tracking_new[new_id_col] =  df_tracking_new[old_id].where(~df_tracking_new[old_id].isnull(), df_tracking_new[old_id])\n",
    "                df_tracking_new = df_tracking_new.drop(old_id, axis=1)\n",
    "\n",
    "            col_start_stop_idxs = []\n",
    "            for col in df_tracking_new.columns:\n",
    "                one_idxs = df_tracking_new.index[np.where(df_tracking_new[col]==1)[0]].values\n",
    "                col_start_stop_idxs.append([col, one_idxs.min(), one_idxs.max()])\n",
    "            df_id_start_stop = pd.DataFrame(col_start_stop_idxs, columns=['id','min_idx','max_idx'])\n",
    "            df_id_start_stop['total_idxs'] = df_id_start_stop['max_idx']-df_id_start_stop['min_idx']\n",
    "            df_id_start_stop['id'] = df_id_start_stop['id'].apply(lambda x: int(x[1:]))\n",
    "            \n",
    "            printm(f\"## Get segments to visualize from {df_tracking_new.shape[1]} tracking ids...\")\n",
    "            session_frames = df_tracking_new.index.values.tolist()\n",
    "            session_ids_covered = []\n",
    "            selected_frames = []\n",
    "            segments = []\n",
    "            segment_half_size = 50\n",
    "            for row_idx, row in df_id_start_stop.sort_values(by='total_idxs').iterrows():\n",
    "                id_start, id_stop = row['min_idx'],row['max_idx']\n",
    "                seg_mid = (id_start+id_stop)/2\n",
    "                seg_start, seg_end = max(seg_mid-segment_half_size, 0), min(seg_mid+segment_half_size, total_idxs)\n",
    "                is_id_covered = df_id_start_stop.apply(lambda row: (seg_end<=row['max_idx']) & (seg_start>=row['min_idx']),axis=1)\n",
    "                seg_ids_covered = df_id_start_stop[is_id_covered]['id']\n",
    "                new_ids_covered = [xr for xr in seg_ids_covered if xr not in session_ids_covered]\n",
    "                if len(new_ids_covered)>0:        \n",
    "                    segment_frames = [xr for xr in session_frames if ((xr>=seg_start) and (xr<=seg_end))]\n",
    "                    selected_frames+=segment_frames\n",
    "                    segments.append((seg_start, seg_end, new_ids_covered, segment_frames))\n",
    "                    session_ids_covered+=new_ids_covered\n",
    "            printm(f\"## Got {len(segments)} segments to visualize...\")\n",
    "\n",
    "            printm(f\"## Get video frames from session video file for segment frames...\")\n",
    "            all_frames = mmcv.VideoReader(session_video_file)\n",
    "            required_frame_ids = np.unique(sorted(selected_frames))\n",
    "            frame_data_dict = dict()\n",
    "            \n",
    "            for frame_idx, frame_img in enumerate(all_frames):\n",
    "                if (frame_idx in required_frame_ids) & (frame_idx%3==0):\n",
    "                    frame_data_dict[frame_idx] = frame_img\n",
    "                if frame_idx%1000==0:\n",
    "                    print(f\"Looped {frame_idx} images\")\n",
    "            printm(f\"## Got {len(frame_data_dict.keys())} video frames from session video file...\")\n",
    "\n",
    "            printm(f\"## Create segment videos with new tracking ids...\")\n",
    "            os.makedirs(session_id_viz_dir, exist_ok=True)\n",
    "            tracking_model = init_tracking_model(run_config['track_config'],\n",
    "                                             run_config['track_checkpoint'],\n",
    "                                             device=run_config['device'])\n",
    "            for seg_idx, (seg_start, seg_end, new_ids_covered, segment_frames) in enumerate(segments):\n",
    "                seg_video_id = f'S{seg_idx}_{int(seg_start)}_{int(seg_end)}_{\"_\".join(map(str,new_ids_covered))}'\n",
    "                match_cache_dir = f'{session_id_viz_dir}/{seg_video_id}'\n",
    "                match_video_file = f'{session_id_viz_dir}/{seg_video_id}.mp4'\n",
    "                if os.path.exists(match_video_file):\n",
    "                    continue\n",
    "                print(match_video_file)\n",
    "                os.makedirs(match_cache_dir, exist_ok=True)\n",
    "                frame_num=0\n",
    "            \n",
    "                for frame_idx in segment_frames:\n",
    "                    frame_tracking_file = f\"{session_frame_dir}/{frame_idx}.pb\"\n",
    "                    if os.path.exists(frame_tracking_file) and (frame_idx in frame_data_dict):\n",
    "                        frame_file_out = os.path.join(match_cache_dir, f'{frame_num:06d}.jpg')\n",
    "                        frame_num+=1\n",
    "                        if os.path.exists(frame_file_out):\n",
    "                            continue\n",
    "                        frame_tracking_results = pickle.load(open(frame_tracking_file,\"rb\"))[1]\n",
    "                        for person_idx in range(len(frame_tracking_results)):\n",
    "                            old_id= int(frame_tracking_results[person_idx]['track_id'])\n",
    "                            frame_tracking_results[person_idx]['track_id'] =old_to_new_id_map[old_id]\n",
    "                        frame_img = deepcopy(frame_data_dict[frame_idx])\n",
    "                        if len(frame_tracking_results)>0:\n",
    "                            frame_tracking_results = {\n",
    "                                'track_bboxes':[np.array([[xr['track_id']]+xr['bbox'].tolist() for xr in frame_tracking_results])],\n",
    "                                'det_bboxes':[np.array([xr['bbox'].tolist() for xr in frame_tracking_results])]}\n",
    "                            frame_track_img = tracking_model.show_result(\n",
    "                                frame_img,\n",
    "                                frame_tracking_results,\n",
    "                                thickness=5,\n",
    "                                font_scale=.5,\n",
    "                                score_thr=0.1,\n",
    "                                show=False,\n",
    "                                wait_time=int(1000. / 5),\n",
    "                                out_file=frame_file_out,\n",
    "                                backend='cv2')\n",
    "                        else:\n",
    "                            cv2.imwrite(frame_file_out,frame_img)\n",
    "                mmcv.frames2video(match_cache_dir, match_video_file, fps=5, fourcc='mp4v')\n",
    "                print(f\"Done for segment {seg_video_id}\")\n",
    "            del tracking_model\n",
    "            printm(f\"## Created Segment Visualization for session: {course_idx}-{course}, session:{session_idx}-{session_id} from {len(old_to_new_id_map.keys())} to {df_id_start_stop.shape[0]} ids\")\n",
    "        else:\n",
    "            printm(f\"## Segement visualization directory EXISTS for session: {course_idx}-{course}, session:{session_idx}-{session_id}\")\n",
    "            \n",
    "        \n",
    "        "
   ]
  },
  {
   "cell_type": "code",
   "execution_count": 6,
   "id": "b2a688fb-6c62-4f33-9bd4-616d70db613b",
   "metadata": {},
   "outputs": [
    {
     "data": {
      "text/plain": [
       "'/mnt/ci-nas-classes/classinsight/2019S/video_backup/classinsight-cmu_05410A_ghc_4301_201902251500/classinsight-cmu_05410A_ghc_4301_201902251500-front.avi'"
      ]
     },
     "execution_count": 6,
     "metadata": {},
     "output_type": "execute_result"
    }
   ],
   "source": [
    "session_video_file\n"
   ]
  },
  {
   "cell_type": "code",
   "execution_count": null,
   "id": "33f0eea6-acad-433b-829c-7de6fd98e213",
   "metadata": {},
   "outputs": [],
   "source": []
  }
 ],
 "metadata": {
  "kernelspec": {
   "display_name": "classid",
   "language": "python",
   "name": "python3"
  },
  "language_info": {
   "codemirror_mode": {
    "name": "ipython",
    "version": 3
   },
   "file_extension": ".py",
   "mimetype": "text/x-python",
   "name": "python",
   "nbconvert_exporter": "python",
   "pygments_lexer": "ipython3",
   "version": "3.8.20"
  }
 },
 "nbformat": 4,
 "nbformat_minor": 5
}

{
 "cells": [
  {
   "cell_type": "code",
   "execution_count": null,
   "id": "13f1bf94-25d4-4ed1-bddd-bc3309763692",
   "metadata": {},
   "outputs": [],
   "source": [
    "import numpy as np\n",
    "import pandas as pd\n",
    "import scipy.stats\n",
    "\n",
    "pd.options.mode.chained_assignment = None\n",
    "from matplotlib import pyplot as plt, rcParams\n",
    "# import cv2\n",
    "import seaborn as sns\n",
    "\n",
    "sns.set(style=\"white\", context=\"paper\")\n",
    "from cycler import cycler\n",
    "import os, sys\n",
    "import glob\n",
    "from datetime import datetime, timedelta\n",
    "from itertools import combinations, product\n",
    "import base64\n",
    "from PIL import Image\n",
    "from io import BytesIO as _BytesIO\n",
    "import requests\n",
    "import json\n",
    "import pickle\n",
    "from datetime import datetime\n",
    "from IPython.display import display, Markdown, Latex\n",
    "from sklearn.metrics import *\n",
    "import collections\n",
    "from copy import deepcopy\n",
    "import traceback\n",
    "from sympy import Point, Polygon\n",
    "from decorators import *\n",
    "from smartprint import smartprint as sprint\n",
    "from scipy.spatial.distance import cdist\n",
    "# import plotly\n",
    "# from pandas_profiling import ProfileReport\n",
    "\n",
    "pd.options.display.max_columns = None\n",
    "def printm(s): return display(Markdown(s))\n",
    "    \n",
    "SERVER_CACHE_DIR = '/mnt/ci-nas-cache/edulyzeV2/cache_compute_4/fixed_face'\n",
    "os.makedirs(SERVER_CACHE_DIR,exist_ok=True)\n",
    "\n",
    "track_analysis_meta_cache = f'{SERVER_CACHE_DIR}/analysis_tracking/meta_info'\n",
    "base_dir = '/mnt/ci-nas-cache/edulyzeV2/pose_face_gaze_emb_fixed_face/'\n",
    "\n",
    "track_analysis_session_data = f'{SERVER_CACHE_DIR}/analysis_tracking/session_tracking_info'\n",
    "os.makedirs(track_analysis_session_data,exist_ok=True)\n",
    "\n",
    "postprocessed_id_map_data_dir = f'{SERVER_CACHE_DIR}/analysis_tracking/processed_id_maps'\n",
    "os.makedirs(postprocessed_id_map_data_dir, exist_ok=True)\n",
    "\n",
    "id_viz_cache_root = f'{SERVER_CACHE_DIR}/analysis_tracking/session_matching_info'\n",
    "os.makedirs(id_viz_cache_root, exist_ok=True)\n"
   ]
  },
  {
   "cell_type": "code",
   "execution_count": null,
   "id": "952b2f7f-0ea6-447c-a9a6-dfd498c42f14",
   "metadata": {
    "editable": true,
    "slideshow": {
     "slide_type": ""
    },
    "tags": []
   },
   "outputs": [],
   "source": [
    "sessionA = 'classinsight-cmu_05748A_ghc_4101_201902051630'\n",
    "sessionB = 'classinsight-cmu_05748A_ghc_4101_201902141630'\n",
    "course = '05748A'\n"
   ]
  },
  {
   "cell_type": "code",
   "execution_count": null,
   "id": "175722ec-8f9f-4b40-85a8-d41ad38e787b",
   "metadata": {},
   "outputs": [],
   "source": [
    "sessionA_frame_dir = f'{base_dir}/{course}/{sessionA}-front'\n",
    "sessionB_frame_dir = f'{base_dir}/{course}/{sessionB}-front'\n"
   ]
  },
  {
   "cell_type": "markdown",
   "id": "b6410b40-d069-4aab-9000-36e08b0a0763",
   "metadata": {},
   "source": [
    "## Get embedding and gaze information for all frames for all sessions (Run if needed, commented out for now)?\n"
   ]
  },
  {
   "cell_type": "markdown",
   "id": "75185159-ce0e-439f-b41d-fba37829e865",
   "metadata": {},
   "source": [
    "## Get frame file data for all sessions\n"
   ]
  },
  {
   "cell_type": "code",
   "execution_count": null,
   "id": "61657d24-cddc-4722-bbde-b99313f4c2e6",
   "metadata": {
    "scrolled": true
   },
   "outputs": [],
   "source": [
    "\n",
    "frame_file_data = {}\n",
    "for course_idx, course_dir in enumerate(glob.glob(f\"{base_dir}/*\")):\n",
    "    course_name = course_dir.split(\"/\")[-1]\n",
    "    course_cache_file = f\"{track_analysis_meta_cache}/{course_name}\"\n",
    "    # if os.path.exists(course_cache_file):\n",
    "    #     frame_file_data[course_name] = pickle.load(open(course_cache_file,\"rb\"))\n",
    "    #     continue\n",
    "    frame_file_data[course_name]={}\n",
    "        \n",
    "    for session_idx, session_dir in enumerate(glob.glob(f\"{course_dir}/*\")):\n",
    "        session_name = session_dir.split(\"/\")[-1]\n",
    "        frame_file_data[course_name][session_name] = {}\n",
    "        frame_files = glob.glob(f\"{session_dir}/*\")\n",
    "        frame_file_names = [xr.split(\"/\")[-1] for xr in frame_files]\n",
    "        if 'end.pb' in frame_file_names:\n",
    "            frame_file_data[course_name][session_name]['is_completed']=True\n",
    "        else:\n",
    "            frame_file_data[course_name][session_name]['is_completed']=False            \n",
    "        frame_ids = [int(xr.split(\".\")[0]) for xr in frame_file_names if not (xr=='end.pb')]\n",
    "        frame_file_data[course_name][session_name]['frame_ids'] = sorted(frame_ids)\n",
    "        frame_file_data[course_name][session_name]['dir_location'] = session_dir\n",
    "        print(f\"Got metadata for course: {course_idx}-{course_name}, session:{session_idx}-{session_name}\")\n",
    "    pickle.dump(frame_file_data[course_name],open(course_cache_file,\"wb\")) \n",
    "        \n",
    "        \n",
    "frame_file_data.keys()\n"
   ]
  },
  {
   "cell_type": "code",
   "execution_count": null,
   "id": "0a0d3c5e-7b9d-4919-888b-26526be404f5",
   "metadata": {
    "scrolled": true
   },
   "outputs": [],
   "source": [
    "# writing a generic loop to get embedding info from all courses in frame file data\n",
    "emb_analysis_session_data = f'{SERVER_CACHE_DIR}/analysis_emb/session_emb_info'\n",
    "os.makedirs(emb_analysis_session_data,exist_ok=True)\n",
    "\n",
    "for course_idx, course in enumerate(frame_file_data):\n",
    "    for session_idx, session_id in enumerate(frame_file_data[course]):\n",
    "        session_emb_cache_file = f\"{emb_analysis_session_data}/{session_id}.pb\"\n",
    "        try:\n",
    "            if not os.path.exists(session_emb_cache_file):\n",
    "                session_dir = frame_file_data[course][session_id]['dir_location']\n",
    "                frame_ids = frame_file_data[course][session_id]['frame_ids']\n",
    "                session_emb_info = {}\n",
    "                for frame_id in frame_ids:\n",
    "                    frame_number, frame_data = pickle.load(open(f'{session_dir}/{frame_id}.pb','rb'))\n",
    "                    frame_emb_info = {int(person_info['track_id']):{\n",
    "                        'bbox': person_info['bbox'] if 'bbox' in person_info else None,\n",
    "                        'rvec': person_info['rvec'] if 'rvec' in person_info else None,\n",
    "                        'gaze_2d':person_info['gaze_2d'] if 'gaze_2d' in person_info else None,\n",
    "                        'face_embedding': person_info['face_embedding'] if 'face_embedding' in person_info else None,\n",
    "                    } for person_info in frame_data}\n",
    "                    session_emb_info[frame_id] = frame_emb_info\n",
    "                pickle.dump(session_emb_info, open(session_emb_cache_file,'wb'))\n",
    "                print(f\"Got emb info for session: {course_idx}-{course}, session:{session_idx}-{session_id}\")\n",
    "            else:\n",
    "                ...\n",
    "                print(f\"FILE EXISTS: emb info for session: {course_idx}-{course}, session:{session_idx}-{session_id}\")\n",
    "        except:\n",
    "            print(f\"ERROR: Unable to get session emb for: {course_idx}-{course}, session:{session_idx}-{session_id}\")\n",
    "            unfinished_sessions.append((course, session_id))\n",
    "            print(traceback.format_exc())\n",
    "    "
   ]
  },
  {
   "cell_type": "code",
   "execution_count": null,
   "id": "e2f44fe4-ecfb-4eb9-bf25-a04eb23e641a",
   "metadata": {},
   "outputs": [],
   "source": [
    "sessionA_emb_info = pickle.load(open(f'{SERVER_CACHE_DIR}/analysis_emb/session_emb_info/{sessionA}-front.pb','rb'))\n",
    "sessionB_emb_info = pickle.load(open(f'{SERVER_CACHE_DIR}/analysis_emb/session_emb_info/{sessionB}-front.pb','rb'))\n"
   ]
  },
  {
   "cell_type": "code",
   "execution_count": null,
   "id": "96cc8e78-02c2-4951-9626-8495ef4a828f",
   "metadata": {},
   "outputs": [],
   "source": [
    "sessionA_id_map = pickle.load(open(f\"{postprocessed_id_map_data_dir}/{sessionA}-front.pb\",\"rb\"))\n",
    "sessionB_id_map = pickle.load(open(f\"{postprocessed_id_map_data_dir}/{sessionB}-front.pb\",\"rb\"))\n"
   ]
  },
  {
   "cell_type": "code",
   "execution_count": null,
   "id": "54934e4d-62aa-486b-add4-71b5324c3a83",
   "metadata": {},
   "outputs": [],
   "source": [
    "sessionB_id_map[1295]\n"
   ]
  },
  {
   "cell_type": "code",
   "execution_count": null,
   "id": "fe6f78e7-726e-4911-81cb-eb5fa276eb10",
   "metadata": {},
   "outputs": [],
   "source": [
    "sessionA_video_file = f'/mnt/ci-nas-classes/classinsight/2019S/video_backup/{sessionA}/{sessionA}-front.avi'\n",
    "sessionB_video_file = f'/mnt/ci-nas-classes/classinsight/2019S/video_backup/{sessionB}/{sessionB}-front.avi'\n"
   ]
  },
  {
   "cell_type": "markdown",
   "id": "4dc4d4f6-26fd-4fcb-a363-2e0aa4e101d8",
   "metadata": {},
   "source": [
    "## Replace raw ids with mapped ids for both sessions\n"
   ]
  },
  {
   "cell_type": "code",
   "execution_count": null,
   "id": "003a4f0e-a807-48bd-86c6-ba4f30ffe5b2",
   "metadata": {},
   "outputs": [],
   "source": [
    "sessionA_emb_info = {\n",
    "    xr:{\n",
    "        sessionA_id_map[yr]:sessionA_emb_info[xr][yr] \n",
    "            for yr in sessionA_emb_info[xr] if not (sessionA_id_map[yr]==10000)} for xr in sessionA_emb_info}\n"
   ]
  },
  {
   "cell_type": "code",
   "execution_count": null,
   "id": "4ddb7c7b-94bf-4a4d-b88f-dfe9ea82fa89",
   "metadata": {},
   "outputs": [],
   "source": [
    "sessionB_emb_info = {\n",
    "    xr:{\n",
    "        sessionB_id_map[yr]:sessionB_emb_info[xr][yr] \n",
    "            for yr in sessionB_emb_info[xr] if not (sessionB_id_map[yr]==10000)} for xr in sessionB_emb_info}\n"
   ]
  },
  {
   "cell_type": "code",
   "execution_count": null,
   "id": "003886f4-1d8e-445e-b4d8-0853e4a8dc0d",
   "metadata": {},
   "outputs": [],
   "source": [
    "len(sessionA_emb_info.keys()), len(sessionB_emb_info.keys())\n"
   ]
  },
  {
   "cell_type": "code",
   "execution_count": null,
   "id": "86527801-3424-4360-8dc5-444a2387e09c",
   "metadata": {
    "scrolled": true
   },
   "outputs": [],
   "source": [
    "# sessionA_emb_info[0][1]['face_embedding'].tolist()\n"
   ]
  },
  {
   "cell_type": "code",
   "execution_count": null,
   "id": "f03202d1-f1e8-4129-8805-713f4aefbc57",
   "metadata": {},
   "outputs": [],
   "source": [
    "# arrange info as per tracking id across both sessions\n",
    "# pitch, roll, yaw= sessionA_emb_info[0][9]['rvec'][0]\n",
    "gaze_infoA = {}\n",
    "emb_infoA = {}\n",
    "for frame_number in sessionA_emb_info:\n",
    "    for trackId in sessionA_emb_info[frame_number]:\n",
    "        if trackId not in gaze_infoA:\n",
    "            gaze_infoA[trackId] = []\n",
    "            emb_infoA[trackId]=[]\n",
    "        # get  gaze info\n",
    "        try:\n",
    "            pitch, roll, yaw= sessionA_emb_info[frame_number][trackId]['rvec'][0]\n",
    "            pitch, roll, yaw=np.rad2deg(pitch), np.rad2deg(roll), np.rad2deg(yaw)\n",
    "            gaze_sx, gaze_sy, gaze_ex, gaze_ey = sessionA_emb_info[frame_number][trackId]['gaze_2d'][0].flatten()\n",
    "            gaze_infoA[trackId].append([frame_number, pitch, roll, yaw, gaze_sx, gaze_sy, gaze_ex, gaze_ey])\n",
    "            face_emb = sessionA_emb_info[frame_number][trackId]['face_embedding'].tolist()\n",
    "            emb_infoA[trackId].append([frame_number]+face_emb)\n",
    "        except:\n",
    "            continue\n",
    "\n",
    "for id in gaze_infoA:\n",
    "    gaze_infoA[id] = pd.DataFrame(gaze_infoA[id], columns=['frame','pitch','roll','yaw','gaze_sx', 'gaze_sy', 'gaze_ex', 'gaze_ey']).set_index('frame')\n",
    "    emb_infoA[id] =pd.DataFrame(emb_infoA[id], columns=['frame']+np.arange(512).tolist()).set_index('frame')\n",
    "\n",
    "gaze_infoB = {}\n",
    "emb_infoB = {}\n",
    "for frame_number in sessionB_emb_info:\n",
    "    for trackId in sessionB_emb_info[frame_number]:\n",
    "        if trackId not in gaze_infoB:\n",
    "            gaze_infoB[trackId] = []\n",
    "            emb_infoB[trackId]=[]\n",
    "        # get  gaze info\n",
    "        try:\n",
    "            pitch, roll, yaw= sessionB_emb_info[frame_number][trackId]['rvec'][0]    \n",
    "            gaze_sx, gaze_sy, gaze_ex, gaze_ey = sessionB_emb_info[frame_number][trackId]['gaze_2d'][0].flatten()\n",
    "            pitch, roll, yaw=np.rad2deg(pitch), np.rad2deg(roll), np.rad2deg(yaw)\n",
    "            gaze_infoB[trackId].append([frame_number, pitch, roll, yaw, gaze_sx, gaze_sy, gaze_ex, gaze_ey])\n",
    "            face_emb = sessionB_emb_info[frame_number][trackId]['face_embedding'].tolist()\n",
    "            emb_infoB[trackId].append([frame_number]+face_emb)\n",
    "        except:\n",
    "            continue\n",
    "\n",
    "\n",
    "for id in gaze_infoB:\n",
    "    gaze_infoB[id] = pd.DataFrame(gaze_infoB[id], columns=['frame','pitch','roll','yaw','gaze_sx', 'gaze_sy', 'gaze_ex', 'gaze_ey']).set_index('frame')\n",
    "    emb_infoB[id] =pd.DataFrame(emb_infoB[id], columns=['frame']+np.arange(512).tolist()).set_index('frame')\n",
    "\n",
    "len(gaze_infoA.keys()), len(gaze_infoB.keys())\n"
   ]
  },
  {
   "cell_type": "code",
   "execution_count": null,
   "id": "c296f535-9459-42c5-a022-eb2a430e51be",
   "metadata": {
    "scrolled": true
   },
   "outputs": [],
   "source": [
    "sprint({xr:(gaze_infoA[xr].shape[0],emb_infoA[xr].shape[0]) for xr in emb_infoA})\n"
   ]
  },
  {
   "cell_type": "code",
   "execution_count": null,
   "id": "1078bcdf-4d5c-4db2-9cdd-75fdd3170a9b",
   "metadata": {},
   "outputs": [],
   "source": [
    "sprint({xr:(gaze_infoB[xr].shape[0],emb_infoB[xr].shape[0]) for xr in emb_infoB})\n"
   ]
  },
  {
   "cell_type": "code",
   "execution_count": null,
   "id": "1ecd3ee2-a0dc-408d-aeef-792dc4351eaf",
   "metadata": {
    "collapsed": true,
    "jupyter": {
     "outputs_hidden": true,
     "source_hidden": true
    },
    "scrolled": true
   },
   "outputs": [],
   "source": [
    "sprint({xr:(gaze_infoA[xr].shape[0],emb_infoA[xr].shape[0]) for xr in emb_infoA})\n"
   ]
  },
  {
   "cell_type": "code",
   "execution_count": null,
   "id": "1900a18a-8fd6-4d90-8581-d3db0ef48452",
   "metadata": {
    "collapsed": true,
    "jupyter": {
     "outputs_hidden": true,
     "source_hidden": true
    },
    "scrolled": true
   },
   "outputs": [],
   "source": [
    "sprint({xr:(gaze_infoB[xr].shape[0],emb_infoB[xr].shape[0]) for xr in emb_infoB})\n"
   ]
  },
  {
   "cell_type": "markdown",
   "id": "c7fcf2db-b410-4c7b-ade3-b0316873021b",
   "metadata": {},
   "source": [
    "### Finer debugging\n"
   ]
  },
  {
   "cell_type": "code",
   "execution_count": null,
   "id": "b9a64003-cc1b-40d3-aa21-ef4e05dc5f08",
   "metadata": {},
   "outputs": [],
   "source": [
    "gaze_infoA[2].head(30)\n"
   ]
  },
  {
   "cell_type": "code",
   "execution_count": null,
   "id": "37a3a45e-42b8-4841-9339-d9b9615a4848",
   "metadata": {
    "scrolled": true
   },
   "outputs": [],
   "source": [
    "frame_number, frame_data = pickle.load(open(f'{sessionA_frame_dir}/7326.pb','rb'))\n",
    "frame_data = {sessionA_id_map[int(xr['track_id'])]:xr for xr in frame_data if not (int(xr['track_id'])==10000)}\n",
    "frame_data[10]\n"
   ]
  },
  {
   "cell_type": "code",
   "execution_count": null,
   "id": "001ccc10-aae5-4485-b019-b50969c99745",
   "metadata": {},
   "outputs": [],
   "source": [
    "import mmcv\n",
    "mmcv_video_frames = mmcv.VideoReader(sessionA_video_file)\n"
   ]
  },
  {
   "cell_type": "code",
   "execution_count": null,
   "id": "ea7a9d0c-8a85-4965-9aa3-c29a26904acb",
   "metadata": {
    "collapsed": true,
    "jupyter": {
     "outputs_hidden": true
    },
    "scrolled": true
   },
   "outputs": [],
   "source": [
    "\n",
    "for frame_number, video_frame in enumerate(mmcv_video_frames):\n",
    "    print(frame_number)\n",
    "    if frame_number==174:\n",
    "        break\n"
   ]
  },
  {
   "cell_type": "code",
   "execution_count": null,
   "id": "180869f8-e2b4-44c3-b6de-070e224d42f6",
   "metadata": {},
   "outputs": [],
   "source": [
    "plt.imshow(video_frame)\n"
   ]
  },
  {
   "cell_type": "code",
   "execution_count": null,
   "id": "78f89bd8-6914-442f-9fe3-c93583b58e82",
   "metadata": {},
   "outputs": [],
   "source": [
    "sessionA_id_map[4]\n"
   ]
  },
  {
   "cell_type": "code",
   "execution_count": null,
   "id": "f629c500-b196-49e4-9f74-213c25d7a906",
   "metadata": {},
   "outputs": [],
   "source": [
    "frame_number, list(map(int, list(frame_data[0]['face'][0])))\n"
   ]
  },
  {
   "cell_type": "code",
   "execution_count": null,
   "id": "005d3bc9-8cc9-486c-8df8-a89f9115669e",
   "metadata": {
    "scrolled": true
   },
   "outputs": [],
   "source": [
    "# sprint({xr:emb_infoB[xr].shape for xr in emb_infoB})\n",
    "from facenet_pytorch import InceptionResnetV1\n",
    "facial_embedding_model = InceptionResnetV1(pretrained='vggface2',\n",
    "                                           device='cpu').eval()\n"
   ]
  },
  {
   "cell_type": "code",
   "execution_count": null,
   "id": "79b1dde7-c832-47cc-921f-88c36641b31c",
   "metadata": {},
   "outputs": [],
   "source": [
    "frame_result = frame_data[2]\n",
    "body_bbox = frame_result['bbox']\n",
    "faces = frame_result.get('face',np.array([]))\n",
    "X_TL, Y_TL, X_BR, Y_BR = body_bbox[:4].astype(int)\n",
    "X_TL, Y_TL, X_BR, Y_BR\n"
   ]
  },
  {
   "cell_type": "code",
   "execution_count": null,
   "id": "f26382e3-c95e-4eb6-9f37-0a152049568d",
   "metadata": {},
   "outputs": [],
   "source": [
    "print(faces[0])\n",
    "faces[0][0] += X_TL\n",
    "faces[0][1] += Y_TL\n",
    "faces[0][2] += X_TL\n",
    "faces[0][3] += Y_TL\n"
   ]
  },
  {
   "cell_type": "code",
   "execution_count": null,
   "id": "d9b1e8a5-0af3-47c9-aff2-24d2b2028430",
   "metadata": {},
   "outputs": [],
   "source": [
    "faces = faces[0][:4].astype(int)\n"
   ]
  },
  {
   "cell_type": "code",
   "execution_count": null,
   "id": "0e640a73-f170-43d0-b0eb-16095dc6dc6d",
   "metadata": {},
   "outputs": [],
   "source": [
    "faces\n"
   ]
  },
  {
   "cell_type": "markdown",
   "id": "dd89c298-7bd1-425c-9906-8aba05c6745d",
   "metadata": {},
   "source": [
    "# Ground truth for id matching\n"
   ]
  },
  {
   "cell_type": "code",
   "execution_count": null,
   "id": "07a7396b-523d-451d-a285-802b8507a38f",
   "metadata": {},
   "outputs": [],
   "source": [
    "gt_str = '''\n",
    "3,12\n",
    "3,36\n",
    "11,17\n",
    "30,17\n",
    "5,10\n",
    "5,35\n",
    "9,9\n",
    "1,0\n",
    "6,8\n",
    "4,8\n",
    "14,1\n",
    "16,6\n",
    "21,4\n",
    "7,2\n",
    "7,35\n",
    "0,5\n",
    "-1,20\n",
    "13,3\n",
    "32,7\n",
    "24,7\n",
    "26,7\n",
    "10,7\n",
    "19,14\n",
    "19,11\n",
    "15,-1\n",
    "2,-1\n",
    "8,-1\n",
    "-1,16\n",
    "-1,26\n",
    "-1,18\n",
    "'''\n"
   ]
  },
  {
   "cell_type": "code",
   "execution_count": null,
   "id": "e9ed4faf-58b1-45d4-9788-8309e734a1ff",
   "metadata": {},
   "outputs": [],
   "source": [
    "gt_arr = gt_str.split(\"\\n\")[1:-1]\n",
    "gt_arr = [xr.split(\",\") for xr in gt_arr]\n",
    "df_gt = pd.DataFrame(gt_arr, columns=[sessionA,sessionB])\n",
    "gt_map = df_gt.groupby(sessionA).agg({sessionB:lambda x: list(x)})[sessionB].to_dict()\n",
    "gt_map\n"
   ]
  },
  {
   "cell_type": "markdown",
   "id": "de142e7a-6958-4a28-80f8-6b3e583d21a7",
   "metadata": {
    "jp-MarkdownHeadingCollapsed": true
   },
   "source": [
    "# Method 1: Direct match between ids post filtering and median\n"
   ]
  },
  {
   "cell_type": "code",
   "execution_count": null,
   "id": "5d9890ba-d9c4-4d49-9dce-768190b5fabb",
   "metadata": {},
   "outputs": [],
   "source": [
    "idA = 9\n",
    "idB = 4\n"
   ]
  },
  {
   "cell_type": "code",
   "execution_count": null,
   "id": "7e92dee1-077d-433b-a4a2-8b870936bf05",
   "metadata": {
    "scrolled": true
   },
   "outputs": [],
   "source": [
    "framesA = gaze_infoA[idA][(gaze_infoA[idA].yaw.abs()<10) & (gaze_infoA[idA].pitch.abs()<20) & (gaze_infoA[idA].roll.abs()<20)].index.values\n",
    "framesB = gaze_infoB[idB][(gaze_infoB[idB].yaw.abs()<10) & (gaze_infoB[idB].pitch.abs()<20) & (gaze_infoB[idB].roll.abs()<20)].index.values\n",
    "len(framesA), len(framesB)\n"
   ]
  },
  {
   "cell_type": "code",
   "execution_count": null,
   "id": "4b618708-b595-4395-8be4-e917281856e4",
   "metadata": {},
   "outputs": [],
   "source": []
  },
  {
   "cell_type": "code",
   "execution_count": null,
   "id": "08200c13-7f0a-4660-9d00-4c98a2dbdebc",
   "metadata": {},
   "outputs": [],
   "source": [
    "framesA_emb = emb_infoA[idA].loc[framesA]\n",
    "framesB_emb = emb_infoB[idB].loc[framesB]\n",
    "framesA_emb.shape, framesB_emb.shape\n"
   ]
  },
  {
   "cell_type": "code",
   "execution_count": null,
   "id": "d190f00e-32a4-45ab-8fcb-a07477cb1f81",
   "metadata": {},
   "outputs": [],
   "source": [
    "medianA_emb = np.median(emb_infoA[idA].loc[framesA],axis=0)\n",
    "medianB_emb = np.median(emb_infoB[idB].loc[framesB],axis=0)\n",
    "sprint(medianA_emb.shape, medianB_emb.shape)\n",
    "sprint(cdist(medianA_emb.reshape(1,-1), medianB_emb.reshape(1,-1)))\n"
   ]
  },
  {
   "cell_type": "code",
   "execution_count": null,
   "id": "3bd2ff1e-671c-4c6b-93f1-d828d847a5b2",
   "metadata": {},
   "outputs": [],
   "source": [
    "dist_mat = cdist(framesA_emb.values, framesB_emb.values)\n",
    "dist_mat.shape, np.median(dist_mat)\n"
   ]
  },
  {
   "cell_type": "code",
   "execution_count": null,
   "id": "8b042894-06c4-4c12-a3b3-d179943626f1",
   "metadata": {},
   "outputs": [],
   "source": [
    "sns.histplot(np.mean(dist_mat,axis=1),bins=100)\n"
   ]
  },
  {
   "cell_type": "code",
   "execution_count": null,
   "id": "165cc7a3-b663-4b2a-8e1e-da9ffa653d00",
   "metadata": {},
   "outputs": [],
   "source": [
    "self_dist_matA = cdist(framesA_emb.values, framesA_emb.values,'cosine')\n",
    "sns.histplot(np.mean(self_dist_matA,axis=1),bins=100)\n"
   ]
  },
  {
   "cell_type": "code",
   "execution_count": null,
   "id": "a92791c7-2712-4965-856e-ad0300754d01",
   "metadata": {},
   "outputs": [],
   "source": [
    "self_dist_matB = cdist(framesB_emb.values, framesB_emb.values,'cosine')\n",
    "sns.histplot(np.mean(self_dist_matB,axis=1),bins=100)\n"
   ]
  },
  {
   "cell_type": "code",
   "execution_count": null,
   "id": "ec2126d0-3a2f-4206-a2be-01b8a4c04020",
   "metadata": {},
   "outputs": [],
   "source": [
    "# plot median embedding for A and B\n",
    "plt.figure(figsize=(40,10))\n",
    "plt.plot(medianA_emb)\n",
    "plt.plot(medianB_emb)\n"
   ]
  },
  {
   "cell_type": "code",
   "execution_count": null,
   "id": "9c6fdc46-428b-4b81-b923-08be285e613b",
   "metadata": {},
   "outputs": [],
   "source": []
  },
  {
   "cell_type": "markdown",
   "id": "5978f698-5ade-4d7e-8833-7ab564c71347",
   "metadata": {
    "jp-MarkdownHeadingCollapsed": true
   },
   "source": [
    "## First experiment (to be used for method 3)\n"
   ]
  },
  {
   "cell_type": "code",
   "execution_count": null,
   "id": "69f1a773-dff2-485b-bbfe-a934a980db23",
   "metadata": {},
   "outputs": [],
   "source": [
    "gaze_infoB.keys()\n"
   ]
  },
  {
   "cell_type": "code",
   "execution_count": null,
   "id": "c8fa878b-9098-4b14-bf73-569b8d9a4477",
   "metadata": {},
   "outputs": [],
   "source": [
    "gaze_infoA[0].head()\n"
   ]
  },
  {
   "cell_type": "code",
   "execution_count": null,
   "id": "64c18b13-d740-4746-9a8a-48e31d3e2bd3",
   "metadata": {},
   "outputs": [],
   "source": [
    "emb_infoA[0].head()\n"
   ]
  },
  {
   "cell_type": "code",
   "execution_count": null,
   "id": "a39c060b-874e-4160-b9a4-78635e088d47",
   "metadata": {},
   "outputs": [],
   "source": [
    "np.nanmax([gaze_infoA[xr].roll.max() for xr in gaze_infoA])\n"
   ]
  },
  {
   "cell_type": "code",
   "execution_count": null,
   "id": "770a8080-ffca-472f-8fa9-1bd306bd1a59",
   "metadata": {},
   "outputs": [],
   "source": [
    "angle_bins = np.arange(-150,330,60)\n",
    "angle_bins\n"
   ]
  },
  {
   "cell_type": "code",
   "execution_count": null,
   "id": "ce19903e-db61-4c82-bb9b-1d6f54ebaedc",
   "metadata": {},
   "outputs": [],
   "source": [
    "for id in gaze_infoA:\n",
    "    gaze_infoA[id]['roll_cat'] = [np.argmax(angle_bins>xr) for xr in gaze_infoA[id].roll]\n",
    "    gaze_infoA[id]['pitch_cat'] = [np.argmax(angle_bins>xr) for xr in gaze_infoA[id].pitch]\n",
    "    gaze_infoA[id]['yaw_cat'] = [np.argmax(angle_bins>xr) for xr in gaze_infoA[id].yaw]\n",
    "\n",
    "for id in gaze_infoB:\n",
    "    gaze_infoB[id]['roll_cat'] = [np.argmax(angle_bins>xr) for xr in gaze_infoB[id].roll]\n",
    "    gaze_infoB[id]['pitch_cat'] = [np.argmax(angle_bins>xr) for xr in gaze_infoB[id].pitch]\n",
    "    gaze_infoB[id]['yaw_cat'] = [np.argmax(angle_bins>xr) for xr in gaze_infoB[id].yaw]\n",
    "    "
   ]
  },
  {
   "cell_type": "code",
   "execution_count": null,
   "id": "c5d885e7-9247-4d5c-b67b-e44a6f167bf2",
   "metadata": {},
   "outputs": [],
   "source": [
    "# Data is ready, Now match id in one session to another session\n"
   ]
  },
  {
   "cell_type": "code",
   "execution_count": null,
   "id": "acb27f21-7ab0-4866-8ae3-d5e4e271590d",
   "metadata": {},
   "outputs": [],
   "source": [
    "df_temp = gaze_infoA[1].reset_index().groupby(['roll_cat', 'pitch_cat', 'yaw_cat'],as_index=False).agg({'frame':[lambda x: list(x), 'count']})\n",
    "df_temp.columns = ['roll_cat', 'pitch_cat', 'yaw_cat','list','count']\n",
    "df_temp = df_temp.sort_values(by='count', ascending=False)\n",
    "df_temp\n"
   ]
  },
  {
   "cell_type": "code",
   "execution_count": null,
   "id": "8b57eec0-e713-49bb-a60a-a5a7ee3c925f",
   "metadata": {
    "scrolled": true
   },
   "outputs": [],
   "source": [
    "temp_gaze_framesA = df_temp.iloc[1]['list']\n",
    "temp_roll, temp_pitch,temp_yaw= df_temp.iloc[1][['roll_cat','pitch_cat','yaw_cat']].values.tolist()\n",
    "# temp_gaze_framesA\n",
    "temp_roll, temp_pitch,temp_yaw\n"
   ]
  },
  {
   "cell_type": "code",
   "execution_count": null,
   "id": "f314d19e-47fe-431c-b274-ea207cf61404",
   "metadata": {},
   "outputs": [],
   "source": [
    "tmp_emb = emb_infoA[1][emb_infoA[1].index.isin(temp_gaze_framesA)]\n",
    "tmp_emb\n"
   ]
  },
  {
   "cell_type": "code",
   "execution_count": null,
   "id": "c1b950bf-3b12-420d-bc71-b0f2aa9ac8f6",
   "metadata": {},
   "outputs": [],
   "source": [
    "from sklearn.metrics import pairwise_distances\n"
   ]
  },
  {
   "cell_type": "code",
   "execution_count": null,
   "id": "02871452-bed6-46d8-9d6e-582a9fec408f",
   "metadata": {
    "editable": true,
    "slideshow": {
     "slide_type": ""
    },
    "tags": []
   },
   "outputs": [],
   "source": [
    "dist_mat = pairwise_distances(tmp_emb.values[:,:])\n",
    "# sns.heatmap(dist_mat)\n"
   ]
  },
  {
   "cell_type": "code",
   "execution_count": null,
   "id": "5e476fb2-0463-49e9-bca4-4db42c415c02",
   "metadata": {},
   "outputs": [],
   "source": [
    "dist_thr = np.median(np.median(dist_mat, axis=1))\n",
    "allowed_idx = np.median(dist_mat, axis=1)<dist_thr\n",
    "dist_thr\n"
   ]
  },
  {
   "cell_type": "code",
   "execution_count": null,
   "id": "d491b4c2-f128-4741-b2eb-236edad4cf72",
   "metadata": {},
   "outputs": [],
   "source": [
    "dist_mat = dist_mat[allowed_idx, :]\n",
    "dist_mat = dist_mat[:,allowed_idx]\n",
    "dist_mat.shape\n"
   ]
  },
  {
   "cell_type": "code",
   "execution_count": null,
   "id": "68df87b7-ec09-4650-b36f-21811444383c",
   "metadata": {},
   "outputs": [],
   "source": [
    "np.median(dist_mat, axis=1)<dist_thr\n",
    "dist_mat.shape\n"
   ]
  },
  {
   "cell_type": "code",
   "execution_count": null,
   "id": "d57a979a-4623-45c8-b537-e91d690266c1",
   "metadata": {},
   "outputs": [],
   "source": [
    "sns.heatmap(dist_mat)\n"
   ]
  },
  {
   "cell_type": "code",
   "execution_count": null,
   "id": "34f77d91-7c2d-4f8b-a223-d418b9c94c60",
   "metadata": {},
   "outputs": [],
   "source": [
    "gaze_infoA.keys()\n"
   ]
  },
  {
   "cell_type": "code",
   "execution_count": null,
   "id": "ae27603f-7007-4cd8-8e7d-ebd241e086da",
   "metadata": {},
   "outputs": [],
   "source": [
    "tmp_emb.values\n"
   ]
  },
  {
   "cell_type": "code",
   "execution_count": null,
   "id": "b5b0fac5-b567-46eb-9d5f-983bcd871c61",
   "metadata": {},
   "outputs": [],
   "source": [
    "dist_mat.shape\n"
   ]
  },
  {
   "cell_type": "code",
   "execution_count": null,
   "id": "779f594a-d078-4828-9a8c-87d9cf8d71c8",
   "metadata": {
    "editable": true,
    "scrolled": true,
    "slideshow": {
     "slide_type": ""
    },
    "tags": []
   },
   "outputs": [],
   "source": [
    "# get embedding matrix for all gaze categories\n",
    "@timer\n",
    "def get_emb_matrices(df_id_gaze, df_id_emb, max_dist_threshold=0.5):\n",
    "    df_gaze_cats = df_id_gaze.reset_index().groupby(['roll_cat', 'pitch_cat', 'yaw_cat'],as_index=False).agg({'frame':[lambda x: list(x), 'count']})\n",
    "    df_gaze_cats.columns = ['roll_cat', 'pitch_cat', 'yaw_cat','list','count']\n",
    "    df_gaze_cats = df_gaze_cats.sort_values(by='count', ascending=False)\n",
    "    emb_matrices = {}\n",
    "    for row_idx, row in df_gaze_cats.iterrows():\n",
    "        temp_gaze_framesA = row['list']\n",
    "        temp_roll, temp_pitch,temp_yaw= row['roll_cat'], row['pitch_cat'], row['yaw_cat']\n",
    "    \n",
    "        # get embedding matrix\n",
    "        tmp_emb = df_id_emb[df_id_emb.index.isin(temp_gaze_framesA)]\n",
    "    \n",
    "        #filter outlier embeddings\n",
    "        dist_mat = pairwise_distances(tmp_emb.values[:,:])\n",
    "        dist_thr = min(np.median(np.median(dist_mat, axis=1)), max_dist_threshold)\n",
    "        allowed_idx = np.median(dist_mat, axis=1)<dist_thr\n",
    "    \n",
    "        emb_matrix = tmp_emb.iloc[allowed_idx,:]\n",
    "        emb_matrices[(temp_roll, temp_pitch,temp_yaw)] = emb_matrix\n",
    "    return emb_matrices\n",
    "    \n",
    "\n",
    "emb_matsA = {}\n",
    "for id in gaze_infoA.keys():\n",
    "    sprint(id)\n",
    "    emb_matsA[id] = get_emb_matrices(gaze_infoA[id],emb_infoA[id])\n",
    "    # break\n"
   ]
  },
  {
   "cell_type": "code",
   "execution_count": null,
   "id": "ebee8836-489f-401c-9625-ebe4a8d3d34f",
   "metadata": {
    "editable": true,
    "scrolled": true,
    "slideshow": {
     "slide_type": ""
    },
    "tags": []
   },
   "outputs": [],
   "source": [
    "\n",
    "emb_matsB = {}\n",
    "for id in gaze_infoB.keys():\n",
    "    sprint(id)\n",
    "    emb_matsB[id] = get_emb_matrices(gaze_infoB[id],emb_infoB[id])\n"
   ]
  },
  {
   "cell_type": "code",
   "execution_count": null,
   "id": "c2b7f251-35a6-4b63-980b-5a815356ef82",
   "metadata": {},
   "outputs": [],
   "source": [
    "# matching score between different ids\n",
    "temp_s1_mats=emb_matsA[0]\n",
    "temp_s2_mats=emb_matsB[0]\n"
   ]
  },
  {
   "cell_type": "code",
   "execution_count": null,
   "id": "8d61ec9f-4a31-429b-8e7a-d5e510a5e387",
   "metadata": {
    "scrolled": true
   },
   "outputs": [],
   "source": [
    "common_keys = [xr for xr in temp_s1_mats.keys() if xr in temp_s2_mats.keys()]\n",
    "common_keys\n"
   ]
  },
  {
   "cell_type": "code",
   "execution_count": null,
   "id": "931fdf0e-64c4-4af5-9210-80d609e83c37",
   "metadata": {},
   "outputs": [],
   "source": [
    "s1_emb_mat_key = temp_s1_mats[common_keys[0]]\n",
    "s2_emb_mat_key = temp_s2_mats[common_keys[0]]\n",
    "s1_emb_mat_key.shape, s2_emb_mat_key.shape\n"
   ]
  },
  {
   "cell_type": "code",
   "execution_count": null,
   "id": "d65c73c6-09b8-4bbd-ae40-20547c70bb31",
   "metadata": {},
   "outputs": [],
   "source": [
    "from scipy.spatial.distance import cdist\n",
    "# dist_res = cdist(s1_emb_mat_key, s2_emb_mat_key)\n"
   ]
  },
  {
   "cell_type": "code",
   "execution_count": null,
   "id": "39d74f2b-5d6f-48aa-9020-610f525a7b95",
   "metadata": {},
   "outputs": [],
   "source": [
    "dist_res.shape\n"
   ]
  },
  {
   "cell_type": "code",
   "execution_count": null,
   "id": "3196b02f-1c1c-466b-a8dc-1625ebc6b798",
   "metadata": {},
   "outputs": [],
   "source": [
    "# sns.heatmap(dist_res)\n"
   ]
  },
  {
   "cell_type": "code",
   "execution_count": null,
   "id": "6b01512b-831c-4041-839b-df645d6b9f23",
   "metadata": {},
   "outputs": [],
   "source": [
    "match_score = np.median(dist_res)\n"
   ]
  },
  {
   "cell_type": "code",
   "execution_count": null,
   "id": "a60041fe-6f28-4696-ab6a-ff6dcd6de665",
   "metadata": {},
   "outputs": [],
   "source": [
    "emb_matsA.keys()\n"
   ]
  },
  {
   "cell_type": "code",
   "execution_count": null,
   "id": "0ead369d-6ac4-4775-aa9f-a746706c513e",
   "metadata": {},
   "outputs": [],
   "source": [
    "# get match scores between one single id from sessionA, and across all ids from sessionB\n",
    "temp_idA_scores = dict()\n",
    "temp_s1_mats=emb_matsA[697]\n",
    "for idB in emb_matsB:\n",
    "    temp_s2_mats = emb_matsB[idB]\n",
    "    common_keys = [xr for xr in temp_s1_mats.keys() if xr in temp_s2_mats.keys()]\n",
    "    temp_idA_scores[idB]={}\n",
    "    for gaze_key in common_keys:\n",
    "        s1_emb_mat_key = temp_s1_mats[gaze_key]\n",
    "        s2_emb_mat_key = temp_s2_mats[gaze_key]\n",
    "        dist_res = cdist(s1_emb_mat_key, s2_emb_mat_key)\n",
    "        temp_idA_scores[idB][gaze_key] = np.median(dist_res)        \n",
    "    \n"
   ]
  },
  {
   "cell_type": "code",
   "execution_count": null,
   "id": "e0773553-8e95-45e2-8947-53fd440665f5",
   "metadata": {},
   "outputs": [],
   "source": [
    "df_idA = pd.DataFrame(temp_idA_scores)\n"
   ]
  },
  {
   "cell_type": "code",
   "execution_count": null,
   "id": "57a9417d-a436-4574-a008-bac704ffccb6",
   "metadata": {
    "scrolled": true
   },
   "outputs": [],
   "source": [
    "df_idA.min().sort_values()\n"
   ]
  },
  {
   "cell_type": "code",
   "execution_count": null,
   "id": "ce267b90-a654-4805-9dc4-2be8c87d6a9f",
   "metadata": {
    "scrolled": true
   },
   "outputs": [],
   "source": [
    "df_idA.min().sort_values()\n"
   ]
  },
  {
   "cell_type": "code",
   "execution_count": null,
   "id": "24d78179-5c8b-4d1b-9831-bc1d8257600c",
   "metadata": {},
   "outputs": [],
   "source": [
    "# get final id-match matrix between both sessions\n"
   ]
  },
  {
   "cell_type": "code",
   "execution_count": null,
   "id": "99f1b885-f870-4fd0-96db-370b106c9639",
   "metadata": {},
   "outputs": [],
   "source": [
    "id_match_matrix = {}\n",
    "for idA in emb_matsA:\n",
    "    temp_s1_mats=emb_matsA[idA]\n",
    "    id_match_matrix[idA]={}\n",
    "    for idB in emb_matsB:\n",
    "        temp_s2_mats = emb_matsB[idB]\n",
    "        common_keys = [xr for xr in temp_s1_mats.keys() if xr in temp_s2_mats.keys()]\n",
    "        # temp_idA_scores[idB]={}\n",
    "        gaze_cat_scores= []\n",
    "        for gaze_key in common_keys:\n",
    "            s1_emb_mat_key = temp_s1_mats[gaze_key]\n",
    "            s2_emb_mat_key = temp_s2_mats[gaze_key]\n",
    "            dist_res = np.median(cdist(s1_emb_mat_key, s2_emb_mat_key))\n",
    "            if dist_res >= 0:\n",
    "                gaze_cat_scores.append(dist_res)\n",
    "            # temp_idA_scores[idB][gaze_key] = np.median(dist_res) \n",
    "        if len(gaze_cat_scores)>0:\n",
    "            id_match_matrix[idA][idB] = np.nanmin(gaze_cat_scores)\n"
   ]
  },
  {
   "cell_type": "code",
   "execution_count": null,
   "id": "d7c7ebb2-300b-477c-ae00-f0146ad7fd26",
   "metadata": {},
   "outputs": [],
   "source": [
    "df_id_match = pd.DataFrame(id_match_matrix)\n"
   ]
  },
  {
   "cell_type": "code",
   "execution_count": null,
   "id": "e9f74331-ec32-4eee-874b-72406269695a",
   "metadata": {},
   "outputs": [],
   "source": [
    "plt.figure(figsize=(30,10))\n",
    "sns.heatmap(df_id_match.round(2), annot=True, cmap='bone_r')\n"
   ]
  },
  {
   "cell_type": "code",
   "execution_count": null,
   "id": "70d842b2-1073-4b48-b4a9-54a5570cbffd",
   "metadata": {},
   "outputs": [],
   "source": [
    "df_id_match\n"
   ]
  },
  {
   "cell_type": "markdown",
   "id": "cc3950ac-b41f-4c66-80a5-a280e3a41e51",
   "metadata": {},
   "source": [
    "# Clean Implementation 1: Using k% gaze filtering and median embeddings for matching\n"
   ]
  },
  {
   "cell_type": "code",
   "execution_count": null,
   "id": "071ccfea-5d08-4a18-b774-a96cbee335fd",
   "metadata": {},
   "outputs": [],
   "source": [
    "MAX_GAZE_DEVIATION_DEG = 30\n",
    "# MAX_EMBEDDING_FRAMES = 1000\n",
    "MIN_EMBEDDING_FRAMES = 100\n"
   ]
  },
  {
   "cell_type": "code",
   "execution_count": null,
   "id": "d5a2abf6-c072-4b31-b8b4-4cdef858b15f",
   "metadata": {
    "scrolled": true
   },
   "outputs": [],
   "source": [
    "match_scores = {}\n",
    "match_info = {}\n",
    "np.random.seed(42)\n",
    "for idA,idB in product(emb_infoA.keys(), emb_infoB.keys()):\n",
    "    #filter correct frames\n",
    "    framesA = gaze_infoA[idA][\n",
    "        (gaze_infoA[idA].yaw.abs()<MAX_GAZE_DEVIATION_DEG) & \n",
    "        (gaze_infoA[idA].pitch.abs()<MAX_GAZE_DEVIATION_DEG) & \n",
    "        (gaze_infoA[idA].roll.abs()<MAX_GAZE_DEVIATION_DEG)].index.values\n",
    "    framesB = gaze_infoB[idB][\n",
    "        (gaze_infoB[idB].yaw.abs()<MAX_GAZE_DEVIATION_DEG) &\n",
    "        (gaze_infoB[idB].pitch.abs()<MAX_GAZE_DEVIATION_DEG) &\n",
    "        (gaze_infoB[idB].roll.abs()<MAX_GAZE_DEVIATION_DEG)].index.values\n",
    "\n",
    "    num_framesA, num_framesB = len(framesA), len(framesB)\n",
    "    if (num_framesA<MIN_EMBEDDING_FRAMES) | (num_framesB <MIN_EMBEDDING_FRAMES):\n",
    "        sprint(f\"Not sufficient frames to match {idA}:{len(framesA)},{idB}:{len(framesB)}\")\n",
    "        continue\n",
    "    \n",
    "    # select_framesA  =  np.random.choice(framesA, MAX_EMBEDDING_FRAMES) if (num_framesA > MAX_EMBEDDING_FRAMES) else  framesA\n",
    "    # select_framesB  =  np.random.choice(framesB, MAX_EMBEDDING_FRAMES) if (num_framesB > MAX_EMBEDDING_FRAMES) else  framesB\n",
    "\n",
    "    #get id embeddings\n",
    "    \n",
    "    medianA_emb = np.median(emb_infoA[idA].loc[framesA],axis=0)\n",
    "    medianB_emb = np.median(emb_infoB[idB].loc[framesB],axis=0)\n",
    "    match_distance = cdist(medianA_emb.reshape(1,-1), medianB_emb.reshape(1,-1))[0][0]\n",
    "    if idA not in match_scores:\n",
    "        match_scores[idA] = {}\n",
    "        match_info[idA] = {}\n",
    "    match_scores[idA][idB] = match_distance\n",
    "    match_info[idA][idB] = dict(match_score=match_distance, framesA=framesA, framesB=framesB)\n",
    "    sprint(idA, idB, match_distance)\n",
    "    \n",
    "    \n",
    "    \n",
    "    "
   ]
  },
  {
   "cell_type": "code",
   "execution_count": null,
   "id": "10828a76-7d69-41cc-802f-937e10cda191",
   "metadata": {},
   "outputs": [],
   "source": [
    "df_matching_methodA = pd.DataFrame(match_scores)\n",
    "df_matching_methodA.shape\n"
   ]
  },
  {
   "cell_type": "code",
   "execution_count": null,
   "id": "c4861dbf-ae9e-41dc-b66d-af7250bc832b",
   "metadata": {
    "scrolled": true
   },
   "outputs": [],
   "source": [
    "df_matching_methodA\n"
   ]
  },
  {
   "cell_type": "code",
   "execution_count": null,
   "id": "fc9edac1-f74c-4d98-83ea-74863bec0430",
   "metadata": {},
   "outputs": [],
   "source": [
    "from matplotlib.patches import Rectangle\n",
    "fig, axn = plt.subplots(1,1,figsize=(20,10))\n",
    "sns.heatmap(df_matching_methodA.round(2), annot=True,ax=axn,cmap='bone_r')\n",
    "for gtA in map(int, gt_map):\n",
    "    for gtB in map(int, gt_map[str(gtA)]):\n",
    "        if (gtA>=0) and (gtB>=0):\n",
    "            if (gtA in df_matching_methodA.columns) and (gtB in df_matching_methodA.index):\n",
    "                locA, locB = df_matching_methodA.columns.get_loc(gtA), df_matching_methodA.index.get_loc(gtB)\n",
    "                axn.add_patch(Rectangle((locA, locB), 1, 1, fill=False, edgecolor='red', lw=4))\n",
    "\n",
    "for locA in range(df_matching_methodA.shape[1]):\n",
    "    locBs = df_matching_methodA.iloc[:,locA].argsort()[:3]\n",
    "    for locB in locBs:\n",
    "        axn.add_patch(Rectangle((locA, locB), 1, 1, fill=False, edgecolor='blue', lw=1))\n",
    "\n",
    "\n",
    "axn.set_xlabel(f\"Session A: {sessionA}\",fontsize=16)\n",
    "axn.set_ylabel(f\"Session B: {sessionB}\",fontsize=16)\n",
    "plt.savefig(f'plots/Method1_{course}_{sessionA.split(\"_\")[-1]}_{sessionB.split(\"_\")[-1]}.png',dpi=400,bbox_inches='tight')\n"
   ]
  },
  {
   "cell_type": "markdown",
   "id": "a07ff648-d41e-4899-aa3d-b735035c9a18",
   "metadata": {},
   "source": [
    "# Method 2:Get distance between all pairs and get median distance across all pairs.\n"
   ]
  },
  {
   "cell_type": "code",
   "execution_count": null,
   "id": "430594a9-7557-4592-acce-1abae0919d56",
   "metadata": {},
   "outputs": [],
   "source": [
    "MAX_GAZE_DEVIATION_DEG = 30 # for basic filtering of very random gaze\n",
    "MAX_EMBEDDING_FRAMES = 1000\n",
    "MIN_EMBEDDING_FRAMES = 100\n"
   ]
  },
  {
   "cell_type": "code",
   "execution_count": null,
   "id": "f42eb112-73aa-4b93-8a87-874cb8cd9c23",
   "metadata": {
    "scrolled": true
   },
   "outputs": [],
   "source": [
    "match_scores = {}\n",
    "matching_info_dictB = {}\n",
    "np.random.seed(42)\n",
    "for idA,idB in product(emb_infoA.keys(), emb_infoB.keys()):\n",
    "    #filter correct frames\n",
    "    framesA = gaze_infoA[idA][\n",
    "        (gaze_infoA[idA].yaw.abs()<MAX_GAZE_DEVIATION_DEG) & \n",
    "        (gaze_infoA[idA].pitch.abs()<MAX_GAZE_DEVIATION_DEG) & \n",
    "        (gaze_infoA[idA].roll.abs()<MAX_GAZE_DEVIATION_DEG)].index.values\n",
    "    framesB = gaze_infoB[idB][\n",
    "        (gaze_infoB[idB].yaw.abs()<MAX_GAZE_DEVIATION_DEG) &\n",
    "        (gaze_infoB[idB].pitch.abs()<MAX_GAZE_DEVIATION_DEG) &\n",
    "        (gaze_infoB[idB].roll.abs()<MAX_GAZE_DEVIATION_DEG)].index.values\n",
    "\n",
    "    num_framesA, num_framesB = len(framesA), len(framesB)\n",
    "    if (num_framesA<MIN_EMBEDDING_FRAMES) | (num_framesB <MIN_EMBEDDING_FRAMES):\n",
    "        sprint(f\"Not sufficient frames to match {idA}:{len(framesA)},{idB}:{len(framesB)}\")\n",
    "        continue\n",
    "    \n",
    "    select_framesA  =  np.random.choice(framesA, MAX_EMBEDDING_FRAMES) if (num_framesA > MAX_EMBEDDING_FRAMES) else  framesA\n",
    "    select_framesB  =  np.random.choice(framesB, MAX_EMBEDDING_FRAMES) if (num_framesB > MAX_EMBEDDING_FRAMES) else  framesB\n",
    "\n",
    "    #get id embeddings\n",
    "    \n",
    "    match_distance_matrix = cdist(emb_infoA[idA].loc[select_framesA], emb_infoB[idB].loc[select_framesB])\n",
    "    sprint(match_distance_matrix.shape)\n",
    "    match_distance = np.mean(np.median(match_distance_matrix,axis=1))\n",
    "    if idA not in match_scores:\n",
    "        match_scores[idA] = {}\n",
    "        matching_info_dictB[idA] = {}\n",
    "    match_scores[idA][idB] = match_distance\n",
    "    matching_info_dictB[idA][idB] = dict(match_score=match_distance, match_matrix= match_distance_matrix,framesA=select_framesA, framesB=select_framesB)\n",
    "    sprint(idA, idB, match_distance)\n",
    "    \n",
    "\n",
    "df_matching_methodB = pd.DataFrame(match_scores)\n",
    "    "
   ]
  },
  {
   "cell_type": "code",
   "execution_count": null,
   "id": "5182c041-9b78-4a8a-860f-f99996dfcaae",
   "metadata": {},
   "outputs": [],
   "source": [
    "from matplotlib.patches import Rectangle\n",
    "fig, axn = plt.subplots(1,1,figsize=(20,10))\n",
    "sns.heatmap(df_matching_methodB.round(2), annot=True,ax=axn,cmap='bone_r')\n",
    "for gtA in map(int, gt_map):\n",
    "    for gtB in map(int, gt_map[str(gtA)]):\n",
    "        if (gtA>=0) and (gtB>=0):\n",
    "            if (gtA in df_matching_methodB.columns) and (gtB in df_matching_methodB.index):\n",
    "                locA, locB = df_matching_methodB.columns.get_loc(gtA), df_matching_methodB.index.get_loc(gtB)\n",
    "                axn.add_patch(Rectangle((locA, locB), 1, 1, fill=False, edgecolor='red', lw=4))\n",
    "\n",
    "for locA in range(df_matching_methodB.shape[1]):\n",
    "    locBs = df_matching_methodB.iloc[:,locA].argsort()[:3]\n",
    "    for locB in locBs:\n",
    "        axn.add_patch(Rectangle((locA, locB), 1, 1, fill=False, edgecolor='blue', lw=1))\n",
    "\n",
    "\n",
    "axn.set_xlabel(f\"Session A: {sessionA}\",fontsize=16)\n",
    "axn.set_ylabel(f\"Session B: {sessionB}\",fontsize=16)\n",
    "plt.savefig(f'plots/Method2_{course}_{sessionA.split(\"_\")[-1]}_{sessionB.split(\"_\")[-1]}.png',dpi=400,bbox_inches='tight')\n"
   ]
  },
  {
   "cell_type": "markdown",
   "id": "39ca0ff3-8d4b-42b9-b580-9cf3e895132a",
   "metadata": {},
   "source": [
    "## Method 2b: Use median of medians\n"
   ]
  },
  {
   "cell_type": "code",
   "execution_count": null,
   "id": "720628bb-c168-44ad-af10-e8439fbab885",
   "metadata": {},
   "outputs": [],
   "source": [
    "match_scores = {}\n",
    "for idA in matching_info_dictB:\n",
    "    match_scores[idA] = {}\n",
    "    for idB in matching_info_dictB[idA]:\n",
    "        match_matrix = matching_info_dictB[idA][idB]['match_matrix']\n",
    "        match_distance = np.median(np.median(match_matrix,axis=1))\n",
    "        match_scores[idA][idB] = match_distance\n",
    "\n",
    "df_matching = pd.DataFrame(match_scores)\n",
    "\n",
    "#--------\n",
    "fig, axn = plt.subplots(1,1,figsize=(20,10))\n",
    "sns.heatmap(df_matching.round(2), annot=True,ax=axn,cmap='bone_r')\n",
    "for gtA in map(int, gt_map):\n",
    "    for gtB in map(int, gt_map[str(gtA)]):\n",
    "        if (gtA>=0) and (gtB>=0):\n",
    "            if (gtA in df_matching.columns) and (gtB in df_matching.index):\n",
    "                locA, locB = df_matching.columns.get_loc(gtA), df_matching.index.get_loc(gtB)\n",
    "                axn.add_patch(Rectangle((locA, locB), 1, 1, fill=False, edgecolor='red', lw=4))\n",
    "\n",
    "for locA in range(df_matching.shape[1]):\n",
    "    locBs = df_matching.iloc[:,locA].argsort()[:3]\n",
    "    for locB in locBs:\n",
    "        axn.add_patch(Rectangle((locA, locB), 1, 1, fill=False, edgecolor='blue', lw=1))\n",
    "\n",
    "\n",
    "axn.set_xlabel(f\"Session A: {sessionA}\",fontsize=16)\n",
    "axn.set_ylabel(f\"Session B: {sessionB}\",fontsize=16)\n",
    "plt.savefig(f'plots/Method2b_{course}_{sessionA.split(\"_\")[-1]}_{sessionB.split(\"_\")[-1]}.png',dpi=400,bbox_inches='tight')\n"
   ]
  },
  {
   "cell_type": "code",
   "execution_count": null,
   "id": "956a92c0-7355-41ca-86b2-f9a13c646e22",
   "metadata": {},
   "outputs": [],
   "source": [
    "match_scores = {}\n",
    "for idA in matching_info_dictB:\n",
    "    match_scores[idA] = {}\n",
    "    for idB in matching_info_dictB[idA]:\n",
    "        match_matrix = matching_info_dictB[idA][idB]['match_matrix']\n",
    "        match_distance = np.median(np.min(match_matrix,axis=1))\n",
    "        match_scores[idA][idB] = match_distance\n",
    "\n",
    "df_matching = pd.DataFrame(match_scores)\n",
    "\n",
    "#--------\n",
    "fig, axn = plt.subplots(1,1,figsize=(20,10))\n",
    "sns.heatmap(df_matching.round(2), annot=True,ax=axn,cmap='bone_r')\n",
    "for gtA in map(int, gt_map):\n",
    "    for gtB in map(int, gt_map[str(gtA)]):\n",
    "        if (gtA>=0) and (gtB>=0):\n",
    "            if (gtA in df_matching.columns) and (gtB in df_matching.index):\n",
    "                locA, locB = df_matching.columns.get_loc(gtA), df_matching.index.get_loc(gtB)\n",
    "                axn.add_patch(Rectangle((locA, locB), 1, 1, fill=False, edgecolor='red', lw=4))\n",
    "\n",
    "for locA in range(df_matching.shape[1]):\n",
    "    locBs = df_matching.iloc[:,locA].argsort()[:3]\n",
    "    for locB in locBs:\n",
    "        axn.add_patch(Rectangle((locA, locB), 1, 1, fill=False, edgecolor='blue', lw=1))\n",
    "\n",
    "\n",
    "axn.set_xlabel(f\"Session A: {sessionA}\",fontsize=16)\n",
    "axn.set_ylabel(f\"Session B: {sessionB}\",fontsize=16)\n",
    "plt.savefig(f'plots/Method2c_{course}_{sessionA.split(\"_\")[-1]}_{sessionB.split(\"_\")[-1]}.png',dpi=400,bbox_inches='tight')\n"
   ]
  },
  {
   "cell_type": "code",
   "execution_count": null,
   "id": "8a709eba-7f3b-475a-a674-f9cd5d7a4c86",
   "metadata": {},
   "outputs": [],
   "source": [
    "from sklearn.preprocessing import normalize\n",
    "match_scores = {}\n",
    "for idA in matching_info_dictB:\n",
    "    match_scores[idA] = {}\n",
    "    for idB in matching_info_dictB[idA]:\n",
    "        match_matrix = deepcopy(matching_info_dictB[idA][idB]['match_matrix'])\n",
    "        # match_matrix = normalize(match_matrix, axis=1, norm='l1')\n",
    "        match_distance = np.median(match_matrix.flatten())\n",
    "        match_scores[idA][idB] = match_distance\n",
    "\n",
    "df_matching = pd.DataFrame(match_scores)\n",
    "\n",
    "#--------\n",
    "fig, axn = plt.subplots(1,1,figsize=(20,10))\n",
    "sns.heatmap(df_matching.round(2), annot=True,ax=axn,cmap='bone_r')\n",
    "for gtA in map(int, gt_map):\n",
    "    for gtB in map(int, gt_map[str(gtA)]):\n",
    "        if (gtA>=0) and (gtB>=0):\n",
    "            if (gtA in df_matching.columns) and (gtB in df_matching.index):\n",
    "                locA, locB = df_matching.columns.get_loc(gtA), df_matching.index.get_loc(gtB)\n",
    "                axn.add_patch(Rectangle((locA, locB), 1, 1, fill=False, edgecolor='red', lw=4))\n",
    "\n",
    "for locA in range(df_matching.shape[1]):\n",
    "    locBs = df_matching.iloc[:,locA].argsort()[:3]\n",
    "    for locB in locBs:\n",
    "        axn.add_patch(Rectangle((locA, locB), 1, 1, fill=False, edgecolor='blue', lw=1))\n",
    "\n",
    "\n",
    "axn.set_xlabel(f\"Session A: {sessionA}\",fontsize=16)\n",
    "axn.set_ylabel(f\"Session B: {sessionB}\",fontsize=16)\n",
    "plt.savefig(f'plots/Method2d_{course}_{sessionA.split(\"_\")[-1]}_{sessionB.split(\"_\")[-1]}.png',dpi=400,bbox_inches='tight')\n"
   ]
  },
  {
   "cell_type": "markdown",
   "id": "195efc5b-0b56-440b-9166-e13697fc62f1",
   "metadata": {},
   "source": [
    "# Method 3: Use spectral clustering to get clean set of embeddings, calculate their centroid, and then evaluate distance\n"
   ]
  },
  {
   "cell_type": "code",
   "execution_count": null,
   "id": "e866dcca-50c6-456e-a823-47af5b510a9c",
   "metadata": {},
   "outputs": [],
   "source": [
    "from sklearn.cluster import DBSCAN\n",
    "EPS = 0.4\n",
    "MIN_PTS = 100\n"
   ]
  },
  {
   "cell_type": "code",
   "execution_count": null,
   "id": "7c7eaad0-e3b3-463c-8852-7d1d8f6ad75e",
   "metadata": {},
   "outputs": [],
   "source": [
    "\n",
    "np.random.seed(42)\n",
    "clustered_median_embA = {}\n",
    "for idA in emb_infoA:\n",
    "    emb_cluA = DBSCAN(min_samples=MIN_PTS, eps=EPS)\n",
    "    emb_cluA.fit(emb_infoA[idA].values)\n",
    "    if max(emb_cluA.labels_)<0:\n",
    "        sprint(f\"All frames are outliers, not proceeding with id {idA}\")\n",
    "        continue\n",
    "    best_cluster_id = pd.Series(emb_cluA.labels_[emb_cluA.labels_>=0]).value_counts().index[0]\n",
    "    framesA = emb_infoA[idA].iloc[emb_cluA.labels_==best_cluster_id].index.values\n",
    "    clustered_median_embA[idA] = np.median(emb_infoA[idA].loc[framesA],axis=0)\n",
    "    \n",
    "clustered_median_embB = {}\n",
    "for idB in emb_infoB:\n",
    "    emb_cluB = DBSCAN(min_samples=MIN_PTS, eps=EPS)\n",
    "    emb_cluB.fit(emb_infoB[idB].values)\n",
    "    if max(emb_cluB.labels_)<0:\n",
    "        sprint(f\"All frames are outliers, not proceeding with id {idB}\")\n",
    "        continue\n",
    "    best_cluster_id = pd.Series(emb_cluB.labels_[emb_cluB.labels_>=0]).value_counts().index[0]\n",
    "    framesB = emb_infoB[idB].iloc[emb_cluB.labels_==best_cluster_id].index.values\n",
    "    clustered_median_embB[idB] = np.median(emb_infoB[idB].loc[framesB],axis=0)\n",
    "# #filter correct frames\n",
    "# # select_framesA  =  np.random.choice(framesA, MAX_EMBEDDING_FRAMES) if (num_framesA > MAX_EMBEDDING_FRAMES) else  framesA\n",
    "# # select_framesB  =  np.random.choice(framesB, MAX_EMBEDDING_FRAMES) if (num_framesB > MAX_EMBEDDING_FRAMES) else  framesB\n",
    "\n",
    "# #get id embeddings\n",
    "    \n",
    "# medianA_emb = np.median(emb_infoA[idA].loc[framesA],axis=0)\n",
    "# medianB_emb = np.median(emb_infoB[idB].loc[framesB],axis=0)\n",
    "# match_distance = cdist(medianA_emb.reshape(1,-1), medianB_emb.reshape(1,-1))[0][0]\n",
    "# if idA not in match_scores:\n",
    "#     match_scores[idA] = {}\n",
    "#     match_info3[idA] = {}\n",
    "# match_scores[idA][idB] = match_distance\n",
    "# match_info3[idA][idB] = dict(match_score=match_distance, framesA=framesA, framesB=framesB)\n",
    "# sprint(idA, idB, match_distance)\n",
    "\n",
    "    \n",
    "    \n",
    "    "
   ]
  },
  {
   "cell_type": "code",
   "execution_count": null,
   "id": "feb750c6-cd68-4303-aeb5-a8b78d99079a",
   "metadata": {},
   "outputs": [],
   "source": [
    "match_scores = {}\n",
    "match_info3 = {}\n",
    "for idA in clustered_median_embA:\n",
    "    match_scores[idA] = {}\n",
    "    for idB in clustered_median_embB:\n",
    "        match_scores[idA][idB] = cdist(clustered_median_embA[idA].reshape(1,-1), clustered_median_embB[idB].reshape(1,-1))[0][0]\n",
    "        \n",
    "df_matching_methodC = pd.DataFrame(match_scores)\n",
    "df_matching_methodC.shape    \n"
   ]
  },
  {
   "cell_type": "code",
   "execution_count": null,
   "id": "ea00bd76-1204-46cf-97f3-1a1ff5f8a88a",
   "metadata": {},
   "outputs": [],
   "source": [
    "from matplotlib.patches import Rectangle\n",
    "fig, axn = plt.subplots(1,1,figsize=(20,10))\n",
    "sns.heatmap(df_matching_methodC.round(2), annot=True,ax=axn,cmap='bone_r')\n",
    "for gtA in map(int, gt_map):\n",
    "    for gtB in map(int, gt_map[str(gtA)]):\n",
    "        if (gtA>=0) and (gtB>=0):\n",
    "            if (gtA in df_matching_methodC.columns) and (gtB in df_matching_methodC.index):\n",
    "                locA, locB = df_matching_methodC.columns.get_loc(gtA), df_matching_methodC.index.get_loc(gtB)\n",
    "                axn.add_patch(Rectangle((locA, locB), 1, 1, fill=False, edgecolor='red', lw=4))\n",
    "\n",
    "for locA in range(df_matching_methodC.shape[1]):\n",
    "    locBs = df_matching_methodC.iloc[:,locA].argsort()[:3]\n",
    "    for locB in locBs:\n",
    "        axn.add_patch(Rectangle((locA, locB), 1, 1, fill=False, edgecolor='blue', lw=1))\n",
    "\n",
    "\n",
    "axn.set_xlabel(f\"Session A: {sessionA}\",fontsize=16)\n",
    "axn.set_ylabel(f\"Session B: {sessionB}\",fontsize=16)\n",
    "plt.savefig(f'plots/Method3_{course}_{sessionA.split(\"_\")[-1]}_{sessionB.split(\"_\")[-1]}.png',dpi=400,bbox_inches='tight')\n"
   ]
  },
  {
   "cell_type": "code",
   "execution_count": null,
   "id": "c265f50e-9b12-416b-8510-912573853c17",
   "metadata": {},
   "outputs": [],
   "source": []
  }
 ],
 "metadata": {
  "kernelspec": {
   "display_name": "Python 3 (ipykernel)",
   "language": "python",
   "name": "python3"
  },
  "language_info": {
   "codemirror_mode": {
    "name": "ipython",
    "version": 3
   },
   "file_extension": ".py",
   "mimetype": "text/x-python",
   "name": "python",
   "nbconvert_exporter": "python",
   "pygments_lexer": "ipython3",
   "version": "3.9.16"
  }
 },
 "nbformat": 4,
 "nbformat_minor": 5
}

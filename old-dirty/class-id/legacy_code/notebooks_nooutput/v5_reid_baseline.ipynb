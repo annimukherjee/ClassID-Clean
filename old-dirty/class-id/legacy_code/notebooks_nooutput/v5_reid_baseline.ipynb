{
 "cells": [
  {
   "cell_type": "code",
   "execution_count": null,
   "id": "13f1bf94-25d4-4ed1-bddd-bc3309763692",
   "metadata": {},
   "outputs": [],
   "source": [
    "import numpy as np\n",
    "import pandas as pd\n",
    "import scipy.stats\n",
    "\n",
    "pd.options.mode.chained_assignment = None\n",
    "from matplotlib import pyplot as plt, rcParams\n",
    "# import cv2\n",
    "import seaborn as sns\n",
    "\n",
    "sns.set(style=\"white\", context=\"paper\")\n",
    "from cycler import cycler\n",
    "import os, sys\n",
    "import glob\n",
    "from datetime import datetime, timedelta\n",
    "from itertools import combinations, product\n",
    "import base64\n",
    "from PIL import Image\n",
    "from io import BytesIO as _BytesIO\n",
    "import requests\n",
    "import json\n",
    "import pickle\n",
    "from datetime import datetime\n",
    "from IPython.display import display, Markdown, Latex\n",
    "from sklearn.metrics import *\n",
    "import collections\n",
    "from copy import deepcopy\n",
    "import traceback\n",
    "from sympy import Point, Polygon\n",
    "from decorators import *\n",
    "from smartprint import smartprint as sprint\n",
    "from scipy.spatial.distance import cdist\n",
    "from sklearn.cluster import DBSCAN\n",
    "import mmcv\n",
    "from mmtrack.apis import inference_mot, init_model as init_tracking_model\n",
    "from torchreid.utils import FeatureExtractor as REIDFeatureExtractor\n",
    "# import plotly\n",
    "# from pandas_profiling import ProfileReport\n",
    "\n",
    "pd.options.display.max_columns = None\n",
    "def printm(s): return display(Markdown(s))\n",
    "    \n",
    "SERVER_CACHE_DIR = '/mnt/ci-nas-cache/edulyzeV2/cache_compute_4/fixed_face'\n",
    "os.makedirs(SERVER_CACHE_DIR,exist_ok=True)\n",
    "\n",
    "track_analysis_meta_cache = f'{SERVER_CACHE_DIR}/analysis_tracking/meta_info'\n",
    "base_dir = '/mnt/ci-nas-cache/edulyzeV2/pose_face_gaze_emb_fixed_face/'\n",
    "\n",
    "track_analysis_session_data = f'{SERVER_CACHE_DIR}/analysis_tracking/session_tracking_info'\n",
    "os.makedirs(track_analysis_session_data,exist_ok=True)\n",
    "\n",
    "postprocessed_id_map_data_dir = f'{SERVER_CACHE_DIR}/analysis_tracking/processed_id_maps'\n",
    "os.makedirs(postprocessed_id_map_data_dir, exist_ok=True)\n",
    "\n",
    "emb_analysis_session_data = f'{SERVER_CACHE_DIR}/analysis_emb/session_emb_info_new'\n",
    "os.makedirs(emb_analysis_session_data,exist_ok=True)\n",
    "\n",
    "embmatched_id_raw_data_dir = f'{SERVER_CACHE_DIR}/analysis_emb/embmatched_id_raw'\n",
    "os.makedirs(embmatched_id_raw_data_dir,exist_ok=True)\n",
    "\n",
    "embmatched_id_map_data_dir = f'{SERVER_CACHE_DIR}/analysis_tracking/embmatched_id_maps'\n",
    "os.makedirs(embmatched_id_map_data_dir, exist_ok=True)\n",
    "\n",
    "cross_session_input_data_dir = f'{SERVER_CACHE_DIR}/analysis_emb/cross_session_input'\n",
    "os.makedirs(cross_session_input_data_dir, exist_ok=True)\n",
    "\n",
    "id_viz_cache_root = f'{SERVER_CACHE_DIR}/analysis_emb/session_matching_info_new'\n",
    "os.makedirs(id_viz_cache_root, exist_ok=True)\n"
   ]
  },
  {
   "cell_type": "markdown",
   "id": "75185159-ce0e-439f-b41d-fba37829e865",
   "metadata": {},
   "source": [
    "## Get frame file data for all sessions"
   ]
  },
  {
   "cell_type": "code",
   "execution_count": null,
   "id": "61657d24-cddc-4722-bbde-b99313f4c2e6",
   "metadata": {
    "scrolled": true
   },
   "outputs": [],
   "source": [
    "\n",
    "frame_file_data = {}\n",
    "for course_idx, course_dir in enumerate(glob.glob(f\"{base_dir}/*\")):\n",
    "    course_name = course_dir.split(\"/\")[-1]\n",
    "    course_cache_file = f\"{track_analysis_meta_cache}/{course_name}\"\n",
    "    if os.path.exists(course_cache_file):\n",
    "        frame_file_data[course_name] = pickle.load(open(course_cache_file,\"rb\"))\n",
    "        continue\n",
    "    frame_file_data[course_name]={}\n",
    "        \n",
    "    for session_idx, session_dir in enumerate(glob.glob(f\"{course_dir}/*\")):\n",
    "        session_name = session_dir.split(\"/\")[-1]\n",
    "        frame_file_data[course_name][session_name] = {}\n",
    "        frame_files = glob.glob(f\"{session_dir}/*\")\n",
    "        frame_file_names = [xr.split(\"/\")[-1] for xr in frame_files]\n",
    "        if 'end.pb' in frame_file_names:\n",
    "            frame_file_data[course_name][session_name]['is_completed']=True\n",
    "        else:\n",
    "            frame_file_data[course_name][session_name]['is_completed']=False            \n",
    "        frame_ids = [int(xr.split(\".\")[0]) for xr in frame_file_names if not (xr=='end.pb')]\n",
    "        frame_file_data[course_name][session_name]['frame_ids'] = sorted(frame_ids)\n",
    "        frame_file_data[course_name][session_name]['dir_location'] = session_dir\n",
    "        print(f\"Got metadata for course: {course_idx}-{course_name}, session:{session_idx}-{session_name}\")\n",
    "    pickle.dump(frame_file_data[course_name],open(course_cache_file,\"wb\")) \n",
    "        \n",
    "frame_file_data.keys()\n"
   ]
  },
  {
   "cell_type": "code",
   "execution_count": null,
   "id": "58cf998f-dc47-447f-b1a8-14d55d69057c",
   "metadata": {},
   "outputs": [],
   "source": [
    "session_filter_list = [\n",
    " #    'classinsight-cmu_05681A_ghc_4301_201905011630',\n",
    " # 'classinsight-cmu_05681A_ghc_4301_201904171630',\n",
    " # 'classinsight-cmu_05681A_ghc_4301_201902201630',\n",
    " # 'classinsight-cmu_05681A_ghc_4301_201904101630',\n",
    " # 'classinsight-cmu_05681A_ghc_4301_201901231630',\n",
    "                       \n",
    " # 'classinsight-cmu_05418A_ghc_4102_201902251200',\n",
    " # 'classinsight-cmu_05418A_ghc_4102_201904081200',\n",
    " # 'classinsight-cmu_05418A_ghc_4102_201905011200',\n",
    " # 'classinsight-cmu_05418A_ghc_4102_201904291200',\n",
    " # 'classinsight-cmu_05418A_ghc_4102_201904011200',\n",
    "                       \n",
    " 'classinsight-cmu_05748A_ghc_4101_201902141630',\n",
    " 'classinsight-cmu_05748A_ghc_4101_201904021630',\n",
    " 'classinsight-cmu_05748A_ghc_4101_201902051630',\n",
    " 'classinsight-cmu_05748A_ghc_4101_201902281630',\n",
    " 'classinsight-cmu_05748A_ghc_4101_201903071630',\n",
    "                       \n",
    " # 'classinsight-cmu_21127J_ghc_4102_201904230930',\n",
    " # 'classinsight-cmu_21127J_ghc_4102_201903260930',\n",
    " # 'classinsight-cmu_21127J_ghc_4102_201904160930',\n",
    " # 'classinsight-cmu_21127J_ghc_4102_201904300930',\n",
    " # 'classinsight-cmu_21127J_ghc_4102_201903190930',\n",
    "                       \n",
    " # 'classinsight-cmu_05410A_ghc_4301_201904151500',\n",
    " # 'classinsight-cmu_05410A_ghc_4301_201902251500',\n",
    " # 'classinsight-cmu_05410A_ghc_4301_201904081500',\n",
    " # 'classinsight-cmu_05410A_ghc_4301_201904221500',\n",
    " # 'classinsight-cmu_05410A_ghc_4301_201902181500',\n",
    "                       \n",
    " 'classinsight-cmu_17214B_ph_a21_201902271030',\n",
    " 'classinsight-cmu_17214B_ph_a21_201903061030',\n",
    " 'classinsight-cmu_17214B_ph_a21_201904031030',\n",
    " 'classinsight-cmu_17214B_ph_a21_201904101030',\n",
    " 'classinsight-cmu_17214B_ph_a21_201904241030',\n",
    "                       \n",
    " 'classinsight-cmu_17214C_ph_225b_201903201130',\n",
    " 'classinsight-cmu_17214C_ph_225b_201904101130',\n",
    " 'classinsight-cmu_17214C_ph_225b_201904171130',\n",
    " 'classinsight-cmu_17214C_ph_225b_201904241130',\n",
    " 'classinsight-cmu_17214C_ph_225b_201905011130',\n",
    "                       \n",
    " 'classinsight-cmu_05410B_ghc_4211_201902111500',\n",
    " 'classinsight-cmu_05410B_ghc_4211_201903181500',\n",
    " 'classinsight-cmu_05410B_ghc_4211_201904081500',\n",
    " 'classinsight-cmu_05410B_ghc_4211_201904151500',\n",
    " 'classinsight-cmu_05410B_ghc_4211_201904221500',\n",
    " 'classinsight-cmu_05410B_ghc_4211_201901281500'\n",
    "]\n"
   ]
  },
  {
   "cell_type": "markdown",
   "id": "214b5624-5d79-48d7-a77e-b96a53978c1c",
   "metadata": {},
   "source": [
    "# Get data for sessionA"
   ]
  },
  {
   "cell_type": "code",
   "execution_count": null,
   "id": "553408cc-169f-4552-ad5d-c663c8b9d5ac",
   "metadata": {},
   "outputs": [],
   "source": [
    "sample_course = '17214B'\n",
    "sample_session_id = 'classinsight-cmu_17214B_ph_a21_201902271030-front'\n",
    "session_tracking_cache_file = f\"{track_analysis_session_data}/{sample_session_id}.pb\"\n",
    "session_preprocessed_id_map_file = f\"{postprocessed_id_map_data_dir}/{sample_session_id}.pb\"\n",
    "session_frame_dir = f'{base_dir}/{sample_course}/{sample_session_id}'\n",
    "session_video_file = f'/mnt/ci-nas-classes/classinsight/2019S/video_backup/{sample_session_id.split(\"-front\")[0]}/{sample_session_id}.avi'\n",
    "session_frame_dir\n"
   ]
  },
  {
   "cell_type": "code",
   "execution_count": null,
   "id": "5dc4697a-7ef2-413b-9f33-8bd142165baa",
   "metadata": {},
   "outputs": [],
   "source": [
    "old_to_new_id_map = pickle.load(open(session_preprocessed_id_map_file,\"rb\"))\n",
    "df_session_eligible_pairs = pd.read_csv(f\"{embmatched_id_map_data_dir}/{sample_session_id}.csv\")\n",
    "# Correct new ids with dict from eligible pairs\n",
    "eligible_id_map_dict = {}\n",
    "for id_pair in df_session_eligible_pairs.id_pair.values:\n",
    "    (id1, id2) = eval(id_pair)\n",
    "    print(id1, id2)\n",
    "    if id2 in eligible_id_map_dict:\n",
    "        eligible_id_map_dict[id1] = eligible_id_map_dict[id2]\n",
    "    else:\n",
    "        eligible_id_map_dict[id2] = id1\n",
    "\n",
    "sprint(eligible_id_map_dict)\n",
    "\n",
    "# correct created eligible map for once more\n",
    "for key in sorted(list(eligible_id_map_dict.keys())):\n",
    "    key_value = eligible_id_map_dict[key]\n",
    "    if key_value in eligible_id_map_dict.keys():\n",
    "        eligible_id_map_dict[key] = eligible_id_map_dict[key_value]\n",
    "sprint(eligible_id_map_dict) \n",
    "# sprint({kr:old_to_new_id_map[kr] for kr in old_to_new_id_map if (not old_to_new_id_map[kr]==10000)}) \n",
    "sprint(\"replacing ids in old to new id maps\")\n",
    "for old_id in old_to_new_id_map:\n",
    "    if old_to_new_id_map[old_id] in eligible_id_map_dict:\n",
    "        print(f\"replacing {old_id}:{old_to_new_id_map[old_id]} -->{eligible_id_map_dict[old_to_new_id_map[old_id]]}\")\n",
    "        old_to_new_id_map[old_id] = eligible_id_map_dict[old_to_new_id_map[old_id]]\n",
    "# sprint({kr:old_to_new_id_map[kr] for kr in old_to_new_id_map if (not old_to_new_id_map[kr]==10000)}) \n"
   ]
  },
  {
   "cell_type": "code",
   "execution_count": null,
   "id": "0f743b37-5b6a-459a-bc9f-5efd8c180aeb",
   "metadata": {},
   "outputs": [],
   "source": [
    "# map processed ids to tracking df\n",
    "df_tracking_new = pickle.load(open(session_tracking_cache_file,\"rb\")).transpose()\n",
    "total_idxs = df_tracking_new.index.max()\n",
    "for old_id in old_to_new_id_map:\n",
    "    new_id = old_to_new_id_map[old_id]\n",
    "    if not new_id==10000:\n",
    "        new_id_col = f'N{new_id}'\n",
    "        if new_id_col not in df_tracking_new:\n",
    "            df_tracking_new[new_id_col] = None\n",
    "        df_tracking_new[new_id_col] =  df_tracking_new[new_id_col].where(~df_tracking_new[new_id_col].isnull(), df_tracking_new[old_id])\n",
    "    df_tracking_new = df_tracking_new.drop(old_id, axis=1)\n",
    "\n",
    "\n"
   ]
  },
  {
   "cell_type": "code",
   "execution_count": null,
   "id": "bc8165d9-cec8-4ab0-9882-f7280f49bc60",
   "metadata": {},
   "outputs": [],
   "source": [
    "col_start_stop_idxs = []\n",
    "for col in df_tracking_new.columns:\n",
    "    one_idxs = df_tracking_new.index[np.where(df_tracking_new[col]==1)[0]].values\n",
    "    col_start_stop_idxs.append([col, one_idxs.min(), one_idxs.max()])\n",
    "df_id_start_stop = pd.DataFrame(col_start_stop_idxs, columns=['id','min_idx','max_idx'])\n",
    "df_id_start_stop['total_idxs'] = df_id_start_stop['max_idx']-df_id_start_stop['min_idx']\n",
    "df_id_start_stop['id'] = df_id_start_stop['id'].apply(lambda x: int(x[1:]))\n",
    "df_id_start_stop\n"
   ]
  },
  {
   "cell_type": "code",
   "execution_count": null,
   "id": "f11afde2-5a4f-4dc3-8458-df6a487b6445",
   "metadata": {},
   "outputs": [],
   "source": [
    "_ = plt.figure(figsize=(20,15))\n",
    "for row_idx, row in df_id_start_stop.iterrows():\n",
    "    plt.axhline(y=row_idx, xmin=row['min_idx']/total_idxs,xmax=row['max_idx']/total_idxs)\n",
    "plt.yticks(range(df_id_start_stop.shape[0]), range(df_id_start_stop.shape[0]))\n",
    "plt.grid() \n"
   ]
  },
  {
   "cell_type": "code",
   "execution_count": null,
   "id": "c761b98b-4952-4b72-a961-a0205e62eb74",
   "metadata": {
    "scrolled": true
   },
   "outputs": [],
   "source": [
    "session_frames = df_tracking_new.index.values.tolist()\n",
    "session_ids_covered = []\n",
    "selected_frames = []\n",
    "segments = []\n",
    "segment_half_size = 50\n",
    "for row_idx, row in df_id_start_stop.sort_values(by='total_idxs').iterrows():\n",
    "    id_start, id_stop = row['min_idx'],row['max_idx']\n",
    "    seg_mid = (id_start+id_stop)/2\n",
    "    seg_start, seg_end = max(seg_mid-segment_half_size, 0), min(seg_mid+segment_half_size, total_idxs)\n",
    "    is_id_covered = df_id_start_stop.apply(lambda row: (seg_end<=row['max_idx']) & (seg_start>=row['min_idx']),axis=1)\n",
    "    seg_ids_covered = df_id_start_stop[is_id_covered]['id']\n",
    "    new_ids_covered = [xr for xr in seg_ids_covered if xr not in session_ids_covered]\n",
    "    if len(new_ids_covered)>0:        \n",
    "        segment_frames = [xr for xr in session_frames if ((xr>=seg_start) and (xr<=seg_end))]\n",
    "        selected_frames+=segment_frames\n",
    "        segments.append((seg_start, seg_end, new_ids_covered, segment_frames))\n",
    "        session_ids_covered+=new_ids_covered\n",
    "\n",
    "sprint(segments)\n",
    "    \n",
    "    \n"
   ]
  },
  {
   "cell_type": "code",
   "execution_count": null,
   "id": "b5862216-1fda-4acf-bec5-0b172324b141",
   "metadata": {},
   "outputs": [],
   "source": [
    "SOURCE_ROOT = '/home/prasoon/video_analysis/edusenseV2compute/compute/videoV3'\n",
    "run_config = {\n",
    "    'track_config':f'{SOURCE_ROOT}/configs/mmlab/ocsort_yolox_x_crowdhuman_mot17-private-half.py',\n",
    "    'track_checkpoint':f'{SOURCE_ROOT}/models/mmlab/ocsort_yolox_x_crowdhuman_mot17-private-half_20220813_101618-fe150582.pth',\n",
    "    'device':'cuda:1',\n",
    "}\n"
   ]
  },
  {
   "cell_type": "code",
   "execution_count": null,
   "id": "3cbb5166-9f2e-4bcb-a20c-11c9a1dc32ed",
   "metadata": {
    "scrolled": true
   },
   "outputs": [],
   "source": [
    "# for given frame ranges get video frames and tracking results\n",
    "all_frames = mmcv.VideoReader(session_video_file)\n",
    "\n",
    "required_frame_ids = np.unique(sorted(selected_frames))\n",
    "frame_data_dict = {}\n",
    "\n",
    "for frame_idx, frame_img in enumerate(all_frames):\n",
    "    if (frame_idx in required_frame_ids) & (frame_idx%3==0):\n",
    "        frame_data_dict[frame_idx] = frame_img\n",
    "    if frame_idx%10000==0:\n",
    "        print(f\"Looped {frame_idx} images\")\n"
   ]
  },
  {
   "cell_type": "code",
   "execution_count": null,
   "id": "5a526af9-06a8-4db5-afb3-b201226b3e30",
   "metadata": {},
   "outputs": [],
   "source": [
    "reid_extractor = REIDFeatureExtractor(model_name='osnet_x1_0',device='cuda')\n"
   ]
  },
  {
   "cell_type": "code",
   "execution_count": null,
   "id": "7cc5d84c-11ae-4dbd-927f-bdc42e638de4",
   "metadata": {
    "scrolled": true
   },
   "outputs": [],
   "source": [
    "frames_with_reids = {}\n",
    "for seg_idx, (seg_start, seg_end, new_ids_covered, segment_frames) in enumerate(segments):\n",
    "    frame_num=0\n",
    "    for frame_idx in segment_frames:\n",
    "        frame_tracking_file = f\"{session_frame_dir}/{frame_idx}.pb\"\n",
    "        if os.path.exists(frame_tracking_file) and (frame_idx in frame_data_dict):\n",
    "            frame_num+=1\n",
    "            frame_results = pickle.load(open(frame_tracking_file,\"rb\"))[1]\n",
    "            for person_idx in range(len(frame_results)):\n",
    "                old_id= int(frame_results[person_idx]['track_id'])\n",
    "                frame_results[person_idx]['track_id'] =old_to_new_id_map[old_id]\n",
    "            frame_img = deepcopy(frame_data_dict[frame_idx])\n",
    "\n",
    "            if frame_results is not None:\n",
    "                # face_results = deepcopy(frame_results)\n",
    "                body_count = len(frame_results)\n",
    "                body_frames = []\n",
    "                body_indexes = []\n",
    "                for body_index, tracking_info in enumerate(frame_results):\n",
    "                    if type(tracking_info) == dict:\n",
    "                        body_bbox = tracking_info['bbox']\n",
    "                        X_TL, Y_TL, X_BR, Y_BR = body_bbox[:4].astype(int)\n",
    "                        if ((Y_BR - Y_TL) < 5) | ((X_BR - X_TL) < 5):\n",
    "                            print(\"Very small body space found, not running face detection...\")\n",
    "                            continue\n",
    "                        if (X_TL<0) | (Y_TL<0) | (X_BR<0) | (Y_BR<0):\n",
    "                            print(frame_idx, body_index, Y_TL,Y_BR, X_TL,X_BR, body_frame.shape)\n",
    "                            print(\"Negative boundaries for bounding boxes, skipping...\")\n",
    "                            continue\n",
    "    \n",
    "                        body_frame = frame_img[Y_TL:Y_BR, X_TL:X_BR, :]\n",
    "                        body_frames.append(body_frame)\n",
    "                        body_indexes.append(body_index)\n",
    "                        \n",
    "                \n",
    "                body_reid_features = reid_extractor(body_frames)\n",
    "                for body_index, body_reid_embedding in zip(body_indexes, body_reid_features):\n",
    "                    frame_results[body_index].update({\n",
    "                        'reid_features': body_reid_embedding.detach().cpu().numpy()\n",
    "                    })\n",
    "                frames_with_reids[frame_idx] = deepcopy(frame_results)\n",
    "                \n",
    "    print(f\"Done for segment {seg_idx}\")\n",
    "    # break\n",
    "    \n",
    "    "
   ]
  },
  {
   "cell_type": "code",
   "execution_count": null,
   "id": "c3eecb2a-d81d-485f-9425-89a225209185",
   "metadata": {
    "scrolled": true
   },
   "outputs": [],
   "source": [
    "frames_with_reids[44274][0]['reid_features'].shape\n"
   ]
  },
  {
   "cell_type": "code",
   "execution_count": null,
   "id": "44a1df4f-343f-4b2e-a418-6438d44d7c83",
   "metadata": {},
   "outputs": [],
   "source": [
    "session_results.keys(), sample_session_id\n"
   ]
  },
  {
   "cell_type": "code",
   "execution_count": null,
   "id": "28110711-78c8-4cd4-aeee-29a3635a8964",
   "metadata": {},
   "outputs": [],
   "source": [
    "session_results[sample_session_id]  = deepcopy(frames_with_reids)\n"
   ]
  },
  {
   "cell_type": "code",
   "execution_count": null,
   "id": "d3ec538d-d692-422d-a5b4-f949a23a39a2",
   "metadata": {
    "scrolled": true
   },
   "outputs": [],
   "source": [
    "# extract information at track_id level\n",
    "session_id_oriented_results = {}\n",
    "for session_id in session_results:\n",
    "    reid_info = {}\n",
    "    for frame_number in session_results[session_id]:\n",
    "        for person in session_results[session_id][frame_number]:\n",
    "            trackId = person['track_id']\n",
    "            if trackId not in reid_info:\n",
    "                reid_info[trackId] = []\n",
    "            # get  gaze info\n",
    "            try:\n",
    "                person_reid = person['reid_features']\n",
    "                reid_info[trackId].append([frame_number]+list(person_reid))\n",
    "            except:\n",
    "                print(\"reid not found\",frame_number, trackId)\n",
    "                continue\n",
    "    \n",
    "    for id in reid_info:\n",
    "        reid_info[id] =pd.DataFrame(reid_info[id], columns=['frame']+np.arange(512).tolist()).set_index('frame')\n",
    "    session_id_oriented_results[session_id]= deepcopy(reid_info)\n"
   ]
  },
  {
   "cell_type": "code",
   "execution_count": null,
   "id": "36f9a91a-a1e4-44bc-83db-27b366c9e57d",
   "metadata": {},
   "outputs": [],
   "source": [
    "session_id_oriented_results.keys()\n"
   ]
  },
  {
   "cell_type": "code",
   "execution_count": null,
   "id": "fbdac6ef-a055-4bc0-818c-9f88366b8888",
   "metadata": {},
   "outputs": [],
   "source": [
    "CLU_EPS = 15\n",
    "CLU_MIN_PTS = 50\n",
    "cluster_based_embA = {}\n",
    "sessionA = 'classinsight-cmu_17214B_ph_a21_201904241030-front'\n",
    "emb_info = session_id_oriented_results[sessionA]\n",
    "for sid in session_id_oriented_results[sessionA]:\n",
    "    emb_clu = DBSCAN(min_samples=CLU_MIN_PTS, eps=CLU_EPS)\n",
    "    try:\n",
    "        if emb_info[sid].shape[0]>25000:\n",
    "            emb_clu.fit(emb_info[sid].sample(25000).values)    \n",
    "        else:\n",
    "            emb_clu.fit(emb_info[sid].values)\n",
    "    except:\n",
    "        emb_clu=None\n",
    "    if (emb_clu is None) or (max(emb_clu.labels_)<0):\n",
    "        sprint(f\"All frames are outliers, not proceeding with id {sid}\")\n",
    "        continue\n",
    "    best_cluster_id = pd.Series(emb_clu.labels_[emb_clu.labels_>=0]).value_counts().index[0]\n",
    "    frames = emb_info[sid].iloc[emb_clu.labels_==best_cluster_id].index.values\n",
    "    cluster_based_embA[sid] = np.median(emb_info[sid].loc[frames],axis=0)\n",
    "    sprint(f\"Got cluster embedding for {sid}\")\n"
   ]
  },
  {
   "cell_type": "code",
   "execution_count": null,
   "id": "9d5ad791-e83d-4910-8e09-019ed9217ba9",
   "metadata": {},
   "outputs": [],
   "source": [
    "CLU_EPS = 15\n",
    "CLU_MIN_PTS = 50\n",
    "cluster_based_embB = {}\n",
    "sessionB = 'classinsight-cmu_17214B_ph_a21_201902271030-front'\n",
    "emb_info = session_id_oriented_results[sessionB]\n",
    "for sid in session_id_oriented_results[sessionB]:\n",
    "    emb_clu = DBSCAN(min_samples=CLU_MIN_PTS, eps=CLU_EPS)\n",
    "    try:\n",
    "        if emb_info[sid].shape[0]>25000:\n",
    "            emb_clu.fit(emb_info[sid].sample(25000).values)    \n",
    "        else:\n",
    "            emb_clu.fit(emb_info[sid].values)\n",
    "    except:\n",
    "        emb_clu=None\n",
    "    if (emb_clu is None) or (max(emb_clu.labels_)<0):\n",
    "        sprint(f\"All frames are outliers, not proceeding with id {sid}\")\n",
    "        continue\n",
    "    best_cluster_id = pd.Series(emb_clu.labels_[emb_clu.labels_>=0]).value_counts().index[0]\n",
    "    frames = emb_info[sid].iloc[emb_clu.labels_==best_cluster_id].index.values\n",
    "    cluster_based_embB[sid] = np.median(emb_info[sid].loc[frames],axis=0)\n",
    "    sprint(f\"Got cluster embedding for {sid}\")\n"
   ]
  },
  {
   "cell_type": "code",
   "execution_count": null,
   "id": "6e7b3ba9-2420-4a45-ab78-0c1e37627eb2",
   "metadata": {},
   "outputs": [],
   "source": [
    "session_cluster_emb={\n",
    "    sessionA:deepcopy(cluster_based_embA),\n",
    "    sessionB:deepcopy(cluster_based_embB),\n",
    "}\n"
   ]
  },
  {
   "cell_type": "code",
   "execution_count": null,
   "id": "6bb3f191-bf4d-4764-a2b6-2881d484d53c",
   "metadata": {},
   "outputs": [],
   "source": [
    "# find matches\n",
    "\n",
    "final_matches = []\n",
    "for (sessionA, sessionB) in product(list(session_id_oriented_results.keys()), list(session_id_oriented_results.keys())):\n",
    "    sessionA_key, sessionB_key = sessionA.split(\"_\")[-1][4:8], sessionB.split(\"_\")[-1][4:8]\n",
    "    if not (sessionA==sessionB):\n",
    "        # if sessionA not in session_matches:\n",
    "        # match session A and session B based on gaze clustering\n",
    "        match_scores_reid = {}\n",
    "        for idA,idB in product(session_cluster_emb[sessionA].keys(), session_cluster_emb[sessionB].keys()):\n",
    "            clu_embA, clu_embB = session_cluster_emb[sessionA][idA], session_cluster_emb[sessionB][idB]\n",
    "            if (idA==10000) | (idB==10000):\n",
    "                continue\n",
    "            if idA not in match_scores_reid:\n",
    "                match_scores_reid[idA] = {}\n",
    "                \n",
    "            if clu_embA is None or clu_embB is None:\n",
    "                match_scores_reid[idA][idB] = np.inf\n",
    "            else:\n",
    "                match_distance = cdist(clu_embA.reshape(1,-1), clu_embB.reshape(1,-1))[0][0]\n",
    "                match_scores_reid[idA][idB] = match_distance\n",
    "        \n",
    "        df_match_clu = pd.DataFrame(match_scores_reid) \n",
    "        for col in df_match_clu.columns:\n",
    "            if col not in df_match_clu.columns:\n",
    "                df_match_clu[col] = np.inf\n",
    "            sessionB_matches = deepcopy(df_match_clu[col]).sort_values().head(3).index.values.tolist()\n",
    "            for match_id in sessionB_matches:\n",
    "                final_matches.append((sessionA_key, sessionB_key, f'{sessionA_key}_{col}', f'{sessionB_key}_{match_id}', match_scores_reid[col][match_id]))\n",
    "\n",
    "df_final_matches = pd.DataFrame(final_matches, columns=['sessionA','sessionB','idA','idB','match_score_reid'])\n"
   ]
  },
  {
   "cell_type": "code",
   "execution_count": null,
   "id": "7988d36f-4477-4b04-9e4d-6c6ce6d71821",
   "metadata": {},
   "outputs": [],
   "source": [
    "df_final_matches.head(30)\n"
   ]
  },
  {
   "cell_type": "code",
   "execution_count": null,
   "id": "7d22fed9-ad71-4849-884c-8f067a74b971",
   "metadata": {},
   "outputs": [],
   "source": [
    "df_final_matches.head(30)\n"
   ]
  },
  {
   "cell_type": "code",
   "execution_count": null,
   "id": "5c4a691e-0df8-498b-ad8b-b7973b6c0a1b",
   "metadata": {},
   "outputs": [],
   "source": []
  },
  {
   "cell_type": "code",
   "execution_count": null,
   "id": "c08a1668-8a62-422c-a369-b894b9c4eca9",
   "metadata": {},
   "outputs": [],
   "source": []
  },
  {
   "cell_type": "code",
   "execution_count": null,
   "id": "24b07756-f09c-481b-9d2c-0c7e3e20d82e",
   "metadata": {},
   "outputs": [],
   "source": []
  },
  {
   "cell_type": "code",
   "execution_count": null,
   "id": "62edd53a-1e27-4b0d-ab81-43b754c5331b",
   "metadata": {},
   "outputs": [],
   "source": []
  },
  {
   "cell_type": "code",
   "execution_count": null,
   "id": "c8c71882-2033-4b21-9167-9ae5ace50850",
   "metadata": {},
   "outputs": [],
   "source": []
  },
  {
   "cell_type": "code",
   "execution_count": null,
   "id": "8c2b8529-8988-4b85-aca4-5cbb7ee2df96",
   "metadata": {},
   "outputs": [],
   "source": [
    "distance_matrix = cdist(emb_info[11].values,emb_info[11].values)\n"
   ]
  },
  {
   "cell_type": "code",
   "execution_count": null,
   "id": "2a6579ac-717c-49b2-a25c-bc6450fc2197",
   "metadata": {},
   "outputs": [],
   "source": [
    "distance_matrix.shape\n"
   ]
  },
  {
   "cell_type": "code",
   "execution_count": null,
   "id": "a3bb268a-0d0a-4324-b71a-4c2b85d86bbb",
   "metadata": {},
   "outputs": [],
   "source": [
    "sns.heatmap(distance_matrix)\n"
   ]
  },
  {
   "cell_type": "code",
   "execution_count": null,
   "id": "1d9108c4-6162-42af-a7cf-9ef6adf33d3d",
   "metadata": {},
   "outputs": [],
   "source": []
  }
 ],
 "metadata": {
  "kernelspec": {
   "display_name": "Python 3 (ipykernel)",
   "language": "python",
   "name": "python3"
  },
  "language_info": {
   "codemirror_mode": {
    "name": "ipython",
    "version": 3
   },
   "file_extension": ".py",
   "mimetype": "text/x-python",
   "name": "python",
   "nbconvert_exporter": "python",
   "pygments_lexer": "ipython3",
   "version": "3.9.16"
  }
 },
 "nbformat": 4,
 "nbformat_minor": 5
}
